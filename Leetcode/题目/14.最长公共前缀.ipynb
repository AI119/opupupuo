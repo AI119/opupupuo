{
 "cells": [
  {
   "cell_type": "code",
   "execution_count": 2,
   "metadata": {
    "collapsed": true,
    "ExecuteTime": {
     "start_time": "2023-04-26T20:03:20.886603Z",
     "end_time": "2023-04-26T20:03:20.918148Z"
    }
   },
   "outputs": [
    {
     "data": {
      "text/plain": "6"
     },
     "execution_count": 2,
     "metadata": {},
     "output_type": "execute_result"
    }
   ],
   "source": [
    "strs = [\"flower\", \"flow\", \"flight\"]\n",
    "len(strs[0])"
   ]
  },
  {
   "cell_type": "code",
   "execution_count": 16,
   "outputs": [
    {
     "name": "stdout",
     "output_type": "stream",
     "text": [
      "前缀为fl\n"
     ]
    }
   ],
   "source": [
    "#优化前\n",
    "strs = [\"flower\", \"flow\", \"flight\", \"flowww\"]\n",
    "if len(strs) == 0:\n",
    "    print(strs)\n",
    "l = 0\n",
    "zimu = set()\n",
    "\n",
    "while l < len(strs):\n",
    "    if l == 0:\n",
    "        for i in range(len(strs[l])):\n",
    "            zimu.add(strs[l][i])\n",
    "\n",
    "    if l > 0:\n",
    "        for i_1 in range(len(strs[l])):\n",
    "            if strs[l][i_1] in zimu:\n",
    "                continue\n",
    "            else:\n",
    "                x = strs[l][:i_1]\n",
    "                print(f'前缀为{x}')\n",
    "                break\n",
    "    l += 1"
   ],
   "metadata": {
    "collapsed": false,
    "ExecuteTime": {
     "start_time": "2023-04-27T10:52:46.351239Z",
     "end_time": "2023-04-27T10:52:46.369192Z"
    }
   }
  },
  {
   "cell_type": "code",
   "execution_count": 27,
   "outputs": [
    {
     "name": "stdout",
     "output_type": "stream",
     "text": [
      "flowerflowflight"
     ]
    }
   ],
   "source": [
    "strs = [\"flower\", \"flow\", \"flight\"]\n",
    "x = 0\n",
    "for i in range(len(strs)):\n",
    "    if strs[i][x] == strs[i + 1][x + 1]:\n",
    "        pass"
   ],
   "metadata": {
    "collapsed": false,
    "ExecuteTime": {
     "start_time": "2023-04-26T20:23:44.455029Z",
     "end_time": "2023-04-26T20:23:44.470104Z"
    }
   }
  },
  {
   "cell_type": "code",
   "execution_count": 48,
   "outputs": [
    {
     "name": "stdout",
     "output_type": "stream",
     "text": [
      "\n",
      "\n"
     ]
    }
   ],
   "source": [
    "#ai的思路\n",
    "strs = [\"dog\",\"racecar\",\"car\"]\n",
    "if len(strs) == 0:\n",
    "    print(\"\")\n",
    "else:\n",
    "    prefix = strs[0]\n",
    "    for s in strs[1:]:\n",
    "        while s[:len(prefix)] != prefix:\n",
    "            prefix = prefix[:len(prefix) - 1]\n",
    "            if not prefix:\n",
    "                print(\"\")\n",
    "                break\n",
    "    else:\n",
    "        print(prefix)"
   ],
   "metadata": {
    "collapsed": false,
    "ExecuteTime": {
     "start_time": "2023-04-27T14:51:23.982326Z",
     "end_time": "2023-04-27T14:51:24.017267Z"
    }
   }
  },
  {
   "cell_type": "code",
   "execution_count": 45,
   "outputs": [
    {
     "name": "stdout",
     "output_type": "stream",
     "text": [
      "c\n"
     ]
    }
   ],
   "source": [
    "#第一次优化\n",
    "strs = [\"dog\",\"racecar\",\"car\"]\n",
    "if len(strs) == 0:\n",
    "    print(\"\")\n",
    "l = 0\n",
    "zimu = ''\n",
    "\n",
    "while l < len(strs):\n",
    "    if l == 0:\n",
    "        zimu = strs[l]\n",
    "\n",
    "    if l > 0:\n",
    "        for i in strs[1:]:\n",
    "            while i[:len(zimu)] != zimu:\n",
    "                zimu = i[:len(zimu)-1]\n",
    "                if zimu is None:\n",
    "                    print(\"\")\n",
    "                if zimu == \"\":\n",
    "                    print(\"\")\n",
    "        print(zimu)\n",
    "        break\n",
    "\n",
    "    l += 1"
   ],
   "metadata": {
    "collapsed": false,
    "ExecuteTime": {
     "start_time": "2023-04-27T14:49:45.306107Z",
     "end_time": "2023-04-27T14:49:45.343725Z"
    }
   }
  },
  {
   "cell_type": "code",
   "execution_count": 49,
   "outputs": [
    {
     "name": "stdout",
     "output_type": "stream",
     "text": [
      "1\n"
     ]
    }
   ],
   "source": [],
   "metadata": {
    "collapsed": false,
    "ExecuteTime": {
     "start_time": "2023-04-27T14:55:29.836000Z",
     "end_time": "2023-04-27T14:55:29.858938Z"
    }
   }
  }
 ],
 "metadata": {
  "kernelspec": {
   "display_name": "Python 3",
   "language": "python",
   "name": "python3"
  },
  "language_info": {
   "codemirror_mode": {
    "name": "ipython",
    "version": 2
   },
   "file_extension": ".py",
   "mimetype": "text/x-python",
   "name": "python",
   "nbconvert_exporter": "python",
   "pygments_lexer": "ipython2",
   "version": "2.7.6"
  }
 },
 "nbformat": 4,
 "nbformat_minor": 0
}
