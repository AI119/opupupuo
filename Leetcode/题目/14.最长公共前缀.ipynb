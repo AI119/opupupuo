{
 "cells": [
  {
   "cell_type": "code",
   "execution_count": 2,
   "metadata": {
    "collapsed": true,
    "ExecuteTime": {
     "start_time": "2023-04-26T20:03:20.886603Z",
     "end_time": "2023-04-26T20:03:20.918148Z"
    }
   },
   "outputs": [
    {
     "data": {
      "text/plain": "6"
     },
     "execution_count": 2,
     "metadata": {},
     "output_type": "execute_result"
    }
   ],
   "source": [
    "strs = [\"flower\",\"flow\",\"flight\"]\n",
    "len(strs[0])"
   ]
  },
  {
   "cell_type": "code",
   "execution_count": 19,
   "outputs": [
    {
     "data": {
      "text/plain": "['f', 'l', 'o', 'w', 'f', 'l']"
     },
     "execution_count": 19,
     "metadata": {},
     "output_type": "execute_result"
    }
   ],
   "source": [
    "strs = [\"flower\",\"flow\",\"flight\"]\n",
    "l = 0\n",
    "zimu = set()\n",
    "qianzhui = list()\n",
    "while l < len(strs):\n",
    "    if l == 0:\n",
    "        for i in range(len(strs[l])):\n",
    "            zimu.add(strs[l][i])\n",
    "\n",
    "    if l > 0:\n",
    "        for i_1 in range(len(strs[l])):\n",
    "            if strs[l][i_1] in zimu:\n",
    "                qianzhui.append(strs[l][i_1])\n",
    "            else:\n",
    "                continue\n",
    "\n",
    "            pass\n",
    "        pass\n",
    "\n",
    "\n",
    "    l += 1\n",
    "    pass\n",
    "qianzhui"
   ],
   "metadata": {
    "collapsed": false,
    "ExecuteTime": {
     "start_time": "2023-04-26T20:19:21.360158Z",
     "end_time": "2023-04-26T20:19:21.411667Z"
    }
   }
  },
  {
   "cell_type": "code",
   "execution_count": 13,
   "outputs": [
    {
     "data": {
      "text/plain": "False"
     },
     "execution_count": 13,
     "metadata": {},
     "output_type": "execute_result"
    }
   ],
   "source": [
    "'x' in zimu"
   ],
   "metadata": {
    "collapsed": false,
    "ExecuteTime": {
     "start_time": "2023-04-26T20:12:34.289894Z",
     "end_time": "2023-04-26T20:12:34.311871Z"
    }
   }
  },
  {
   "cell_type": "code",
   "execution_count": 27,
   "outputs": [
    {
     "name": "stdout",
     "output_type": "stream",
     "text": [
      "flowerflowflight"
     ]
    }
   ],
   "source": [
    "strs = [\"flower\",\"flow\",\"flight\"]\n",
    "x = 0\n",
    "for i in range(len(strs)):\n",
    "    if strs[i][x]=="
   ],
   "metadata": {
    "collapsed": false,
    "ExecuteTime": {
     "start_time": "2023-04-26T20:23:44.455029Z",
     "end_time": "2023-04-26T20:23:44.470104Z"
    }
   }
  }
 ],
 "metadata": {
  "kernelspec": {
   "display_name": "Python 3",
   "language": "python",
   "name": "python3"
  },
  "language_info": {
   "codemirror_mode": {
    "name": "ipython",
    "version": 2
   },
   "file_extension": ".py",
   "mimetype": "text/x-python",
   "name": "python",
   "nbconvert_exporter": "python",
   "pygments_lexer": "ipython2",
   "version": "2.7.6"
  }
 },
 "nbformat": 4,
 "nbformat_minor": 0
}
