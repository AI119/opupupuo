{
 "cells": [
  {
   "cell_type": "markdown",
   "source": [
    "A、B、C、D、E 五人在某天夜里合伙去捕鱼，到第二天凌晨时都疲惫不堪，于是各自找地方睡觉。\n",
    "\n",
    "日上三杆，A 第一个醒来，他将鱼分为五份，把多余的一条鱼扔掉，拿走自己的一份。\n",
    "\n",
    "B 第二个醒来，也将鱼分为五份，把多余的一条鱼扔掉拿走自己的一份。 。\n",
    "\n",
    "C、D、E依次醒来，也按同样的方法拿鱼。\n",
    "\n",
    "问他们至少捕了多少条鱼?"
   ],
   "metadata": {
    "collapsed": false
   }
  },
  {
   "cell_type": "markdown",
   "source": [],
   "metadata": {
    "collapsed": false
   }
  },
  {
   "cell_type": "code",
   "execution_count": 2,
   "metadata": {
    "collapsed": true,
    "ExecuteTime": {
     "start_time": "2023-05-02T12:25:48.424257Z",
     "end_time": "2023-05-02T12:25:48.432235Z"
    }
   },
   "outputs": [
    {
     "name": "stdout",
     "output_type": "stream",
     "text": [
      "3121\n"
     ]
    }
   ],
   "source": [
    "fish = 1\n",
    "while True:\n",
    "    x,enough = fish,True\n",
    "    \"\"\"\n",
    "    下面for循环是一个判定：\n",
    "    每次执行循环时都会判定x(也就是鱼的总数)，是否满足x在整除5的情况下，还能满足被剩下4个人每人丢一条然后平均分成5份的条件\n",
    "    上述条件不满足时，enough始终都会被赋一个False\n",
    "    \"\"\"\n",
    "    for men in range(5):\n",
    "        if (x-1) % 5 == 0:\n",
    "            x = (x-1) // 5 * 4\n",
    "        else:\n",
    "            enough = False\n",
    "            break\n",
    "    \"\"\"\n",
    "    直到enough被赋值为True时，输出这个数\n",
    "    \"\"\"\n",
    "    if enough:\n",
    "        print(fish)\n",
    "        break\n",
    "    fish += 1"
   ]
  },
  {
   "cell_type": "code",
   "execution_count": 9,
   "outputs": [
    {
     "name": "stdout",
     "output_type": "stream",
     "text": [
      "-10\n",
      "-9\n",
      "-8\n",
      "-7\n",
      "-6\n",
      "-5\n",
      "-4\n",
      "-3\n",
      "-2\n",
      "-1\n"
     ]
    }
   ],
   "source": [],
   "metadata": {
    "collapsed": false,
    "ExecuteTime": {
     "start_time": "2023-05-02T15:51:48.180502Z",
     "end_time": "2023-05-02T15:51:48.201936Z"
    }
   }
  }
 ],
 "metadata": {
  "kernelspec": {
   "display_name": "Python 3",
   "language": "python",
   "name": "python3"
  },
  "language_info": {
   "codemirror_mode": {
    "name": "ipython",
    "version": 2
   },
   "file_extension": ".py",
   "mimetype": "text/x-python",
   "name": "python",
   "nbconvert_exporter": "python",
   "pygments_lexer": "ipython2",
   "version": "2.7.6"
  }
 },
 "nbformat": 4,
 "nbformat_minor": 0
}
