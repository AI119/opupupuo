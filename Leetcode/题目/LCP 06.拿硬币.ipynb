{
 "cells": [
  {
   "cell_type": "markdown",
   "source": [
    "## 拿硬币\n",
    "桌上有 n 堆力扣币，每堆的数量保存在数组 coins 中。我们每次可以选择任意一堆，拿走其中的一枚或者两枚，求拿完所有力扣币的最少次数。\n",
    "\n",
    "示例 1：\n",
    "\n",
    "输入：[4,2,1]\n",
    "\n",
    "输出：4\n",
    "\n",
    "解释：第一堆力扣币最少需要拿 2 次，第二堆最少需要拿 1 次，第三堆最少需要拿 1 次，总共 4 次即可拿完。\n",
    "\n",
    "示例 2：\n",
    "\n",
    "输入：[2,3,10]\n",
    "\n",
    "输出：8\n",
    "\n",
    "限制：\n",
    "\n",
    "1 <= n <= 4\n",
    "1 <= coins[i] <= 10\n",
    "\n",
    "来源：力扣（LeetCode）\n",
    "链接：https://leetcode.cn/problems/na-ying-bi\n",
    "著作权归领扣网络所有。商业转载请联系官方授权，非商业转载请注明出处。"
   ],
   "metadata": {
    "collapsed": false
   }
  },
  {
   "cell_type": "code",
   "execution_count": 1,
   "metadata": {
    "collapsed": true,
    "ExecuteTime": {
     "start_time": "2023-04-25T19:26:59.049154Z",
     "end_time": "2023-04-25T19:26:59.069861Z"
    }
   },
   "outputs": [
    {
     "name": "stdout",
     "output_type": "stream",
     "text": [
      "14.0\n"
     ]
    }
   ],
   "source": [
    "coins = [13, 5, 4, 3]\n",
    "count = 0\n",
    "for i in coins:\n",
    "    if i % 2 == 0:\n",
    "        count = count + (i / 2)\n",
    "    elif i % 2 != 0:\n",
    "        i = i + 1\n",
    "        count = count + (i / 2)\n",
    "print(count)\n"
   ]
  }
 ],
 "metadata": {
  "kernelspec": {
   "display_name": "Python 3",
   "language": "python",
   "name": "python3"
  },
  "language_info": {
   "codemirror_mode": {
    "name": "ipython",
    "version": 2
   },
   "file_extension": ".py",
   "mimetype": "text/x-python",
   "name": "python",
   "nbconvert_exporter": "python",
   "pygments_lexer": "ipython2",
   "version": "2.7.6"
  }
 },
 "nbformat": 4,
 "nbformat_minor": 0
}
