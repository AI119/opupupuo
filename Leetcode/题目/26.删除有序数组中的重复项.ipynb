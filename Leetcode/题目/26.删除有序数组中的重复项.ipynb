{
 "cells": [
  {
   "cell_type": "markdown",
   "source": [
    "给你一个 升序排列 的数组 nums ，请你 原地 删除重复出现的元素，使每个元素 只出现一次 ，返回删除后数组的新长度。元素的 相对顺序 应该保持 一致 。然后返回 nums 中唯一元素的个数。\n",
    "\n",
    "考虑 nums 的唯一元素的数量为 k ，你需要做以下事情确保你的题解可以被通过：\n",
    "\n",
    "更改数组 nums ，使 nums 的前 k 个元素包含唯一元素，并按照它们最初在 nums 中出现的顺序排列。nums 的其余元素与 nums 的大小不重要。\n",
    "返回 k 。\n",
    "\n",
    "来源：力扣（LeetCode）\n",
    "链接：https://leetcode.cn/problems/remove-duplicates-from-sorted-array\n",
    "著作权归领扣网络所有。商业转载请联系官方授权，非商业转载请注明出处。"
   ],
   "metadata": {
    "collapsed": false
   }
  },
  {
   "cell_type": "code",
   "execution_count": 6,
   "outputs": [
    {
     "name": "stdout",
     "output_type": "stream",
     "text": [
      "[1, 2, 3, 4, 5, 6, 4, 5, 5, 6]\n"
     ]
    }
   ],
   "source": [
    "#不符合解题要求\n",
    "nums = [1,2,2,3,3,4,4,5,5,6]\n",
    "num_n = []\n",
    "for i in nums:\n",
    "    if i not in num_n:\n",
    "        num_n.append(i)\n",
    "    else:\n",
    "        continue\n",
    "        # nums.append(2)\n",
    "# num_n\n",
    "for i in range(len(num_n)):\n",
    "    nums[i] = num_n[i]\n",
    "\n",
    "print(nums)\n",
    "\n"
   ],
   "metadata": {
    "collapsed": false,
    "ExecuteTime": {
     "start_time": "2023-04-25T10:11:30.479295Z",
     "end_time": "2023-04-25T10:11:30.510662Z"
    }
   }
  },
  {
   "cell_type": "code",
   "execution_count": 33,
   "outputs": [
    {
     "data": {
      "text/plain": "9"
     },
     "execution_count": 33,
     "metadata": {},
     "output_type": "execute_result"
    }
   ],
   "source": [
    "#答案\n",
    "nums = [1,2,2,3,3,4,4,5,5,6]\n",
    "# nums = [1,2,3,4,5,6,7,8,9]\n",
    "l = 0\n",
    "for r in range(len(nums)):\n",
    "    if nums[r] == nums[l]:\n",
    "        continue\n",
    "    l += 1\n",
    "    nums[l] = nums[r]\n"
   ],
   "metadata": {
    "collapsed": false,
    "ExecuteTime": {
     "start_time": "2023-04-25T11:35:50.891792Z",
     "end_time": "2023-04-25T11:35:50.925955Z"
    }
   }
  },
  {
   "cell_type": "code",
   "execution_count": 26,
   "outputs": [
    {
     "name": "stdout",
     "output_type": "stream",
     "text": [
      "[1, 2, 3, 4, 5, 6, 4, 5, 6, 6]\n"
     ]
    }
   ],
   "source": [
    "#答案2\n",
    "slow, fast = 0, 1\n",
    "while fast < len(nums):\n",
    "    if nums[fast] != nums[slow]:\n",
    "        slow = slow + 1\n",
    "        nums[slow] = nums[fast]\n",
    "    fast = fast + 1\n",
    "print(nums)\n"
   ],
   "metadata": {
    "collapsed": false,
    "ExecuteTime": {
     "start_time": "2023-04-25T11:18:16.636105Z",
     "end_time": "2023-04-25T11:18:16.651727Z"
    }
   }
  },
  {
   "cell_type": "code",
   "execution_count": 47,
   "outputs": [],
   "source": [
    "#我的\n",
    "nums = [1,2,2,3,3,4,4,5,5,6]\n",
    "l = 0\n",
    "r = 1\n",
    "while r < len(nums):\n",
    "    if nums[l] != nums[r]:\n",
    "        l += 1\n",
    "        nums[l] = nums[r]\n",
    "    x = r\n",
    "    r += 1\n"
   ],
   "metadata": {
    "collapsed": false,
    "ExecuteTime": {
     "start_time": "2023-04-25T13:05:11.685599Z",
     "end_time": "2023-04-25T13:06:25.342680Z"
    }
   }
  },
  {
   "cell_type": "code",
   "execution_count": 41,
   "outputs": [
    {
     "data": {
      "text/plain": "6"
     },
     "execution_count": 41,
     "metadata": {},
     "output_type": "execute_result"
    }
   ],
   "source": [
    "nums = [1,2,2,3,3,4,4,5,5,6]\n",
    "N = len(nums)\n",
    "left = 0\n",
    "for right in range(1, N):\n",
    "    if nums[right] != nums[left]:\n",
    "        left += 1\n",
    "        nums[left] = nums[right]\n",
    "left + 1\n",
    "\n"
   ],
   "metadata": {
    "collapsed": false,
    "ExecuteTime": {
     "start_time": "2023-04-25T12:55:56.470420Z",
     "end_time": "2023-04-25T12:55:56.484736Z"
    }
   }
  },
  {
   "cell_type": "code",
   "execution_count": 49,
   "outputs": [
    {
     "name": "stdout",
     "output_type": "stream",
     "text": [
      "6554654321"
     ]
    }
   ],
   "source": [
    "for i in reversed(nums):\n",
    "    print(i,end='')"
   ],
   "metadata": {
    "collapsed": false,
    "ExecuteTime": {
     "start_time": "2023-04-25T14:20:14.936837Z",
     "end_time": "2023-04-25T14:20:14.938296Z"
    }
   }
  }
 ],
 "metadata": {
  "kernelspec": {
   "display_name": "Python 3",
   "language": "python",
   "name": "python3"
  },
  "language_info": {
   "codemirror_mode": {
    "name": "ipython",
    "version": 2
   },
   "file_extension": ".py",
   "mimetype": "text/x-python",
   "name": "python",
   "nbconvert_exporter": "python",
   "pygments_lexer": "ipython2",
   "version": "2.7.6"
  }
 },
 "nbformat": 4,
 "nbformat_minor": 0
}
