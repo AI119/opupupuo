{
 "cells": [
  {
   "cell_type": "markdown",
   "source": [
    "给你一个按 非递减顺序 排序的整数数组 nums，返回 每个数字的平方 组成的新数组，要求也按 非递减顺序 排序。"
   ],
   "metadata": {
    "collapsed": false
   }
  },
  {
   "cell_type": "code",
   "execution_count": 2,
   "metadata": {
    "collapsed": true,
    "ExecuteTime": {
     "start_time": "2023-05-04T10:42:21.595316Z",
     "end_time": "2023-05-04T10:42:21.657805Z"
    }
   },
   "outputs": [
    {
     "data": {
      "text/plain": "[0, 1, 9, 16, 100]"
     },
     "execution_count": 2,
     "metadata": {},
     "output_type": "execute_result"
    }
   ],
   "source": [
    "#使用双指针法\n",
    "nums = [-4,-1,0,3,10]\n",
    "#定义左右两个指针\n",
    "left = 0\n",
    "right = len(nums) - 1\n",
    "#定义新列表的指针，为列表末尾\n",
    "k = len(nums) - 1\n",
    "#创建一个新的列表\n",
    "ans = [-1] * len(nums)\n",
    "#要注意，左右两个指针最后将指向同一个元素，所以必须使用<=\n",
    "while left <= right:\n",
    "    #因为题干说数组是已排序好的，可能含有负数，所以指针指向列表两边的数据\n",
    "    lm = nums[left] ** 2\n",
    "    rm = nums[right] ** 2\n",
    "    #这里要注意指针的移动，哪个指针指向的元素平方比另一个大，就提取那个指针的结果，并把指针移动一位\n",
    "    if lm > rm:\n",
    "        ans[k] = lm\n",
    "        left += 1\n",
    "    else:\n",
    "        ans[k] = rm\n",
    "        right -= 1\n",
    "    k -= 1\n",
    "ans"
   ]
  },
  {
   "cell_type": "code",
   "execution_count": 5,
   "outputs": [],
   "source": [
    "class ListNode:\n",
    "    def __init__(self,val,next=None):\n",
    "        self.val = val\n",
    "        self.next = next"
   ],
   "metadata": {
    "collapsed": false,
    "ExecuteTime": {
     "start_time": "2023-05-04T10:42:40.983751Z",
     "end_time": "2023-05-04T10:42:41.004113Z"
    }
   }
  },
  {
   "cell_type": "code",
   "execution_count": 6,
   "outputs": [],
   "source": [
    "node1 = ListNode(9)\n",
    "node2 = ListNode(10)\n",
    "node3 = ListNode(11)\n",
    "node4 = ListNode(12)\n",
    "node1.next = node2\n",
    "node2.next = node3\n",
    "node3.next = node4"
   ],
   "metadata": {
    "collapsed": false,
    "ExecuteTime": {
     "start_time": "2023-05-04T10:42:41.402284Z",
     "end_time": "2023-05-04T10:42:41.426513Z"
    }
   }
  },
  {
   "cell_type": "code",
   "execution_count": 7,
   "outputs": [],
   "source": [
    "node_1 = ListNode(11,node2)\n",
    "node1.next = node_1"
   ],
   "metadata": {
    "collapsed": false,
    "ExecuteTime": {
     "start_time": "2023-05-04T10:42:41.967056Z",
     "end_time": "2023-05-04T10:42:41.985393Z"
    }
   }
  },
  {
   "cell_type": "code",
   "execution_count": 9,
   "outputs": [
    {
     "data": {
      "text/plain": "9"
     },
     "execution_count": 9,
     "metadata": {},
     "output_type": "execute_result"
    }
   ],
   "source": [
    "node1.val"
   ],
   "metadata": {
    "collapsed": false,
    "ExecuteTime": {
     "start_time": "2023-05-04T10:42:54.236585Z",
     "end_time": "2023-05-04T10:42:54.252211Z"
    }
   }
  },
  {
   "cell_type": "code",
   "execution_count": 10,
   "outputs": [],
   "source": [
    "values = [1,2,3,4,5]\n",
    "nodes = [ListNode(val) for val in values]\n",
    "for i in range(len(nodes)-1):\n",
    "    nodes[i].next = nodes[i+1]"
   ],
   "metadata": {
    "collapsed": false,
    "ExecuteTime": {
     "start_time": "2023-05-04T10:59:16.026323Z",
     "end_time": "2023-05-04T10:59:16.041873Z"
    }
   }
  },
  {
   "cell_type": "code",
   "execution_count": 18,
   "outputs": [
    {
     "name": "stdout",
     "output_type": "stream",
     "text": [
      "字符串的哈希值为 -3741094442801058562\n",
      "数字的哈希值为 12345\n"
     ]
    }
   ],
   "source": [],
   "metadata": {
    "collapsed": false,
    "ExecuteTime": {
     "start_time": "2023-05-04T11:10:11.635887Z",
     "end_time": "2023-05-04T11:10:11.649849Z"
    }
   }
  }
 ],
 "metadata": {
  "kernelspec": {
   "display_name": "Python 3",
   "language": "python",
   "name": "python3"
  },
  "language_info": {
   "codemirror_mode": {
    "name": "ipython",
    "version": 2
   },
   "file_extension": ".py",
   "mimetype": "text/x-python",
   "name": "python",
   "nbconvert_exporter": "python",
   "pygments_lexer": "ipython2",
   "version": "2.7.6"
  }
 },
 "nbformat": 4,
 "nbformat_minor": 0
}
