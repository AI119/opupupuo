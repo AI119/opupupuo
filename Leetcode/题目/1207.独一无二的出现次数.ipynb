{
 "cells": [
  {
   "cell_type": "markdown",
   "source": [
    "给你一个整数数组 arr，请你帮忙统计数组中每个数的出现次数。\n",
    "\n",
    "如果每个数的出现次数都是独一无二的，就返回 true；否则返回 false。\n",
    "\n",
    " \n",
    "\n",
    "示例 1：\n",
    "\n",
    "输入：arr = [1,2,2,1,1,3]\n",
    "输出：true\n",
    "解释：在该数组中，1 出现了 3 次，2 出现了 2 次，3 只出现了 1 次。没有两个数的出现次数相同。\n",
    "示例 2：\n",
    "\n",
    "输入：arr = [1,2]\n",
    "输出：false\n",
    "示例 3：\n",
    "\n",
    "输入：arr = [-3,0,1,-3,1,1,1,-3,10,0]\n",
    "输出：true\n",
    "\n",
    "来源：力扣（LeetCode）\n",
    "链接：https://leetcode.cn/problems/unique-number-of-occurrences\n",
    "著作权归领扣网络所有。商业转载请联系官方授权，非商业转载请注明出处。"
   ],
   "metadata": {
    "collapsed": false
   }
  },
  {
   "cell_type": "code",
   "execution_count": 12,
   "metadata": {
    "collapsed": true,
    "ExecuteTime": {
     "start_time": "2023-04-25T20:33:44.797320Z",
     "end_time": "2023-04-25T20:33:44.840385Z"
    }
   },
   "outputs": [
    {
     "name": "stdout",
     "output_type": "stream",
     "text": [
      "True\n"
     ]
    }
   ],
   "source": [
    "arr = [-3,0,1,-3,1,1,1,-3,10,0]\n",
    "dict_1 = dict()\n",
    "\n",
    "for i in arr:\n",
    "    if i not in dict_1:\n",
    "        dict_1[i]= 1\n",
    "    else:\n",
    "        dict_1[i] = dict_1[i]+1\n",
    "x = len(list(dict_1.values()))\n",
    "y = len(set(dict_1.values()))\n",
    "if x == y:\n",
    "    print(True)\n",
    "else:\n",
    "    print(False)\n"
   ]
  },
  {
   "cell_type": "code",
   "execution_count": null,
   "outputs": [],
   "source": [
    "s='pwwkew'\n",
    "s_unique = set(s)\n",
    "bird = list()\n",
    "len_num = list()\n",
    "print(f'1字符串中不重复字符为:{s_unique}')\n",
    "if len(s_unique) == 1:\n",
    "    print(f'2长度为1')\n",
    "elif len(s) == 0:\n",
    "    print(f'3长度为0')\n",
    "elif len(s) != 0:\n",
    "    for i in range(0, len(s)):\n",
    "        if s[i] not in bird:\n",
    "            bird.append(s[i])\n",
    "        for j in range(i+1, len(s)):\n",
    "            if s[j] not in bird:\n",
    "                bird.append(s[j])\n",
    "                if j == len(s)-1:\n",
    "                    len_num.append(j-i+1)\n",
    "                j += 1\n",
    "            else:\n",
    "                # print(f'4长度为{j-i}')\n",
    "                len_num.append(j-i)\n",
    "                bird.clear()\n",
    "                break\n",
    "print(f'5最大值为{max(len_num)}')"
   ],
   "metadata": {
    "collapsed": false
   }
  }
 ],
 "metadata": {
  "kernelspec": {
   "display_name": "Python 3",
   "language": "python",
   "name": "python3"
  },
  "language_info": {
   "codemirror_mode": {
    "name": "ipython",
    "version": 2
   },
   "file_extension": ".py",
   "mimetype": "text/x-python",
   "name": "python",
   "nbconvert_exporter": "python",
   "pygments_lexer": "ipython2",
   "version": "2.7.6"
  }
 },
 "nbformat": 4,
 "nbformat_minor": 0
}
