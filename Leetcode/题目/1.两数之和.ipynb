{
 "cells": [
  {
   "cell_type": "markdown",
   "source": [
    "给定一个整数数组 nums   和一个整数目标值 target，请你在该数组中找出 和为目标值 target 的那两个整数，并返回它们的数组下标。\n",
    "\n",
    "你可以假设每种输入只会对应一个答案。但是，数组中同一个元素在答案里不能重复出现。\n",
    "\n",
    "你可以按任意顺序返回答案。\n",
    "\n",
    "示例 1：\n",
    "\n",
    "输入：nums = [2,7,11,15], target = 9\n",
    "输出：[0,1]\n",
    "解释：因为 nums[0] + nums[1] == 9 ，返回 [0, 1] 。\n",
    "\n",
    "来源：力扣（LeetCode）\n",
    "链接：https://leetcode.cn/problems/two-sum\n",
    "著作权归领扣网络所有。商业转载请联系官方授权，非商业转载请注明出处。"
   ],
   "metadata": {
    "collapsed": false
   }
  },
  {
   "cell_type": "code",
   "execution_count": 16,
   "metadata": {
    "collapsed": true,
    "ExecuteTime": {
     "start_time": "2023-04-17T14:18:14.611765Z",
     "end_time": "2023-04-17T14:18:14.617750Z"
    }
   },
   "outputs": [
    {
     "name": "stdout",
     "output_type": "stream",
     "text": [
      "[1, 4]\n",
      "[2, 3]\n"
     ]
    }
   ],
   "source": [
    "List=[7,8,9,10,11,19,20,16]\n",
    "target=19\n",
    "for i in range(len(List)):\n",
    "    for j in range(len(List)-1,i,-1):\n",
    "        if List[i] + List[j] == target:\n",
    "            print([i,j])\n"
   ]
  },
  {
   "cell_type": "code",
   "execution_count": null,
   "outputs": [],
   "source": [
    "List=[7,8,9,10,11,19,20,16]\n",
    "target=19"
   ],
   "metadata": {
    "collapsed": false
   }
  },
  {
   "cell_type": "code",
   "execution_count": null,
   "outputs": [],
   "source": [],
   "metadata": {
    "collapsed": false
   }
  },
  {
   "cell_type": "code",
   "execution_count": null,
   "outputs": [],
   "source": [],
   "metadata": {
    "collapsed": false
   }
  }
 ],
 "metadata": {
  "kernelspec": {
   "display_name": "Python 3",
   "language": "python",
   "name": "python3"
  },
  "language_info": {
   "codemirror_mode": {
    "name": "ipython",
    "version": 2
   },
   "file_extension": ".py",
   "mimetype": "text/x-python",
   "name": "python",
   "nbconvert_exporter": "python",
   "pygments_lexer": "ipython2",
   "version": "2.7.6"
  }
 },
 "nbformat": 4,
 "nbformat_minor": 0
}
