{
 "cells": [
  {
   "cell_type": "code",
   "execution_count": 6,
   "metadata": {
    "collapsed": true,
    "ExecuteTime": {
     "start_time": "2023-04-17T14:45:22.844615Z",
     "end_time": "2023-04-17T14:45:22.868116Z"
    }
   },
   "outputs": [
    {
     "name": "stdout",
     "output_type": "stream",
     "text": [
      "q\n",
      "werqqwsxzw\n",
      "erqqwsxze\n",
      "rqqwsxzr\n",
      "qqwsxzq\n",
      "qwsxzq\n",
      "wsxzw\n",
      "sxzs\n",
      "xzx\n",
      "zz\n"
     ]
    }
   ],
   "source": [
    "s = 'qwerqqwsxz'\n",
    "for i in range(len(s)):\n",
    "    print(s[i])\n",
    "    for j in range(i+1,len(s)):\n",
    "        print(s[j],end='')"
   ]
  },
  {
   "cell_type": "code",
   "execution_count": 1,
   "outputs": [
    {
     "data": {
      "text/plain": "8"
     },
     "execution_count": 1,
     "metadata": {},
     "output_type": "execute_result"
    }
   ],
   "source": [],
   "metadata": {
    "collapsed": false,
    "ExecuteTime": {
     "start_time": "2023-04-24T17:05:09.167315Z",
     "end_time": "2023-04-24T17:05:09.188831Z"
    }
   }
  }
 ],
 "metadata": {
  "kernelspec": {
   "display_name": "Python 3",
   "language": "python",
   "name": "python3"
  },
  "language_info": {
   "codemirror_mode": {
    "name": "ipython",
    "version": 2
   },
   "file_extension": ".py",
   "mimetype": "text/x-python",
   "name": "python",
   "nbconvert_exporter": "python",
   "pygments_lexer": "ipython2",
   "version": "2.7.6"
  }
 },
 "nbformat": 4,
 "nbformat_minor": 0
}
