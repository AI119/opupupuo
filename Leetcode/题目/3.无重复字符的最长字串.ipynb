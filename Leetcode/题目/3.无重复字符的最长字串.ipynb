{
 "cells": [
  {
   "cell_type": "code",
   "execution_count": 47,
   "metadata": {
    "collapsed": true,
    "ExecuteTime": {
     "start_time": "2023-04-24T20:00:45.855044Z",
     "end_time": "2023-04-24T20:00:45.875100Z"
    }
   },
   "outputs": [
    {
     "name": "stdout",
     "output_type": "stream",
     "text": [
      "aa\n"
     ]
    }
   ],
   "source": [
    "s = 'aabcdefss'\n",
    "nduplicate = []\n",
    "for i in range(len(s)):\n",
    "    # print(s[i])\n",
    "    for j in range(i+1,len(s)):\n",
    "        # print(s[j],end='')\n",
    "        if s[i]==s[j]:\n",
    "            nduplicate.append(j-i)\n",
    "            # break\n",
    "        else:\n",
    "            continue\n",
    "nduplicate"
   ]
  },
  {
   "cell_type": "code",
   "execution_count": 43,
   "outputs": [
    {
     "data": {
      "text/plain": "'abcdef'"
     },
     "execution_count": 43,
     "metadata": {},
     "output_type": "execute_result"
    }
   ],
   "source": [
    "s = 'aabcdefss'\n",
    "s[1:7]"
   ],
   "metadata": {
    "collapsed": false,
    "ExecuteTime": {
     "start_time": "2023-04-24T19:53:31.695044Z",
     "end_time": "2023-04-24T19:53:31.711030Z"
    }
   }
  }
 ],
 "metadata": {
  "kernelspec": {
   "display_name": "Python 3",
   "language": "python",
   "name": "python3"
  },
  "language_info": {
   "codemirror_mode": {
    "name": "ipython",
    "version": 2
   },
   "file_extension": ".py",
   "mimetype": "text/x-python",
   "name": "python",
   "nbconvert_exporter": "python",
   "pygments_lexer": "ipython2",
   "version": "2.7.6"
  }
 },
 "nbformat": 4,
 "nbformat_minor": 0
}
