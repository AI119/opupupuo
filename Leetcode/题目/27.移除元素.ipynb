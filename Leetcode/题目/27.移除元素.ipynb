{
 "cells": [
  {
   "cell_type": "markdown",
   "source": [
    "给你一个数组 nums 和一个值 val，你需要 原地 移除所有数值等于 val 的元素，并返回移除后数组的新长度。\n",
    "\n",
    "不要使用额外的数组空间，你必须仅使用 O(1) 额外空间并 原地 修改输入数组。\n",
    "\n",
    "元素的顺序可以改变。你不需要考虑数组中超出新长度后面的元素。\n",
    "\n",
    "来源：力扣（LeetCode）\n",
    "链接：https://leetcode.cn/problems/remove-element\n",
    "著作权归领扣网络所有。商业转载请联系官方授权，非商业转载请注明出处。"
   ],
   "metadata": {
    "collapsed": false
   }
  },
  {
   "cell_type": "code",
   "execution_count": 1,
   "metadata": {
    "collapsed": true,
    "ExecuteTime": {
     "start_time": "2023-05-01T21:24:27.476593Z",
     "end_time": "2023-05-01T21:24:27.493912Z"
    }
   },
   "outputs": [
    {
     "name": "stdout",
     "output_type": "stream",
     "text": [
      "[1, 3, 3, 4, 5, 6, 7, 6, 2, 2, 7]\n"
     ]
    }
   ],
   "source": [
    "nums = [1,2,2,3,3,4,5,6,2,2,7]\n",
    "val = 2\n",
    "fast = 0  # 快指针\n",
    "slow = 0  # 慢指针\n",
    "size = len(nums)\n",
    "while fast < size:  # 不加等于是因为，a = size 时，nums[a] 会越界\n",
    "# slow 用来收集不等于 val 的值，如果 fast 对应值不等于 val，则把它与 slow 替换\n",
    "    if nums[fast] != val:\n",
    "        nums[slow] = nums[fast]\n",
    "        slow += 1\n",
    "    fast += 1\n",
    "print(nums)"
   ]
  }
 ],
 "metadata": {
  "kernelspec": {
   "display_name": "Python 3",
   "language": "python",
   "name": "python3"
  },
  "language_info": {
   "codemirror_mode": {
    "name": "ipython",
    "version": 2
   },
   "file_extension": ".py",
   "mimetype": "text/x-python",
   "name": "python",
   "nbconvert_exporter": "python",
   "pygments_lexer": "ipython2",
   "version": "2.7.6"
  }
 },
 "nbformat": 4,
 "nbformat_minor": 0
}
