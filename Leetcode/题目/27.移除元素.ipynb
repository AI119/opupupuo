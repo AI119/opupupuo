{
 "cells": [
  {
   "cell_type": "markdown",
   "metadata": {
    "collapsed": false
   },
   "source": [
    "给你一个数组 nums 和一个值 val，你需要 原地 移除所有数值等于 val 的元素，并返回移除后数组的新长度。\n",
    "\n",
    "不要使用额外的数组空间，你必须仅使用 O(1) 额外空间并 原地 修改输入数组。\n",
    "\n",
    "元素的顺序可以改变。你不需要考虑数组中超出新长度后面的元素。\n",
    "\n",
    "来源：力扣（LeetCode）\n",
    "链接：https://leetcode.cn/problems/remove-element\n",
    "著作权归领扣网络所有。商业转载请联系官方授权，非商业转载请注明出处。"
   ]
  },
  {
   "cell_type": "code",
   "execution_count": 8,
   "metadata": {
    "ExecuteTime": {
     "start_time": "2023-05-02T10:20:17.387812Z",
     "end_time": "2023-05-02T10:20:17.425464Z"
    },
    "collapsed": true
   },
   "outputs": [
    {
     "name": "stdout",
     "output_type": "stream",
     "text": [
      "6\n",
      "[0, 1, 3, 3, 0, 4, 4, 2]\n"
     ]
    }
   ],
   "source": [
    "nums = [0,1,2,3,3,0,4,2]\n",
    "val = 2\n",
    "size = len(nums)\n",
    "slow = 0\n",
    "fast = 0\n",
    "while fast < size:\n",
    "    if nums[fast] != val:\n",
    "        nums[slow] = nums[fast]\n",
    "        slow += 1\n",
    "    fast += 1\n",
    "print(slow)\n",
    "print(nums)\n"
   ]
  },
  {
   "cell_type": "code",
   "execution_count": 3,
   "metadata": {
    "ExecuteTime": {
     "start_time": "2023-05-02T10:17:57.016855Z",
     "end_time": "2023-05-02T10:17:57.032273Z"
    }
   },
   "outputs": [
    {
     "data": {
      "text/plain": "8"
     },
     "execution_count": 3,
     "metadata": {},
     "output_type": "execute_result"
    }
   ],
   "source": [
    "[1, 3, 3, 4, 5, 6, 7, 6, 2, 2, 7]\n",
    "8"
   ]
  }
 ],
 "metadata": {
  "kernelspec": {
   "display_name": "Python 3",
   "language": "python",
   "name": "python3"
  },
  "language_info": {
   "codemirror_mode": {
    "name": "ipython",
    "version": 3
   },
   "file_extension": ".py",
   "mimetype": "text/x-python",
   "name": "python",
   "nbconvert_exporter": "python",
   "pygments_lexer": "ipython3",
   "version": "3.9.7"
  }
 },
 "nbformat": 4,
 "nbformat_minor": 0
}
