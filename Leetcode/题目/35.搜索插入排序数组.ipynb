{
 "cells": [
  {
   "attachments": {},
   "cell_type": "markdown",
   "metadata": {},
   "source": [
    "给定一个排序数组和一个目标值，在数组中找到目标值，并返回其索引。如果目标值不存在于数组中，返回它将会被按顺序插入的位置。\n",
    "\n",
    "输入: nums = [1,3,5,6], target = 7\n",
    "\n",
    "输出: 4"
   ]
  },
  {
   "cell_type": "code",
   "execution_count": 6,
   "metadata": {
    "ExecuteTime": {
     "start_time": "2023-05-01T15:34:36.531900Z",
     "end_time": "2023-05-01T15:34:36.572966Z"
    }
   },
   "outputs": [
    {
     "name": "stdout",
     "output_type": "stream",
     "text": [
      "4\n"
     ]
    }
   ],
   "source": [
    "nums = [1,3,5,6,8,9,10,11]\n",
    "target = 7\n",
    "left = 0\n",
    "right = len(nums) - 1\n",
    "while left <= right:\n",
    "    middle = left + (right - left) // 2\n",
    "    if nums[middle] < target:\n",
    "        left = middle + 1\n",
    "    elif nums[middle] > target:\n",
    "        right = middle - 1\n",
    "    elif nums[middle] == target:\n",
    "        print(middle)\n",
    "print(right + 1)"
   ]
  },
  {
   "cell_type": "code",
   "execution_count": 5,
   "outputs": [
    {
     "name": "stdout",
     "output_type": "stream",
     "text": [
      "4\n"
     ]
    }
   ],
   "source": [
    "left, right = 0, len(nums) - 1\n",
    "\n",
    "while left <= right:\n",
    "    middle = (left + right) // 2\n",
    "\n",
    "    if nums[middle] < target:\n",
    "        left = middle + 1\n",
    "    elif nums[middle] > target:\n",
    "        right = middle - 1\n",
    "    else:\n",
    "        print(middle)\n",
    "print(right + 1)"
   ],
   "metadata": {
    "collapsed": false,
    "ExecuteTime": {
     "start_time": "2023-05-01T15:33:47.785259Z",
     "end_time": "2023-05-01T15:33:47.811228Z"
    }
   }
  }
 ],
 "metadata": {
  "kernelspec": {
   "display_name": "base",
   "language": "python",
   "name": "python3"
  },
  "language_info": {
   "codemirror_mode": {
    "name": "ipython",
    "version": 3
   },
   "file_extension": ".py",
   "mimetype": "text/x-python",
   "name": "python",
   "nbconvert_exporter": "python",
   "pygments_lexer": "ipython3",
   "version": "3.9.7"
  },
  "orig_nbformat": 4
 },
 "nbformat": 4,
 "nbformat_minor": 2
}
