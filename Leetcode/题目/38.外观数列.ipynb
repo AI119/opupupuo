{
 "cells": [
  {
   "cell_type": "markdown",
   "source": [
    "给定一个正整数 n ，输出外观数列的第 n 项。\n",
    "\n",
    "「外观数列」是一个整数序列，从数字 1 开始，序列中的每一项都是对前一项的描述。\n",
    "\n",
    "你可以将其视作是由递归公式定义的数字字符串序列：\n",
    "\n",
    "countAndSay(1) = \"1\"\n",
    "countAndSay(n) 是对 countAndSay(n-1) 的描述，然后转换成另一个数字字符串。\n",
    "前五项如下：\n",
    "\n",
    "1.     1\n",
    "2.     11\n",
    "3.     21\n",
    "4.     1211\n",
    "5.     111221\n",
    "第一项是数字 1\n",
    "描述前一项，这个数是 1 即 “ 一 个 1 ”，记作 \"11\"\n",
    "描述前一项，这个数是 11 即 “ 二 个 1 ” ，记作 \"21\"\n",
    "描述前一项，这个数是 21 即 “ 一 个 2 + 一 个 1 ” ，记作 \"1211\"\n",
    "描述前一项，这个数是 1211 即 “ 一 个 1 + 一 个 2 + 二 个 1 ” ，记作 \"111221\"\n",
    "\n",
    "来源：力扣（LeetCode）\n",
    "链接：https://leetcode.cn/problems/count-and-say\n",
    "著作权归领扣网络所有。商业转载请联系官方授权，非商业转载请注明出处。"
   ],
   "metadata": {
    "collapsed": false
   }
  },
  {
   "cell_type": "code",
   "execution_count": 2,
   "outputs": [],
   "source": [
    "#我的\n",
    "class Solution:\n",
    "    def countAndSay(self, n: int) -> str:\n",
    "        x = n\n",
    "        y = x\n",
    "        L = \"1\"                            # 起始字符\n",
    "        shulie = [\"1\"]                     #起始列表\n",
    "\n",
    "        while x > 1:                       #判定循环次数\n",
    "            N = len(L)                     #字符串L的长度\n",
    "            i = 0                          #起始索引\n",
    "            result = \"\"                    #临时字符串\n",
    "            while i < N:                   #判断：当索引数小于字符串长度时\n",
    "                j = i + 1                  #将第二个索引指向起始索引后一位\n",
    "                while j < N and L[j] == L[i]:  #判断：当第二个索引小于字符长度，且两个索引指向的元素相同时\n",
    "                    j += 1                     #将第二个索引后移一位\n",
    "                count = j - i                  #当两个索引指向元素不同时，计算前面元素重复出现的次数\n",
    "                result = result+str(count) + L[i]         #将临时的字符串更改为描述数列\n",
    "                i = j                                     #将索引位置重新指向\n",
    "            L = result                                    #上述循环中的描述数列替换L中的数列\n",
    "            shulie.append(result)\n",
    "            x = x - 1\n",
    "        return str(shulie[y-1]),shulie\n"
   ],
   "metadata": {
    "collapsed": false,
    "ExecuteTime": {
     "start_time": "2023-05-07T10:39:35.488302Z",
     "end_time": "2023-05-07T10:39:35.523260Z"
    }
   }
  },
  {
   "cell_type": "code",
   "execution_count": 4,
   "outputs": [],
   "source": [
    "#开元的\n",
    "class Solution_():\n",
    "    def get_new(self,pre_str):\n",
    "        cur_cnt = 0    #计数器\n",
    "        new_str = ''\n",
    "        cur_c = pre_str[0]\n",
    "        for x in pre_str:\n",
    "            if x == cur_c:\n",
    "                cur_cnt += 1\n",
    "                continue\n",
    "            #索引指向新的字符则更新new_str,进行描述数组的拼接\n",
    "            new_str = new_str + str(cur_cnt) + cur_c\n",
    "            cur_c = x\n",
    "            cur_cnt = 1\n",
    "        #字符最后一个元素或是索引指向的元素只有一个时特殊处理\n",
    "        new_str = new_str + str(cur_cnt) + cur_c\n",
    "        return new_str\n",
    "    def countAndSay(self,n:int)->str:\n",
    "        if n == \"1\":\n",
    "            return \"1\"\n",
    "        else:\n",
    "            ger_pre_str = self.countAndSay(n-1)\n",
    "            new_str = self.get_new(ger_pre_str)\n",
    "            return new_str"
   ],
   "metadata": {
    "collapsed": false,
    "ExecuteTime": {
     "start_time": "2023-05-04T20:35:49.435495Z",
     "end_time": "2023-05-04T20:35:49.503315Z"
    }
   }
  },
  {
   "cell_type": "code",
   "execution_count": 4,
   "outputs": [
    {
     "data": {
      "text/plain": "('31131211131221',\n ['1',\n  '11',\n  '21',\n  '1211',\n  '111221',\n  '312211',\n  '13112221',\n  '1113213211',\n  '31131211131221'])"
     },
     "execution_count": 4,
     "metadata": {},
     "output_type": "execute_result"
    }
   ],
   "source": [
    "Solution().countAndSay(9)"
   ],
   "metadata": {
    "collapsed": false,
    "ExecuteTime": {
     "start_time": "2023-05-07T10:39:49.703703Z",
     "end_time": "2023-05-07T10:39:49.727879Z"
    }
   }
  },
  {
   "cell_type": "code",
   "execution_count": null,
   "outputs": [],
   "source": [
    "Solution_().countAndSay(1)"
   ],
   "metadata": {
    "collapsed": false,
    "pycharm": {
     "is_executing": true
    }
   }
  },
  {
   "cell_type": "code",
   "execution_count": 15,
   "outputs": [],
   "source": [
    "#数列网站答案其一\n",
    "def A005150(n):\n",
    "    seq = [1] + [None] * (n - 1) # allocate entire array space\n",
    "    def say(s):\n",
    "        acc = '' # initialize accumulator\n",
    "        while len(s) > 0:\n",
    "            i = 0\n",
    "            c = s[0] # char of first run\n",
    "            while (i < len(s) and s[i] == c): # scan first digit run\n",
    "                i += 1\n",
    "            acc += str(i) + c # append description of first run\n",
    "            if i == len(s):\n",
    "                break # done\n",
    "            else:\n",
    "                s = s[i:] # trim leading run of digits\n",
    "        return acc\n",
    "    for i in range(1, n):\n",
    "        seq[i] = int(say(str(seq[i-1])))\n",
    "    return seq"
   ],
   "metadata": {
    "collapsed": false,
    "ExecuteTime": {
     "start_time": "2023-05-04T20:45:24.692223Z",
     "end_time": "2023-05-04T20:45:24.714198Z"
    }
   }
  },
  {
   "cell_type": "code",
   "execution_count": 14,
   "outputs": [
    {
     "data": {
      "text/plain": "[1, 11, 21, 1211, 111221, 312211, 13112221]"
     },
     "execution_count": 14,
     "metadata": {},
     "output_type": "execute_result"
    }
   ],
   "source": [
    "A005150(7)"
   ],
   "metadata": {
    "collapsed": false,
    "ExecuteTime": {
     "start_time": "2023-05-04T20:43:20.790333Z",
     "end_time": "2023-05-04T20:43:20.836037Z"
    }
   }
  }
 ],
 "metadata": {
  "kernelspec": {
   "display_name": "Python 3",
   "language": "python",
   "name": "python3"
  },
  "language_info": {
   "codemirror_mode": {
    "name": "ipython",
    "version": 2
   },
   "file_extension": ".py",
   "mimetype": "text/x-python",
   "name": "python",
   "nbconvert_exporter": "python",
   "pygments_lexer": "ipython2",
   "version": "2.7.6"
  }
 },
 "nbformat": 4,
 "nbformat_minor": 0
}
