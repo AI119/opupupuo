{
 "cells": [
  {
   "cell_type": "markdown",
   "source": [
    "在整数数组中，如果一个整数的出现频次和它的数值大小相等，我们就称这个整数为「幸运数」。\n",
    "\n",
    "给你一个整数数组 arr，请你从中找出并返回一个幸运数。\n",
    "\n",
    "如果数组中存在多个幸运数，只需返回 最大 的那个。\n",
    "如果数组中不含幸运数，则返回 -1 。\n",
    "\n",
    "来源：力扣（LeetCode）\n",
    "链接：https://leetcode.cn/problems/find-lucky-integer-in-an-array\n",
    "著作权归领扣网络所有。商业转载请联系官方授权，非商业转载请注明出处。"
   ],
   "metadata": {
    "collapsed": false
   }
  },
  {
   "cell_type": "code",
   "execution_count": 19,
   "metadata": {
    "collapsed": true,
    "ExecuteTime": {
     "start_time": "2023-04-27T19:49:18.315961Z",
     "end_time": "2023-04-27T19:49:18.340892Z"
    }
   },
   "outputs": [
    {
     "name": "stdout",
     "output_type": "stream",
     "text": [
      "-1\n"
     ]
    }
   ],
   "source": [
    "arr = [2,2,2,3,3]\n",
    "x = set()\n",
    "for num in arr:\n",
    "    # print(arr.count(num))\n",
    "    if num == arr.count(num):\n",
    "        x.add(num)\n",
    "\n",
    "if x == set():\n",
    "    print(-1)\n",
    "else:\n",
    "    print(max(x))"
   ]
  }
 ],
 "metadata": {
  "kernelspec": {
   "display_name": "Python 3",
   "language": "python",
   "name": "python3"
  },
  "language_info": {
   "codemirror_mode": {
    "name": "ipython",
    "version": 2
   },
   "file_extension": ".py",
   "mimetype": "text/x-python",
   "name": "python",
   "nbconvert_exporter": "python",
   "pygments_lexer": "ipython2",
   "version": "2.7.6"
  }
 },
 "nbformat": 4,
 "nbformat_minor": 0
}
