{
 "cells": [
  {
   "attachments": {},
   "cell_type": "markdown",
   "metadata": {},
   "source": [
    "1. 请编写程序实现以下功能\n",
    "    1. 通过程序实现输出铁锤妹妹的工作安排，如果今天是工作日，在看一下天气预报如果天气好（阳光明媚）就去和腾讯谈一笔一个小目标的业务，如果天气不好就在公司准备谈业务的材料\n",
    "    2. 如果不是工作日，那就可以休息了，查看休息日的温度如果在35度往上就去水魔方玩，否则就是欢乐谷玩儿\n",
    "2. 给以一个三角形的三边长a,b和c(边长是浮点数),请你判断三角形的形状。 若是锐角三角形，输出R, 若是直角三角形，输出Z， 若是钝角三角形，输出D， 若三边长不能构成三角形，输出W.\n",
    "\n",
    "3. 通过循环在控制台打印以下内容\n",
    "\n",
    "    \n",
    "    ```python\n",
    "    1 2 3 4 5 4 3 2 1\n",
    "      1 2 3 4 3 2 1\n",
    "        1 2 3 2 1\n",
    "          1 2 1\n",
    "            1\n",
    "    ```\n",
    "    \n",
    "4. 如下图形\n",
    "    \n",
    "    ```\n",
    "          *\n",
    "        * *\n",
    "      * * *\n",
    "    * * * *\n",
    "      * * *\n",
    "        * *\n",
    "          *\n",
    "    ```\n",
    "    \n",
    "5. 使用python实现打印菱形\n",
    "6. 鸡翁一值钱五，鸡母一值钱三，鸡雏三值钱一。百钱买百鸡，问鸡翁、鸡母、鸡雏各几何？通过python程序实现\n",
    "7. 计算 1-2+3-4+5-…-100 的值\n",
    "8. 输入任意个数(输入-1结束录入),然后输出最大值、最小值、平均值、中位数\n",
    "9. 设计一个猜数游戏, 随机产生一个1~100之间的随机数,然后用户输入猜想的数字,如果猜的数字大于产生的数显示‘high’, 小于显示‘low’,等于显示‘you won!’,游戏结束.用户最多猜7次,7次均未中,则显示‘you lost!’并给出正确答案,游戏结束后询问用户是否继续游戏输入y继续输入n结束程序\n",
    "10. 去掉字符串中所有的空格\n",
    "11. 获取字符中汉字的个数（汉字键盘录入）\n",
    "12. 求1-1000之间能被13整除的最大的那个数\n",
    "13. 'dasda213sdsa，，，dadasd0000dsadsadsa12312sdc455是萨法法师', 取出所有的字母\n",
    "14. 有5个人坐在一起，问第五个人人多少岁？他说比第4个人大2岁。问第4个人岁数，他说比第3个人大2岁。问第三个人，又说比第2人大两岁，问第2\n",
    "个人，说比第一个人大两岁。最后问第一个人，他说是10岁，请问第五个人多大？\n",
    "15. 通过键盘输入一个数字，若\n",
    "    1. 该数字位各个位上的数字和为奇数，则将该数各位数倒叙打印（如122（各个位上的数字之和为 1+2+2=5），打印 221）\n",
    "    2. 若该数字各个位数之和为偶数，则直接打印该数字\n"
   ]
  },
  {
   "cell_type": "code",
   "execution_count": null,
   "metadata": {},
   "outputs": [],
   "source": []
  },
  {
   "attachments": {},
   "cell_type": "markdown",
   "metadata": {},
   "source": [
    "2. 给以一个三角形的三边长a,b和c(边长是浮点数),请你判断三角形的形状。 若是锐角三角形，输出R, 若是直角三角形，输出Z， 若是钝角三角形，输出D， 若三边长不能构成三角形，输出W."
   ]
  },
  {
   "cell_type": "code",
   "execution_count": null,
   "metadata": {},
   "outputs": [],
   "source": [
    "a,b,c="
   ]
  },
  {
   "attachments": {},
   "cell_type": "markdown",
   "metadata": {},
   "source": [
    "3. 通过循环在控制台打印以下内容\n",
    "\n",
    "    \n",
    "    ```python\n",
    "    1 2 3 4 5 4 3 2 1\n",
    "      1 2 3 4 3 2 1\n",
    "        1 2 3 2 1\n",
    "          1 2 1\n",
    "            1\n",
    "    ```"
   ]
  },
  {
   "cell_type": "code",
   "execution_count": null,
   "metadata": {},
   "outputs": [],
   "source": []
  },
  {
   "attachments": {},
   "cell_type": "markdown",
   "metadata": {},
   "source": [
    "4. 如下图形\n",
    "    \n",
    "    ```\n",
    "          *\n",
    "        * *\n",
    "      * * *\n",
    "    * * * *\n",
    "      * * *\n",
    "        * *\n",
    "          *\n",
    "    ```\n",
    "    "
   ]
  },
  {
   "cell_type": "code",
   "execution_count": null,
   "metadata": {},
   "outputs": [],
   "source": []
  },
  {
   "attachments": {},
   "cell_type": "markdown",
   "metadata": {},
   "source": [
    "5. 使用python实现打印菱形"
   ]
  },
  {
   "cell_type": "code",
   "execution_count": null,
   "metadata": {},
   "outputs": [],
   "source": []
  },
  {
   "attachments": {},
   "cell_type": "markdown",
   "metadata": {},
   "source": [
    "6. 鸡翁一值钱五，鸡母一值钱三，鸡雏三值钱一。百钱买百鸡，问鸡翁、鸡母、鸡雏各几何？通过python程序实现"
   ]
  },
  {
   "cell_type": "code",
   "execution_count": null,
   "metadata": {},
   "outputs": [],
   "source": []
  },
  {
   "attachments": {},
   "cell_type": "markdown",
   "metadata": {},
   "source": [
    "7. 计算 1-2+3-4+5-…-100 的值"
   ]
  },
  {
   "cell_type": "code",
   "execution_count": null,
   "metadata": {},
   "outputs": [],
   "source": []
  },
  {
   "attachments": {},
   "cell_type": "markdown",
   "metadata": {},
   "source": [
    "8. 输入任意个数(输入-1结束录入),然后输出最大值、最小值、平均值、中位数"
   ]
  },
  {
   "cell_type": "code",
   "execution_count": null,
   "metadata": {},
   "outputs": [],
   "source": []
  },
  {
   "attachments": {},
   "cell_type": "markdown",
   "metadata": {},
   "source": [
    "9. 设计一个猜数游戏, 随机产生一个1~100之间的随机数,然后用户输入猜想的数字,如果猜的数字大于产生的数显示‘high’, 小于显示‘low’,等于显示‘you won!’,游戏结束.用户最多猜7次,7次均未中,则显示‘you lost!’并给出正确答案,游戏结束后询问用户是否继续游戏输入y继续输入n结束程序"
   ]
  },
  {
   "cell_type": "code",
   "execution_count": 9,
   "metadata": {},
   "outputs": [
    {
     "name": "stdout",
     "output_type": "stream",
     "text": [
      "high\n",
      "high\n",
      "high\n",
      "low\n",
      "high\n",
      "high\n",
      "You lost!\n"
     ]
    }
   ],
   "source": [
    "from random import randint \n",
    "rand_=randint(1,100)\n",
    "for i in range(6):\n",
    "    answer=int(input('Please input a number: '))\n",
    "    print('low' if answer< rand_ else 'high')\n",
    "    if answer == rand_ :\n",
    "        print('You won !')\n",
    "        break\n",
    "    if i ==5:\n",
    "        print('You lost!')\n",
    "        break"
   ]
  },
  {
   "attachments": {},
   "cell_type": "markdown",
   "metadata": {},
   "source": [
    "10. 去掉字符串中所有的空格 "
   ]
  },
  {
   "cell_type": "code",
   "execution_count": null,
   "metadata": {},
   "outputs": [],
   "source": []
  },
  {
   "attachments": {},
   "cell_type": "markdown",
   "metadata": {},
   "source": [
    "11. 获取字符中汉字的个数（汉字键盘录入）"
   ]
  },
  {
   "cell_type": "code",
   "execution_count": null,
   "metadata": {},
   "outputs": [],
   "source": []
  },
  {
   "attachments": {},
   "cell_type": "markdown",
   "metadata": {},
   "source": [
    "12. 求1-1000之间能被13整除的最大的那个数"
   ]
  },
  {
   "cell_type": "code",
   "execution_count": null,
   "metadata": {},
   "outputs": [],
   "source": []
  },
  {
   "attachments": {},
   "cell_type": "markdown",
   "metadata": {},
   "source": [
    "13. 'dasda213sdsa，，，dadasd0000dsadsadsa12312sdc455是萨法法师', 取出所有的字母"
   ]
  },
  {
   "cell_type": "code",
   "execution_count": null,
   "metadata": {},
   "outputs": [],
   "source": []
  },
  {
   "attachments": {},
   "cell_type": "markdown",
   "metadata": {},
   "source": [
    "14.有5个人坐在一起，问第五个人人多少岁？他说比第4个人大2岁。问第4个人岁数，他说比第3个人大2岁。问第三个人，又说比第2人大两岁，问第2\n",
    "个人，说比第一个人大两岁。最后问第一个人，他说是10岁，请问第五个人多大？"
   ]
  },
  {
   "cell_type": "code",
   "execution_count": null,
   "metadata": {},
   "outputs": [],
   "source": []
  },
  {
   "attachments": {},
   "cell_type": "markdown",
   "metadata": {},
   "source": [
    "15. 通过键盘输入一个数字，若\n",
    "    1. 该数字位各个位上的数字和为奇数，则将该数各位数倒叙打印（如122（各个位上的数字之和为 1+2+2=5），打印 221）\n",
    "    2. 若该数字各个位数之和为偶数，则直接打印该数字"
   ]
  },
  {
   "cell_type": "code",
   "execution_count": null,
   "metadata": {},
   "outputs": [],
   "source": []
  }
 ],
 "metadata": {
  "kernelspec": {
   "display_name": "base",
   "language": "python",
   "name": "python3"
  },
  "language_info": {
   "codemirror_mode": {
    "name": "ipython",
    "version": 3
   },
   "file_extension": ".py",
   "mimetype": "text/x-python",
   "name": "python",
   "nbconvert_exporter": "python",
   "pygments_lexer": "ipython3",
   "version": "3.9.13"
  },
  "orig_nbformat": 4
 },
 "nbformat": 4,
 "nbformat_minor": 2
}
