{
 "cells": [
  {
   "cell_type": "markdown",
   "source": [
    "### 快速排序"
   ],
   "metadata": {
    "collapsed": false
   }
  },
  {
   "cell_type": "code",
   "execution_count": 5,
   "metadata": {
    "collapsed": true,
    "ExecuteTime": {
     "start_time": "2023-05-06T15:26:18.230259Z",
     "end_time": "2023-05-06T15:26:18.245925Z"
    }
   },
   "outputs": [],
   "source": [
    "def quicksort(arr):\n",
    "    if len(arr) < 2:\n",
    "        return arr\n",
    "    else:\n",
    "        pivot = arr[len(arr)//2]\n",
    "        left = [i for i in arr if i < pivot]\n",
    "        right = [i for i in arr if i > pivot]\n",
    "        mid = [i for i in arr if i == pivot]\n",
    "        return quicksort(left) + mid + quicksort(right)"
   ]
  },
  {
   "cell_type": "code",
   "execution_count": 6,
   "outputs": [
    {
     "data": {
      "text/plain": "[12, 20, 23, 34, 45, 56, 57, 59, 78, 89, 90]"
     },
     "execution_count": 6,
     "metadata": {},
     "output_type": "execute_result"
    }
   ],
   "source": [
    "a = [90,56,78,23,89,45,12,20,57,34,59]\n",
    "quicksort(a)"
   ],
   "metadata": {
    "collapsed": false,
    "ExecuteTime": {
     "start_time": "2023-05-06T15:26:18.694176Z",
     "end_time": "2023-05-06T15:26:18.756816Z"
    }
   }
  },
  {
   "cell_type": "code",
   "execution_count": null,
   "outputs": [],
   "source": [],
   "metadata": {
    "collapsed": false
   }
  }
 ],
 "metadata": {
  "kernelspec": {
   "display_name": "Python 3",
   "language": "python",
   "name": "python3"
  },
  "language_info": {
   "codemirror_mode": {
    "name": "ipython",
    "version": 2
   },
   "file_extension": ".py",
   "mimetype": "text/x-python",
   "name": "python",
   "nbconvert_exporter": "python",
   "pygments_lexer": "ipython2",
   "version": "2.7.6"
  }
 },
 "nbformat": 4,
 "nbformat_minor": 0
}
