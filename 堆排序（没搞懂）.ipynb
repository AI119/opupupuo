{
 "cells": [
  {
   "cell_type": "code",
   "execution_count": 1,
   "metadata": {
    "collapsed": true,
    "ExecuteTime": {
     "start_time": "2023-05-02T16:20:36.801124Z",
     "end_time": "2023-05-02T16:20:36.814086Z"
    }
   },
   "outputs": [],
   "source": [
    "def heapify(arr, n, i):\n",
    "    # 用于调整堆，使其满足堆的性质。arr为待调整的堆，n为堆的大小，i为需要调整的根节点。\n",
    "\n",
    "    largest = i   # 初始化最大值变量为根节点\n",
    "    l = 2 * i + 1  # 左子节点的索引，注意这里的索引从0开始\n",
    "    r = 2 * i + 2  # 右子节点的索引\n",
    "\n",
    "    # 如果左子节点存在且大于根节点，则将最大值变量更新为左子节点\n",
    "    if l < n and arr[i] < arr[l]:\n",
    "        largest = l\n",
    "\n",
    "    # 如果右子节点存在且大于最大值，则将最大值变量更新为右子节点\n",
    "    if r < n and arr[largest] < arr[r]:\n",
    "        largest = r\n",
    "\n",
    "    # 如果最大值变量不等于根节点，则交换根节点和最大值节点的位置\n",
    "    if largest != i:\n",
    "        arr[i], arr[largest] = arr[largest], arr[i]\n",
    "\n",
    "        # 递归调用heapify函数，以更新已交换节点的子树，使其也满足堆的性质\n",
    "        heapify(arr, n, largest)\n",
    "\n",
    "\n",
    "def heapSort(arr):\n",
    "    # 堆排序算法，arr为待排序的数组\n",
    "\n",
    "    n = len(arr)  # 初始化变量n为数组的长度\n",
    "\n",
    "    # 从最后一个非叶子节点开始，逐个调整堆，使其满足堆的性质\n",
    "    for i in range(n, -1, -1):\n",
    "        heapify(arr, n, i)\n",
    "\n",
    "    # 从堆的末尾开始，逐个将最大值元素交换到数组的末尾\n",
    "    for i in range(n-1, 0, -1):\n",
    "        arr[i], arr[0] = arr[0], arr[i]\n",
    "\n",
    "        # 递归调用heapify函数，以调整剩余元素的位置，使其满足堆的性质\n",
    "        heapify(arr, i, 0)"
   ]
  },
  {
   "cell_type": "code",
   "execution_count": 4,
   "outputs": [
    {
     "name": "stdout",
     "output_type": "stream",
     "text": [
      "[1, 12, 20, 23, 34, 45, 61, 65, 67, 89, 98]\n"
     ]
    }
   ],
   "source": [
    "x = [12,67,89,23,45,61,20,98,65,1,34]\n",
    "heapSort(arr=x)\n",
    "print(x)"
   ],
   "metadata": {
    "collapsed": false,
    "ExecuteTime": {
     "start_time": "2023-05-02T16:21:43.329862Z",
     "end_time": "2023-05-02T16:21:43.357121Z"
    }
   }
  },
  {
   "cell_type": "code",
   "execution_count": 1,
   "outputs": [
    {
     "data": {
      "text/plain": "[-1, -1, -1, -1, -1, -1, -1, -1, -1]"
     },
     "execution_count": 1,
     "metadata": {},
     "output_type": "execute_result"
    }
   ],
   "source": [
    "[-1] * 9"
   ],
   "metadata": {
    "collapsed": false,
    "ExecuteTime": {
     "start_time": "2023-05-03T11:44:18.758120Z",
     "end_time": "2023-05-03T11:44:18.853405Z"
    }
   }
  },
  {
   "cell_type": "code",
   "execution_count": 28,
   "outputs": [
    {
     "data": {
      "text/plain": "[0, 1, 9, 16, 100]"
     },
     "execution_count": 28,
     "metadata": {},
     "output_type": "execute_result"
    }
   ],
   "source": [
    "nums = [-4,-1,0,3,10]\n",
    "left = 0\n",
    "right = len(nums) - 1\n",
    "k = len(nums) - 1\n",
    "ans = [-1] * len(nums)\n",
    "while left <= right:\n",
    "    lm = nums[left] ** 2\n",
    "    rm = nums[right] ** 2\n",
    "    if lm > rm:\n",
    "        ans[k] = lm\n",
    "        left += 1\n",
    "    else:\n",
    "        ans[k] = rm\n",
    "        right -= 1\n",
    "    k -= 1\n",
    "ans"
   ],
   "metadata": {
    "collapsed": false,
    "ExecuteTime": {
     "start_time": "2023-05-03T15:45:07.175190Z",
     "end_time": "2023-05-03T15:45:07.204119Z"
    }
   }
  }
 ],
 "metadata": {
  "kernelspec": {
   "display_name": "Python 3",
   "language": "python",
   "name": "python3"
  },
  "language_info": {
   "codemirror_mode": {
    "name": "ipython",
    "version": 2
   },
   "file_extension": ".py",
   "mimetype": "text/x-python",
   "name": "python",
   "nbconvert_exporter": "python",
   "pygments_lexer": "ipython2",
   "version": "2.7.6"
  }
 },
 "nbformat": 4,
 "nbformat_minor": 0
}
