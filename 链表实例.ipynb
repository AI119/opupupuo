{
 "cells": [
  {
   "cell_type": "markdown",
   "source": [
    "## 创建一个简易的链表类"
   ],
   "metadata": {
    "collapsed": false
   }
  },
  {
   "cell_type": "code",
   "execution_count": 1,
   "outputs": [
    {
     "data": {
      "text/plain": "3"
     },
     "execution_count": 1,
     "metadata": {},
     "output_type": "execute_result"
    }
   ],
   "source": [
    "class Node:\n",
    "    def __init__(self, val, next=None):\n",
    "        self.val = val\n",
    "        self.next = next\n",
    "\n",
    "\n",
    "a = Node(1)\n",
    "b = Node(2)\n",
    "c = Node(3)\n",
    "a.next = b\n",
    "b.next = c\n",
    "a.next.next.val"
   ],
   "metadata": {
    "collapsed": false,
    "ExecuteTime": {
     "start_time": "2023-05-07T16:56:02.522201Z",
     "end_time": "2023-05-07T16:56:02.615951Z"
    }
   }
  },
  {
   "cell_type": "markdown",
   "source": [
    "## 头插法创建链表"
   ],
   "metadata": {
    "collapsed": false
   }
  },
  {
   "cell_type": "code",
   "execution_count": 2,
   "outputs": [],
   "source": [
    "#头插法创建一个链表\n",
    "def create_linklist_head(li):\n",
    "    #设定头节点为列表第一个元素\n",
    "    head = Node(li[0])\n",
    "    #遍历列表，每读取到一个元素就将头部指针指向它\n",
    "    for i in li[1:]:\n",
    "        node = Node(i)\n",
    "        #将当前节点链接至后节点，并且将头指针指向当前节点\n",
    "        node.next = head\n",
    "        head = node\n",
    "    return head\n"
   ],
   "metadata": {
    "collapsed": false,
    "ExecuteTime": {
     "start_time": "2023-05-07T16:56:02.556110Z",
     "end_time": "2023-05-07T16:56:02.615951Z"
    }
   }
  },
  {
   "cell_type": "code",
   "execution_count": 3,
   "outputs": [
    {
     "data": {
      "text/plain": "10"
     },
     "execution_count": 3,
     "metadata": {},
     "output_type": "execute_result"
    }
   ],
   "source": [
    "list_1 = [1, 2, 3, 4, 5, 6, 7, 8, 9, 10]\n",
    "a = create_linklist_head(list_1)\n",
    "x = 'a'\n",
    "c = Node(x)\n",
    "c.next = a.val\n",
    "a.val\n",
    "\n",
    "\n",
    "# while a:\n",
    "#     print(a.val)\n",
    "#     a = a.next"
   ],
   "metadata": {
    "collapsed": false,
    "ExecuteTime": {
     "start_time": "2023-05-07T16:56:02.570072Z",
     "end_time": "2023-05-07T16:56:02.617952Z"
    }
   }
  },
  {
   "cell_type": "markdown",
   "source": [
    "## 尾插法创建一个链表"
   ],
   "metadata": {
    "collapsed": false
   }
  },
  {
   "cell_type": "code",
   "execution_count": 4,
   "outputs": [],
   "source": [
    "#尾插法创建一个链表\n",
    "def create_linklist_tail(li):\n",
    "    #定义头节点\n",
    "    head = Node(li[0])\n",
    "    #定义尾节点\n",
    "    tail = head\n",
    "    #遍历列表的每一个元素\n",
    "    for i in li[1:]:\n",
    "        node = Node(i)\n",
    "        #将尾指针指向遍历到的每一个元素，并将这个元素添加到链表中\n",
    "        tail.next = node\n",
    "        tail = node\n",
    "    return head"
   ],
   "metadata": {
    "collapsed": false,
    "ExecuteTime": {
     "start_time": "2023-05-07T16:56:02.581055Z",
     "end_time": "2023-05-07T16:56:02.629913Z"
    }
   }
  },
  {
   "cell_type": "code",
   "execution_count": 5,
   "outputs": [],
   "source": [
    "a = create_linklist_tail(list_1)\n",
    "# while a:\n",
    "#     print(a.val)\n",
    "#     a = a.next"
   ],
   "metadata": {
    "collapsed": false,
    "ExecuteTime": {
     "start_time": "2023-05-07T16:56:02.598994Z",
     "end_time": "2023-05-07T16:56:02.629913Z"
    }
   }
  },
  {
   "cell_type": "code",
   "execution_count": 6,
   "outputs": [],
   "source": [
    "def quicksort(arr):\n",
    "    # 当列表为空或只有一个元素时，直接返回该列表\n",
    "    if len(arr) < 2:\n",
    "        return arr\n",
    "    else:\n",
    "        # 选取基准值，这里选择列表中间的值\n",
    "        pivot = arr[len(arr) // 2]\n",
    "        # 小于基准值的元素放在左边，大于等于基准值的元素放在右边\n",
    "        left = [i for i in arr if i < pivot]\n",
    "        right = [i for i in arr if i >= pivot]\n",
    "        # 对左右两部分分别进行递归调用，得到排好序的列表\n",
    "        left_sorted = quicksort(left)\n",
    "        right_sorted = quicksort(right)\n",
    "        # 将排好序的左右两部分合并，并返回结果\n",
    "        return left_sorted + [pivot] + right_sorted\n"
   ],
   "metadata": {
    "collapsed": false,
    "ExecuteTime": {
     "start_time": "2023-05-07T16:56:02.611960Z",
     "end_time": "2023-05-07T16:56:02.714684Z"
    }
   }
  },
  {
   "cell_type": "code",
   "execution_count": 7,
   "outputs": [
    {
     "data": {
      "text/plain": "[2, 4, 4, 15, 15, 23, 23, 45, 45, 61, 61, 71, 71]"
     },
     "execution_count": 7,
     "metadata": {},
     "output_type": "execute_result"
    }
   ],
   "source": [
    "x = [2, 4, 23, 45, 61, 15, 71]\n",
    "quicksort(x)"
   ],
   "metadata": {
    "collapsed": false,
    "ExecuteTime": {
     "start_time": "2023-05-07T16:56:02.632903Z",
     "end_time": "2023-05-07T16:56:02.715682Z"
    }
   }
  },
  {
   "cell_type": "code",
   "execution_count": 8,
   "outputs": [
    {
     "name": "stdout",
     "output_type": "stream",
     "text": [
      "apple -598103255013721450\n",
      "banana -3265943024757799718\n",
      "orange 1008574368186057637\n"
     ]
    }
   ],
   "source": [
    "my_dict = {'apple': 1, 'banana': 2, 'orange': 3}\n",
    "for key in my_dict:\n",
    "    print(key, hash(key))\n"
   ],
   "metadata": {
    "collapsed": false,
    "ExecuteTime": {
     "start_time": "2023-05-07T16:56:02.647863Z",
     "end_time": "2023-05-07T16:56:02.716679Z"
    }
   }
  }
 ],
 "metadata": {
  "kernelspec": {
   "display_name": "Python 3",
   "language": "python",
   "name": "python3"
  },
  "language_info": {
   "codemirror_mode": {
    "name": "ipython",
    "version": 2
   },
   "file_extension": ".py",
   "mimetype": "text/x-python",
   "name": "python",
   "nbconvert_exporter": "python",
   "pygments_lexer": "ipython2",
   "version": "2.7.6"
  }
 },
 "nbformat": 4,
 "nbformat_minor": 0
}
