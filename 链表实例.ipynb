{
 "cells": [
  {
   "cell_type": "markdown",
   "source": [
    "## 创建一个简易的链表类"
   ],
   "metadata": {
    "collapsed": false
   }
  },
  {
   "cell_type": "code",
   "execution_count": 1,
   "outputs": [],
   "source": [
    "class Node:\n",
    "    def __init__(self, val, next=None):\n",
    "        self.val = val\n",
    "        self.next = next\n",
    "\n",
    "\n",
    "a = Node(1)\n",
    "b = Node(2)\n",
    "c = Node(3)"
   ],
   "metadata": {
    "collapsed": false,
    "ExecuteTime": {
     "start_time": "2023-05-06T10:35:29.193578Z",
     "end_time": "2023-05-06T10:35:29.234810Z"
    }
   }
  },
  {
   "cell_type": "markdown",
   "source": [
    "## 头插法创建链表"
   ],
   "metadata": {
    "collapsed": false
   }
  },
  {
   "cell_type": "code",
   "execution_count": 14,
   "outputs": [],
   "source": [
    "#头插法创建一个链表\n",
    "def create_linklist_head(li):\n",
    "    #设定头节点为列表第一个元素\n",
    "    head = Node(li[0])\n",
    "    #遍历列表，每读取到一个元素就将头部指针指向它\n",
    "    for i in li[1:]:\n",
    "        node = Node(i)\n",
    "        #将当前节点链接至后节点，并且将头指针指向当前节点\n",
    "        node.next = head\n",
    "        head = node\n",
    "    return head\n"
   ],
   "metadata": {
    "collapsed": false,
    "ExecuteTime": {
     "start_time": "2023-05-04T20:53:44.983234Z",
     "end_time": "2023-05-04T20:53:44.995852Z"
    }
   }
  },
  {
   "cell_type": "code",
   "execution_count": 15,
   "outputs": [
    {
     "name": "stdout",
     "output_type": "stream",
     "text": [
      "10\n",
      "9\n",
      "8\n",
      "7\n",
      "6\n",
      "5\n",
      "4\n",
      "3\n",
      "2\n",
      "1\n"
     ]
    }
   ],
   "source": [
    "list_1 = [1, 2, 3, 4, 5, 6, 7, 8, 9, 10]\n",
    "a = create_linklist_head(list_1)\n",
    "while a:\n",
    "    print(a.val)\n",
    "    a = a.next"
   ],
   "metadata": {
    "collapsed": false,
    "ExecuteTime": {
     "start_time": "2023-05-04T20:53:50.451102Z",
     "end_time": "2023-05-04T20:53:50.587210Z"
    }
   }
  },
  {
   "cell_type": "markdown",
   "source": [
    "## 尾插法创建一个链表"
   ],
   "metadata": {
    "collapsed": false
   }
  },
  {
   "cell_type": "code",
   "execution_count": 35,
   "outputs": [],
   "source": [
    "#尾插法创建一个链表\n",
    "def create_linklist_tail(li):\n",
    "    #定义头节点\n",
    "    head = Node(li[0])\n",
    "    #定义尾节点\n",
    "    tail = head\n",
    "    #遍历列表的每一个元素\n",
    "    for i in li[1:]:\n",
    "        node = Node(i)\n",
    "        #将尾指针指向遍历到的每一个元素，并将这个元素添加到链表中\n",
    "        tail.next = node\n",
    "        tail = node\n",
    "    return head"
   ],
   "metadata": {
    "collapsed": false,
    "ExecuteTime": {
     "start_time": "2023-05-04T21:39:42.102929Z",
     "end_time": "2023-05-04T21:39:42.120881Z"
    }
   }
  },
  {
   "cell_type": "code",
   "execution_count": 37,
   "outputs": [
    {
     "name": "stdout",
     "output_type": "stream",
     "text": [
      "1\n",
      "2\n",
      "3\n",
      "4\n",
      "5\n",
      "6\n",
      "7\n",
      "8\n",
      "9\n",
      "10\n"
     ]
    }
   ],
   "source": [
    "a = create_linklist_tail(list_1)\n",
    "while a:\n",
    "    print(a.val)\n",
    "    a = a.next"
   ],
   "metadata": {
    "collapsed": false,
    "ExecuteTime": {
     "start_time": "2023-05-04T21:39:56.167823Z",
     "end_time": "2023-05-04T21:39:56.191758Z"
    }
   }
  },
  {
   "cell_type": "code",
   "execution_count": 23,
   "outputs": [],
   "source": [
    "def quicksort(arr):\n",
    "    # 当列表为空或只有一个元素时，直接返回该列表\n",
    "    if len(arr) < 2:\n",
    "        return arr\n",
    "    else:\n",
    "        # 选取基准值，这里选择列表中间的值\n",
    "        pivot = arr[len(arr) // 2]\n",
    "        # 小于基准值的元素放在左边，大于等于基准值的元素放在右边\n",
    "        left = [i for i in arr if i < pivot]\n",
    "        right = [i for i in arr if i >= pivot]\n",
    "        # 对左右两部分分别进行递归调用，得到排好序的列表\n",
    "        left_sorted = quicksort(left)\n",
    "        right_sorted = quicksort(right)\n",
    "        # 将排好序的左右两部分合并，并返回结果\n",
    "        return left_sorted + [pivot] + right_sorted\n"
   ],
   "metadata": {
    "collapsed": false,
    "ExecuteTime": {
     "start_time": "2023-05-06T14:57:35.459566Z",
     "end_time": "2023-05-06T14:57:35.475189Z"
    }
   }
  },
  {
   "cell_type": "code",
   "execution_count": 25,
   "outputs": [
    {
     "data": {
      "text/plain": "[2, 4, 4, 15, 15, 23, 23, 45, 45, 61, 61, 71, 71]"
     },
     "execution_count": 25,
     "metadata": {},
     "output_type": "execute_result"
    }
   ],
   "source": [
    "x = [2, 4, 23, 45, 61, 15, 71]\n",
    "quicksort(x)"
   ],
   "metadata": {
    "collapsed": false,
    "ExecuteTime": {
     "start_time": "2023-05-06T14:57:39.552961Z",
     "end_time": "2023-05-06T14:57:39.584203Z"
    }
   }
  },
  {
   "cell_type": "code",
   "execution_count": 26,
   "outputs": [
    {
     "name": "stdout",
     "output_type": "stream",
     "text": [
      "apple 7528101926739953213\n",
      "banana -8167724048580771557\n",
      "orange -3335767109135708913\n"
     ]
    }
   ],
   "source": [
    "my_dict = {'apple': 1, 'banana': 2, 'orange': 3}\n",
    "for key in my_dict:\n",
    "    print(key, hash(key))\n"
   ],
   "metadata": {
    "collapsed": false,
    "ExecuteTime": {
     "start_time": "2023-05-06T14:57:40.709776Z",
     "end_time": "2023-05-06T14:57:40.725430Z"
    }
   }
  },
  {
   "cell_type": "code",
   "execution_count": 29,
   "outputs": [],
   "source": [
    "def quicksort(arr):\n",
    "    #当列表为空只有一个元素时，返回那个列表\n",
    "    if len(arr) < 2:\n",
    "        return arr\n",
    "    else:\n",
    "        pivot = arr[len(arr) // 2]\n",
    "        left = [i for i in arr if i < pivot]\n",
    "        right = [i for i in arr if i > pivot]\n",
    "        middle = [i for i in arr if i == pivot]\n",
    "        return quicksort(left) + middle + quicksort(right)"
   ],
   "metadata": {
    "collapsed": false,
    "ExecuteTime": {
     "start_time": "2023-05-06T14:58:56.224844Z",
     "end_time": "2023-05-06T14:58:56.256119Z"
    }
   }
  },
  {
   "cell_type": "code",
   "execution_count": 30,
   "outputs": [
    {
     "data": {
      "text/plain": "[0, 1, 2, 5, 7, 10, 12, 28, 37, 45, 65, 78]"
     },
     "execution_count": 30,
     "metadata": {},
     "output_type": "execute_result"
    }
   ],
   "source": [
    "a = [1,5,2,7,0,12,10,78,65,45,37,28]\n",
    "quicksort(a)"
   ],
   "metadata": {
    "collapsed": false,
    "ExecuteTime": {
     "start_time": "2023-05-06T14:58:56.655165Z",
     "end_time": "2023-05-06T14:58:56.686419Z"
    }
   }
  },
  {
   "cell_type": "code",
   "execution_count": 31,
   "outputs": [],
   "source": [
    "def quicksort_1(arr):\n",
    "    if len(arr) < 2:\n",
    "        return arr\n",
    "    else:\n",
    "        pivot = arr[len(arr)//2]\n",
    "        left = [i for i in arr if i < pivot]\n",
    "        mid = [i for i in arr if i == pivot]\n",
    "        right = [i for i in arr if i > pivot]\n",
    "        return quicksort_1(left) + mid + quicksort_1(right)"
   ],
   "metadata": {
    "collapsed": false,
    "ExecuteTime": {
     "start_time": "2023-05-06T15:15:09.972887Z",
     "end_time": "2023-05-06T15:15:10.019754Z"
    }
   }
  },
  {
   "cell_type": "code",
   "execution_count": 32,
   "outputs": [
    {
     "data": {
      "text/plain": "[0, 1, 2, 5, 7, 10, 12, 28, 37, 45, 65, 78]"
     },
     "execution_count": 32,
     "metadata": {},
     "output_type": "execute_result"
    }
   ],
   "source": [
    "a = [1,5,2,7,0,12,10,78,65,45,37,28]\n",
    "quicksort_1(a)"
   ],
   "metadata": {
    "collapsed": false,
    "ExecuteTime": {
     "start_time": "2023-05-06T15:15:21.969868Z",
     "end_time": "2023-05-06T15:15:22.001108Z"
    }
   }
  }
 ],
 "metadata": {
  "kernelspec": {
   "display_name": "Python 3",
   "language": "python",
   "name": "python3"
  },
  "language_info": {
   "codemirror_mode": {
    "name": "ipython",
    "version": 2
   },
   "file_extension": ".py",
   "mimetype": "text/x-python",
   "name": "python",
   "nbconvert_exporter": "python",
   "pygments_lexer": "ipython2",
   "version": "2.7.6"
  }
 },
 "nbformat": 4,
 "nbformat_minor": 0
}
