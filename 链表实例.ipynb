{
 "cells": [
  {
   "cell_type": "markdown",
   "source": [
    "## 创建一个简易的链表类"
   ],
   "metadata": {
    "collapsed": false
   }
  },
  {
   "cell_type": "code",
   "execution_count": 19,
   "outputs": [],
   "source": [
    "class Node:\n",
    "    def __init__(self,val,next = None):\n",
    "        self.val = val\n",
    "        self.next = next\n",
    "\n",
    "a = Node(1)\n",
    "b = Node(2)\n",
    "c = Node(3)"
   ],
   "metadata": {
    "collapsed": false,
    "ExecuteTime": {
     "start_time": "2023-05-04T21:25:59.313569Z",
     "end_time": "2023-05-04T21:25:59.328518Z"
    }
   }
  },
  {
   "cell_type": "markdown",
   "source": [
    "## 头插法创建链表"
   ],
   "metadata": {
    "collapsed": false
   }
  },
  {
   "cell_type": "code",
   "execution_count": 14,
   "outputs": [],
   "source": [
    "#头插法创建一个链表\n",
    "def create_linklist_head(li):\n",
    "    #设定头节点为列表第一个元素\n",
    "    head = Node(li[0])\n",
    "    #遍历列表，每读取到一个元素就将头部指针指向它\n",
    "    for i in li[1:]:\n",
    "        node = Node(i)\n",
    "        #将当前节点链接至后节点，并且将头指针指向当前节点\n",
    "        node.next = head\n",
    "        head = node\n",
    "    return head\n"
   ],
   "metadata": {
    "collapsed": false,
    "ExecuteTime": {
     "start_time": "2023-05-04T20:53:44.983234Z",
     "end_time": "2023-05-04T20:53:44.995852Z"
    }
   }
  },
  {
   "cell_type": "code",
   "execution_count": 15,
   "outputs": [
    {
     "name": "stdout",
     "output_type": "stream",
     "text": [
      "10\n",
      "9\n",
      "8\n",
      "7\n",
      "6\n",
      "5\n",
      "4\n",
      "3\n",
      "2\n",
      "1\n"
     ]
    }
   ],
   "source": [
    "list_1 = [1,2,3,4,5,6,7,8,9,10]\n",
    "a = create_linklist_head(list_1)\n",
    "while a:\n",
    "    print(a.val)\n",
    "    a = a.next"
   ],
   "metadata": {
    "collapsed": false,
    "ExecuteTime": {
     "start_time": "2023-05-04T20:53:50.451102Z",
     "end_time": "2023-05-04T20:53:50.587210Z"
    }
   }
  },
  {
   "cell_type": "markdown",
   "source": [
    "## 尾插法创建一个链表"
   ],
   "metadata": {
    "collapsed": false
   }
  },
  {
   "cell_type": "code",
   "execution_count": 35,
   "outputs": [],
   "source": [
    "#尾插法创建一个链表\n",
    "def create_linklist_tail(li):\n",
    "    #定义头节点\n",
    "    head = Node(li[0])\n",
    "    #定义尾节点\n",
    "    tail = head\n",
    "    #遍历列表的每一个元素\n",
    "    for i in li[1:]:\n",
    "        node = Node(i)\n",
    "        #将尾指针指向遍历到的每一个元素，并将这个元素添加到链表中\n",
    "        tail.next = node\n",
    "        tail = node\n",
    "    return head"
   ],
   "metadata": {
    "collapsed": false,
    "ExecuteTime": {
     "start_time": "2023-05-04T21:39:42.102929Z",
     "end_time": "2023-05-04T21:39:42.120881Z"
    }
   }
  },
  {
   "cell_type": "code",
   "execution_count": 37,
   "outputs": [
    {
     "name": "stdout",
     "output_type": "stream",
     "text": [
      "1\n",
      "2\n",
      "3\n",
      "4\n",
      "5\n",
      "6\n",
      "7\n",
      "8\n",
      "9\n",
      "10\n"
     ]
    }
   ],
   "source": [
    "a = create_linklist_tail(list_1)\n",
    "while a:\n",
    "    print(a.val)\n",
    "    a = a.next"
   ],
   "metadata": {
    "collapsed": false,
    "ExecuteTime": {
     "start_time": "2023-05-04T21:39:56.167823Z",
     "end_time": "2023-05-04T21:39:56.191758Z"
    }
   }
  },
  {
   "cell_type": "code",
   "execution_count": null,
   "outputs": [],
   "source": [],
   "metadata": {
    "collapsed": false
   }
  }
 ],
 "metadata": {
  "kernelspec": {
   "display_name": "Python 3",
   "language": "python",
   "name": "python3"
  },
  "language_info": {
   "codemirror_mode": {
    "name": "ipython",
    "version": 2
   },
   "file_extension": ".py",
   "mimetype": "text/x-python",
   "name": "python",
   "nbconvert_exporter": "python",
   "pygments_lexer": "ipython2",
   "version": "2.7.6"
  }
 },
 "nbformat": 4,
 "nbformat_minor": 0
}
