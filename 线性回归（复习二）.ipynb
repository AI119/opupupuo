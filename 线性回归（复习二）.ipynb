{
 "cells": [
  {
   "attachments": {},
   "cell_type": "markdown",
   "metadata": {},
   "source": [
    "# 多元线性回归\n",
    "## 模型说明\n",
    "在线性回归中，如果存在多个自变量时，我们称该线性回归为**多元线性回归**。\n",
    "\n",
    "上节课中，我们学习了简单线性回归，并且使用房屋面积（$X$）来拟合房屋价格（$y$）。然而，现实中的数据通常是比较复杂的，自变量也很可能不只一个。例如，影响房屋价格不只房屋面积一个因素，可能还有距地铁距离，距市中心距离，房间数量，房屋所在层数，房屋建筑年代等诸多因素。不过，这些因素，对房屋价格影响的力度（权重）是不同的，例如，房屋所在层数对房屋价格的影响就远不及房屋面积，因此，我们可以为每个特征指定一个不同的权重。  \n",
    "<font size=5>  \n",
    "$\\hat{y} = w_0 + w_{1} * x_{1} + w_{2} * x_{2} + w_{3} * x_{3} + \\dots + w_{n} * x_{n}$  \n",
    "</font>  \n",
    "\n",
    "* $x_i$：第$i$个输入特征。\n",
    "* $w_i$：第$i$个特征的权重（影响力度）。\n",
    "* $n$：特征的个数。\n",
    "* $\\hat y$：预测值（房屋价格）。"
   ]
  },
  {
   "attachments": {},
   "cell_type": "markdown",
   "metadata": {},
   "source": [
    "## 向量表示\n",
    "我们也可以使用向量的表示方式，设$\\vec x$与$\\vec w$为两个向量：  \n",
    "<font size=5>  \n",
    "$\\vec w = (w_{1}, w_{2}, w_{3}, \\dots, w_{n})^T \\\\ \n",
    "\\vec x = (x_{1}, x_{2}, x_{3}, \\dots, x_{n})^T$  \n",
    "</font>  \n",
    "\n",
    "则回归方程可表示为：  \n",
    "<font size=5>  \n",
    "$\\hat{y} = \\sum_{j=1}^{n}(w_{j} * x_{j}) + w_0 \\\\ \n",
    "= \\vec w^T \\cdot \\vec x + w_0$  \n",
    "</font>  \n",
    "\n",
    "我们可以进一步简化，为向量$\\vec w$与$\\vec x$各加入一个分量$w_0$与$x_0$，并且令：  \n",
    "<font size=5>  \n",
    "$x_0 \\equiv 1$  \n",
    "</font>  \n",
    "\n",
    "于是，向量$\\vec w$与$\\vec x$就会变成：  \n",
    "<font size=5>  \n",
    "$\\vec w = (w_0, w_{1}, w_{2}, w_{3}, \\dots, w_{n})^T \\\\ \n",
    "\\vec x = (x_0, x_{1}, x_{2}, x_{3}, \\dots, x_{n})^T$  \n",
    "</font>  \n",
    "\n",
    "这样，就可以表示为：  \n",
    "<font size=5>  \n",
    "$\\hat{y} = w_{0} * x_{0} + w_{1} * x_{1} + w_{2} * x_{2} + w_{3} * x_{3} + \\dots + w_{n} * x_{n} \\\\ \n",
    "= \\sum_{j=0}^{n}(w_{j} * x_{j}) \\\\ \n",
    "= \\vec w^T \\cdot \\vec x$  \n",
    "</font>  "
   ]
  },
  {
   "attachments": {},
   "cell_type": "markdown",
   "metadata": {},
   "source": [
    "![图像无法显示](../imgs/exercise.png)\n",
    "设$\\vec w = (w_{1}, w_{2}, w_{3}, \\dots, w_{n})^T$，则$\\sum_{i=1}^{n}w_i^2$如果用向量表示，等价于（  ）。  \n",
    "A $\\vec w \\cdot \\vec w$  \n",
    "B $\\vec w^T \\cdot \\vec w$  \n",
    "C $\\vec w^T \\cdot \\vec w^T$  \n",
    "D $\\vec w \\cdot \\vec w^T$\n",
    "![图像无法显示](../imgs/split_line.png)"
   ]
  },
  {
   "attachments": {},
   "cell_type": "markdown",
   "metadata": {},
   "source": [
    "## 参数估计\n",
    "### 误差与分布\n",
    "接下来，我们来看一下线性回归模型中的误差。正如我们之前所提及的，线性回归中的自变量与因变量，是存在线性关系的。然而，这种关系并不是严格的函数映射关系，但是，我们构建的模型（方程）却是严格的函数映射关系，因此，对于每个样本来说，我们拟合的结果会与真实值之间存在一定的误差，我们可以将误差表示为：  \n",
    "<font size=5>  \n",
    "$\\hat{y} ^ {(i)} = \\vec{w}^T \\cdot \\vec{x}^{(i)}\\\\\n",
    "y ^ {(i)} = \\hat{y}^{(i)} + \\varepsilon^{(i)}\n",
    "$\n",
    "</font>\n",
    "\n",
    "* $\\varepsilon^{(i)}$：第$i$个样本真实值与预测值之间的误差（残差）。\n",
    "\n",
    "对于线性回归而言，具有一个前提假设：误差$\\varepsilon$服从均值为0，方差为$\\sigma^2$的正态分布。因此，根据正态分布的概率密度函数：  \n",
    "<font size=5>  \n",
    "$f(x) = \\frac{1}{\\sqrt{2\\pi}\\sigma}exp(-\\frac{(x - \\mu)^2}{2\\sigma^2})$\n",
    "</font>\n",
    "\n",
    "则误差$\\varepsilon$的分布为：  \n",
    "<font size=5>  \n",
    "$p(\\varepsilon) = \\frac{1}{\\sqrt{2\\pi}\\sigma}exp(-\\frac{\\varepsilon^2}{2\\sigma^2})\n",
    "$\n",
    "</font>\n",
    "\n",
    "因此，对于每一个样本的误差$\\varepsilon^{(i)}$，其概率值为：  \n",
    "<font size=5>  \n",
    "$p(\\varepsilon^{(i)};w) = \\frac{1}{\\sqrt{2\\pi}\\sigma}exp(-\\frac{(\\varepsilon^{(i)})^2}{2\\sigma^2}) \\\\\n",
    "= \\frac{1}{\\sqrt{2\\pi}\\sigma}exp(-\\frac{(y^{(i)} - \\vec{w}^T\\vec{x}^{(i)})^2}{2\\sigma^2})\n",
    "$\n",
    "</font>  "
   ]
  },
  {
   "attachments": {},
   "cell_type": "markdown",
   "metadata": {},
   "source": [
    "![图像无法显示](../imgs/summary.png)"
   ]
  },
  {
   "attachments": {},
   "cell_type": "markdown",
   "metadata": {},
   "source": [
    "### 极大似然估计\n",
    "极大似然估计（最大似然估计），是根据试验结果来估计未知参数的一种方式。其原则为：已经出现的，就是最有可能出现的，也就是令试验结果的概率值最大，来求解此时的未知参数值。\n",
    "\n",
    "根据该原则，我们让所有误差出现的联合概率最大，则此时参数w的值，就是我们要求解的值，我们构建似然函数：  \n",
    "<font size=5>  \n",
    "$L(w) = \\prod_{i=1}^{m}p(\\varepsilon^{(i)};w) \\\\ \n",
    "= \\prod_{i=1}^{m}\\frac{1}{\\sqrt{2\\pi}\\sigma}exp(-\\frac{(y^{(i)} - \\vec{w}^T\\vec{x}^{(i)})^2}{2\\sigma^2})\n",
    "$\n",
    "</font>\n",
    "\n",
    "* $m$：样本的数量。"
   ]
  },
  {
   "attachments": {},
   "cell_type": "markdown",
   "metadata": {},
   "source": [
    "### 对数似然函数\n",
    "不过，累计乘积的方式不利于求解，我们这里使用对数似然函数，即在似然函数上取对数操作，这样就可以将累计乘积转换为累计求和的形式。  \n",
    "<font size=5>  \n",
    "$ln(L(w)) = ln\\prod_{i=1}^{m}\\frac{1}{\\sqrt{2\\pi}\\sigma}exp(-\\frac{(y^{(i)} - \\vec{w}^T\\vec{x}^{(i)})^2}{2\\sigma^2}) \\\\\n",
    "= \\sum_{i=1}^{m}ln\\frac{1}{\\sqrt{2\\pi}\\sigma}exp(-\\frac{(y^{(i)} - \\vec{w}^T\\vec{x}^{(i)})^2}{2\\sigma^2}) \\\\\n",
    "= m * ln\\frac{1}{\\sqrt{2\\pi}\\sigma} - \\frac{1}{\\sigma^2} * \\frac{1}{2} * \\sum_{i=1}^{m}(y^{(i)} - \\vec{w}^T\\vec{x}^{(i)})^2\n",
    "$\n",
    "</font>"
   ]
  },
  {
   "attachments": {},
   "cell_type": "markdown",
   "metadata": {},
   "source": [
    "![图像无法显示](../imgs/thinking.png)\n",
    "\n",
    "* 我们原本的目的，是要求得令似然函数$L(w)$最大时，参数$w$的值。\n",
    "* 然而，我们对似然函数$L(w)$取对数，得到对数似然函数$ln(L(w))$，这样，就会将原似然函数$L(w)$改变。\n",
    "* 那这样一来，在对数似然函数$ln(L(w))$取得极大值时，计算得出的$w$会与原似然函数$L(w)$取得极大值，计算的$w$相同吗？\n"
   ]
  },
  {
   "cell_type": "code",
   "execution_count": 1,
   "metadata": {},
   "outputs": [
    {
     "data": {
      "text/plain": [
       "<matplotlib.legend.Legend at 0x1ad38c57520>"
      ]
     },
     "execution_count": 1,
     "metadata": {},
     "output_type": "execute_result"
    },
    {
     "data": {
      "image/png": "[encoded data removed]",
      "text/plain": [
       "<Figure size 432x288 with 1 Axes>"
      ]
     },
     "metadata": {
      "needs_background": "light"
     },
     "output_type": "display_data"
    }
   ],
   "source": [
    "import numpy as np\n",
    "import matplotlib.pyplot as plt\n",
    "plt.rcParams[\"font.family\"] = \"SimHei\"\n",
    "plt.rcParams[\"axes.unicode_minus\"] = False\n",
    "plt.rcParams[\"font.size\"] = 12\n",
    "\n",
    "x = np.linspace(-3, 3, 200)\n",
    "# 原函数。\n",
    "y = 0.5 * x ** 2 + 1\n",
    "# 对数函数。\n",
    "lny = np.log(y)\n",
    "plt.plot(x, y, label=\"原函数\")\n",
    "plt.plot(x, lny, label=\"对数函数\")\n",
    "plt.legend()"
   ]
  },
  {
   "attachments": {},
   "cell_type": "markdown",
   "metadata": {},
   "source": [
    "### 损失函数\n",
    "上式中，前半部分都是常数，我们的目的是为了让对数似然函数值最大，故我们只需要让后半部分的值最小即可，因此，后半部分，就可以作为线性回归的损失函数。该函数是二次函数，具有唯一极小值。  \n",
    "<font size=5>  \n",
    "$J(w) = \\frac{1}{2} * \\sum_{i=1}^{m}(y^{(i)} - \\vec{w}^T\\vec{x}^{(i)})^2 \\qquad (1)$\n",
    "</font>  "
   ]
  },
  {
   "attachments": {},
   "cell_type": "markdown",
   "metadata": {},
   "source": [
    "### 损失函数向量化表示\n",
    "在上面的损失函数中，我们是使用标量的方式来表示的。这不方便在实际应用中计算，我们可以采用矩阵与向量的方式来表示。\n",
    "\n",
    "<font size=5>  \n",
    "$%定义向量y。\n",
    "\\vec{y} = \\begin{bmatrix}\n",
    "y^{(1)} \\\\ \n",
    "y^{(2)} \\\\ \n",
    "\\dots \\\\ \n",
    "y^{(m)}\n",
    "\\end{bmatrix} \\\\\n",
    "%定义向量y_hat。\n",
    "\\vec{\\hat{y}} = \\begin{bmatrix}\n",
    "\\hat{y}^{(1)} \\\\ \n",
    "\\hat{y}^{(2)} \\\\ \n",
    "\\dots \\\\ \n",
    "\\hat{y}^{(m)}\n",
    "\\end{bmatrix} = \n",
    "% y_hat的展开。\n",
    "\\begin{bmatrix}\n",
    "\\vec{w}^T\\vec{x}^{(1)} \\\\ \n",
    "\\vec{w}^T\\vec{x}^{(2)} \\\\ \n",
    "\\dots \\\\ \n",
    "\\vec{w}^T\\vec{x}^{(m)}\n",
    "\\end{bmatrix} =\n",
    "%y_hat再次展开。\n",
    "\\begin{bmatrix}\n",
    "w_0x_0^{(1)} + w_1x_1^{(1)} + w_2x_2^{(1)} + \\dots + w_nx_n^{(1)} \\\\ \n",
    "w_0x_0^{(2)} + w_1x_1^{(2)} + w_2x_2^{(2)} + \\dots + w_nx_n^{(2)} \\\\ \n",
    "\\dots \\\\ \n",
    "w_0x_0^{(m)} + w_1x_1^{(m)} + w_2x_2^{(m)} + \\dots + w_nx_n^{(m)} \\\\ \n",
    "\\end{bmatrix} \\\\\n",
    "%提取X矩阵元素与w向量元素。\n",
    "= \\begin{bmatrix}\n",
    "x_0^{(1)}, x_1^{(1)}, x_2^{(1)}, \\dots, x_n^{(1)} \\\\ \n",
    "x_0^{(2)}, x_1^{(2)}, x_2^{(2)}, \\dots, x_n^{(2)} \\\\ \n",
    "\\dots \\\\ \n",
    "x_0^{(m)}, x_1^{(m)}, x_2^{(m)}, \\dots, x_n^{(m)}\n",
    "\\end{bmatrix} \\cdot\n",
    "\\begin{bmatrix}\n",
    "w_0 \\\\\n",
    "w_1 \\\\ \n",
    "w_2 \\\\ \n",
    "\\dots \\\\ \n",
    "w_n\n",
    "\\end{bmatrix} = X\\cdot \\vec{w} \\qquad \\Rightarrow\n",
    "$\n",
    "</font>"
   ]
  },
  {
   "attachments": {},
   "cell_type": "markdown",
   "metadata": {},
   "source": [
    "<font size=5>\n",
    "$%定义向量epsilon。\n",
    "\\vec{\\varepsilon} = \\begin{bmatrix}\n",
    "\\varepsilon^{(1)} \\\\ \n",
    "\\varepsilon^{(2)} \\\\ \n",
    "\\dots \\\\ \n",
    "\\varepsilon^{(m)}\n",
    "\\end{bmatrix} = \n",
    "% 定义向量epsilon展开式。\n",
    "\\begin{bmatrix}\n",
    "y^{(1)} - \\hat{y}^{(1)} \\\\ \n",
    "y^{(2)} - \\hat{y}^{(2)} \\\\ \n",
    "\\dots \\\\ \n",
    "y^{(m)} - \\hat{y}^{(m)}\n",
    "\\end{bmatrix} =\n",
    "% 向量y - y_hat。\n",
    "\\vec{y} - \\vec{\\hat{y}} =\n",
    "\\vec{y} - X \\cdot \\vec{w} \\qquad \\Rightarrow \\\\\n",
    "% epsilon转换为矩阵表示。\n",
    "\\sum_{i=1}^{m}(\\varepsilon^{(i)})^2 = \\vec{\\varepsilon}^T \\cdot \\vec{\\varepsilon}\n",
    "= (\\vec{y} - X\\vec{w})^T(\\vec{y} - X\\vec{w}) \\qquad （2）\n",
    "$\n",
    "</font>\n",
    "\n",
    "将（2）带入（1）：  \n",
    "<font size=5>  \n",
    "$J(w) = \\frac{1}{2} * \\sum_{i=1}^{m}(y^{(i)} - \\vec{w}^T\\vec{x}^{(i)})^2 \\\\\n",
    "= \\frac{1}{2} * (\\vec{y} - X\\vec{w})^T(\\vec{y} - X\\vec{w})\n",
    "$\n",
    "</font>"
   ]
  },
  {
   "attachments": {},
   "cell_type": "markdown",
   "metadata": {},
   "source": [
    "### 损失函数求导\n",
    "我们要求该损失函数的最小值，只需要对向量$\\vec{w}$进行求导，令导数为0，此时$\\vec{w}$的值，就是最佳解。  \n",
    "<font size=5>  \n",
    "$\\frac{\\partial J(w)}{\\partial \\vec{w}} = \n",
    "\\frac{\\partial}{\\partial \\vec{w}}(\\frac{1}{2}(\\vec{y} - X\\vec{w})^T(\\vec{y} - X\\vec{w})) \\\\ \n",
    "= \\frac{\\partial}{\\partial \\vec{w}}(\\frac{1}{2}(\\vec{y}^T - \\vec{w}^TX^T)(\\vec{y} - X\\vec{w}))\\\\ \n",
    "= \\frac{\\partial}{\\partial \\vec{w}}(\\frac{1}{2}(\\vec{y}^T\\vec{y} - \\vec{y}^TX\\vec{w} - \\vec{w}^TX^T\\vec{y} + \\vec{w}^TX^TX\\vec{w}))\n",
    "$</font>"
   ]
  },
  {
   "attachments": {},
   "cell_type": "markdown",
   "metadata": {},
   "source": [
    "### 损失函数化简\n",
    "根据矩阵与向量的求导公式，有：  \n",
    "<font size=5>  \n",
    "$\\frac{\\partial A\\vec{x}}{\\partial \\vec{x}} = A^T \\qquad \n",
    "\\frac{\\partial A\\vec{x}}{\\partial \\vec{x}^T} = A \\qquad\n",
    "\\frac{\\partial (\\vec{x}^TA)}{\\partial \\vec{x}} = A \\\\ \n",
    "\\frac{\\partial (\\vec{x}^TA\\vec{x})}{\\partial \\vec{x}} = (A^T + A)\\vec{x}\n",
    "$\n",
    "</font>\n",
    "\n",
    "特别的，如果$A = A ^ {T}$（A为对称矩阵），则：  \n",
    "<font size=5>  \n",
    "$\\frac{\\partial (\\vec{x}^TA\\vec{x})}{\\partial \\vec{x}} = 2A\\vec{x}\n",
    "$</font>\n",
    "\n",
    "因此：  \n",
    "<font size=5>  \n",
    "$\\frac{\\partial}{\\partial \\vec{w}}(\\frac{1}{2}(\\vec{y}^T\\vec{y} - \\vec{y}^TX\\vec{w} - \\vec{w}^TX^T\\vec{y} + \\vec{w}^TX^TX\\vec{w})) \\\\ \n",
    "= \\frac{1}{2}(-(\\vec{y}^TX)^T - X^T\\vec{y} + 2X^TX\\vec{w}) \\\\ \n",
    "= X^{T}X\\vec{w} - X^T\\vec{y}\n",
    "$</font>\n",
    "\n",
    "令导函数的值为0，则：  \n",
    "<font size=5>  \n",
    "$\\vec{w} = (X^TX)^{-1}X^T\\vec{y}$</font>\n",
    "\n",
    "* 矩阵$X^TX$必须是可逆的。"
   ]
  },
  {
   "cell_type": "code",
   "execution_count": 2,
   "metadata": {},
   "outputs": [
    {
     "ename": "FileNotFoundError",
     "evalue": "[Errno 2] No such file or directory: 'Advertising.csv'",
     "output_type": "error",
     "traceback": [
      "\u001b[1;31m---------------------------------------------------------------------------\u001b[0m",
      "\u001b[1;31mFileNotFoundError\u001b[0m                         Traceback (most recent call last)",
      "Cell \u001b[1;32mIn[2], line 6\u001b[0m\n\u001b[0;32m      3\u001b[0m \u001b[39mfrom\u001b[39;00m \u001b[39msklearn\u001b[39;00m\u001b[39m.\u001b[39;00m\u001b[39mlinear_model\u001b[39;00m \u001b[39mimport\u001b[39;00m LinearRegression\n\u001b[0;32m      4\u001b[0m \u001b[39mfrom\u001b[39;00m \u001b[39msklearn\u001b[39;00m\u001b[39m.\u001b[39;00m\u001b[39mmodel_selection\u001b[39;00m \u001b[39mimport\u001b[39;00m train_test_split\n\u001b[1;32m----> 6\u001b[0m data \u001b[39m=\u001b[39m pd\u001b[39m.\u001b[39;49mread_csv(\u001b[39m\"\u001b[39;49m\u001b[39mAdvertising.csv\u001b[39;49m\u001b[39m\"\u001b[39;49m, usecols\u001b[39m=\u001b[39;49m[\u001b[39m\"\u001b[39;49m\u001b[39mTV\u001b[39;49m\u001b[39m\"\u001b[39;49m,\u001b[39m\"\u001b[39;49m\u001b[39mRadio\u001b[39;49m\u001b[39m\"\u001b[39;49m,\u001b[39m\"\u001b[39;49m\u001b[39mNewspaper\u001b[39;49m\u001b[39m\"\u001b[39;49m,\u001b[39m\"\u001b[39;49m\u001b[39mSales\u001b[39;49m\u001b[39m\"\u001b[39;49m], header\u001b[39m=\u001b[39;49m\u001b[39m0\u001b[39;49m)\n\u001b[0;32m      7\u001b[0m data\u001b[39m.\u001b[39mhead()\n",
      "File \u001b[1;32mc:\\ProgramData\\Anaconda3\\lib\\site-packages\\pandas\\io\\parsers\\readers.py:912\u001b[0m, in \u001b[0;36mread_csv\u001b[1;34m(filepath_or_buffer, sep, delimiter, header, names, index_col, usecols, dtype, engine, converters, true_values, false_values, skipinitialspace, skiprows, skipfooter, nrows, na_values, keep_default_na, na_filter, verbose, skip_blank_lines, parse_dates, infer_datetime_format, keep_date_col, date_parser, date_format, dayfirst, cache_dates, iterator, chunksize, compression, thousands, decimal, lineterminator, quotechar, quoting, doublequote, escapechar, comment, encoding, encoding_errors, dialect, on_bad_lines, delim_whitespace, low_memory, memory_map, float_precision, storage_options, dtype_backend)\u001b[0m\n\u001b[0;32m    899\u001b[0m kwds_defaults \u001b[39m=\u001b[39m _refine_defaults_read(\n\u001b[0;32m    900\u001b[0m     dialect,\n\u001b[0;32m    901\u001b[0m     delimiter,\n\u001b[1;32m   (...)\u001b[0m\n\u001b[0;32m    908\u001b[0m     dtype_backend\u001b[39m=\u001b[39mdtype_backend,\n\u001b[0;32m    909\u001b[0m )\n\u001b[0;32m    910\u001b[0m kwds\u001b[39m.\u001b[39mupdate(kwds_defaults)\n\u001b[1;32m--> 912\u001b[0m \u001b[39mreturn\u001b[39;00m _read(filepath_or_buffer, kwds)\n",
      "File \u001b[1;32mc:\\ProgramData\\Anaconda3\\lib\\site-packages\\pandas\\io\\parsers\\readers.py:577\u001b[0m, in \u001b[0;36m_read\u001b[1;34m(filepath_or_buffer, kwds)\u001b[0m\n\u001b[0;32m    574\u001b[0m _validate_names(kwds\u001b[39m.\u001b[39mget(\u001b[39m\"\u001b[39m\u001b[39mnames\u001b[39m\u001b[39m\"\u001b[39m, \u001b[39mNone\u001b[39;00m))\n\u001b[0;32m    576\u001b[0m \u001b[39m# Create the parser.\u001b[39;00m\n\u001b[1;32m--> 577\u001b[0m parser \u001b[39m=\u001b[39m TextFileReader(filepath_or_buffer, \u001b[39m*\u001b[39m\u001b[39m*\u001b[39mkwds)\n\u001b[0;32m    579\u001b[0m \u001b[39mif\u001b[39;00m chunksize \u001b[39mor\u001b[39;00m iterator:\n\u001b[0;32m    580\u001b[0m     \u001b[39mreturn\u001b[39;00m parser\n",
      "File \u001b[1;32mc:\\ProgramData\\Anaconda3\\lib\\site-packages\\pandas\\io\\parsers\\readers.py:1407\u001b[0m, in \u001b[0;36mTextFileReader.__init__\u001b[1;34m(self, f, engine, **kwds)\u001b[0m\n\u001b[0;32m   1404\u001b[0m     \u001b[39mself\u001b[39m\u001b[39m.\u001b[39moptions[\u001b[39m\"\u001b[39m\u001b[39mhas_index_names\u001b[39m\u001b[39m\"\u001b[39m] \u001b[39m=\u001b[39m kwds[\u001b[39m\"\u001b[39m\u001b[39mhas_index_names\u001b[39m\u001b[39m\"\u001b[39m]\n\u001b[0;32m   1406\u001b[0m \u001b[39mself\u001b[39m\u001b[39m.\u001b[39mhandles: IOHandles \u001b[39m|\u001b[39m \u001b[39mNone\u001b[39;00m \u001b[39m=\u001b[39m \u001b[39mNone\u001b[39;00m\n\u001b[1;32m-> 1407\u001b[0m \u001b[39mself\u001b[39m\u001b[39m.\u001b[39m_engine \u001b[39m=\u001b[39m \u001b[39mself\u001b[39;49m\u001b[39m.\u001b[39;49m_make_engine(f, \u001b[39mself\u001b[39;49m\u001b[39m.\u001b[39;49mengine)\n",
      "File \u001b[1;32mc:\\ProgramData\\Anaconda3\\lib\\site-packages\\pandas\\io\\parsers\\readers.py:1661\u001b[0m, in \u001b[0;36mTextFileReader._make_engine\u001b[1;34m(self, f, engine)\u001b[0m\n\u001b[0;32m   1659\u001b[0m     \u001b[39mif\u001b[39;00m \u001b[39m\"\u001b[39m\u001b[39mb\u001b[39m\u001b[39m\"\u001b[39m \u001b[39mnot\u001b[39;00m \u001b[39min\u001b[39;00m mode:\n\u001b[0;32m   1660\u001b[0m         mode \u001b[39m+\u001b[39m\u001b[39m=\u001b[39m \u001b[39m\"\u001b[39m\u001b[39mb\u001b[39m\u001b[39m\"\u001b[39m\n\u001b[1;32m-> 1661\u001b[0m \u001b[39mself\u001b[39m\u001b[39m.\u001b[39mhandles \u001b[39m=\u001b[39m get_handle(\n\u001b[0;32m   1662\u001b[0m     f,\n\u001b[0;32m   1663\u001b[0m     mode,\n\u001b[0;32m   1664\u001b[0m     encoding\u001b[39m=\u001b[39;49m\u001b[39mself\u001b[39;49m\u001b[39m.\u001b[39;49moptions\u001b[39m.\u001b[39;49mget(\u001b[39m\"\u001b[39;49m\u001b[39mencoding\u001b[39;49m\u001b[39m\"\u001b[39;49m, \u001b[39mNone\u001b[39;49;00m),\n\u001b[0;32m   1665\u001b[0m     compression\u001b[39m=\u001b[39;49m\u001b[39mself\u001b[39;49m\u001b[39m.\u001b[39;49moptions\u001b[39m.\u001b[39;49mget(\u001b[39m\"\u001b[39;49m\u001b[39mcompression\u001b[39;49m\u001b[39m\"\u001b[39;49m, \u001b[39mNone\u001b[39;49;00m),\n\u001b[0;32m   1666\u001b[0m     memory_map\u001b[39m=\u001b[39;49m\u001b[39mself\u001b[39;49m\u001b[39m.\u001b[39;49moptions\u001b[39m.\u001b[39;49mget(\u001b[39m\"\u001b[39;49m\u001b[39mmemory_map\u001b[39;49m\u001b[39m\"\u001b[39;49m, \u001b[39mFalse\u001b[39;49;00m),\n\u001b[0;32m   1667\u001b[0m     is_text\u001b[39m=\u001b[39;49mis_text,\n\u001b[0;32m   1668\u001b[0m     errors\u001b[39m=\u001b[39;49m\u001b[39mself\u001b[39;49m\u001b[39m.\u001b[39;49moptions\u001b[39m.\u001b[39;49mget(\u001b[39m\"\u001b[39;49m\u001b[39mencoding_errors\u001b[39;49m\u001b[39m\"\u001b[39;49m, \u001b[39m\"\u001b[39;49m\u001b[39mstrict\u001b[39;49m\u001b[39m\"\u001b[39;49m),\n\u001b[0;32m   1669\u001b[0m     storage_options\u001b[39m=\u001b[39;49m\u001b[39mself\u001b[39;49m\u001b[39m.\u001b[39;49moptions\u001b[39m.\u001b[39;49mget(\u001b[39m\"\u001b[39;49m\u001b[39mstorage_options\u001b[39;49m\u001b[39m\"\u001b[39;49m, \u001b[39mNone\u001b[39;49;00m),\n\u001b[0;32m   1670\u001b[0m )\n\u001b[0;32m   1671\u001b[0m \u001b[39massert\u001b[39;00m \u001b[39mself\u001b[39m\u001b[39m.\u001b[39mhandles \u001b[39mis\u001b[39;00m \u001b[39mnot\u001b[39;00m \u001b[39mNone\u001b[39;00m\n\u001b[0;32m   1672\u001b[0m f \u001b[39m=\u001b[39m \u001b[39mself\u001b[39m\u001b[39m.\u001b[39mhandles\u001b[39m.\u001b[39mhandle\n",
      "File \u001b[1;32mc:\\ProgramData\\Anaconda3\\lib\\site-packages\\pandas\\io\\common.py:859\u001b[0m, in \u001b[0;36mget_handle\u001b[1;34m(path_or_buf, mode, encoding, compression, memory_map, is_text, errors, storage_options)\u001b[0m\n\u001b[0;32m    854\u001b[0m \u001b[39melif\u001b[39;00m \u001b[39misinstance\u001b[39m(handle, \u001b[39mstr\u001b[39m):\n\u001b[0;32m    855\u001b[0m     \u001b[39m# Check whether the filename is to be opened in binary mode.\u001b[39;00m\n\u001b[0;32m    856\u001b[0m     \u001b[39m# Binary mode does not support 'encoding' and 'newline'.\u001b[39;00m\n\u001b[0;32m    857\u001b[0m     \u001b[39mif\u001b[39;00m ioargs\u001b[39m.\u001b[39mencoding \u001b[39mand\u001b[39;00m \u001b[39m\"\u001b[39m\u001b[39mb\u001b[39m\u001b[39m\"\u001b[39m \u001b[39mnot\u001b[39;00m \u001b[39min\u001b[39;00m ioargs\u001b[39m.\u001b[39mmode:\n\u001b[0;32m    858\u001b[0m         \u001b[39m# Encoding\u001b[39;00m\n\u001b[1;32m--> 859\u001b[0m         handle \u001b[39m=\u001b[39m \u001b[39mopen\u001b[39;49m(\n\u001b[0;32m    860\u001b[0m             handle,\n\u001b[0;32m    861\u001b[0m             ioargs\u001b[39m.\u001b[39;49mmode,\n\u001b[0;32m    862\u001b[0m             encoding\u001b[39m=\u001b[39;49mioargs\u001b[39m.\u001b[39;49mencoding,\n\u001b[0;32m    863\u001b[0m             errors\u001b[39m=\u001b[39;49merrors,\n\u001b[0;32m    864\u001b[0m             newline\u001b[39m=\u001b[39;49m\u001b[39m\"\u001b[39;49m\u001b[39m\"\u001b[39;49m,\n\u001b[0;32m    865\u001b[0m         )\n\u001b[0;32m    866\u001b[0m     \u001b[39melse\u001b[39;00m:\n\u001b[0;32m    867\u001b[0m         \u001b[39m# Binary mode\u001b[39;00m\n\u001b[0;32m    868\u001b[0m         handle \u001b[39m=\u001b[39m \u001b[39mopen\u001b[39m(handle, ioargs\u001b[39m.\u001b[39mmode)\n",
      "\u001b[1;31mFileNotFoundError\u001b[0m: [Errno 2] No such file or directory: 'Advertising.csv'"
     ]
    }
   ],
   "source": [
    "import numpy as np\n",
    "import pandas as pd\n",
    "from sklearn.linear_model import LinearRegression\n",
    "from sklearn.model_selection import train_test_split\n",
    "\n",
    "data = pd.read_csv(\"Advertising.csv\", usecols=[\"TV\",\"Radio\",\"Newspaper\",\"Sales\"], header=0)\n",
    "data.head()"
   ]
  },
  {
   "cell_type": "code",
   "execution_count": null,
   "metadata": {},
   "outputs": [
    {
     "name": "stdout",
     "output_type": "stream",
     "text": [
      "[0.04391531 0.20027962 0.00184368]\n",
      "2.880255286331325\n",
      "[10.05866652  7.43318827  6.95305695 24.16874598 11.98172029]\n",
      "18     11.3\n",
      "170     8.4\n",
      "107     8.7\n",
      "98     25.4\n",
      "177    11.7\n",
      "Name: Sales, dtype: float64\n"
     ]
    }
   ],
   "source": [
    "X, y = data[[\"TV\", \"Radio\", \"Newspaper\"]], data[\"Sales\"]\n",
    "X_train, X_test, y_train, y_test = train_test_split(X, y, test_size=0.3, random_state=0)\n",
    "lr = LinearRegression()\n",
    "lr.fit(X_train, y_train)\n",
    "print(lr.coef_)\n",
    "print(lr.intercept_)\n",
    "y_hat = lr.predict(X_test)\n",
    "print(y_hat[:5])\n",
    "print(y_test[:5])"
   ]
  },
  {
   "cell_type": "code",
   "execution_count": null,
   "metadata": {},
   "outputs": [
    {
     "name": "stdout",
     "output_type": "stream",
     "text": [
      "[2.88025529e+00 4.39153137e-02 2.00279617e-01 1.84368178e-03]\n"
     ]
    }
   ],
   "source": [
    "# 自力更生。\n",
    "X = X_train.values\n",
    "y = y_train.values\n",
    "one = np.ones(shape=(len(X), 1))\n",
    "X = np.concatenate([one, X], axis=1)\n",
    "# np.linalg.inv求矩阵的逆。\n",
    "w = np.linalg.inv(X.T.dot(X)).dot(X.T).dot(y)\n",
    "print(w)"
   ]
  },
  {
   "attachments": {},
   "cell_type": "markdown",
   "metadata": {},
   "source": [
    "![图像无法显示](../imgs/extend.png)\n",
    "## 三维可视化\n",
    "多元线性回归在空间中，可以表示为一个超平面，去拟合空间中的数据点。这里，为了可视化方便，我们仅选取NOX与RM两个特征（自变量）进行拟合。"
   ]
  },
  {
   "cell_type": "code",
   "execution_count": null,
   "metadata": {},
   "outputs": [],
   "source": [
    "# 提取前两个特征。\n",
    "X_partial = X[[\"TV\", \"Radio\"]].values\n",
    "lr2 = LinearRegression()\n",
    "lr2.fit(X_partial, y)"
   ]
  },
  {
   "cell_type": "code",
   "execution_count": null,
   "metadata": {},
   "outputs": [
    {
     "ename": "ImportError",
     "evalue": "The Qt version imported is 5.9.7 but Matplotlib requires Qt>=5.10",
     "output_type": "error",
     "traceback": [
      "\u001b[1;31m---------------------------------------------------------------------------\u001b[0m",
      "\u001b[1;31mImportError\u001b[0m                               Traceback (most recent call last)",
      "Cell \u001b[1;32mIn[1], line 5\u001b[0m\n\u001b[0;32m      1\u001b[0m \u001b[39mfrom\u001b[39;00m \u001b[39mmpl_toolkits\u001b[39;00m\u001b[39m.\u001b[39;00m\u001b[39mmplot3d\u001b[39;00m \u001b[39mimport\u001b[39;00m Axes3D\n\u001b[0;32m      2\u001b[0m \u001b[39m# 图形显示方式，默认为嵌入显示。\u001b[39;00m\n\u001b[0;32m      3\u001b[0m \u001b[39m# %matplotlib inline\u001b[39;00m\n\u001b[0;32m      4\u001b[0m \u001b[39m# 弹出框显示。\u001b[39;00m\n\u001b[1;32m----> 5\u001b[0m get_ipython()\u001b[39m.\u001b[39;49mrun_line_magic(\u001b[39m'\u001b[39;49m\u001b[39mmatplotlib\u001b[39;49m\u001b[39m'\u001b[39;49m, \u001b[39m'\u001b[39;49m\u001b[39mqt\u001b[39;49m\u001b[39m'\u001b[39;49m)\n\u001b[0;32m      7\u001b[0m \u001b[39m# 分别提取两个特征的最小值与最大值。\u001b[39;00m\n\u001b[0;32m      8\u001b[0m max1, max2 \u001b[39m=\u001b[39m np\u001b[39m.\u001b[39mmax(X_partial, axis\u001b[39m=\u001b[39m\u001b[39m0\u001b[39m)\n",
      "File \u001b[1;32m~\\AppData\\Roaming\\Python\\Python39\\site-packages\\IPython\\core\\interactiveshell.py:2417\u001b[0m, in \u001b[0;36mInteractiveShell.run_line_magic\u001b[1;34m(self, magic_name, line, _stack_depth)\u001b[0m\n\u001b[0;32m   2415\u001b[0m     kwargs[\u001b[39m'\u001b[39m\u001b[39mlocal_ns\u001b[39m\u001b[39m'\u001b[39m] \u001b[39m=\u001b[39m \u001b[39mself\u001b[39m\u001b[39m.\u001b[39mget_local_scope(stack_depth)\n\u001b[0;32m   2416\u001b[0m \u001b[39mwith\u001b[39;00m \u001b[39mself\u001b[39m\u001b[39m.\u001b[39mbuiltin_trap:\n\u001b[1;32m-> 2417\u001b[0m     result \u001b[39m=\u001b[39m fn(\u001b[39m*\u001b[39margs, \u001b[39m*\u001b[39m\u001b[39m*\u001b[39mkwargs)\n\u001b[0;32m   2419\u001b[0m \u001b[39m# The code below prevents the output from being displayed\u001b[39;00m\n\u001b[0;32m   2420\u001b[0m \u001b[39m# when using magics with decodator @output_can_be_silenced\u001b[39;00m\n\u001b[0;32m   2421\u001b[0m \u001b[39m# when the last Python token in the expression is a ';'.\u001b[39;00m\n\u001b[0;32m   2422\u001b[0m \u001b[39mif\u001b[39;00m \u001b[39mgetattr\u001b[39m(fn, magic\u001b[39m.\u001b[39mMAGIC_OUTPUT_CAN_BE_SILENCED, \u001b[39mFalse\u001b[39;00m):\n",
      "File \u001b[1;32m~\\AppData\\Roaming\\Python\\Python39\\site-packages\\IPython\\core\\magics\\pylab.py:99\u001b[0m, in \u001b[0;36mPylabMagics.matplotlib\u001b[1;34m(self, line)\u001b[0m\n\u001b[0;32m     97\u001b[0m     \u001b[39mprint\u001b[39m(\u001b[39m\"\u001b[39m\u001b[39mAvailable matplotlib backends: \u001b[39m\u001b[39m%s\u001b[39;00m\u001b[39m\"\u001b[39m \u001b[39m%\u001b[39m backends_list)\n\u001b[0;32m     98\u001b[0m \u001b[39melse\u001b[39;00m:\n\u001b[1;32m---> 99\u001b[0m     gui, backend \u001b[39m=\u001b[39m \u001b[39mself\u001b[39;49m\u001b[39m.\u001b[39;49mshell\u001b[39m.\u001b[39;49menable_matplotlib(args\u001b[39m.\u001b[39;49mgui\u001b[39m.\u001b[39;49mlower() \u001b[39mif\u001b[39;49;00m \u001b[39misinstance\u001b[39;49m(args\u001b[39m.\u001b[39;49mgui, \u001b[39mstr\u001b[39;49m) \u001b[39melse\u001b[39;49;00m args\u001b[39m.\u001b[39;49mgui)\n\u001b[0;32m    100\u001b[0m     \u001b[39mself\u001b[39m\u001b[39m.\u001b[39m_show_matplotlib_backend(args\u001b[39m.\u001b[39mgui, backend)\n",
      "File \u001b[1;32m~\\AppData\\Roaming\\Python\\Python39\\site-packages\\IPython\\core\\interactiveshell.py:3603\u001b[0m, in \u001b[0;36mInteractiveShell.enable_matplotlib\u001b[1;34m(self, gui)\u001b[0m\n\u001b[0;32m   3599\u001b[0m         \u001b[39mprint\u001b[39m(\u001b[39m'\u001b[39m\u001b[39mWarning: Cannot change to a different GUI toolkit: \u001b[39m\u001b[39m%s\u001b[39;00m\u001b[39m.\u001b[39m\u001b[39m'\u001b[39m\n\u001b[0;32m   3600\u001b[0m                 \u001b[39m'\u001b[39m\u001b[39m Using \u001b[39m\u001b[39m%s\u001b[39;00m\u001b[39m instead.\u001b[39m\u001b[39m'\u001b[39m \u001b[39m%\u001b[39m (gui, \u001b[39mself\u001b[39m\u001b[39m.\u001b[39mpylab_gui_select))\n\u001b[0;32m   3601\u001b[0m         gui, backend \u001b[39m=\u001b[39m pt\u001b[39m.\u001b[39mfind_gui_and_backend(\u001b[39mself\u001b[39m\u001b[39m.\u001b[39mpylab_gui_select)\n\u001b[1;32m-> 3603\u001b[0m pt\u001b[39m.\u001b[39;49mactivate_matplotlib(backend)\n\u001b[0;32m   3604\u001b[0m configure_inline_support(\u001b[39mself\u001b[39m, backend)\n\u001b[0;32m   3606\u001b[0m \u001b[39m# Now we must activate the gui pylab wants to use, and fix %run to take\u001b[39;00m\n\u001b[0;32m   3607\u001b[0m \u001b[39m# plot updates into account\u001b[39;00m\n",
      "File \u001b[1;32m~\\AppData\\Roaming\\Python\\Python39\\site-packages\\IPython\\core\\pylabtools.py:360\u001b[0m, in \u001b[0;36mactivate_matplotlib\u001b[1;34m(backend)\u001b[0m\n\u001b[0;32m    355\u001b[0m \u001b[39m# Due to circular imports, pyplot may be only partially initialised\u001b[39;00m\n\u001b[0;32m    356\u001b[0m \u001b[39m# when this function runs.\u001b[39;00m\n\u001b[0;32m    357\u001b[0m \u001b[39m# So avoid needing matplotlib attribute-lookup to access pyplot.\u001b[39;00m\n\u001b[0;32m    358\u001b[0m \u001b[39mfrom\u001b[39;00m \u001b[39mmatplotlib\u001b[39;00m \u001b[39mimport\u001b[39;00m pyplot \u001b[39mas\u001b[39;00m plt\n\u001b[1;32m--> 360\u001b[0m plt\u001b[39m.\u001b[39;49mswitch_backend(backend)\n\u001b[0;32m    362\u001b[0m plt\u001b[39m.\u001b[39mshow\u001b[39m.\u001b[39m_needmain \u001b[39m=\u001b[39m \u001b[39mFalse\u001b[39;00m\n\u001b[0;32m    363\u001b[0m \u001b[39m# We need to detect at runtime whether show() is called by the user.\u001b[39;00m\n\u001b[0;32m    364\u001b[0m \u001b[39m# For this, we wrap it into a decorator which adds a 'called' flag.\u001b[39;00m\n",
      "File \u001b[1;32m~\\AppData\\Roaming\\Python\\Python39\\site-packages\\matplotlib\\pyplot.py:271\u001b[0m, in \u001b[0;36mswitch_backend\u001b[1;34m(newbackend)\u001b[0m\n\u001b[0;32m    268\u001b[0m \u001b[39m# have to escape the switch on access logic\u001b[39;00m\n\u001b[0;32m    269\u001b[0m old_backend \u001b[39m=\u001b[39m \u001b[39mdict\u001b[39m\u001b[39m.\u001b[39m\u001b[39m__getitem__\u001b[39m(rcParams, \u001b[39m'\u001b[39m\u001b[39mbackend\u001b[39m\u001b[39m'\u001b[39m)\n\u001b[1;32m--> 271\u001b[0m backend_mod \u001b[39m=\u001b[39m importlib\u001b[39m.\u001b[39;49mimport_module(\n\u001b[0;32m    272\u001b[0m     cbook\u001b[39m.\u001b[39;49m_backend_module_name(newbackend))\n\u001b[0;32m    274\u001b[0m required_framework \u001b[39m=\u001b[39m _get_required_interactive_framework(backend_mod)\n\u001b[0;32m    275\u001b[0m \u001b[39mif\u001b[39;00m required_framework \u001b[39mis\u001b[39;00m \u001b[39mnot\u001b[39;00m \u001b[39mNone\u001b[39;00m:\n",
      "File \u001b[1;32mc:\\ProgramData\\Anaconda3\\lib\\importlib\\__init__.py:127\u001b[0m, in \u001b[0;36mimport_module\u001b[1;34m(name, package)\u001b[0m\n\u001b[0;32m    125\u001b[0m             \u001b[39mbreak\u001b[39;00m\n\u001b[0;32m    126\u001b[0m         level \u001b[39m+\u001b[39m\u001b[39m=\u001b[39m \u001b[39m1\u001b[39m\n\u001b[1;32m--> 127\u001b[0m \u001b[39mreturn\u001b[39;00m _bootstrap\u001b[39m.\u001b[39;49m_gcd_import(name[level:], package, level)\n",
      "File \u001b[1;32m<frozen importlib._bootstrap>:1030\u001b[0m, in \u001b[0;36m_gcd_import\u001b[1;34m(name, package, level)\u001b[0m\n",
      "File \u001b[1;32m<frozen importlib._bootstrap>:1007\u001b[0m, in \u001b[0;36m_find_and_load\u001b[1;34m(name, import_)\u001b[0m\n",
      "File \u001b[1;32m<frozen importlib._bootstrap>:986\u001b[0m, in \u001b[0;36m_find_and_load_unlocked\u001b[1;34m(name, import_)\u001b[0m\n",
      "File \u001b[1;32m<frozen importlib._bootstrap>:680\u001b[0m, in \u001b[0;36m_load_unlocked\u001b[1;34m(spec)\u001b[0m\n",
      "File \u001b[1;32m<frozen importlib._bootstrap_external>:850\u001b[0m, in \u001b[0;36mexec_module\u001b[1;34m(self, module)\u001b[0m\n",
      "File \u001b[1;32m<frozen importlib._bootstrap>:228\u001b[0m, in \u001b[0;36m_call_with_frames_removed\u001b[1;34m(f, *args, **kwds)\u001b[0m\n",
      "File \u001b[1;32m~\\AppData\\Roaming\\Python\\Python39\\site-packages\\matplotlib\\backends\\backend_qt5agg.py:7\u001b[0m\n\u001b[0;32m      4\u001b[0m \u001b[39mfrom\u001b[39;00m \u001b[39m.\u001b[39;00m\u001b[39m.\u001b[39;00m \u001b[39mimport\u001b[39;00m backends\n\u001b[0;32m      6\u001b[0m backends\u001b[39m.\u001b[39m_QT_FORCE_QT5_BINDING \u001b[39m=\u001b[39m \u001b[39mTrue\u001b[39;00m\n\u001b[1;32m----> 7\u001b[0m \u001b[39mfrom\u001b[39;00m \u001b[39m.\u001b[39;00m\u001b[39mbackend_qtagg\u001b[39;00m \u001b[39mimport\u001b[39;00m (    \u001b[39m# noqa: F401, E402 # pylint: disable=W0611\u001b[39;00m\n\u001b[0;32m      8\u001b[0m     _BackendQTAgg, FigureCanvasQTAgg, FigureManagerQT, NavigationToolbar2QT,\n\u001b[0;32m      9\u001b[0m     FigureCanvasAgg, FigureCanvasQT)\n\u001b[0;32m     12\u001b[0m \u001b[39m@_BackendQTAgg\u001b[39m\u001b[39m.\u001b[39mexport\n\u001b[0;32m     13\u001b[0m \u001b[39mclass\u001b[39;00m \u001b[39m_BackendQT5Agg\u001b[39;00m(_BackendQTAgg):\n\u001b[0;32m     14\u001b[0m     \u001b[39mpass\u001b[39;00m\n",
      "File \u001b[1;32m~\\AppData\\Roaming\\Python\\Python39\\site-packages\\matplotlib\\backends\\backend_qtagg.py:9\u001b[0m\n\u001b[0;32m      5\u001b[0m \u001b[39mimport\u001b[39;00m \u001b[39mctypes\u001b[39;00m\n\u001b[0;32m      7\u001b[0m \u001b[39mfrom\u001b[39;00m \u001b[39mmatplotlib\u001b[39;00m\u001b[39m.\u001b[39;00m\u001b[39mtransforms\u001b[39;00m \u001b[39mimport\u001b[39;00m Bbox\n\u001b[1;32m----> 9\u001b[0m \u001b[39mfrom\u001b[39;00m \u001b[39m.\u001b[39;00m\u001b[39mqt_compat\u001b[39;00m \u001b[39mimport\u001b[39;00m QT_API, _enum\n\u001b[0;32m     10\u001b[0m \u001b[39mfrom\u001b[39;00m \u001b[39m.\u001b[39;00m\u001b[39mbackend_agg\u001b[39;00m \u001b[39mimport\u001b[39;00m FigureCanvasAgg\n\u001b[0;32m     11\u001b[0m \u001b[39mfrom\u001b[39;00m \u001b[39m.\u001b[39;00m\u001b[39mbackend_qt\u001b[39;00m \u001b[39mimport\u001b[39;00m QtCore, QtGui, _BackendQT, FigureCanvasQT\n",
      "File \u001b[1;32m~\\AppData\\Roaming\\Python\\Python39\\site-packages\\matplotlib\\backends\\qt_compat.py:144\u001b[0m\n\u001b[0;32m    140\u001b[0m _version_info \u001b[39m=\u001b[39m \u001b[39mtuple\u001b[39m(QtCore\u001b[39m.\u001b[39mQLibraryInfo\u001b[39m.\u001b[39mversion()\u001b[39m.\u001b[39msegments())\n\u001b[0;32m    143\u001b[0m \u001b[39mif\u001b[39;00m _version_info \u001b[39m<\u001b[39m (\u001b[39m5\u001b[39m, \u001b[39m10\u001b[39m):\n\u001b[1;32m--> 144\u001b[0m     \u001b[39mraise\u001b[39;00m \u001b[39mImportError\u001b[39;00m(\n\u001b[0;32m    145\u001b[0m         \u001b[39mf\u001b[39m\u001b[39m\"\u001b[39m\u001b[39mThe Qt version imported is \u001b[39m\u001b[39m\"\u001b[39m\n\u001b[0;32m    146\u001b[0m         \u001b[39mf\u001b[39m\u001b[39m\"\u001b[39m\u001b[39m{\u001b[39;00mQtCore\u001b[39m.\u001b[39mQLibraryInfo\u001b[39m.\u001b[39mversion()\u001b[39m.\u001b[39mtoString()\u001b[39m}\u001b[39;00m\u001b[39m but Matplotlib requires \u001b[39m\u001b[39m\"\u001b[39m\n\u001b[0;32m    147\u001b[0m         \u001b[39mf\u001b[39m\u001b[39m\"\u001b[39m\u001b[39mQt>=5.10\u001b[39m\u001b[39m\"\u001b[39m)\n\u001b[0;32m    150\u001b[0m \u001b[39m# Fixes issues with Big Sur\u001b[39;00m\n\u001b[0;32m    151\u001b[0m \u001b[39m# https://bugreports.qt.io/browse/QTBUG-87014, fixed in qt 5.15.2\u001b[39;00m\n\u001b[0;32m    152\u001b[0m \u001b[39mif\u001b[39;00m (sys\u001b[39m.\u001b[39mplatform \u001b[39m==\u001b[39m \u001b[39m'\u001b[39m\u001b[39mdarwin\u001b[39m\u001b[39m'\u001b[39m \u001b[39mand\u001b[39;00m\n\u001b[0;32m    153\u001b[0m         parse_version(platform\u001b[39m.\u001b[39mmac_ver()[\u001b[39m0\u001b[39m]) \u001b[39m>\u001b[39m\u001b[39m=\u001b[39m parse_version(\u001b[39m\"\u001b[39m\u001b[39m10.16\u001b[39m\u001b[39m\"\u001b[39m) \u001b[39mand\u001b[39;00m\n\u001b[0;32m    154\u001b[0m         _version_info \u001b[39m<\u001b[39m (\u001b[39m5\u001b[39m, \u001b[39m15\u001b[39m, \u001b[39m2\u001b[39m)):\n",
      "\u001b[1;31mImportError\u001b[0m: The Qt version imported is 5.9.7 but Matplotlib requires Qt>=5.10"
     ]
    }
   ],
   "source": [
    "from mpl_toolkits.mplot3d import Axes3D\n",
    "# 图形显示方式，默认为嵌入显示。\n",
    "# %matplotlib inline\n",
    "# 弹出框显示。\n",
    "%matplotlib qt\n",
    "\n",
    "# 分别提取两个特征的最小值与最大值。\n",
    "max1, max2 = np.max(X_partial, axis=0)\n",
    "min1, min2 = np.min(X_partial, axis=0)\n",
    "# 在区间取值区间内，均匀选取若干个点。\n",
    "x1 = np.linspace(min1, max1, 30)\n",
    "x2 = np.linspace(min2, max2, 30)\n",
    "# 生成网状结果，用来绘制三维立体图。\n",
    "# 参数x1与x2是一维数组（向量）,将x1沿着行进行扩展，扩展的行数与x2元素的个数相同。\n",
    "# 将x2沿着列进行扩展，扩展的列数与x1元素的个数相同。返回x1与x2扩展之后的数据X1与X2（扩展之后\n",
    "# 的数组是二维的）。\n",
    "# 这样扩展的目的是，依次对位获取X1与X2（扩展之后的数组）中的每个元素，\n",
    "# 就能够构成x1与x2（扩展之前的数组）的任意组合。\n",
    "X1, X2 = np.meshgrid(x1, x2)\n",
    "# 返回figure对象。figure对象是我们绘图的底层对象，相当于画布。\n",
    "fig = plt.figure()\n",
    "# Axes3D在figure对象上进行绘制。\n",
    "ax = Axes3D(fig)\n",
    "fig.add_axes(ax)\n",
    "# 绘制真实的样本散点图。\n",
    "ax.scatter(X_partial[:, 0], X_partial[:, 1], y, color=\"b\")\n",
    "ax.set_xlabel(\"TV投放额度\")\n",
    "ax.set_ylabel(\"Radio投放额度\")\n",
    "ax.set_zlabel(\"销售额\")\n",
    "# 绘制预测的平面。\n",
    "# rstride：行上的增量。增量越大，网格越宽。\n",
    "# cstride：列上的增量。\n",
    "# cmap：颜色图。\n",
    "# alpha：透明度。1 完全不透明，0完全透明。\n",
    "surf = ax.plot_surface(X1, X2, lr2.predict(np.array([X1.ravel(), X2.ravel()]).T).reshape(X1.shape),\n",
    "        rstride=5, cstride=5, cmap=\"rainbow\", alpha=0.5)\n",
    "# 显示颜色条。\n",
    "fig.colorbar(surf)\n",
    "plt.show()"
   ]
  },
  {
   "attachments": {},
   "cell_type": "markdown",
   "metadata": {},
   "source": [
    "# 回归模型评估\n",
    "当我们建立好模型后，模型的效果如何呢？对于回归模型，我们可以采用如下的指标来进行衡量。  \n",
    "* MSE\n",
    "* RMSE\n",
    "* MAE\n",
    "* $R^2$\n",
    "\n",
    "## MSE\n",
    "MSE（Mean Squared Error），平均平方误差，为所有样本数据误差（真实值与预测值之差）的平方和，然后取均值。  \n",
    "<font size=5>  \n",
    "$MSE = \\frac{1}{m}\\sum_{i=1}^{m}(y ^ {(i)} - \\hat{y} ^ {(i)}) ^ {2}$\n",
    "</font>\n",
    "\n",
    "## RMSE\n",
    "RMSE（Root Mean Squared Error），平均平方误差的平方根，即在MSE的基础上，取平方根。  \n",
    "<font size=5>  \n",
    "$RMSE = \\sqrt{MSE} = \\sqrt{\\frac{1}{m}\\sum_{i=1}^{m}(y ^ {(i)} - \\hat{y} ^ {(i)}) ^ {2}}$\n",
    "</font>\n",
    "\n",
    "## MAE\n",
    "MAE（Mean Absolute Error），平均绝对值误差，为所有样本数据误差的绝对值和。  \n",
    "<font size=5>  \n",
    "$MAE = \\frac{1}{m}\\sum_{i=1}^{m}|y ^ {(i)} - \\hat{y} ^ {(i)}|$  \n",
    "</font>\n",
    "\n",
    "## $R^2$\n",
    "$R^2$为决定系数，用来表示模型拟合性的分值，值越高表示模型拟合性越好，在训练集中，$R^2$的取值范围为$[0, 1]$。在测试集（未知数据）中，$R^2$的取值范围为$(-\\infty, 1]$。  \n",
    "$R^2$的计算公式为1减去RSS与TSS的商。其中，TSS（Total Sum of Squares）为所有样本数据与均值的差异，是方差的$m$倍。而RSS（Residual sum of squares）为所有样本数据误差的平方和，是MSE的$m$倍。  \n",
    "<font size=5>  \n",
    "$R^2 = 1 - \\frac{RSS}{TSS} = 1 - \\frac{\\sum_{i=1}^{m}(y^{(i)} - \\hat{y}^{(i)})^2}\n",
    "{\\sum_{i=1}^{m}(y^{(i)} - \\bar{y})^2} \\\\ \n",
    "\\bar{y} = \\frac{1}{m}\\sum_{i=1}^{m}y^{(i)}\n",
    "$\n",
    "</font>\n",
    "\n",
    "从公式定义可知，最理想情况，所有的样本数据的预测值与真实值相同，即RSS为0，此时$R^2$为1。"
   ]
  },
  {
   "cell_type": "code",
   "execution_count": null,
   "metadata": {},
   "outputs": [],
   "source": [
    "# MSE，MAE，R^2函数。\n",
    "from sklearn.metrics import mean_squared_error, mean_absolute_error, r2_score\n",
    "\n",
    "print(\"均方误差(MSE)：\", mean_squared_error(y_test, y_hat))\n",
    "print(\"根均方误差(RMSE)：\", np.sqrt(mean_squared_error(y_test, y_hat)))\n",
    "print(\"平均绝对值误差(MAE)：\", mean_absolute_error(y_test, y_hat))\n",
    "print(\"训练集R^2：\", r2_score(y_train, lr.predict(X_train)))\n",
    "print(\"测试集R^2：\", r2_score(y_test, y_hat))\n",
    "# socre其实求解的就是r^2的值。但是注意，r2_score方法与score方法传递参数的内容是不同的。\n",
    "print(\"训练集R^2：\", lr.score(X_train, y_train))\n",
    "print(\"测试集R^2：\", lr.score(X_test, y_test))"
   ]
  },
  {
   "attachments": {},
   "cell_type": "markdown",
   "metadata": {},
   "source": [
    "## 模型持久化\n",
    "当我们训练好模型后，就可以使用模型进行预测。然而，这毕竟不像打印一个Hello World那样简单，当我们需要的时候，重新运行一次就可以了。在实际生产环境中，数据集可能非常庞大，如果在我们每次需要使用该模型时，都去重新运行程序去训练模型，势必会耗费大量的时间。\n",
    "\n",
    "为了方便以后能够复用，我们可以将模型保存，在需要的时候，直接加载之前保存的模型，就可以直接进行预测。其实，保存模型，就是保存模型的参数（结构），在载入模型的时候，将参数（结构）恢复成模型保存时的参数（结构）而已。"
   ]
  },
  {
   "attachments": {},
   "cell_type": "markdown",
   "metadata": {},
   "source": [
    "### 保存模型\n",
    "注意：保存模型时，保存位置的目录必须事先存在，否则会出现错误。"
   ]
  },
  {
   "cell_type": "code",
   "execution_count": null,
   "metadata": {},
   "outputs": [],
   "source": [
    "# 糖尿病数据集。\n",
    "from sklearn.datasets import load_diabetes\n",
    "import joblib\n",
    "\n",
    "# return_X_y：返回X与y，而不是返回数据对象。\n",
    "X, y = load_diabetes(return_X_y=True)\n",
    "X_train, X_test, y_train, y_test = train_test_split(X, y, test_size=0.25, random_state=0)\n",
    "lr = LinearRegression()\n",
    "lr.fit(X_train, y_train)\n",
    "print(lr.coef_, lr.intercept_)\n",
    "# 对模型进行保存。(模型保存的目录必须事先存在，否则会产生错误。)\n",
    "joblib.dump(lr, \"lr.model\")"
   ]
  },
  {
   "attachments": {},
   "cell_type": "markdown",
   "metadata": {},
   "source": [
    "### 载入模型\n",
    "我们可以载入之前保存的模型，进行预测。"
   ]
  },
  {
   "cell_type": "code",
   "execution_count": null,
   "metadata": {},
   "outputs": [],
   "source": [
    "# 恢复保存的模型。\n",
    "model = joblib.load(\"lr.model\")\n",
    "print(type(model))\n",
    "print(model.coef_, model.intercept_)\n",
    "y_hat = model.predict(X_test)\n",
    "print(y_hat[:10])"
   ]
  },
  {
   "attachments": {},
   "cell_type": "markdown",
   "metadata": {},
   "source": [
    "![图形无法显示](../imgs/summary.png \"小结\")"
   ]
  },
  {
   "attachments": {},
   "cell_type": "markdown",
   "metadata": {},
   "source": [
    "# 练习\n",
    "* 参考sklearn中的LinearRegression，自己编写一个简单的线性回归类，能够实现多元线性回归。要求如下：\n",
    "    + 具有fit方法，训练模型。\n",
    "    + 具有predict方法，预测未知数据。\n",
    "    + 具有coef_属性，返回所有权重（不包括偏置$w_0$）。\n",
    "    + 具有intercept_属性，返回偏置$b$（$w_0$）。\n",
    "    + 不允许借助于sklearn中的LinearRegression类。"
   ]
  }
 ],
 "metadata": {
  "kernelspec": {
   "display_name": "Python 3 (ipykernel)",
   "language": "python",
   "name": "python3"
  },
  "language_info": {
   "codemirror_mode": {
    "name": "ipython",
    "version": 3
   },
   "file_extension": ".py",
   "mimetype": "text/x-python",
   "name": "python",
   "nbconvert_exporter": "python",
   "pygments_lexer": "ipython3",
   "version": "3.9.7"
  },
  "toc": {
   "base_numbering": 1,
   "nav_menu": {},
   "number_sections": true,
   "sideBar": true,
   "skip_h1_title": false,
   "title_cell": "Table of Contents",
   "title_sidebar": "Contents",
   "toc_cell": false,
   "toc_position": {
    "height": "526.4px",
    "left": "214px",
    "top": "136.8px",
    "width": "268.975px"
   },
   "toc_section_display": true,
   "toc_window_display": true
  }
 },
 "nbformat": 4,
 "nbformat_minor": 2
}
