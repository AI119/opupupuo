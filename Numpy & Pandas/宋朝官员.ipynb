{
 "cells": [
  {
   "cell_type": "code",
   "execution_count": 34,
   "metadata": {
    "collapsed": true,
    "ExecuteTime": {
     "start_time": "2023-04-12T10:01:18.587760Z",
     "end_time": "2023-04-12T10:01:18.667578Z"
    }
   },
   "outputs": [],
   "source": [
    "import pandas as pd"
   ]
  },
  {
   "cell_type": "code",
   "execution_count": 35,
   "outputs": [],
   "source": [
    "\n",
    "df1 = pd.read_csv('Numpy & Pandas/officer_kinship_song.csv')\n",
    "df2 = pd.read_csv('Numpy & Pandas/officer_relationship_song.csv')"
   ],
   "metadata": {
    "collapsed": false,
    "ExecuteTime": {
     "start_time": "2023-04-12T10:01:18.593555Z",
     "end_time": "2023-04-12T10:01:19.054036Z"
    }
   }
  },
  {
   "cell_type": "code",
   "execution_count": 36,
   "outputs": [
    {
     "data": {
      "text/plain": "                             Name       姓名     Kin Name 亲戚姓名 Kinship\n0                          An Dun       安惇      An Fang   安邡       S\n1                          An Dun       安惇      An Fang   安邡       S\n2                          An Dun       安惇      An Fang   安邡       S\n3                          An Dun       安惇      An Fang   安邡       S\n4                          An Dun       安惇      An Fang   安邡       S\n...                           ...      ...          ...  ...     ...\n1940  Li Shi(Mother of Zhao Zhen)  李氏(赵祯母)     Li Rende  李仁德       F\n1941  Li Shi(Mother of Zhao Zhen)  李氏(赵祯母)    Zhao Zhen   赵祯       S\n1942  Li Shi(Mother of Zhao Zhen)  李氏(赵祯母)    Li Yonghe  李用和      B-\n1943                 Shi Tingchen      施庭臣  Shi Yuanran  施渊然       S\n1944                    Han Xizai      韩熙载  Han Guangsi  韩光嗣       F\n\n[1945 rows x 5 columns]",
      "text/html": "<div>\n<style scoped>\n    .dataframe tbody tr th:only-of-type {\n        vertical-align: middle;\n    }\n\n    .dataframe tbody tr th {\n        vertical-align: top;\n    }\n\n    .dataframe thead th {\n        text-align: right;\n    }\n</style>\n<table border=\"1\" class=\"dataframe\">\n  <thead>\n    <tr style=\"text-align: right;\">\n      <th></th>\n      <th>Name</th>\n      <th>姓名</th>\n      <th>Kin Name</th>\n      <th>亲戚姓名</th>\n      <th>Kinship</th>\n    </tr>\n  </thead>\n  <tbody>\n    <tr>\n      <th>0</th>\n      <td>An Dun</td>\n      <td>安惇</td>\n      <td>An Fang</td>\n      <td>安邡</td>\n      <td>S</td>\n    </tr>\n    <tr>\n      <th>1</th>\n      <td>An Dun</td>\n      <td>安惇</td>\n      <td>An Fang</td>\n      <td>安邡</td>\n      <td>S</td>\n    </tr>\n    <tr>\n      <th>2</th>\n      <td>An Dun</td>\n      <td>安惇</td>\n      <td>An Fang</td>\n      <td>安邡</td>\n      <td>S</td>\n    </tr>\n    <tr>\n      <th>3</th>\n      <td>An Dun</td>\n      <td>安惇</td>\n      <td>An Fang</td>\n      <td>安邡</td>\n      <td>S</td>\n    </tr>\n    <tr>\n      <th>4</th>\n      <td>An Dun</td>\n      <td>安惇</td>\n      <td>An Fang</td>\n      <td>安邡</td>\n      <td>S</td>\n    </tr>\n    <tr>\n      <th>...</th>\n      <td>...</td>\n      <td>...</td>\n      <td>...</td>\n      <td>...</td>\n      <td>...</td>\n    </tr>\n    <tr>\n      <th>1940</th>\n      <td>Li Shi(Mother of Zhao Zhen)</td>\n      <td>李氏(赵祯母)</td>\n      <td>Li Rende</td>\n      <td>李仁德</td>\n      <td>F</td>\n    </tr>\n    <tr>\n      <th>1941</th>\n      <td>Li Shi(Mother of Zhao Zhen)</td>\n      <td>李氏(赵祯母)</td>\n      <td>Zhao Zhen</td>\n      <td>赵祯</td>\n      <td>S</td>\n    </tr>\n    <tr>\n      <th>1942</th>\n      <td>Li Shi(Mother of Zhao Zhen)</td>\n      <td>李氏(赵祯母)</td>\n      <td>Li Yonghe</td>\n      <td>李用和</td>\n      <td>B-</td>\n    </tr>\n    <tr>\n      <th>1943</th>\n      <td>Shi Tingchen</td>\n      <td>施庭臣</td>\n      <td>Shi Yuanran</td>\n      <td>施渊然</td>\n      <td>S</td>\n    </tr>\n    <tr>\n      <th>1944</th>\n      <td>Han Xizai</td>\n      <td>韩熙载</td>\n      <td>Han Guangsi</td>\n      <td>韩光嗣</td>\n      <td>F</td>\n    </tr>\n  </tbody>\n</table>\n<p>1945 rows × 5 columns</p>\n</div>"
     },
     "execution_count": 36,
     "metadata": {},
     "output_type": "execute_result"
    }
   ],
   "source": [
    "df1"
   ],
   "metadata": {
    "collapsed": false,
    "ExecuteTime": {
     "start_time": "2023-04-12T10:01:18.647864Z",
     "end_time": "2023-04-12T10:01:19.055034Z"
    }
   }
  },
  {
   "cell_type": "code",
   "execution_count": 37,
   "outputs": [
    {
     "data": {
      "text/plain": "                Name   姓名  Index year Sex       Associate 社会关系人姓名  \\\n0             An Dun   安惇        1042   M         Zou Hao      邹浩   \n1             An Dun   安惇        1042   M  Zhang Shiliang     张士良   \n2       Chen Jian(2)   陈戬        1081   M       Tong Guan      童贯   \n3           Cheng Yu   程瑀        1087   M          Wu Min      吴敏   \n4    Zhang Shangying  张商英        1043   M      Sima Guang     司马光   \n..               ...  ...         ...  ..             ...     ...   \n501          Yu Jing   余靖        1000   M      Ouyang Xiu     欧阳修   \n502          Yu Jing   余靖        1000   M         Yin Zhu      尹洙   \n503       Kong Daofu  孔道辅         986   M        Yang Xie      杨偕   \n504      Liu Anshang  刘安上        1069   M      Shi Gongbi     石公弼   \n505        Han Xizai  韩熙载         902   M         Xu Xuan      徐铉   \n\n     Assoc. Index Year Assoc. Sex           Association     联系  ... 亲属关系  \\\n0               1060.0          M   Opposed or attacked  反对/攻讦  ...   未详   \n1                  NaN          M   Opposed or attacked  反对/攻讦  ...   未详   \n2               1054.0          M   Opposed or attacked  反对/攻讦  ...   未详   \n3               1087.0          M   Opposed or attacked  反对/攻讦  ...   未详   \n4               1019.0          M   Opposed or attacked  反对/攻讦  ...   未详   \n..                 ...        ...                   ...    ...  ...  ...   \n501             1007.0          M  Agreed with views of   政见趋同  ...   未详   \n502             1001.0          M  Agreed with views of   政见趋同  ...   未详   \n503              980.0          M  Agreed with views of   政见趋同  ...   未详   \n504             1061.0          M  Agreed with views of   政见趋同  ...   未详   \n505              920.0          M  Agreed with views of   政见趋同  ...   未详   \n\n      Kin Name  亲戚姓名  Assoc. Kinship Rel. 关系人的亲属关系 Assoc. Kin Name  关系人的亲戚姓名  \\\n0    Wei Xiang    未详                    U       未详       Wei Xiang        未详   \n1    Wei Xiang    未详                    U       未详       Wei Xiang        未详   \n2    Wei Xiang    未详                    U       未详       Wei Xiang        未详   \n3    Wei Xiang    未详                    U       未详       Wei Xiang        未详   \n4    Wei Xiang    未详                    U       未详       Wei Xiang        未详   \n..         ...   ...                  ...      ...             ...       ...   \n501  Wei Xiang    未详                    U       未详       Wei Xiang        未详   \n502  Wei Xiang    未详                    U       未详       Wei Xiang        未详   \n503  Wei Xiang    未详                    U       未详       Wei Xiang        未详   \n504  Wei Xiang    未详                    U       未详       Wei Xiang        未详   \n505  Wei Xiang    未详                    U       未详       Wei Xiang        未详   \n\n     Distance 距离 Person ID Assoc ID  \n0    1275.341259         1     3888  \n1            NaN         1    25065  \n2     910.189663        31     8124  \n3     370.461638       128     8163  \n4     868.170971       272     1488  \n..           ...       ...      ...  \n501  1066.098438     12319     1384  \n502  1102.124909     12319     7104  \n503   431.228735     15939     2003  \n504   165.947261     17479    13417  \n505   941.629297     94724    12236  \n\n[506 rows x 29 columns]",
      "text/html": "<div>\n<style scoped>\n    .dataframe tbody tr th:only-of-type {\n        vertical-align: middle;\n    }\n\n    .dataframe tbody tr th {\n        vertical-align: top;\n    }\n\n    .dataframe thead th {\n        text-align: right;\n    }\n</style>\n<table border=\"1\" class=\"dataframe\">\n  <thead>\n    <tr style=\"text-align: right;\">\n      <th></th>\n      <th>Name</th>\n      <th>姓名</th>\n      <th>Index year</th>\n      <th>Sex</th>\n      <th>Associate</th>\n      <th>社会关系人姓名</th>\n      <th>Assoc. Index Year</th>\n      <th>Assoc. Sex</th>\n      <th>Association</th>\n      <th>联系</th>\n      <th>...</th>\n      <th>亲属关系</th>\n      <th>Kin Name</th>\n      <th>亲戚姓名</th>\n      <th>Assoc. Kinship Rel.</th>\n      <th>关系人的亲属关系</th>\n      <th>Assoc. Kin Name</th>\n      <th>关系人的亲戚姓名</th>\n      <th>Distance 距离</th>\n      <th>Person ID</th>\n      <th>Assoc ID</th>\n    </tr>\n  </thead>\n  <tbody>\n    <tr>\n      <th>0</th>\n      <td>An Dun</td>\n      <td>安惇</td>\n      <td>1042</td>\n      <td>M</td>\n      <td>Zou Hao</td>\n      <td>邹浩</td>\n      <td>1060.0</td>\n      <td>M</td>\n      <td>Opposed or attacked</td>\n      <td>反对/攻讦</td>\n      <td>...</td>\n      <td>未详</td>\n      <td>Wei Xiang</td>\n      <td>未详</td>\n      <td>U</td>\n      <td>未详</td>\n      <td>Wei Xiang</td>\n      <td>未详</td>\n      <td>1275.341259</td>\n      <td>1</td>\n      <td>3888</td>\n    </tr>\n    <tr>\n      <th>1</th>\n      <td>An Dun</td>\n      <td>安惇</td>\n      <td>1042</td>\n      <td>M</td>\n      <td>Zhang Shiliang</td>\n      <td>张士良</td>\n      <td>NaN</td>\n      <td>M</td>\n      <td>Opposed or attacked</td>\n      <td>反对/攻讦</td>\n      <td>...</td>\n      <td>未详</td>\n      <td>Wei Xiang</td>\n      <td>未详</td>\n      <td>U</td>\n      <td>未详</td>\n      <td>Wei Xiang</td>\n      <td>未详</td>\n      <td>NaN</td>\n      <td>1</td>\n      <td>25065</td>\n    </tr>\n    <tr>\n      <th>2</th>\n      <td>Chen Jian(2)</td>\n      <td>陈戬</td>\n      <td>1081</td>\n      <td>M</td>\n      <td>Tong Guan</td>\n      <td>童贯</td>\n      <td>1054.0</td>\n      <td>M</td>\n      <td>Opposed or attacked</td>\n      <td>反对/攻讦</td>\n      <td>...</td>\n      <td>未详</td>\n      <td>Wei Xiang</td>\n      <td>未详</td>\n      <td>U</td>\n      <td>未详</td>\n      <td>Wei Xiang</td>\n      <td>未详</td>\n      <td>910.189663</td>\n      <td>31</td>\n      <td>8124</td>\n    </tr>\n    <tr>\n      <th>3</th>\n      <td>Cheng Yu</td>\n      <td>程瑀</td>\n      <td>1087</td>\n      <td>M</td>\n      <td>Wu Min</td>\n      <td>吴敏</td>\n      <td>1087.0</td>\n      <td>M</td>\n      <td>Opposed or attacked</td>\n      <td>反对/攻讦</td>\n      <td>...</td>\n      <td>未详</td>\n      <td>Wei Xiang</td>\n      <td>未详</td>\n      <td>U</td>\n      <td>未详</td>\n      <td>Wei Xiang</td>\n      <td>未详</td>\n      <td>370.461638</td>\n      <td>128</td>\n      <td>8163</td>\n    </tr>\n    <tr>\n      <th>4</th>\n      <td>Zhang Shangying</td>\n      <td>张商英</td>\n      <td>1043</td>\n      <td>M</td>\n      <td>Sima Guang</td>\n      <td>司马光</td>\n      <td>1019.0</td>\n      <td>M</td>\n      <td>Opposed or attacked</td>\n      <td>反对/攻讦</td>\n      <td>...</td>\n      <td>未详</td>\n      <td>Wei Xiang</td>\n      <td>未详</td>\n      <td>U</td>\n      <td>未详</td>\n      <td>Wei Xiang</td>\n      <td>未详</td>\n      <td>868.170971</td>\n      <td>272</td>\n      <td>1488</td>\n    </tr>\n    <tr>\n      <th>...</th>\n      <td>...</td>\n      <td>...</td>\n      <td>...</td>\n      <td>...</td>\n      <td>...</td>\n      <td>...</td>\n      <td>...</td>\n      <td>...</td>\n      <td>...</td>\n      <td>...</td>\n      <td>...</td>\n      <td>...</td>\n      <td>...</td>\n      <td>...</td>\n      <td>...</td>\n      <td>...</td>\n      <td>...</td>\n      <td>...</td>\n      <td>...</td>\n      <td>...</td>\n      <td>...</td>\n    </tr>\n    <tr>\n      <th>501</th>\n      <td>Yu Jing</td>\n      <td>余靖</td>\n      <td>1000</td>\n      <td>M</td>\n      <td>Ouyang Xiu</td>\n      <td>欧阳修</td>\n      <td>1007.0</td>\n      <td>M</td>\n      <td>Agreed with views of</td>\n      <td>政见趋同</td>\n      <td>...</td>\n      <td>未详</td>\n      <td>Wei Xiang</td>\n      <td>未详</td>\n      <td>U</td>\n      <td>未详</td>\n      <td>Wei Xiang</td>\n      <td>未详</td>\n      <td>1066.098438</td>\n      <td>12319</td>\n      <td>1384</td>\n    </tr>\n    <tr>\n      <th>502</th>\n      <td>Yu Jing</td>\n      <td>余靖</td>\n      <td>1000</td>\n      <td>M</td>\n      <td>Yin Zhu</td>\n      <td>尹洙</td>\n      <td>1001.0</td>\n      <td>M</td>\n      <td>Agreed with views of</td>\n      <td>政见趋同</td>\n      <td>...</td>\n      <td>未详</td>\n      <td>Wei Xiang</td>\n      <td>未详</td>\n      <td>U</td>\n      <td>未详</td>\n      <td>Wei Xiang</td>\n      <td>未详</td>\n      <td>1102.124909</td>\n      <td>12319</td>\n      <td>7104</td>\n    </tr>\n    <tr>\n      <th>503</th>\n      <td>Kong Daofu</td>\n      <td>孔道辅</td>\n      <td>986</td>\n      <td>M</td>\n      <td>Yang Xie</td>\n      <td>杨偕</td>\n      <td>980.0</td>\n      <td>M</td>\n      <td>Agreed with views of</td>\n      <td>政见趋同</td>\n      <td>...</td>\n      <td>未详</td>\n      <td>Wei Xiang</td>\n      <td>未详</td>\n      <td>U</td>\n      <td>未详</td>\n      <td>Wei Xiang</td>\n      <td>未详</td>\n      <td>431.228735</td>\n      <td>15939</td>\n      <td>2003</td>\n    </tr>\n    <tr>\n      <th>504</th>\n      <td>Liu Anshang</td>\n      <td>刘安上</td>\n      <td>1069</td>\n      <td>M</td>\n      <td>Shi Gongbi</td>\n      <td>石公弼</td>\n      <td>1061.0</td>\n      <td>M</td>\n      <td>Agreed with views of</td>\n      <td>政见趋同</td>\n      <td>...</td>\n      <td>未详</td>\n      <td>Wei Xiang</td>\n      <td>未详</td>\n      <td>U</td>\n      <td>未详</td>\n      <td>Wei Xiang</td>\n      <td>未详</td>\n      <td>165.947261</td>\n      <td>17479</td>\n      <td>13417</td>\n    </tr>\n    <tr>\n      <th>505</th>\n      <td>Han Xizai</td>\n      <td>韩熙载</td>\n      <td>902</td>\n      <td>M</td>\n      <td>Xu Xuan</td>\n      <td>徐铉</td>\n      <td>920.0</td>\n      <td>M</td>\n      <td>Agreed with views of</td>\n      <td>政见趋同</td>\n      <td>...</td>\n      <td>未详</td>\n      <td>Wei Xiang</td>\n      <td>未详</td>\n      <td>U</td>\n      <td>未详</td>\n      <td>Wei Xiang</td>\n      <td>未详</td>\n      <td>941.629297</td>\n      <td>94724</td>\n      <td>12236</td>\n    </tr>\n  </tbody>\n</table>\n<p>506 rows × 29 columns</p>\n</div>"
     },
     "execution_count": 37,
     "metadata": {},
     "output_type": "execute_result"
    }
   ],
   "source": [
    "df2"
   ],
   "metadata": {
    "collapsed": false,
    "ExecuteTime": {
     "start_time": "2023-04-12T10:01:18.677702Z",
     "end_time": "2023-04-12T10:01:19.059026Z"
    }
   }
  },
  {
   "cell_type": "code",
   "execution_count": 38,
   "outputs": [
    {
     "data": {
      "text/plain": "1320"
     },
     "execution_count": 38,
     "metadata": {},
     "output_type": "execute_result"
    }
   ],
   "source": [
    "df1.duplicated().sum()"
   ],
   "metadata": {
    "collapsed": false,
    "ExecuteTime": {
     "start_time": "2023-04-12T10:01:18.727868Z",
     "end_time": "2023-04-12T10:01:19.060023Z"
    }
   }
  },
  {
   "cell_type": "markdown",
   "source": [],
   "metadata": {
    "collapsed": false
   }
  },
  {
   "cell_type": "code",
   "execution_count": 39,
   "outputs": [
    {
     "data": {
      "text/plain": "Index(['Name', '姓名', 'Index year', 'Sex', 'Associate', '社会关系人姓名',\n       'Assoc. Index Year', 'Assoc. Sex', 'Association', '联系', 'Address', '籍贯',\n       'X', 'Y', 'Assoc. Address', '联系人籍贯', 'Assoc. X', 'Assoc. Y',\n       'Kinship Relation', '亲属关系', 'Kin Name', '亲戚姓名', 'Assoc. Kinship Rel.',\n       '关系人的亲属关系', 'Assoc. Kin Name', '关系人的亲戚姓名', 'Distance 距离', 'Person ID',\n       'Assoc ID'],\n      dtype='object')"
     },
     "execution_count": 39,
     "metadata": {},
     "output_type": "execute_result"
    }
   ],
   "source": [
    "df2.columns"
   ],
   "metadata": {
    "collapsed": false,
    "ExecuteTime": {
     "start_time": "2023-04-12T10:01:18.757784Z",
     "end_time": "2023-04-12T10:01:19.060176Z"
    }
   }
  },
  {
   "cell_type": "code",
   "execution_count": 39,
   "outputs": [],
   "source": [],
   "metadata": {
    "collapsed": false,
    "ExecuteTime": {
     "start_time": "2023-04-12T10:01:18.777965Z",
     "end_time": "2023-04-12T10:01:19.060176Z"
    }
   }
  },
  {
   "cell_type": "code",
   "execution_count": 40,
   "outputs": [
    {
     "data": {
      "text/plain": "318"
     },
     "execution_count": 40,
     "metadata": {},
     "output_type": "execute_result"
    }
   ],
   "source": [
    "df2.duplicated(['姓名','亲戚姓名']).sum()"
   ],
   "metadata": {
    "collapsed": false,
    "ExecuteTime": {
     "start_time": "2023-04-12T10:01:18.797799Z",
     "end_time": "2023-04-12T10:01:19.060176Z"
    }
   }
  },
  {
   "cell_type": "code",
   "execution_count": 41,
   "outputs": [
    {
     "data": {
      "text/plain": "                Name   姓名  Index year Sex   Associate 社会关系人姓名  \\\n0             An Dun   安惇        1042   M     Zou Hao      邹浩   \n2       Chen Jian(2)   陈戬        1081   M   Tong Guan      童贯   \n3           Cheng Yu   程瑀        1087   M      Wu Min      吴敏   \n4    Zhang Shangying  张商英        1043   M  Sima Guang     司马光   \n5          Zhang Dun   章惇        1035   M  Zheng Yong      郑雍   \n..               ...  ...         ...  ..         ...     ...   \n492         Yang Xie   杨偕         980   M  Kong Daofu     孔道辅   \n493            An Fu   安扶        1063   M  Cheng Zhen      程振   \n503       Kong Daofu  孔道辅         986   M    Yang Xie      杨偕   \n504      Liu Anshang  刘安上        1069   M  Shi Gongbi     石公弼   \n505        Han Xizai  韩熙载         902   M     Xu Xuan      徐铉   \n\n     Assoc. Index Year Assoc. Sex           Association     联系  ... 亲属关系  \\\n0               1060.0          M   Opposed or attacked  反对/攻讦  ...   未详   \n2               1054.0          M   Opposed or attacked  反对/攻讦  ...   未详   \n3               1087.0          M   Opposed or attacked  反对/攻讦  ...   未详   \n4               1019.0          M   Opposed or attacked  反对/攻讦  ...   未详   \n5               1031.0          M   Opposed or attacked  反对/攻讦  ...   未详   \n..                 ...        ...                   ...    ...  ...  ...   \n492              986.0          M  Agreed with views of   政见趋同  ...   未详   \n493             1071.0          M  Agreed with views of   政见趋同  ...   未详   \n503              980.0          M  Agreed with views of   政见趋同  ...   未详   \n504             1061.0          M  Agreed with views of   政见趋同  ...   未详   \n505              920.0          M  Agreed with views of   政见趋同  ...   未详   \n\n      Kin Name  亲戚姓名  Assoc. Kinship Rel. 关系人的亲属关系 Assoc. Kin Name  关系人的亲戚姓名  \\\n0    Wei Xiang    未详                    U       未详       Wei Xiang        未详   \n2    Wei Xiang    未详                    U       未详       Wei Xiang        未详   \n3    Wei Xiang    未详                    U       未详       Wei Xiang        未详   \n4    Wei Xiang    未详                    U       未详       Wei Xiang        未详   \n5    Wei Xiang    未详                    U       未详       Wei Xiang        未详   \n..         ...   ...                  ...      ...             ...       ...   \n492  Wei Xiang    未详                    U       未详       Wei Xiang        未详   \n493  Wei Xiang    未详                    U       未详       Wei Xiang        未详   \n503  Wei Xiang    未详                    U       未详       Wei Xiang        未详   \n504  Wei Xiang    未详                    U       未详       Wei Xiang        未详   \n505  Wei Xiang    未详                    U       未详       Wei Xiang        未详   \n\n     Distance 距离 Person ID Assoc ID  \n0    1275.341259         1     3888  \n2     910.189663        31     8124  \n3     370.461638       128     8163  \n4     868.170971       272     1488  \n5     795.028298       333     8030  \n..           ...       ...      ...  \n492   431.228735      2003    15939  \n493   698.351793      3000    26915  \n503   431.228735     15939     2003  \n504   165.947261     17479    13417  \n505   941.629297     94724    12236  \n\n[188 rows x 29 columns]",
      "text/html": "<div>\n<style scoped>\n    .dataframe tbody tr th:only-of-type {\n        vertical-align: middle;\n    }\n\n    .dataframe tbody tr th {\n        vertical-align: top;\n    }\n\n    .dataframe thead th {\n        text-align: right;\n    }\n</style>\n<table border=\"1\" class=\"dataframe\">\n  <thead>\n    <tr style=\"text-align: right;\">\n      <th></th>\n      <th>Name</th>\n      <th>姓名</th>\n      <th>Index year</th>\n      <th>Sex</th>\n      <th>Associate</th>\n      <th>社会关系人姓名</th>\n      <th>Assoc. Index Year</th>\n      <th>Assoc. Sex</th>\n      <th>Association</th>\n      <th>联系</th>\n      <th>...</th>\n      <th>亲属关系</th>\n      <th>Kin Name</th>\n      <th>亲戚姓名</th>\n      <th>Assoc. Kinship Rel.</th>\n      <th>关系人的亲属关系</th>\n      <th>Assoc. Kin Name</th>\n      <th>关系人的亲戚姓名</th>\n      <th>Distance 距离</th>\n      <th>Person ID</th>\n      <th>Assoc ID</th>\n    </tr>\n  </thead>\n  <tbody>\n    <tr>\n      <th>0</th>\n      <td>An Dun</td>\n      <td>安惇</td>\n      <td>1042</td>\n      <td>M</td>\n      <td>Zou Hao</td>\n      <td>邹浩</td>\n      <td>1060.0</td>\n      <td>M</td>\n      <td>Opposed or attacked</td>\n      <td>反对/攻讦</td>\n      <td>...</td>\n      <td>未详</td>\n      <td>Wei Xiang</td>\n      <td>未详</td>\n      <td>U</td>\n      <td>未详</td>\n      <td>Wei Xiang</td>\n      <td>未详</td>\n      <td>1275.341259</td>\n      <td>1</td>\n      <td>3888</td>\n    </tr>\n    <tr>\n      <th>2</th>\n      <td>Chen Jian(2)</td>\n      <td>陈戬</td>\n      <td>1081</td>\n      <td>M</td>\n      <td>Tong Guan</td>\n      <td>童贯</td>\n      <td>1054.0</td>\n      <td>M</td>\n      <td>Opposed or attacked</td>\n      <td>反对/攻讦</td>\n      <td>...</td>\n      <td>未详</td>\n      <td>Wei Xiang</td>\n      <td>未详</td>\n      <td>U</td>\n      <td>未详</td>\n      <td>Wei Xiang</td>\n      <td>未详</td>\n      <td>910.189663</td>\n      <td>31</td>\n      <td>8124</td>\n    </tr>\n    <tr>\n      <th>3</th>\n      <td>Cheng Yu</td>\n      <td>程瑀</td>\n      <td>1087</td>\n      <td>M</td>\n      <td>Wu Min</td>\n      <td>吴敏</td>\n      <td>1087.0</td>\n      <td>M</td>\n      <td>Opposed or attacked</td>\n      <td>反对/攻讦</td>\n      <td>...</td>\n      <td>未详</td>\n      <td>Wei Xiang</td>\n      <td>未详</td>\n      <td>U</td>\n      <td>未详</td>\n      <td>Wei Xiang</td>\n      <td>未详</td>\n      <td>370.461638</td>\n      <td>128</td>\n      <td>8163</td>\n    </tr>\n    <tr>\n      <th>4</th>\n      <td>Zhang Shangying</td>\n      <td>张商英</td>\n      <td>1043</td>\n      <td>M</td>\n      <td>Sima Guang</td>\n      <td>司马光</td>\n      <td>1019.0</td>\n      <td>M</td>\n      <td>Opposed or attacked</td>\n      <td>反对/攻讦</td>\n      <td>...</td>\n      <td>未详</td>\n      <td>Wei Xiang</td>\n      <td>未详</td>\n      <td>U</td>\n      <td>未详</td>\n      <td>Wei Xiang</td>\n      <td>未详</td>\n      <td>868.170971</td>\n      <td>272</td>\n      <td>1488</td>\n    </tr>\n    <tr>\n      <th>5</th>\n      <td>Zhang Dun</td>\n      <td>章惇</td>\n      <td>1035</td>\n      <td>M</td>\n      <td>Zheng Yong</td>\n      <td>郑雍</td>\n      <td>1031.0</td>\n      <td>M</td>\n      <td>Opposed or attacked</td>\n      <td>反对/攻讦</td>\n      <td>...</td>\n      <td>未详</td>\n      <td>Wei Xiang</td>\n      <td>未详</td>\n      <td>U</td>\n      <td>未详</td>\n      <td>Wei Xiang</td>\n      <td>未详</td>\n      <td>795.028298</td>\n      <td>333</td>\n      <td>8030</td>\n    </tr>\n    <tr>\n      <th>...</th>\n      <td>...</td>\n      <td>...</td>\n      <td>...</td>\n      <td>...</td>\n      <td>...</td>\n      <td>...</td>\n      <td>...</td>\n      <td>...</td>\n      <td>...</td>\n      <td>...</td>\n      <td>...</td>\n      <td>...</td>\n      <td>...</td>\n      <td>...</td>\n      <td>...</td>\n      <td>...</td>\n      <td>...</td>\n      <td>...</td>\n      <td>...</td>\n      <td>...</td>\n      <td>...</td>\n    </tr>\n    <tr>\n      <th>492</th>\n      <td>Yang Xie</td>\n      <td>杨偕</td>\n      <td>980</td>\n      <td>M</td>\n      <td>Kong Daofu</td>\n      <td>孔道辅</td>\n      <td>986.0</td>\n      <td>M</td>\n      <td>Agreed with views of</td>\n      <td>政见趋同</td>\n      <td>...</td>\n      <td>未详</td>\n      <td>Wei Xiang</td>\n      <td>未详</td>\n      <td>U</td>\n      <td>未详</td>\n      <td>Wei Xiang</td>\n      <td>未详</td>\n      <td>431.228735</td>\n      <td>2003</td>\n      <td>15939</td>\n    </tr>\n    <tr>\n      <th>493</th>\n      <td>An Fu</td>\n      <td>安扶</td>\n      <td>1063</td>\n      <td>M</td>\n      <td>Cheng Zhen</td>\n      <td>程振</td>\n      <td>1071.0</td>\n      <td>M</td>\n      <td>Agreed with views of</td>\n      <td>政见趋同</td>\n      <td>...</td>\n      <td>未详</td>\n      <td>Wei Xiang</td>\n      <td>未详</td>\n      <td>U</td>\n      <td>未详</td>\n      <td>Wei Xiang</td>\n      <td>未详</td>\n      <td>698.351793</td>\n      <td>3000</td>\n      <td>26915</td>\n    </tr>\n    <tr>\n      <th>503</th>\n      <td>Kong Daofu</td>\n      <td>孔道辅</td>\n      <td>986</td>\n      <td>M</td>\n      <td>Yang Xie</td>\n      <td>杨偕</td>\n      <td>980.0</td>\n      <td>M</td>\n      <td>Agreed with views of</td>\n      <td>政见趋同</td>\n      <td>...</td>\n      <td>未详</td>\n      <td>Wei Xiang</td>\n      <td>未详</td>\n      <td>U</td>\n      <td>未详</td>\n      <td>Wei Xiang</td>\n      <td>未详</td>\n      <td>431.228735</td>\n      <td>15939</td>\n      <td>2003</td>\n    </tr>\n    <tr>\n      <th>504</th>\n      <td>Liu Anshang</td>\n      <td>刘安上</td>\n      <td>1069</td>\n      <td>M</td>\n      <td>Shi Gongbi</td>\n      <td>石公弼</td>\n      <td>1061.0</td>\n      <td>M</td>\n      <td>Agreed with views of</td>\n      <td>政见趋同</td>\n      <td>...</td>\n      <td>未详</td>\n      <td>Wei Xiang</td>\n      <td>未详</td>\n      <td>U</td>\n      <td>未详</td>\n      <td>Wei Xiang</td>\n      <td>未详</td>\n      <td>165.947261</td>\n      <td>17479</td>\n      <td>13417</td>\n    </tr>\n    <tr>\n      <th>505</th>\n      <td>Han Xizai</td>\n      <td>韩熙载</td>\n      <td>902</td>\n      <td>M</td>\n      <td>Xu Xuan</td>\n      <td>徐铉</td>\n      <td>920.0</td>\n      <td>M</td>\n      <td>Agreed with views of</td>\n      <td>政见趋同</td>\n      <td>...</td>\n      <td>未详</td>\n      <td>Wei Xiang</td>\n      <td>未详</td>\n      <td>U</td>\n      <td>未详</td>\n      <td>Wei Xiang</td>\n      <td>未详</td>\n      <td>941.629297</td>\n      <td>94724</td>\n      <td>12236</td>\n    </tr>\n  </tbody>\n</table>\n<p>188 rows × 29 columns</p>\n</div>"
     },
     "execution_count": 41,
     "metadata": {},
     "output_type": "execute_result"
    }
   ],
   "source": [
    "df2.drop_duplicates(['姓名','亲戚姓名'],inplace=True)\n",
    "df2"
   ],
   "metadata": {
    "collapsed": false,
    "ExecuteTime": {
     "start_time": "2023-04-12T10:01:18.817785Z",
     "end_time": "2023-04-12T10:01:19.060176Z"
    }
   }
  },
  {
   "cell_type": "code",
   "execution_count": 50,
   "outputs": [],
   "source": [
    "#df1亲戚  df2政治关系\n"
   ],
   "metadata": {
    "collapsed": false,
    "ExecuteTime": {
     "start_time": "2023-04-12T10:03:14.667764Z",
     "end_time": "2023-04-12T10:03:14.693011Z"
    }
   }
  },
  {
   "cell_type": "code",
   "execution_count": 51,
   "outputs": [
    {
     "data": {
      "text/plain": "188"
     },
     "execution_count": 51,
     "metadata": {},
     "output_type": "execute_result"
    }
   ],
   "source": [
    "#去重查看有多少官员\n",
    "df2['姓名'].nunique()"
   ],
   "metadata": {
    "collapsed": false,
    "ExecuteTime": {
     "start_time": "2023-04-12T10:03:15.972792Z",
     "end_time": "2023-04-12T10:03:16.017591Z"
    }
   }
  },
  {
   "cell_type": "code",
   "execution_count": 56,
   "outputs": [
    {
     "data": {
      "text/plain": "                Name   姓名  Index year Sex   Associate 社会关系人姓名  \\\n0             An Dun   安惇        1042   M     Zou Hao      邹浩   \n2       Chen Jian(2)   陈戬        1081   M   Tong Guan      童贯   \n3           Cheng Yu   程瑀        1087   M      Wu Min      吴敏   \n4    Zhang Shangying  张商英        1043   M  Sima Guang     司马光   \n5          Zhang Dun   章惇        1035   M  Zheng Yong      郑雍   \n..               ...  ...         ...  ..         ...     ...   \n492         Yang Xie   杨偕         980   M  Kong Daofu     孔道辅   \n493            An Fu   安扶        1063   M  Cheng Zhen      程振   \n503       Kong Daofu  孔道辅         986   M    Yang Xie      杨偕   \n504      Liu Anshang  刘安上        1069   M  Shi Gongbi     石公弼   \n505        Han Xizai  韩熙载         902   M     Xu Xuan      徐铉   \n\n     Assoc. Index Year Assoc. Sex           Association     联系  ... 亲属关系  \\\n0               1060.0          M   Opposed or attacked  反对/攻讦  ...   未详   \n2               1054.0          M   Opposed or attacked  反对/攻讦  ...   未详   \n3               1087.0          M   Opposed or attacked  反对/攻讦  ...   未详   \n4               1019.0          M   Opposed or attacked  反对/攻讦  ...   未详   \n5               1031.0          M   Opposed or attacked  反对/攻讦  ...   未详   \n..                 ...        ...                   ...    ...  ...  ...   \n492              986.0          M  Agreed with views of   政见趋同  ...   未详   \n493             1071.0          M  Agreed with views of   政见趋同  ...   未详   \n503              980.0          M  Agreed with views of   政见趋同  ...   未详   \n504             1061.0          M  Agreed with views of   政见趋同  ...   未详   \n505              920.0          M  Agreed with views of   政见趋同  ...   未详   \n\n      Kin Name  亲戚姓名  Assoc. Kinship Rel. 关系人的亲属关系 Assoc. Kin Name  关系人的亲戚姓名  \\\n0    Wei Xiang    未详                    U       未详       Wei Xiang        未详   \n2    Wei Xiang    未详                    U       未详       Wei Xiang        未详   \n3    Wei Xiang    未详                    U       未详       Wei Xiang        未详   \n4    Wei Xiang    未详                    U       未详       Wei Xiang        未详   \n5    Wei Xiang    未详                    U       未详       Wei Xiang        未详   \n..         ...   ...                  ...      ...             ...       ...   \n492  Wei Xiang    未详                    U       未详       Wei Xiang        未详   \n493  Wei Xiang    未详                    U       未详       Wei Xiang        未详   \n503  Wei Xiang    未详                    U       未详       Wei Xiang        未详   \n504  Wei Xiang    未详                    U       未详       Wei Xiang        未详   \n505  Wei Xiang    未详                    U       未详       Wei Xiang        未详   \n\n     Distance 距离 Person ID Assoc ID  \n0    1275.341259         1     3888  \n2     910.189663        31     8124  \n3     370.461638       128     8163  \n4     868.170971       272     1488  \n5     795.028298       333     8030  \n..           ...       ...      ...  \n492   431.228735      2003    15939  \n493   698.351793      3000    26915  \n503   431.228735     15939     2003  \n504   165.947261     17479    13417  \n505   941.629297     94724    12236  \n\n[188 rows x 29 columns]",
      "text/html": "<div>\n<style scoped>\n    .dataframe tbody tr th:only-of-type {\n        vertical-align: middle;\n    }\n\n    .dataframe tbody tr th {\n        vertical-align: top;\n    }\n\n    .dataframe thead th {\n        text-align: right;\n    }\n</style>\n<table border=\"1\" class=\"dataframe\">\n  <thead>\n    <tr style=\"text-align: right;\">\n      <th></th>\n      <th>Name</th>\n      <th>姓名</th>\n      <th>Index year</th>\n      <th>Sex</th>\n      <th>Associate</th>\n      <th>社会关系人姓名</th>\n      <th>Assoc. Index Year</th>\n      <th>Assoc. Sex</th>\n      <th>Association</th>\n      <th>联系</th>\n      <th>...</th>\n      <th>亲属关系</th>\n      <th>Kin Name</th>\n      <th>亲戚姓名</th>\n      <th>Assoc. Kinship Rel.</th>\n      <th>关系人的亲属关系</th>\n      <th>Assoc. Kin Name</th>\n      <th>关系人的亲戚姓名</th>\n      <th>Distance 距离</th>\n      <th>Person ID</th>\n      <th>Assoc ID</th>\n    </tr>\n  </thead>\n  <tbody>\n    <tr>\n      <th>0</th>\n      <td>An Dun</td>\n      <td>安惇</td>\n      <td>1042</td>\n      <td>M</td>\n      <td>Zou Hao</td>\n      <td>邹浩</td>\n      <td>1060.0</td>\n      <td>M</td>\n      <td>Opposed or attacked</td>\n      <td>反对/攻讦</td>\n      <td>...</td>\n      <td>未详</td>\n      <td>Wei Xiang</td>\n      <td>未详</td>\n      <td>U</td>\n      <td>未详</td>\n      <td>Wei Xiang</td>\n      <td>未详</td>\n      <td>1275.341259</td>\n      <td>1</td>\n      <td>3888</td>\n    </tr>\n    <tr>\n      <th>2</th>\n      <td>Chen Jian(2)</td>\n      <td>陈戬</td>\n      <td>1081</td>\n      <td>M</td>\n      <td>Tong Guan</td>\n      <td>童贯</td>\n      <td>1054.0</td>\n      <td>M</td>\n      <td>Opposed or attacked</td>\n      <td>反对/攻讦</td>\n      <td>...</td>\n      <td>未详</td>\n      <td>Wei Xiang</td>\n      <td>未详</td>\n      <td>U</td>\n      <td>未详</td>\n      <td>Wei Xiang</td>\n      <td>未详</td>\n      <td>910.189663</td>\n      <td>31</td>\n      <td>8124</td>\n    </tr>\n    <tr>\n      <th>3</th>\n      <td>Cheng Yu</td>\n      <td>程瑀</td>\n      <td>1087</td>\n      <td>M</td>\n      <td>Wu Min</td>\n      <td>吴敏</td>\n      <td>1087.0</td>\n      <td>M</td>\n      <td>Opposed or attacked</td>\n      <td>反对/攻讦</td>\n      <td>...</td>\n      <td>未详</td>\n      <td>Wei Xiang</td>\n      <td>未详</td>\n      <td>U</td>\n      <td>未详</td>\n      <td>Wei Xiang</td>\n      <td>未详</td>\n      <td>370.461638</td>\n      <td>128</td>\n      <td>8163</td>\n    </tr>\n    <tr>\n      <th>4</th>\n      <td>Zhang Shangying</td>\n      <td>张商英</td>\n      <td>1043</td>\n      <td>M</td>\n      <td>Sima Guang</td>\n      <td>司马光</td>\n      <td>1019.0</td>\n      <td>M</td>\n      <td>Opposed or attacked</td>\n      <td>反对/攻讦</td>\n      <td>...</td>\n      <td>未详</td>\n      <td>Wei Xiang</td>\n      <td>未详</td>\n      <td>U</td>\n      <td>未详</td>\n      <td>Wei Xiang</td>\n      <td>未详</td>\n      <td>868.170971</td>\n      <td>272</td>\n      <td>1488</td>\n    </tr>\n    <tr>\n      <th>5</th>\n      <td>Zhang Dun</td>\n      <td>章惇</td>\n      <td>1035</td>\n      <td>M</td>\n      <td>Zheng Yong</td>\n      <td>郑雍</td>\n      <td>1031.0</td>\n      <td>M</td>\n      <td>Opposed or attacked</td>\n      <td>反对/攻讦</td>\n      <td>...</td>\n      <td>未详</td>\n      <td>Wei Xiang</td>\n      <td>未详</td>\n      <td>U</td>\n      <td>未详</td>\n      <td>Wei Xiang</td>\n      <td>未详</td>\n      <td>795.028298</td>\n      <td>333</td>\n      <td>8030</td>\n    </tr>\n    <tr>\n      <th>...</th>\n      <td>...</td>\n      <td>...</td>\n      <td>...</td>\n      <td>...</td>\n      <td>...</td>\n      <td>...</td>\n      <td>...</td>\n      <td>...</td>\n      <td>...</td>\n      <td>...</td>\n      <td>...</td>\n      <td>...</td>\n      <td>...</td>\n      <td>...</td>\n      <td>...</td>\n      <td>...</td>\n      <td>...</td>\n      <td>...</td>\n      <td>...</td>\n      <td>...</td>\n      <td>...</td>\n    </tr>\n    <tr>\n      <th>492</th>\n      <td>Yang Xie</td>\n      <td>杨偕</td>\n      <td>980</td>\n      <td>M</td>\n      <td>Kong Daofu</td>\n      <td>孔道辅</td>\n      <td>986.0</td>\n      <td>M</td>\n      <td>Agreed with views of</td>\n      <td>政见趋同</td>\n      <td>...</td>\n      <td>未详</td>\n      <td>Wei Xiang</td>\n      <td>未详</td>\n      <td>U</td>\n      <td>未详</td>\n      <td>Wei Xiang</td>\n      <td>未详</td>\n      <td>431.228735</td>\n      <td>2003</td>\n      <td>15939</td>\n    </tr>\n    <tr>\n      <th>493</th>\n      <td>An Fu</td>\n      <td>安扶</td>\n      <td>1063</td>\n      <td>M</td>\n      <td>Cheng Zhen</td>\n      <td>程振</td>\n      <td>1071.0</td>\n      <td>M</td>\n      <td>Agreed with views of</td>\n      <td>政见趋同</td>\n      <td>...</td>\n      <td>未详</td>\n      <td>Wei Xiang</td>\n      <td>未详</td>\n      <td>U</td>\n      <td>未详</td>\n      <td>Wei Xiang</td>\n      <td>未详</td>\n      <td>698.351793</td>\n      <td>3000</td>\n      <td>26915</td>\n    </tr>\n    <tr>\n      <th>503</th>\n      <td>Kong Daofu</td>\n      <td>孔道辅</td>\n      <td>986</td>\n      <td>M</td>\n      <td>Yang Xie</td>\n      <td>杨偕</td>\n      <td>980.0</td>\n      <td>M</td>\n      <td>Agreed with views of</td>\n      <td>政见趋同</td>\n      <td>...</td>\n      <td>未详</td>\n      <td>Wei Xiang</td>\n      <td>未详</td>\n      <td>U</td>\n      <td>未详</td>\n      <td>Wei Xiang</td>\n      <td>未详</td>\n      <td>431.228735</td>\n      <td>15939</td>\n      <td>2003</td>\n    </tr>\n    <tr>\n      <th>504</th>\n      <td>Liu Anshang</td>\n      <td>刘安上</td>\n      <td>1069</td>\n      <td>M</td>\n      <td>Shi Gongbi</td>\n      <td>石公弼</td>\n      <td>1061.0</td>\n      <td>M</td>\n      <td>Agreed with views of</td>\n      <td>政见趋同</td>\n      <td>...</td>\n      <td>未详</td>\n      <td>Wei Xiang</td>\n      <td>未详</td>\n      <td>U</td>\n      <td>未详</td>\n      <td>Wei Xiang</td>\n      <td>未详</td>\n      <td>165.947261</td>\n      <td>17479</td>\n      <td>13417</td>\n    </tr>\n    <tr>\n      <th>505</th>\n      <td>Han Xizai</td>\n      <td>韩熙载</td>\n      <td>902</td>\n      <td>M</td>\n      <td>Xu Xuan</td>\n      <td>徐铉</td>\n      <td>920.0</td>\n      <td>M</td>\n      <td>Agreed with views of</td>\n      <td>政见趋同</td>\n      <td>...</td>\n      <td>未详</td>\n      <td>Wei Xiang</td>\n      <td>未详</td>\n      <td>U</td>\n      <td>未详</td>\n      <td>Wei Xiang</td>\n      <td>未详</td>\n      <td>941.629297</td>\n      <td>94724</td>\n      <td>12236</td>\n    </tr>\n  </tbody>\n</table>\n<p>188 rows × 29 columns</p>\n</div>"
     },
     "execution_count": 56,
     "metadata": {},
     "output_type": "execute_result"
    }
   ],
   "source": [
    "df2"
   ],
   "metadata": {
    "collapsed": false,
    "ExecuteTime": {
     "start_time": "2023-04-12T10:04:43.017934Z",
     "end_time": "2023-04-12T10:04:43.057786Z"
    }
   }
  },
  {
   "cell_type": "code",
   "execution_count": 53,
   "outputs": [
    {
     "data": {
      "text/plain": "125"
     },
     "execution_count": 53,
     "metadata": {},
     "output_type": "execute_result"
    }
   ],
   "source": [
    "#查看有多少关系人\n",
    "df2['社会关系人姓名'].nunique()"
   ],
   "metadata": {
    "collapsed": false,
    "ExecuteTime": {
     "start_time": "2023-04-12T10:03:20.038145Z",
     "end_time": "2023-04-12T10:03:20.093599Z"
    }
   }
  },
  {
   "cell_type": "code",
   "execution_count": 45,
   "outputs": [
    {
     "data": {
      "text/plain": "[('丁谓',\n  124    陈琰\n  Name: 社会关系人姓名, dtype: object),\n ('万俟卨',\n  357    秦桧\n  Name: 社会关系人姓名, dtype: object),\n ('令狐挻',\n  419    狄青\n  Name: 社会关系人姓名, dtype: object),\n ('何执中',\n  188    洪彦升\n  Name: 社会关系人姓名, dtype: object),\n ('余靖',\n  204    高若讷\n  Name: 社会关系人姓名, dtype: object),\n ('侯蒙',\n  471    蔡京\n  Name: 社会关系人姓名, dtype: object),\n ('冯京',\n  350    富弼\n  Name: 社会关系人姓名, dtype: object),\n ('刘安上',\n  504    石公弼\n  Name: 社会关系人姓名, dtype: object),\n ('刘安世',\n  34    胡宗愈\n  Name: 社会关系人姓名, dtype: object),\n ('刘氏(赵恒皇后)',\n  73    程琳\n  Name: 社会关系人姓名, dtype: object),\n ('刘筠',\n  63    丁谓\n  Name: 社会关系人姓名, dtype: object),\n ('刘錡',\n  335    胡宪\n  Name: 社会关系人姓名, dtype: object),\n ('卢多逊',\n  195    胡旦\n  Name: 社会关系人姓名, dtype: object),\n ('句龙如渊',\n  416    施庭臣\n  Name: 社会关系人姓名, dtype: object),\n ('叶祖洽',\n  68    蔡确\n  Name: 社会关系人姓名, dtype: object),\n ('司马光',\n  21    夏竦\n  Name: 社会关系人姓名, dtype: object),\n ('向子諲',\n  104    潘良贵\n  Name: 社会关系人姓名, dtype: object),\n ('向宗良',\n  205    陈瓘\n  Name: 社会关系人姓名, dtype: object),\n ('吕大防',\n  113    郭知章\n  Name: 社会关系人姓名, dtype: object),\n ('吕夷简',\n  56    杨氏(赵恒妃)\n  Name: 社会关系人姓名, dtype: object),\n ('吕惠卿',\n  108    苏辙\n  Name: 社会关系人姓名, dtype: object),\n ('吕诲',\n  36    王安石\n  Name: 社会关系人姓名, dtype: object),\n ('吕颐浩',\n  16    李纲\n  Name: 社会关系人姓名, dtype: object),\n ('吴充',\n  365    司马光\n  Name: 社会关系人姓名, dtype: object),\n ('吴懋',\n  30    王时雍\n  Name: 社会关系人姓名, dtype: object),\n ('吴玠',\n  475    卢法原\n  Name: 社会关系人姓名, dtype: object),\n ('周嘉正',\n  6    丁谓\n  Name: 社会关系人姓名, dtype: object),\n ('周敦颐',\n  220    任希夷\n  Name: 社会关系人姓名, dtype: object),\n ('唐介',\n  487    张择行\n  Name: 社会关系人姓名, dtype: object),\n ('唐重',\n  77    蔡京\n  Name: 社会关系人姓名, dtype: object),\n ('夏竦',\n  103    司马光\n  Name: 社会关系人姓名, dtype: object),\n ('孔道辅',\n  503    杨偕\n  Name: 社会关系人姓名, dtype: object),\n ('孙固',\n  26    李宪\n  Name: 社会关系人姓名, dtype: object),\n ('孙览',\n  438    蔡京\n  Name: 社会关系人姓名, dtype: object),\n ('孟彦卿',\n  332    谢淳\n  Name: 社会关系人姓名, dtype: object),\n ('孟氏(赵煦妻)',\n  333    曾诞\n  Name: 社会关系人姓名, dtype: object),\n ('安惇',\n  0    邹浩\n  Name: 社会关系人姓名, dtype: object),\n ('安扶',\n  493    程振\n  Name: 社会关系人姓名, dtype: object),\n ('宋乔年',\n  276    蔡京\n  Name: 社会关系人姓名, dtype: object),\n ('宗泽',\n  277    邢焕\n  Name: 社会关系人姓名, dtype: object),\n ('寇准',\n  10    林特\n  Name: 社会关系人姓名, dtype: object),\n ('富弼',\n  226    冯京\n  Name: 社会关系人姓名, dtype: object),\n ('尹洙',\n  282    韩琦\n  Name: 社会关系人姓名, dtype: object),\n ('岳飞',\n  60    黄潜善\n  Name: 社会关系人姓名, dtype: object),\n ('师骥',\n  41    蔡京\n  Name: 社会关系人姓名, dtype: object),\n ('常安民',\n  279    安焘\n  Name: 社会关系人姓名, dtype: object),\n ('常秩',\n  410    王安石\n  Name: 社会关系人姓名, dtype: object),\n ('张九成',\n  477    秦桧\n  Name: 社会关系人姓名, dtype: object),\n ('张商英',\n  4    司马光\n  Name: 社会关系人姓名, dtype: object),\n ('张士逊',\n  345    曹利用\n  Name: 社会关系人姓名, dtype: object),\n ('张康国',\n  208    蔡京\n  Name: 社会关系人姓名, dtype: object),\n ('张扩',\n  330    秦桧\n  Name: 社会关系人姓名, dtype: object),\n ('张知白',\n  424    王钦若\n  Name: 社会关系人姓名, dtype: object),\n ('张载',\n  327    朱在\n  Name: 社会关系人姓名, dtype: object),\n ('张逊',\n  425    寇准\n  Name: 社会关系人姓名, dtype: object),\n ('张邵',\n  377    秦桧\n  Name: 社会关系人姓名, dtype: object),\n ('彭思永',\n  19    张尧佐\n  Name: 社会关系人姓名, dtype: object),\n ('彭汝砺',\n  18    李宪\n  Name: 社会关系人姓名, dtype: object),\n ('施庭臣',\n  339    句龙如渊\n  Name: 社会关系人姓名, dtype: object),\n ('施昌言',\n  20    陈湜\n  Name: 社会关系人姓名, dtype: object),\n ('晏殊',\n  143    阎文应\n  Name: 社会关系人姓名, dtype: object),\n ('曹修古',\n  376    赵祯\n  Name: 社会关系人姓名, dtype: object),\n ('曹利用',\n  316    张士逊\n  Name: 社会关系人姓名, dtype: object),\n ('曾布',\n  28    常立\n  Name: 社会关系人姓名, dtype: object),\n ('曾肇',\n  150    檀固\n  Name: 社会关系人姓名, dtype: object),\n ('朱胜非',\n  50    秦桧\n  Name: 社会关系人姓名, dtype: object),\n ('李光',\n  54    孙觌\n  Name: 社会关系人姓名, dtype: object),\n ('李处耘',\n  53    慕容延钊\n  Name: 社会关系人姓名, dtype: object),\n ('李宾王',\n  76    张邦昌\n  Name: 社会关系人姓名, dtype: object),\n ('李师中',\n  14    王安石\n  Name: 社会关系人姓名, dtype: object),\n ('李弥大',\n  431    李纲\n  Name: 社会关系人姓名, dtype: object),\n ('李氏(赵祯母)',\n  336    吕夷简\n  Name: 社会关系人姓名, dtype: object),\n ('李渭',\n  417    鲁宗道\n  Name: 社会关系人姓名, dtype: object),\n ('李纲',\n  190    权邦彦\n  Name: 社会关系人姓名, dtype: object),\n ('李迪',\n  15    林特\n  Name: 社会关系人姓名, dtype: object),\n ('李邦彦',\n  193    雷观\n  Name: 社会关系人姓名, dtype: object),\n ('李邴',\n  55    苗傅\n  Name: 社会关系人姓名, dtype: object),\n ('杜衍',\n  262    欧阳修\n  Name: 社会关系人姓名, dtype: object),\n ('杨偕',\n  492    孔道辅\n  Name: 社会关系人姓名, dtype: object),\n ('杨徽之',\n  66    寇准\n  Name: 社会关系人姓名, dtype: object),\n ('杨愿',\n  203    黄祖舜\n  Name: 社会关系人姓名, dtype: object),\n ('杨畏',\n  366    章惇\n  Name: 社会关系人姓名, dtype: object),\n ('杨覃',\n  447    朱台符\n  Name: 社会关系人姓名, dtype: object),\n ('柳瑊',\n  152    盛章\n  Name: 社会关系人姓名, dtype: object),\n ('柴禹锡',\n  153    弭德超\n  Name: 社会关系人姓名, dtype: object),\n ('江褒',\n  286    曾布\n  Name: 社会关系人姓名, dtype: object),\n ('汪伯彦',\n  197    岳飞\n  Name: 社会关系人姓名, dtype: object),\n ('汪藻',\n  476    王黼\n  Name: 社会关系人姓名, dtype: object),\n ('沈季长',\n  358    王安石\n  Name: 社会关系人姓名, dtype: object),\n ('沈辽',\n  434    王安石\n  Name: 社会关系人姓名, dtype: object),\n ('洪皓',\n  62    秦桧\n  Name: 社会关系人姓名, dtype: object),\n ('温益',\n  317    蔡京\n  Name: 社会关系人姓名, dtype: object),\n ('潘美',\n  242    袁彦\n  Name: 社会关系人姓名, dtype: object),\n ('潘良贵',\n  17    向子諲\n  Name: 社会关系人姓名, dtype: object),\n ('狄青',\n  315    令狐挻\n  Name: 社会关系人姓名, dtype: object),\n ('王公彦',\n  74    章惇\n  Name: 社会关系人姓名, dtype: object),\n ('王安石',\n  129    李师中\n  Name: 社会关系人姓名, dtype: object),\n ('王安礼',\n  362    苏轼\n  Name: 社会关系人姓名, dtype: object),\n ('王尧臣',\n  141    胡宿\n  Name: 社会关系人姓名, dtype: object),\n ('王旦',\n  59    张师德\n  Name: 社会关系人姓名, dtype: object),\n ('王显',\n  202    弭德超\n  Name: 社会关系人姓名, dtype: object),\n ('王珪',\n  140    叶祖洽\n  Name: 社会关系人姓名, dtype: object),\n ('王畴',\n  139    钱公辅\n  Name: 社会关系人姓名, dtype: object),\n ('王祖道',\n  364    蔡京\n  Name: 社会关系人姓名, dtype: object),\n ('王纶',\n  29    秦桧\n  Name: 社会关系人姓名, dtype: object),\n ('王钦若',\n  138    马知节\n  Name: 社会关系人姓名, dtype: object),\n ('王震',\n  450    章惇\n  Name: 社会关系人姓名, dtype: object),\n ('王黼',\n  200    何?\n  Name: 社会关系人姓名, dtype: object),\n ('皮公弼',\n  116    司马光\n  Name: 社会关系人姓名, dtype: object),\n ('石介',\n  403    富弼\n  Name: 社会关系人姓名, dtype: object),\n ('祖无择',\n  261    郑獬\n  Name: 社会关系人姓名, dtype: object),\n ('种师道',\n  187    高登\n  Name: 社会关系人姓名, dtype: object),\n ('秦桧',\n  42    张浚\n  Name: 社会关系人姓名, dtype: object),\n ('秦熺',\n  154    黄祖舜\n  Name: 社会关系人姓名, dtype: object),\n ('程琳',\n  80    刘氏(赵恒皇后)\n  Name: 社会关系人姓名, dtype: object),\n ('程瑀',\n  3    吴敏\n  Name: 社会关系人姓名, dtype: object),\n ('程颐',\n  268    方宙\n  Name: 社会关系人姓名, dtype: object),\n ('章惇',\n  5    郑雍\n  Name: 社会关系人姓名, dtype: object),\n ('章綡',\n  284    张商英\n  Name: 社会关系人姓名, dtype: object),\n ('章縡',\n  269    张商英\n  Name: 社会关系人姓名, dtype: object),\n ('胡则',\n  232    倪展\n  Name: 社会关系人姓名, dtype: object),\n ('胡宗愈',\n  105    刘安世\n  Name: 社会关系人姓名, dtype: object),\n ('胡宪',\n  396    张浚\n  Name: 社会关系人姓名, dtype: object),\n ('胡宿',\n  51    王尧臣\n  Name: 社会关系人姓名, dtype: object),\n ('胡瑗',\n  144    林自\n  Name: 社会关系人姓名, dtype: object),\n ('胥偃',\n  452    范仲淹\n  Name: 社会关系人姓名, dtype: object),\n ('苏安世',\n  359    欧阳修\n  Name: 社会关系人姓名, dtype: object),\n ('苏舜钦',\n  281    赵槩\n  Name: 社会关系人姓名, dtype: object),\n ('苏轼',\n  145    贾易\n  Name: 社会关系人姓名, dtype: object),\n ('苏辙',\n  23    章惇\n  Name: 社会关系人姓名, dtype: object),\n ('苗傅',\n  206    郑瑴\n  Name: 社会关系人姓名, dtype: object),\n ('范仲淹',\n  298    薛奎\n  Name: 社会关系人姓名, dtype: object),\n ('范同',\n  348    秦桧\n  Name: 社会关系人姓名, dtype: object),\n ('范如圭',\n  7    秦桧\n  Name: 社会关系人姓名, dtype: object),\n ('范宗尹',\n  386    张邦昌\n  Name: 社会关系人姓名, dtype: object),\n ('范濬',\n  480    秦桧\n  Name: 社会关系人姓名, dtype: object),\n ('范琼',\n  338    苗傅\n  Name: 社会关系人姓名, dtype: object),\n ('范祖禹',\n  33    章惇\n  Name: 社会关系人姓名, dtype: object),\n ('范纯仁',\n  97    来之邵\n  Name: 社会关系人姓名, dtype: object),\n ('范纯礼',\n  101    吴材\n  Name: 社会关系人姓名, dtype: object),\n ('范镇',\n  449    王安石\n  Name: 社会关系人姓名, dtype: object),\n ('萧服',\n  372    章縡\n  Name: 社会关系人姓名, dtype: object),\n ('蔡承禧',\n  27    吕惠卿\n  Name: 社会关系人姓名, dtype: object),\n ('薛奎',\n  354    范仲淹\n  Name: 社会关系人姓名, dtype: object),\n ('薛弼',\n  485    李纲\n  Name: 社会关系人姓名, dtype: object),\n ('许将',\n  9    司马光\n  Name: 社会关系人姓名, dtype: object),\n ('贾昌朝',\n  185    吴鼎臣\n  Name: 社会关系人姓名, dtype: object),\n ('贾蕃',\n  280    黄好谦\n  Name: 社会关系人姓名, dtype: object),\n ('赵匡胤',\n  325    董宗本\n  Name: 社会关系人姓名, dtype: object),\n ('赵抃',\n  428    王安石\n  Name: 社会关系人姓名, dtype: object),\n ('赵普',\n  48    侯莫陈利用\n  Name: 社会关系人姓名, dtype: object),\n ('赵槩',\n  384    苏舜钦\n  Name: 社会关系人姓名, dtype: object),\n ('赵玭',\n  427    赵普\n  Name: 社会关系人姓名, dtype: object),\n ('赵祯',\n  326    曹修古\n  Name: 社会关系人姓名, dtype: object),\n ('赵顼',\n  394    王安石\n  Name: 社会关系人姓名, dtype: object),\n ('赵鼎',\n  49    章惇\n  Name: 社会关系人姓名, dtype: object),\n ('邓洵武',\n  389    蔡京\n  Name: 社会关系人姓名, dtype: object),\n ('邓肃',\n  412    李纲\n  Name: 社会关系人姓名, dtype: object),\n ('邢焕',\n  70    黄潜善\n  Name: 社会关系人姓名, dtype: object),\n ('邵伯温',\n  479    童贯\n  Name: 社会关系人姓名, dtype: object),\n ('邹浩',\n  32    刘定\n  Name: 社会关系人姓名, dtype: object),\n ('郑侠',\n  331    欧阳奕\n  Name: 社会关系人姓名, dtype: object),\n ('郑刚中',\n  400    胡铨\n  Name: 社会关系人姓名, dtype: object),\n ('郑居中',\n  297    刘嗣明\n  Name: 社会关系人姓名, dtype: object),\n ('郑獬',\n  399    祖无择\n  Name: 社会关系人姓名, dtype: object),\n ('郑雍',\n  184    章惇\n  Name: 社会关系人姓名, dtype: object),\n ('郭知章',\n  13    吕大防\n  Name: 社会关系人姓名, dtype: object),\n ('郭贽',\n  12    弭德超\n  Name: 社会关系人姓名, dtype: object),\n ('陈尧佐',\n  423    王随\n  Name: 社会关系人姓名, dtype: object),\n ('陈戬',\n  2    童贯\n  Name: 社会关系人姓名, dtype: object),\n ('陈执中',\n  79    吕溱\n  Name: 社会关系人姓名, dtype: object),\n ('陈次升',\n  64    曾布\n  Name: 社会关系人姓名, dtype: object),\n ('陈瓘',\n  37    蔡京\n  Name: 社会关系人姓名, dtype: object),\n ('陈若拙',\n  422    陈恕\n  Name: 社会关系人姓名, dtype: object),\n ('韩世忠',\n  387    岳飞\n  Name: 社会关系人姓名, dtype: object),\n ('韩忠彦',\n  102    陈祐\n  Name: 社会关系人姓名, dtype: object),\n ('韩熙载',\n  505    徐铉\n  Name: 社会关系人姓名, dtype: object),\n ('韩琦',\n  230    欧阳修\n  Name: 社会关系人姓名, dtype: object),\n ('韩缜',\n  8    章惇\n  Name: 社会关系人姓名, dtype: object),\n ('马伸',\n  337    邢焕\n  Name: 社会关系人姓名, dtype: object),\n ('马知节',\n  58    王钦若\n  Name: 社会关系人姓名, dtype: object),\n ('高氏(赵曙妻)',\n  65    王安石\n  Name: 社会关系人姓名, dtype: object),\n ('高琼',\n  375    寇准\n  Name: 社会关系人姓名, dtype: object),\n ('高登',\n  75    种师道\n  Name: 社会关系人姓名, dtype: object),\n ('高若讷',\n  11    余靖\n  Name: 社会关系人姓名, dtype: object),\n ('鲁宗道',\n  312    李渭\n  Name: 社会关系人姓名, dtype: object),\n ('黄庭坚',\n  151    刘拯\n  Name: 社会关系人姓名, dtype: object),\n ('黄策',\n  72    蔡京\n  Name: 社会关系人姓名, dtype: object)]"
     },
     "execution_count": 45,
     "metadata": {},
     "output_type": "execute_result"
    }
   ],
   "source": [
    "a=df2['社会关系人姓名'].groupby(df2['姓名'])\n",
    "list(a)"
   ],
   "metadata": {
    "collapsed": false,
    "ExecuteTime": {
     "start_time": "2023-04-12T10:01:18.966469Z",
     "end_time": "2023-04-12T10:01:19.292947Z"
    }
   }
  },
  {
   "cell_type": "code",
   "execution_count": 55,
   "outputs": [
    {
     "data": {
      "text/plain": "     社会关系人姓名\n姓名          \n丁谓         1\n万俟卨        1\n令狐挻        1\n何执中        1\n余靖         1\n..       ...\n高登         1\n高若讷        1\n鲁宗道        1\n黄庭坚        1\n黄策         1\n\n[188 rows x 1 columns]",
      "text/html": "<div>\n<style scoped>\n    .dataframe tbody tr th:only-of-type {\n        vertical-align: middle;\n    }\n\n    .dataframe tbody tr th {\n        vertical-align: top;\n    }\n\n    .dataframe thead th {\n        text-align: right;\n    }\n</style>\n<table border=\"1\" class=\"dataframe\">\n  <thead>\n    <tr style=\"text-align: right;\">\n      <th></th>\n      <th>社会关系人姓名</th>\n    </tr>\n    <tr>\n      <th>姓名</th>\n      <th></th>\n    </tr>\n  </thead>\n  <tbody>\n    <tr>\n      <th>丁谓</th>\n      <td>1</td>\n    </tr>\n    <tr>\n      <th>万俟卨</th>\n      <td>1</td>\n    </tr>\n    <tr>\n      <th>令狐挻</th>\n      <td>1</td>\n    </tr>\n    <tr>\n      <th>何执中</th>\n      <td>1</td>\n    </tr>\n    <tr>\n      <th>余靖</th>\n      <td>1</td>\n    </tr>\n    <tr>\n      <th>...</th>\n      <td>...</td>\n    </tr>\n    <tr>\n      <th>高登</th>\n      <td>1</td>\n    </tr>\n    <tr>\n      <th>高若讷</th>\n      <td>1</td>\n    </tr>\n    <tr>\n      <th>鲁宗道</th>\n      <td>1</td>\n    </tr>\n    <tr>\n      <th>黄庭坚</th>\n      <td>1</td>\n    </tr>\n    <tr>\n      <th>黄策</th>\n      <td>1</td>\n    </tr>\n  </tbody>\n</table>\n<p>188 rows × 1 columns</p>\n</div>"
     },
     "execution_count": 55,
     "metadata": {},
     "output_type": "execute_result"
    }
   ],
   "source": [
    "#查看每组中社会关系人数量\n",
    "df2.groupby('姓名').agg({'社会关系人姓名':'count'})"
   ],
   "metadata": {
    "collapsed": false,
    "ExecuteTime": {
     "start_time": "2023-04-12T10:04:23.427591Z",
     "end_time": "2023-04-12T10:04:23.487782Z"
    }
   }
  }
 ],
 "metadata": {
  "kernelspec": {
   "display_name": "Python 3",
   "language": "python",
   "name": "python3"
  },
  "language_info": {
   "codemirror_mode": {
    "name": "ipython",
    "version": 2
   },
   "file_extension": ".py",
   "mimetype": "text/x-python",
   "name": "python",
   "nbconvert_exporter": "python",
   "pygments_lexer": "ipython2",
   "version": "2.7.6"
  }
 },
 "nbformat": 4,
 "nbformat_minor": 0
}
