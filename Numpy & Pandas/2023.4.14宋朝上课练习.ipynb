{
 "cells": [
  {
   "cell_type": "code",
   "execution_count": 1,
   "metadata": {
    "ExecuteTime": {
     "start_time": "2023-04-16T09:30:07.403086Z",
     "end_time": "2023-04-16T09:30:09.857017Z"
    }
   },
   "outputs": [],
   "source": [
    "import pandas as pd\n",
    "import matplotlib.pyplot as plt\n",
    "import numpy as np\n",
    "\n",
    "df1 = pd.read_csv('Numpy & Pandas/officer_kinship_song.csv')\n",
    "df2 = pd.read_csv('Numpy & Pandas/officer_relationship_song.csv')"
   ]
  },
  {
   "cell_type": "code",
   "execution_count": 29,
   "outputs": [
    {
     "name": "stdout",
     "output_type": "stream",
     "text": [
      "[False False False False False]\n"
     ]
    }
   ],
   "source": [
    "df2.isna().any()"
   ],
   "metadata": {
    "collapsed": false,
    "ExecuteTime": {
     "start_time": "2023-04-16T09:40:43.381624Z",
     "end_time": "2023-04-16T09:40:43.412866Z"
    }
   }
  },
  {
   "cell_type": "code",
   "execution_count": 24,
   "metadata": {
    "ExecuteTime": {
     "start_time": "2023-04-16T09:38:43.957084Z",
     "end_time": "2023-04-16T09:38:44.003956Z"
    }
   },
   "outputs": [
    {
     "data": {
      "text/plain": "array([False, False, False, False, False, False, False, False, False,\n       False, False, False, False, False, False, False, False, False,\n       False, False, False, False, False, False, False, False, False,\n       False, False, False])"
     },
     "execution_count": 24,
     "metadata": {},
     "output_type": "execute_result"
    }
   ],
   "source": [
    "#df1亲戚表，df2政治关系表\n",
    "df2.columns.isna()"
   ]
  },
  {
   "cell_type": "code",
   "execution_count": 3,
   "metadata": {
    "ExecuteTime": {
     "start_time": "2023-04-16T09:30:09.871978Z",
     "end_time": "2023-04-16T09:30:10.027157Z"
    }
   },
   "outputs": [
    {
     "data": {
      "text/plain": "           姓名  社会关系人姓名\n联系                    \n不合         35       49\n反对/攻讦      58       56\n得到Y的支持     55       97\n支持         51       49\n政见趋同       21       23\n遭到Y的反对/攻讦  52      111",
      "text/html": "<div>\n<style scoped>\n    .dataframe tbody tr th:only-of-type {\n        vertical-align: middle;\n    }\n\n    .dataframe tbody tr th {\n        vertical-align: top;\n    }\n\n    .dataframe thead th {\n        text-align: right;\n    }\n</style>\n<table border=\"1\" class=\"dataframe\">\n  <thead>\n    <tr style=\"text-align: right;\">\n      <th></th>\n      <th>姓名</th>\n      <th>社会关系人姓名</th>\n    </tr>\n    <tr>\n      <th>联系</th>\n      <th></th>\n      <th></th>\n    </tr>\n  </thead>\n  <tbody>\n    <tr>\n      <th>不合</th>\n      <td>35</td>\n      <td>49</td>\n    </tr>\n    <tr>\n      <th>反对/攻讦</th>\n      <td>58</td>\n      <td>56</td>\n    </tr>\n    <tr>\n      <th>得到Y的支持</th>\n      <td>55</td>\n      <td>97</td>\n    </tr>\n    <tr>\n      <th>支持</th>\n      <td>51</td>\n      <td>49</td>\n    </tr>\n    <tr>\n      <th>政见趋同</th>\n      <td>21</td>\n      <td>23</td>\n    </tr>\n    <tr>\n      <th>遭到Y的反对/攻讦</th>\n      <td>52</td>\n      <td>111</td>\n    </tr>\n  </tbody>\n</table>\n</div>"
     },
     "execution_count": 3,
     "metadata": {},
     "output_type": "execute_result"
    }
   ],
   "source": [
    "#df2是政治关系表\n",
    "#从表中取出以下三列，以联系进行分组，分别统计官员和社会关系人的数量\n",
    "a1 = df2[['姓名', '社会关系人姓名', '联系']].groupby('联系').agg(\n",
    "    {'姓名': 'nunique', '社会关系人姓名': 'nunique'}).copy()\n",
    "a1"
   ]
  },
  {
   "cell_type": "code",
   "execution_count": 4,
   "metadata": {
    "ExecuteTime": {
     "start_time": "2023-04-16T09:30:09.926870Z",
     "end_time": "2023-04-16T09:30:10.086734Z"
    }
   },
   "outputs": [
    {
     "data": {
      "text/plain": "           姓名  社会关系人姓名  无去重计数\n联系                           \n不合         35       49     61\n反对/攻讦      58       56     78\n得到Y的支持     55       97    132\n支持         51       49     80\n政见趋同       21       23     25\n遭到Y的反对/攻讦  52      111    130",
      "text/html": "<div>\n<style scoped>\n    .dataframe tbody tr th:only-of-type {\n        vertical-align: middle;\n    }\n\n    .dataframe tbody tr th {\n        vertical-align: top;\n    }\n\n    .dataframe thead th {\n        text-align: right;\n    }\n</style>\n<table border=\"1\" class=\"dataframe\">\n  <thead>\n    <tr style=\"text-align: right;\">\n      <th></th>\n      <th>姓名</th>\n      <th>社会关系人姓名</th>\n      <th>无去重计数</th>\n    </tr>\n    <tr>\n      <th>联系</th>\n      <th></th>\n      <th></th>\n      <th></th>\n    </tr>\n  </thead>\n  <tbody>\n    <tr>\n      <th>不合</th>\n      <td>35</td>\n      <td>49</td>\n      <td>61</td>\n    </tr>\n    <tr>\n      <th>反对/攻讦</th>\n      <td>58</td>\n      <td>56</td>\n      <td>78</td>\n    </tr>\n    <tr>\n      <th>得到Y的支持</th>\n      <td>55</td>\n      <td>97</td>\n      <td>132</td>\n    </tr>\n    <tr>\n      <th>支持</th>\n      <td>51</td>\n      <td>49</td>\n      <td>80</td>\n    </tr>\n    <tr>\n      <th>政见趋同</th>\n      <td>21</td>\n      <td>23</td>\n      <td>25</td>\n    </tr>\n    <tr>\n      <th>遭到Y的反对/攻讦</th>\n      <td>52</td>\n      <td>111</td>\n      <td>130</td>\n    </tr>\n  </tbody>\n</table>\n</div>"
     },
     "execution_count": 4,
     "metadata": {},
     "output_type": "execute_result"
    }
   ],
   "source": [
    "a1['无去重计数'] = df2[['姓名', '联系']].groupby('联系').count()\n",
    "a1"
   ]
  },
  {
   "cell_type": "code",
   "execution_count": 5,
   "metadata": {
    "ExecuteTime": {
     "start_time": "2023-04-16T09:30:09.963278Z",
     "end_time": "2023-04-16T09:30:10.088786Z"
    }
   },
   "outputs": [
    {
     "data": {
      "text/plain": "联系\n政见趋同         553.851090\n不合           566.486530\n反对/攻讦        664.581145\n遭到Y的反对/攻讦    689.981035\n得到Y的支持       699.818200\n支持           703.809609\nName: Distance 距离, dtype: float64"
     },
     "execution_count": 5,
     "metadata": {},
     "output_type": "execute_result"
    }
   ],
   "source": [
    "#不同联系的平均距离\n",
    "a1 = df2[r'Distance 距离'].groupby(df2[r'联系']).mean().sort_values()\n",
    "a1"
   ]
  },
  {
   "cell_type": "code",
   "execution_count": 6,
   "metadata": {
    "ExecuteTime": {
     "start_time": "2023-04-16T09:30:09.981392Z",
     "end_time": "2023-04-16T09:30:10.737796Z"
    }
   },
   "outputs": [
    {
     "data": {
      "text/plain": "<Figure size 432x288 with 1 Axes>",
      "image/png": "[encoded data removed]"
     },
     "metadata": {
      "needs_background": "light"
     },
     "output_type": "display_data"
    }
   ],
   "source": [
    "#绘制联系-距离平均值关系图\n",
    "#方法1\n",
    "from pylab import mpl\n",
    "\n",
    "mpl.rcParams['font.sans-serif'] = ['SimHei']\n",
    "# a1.plot(kind='barh')\n",
    "a1.plot(kind='bar')\n",
    "plt.title('联系-距离平均值')\n",
    "plt.xlabel('联系')\n",
    "plt.ylabel('距离均值')\n",
    "plt.show()"
   ]
  },
  {
   "cell_type": "code",
   "execution_count": 7,
   "metadata": {
    "ExecuteTime": {
     "start_time": "2023-04-16T09:30:10.381510Z",
     "end_time": "2023-04-16T09:30:10.960664Z"
    }
   },
   "outputs": [
    {
     "data": {
      "text/plain": "<function matplotlib.pyplot.show(close=None, block=None)>"
     },
     "execution_count": 7,
     "metadata": {},
     "output_type": "execute_result"
    },
    {
     "data": {
      "text/plain": "<Figure size 432x288 with 1 Axes>",
      "image/png": "[encoded data removed]"
     },
     "metadata": {
      "needs_background": "light"
     },
     "output_type": "display_data"
    }
   ],
   "source": [
    "#方法2\n",
    "plt.barh(a1.index, a1.values)\n",
    "plt.title('联系和距离关系', size=20, color='pink')\n",
    "plt.xlabel('平均距离')\n",
    "plt.ylabel('联系')\n",
    "plt.show"
   ]
  },
  {
   "cell_type": "markdown",
   "metadata": {},
   "source": [
    "支持和对抗的关系筛选"
   ]
  },
  {
   "cell_type": "code",
   "execution_count": 8,
   "metadata": {
    "ExecuteTime": {
     "start_time": "2023-04-16T09:30:10.561592Z",
     "end_time": "2023-04-16T09:30:11.001025Z"
    }
   },
   "outputs": [
    {
     "data": {
      "text/plain": "685.6485615160855"
     },
     "execution_count": 8,
     "metadata": {},
     "output_type": "execute_result"
    }
   ],
   "source": [
    "#支持型关系\n",
    "df2.query('联系==\"支持\"or 联系==\"政见趋同\" or 联系==\"得到Y的支持\" ')['Distance 距离'].mean()"
   ]
  },
  {
   "cell_type": "code",
   "execution_count": 9,
   "metadata": {
    "ExecuteTime": {
     "start_time": "2023-04-16T09:30:10.588788Z",
     "end_time": "2023-04-16T09:30:11.003023Z"
    }
   },
   "outputs": [
    {
     "data": {
      "text/plain": "654.5744813763426"
     },
     "execution_count": 9,
     "metadata": {},
     "output_type": "execute_result"
    }
   ],
   "source": [
    "#对抗型关系筛选\n",
    "df2.query('联系==\"不合\"or 联系==\"遭到Y的反对/攻讦\" or 联系==\"反对/攻讦\"')['Distance 距离'].mean()"
   ]
  },
  {
   "cell_type": "markdown",
   "metadata": {},
   "source": [
    "## 指数年之差"
   ]
  },
  {
   "cell_type": "code",
   "execution_count": 10,
   "metadata": {
    "ExecuteTime": {
     "start_time": "2023-04-16T09:30:10.616476Z",
     "end_time": "2023-04-16T09:30:11.004018Z"
    }
   },
   "outputs": [
    {
     "data": {
      "text/plain": "                Name   姓名  Index year Sex       Associate 社会关系人姓名  \\\n0             An Dun   安惇        1042   M         Zou Hao      邹浩   \n1             An Dun   安惇        1042   M  Zhang Shiliang     张士良   \n2       Chen Jian(2)   陈戬        1081   M       Tong Guan      童贯   \n3           Cheng Yu   程瑀        1087   M          Wu Min      吴敏   \n4    Zhang Shangying  张商英        1043   M      Sima Guang     司马光   \n..               ...  ...         ...  ..             ...     ...   \n501          Yu Jing   余靖        1000   M      Ouyang Xiu     欧阳修   \n502          Yu Jing   余靖        1000   M         Yin Zhu      尹洙   \n503       Kong Daofu  孔道辅         986   M        Yang Xie      杨偕   \n504      Liu Anshang  刘安上        1069   M      Shi Gongbi     石公弼   \n505        Han Xizai  韩熙载         902   M         Xu Xuan      徐铉   \n\n     Assoc. Index Year Assoc. Sex           Association     联系  ...  \\\n0               1060.0          M   Opposed or attacked  反对/攻讦  ...   \n1                  NaN          M   Opposed or attacked  反对/攻讦  ...   \n2               1054.0          M   Opposed or attacked  反对/攻讦  ...   \n3               1087.0          M   Opposed or attacked  反对/攻讦  ...   \n4               1019.0          M   Opposed or attacked  反对/攻讦  ...   \n..                 ...        ...                   ...    ...  ...   \n501             1007.0          M  Agreed with views of   政见趋同  ...   \n502             1001.0          M  Agreed with views of   政见趋同  ...   \n503              980.0          M  Agreed with views of   政见趋同  ...   \n504             1061.0          M  Agreed with views of   政见趋同  ...   \n505              920.0          M  Agreed with views of   政见趋同  ...   \n\n      Kin Name 亲戚姓名  Assoc. Kinship Rel.  关系人的亲属关系 Assoc. Kin Name 关系人的亲戚姓名  \\\n0    Wei Xiang   未详                    U        未详       Wei Xiang       未详   \n1    Wei Xiang   未详                    U        未详       Wei Xiang       未详   \n2    Wei Xiang   未详                    U        未详       Wei Xiang       未详   \n3    Wei Xiang   未详                    U        未详       Wei Xiang       未详   \n4    Wei Xiang   未详                    U        未详       Wei Xiang       未详   \n..         ...  ...                  ...       ...             ...      ...   \n501  Wei Xiang   未详                    U        未详       Wei Xiang       未详   \n502  Wei Xiang   未详                    U        未详       Wei Xiang       未详   \n503  Wei Xiang   未详                    U        未详       Wei Xiang       未详   \n504  Wei Xiang   未详                    U        未详       Wei Xiang       未详   \n505  Wei Xiang   未详                    U        未详       Wei Xiang       未详   \n\n     Distance 距离  Person ID Assoc ID 指数年之差  \n0    1275.341259          1     3888  18.0  \n1            NaN          1    25065   NaN  \n2     910.189663         31     8124  27.0  \n3     370.461638        128     8163   0.0  \n4     868.170971        272     1488  24.0  \n..           ...        ...      ...   ...  \n501  1066.098438      12319     1384   7.0  \n502  1102.124909      12319     7104   1.0  \n503   431.228735      15939     2003   6.0  \n504   165.947261      17479    13417   8.0  \n505   941.629297      94724    12236  18.0  \n\n[506 rows x 30 columns]",
      "text/html": "<div>\n<style scoped>\n    .dataframe tbody tr th:only-of-type {\n        vertical-align: middle;\n    }\n\n    .dataframe tbody tr th {\n        vertical-align: top;\n    }\n\n    .dataframe thead th {\n        text-align: right;\n    }\n</style>\n<table border=\"1\" class=\"dataframe\">\n  <thead>\n    <tr style=\"text-align: right;\">\n      <th></th>\n      <th>Name</th>\n      <th>姓名</th>\n      <th>Index year</th>\n      <th>Sex</th>\n      <th>Associate</th>\n      <th>社会关系人姓名</th>\n      <th>Assoc. Index Year</th>\n      <th>Assoc. Sex</th>\n      <th>Association</th>\n      <th>联系</th>\n      <th>...</th>\n      <th>Kin Name</th>\n      <th>亲戚姓名</th>\n      <th>Assoc. Kinship Rel.</th>\n      <th>关系人的亲属关系</th>\n      <th>Assoc. Kin Name</th>\n      <th>关系人的亲戚姓名</th>\n      <th>Distance 距离</th>\n      <th>Person ID</th>\n      <th>Assoc ID</th>\n      <th>指数年之差</th>\n    </tr>\n  </thead>\n  <tbody>\n    <tr>\n      <th>0</th>\n      <td>An Dun</td>\n      <td>安惇</td>\n      <td>1042</td>\n      <td>M</td>\n      <td>Zou Hao</td>\n      <td>邹浩</td>\n      <td>1060.0</td>\n      <td>M</td>\n      <td>Opposed or attacked</td>\n      <td>反对/攻讦</td>\n      <td>...</td>\n      <td>Wei Xiang</td>\n      <td>未详</td>\n      <td>U</td>\n      <td>未详</td>\n      <td>Wei Xiang</td>\n      <td>未详</td>\n      <td>1275.341259</td>\n      <td>1</td>\n      <td>3888</td>\n      <td>18.0</td>\n    </tr>\n    <tr>\n      <th>1</th>\n      <td>An Dun</td>\n      <td>安惇</td>\n      <td>1042</td>\n      <td>M</td>\n      <td>Zhang Shiliang</td>\n      <td>张士良</td>\n      <td>NaN</td>\n      <td>M</td>\n      <td>Opposed or attacked</td>\n      <td>反对/攻讦</td>\n      <td>...</td>\n      <td>Wei Xiang</td>\n      <td>未详</td>\n      <td>U</td>\n      <td>未详</td>\n      <td>Wei Xiang</td>\n      <td>未详</td>\n      <td>NaN</td>\n      <td>1</td>\n      <td>25065</td>\n      <td>NaN</td>\n    </tr>\n    <tr>\n      <th>2</th>\n      <td>Chen Jian(2)</td>\n      <td>陈戬</td>\n      <td>1081</td>\n      <td>M</td>\n      <td>Tong Guan</td>\n      <td>童贯</td>\n      <td>1054.0</td>\n      <td>M</td>\n      <td>Opposed or attacked</td>\n      <td>反对/攻讦</td>\n      <td>...</td>\n      <td>Wei Xiang</td>\n      <td>未详</td>\n      <td>U</td>\n      <td>未详</td>\n      <td>Wei Xiang</td>\n      <td>未详</td>\n      <td>910.189663</td>\n      <td>31</td>\n      <td>8124</td>\n      <td>27.0</td>\n    </tr>\n    <tr>\n      <th>3</th>\n      <td>Cheng Yu</td>\n      <td>程瑀</td>\n      <td>1087</td>\n      <td>M</td>\n      <td>Wu Min</td>\n      <td>吴敏</td>\n      <td>1087.0</td>\n      <td>M</td>\n      <td>Opposed or attacked</td>\n      <td>反对/攻讦</td>\n      <td>...</td>\n      <td>Wei Xiang</td>\n      <td>未详</td>\n      <td>U</td>\n      <td>未详</td>\n      <td>Wei Xiang</td>\n      <td>未详</td>\n      <td>370.461638</td>\n      <td>128</td>\n      <td>8163</td>\n      <td>0.0</td>\n    </tr>\n    <tr>\n      <th>4</th>\n      <td>Zhang Shangying</td>\n      <td>张商英</td>\n      <td>1043</td>\n      <td>M</td>\n      <td>Sima Guang</td>\n      <td>司马光</td>\n      <td>1019.0</td>\n      <td>M</td>\n      <td>Opposed or attacked</td>\n      <td>反对/攻讦</td>\n      <td>...</td>\n      <td>Wei Xiang</td>\n      <td>未详</td>\n      <td>U</td>\n      <td>未详</td>\n      <td>Wei Xiang</td>\n      <td>未详</td>\n      <td>868.170971</td>\n      <td>272</td>\n      <td>1488</td>\n      <td>24.0</td>\n    </tr>\n    <tr>\n      <th>...</th>\n      <td>...</td>\n      <td>...</td>\n      <td>...</td>\n      <td>...</td>\n      <td>...</td>\n      <td>...</td>\n      <td>...</td>\n      <td>...</td>\n      <td>...</td>\n      <td>...</td>\n      <td>...</td>\n      <td>...</td>\n      <td>...</td>\n      <td>...</td>\n      <td>...</td>\n      <td>...</td>\n      <td>...</td>\n      <td>...</td>\n      <td>...</td>\n      <td>...</td>\n      <td>...</td>\n    </tr>\n    <tr>\n      <th>501</th>\n      <td>Yu Jing</td>\n      <td>余靖</td>\n      <td>1000</td>\n      <td>M</td>\n      <td>Ouyang Xiu</td>\n      <td>欧阳修</td>\n      <td>1007.0</td>\n      <td>M</td>\n      <td>Agreed with views of</td>\n      <td>政见趋同</td>\n      <td>...</td>\n      <td>Wei Xiang</td>\n      <td>未详</td>\n      <td>U</td>\n      <td>未详</td>\n      <td>Wei Xiang</td>\n      <td>未详</td>\n      <td>1066.098438</td>\n      <td>12319</td>\n      <td>1384</td>\n      <td>7.0</td>\n    </tr>\n    <tr>\n      <th>502</th>\n      <td>Yu Jing</td>\n      <td>余靖</td>\n      <td>1000</td>\n      <td>M</td>\n      <td>Yin Zhu</td>\n      <td>尹洙</td>\n      <td>1001.0</td>\n      <td>M</td>\n      <td>Agreed with views of</td>\n      <td>政见趋同</td>\n      <td>...</td>\n      <td>Wei Xiang</td>\n      <td>未详</td>\n      <td>U</td>\n      <td>未详</td>\n      <td>Wei Xiang</td>\n      <td>未详</td>\n      <td>1102.124909</td>\n      <td>12319</td>\n      <td>7104</td>\n      <td>1.0</td>\n    </tr>\n    <tr>\n      <th>503</th>\n      <td>Kong Daofu</td>\n      <td>孔道辅</td>\n      <td>986</td>\n      <td>M</td>\n      <td>Yang Xie</td>\n      <td>杨偕</td>\n      <td>980.0</td>\n      <td>M</td>\n      <td>Agreed with views of</td>\n      <td>政见趋同</td>\n      <td>...</td>\n      <td>Wei Xiang</td>\n      <td>未详</td>\n      <td>U</td>\n      <td>未详</td>\n      <td>Wei Xiang</td>\n      <td>未详</td>\n      <td>431.228735</td>\n      <td>15939</td>\n      <td>2003</td>\n      <td>6.0</td>\n    </tr>\n    <tr>\n      <th>504</th>\n      <td>Liu Anshang</td>\n      <td>刘安上</td>\n      <td>1069</td>\n      <td>M</td>\n      <td>Shi Gongbi</td>\n      <td>石公弼</td>\n      <td>1061.0</td>\n      <td>M</td>\n      <td>Agreed with views of</td>\n      <td>政见趋同</td>\n      <td>...</td>\n      <td>Wei Xiang</td>\n      <td>未详</td>\n      <td>U</td>\n      <td>未详</td>\n      <td>Wei Xiang</td>\n      <td>未详</td>\n      <td>165.947261</td>\n      <td>17479</td>\n      <td>13417</td>\n      <td>8.0</td>\n    </tr>\n    <tr>\n      <th>505</th>\n      <td>Han Xizai</td>\n      <td>韩熙载</td>\n      <td>902</td>\n      <td>M</td>\n      <td>Xu Xuan</td>\n      <td>徐铉</td>\n      <td>920.0</td>\n      <td>M</td>\n      <td>Agreed with views of</td>\n      <td>政见趋同</td>\n      <td>...</td>\n      <td>Wei Xiang</td>\n      <td>未详</td>\n      <td>U</td>\n      <td>未详</td>\n      <td>Wei Xiang</td>\n      <td>未详</td>\n      <td>941.629297</td>\n      <td>94724</td>\n      <td>12236</td>\n      <td>18.0</td>\n    </tr>\n  </tbody>\n</table>\n<p>506 rows × 30 columns</p>\n</div>"
     },
     "execution_count": 10,
     "metadata": {},
     "output_type": "execute_result"
    }
   ],
   "source": [
    "df2['指数年之差'] = abs(df2['Index year'] - df2['Assoc. Index Year'])\n",
    "df2\n"
   ]
  },
  {
   "cell_type": "code",
   "execution_count": 11,
   "metadata": {
    "ExecuteTime": {
     "end_time": "2023-04-14T11:00:54.701294Z",
     "start_time": "2023-04-14T11:00:54.391359Z"
    }
   },
   "outputs": [
    {
     "ename": "AttributeError",
     "evalue": "'DataFrame' object has no attribute 'gropby'",
     "output_type": "error",
     "traceback": [
      "\u001B[1;31m---------------------------------------------------------------------------\u001B[0m",
      "\u001B[1;31mAttributeError\u001B[0m                            Traceback (most recent call last)",
      "\u001B[1;32m~\\AppData\\Local\\Temp/ipykernel_9352/3165369332.py\u001B[0m in \u001B[0;36m<module>\u001B[1;34m\u001B[0m\n\u001B[0;32m      1\u001B[0m \u001B[0mdata3\u001B[0m \u001B[1;33m=\u001B[0m \u001B[0mdf2\u001B[0m\u001B[1;33m[\u001B[0m\u001B[1;33m[\u001B[0m\u001B[1;34m'联系'\u001B[0m\u001B[1;33m,\u001B[0m \u001B[1;34m'指数年之差'\u001B[0m\u001B[1;33m]\u001B[0m\u001B[1;33m]\u001B[0m\u001B[1;33m\u001B[0m\u001B[1;33m\u001B[0m\u001B[0m\n\u001B[1;32m----> 2\u001B[1;33m \u001B[0mdata3\u001B[0m\u001B[1;33m.\u001B[0m\u001B[0mgropby\u001B[0m\u001B[1;33m(\u001B[0m\u001B[1;33m)\u001B[0m\u001B[1;33m\u001B[0m\u001B[1;33m\u001B[0m\u001B[0m\n\u001B[0m",
      "\u001B[1;32mC:\\ProgramData\\Anaconda3\\lib\\site-packages\\pandas\\core\\generic.py\u001B[0m in \u001B[0;36m__getattr__\u001B[1;34m(self, name)\u001B[0m\n\u001B[0;32m   5485\u001B[0m         ):\n\u001B[0;32m   5486\u001B[0m             \u001B[1;32mreturn\u001B[0m \u001B[0mself\u001B[0m\u001B[1;33m[\u001B[0m\u001B[0mname\u001B[0m\u001B[1;33m]\u001B[0m\u001B[1;33m\u001B[0m\u001B[1;33m\u001B[0m\u001B[0m\n\u001B[1;32m-> 5487\u001B[1;33m         \u001B[1;32mreturn\u001B[0m \u001B[0mobject\u001B[0m\u001B[1;33m.\u001B[0m\u001B[0m__getattribute__\u001B[0m\u001B[1;33m(\u001B[0m\u001B[0mself\u001B[0m\u001B[1;33m,\u001B[0m \u001B[0mname\u001B[0m\u001B[1;33m)\u001B[0m\u001B[1;33m\u001B[0m\u001B[1;33m\u001B[0m\u001B[0m\n\u001B[0m\u001B[0;32m   5488\u001B[0m \u001B[1;33m\u001B[0m\u001B[0m\n\u001B[0;32m   5489\u001B[0m     \u001B[1;32mdef\u001B[0m \u001B[0m__setattr__\u001B[0m\u001B[1;33m(\u001B[0m\u001B[0mself\u001B[0m\u001B[1;33m,\u001B[0m \u001B[0mname\u001B[0m\u001B[1;33m:\u001B[0m \u001B[0mstr\u001B[0m\u001B[1;33m,\u001B[0m \u001B[0mvalue\u001B[0m\u001B[1;33m)\u001B[0m \u001B[1;33m->\u001B[0m \u001B[1;32mNone\u001B[0m\u001B[1;33m:\u001B[0m\u001B[1;33m\u001B[0m\u001B[1;33m\u001B[0m\u001B[0m\n",
      "\u001B[1;31mAttributeError\u001B[0m: 'DataFrame' object has no attribute 'gropby'"
     ]
    }
   ],
   "source": [
    "data3 = df2[['联系', '指数年之差']]\n",
    "data3.gropby()"
   ]
  },
  {
   "cell_type": "code",
   "execution_count": null,
   "metadata": {
    "ExecuteTime": {
     "end_time": "2023-04-14T11:26:34.624872Z",
     "start_time": "2023-04-14T11:26:34.572035Z"
    }
   },
   "outputs": [],
   "source": [
    "df2.columns"
   ]
  },
  {
   "cell_type": "code",
   "execution_count": null,
   "metadata": {
    "ExecuteTime": {
     "end_time": "2023-04-14T11:31:05.265737Z",
     "start_time": "2023-04-14T11:31:05.200625Z"
    }
   },
   "outputs": [],
   "source": [
    "df_2 = df2.copy()\n",
    "df_2.drop(['Sex','Assoc. Sex','Kinship Relation','亲属关系','Kin Name','亲戚姓名','Assoc. Kinship Rel.','关系人的亲属关系','Assoc. Kin Name','关系人的亲戚姓名'],axis = 1,inplace = False)"
   ]
  },
  {
   "cell_type": "code",
   "execution_count": null,
   "metadata": {
    "ExecuteTime": {
     "end_time": "2023-04-14T11:47:57.210953Z",
     "start_time": "2023-04-14T11:47:57.135854Z"
    }
   },
   "outputs": [],
   "source": [
    "df_2.dropna(axis='index',how='all',inplace = True)\n",
    "df_2"
   ]
  },
  {
   "cell_type": "code",
   "execution_count": null,
   "metadata": {
    "ExecuteTime": {
     "end_time": "2023-04-14T11:52:33.580069Z",
     "start_time": "2023-04-14T11:52:33.500072Z"
    }
   },
   "outputs": [],
   "source": [
    "#检查整行重复\n",
    "df_2.duplicated().sum()"
   ]
  },
  {
   "cell_type": "code",
   "execution_count": null,
   "metadata": {
    "ExecuteTime": {
     "end_time": "2023-04-14T11:54:15.909992Z",
     "start_time": "2023-04-14T11:54:15.789936Z"
    }
   },
   "outputs": [],
   "source": [
    "#检查部分字段的重复情况\n",
    "#亲戚表\n",
    "df1.duplicated(['姓名','亲戚姓名']).sum()"
   ]
  },
  {
   "cell_type": "markdown",
   "metadata": {},
   "source": [
    "对政治表去重"
   ]
  },
  {
   "cell_type": "code",
   "execution_count": null,
   "metadata": {
    "ExecuteTime": {
     "end_time": "2023-04-14T11:56:26.975151Z",
     "start_time": "2023-04-14T11:56:26.899854Z"
    }
   },
   "outputs": [],
   "source": [
    "df_2.drop_duplicates(inplace=True)\n",
    "df_2.duplicated().sum()"
   ]
  },
  {
   "cell_type": "code",
   "execution_count": null,
   "metadata": {
    "ExecuteTime": {
     "end_time": "2023-04-14T11:56:51.020176Z",
     "start_time": "2023-04-14T11:56:50.979881Z"
    }
   },
   "outputs": [],
   "source": [
    "#对亲戚表进行去重\n",
    "df_1 = df1.copy()"
   ]
  },
  {
   "cell_type": "code",
   "execution_count": null,
   "metadata": {
    "ExecuteTime": {
     "end_time": "2023-04-14T13:36:05.920093Z",
     "start_time": "2023-04-14T13:36:05.875117Z"
    }
   },
   "outputs": [],
   "source": [
    "df_1.drop_duplicates()"
   ]
  },
  {
   "cell_type": "code",
   "execution_count": null,
   "metadata": {
    "ExecuteTime": {
     "end_time": "2023-04-14T13:38:55.965397Z",
     "start_time": "2023-04-14T13:38:55.925208Z"
    }
   },
   "outputs": [],
   "source": [
    "#统计出每个官员的联系\n",
    "df_2[['姓名','联系']].groupby(['姓名','联系']).agg({'联系':'count'})"
   ]
  },
  {
   "cell_type": "markdown",
   "metadata": {},
   "source": [
    "行转列"
   ]
  },
  {
   "cell_type": "code",
   "execution_count": null,
   "metadata": {
    "ExecuteTime": {
     "end_time": "2023-04-14T14:30:40.454084Z",
     "start_time": "2023-04-14T14:30:40.418820Z"
    }
   },
   "outputs": [],
   "source": [
    "#行转列\n",
    "a = df_2[['姓名','联系']].groupby(['姓名','联系']).agg({'联系':'count'}).unstack()\n",
    "a"
   ]
  },
  {
   "cell_type": "code",
   "execution_count": null,
   "metadata": {
    "ExecuteTime": {
     "end_time": "2023-04-14T13:45:35.075448Z",
     "start_time": "2023-04-14T13:45:34.975013Z"
    }
   },
   "outputs": [],
   "source": [
    "#level参数修改，列名转换\n",
    "df_2[['姓名','联系']].groupby(['姓名','联系']).agg({'联系':'count'}).unstack(level= 0)\n"
   ]
  },
  {
   "cell_type": "markdown",
   "metadata": {},
   "source": [
    "## 取同时是官员的亲戚"
   ]
  },
  {
   "cell_type": "code",
   "execution_count": null,
   "metadata": {
    "ExecuteTime": {
     "end_time": "2023-04-14T13:56:08.614996Z",
     "start_time": "2023-04-14T13:56:08.554588Z"
    }
   },
   "outputs": [],
   "source": [
    "#取所有官员的集合\n",
    "offier= set(df2['姓名'])\n",
    "offier"
   ]
  },
  {
   "cell_type": "code",
   "execution_count": null,
   "metadata": {
    "ExecuteTime": {
     "end_time": "2023-04-14T13:56:12.115054Z",
     "start_time": "2023-04-14T13:56:12.089797Z"
    }
   },
   "outputs": [],
   "source": [
    "#取所有亲戚的集合\n",
    "kin =set(df1['亲戚姓名'])\n",
    "kin"
   ]
  },
  {
   "cell_type": "code",
   "execution_count": null,
   "metadata": {
    "ExecuteTime": {
     "end_time": "2023-04-14T14:09:15.034823Z",
     "start_time": "2023-04-14T14:09:14.984366Z"
    }
   },
   "outputs": [],
   "source": [
    "kin_offier=offier&kin\n",
    "list1 = list(kin_offier)\n",
    "list1"
   ]
  },
  {
   "cell_type": "code",
   "execution_count": null,
   "metadata": {
    "ExecuteTime": {
     "end_time": "2023-04-14T14:03:47.344231Z",
     "start_time": "2023-04-14T14:03:47.299502Z"
    }
   },
   "outputs": [],
   "source": [
    "df_1.drop_duplicates(inplace=True)\n"
   ]
  },
  {
   "cell_type": "code",
   "execution_count": null,
   "metadata": {
    "ExecuteTime": {
     "end_time": "2023-04-14T14:03:49.764719Z",
     "start_time": "2023-04-14T14:03:49.724705Z"
    }
   },
   "outputs": [],
   "source": [
    "#统计亲戚中官员数量\n",
    "df_1.query('亲戚姓名==\"曾布\" or 亲戚姓名==\"曾肇\" or  亲戚姓名==\"王安石\" or 亲戚姓名==\"王安礼\" or 亲戚姓名==\"章綡\" or 亲戚姓名==\"章縡\" or 亲戚姓名==\"苏轼\" or 亲戚姓名==\"苏辙\" or 亲戚姓名==\"范仲淹\" or 亲戚姓名==\"范纯仁\" or 亲戚姓名==\"范纯礼\" or 亲戚姓名==\"赵祯\" or 亲戚姓名==\"赵顼\" or 亲戚姓名==\"韩忠彦\" or 亲戚姓名==\"韩琦\"')"
   ]
  },
  {
   "cell_type": "code",
   "execution_count": null,
   "metadata": {
    "ExecuteTime": {
     "end_time": "2023-04-14T14:12:46.574553Z",
     "start_time": "2023-04-14T14:12:46.497444Z"
    }
   },
   "outputs": [],
   "source": [
    "#另一种方法\n",
    "df_1[df_1['亲戚姓名'].isin(list1)]"
   ]
  },
  {
   "cell_type": "code",
   "execution_count": null,
   "metadata": {
    "ExecuteTime": {
     "end_time": "2023-04-14T14:35:45.503510Z",
     "start_time": "2023-04-14T14:35:45.443650Z"
    }
   },
   "outputs": [],
   "source": [
    "#另一种方法\n",
    "abc = df_1.query('亲戚姓名 in @kin_offier')\n",
    "abc"
   ]
  },
  {
   "cell_type": "code",
   "execution_count": null,
   "metadata": {
    "ExecuteTime": {
     "end_time": "2023-04-14T14:41:37.408794Z",
     "start_time": "2023-04-14T14:41:37.353332Z"
    }
   },
   "outputs": [],
   "source": [
    "#修改表格并保存\n",
    "a['亲戚为官数'] =abc[['亲戚姓名','姓名']].groupby('姓名').count()\n",
    "a.fillna(0,inplace = True)\n",
    "a.to_csv('./修改后的csv文件.csv',encoding='utf_8_sig')\n",
    "a"
   ]
  },
  {
   "cell_type": "code",
   "execution_count": null,
   "metadata": {
    "ExecuteTime": {
     "end_time": "2023-04-14T15:37:17.164046Z",
     "start_time": "2023-04-14T15:37:17.129226Z"
    }
   },
   "outputs": [],
   "source": [
    "#读取刚刚保存的表格\n",
    "dfdf = pd.read_csv(r'./修改后的csv文件.csv',index_col='姓名')\n",
    "dfdf"
   ]
  },
  {
   "cell_type": "code",
   "execution_count": null,
   "metadata": {
    "ExecuteTime": {
     "end_time": "2023-04-14T15:41:40.775926Z",
     "start_time": "2023-04-14T15:41:40.753046Z"
    }
   },
   "outputs": [],
   "source": [
    "from  sklearn.cluster import KMeans"
   ]
  },
  {
   "cell_type": "code",
   "execution_count": null,
   "metadata": {
    "ExecuteTime": {
     "end_time": "2023-04-14T15:43:17.081858Z",
     "start_time": "2023-04-14T15:43:17.021421Z"
    }
   },
   "outputs": [],
   "source": [
    "print(KMeans(n_clusters=2,random_state=0).fit(dfdf).labels_)"
   ]
  },
  {
   "cell_type": "code",
   "execution_count": null,
   "metadata": {
    "ExecuteTime": {
     "end_time": "2023-04-14T16:10:15.175525Z",
     "start_time": "2023-04-14T16:10:15.118680Z"
    }
   },
   "outputs": [],
   "source": [
    "#给聚类定义标签\n",
    "dfdf['聚类标签'] = KMeans(n_clusters=2,random_state=0).fit(dfdf).labels_\n",
    "dfdf"
   ]
  },
  {
   "cell_type": "code",
   "execution_count": null,
   "metadata": {
    "ExecuteTime": {
     "end_time": "2023-04-14T16:14:38.926834Z",
     "start_time": "2023-04-14T16:14:38.866937Z"
    }
   },
   "outputs": [],
   "source": [
    "#尝试分成多组\n",
    "dfdf['聚类标签'] = KMeans(n_clusters=4,random_state=0).fit(dfdf).labels_\n",
    "dfdf.query(\"聚类标签 == 2\")"
   ]
  },
  {
   "cell_type": "code",
   "execution_count": null,
   "metadata": {
    "ExecuteTime": {
     "end_time": "2023-04-14T16:23:45.191748Z",
     "start_time": "2023-04-14T16:23:45.152762Z"
    }
   },
   "outputs": [],
   "source": [
    "data1 =dfdf[['得到Y的支持','支持','政见趋同','反对/攻讦','遭到Y的反对/攻讦','不合','Unnamed: 7','聚类标签']]\n",
    "data1"
   ]
  },
  {
   "cell_type": "code",
   "execution_count": null,
   "metadata": {
    "ExecuteTime": {
     "end_time": "2023-04-14T17:10:43.169163Z",
     "start_time": "2023-04-14T17:10:43.151407Z"
    }
   },
   "outputs": [],
   "source": []
  }
 ],
 "metadata": {
  "kernelspec": {
   "display_name": "Python 3 (ipykernel)",
   "language": "python",
   "name": "python3"
  },
  "language_info": {
   "codemirror_mode": {
    "name": "ipython",
    "version": 3
   },
   "file_extension": ".py",
   "mimetype": "text/x-python",
   "name": "python",
   "nbconvert_exporter": "python",
   "pygments_lexer": "ipython3",
   "version": "3.9.7"
  }
 },
 "nbformat": 4,
 "nbformat_minor": 1
}
