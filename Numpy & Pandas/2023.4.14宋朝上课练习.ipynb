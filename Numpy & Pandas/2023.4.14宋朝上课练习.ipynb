{
 "cells": [
  {
   "cell_type": "code",
   "execution_count": 28,
   "metadata": {
    "ExecuteTime": {
     "start_time": "2023-04-16T10:07:15.552306Z",
     "end_time": "2023-04-16T10:07:16.083431Z"
    }
   },
   "outputs": [],
   "source": [
    "import pandas as pd\n",
    "import matplotlib.pyplot as plt\n",
    "import numpy as np\n",
    "\n",
    "df1 = pd.read_csv('./data/officer_kinship_song.csv')\n",
    "df2 = pd.read_csv('./data/officer_relationship_song.csv')"
   ]
  },
  {
   "cell_type": "code",
   "execution_count": 29,
   "outputs": [
    {
     "data": {
      "text/plain": "Name                   False\n姓名                     False\nIndex year             False\nSex                    False\nAssociate              False\n社会关系人姓名                False\nAssoc. Index Year       True\nAssoc. Sex             False\nAssociation            False\n联系                     False\nAddress                False\n籍贯                     False\nX                      False\nY                      False\nAssoc. Address         False\n联系人籍贯                  False\nAssoc. X                True\nAssoc. Y                True\nKinship Relation       False\n亲属关系                   False\nKin Name               False\n亲戚姓名                   False\nAssoc. Kinship Rel.    False\n关系人的亲属关系               False\nAssoc. Kin Name        False\n关系人的亲戚姓名               False\nDistance 距离             True\nPerson ID              False\nAssoc ID               False\ndtype: bool"
     },
     "execution_count": 29,
     "metadata": {},
     "output_type": "execute_result"
    }
   ],
   "source": [
    "df2.isna().any(axis = 0)"
   ],
   "metadata": {
    "collapsed": false,
    "ExecuteTime": {
     "start_time": "2023-04-16T10:07:15.583549Z",
     "end_time": "2023-04-16T10:07:16.161508Z"
    }
   }
  },
  {
   "cell_type": "code",
   "execution_count": 30,
   "metadata": {
    "ExecuteTime": {
     "start_time": "2023-04-16T10:07:15.599137Z",
     "end_time": "2023-04-16T10:07:16.177134Z"
    }
   },
   "outputs": [
    {
     "data": {
      "text/plain": "array([False, False, False, False, False, False, False, False, False,\n       False, False, False, False, False, False, False, False, False,\n       False, False, False, False, False, False, False, False, False,\n       False, False])"
     },
     "execution_count": 30,
     "metadata": {},
     "output_type": "execute_result"
    }
   ],
   "source": [
    "#df1亲戚表，df2政治关系表\n",
    "df2.columns.isna()"
   ]
  },
  {
   "cell_type": "code",
   "execution_count": 31,
   "metadata": {
    "ExecuteTime": {
     "start_time": "2023-04-16T10:07:15.614791Z",
     "end_time": "2023-04-16T10:07:16.380210Z"
    }
   },
   "outputs": [
    {
     "data": {
      "text/plain": "           姓名  社会关系人姓名\n联系                    \n不合         35       49\n反对/攻讦      58       56\n得到Y的支持     55       97\n支持         51       49\n政见趋同       21       23\n遭到Y的反对/攻讦  52      111",
      "text/html": "<div>\n<style scoped>\n    .dataframe tbody tr th:only-of-type {\n        vertical-align: middle;\n    }\n\n    .dataframe tbody tr th {\n        vertical-align: top;\n    }\n\n    .dataframe thead th {\n        text-align: right;\n    }\n</style>\n<table border=\"1\" class=\"dataframe\">\n  <thead>\n    <tr style=\"text-align: right;\">\n      <th></th>\n      <th>姓名</th>\n      <th>社会关系人姓名</th>\n    </tr>\n    <tr>\n      <th>联系</th>\n      <th></th>\n      <th></th>\n    </tr>\n  </thead>\n  <tbody>\n    <tr>\n      <th>不合</th>\n      <td>35</td>\n      <td>49</td>\n    </tr>\n    <tr>\n      <th>反对/攻讦</th>\n      <td>58</td>\n      <td>56</td>\n    </tr>\n    <tr>\n      <th>得到Y的支持</th>\n      <td>55</td>\n      <td>97</td>\n    </tr>\n    <tr>\n      <th>支持</th>\n      <td>51</td>\n      <td>49</td>\n    </tr>\n    <tr>\n      <th>政见趋同</th>\n      <td>21</td>\n      <td>23</td>\n    </tr>\n    <tr>\n      <th>遭到Y的反对/攻讦</th>\n      <td>52</td>\n      <td>111</td>\n    </tr>\n  </tbody>\n</table>\n</div>"
     },
     "execution_count": 31,
     "metadata": {},
     "output_type": "execute_result"
    }
   ],
   "source": [
    "#df2是政治关系表\n",
    "#从表中取出以下三列，以联系进行分组，分别统计官员和社会关系人的数量\n",
    "a1 = df2[['姓名', '社会关系人姓名', '联系']].groupby('联系').agg(\n",
    "    {'姓名': 'nunique', '社会关系人姓名': 'nunique'}).copy()\n",
    "a1"
   ]
  },
  {
   "cell_type": "code",
   "execution_count": 32,
   "metadata": {
    "ExecuteTime": {
     "start_time": "2023-04-16T10:07:15.646001Z",
     "end_time": "2023-04-16T10:07:16.380210Z"
    }
   },
   "outputs": [
    {
     "data": {
      "text/plain": "           姓名  社会关系人姓名  无去重计数\n联系                           \n不合         35       49     61\n反对/攻讦      58       56     78\n得到Y的支持     55       97    132\n支持         51       49     80\n政见趋同       21       23     25\n遭到Y的反对/攻讦  52      111    130",
      "text/html": "<div>\n<style scoped>\n    .dataframe tbody tr th:only-of-type {\n        vertical-align: middle;\n    }\n\n    .dataframe tbody tr th {\n        vertical-align: top;\n    }\n\n    .dataframe thead th {\n        text-align: right;\n    }\n</style>\n<table border=\"1\" class=\"dataframe\">\n  <thead>\n    <tr style=\"text-align: right;\">\n      <th></th>\n      <th>姓名</th>\n      <th>社会关系人姓名</th>\n      <th>无去重计数</th>\n    </tr>\n    <tr>\n      <th>联系</th>\n      <th></th>\n      <th></th>\n      <th></th>\n    </tr>\n  </thead>\n  <tbody>\n    <tr>\n      <th>不合</th>\n      <td>35</td>\n      <td>49</td>\n      <td>61</td>\n    </tr>\n    <tr>\n      <th>反对/攻讦</th>\n      <td>58</td>\n      <td>56</td>\n      <td>78</td>\n    </tr>\n    <tr>\n      <th>得到Y的支持</th>\n      <td>55</td>\n      <td>97</td>\n      <td>132</td>\n    </tr>\n    <tr>\n      <th>支持</th>\n      <td>51</td>\n      <td>49</td>\n      <td>80</td>\n    </tr>\n    <tr>\n      <th>政见趋同</th>\n      <td>21</td>\n      <td>23</td>\n      <td>25</td>\n    </tr>\n    <tr>\n      <th>遭到Y的反对/攻讦</th>\n      <td>52</td>\n      <td>111</td>\n      <td>130</td>\n    </tr>\n  </tbody>\n</table>\n</div>"
     },
     "execution_count": 32,
     "metadata": {},
     "output_type": "execute_result"
    }
   ],
   "source": [
    "a1['无去重计数'] = df2[['姓名', '联系']].groupby('联系').count()\n",
    "a1"
   ]
  },
  {
   "cell_type": "code",
   "execution_count": 33,
   "metadata": {
    "ExecuteTime": {
     "start_time": "2023-04-16T10:07:15.661622Z",
     "end_time": "2023-04-16T10:07:16.380210Z"
    }
   },
   "outputs": [
    {
     "data": {
      "text/plain": "联系\n政见趋同         553.851090\n不合           566.486530\n反对/攻讦        664.581145\n遭到Y的反对/攻讦    689.981035\n得到Y的支持       699.818200\n支持           703.809609\nName: Distance 距离, dtype: float64"
     },
     "execution_count": 33,
     "metadata": {},
     "output_type": "execute_result"
    }
   ],
   "source": [
    "#不同联系的平均距离\n",
    "a1 = df2[r'Distance 距离'].groupby(df2[r'联系']).mean().sort_values()\n",
    "a1"
   ]
  },
  {
   "cell_type": "code",
   "execution_count": 34,
   "metadata": {
    "ExecuteTime": {
     "start_time": "2023-04-16T10:07:15.692864Z",
     "end_time": "2023-04-16T10:07:16.380210Z"
    }
   },
   "outputs": [
    {
     "data": {
      "text/plain": "<Figure size 432x288 with 1 Axes>",
      "image/png": "[encoded data removed]"
     },
     "metadata": {
      "needs_background": "light"
     },
     "output_type": "display_data"
    }
   ],
   "source": [
    "#绘制联系-距离平均值关系图\n",
    "#方法1\n",
    "from pylab import mpl\n",
    "\n",
    "mpl.rcParams['font.sans-serif'] = ['SimHei']\n",
    "# a1.plot(kind='barh')\n",
    "a1.plot(kind='bar')\n",
    "plt.title('联系-距离平均值')\n",
    "plt.xlabel('联系')\n",
    "plt.ylabel('距离均值')\n",
    "plt.show()"
   ]
  },
  {
   "cell_type": "code",
   "execution_count": 35,
   "metadata": {
    "ExecuteTime": {
     "start_time": "2023-04-16T10:07:15.880322Z",
     "end_time": "2023-04-16T10:07:16.380210Z"
    }
   },
   "outputs": [
    {
     "data": {
      "text/plain": "<function matplotlib.pyplot.show(close=None, block=None)>"
     },
     "execution_count": 35,
     "metadata": {},
     "output_type": "execute_result"
    },
    {
     "data": {
      "text/plain": "<Figure size 432x288 with 1 Axes>",
      "image/png": "[encoded data removed]"
     },
     "metadata": {
      "needs_background": "light"
     },
     "output_type": "display_data"
    }
   ],
   "source": [
    "#方法2\n",
    "plt.barh(a1.index, a1.values)\n",
    "plt.title('联系和距离关系', size=20, color='pink')\n",
    "plt.xlabel('平均距离')\n",
    "plt.ylabel('联系')\n",
    "plt.show"
   ]
  },
  {
   "cell_type": "markdown",
   "metadata": {},
   "source": [
    "支持和对抗的关系筛选"
   ]
  },
  {
   "cell_type": "code",
   "execution_count": 36,
   "metadata": {
    "ExecuteTime": {
     "start_time": "2023-04-16T10:07:16.036558Z",
     "end_time": "2023-04-16T10:07:16.458311Z"
    }
   },
   "outputs": [
    {
     "data": {
      "text/plain": "685.6485615160855"
     },
     "execution_count": 36,
     "metadata": {},
     "output_type": "execute_result"
    }
   ],
   "source": [
    "#支持型关系\n",
    "df2.query('联系==\"支持\"or 联系==\"政见趋同\" or 联系==\"得到Y的支持\" ')['Distance 距离'].mean()"
   ]
  },
  {
   "cell_type": "code",
   "execution_count": 37,
   "metadata": {
    "ExecuteTime": {
     "start_time": "2023-04-16T10:07:16.067780Z",
     "end_time": "2023-04-16T10:07:16.458311Z"
    }
   },
   "outputs": [
    {
     "data": {
      "text/plain": "654.5744813763426"
     },
     "execution_count": 37,
     "metadata": {},
     "output_type": "execute_result"
    }
   ],
   "source": [
    "#对抗型关系筛选\n",
    "df2.query('联系==\"不合\"or 联系==\"遭到Y的反对/攻讦\" or 联系==\"反对/攻讦\"')['Distance 距离'].mean()"
   ]
  },
  {
   "cell_type": "markdown",
   "metadata": {},
   "source": [
    "## 指数年之差"
   ]
  },
  {
   "cell_type": "code",
   "execution_count": 38,
   "metadata": {
    "ExecuteTime": {
     "start_time": "2023-04-16T10:07:16.114641Z",
     "end_time": "2023-04-16T10:07:16.637028Z"
    }
   },
   "outputs": [
    {
     "data": {
      "text/plain": "                Name   姓名  Index year Sex       Associate 社会关系人姓名  \\\n0             An Dun   安惇        1042   M         Zou Hao      邹浩   \n1             An Dun   安惇        1042   M  Zhang Shiliang     张士良   \n2       Chen Jian(2)   陈戬        1081   M       Tong Guan      童贯   \n3           Cheng Yu   程瑀        1087   M          Wu Min      吴敏   \n4    Zhang Shangying  张商英        1043   M      Sima Guang     司马光   \n..               ...  ...         ...  ..             ...     ...   \n501          Yu Jing   余靖        1000   M      Ouyang Xiu     欧阳修   \n502          Yu Jing   余靖        1000   M         Yin Zhu      尹洙   \n503       Kong Daofu  孔道辅         986   M        Yang Xie      杨偕   \n504      Liu Anshang  刘安上        1069   M      Shi Gongbi     石公弼   \n505        Han Xizai  韩熙载         902   M         Xu Xuan      徐铉   \n\n     Assoc. Index Year Assoc. Sex           Association     联系  ...  \\\n0               1060.0          M   Opposed or attacked  反对/攻讦  ...   \n1                  NaN          M   Opposed or attacked  反对/攻讦  ...   \n2               1054.0          M   Opposed or attacked  反对/攻讦  ...   \n3               1087.0          M   Opposed or attacked  反对/攻讦  ...   \n4               1019.0          M   Opposed or attacked  反对/攻讦  ...   \n..                 ...        ...                   ...    ...  ...   \n501             1007.0          M  Agreed with views of   政见趋同  ...   \n502             1001.0          M  Agreed with views of   政见趋同  ...   \n503              980.0          M  Agreed with views of   政见趋同  ...   \n504             1061.0          M  Agreed with views of   政见趋同  ...   \n505              920.0          M  Agreed with views of   政见趋同  ...   \n\n      Kin Name 亲戚姓名  Assoc. Kinship Rel.  关系人的亲属关系 Assoc. Kin Name 关系人的亲戚姓名  \\\n0    Wei Xiang   未详                    U        未详       Wei Xiang       未详   \n1    Wei Xiang   未详                    U        未详       Wei Xiang       未详   \n2    Wei Xiang   未详                    U        未详       Wei Xiang       未详   \n3    Wei Xiang   未详                    U        未详       Wei Xiang       未详   \n4    Wei Xiang   未详                    U        未详       Wei Xiang       未详   \n..         ...  ...                  ...       ...             ...      ...   \n501  Wei Xiang   未详                    U        未详       Wei Xiang       未详   \n502  Wei Xiang   未详                    U        未详       Wei Xiang       未详   \n503  Wei Xiang   未详                    U        未详       Wei Xiang       未详   \n504  Wei Xiang   未详                    U        未详       Wei Xiang       未详   \n505  Wei Xiang   未详                    U        未详       Wei Xiang       未详   \n\n     Distance 距离  Person ID Assoc ID 指数年之差  \n0    1275.341259          1     3888  18.0  \n1            NaN          1    25065   NaN  \n2     910.189663         31     8124  27.0  \n3     370.461638        128     8163   0.0  \n4     868.170971        272     1488  24.0  \n..           ...        ...      ...   ...  \n501  1066.098438      12319     1384   7.0  \n502  1102.124909      12319     7104   1.0  \n503   431.228735      15939     2003   6.0  \n504   165.947261      17479    13417   8.0  \n505   941.629297      94724    12236  18.0  \n\n[506 rows x 30 columns]",
      "text/html": "<div>\n<style scoped>\n    .dataframe tbody tr th:only-of-type {\n        vertical-align: middle;\n    }\n\n    .dataframe tbody tr th {\n        vertical-align: top;\n    }\n\n    .dataframe thead th {\n        text-align: right;\n    }\n</style>\n<table border=\"1\" class=\"dataframe\">\n  <thead>\n    <tr style=\"text-align: right;\">\n      <th></th>\n      <th>Name</th>\n      <th>姓名</th>\n      <th>Index year</th>\n      <th>Sex</th>\n      <th>Associate</th>\n      <th>社会关系人姓名</th>\n      <th>Assoc. Index Year</th>\n      <th>Assoc. Sex</th>\n      <th>Association</th>\n      <th>联系</th>\n      <th>...</th>\n      <th>Kin Name</th>\n      <th>亲戚姓名</th>\n      <th>Assoc. Kinship Rel.</th>\n      <th>关系人的亲属关系</th>\n      <th>Assoc. Kin Name</th>\n      <th>关系人的亲戚姓名</th>\n      <th>Distance 距离</th>\n      <th>Person ID</th>\n      <th>Assoc ID</th>\n      <th>指数年之差</th>\n    </tr>\n  </thead>\n  <tbody>\n    <tr>\n      <th>0</th>\n      <td>An Dun</td>\n      <td>安惇</td>\n      <td>1042</td>\n      <td>M</td>\n      <td>Zou Hao</td>\n      <td>邹浩</td>\n      <td>1060.0</td>\n      <td>M</td>\n      <td>Opposed or attacked</td>\n      <td>反对/攻讦</td>\n      <td>...</td>\n      <td>Wei Xiang</td>\n      <td>未详</td>\n      <td>U</td>\n      <td>未详</td>\n      <td>Wei Xiang</td>\n      <td>未详</td>\n      <td>1275.341259</td>\n      <td>1</td>\n      <td>3888</td>\n      <td>18.0</td>\n    </tr>\n    <tr>\n      <th>1</th>\n      <td>An Dun</td>\n      <td>安惇</td>\n      <td>1042</td>\n      <td>M</td>\n      <td>Zhang Shiliang</td>\n      <td>张士良</td>\n      <td>NaN</td>\n      <td>M</td>\n      <td>Opposed or attacked</td>\n      <td>反对/攻讦</td>\n      <td>...</td>\n      <td>Wei Xiang</td>\n      <td>未详</td>\n      <td>U</td>\n      <td>未详</td>\n      <td>Wei Xiang</td>\n      <td>未详</td>\n      <td>NaN</td>\n      <td>1</td>\n      <td>25065</td>\n      <td>NaN</td>\n    </tr>\n    <tr>\n      <th>2</th>\n      <td>Chen Jian(2)</td>\n      <td>陈戬</td>\n      <td>1081</td>\n      <td>M</td>\n      <td>Tong Guan</td>\n      <td>童贯</td>\n      <td>1054.0</td>\n      <td>M</td>\n      <td>Opposed or attacked</td>\n      <td>反对/攻讦</td>\n      <td>...</td>\n      <td>Wei Xiang</td>\n      <td>未详</td>\n      <td>U</td>\n      <td>未详</td>\n      <td>Wei Xiang</td>\n      <td>未详</td>\n      <td>910.189663</td>\n      <td>31</td>\n      <td>8124</td>\n      <td>27.0</td>\n    </tr>\n    <tr>\n      <th>3</th>\n      <td>Cheng Yu</td>\n      <td>程瑀</td>\n      <td>1087</td>\n      <td>M</td>\n      <td>Wu Min</td>\n      <td>吴敏</td>\n      <td>1087.0</td>\n      <td>M</td>\n      <td>Opposed or attacked</td>\n      <td>反对/攻讦</td>\n      <td>...</td>\n      <td>Wei Xiang</td>\n      <td>未详</td>\n      <td>U</td>\n      <td>未详</td>\n      <td>Wei Xiang</td>\n      <td>未详</td>\n      <td>370.461638</td>\n      <td>128</td>\n      <td>8163</td>\n      <td>0.0</td>\n    </tr>\n    <tr>\n      <th>4</th>\n      <td>Zhang Shangying</td>\n      <td>张商英</td>\n      <td>1043</td>\n      <td>M</td>\n      <td>Sima Guang</td>\n      <td>司马光</td>\n      <td>1019.0</td>\n      <td>M</td>\n      <td>Opposed or attacked</td>\n      <td>反对/攻讦</td>\n      <td>...</td>\n      <td>Wei Xiang</td>\n      <td>未详</td>\n      <td>U</td>\n      <td>未详</td>\n      <td>Wei Xiang</td>\n      <td>未详</td>\n      <td>868.170971</td>\n      <td>272</td>\n      <td>1488</td>\n      <td>24.0</td>\n    </tr>\n    <tr>\n      <th>...</th>\n      <td>...</td>\n      <td>...</td>\n      <td>...</td>\n      <td>...</td>\n      <td>...</td>\n      <td>...</td>\n      <td>...</td>\n      <td>...</td>\n      <td>...</td>\n      <td>...</td>\n      <td>...</td>\n      <td>...</td>\n      <td>...</td>\n      <td>...</td>\n      <td>...</td>\n      <td>...</td>\n      <td>...</td>\n      <td>...</td>\n      <td>...</td>\n      <td>...</td>\n      <td>...</td>\n    </tr>\n    <tr>\n      <th>501</th>\n      <td>Yu Jing</td>\n      <td>余靖</td>\n      <td>1000</td>\n      <td>M</td>\n      <td>Ouyang Xiu</td>\n      <td>欧阳修</td>\n      <td>1007.0</td>\n      <td>M</td>\n      <td>Agreed with views of</td>\n      <td>政见趋同</td>\n      <td>...</td>\n      <td>Wei Xiang</td>\n      <td>未详</td>\n      <td>U</td>\n      <td>未详</td>\n      <td>Wei Xiang</td>\n      <td>未详</td>\n      <td>1066.098438</td>\n      <td>12319</td>\n      <td>1384</td>\n      <td>7.0</td>\n    </tr>\n    <tr>\n      <th>502</th>\n      <td>Yu Jing</td>\n      <td>余靖</td>\n      <td>1000</td>\n      <td>M</td>\n      <td>Yin Zhu</td>\n      <td>尹洙</td>\n      <td>1001.0</td>\n      <td>M</td>\n      <td>Agreed with views of</td>\n      <td>政见趋同</td>\n      <td>...</td>\n      <td>Wei Xiang</td>\n      <td>未详</td>\n      <td>U</td>\n      <td>未详</td>\n      <td>Wei Xiang</td>\n      <td>未详</td>\n      <td>1102.124909</td>\n      <td>12319</td>\n      <td>7104</td>\n      <td>1.0</td>\n    </tr>\n    <tr>\n      <th>503</th>\n      <td>Kong Daofu</td>\n      <td>孔道辅</td>\n      <td>986</td>\n      <td>M</td>\n      <td>Yang Xie</td>\n      <td>杨偕</td>\n      <td>980.0</td>\n      <td>M</td>\n      <td>Agreed with views of</td>\n      <td>政见趋同</td>\n      <td>...</td>\n      <td>Wei Xiang</td>\n      <td>未详</td>\n      <td>U</td>\n      <td>未详</td>\n      <td>Wei Xiang</td>\n      <td>未详</td>\n      <td>431.228735</td>\n      <td>15939</td>\n      <td>2003</td>\n      <td>6.0</td>\n    </tr>\n    <tr>\n      <th>504</th>\n      <td>Liu Anshang</td>\n      <td>刘安上</td>\n      <td>1069</td>\n      <td>M</td>\n      <td>Shi Gongbi</td>\n      <td>石公弼</td>\n      <td>1061.0</td>\n      <td>M</td>\n      <td>Agreed with views of</td>\n      <td>政见趋同</td>\n      <td>...</td>\n      <td>Wei Xiang</td>\n      <td>未详</td>\n      <td>U</td>\n      <td>未详</td>\n      <td>Wei Xiang</td>\n      <td>未详</td>\n      <td>165.947261</td>\n      <td>17479</td>\n      <td>13417</td>\n      <td>8.0</td>\n    </tr>\n    <tr>\n      <th>505</th>\n      <td>Han Xizai</td>\n      <td>韩熙载</td>\n      <td>902</td>\n      <td>M</td>\n      <td>Xu Xuan</td>\n      <td>徐铉</td>\n      <td>920.0</td>\n      <td>M</td>\n      <td>Agreed with views of</td>\n      <td>政见趋同</td>\n      <td>...</td>\n      <td>Wei Xiang</td>\n      <td>未详</td>\n      <td>U</td>\n      <td>未详</td>\n      <td>Wei Xiang</td>\n      <td>未详</td>\n      <td>941.629297</td>\n      <td>94724</td>\n      <td>12236</td>\n      <td>18.0</td>\n    </tr>\n  </tbody>\n</table>\n<p>506 rows × 30 columns</p>\n</div>"
     },
     "execution_count": 38,
     "metadata": {},
     "output_type": "execute_result"
    }
   ],
   "source": [
    "df2['指数年之差'] = abs(df2['Index year'] - df2['Assoc. Index Year'])\n",
    "df2\n"
   ]
  },
  {
   "cell_type": "code",
   "execution_count": 39,
   "metadata": {
    "ExecuteTime": {
     "start_time": "2023-04-16T10:07:16.145909Z",
     "end_time": "2023-04-16T10:07:16.637028Z"
    }
   },
   "outputs": [
    {
     "data": {
      "text/plain": "        联系  指数年之差\n0    反对/攻讦   18.0\n1    反对/攻讦    NaN\n2    反对/攻讦   27.0\n3    反对/攻讦    0.0\n4    反对/攻讦   24.0\n..     ...    ...\n501   政见趋同    7.0\n502   政见趋同    1.0\n503   政见趋同    6.0\n504   政见趋同    8.0\n505   政见趋同   18.0\n\n[506 rows x 2 columns]",
      "text/html": "<div>\n<style scoped>\n    .dataframe tbody tr th:only-of-type {\n        vertical-align: middle;\n    }\n\n    .dataframe tbody tr th {\n        vertical-align: top;\n    }\n\n    .dataframe thead th {\n        text-align: right;\n    }\n</style>\n<table border=\"1\" class=\"dataframe\">\n  <thead>\n    <tr style=\"text-align: right;\">\n      <th></th>\n      <th>联系</th>\n      <th>指数年之差</th>\n    </tr>\n  </thead>\n  <tbody>\n    <tr>\n      <th>0</th>\n      <td>反对/攻讦</td>\n      <td>18.0</td>\n    </tr>\n    <tr>\n      <th>1</th>\n      <td>反对/攻讦</td>\n      <td>NaN</td>\n    </tr>\n    <tr>\n      <th>2</th>\n      <td>反对/攻讦</td>\n      <td>27.0</td>\n    </tr>\n    <tr>\n      <th>3</th>\n      <td>反对/攻讦</td>\n      <td>0.0</td>\n    </tr>\n    <tr>\n      <th>4</th>\n      <td>反对/攻讦</td>\n      <td>24.0</td>\n    </tr>\n    <tr>\n      <th>...</th>\n      <td>...</td>\n      <td>...</td>\n    </tr>\n    <tr>\n      <th>501</th>\n      <td>政见趋同</td>\n      <td>7.0</td>\n    </tr>\n    <tr>\n      <th>502</th>\n      <td>政见趋同</td>\n      <td>1.0</td>\n    </tr>\n    <tr>\n      <th>503</th>\n      <td>政见趋同</td>\n      <td>6.0</td>\n    </tr>\n    <tr>\n      <th>504</th>\n      <td>政见趋同</td>\n      <td>8.0</td>\n    </tr>\n    <tr>\n      <th>505</th>\n      <td>政见趋同</td>\n      <td>18.0</td>\n    </tr>\n  </tbody>\n</table>\n<p>506 rows × 2 columns</p>\n</div>"
     },
     "execution_count": 39,
     "metadata": {},
     "output_type": "execute_result"
    }
   ],
   "source": [
    "data3 = df2[['联系', '指数年之差']]\n",
    "data3"
   ]
  },
  {
   "cell_type": "code",
   "execution_count": 40,
   "metadata": {
    "ExecuteTime": {
     "start_time": "2023-04-16T10:07:16.161508Z",
     "end_time": "2023-04-16T10:07:16.637028Z"
    }
   },
   "outputs": [
    {
     "data": {
      "text/plain": "Index(['Name', '姓名', 'Index year', 'Sex', 'Associate', '社会关系人姓名',\n       'Assoc. Index Year', 'Assoc. Sex', 'Association', '联系', 'Address', '籍贯',\n       'X', 'Y', 'Assoc. Address', '联系人籍贯', 'Assoc. X', 'Assoc. Y',\n       'Kinship Relation', '亲属关系', 'Kin Name', '亲戚姓名', 'Assoc. Kinship Rel.',\n       '关系人的亲属关系', 'Assoc. Kin Name', '关系人的亲戚姓名', 'Distance 距离', 'Person ID',\n       'Assoc ID', '指数年之差'],\n      dtype='object')"
     },
     "execution_count": 40,
     "metadata": {},
     "output_type": "execute_result"
    }
   ],
   "source": [
    "df2.columns"
   ]
  },
  {
   "cell_type": "code",
   "execution_count": 41,
   "metadata": {
    "ExecuteTime": {
     "start_time": "2023-04-16T10:07:16.177134Z",
     "end_time": "2023-04-16T10:07:16.637028Z"
    }
   },
   "outputs": [
    {
     "data": {
      "text/plain": "                Name   姓名  Index year       Associate 社会关系人姓名  \\\n0             An Dun   安惇        1042         Zou Hao      邹浩   \n1             An Dun   安惇        1042  Zhang Shiliang     张士良   \n2       Chen Jian(2)   陈戬        1081       Tong Guan      童贯   \n3           Cheng Yu   程瑀        1087          Wu Min      吴敏   \n4    Zhang Shangying  张商英        1043      Sima Guang     司马光   \n..               ...  ...         ...             ...     ...   \n501          Yu Jing   余靖        1000      Ouyang Xiu     欧阳修   \n502          Yu Jing   余靖        1000         Yin Zhu      尹洙   \n503       Kong Daofu  孔道辅         986        Yang Xie      杨偕   \n504      Liu Anshang  刘安上        1069      Shi Gongbi     石公弼   \n505        Han Xizai  韩熙载         902         Xu Xuan      徐铉   \n\n     Assoc. Index Year           Association     联系   Address  籍贯           X  \\\n0               1060.0   Opposed or attacked  反对/攻讦   Qujiang  渠江  106.631752   \n1                  NaN   Opposed or attacked  反对/攻讦   Qujiang  渠江  106.631752   \n2               1054.0   Opposed or attacked  反对/攻讦    Songxi  松溪  118.774612   \n3               1087.0   Opposed or attacked  反对/攻讦   Fuliang  浮梁  117.236359   \n4               1019.0   Opposed or attacked  反对/攻讦    Xinjin  新津  103.810936   \n..                 ...                   ...    ...       ...  ..         ...   \n501             1007.0  Agreed with views of   政见趋同   Qujiang  曲江  113.603417   \n502             1001.0  Agreed with views of   政见趋同   Qujiang  曲江  113.603417   \n503              980.0  Agreed with views of   政见趋同  Xianyuan  仙源  116.986059   \n504             1061.0  Agreed with views of   政见趋同   Yongjia  永嘉  120.653221   \n505              920.0  Agreed with views of   政见趋同    Beihai  北海  119.106499   \n\n             Y Assoc. Address 联系人籍贯    Assoc. X   Assoc. Y  Distance 距离  \\\n0    30.477690          Wujin    武进  119.952301  31.782784  1275.341259   \n1    30.477690      [Unknown]  [未详]         NaN        NaN          NaN   \n2    27.528404        Kaifeng    开封  114.343330  34.785477   910.189663   \n3    29.382742         Yangzi    扬子  119.177627  32.267544   370.461638   \n4    30.423536       Xia Xian    夏县  111.220055  35.137451   868.170971   \n..         ...            ...   ...         ...        ...          ...   \n501  24.810209       Xinzheng    新郑  113.719086  34.397324  1066.098438   \n502  24.810209        Luoyang    洛阳  112.382630  34.665276  1102.124909   \n503  35.597553        Luoyang    洛阳  112.382630  34.665276   431.228735   \n504  28.018291       Xinchang    新昌  120.902107  29.494654   165.947261   \n505  36.702705       Nanchang    南昌  115.897720  28.674896   941.629297   \n\n     Person ID  Assoc ID  指数年之差  \n0            1      3888   18.0  \n1            1     25065    NaN  \n2           31      8124   27.0  \n3          128      8163    0.0  \n4          272      1488   24.0  \n..         ...       ...    ...  \n501      12319      1384    7.0  \n502      12319      7104    1.0  \n503      15939      2003    6.0  \n504      17479     13417    8.0  \n505      94724     12236   18.0  \n\n[506 rows x 20 columns]",
      "text/html": "<div>\n<style scoped>\n    .dataframe tbody tr th:only-of-type {\n        vertical-align: middle;\n    }\n\n    .dataframe tbody tr th {\n        vertical-align: top;\n    }\n\n    .dataframe thead th {\n        text-align: right;\n    }\n</style>\n<table border=\"1\" class=\"dataframe\">\n  <thead>\n    <tr style=\"text-align: right;\">\n      <th></th>\n      <th>Name</th>\n      <th>姓名</th>\n      <th>Index year</th>\n      <th>Associate</th>\n      <th>社会关系人姓名</th>\n      <th>Assoc. Index Year</th>\n      <th>Association</th>\n      <th>联系</th>\n      <th>Address</th>\n      <th>籍贯</th>\n      <th>X</th>\n      <th>Y</th>\n      <th>Assoc. Address</th>\n      <th>联系人籍贯</th>\n      <th>Assoc. X</th>\n      <th>Assoc. Y</th>\n      <th>Distance 距离</th>\n      <th>Person ID</th>\n      <th>Assoc ID</th>\n      <th>指数年之差</th>\n    </tr>\n  </thead>\n  <tbody>\n    <tr>\n      <th>0</th>\n      <td>An Dun</td>\n      <td>安惇</td>\n      <td>1042</td>\n      <td>Zou Hao</td>\n      <td>邹浩</td>\n      <td>1060.0</td>\n      <td>Opposed or attacked</td>\n      <td>反对/攻讦</td>\n      <td>Qujiang</td>\n      <td>渠江</td>\n      <td>106.631752</td>\n      <td>30.477690</td>\n      <td>Wujin</td>\n      <td>武进</td>\n      <td>119.952301</td>\n      <td>31.782784</td>\n      <td>1275.341259</td>\n      <td>1</td>\n      <td>3888</td>\n      <td>18.0</td>\n    </tr>\n    <tr>\n      <th>1</th>\n      <td>An Dun</td>\n      <td>安惇</td>\n      <td>1042</td>\n      <td>Zhang Shiliang</td>\n      <td>张士良</td>\n      <td>NaN</td>\n      <td>Opposed or attacked</td>\n      <td>反对/攻讦</td>\n      <td>Qujiang</td>\n      <td>渠江</td>\n      <td>106.631752</td>\n      <td>30.477690</td>\n      <td>[Unknown]</td>\n      <td>[未详]</td>\n      <td>NaN</td>\n      <td>NaN</td>\n      <td>NaN</td>\n      <td>1</td>\n      <td>25065</td>\n      <td>NaN</td>\n    </tr>\n    <tr>\n      <th>2</th>\n      <td>Chen Jian(2)</td>\n      <td>陈戬</td>\n      <td>1081</td>\n      <td>Tong Guan</td>\n      <td>童贯</td>\n      <td>1054.0</td>\n      <td>Opposed or attacked</td>\n      <td>反对/攻讦</td>\n      <td>Songxi</td>\n      <td>松溪</td>\n      <td>118.774612</td>\n      <td>27.528404</td>\n      <td>Kaifeng</td>\n      <td>开封</td>\n      <td>114.343330</td>\n      <td>34.785477</td>\n      <td>910.189663</td>\n      <td>31</td>\n      <td>8124</td>\n      <td>27.0</td>\n    </tr>\n    <tr>\n      <th>3</th>\n      <td>Cheng Yu</td>\n      <td>程瑀</td>\n      <td>1087</td>\n      <td>Wu Min</td>\n      <td>吴敏</td>\n      <td>1087.0</td>\n      <td>Opposed or attacked</td>\n      <td>反对/攻讦</td>\n      <td>Fuliang</td>\n      <td>浮梁</td>\n      <td>117.236359</td>\n      <td>29.382742</td>\n      <td>Yangzi</td>\n      <td>扬子</td>\n      <td>119.177627</td>\n      <td>32.267544</td>\n      <td>370.461638</td>\n      <td>128</td>\n      <td>8163</td>\n      <td>0.0</td>\n    </tr>\n    <tr>\n      <th>4</th>\n      <td>Zhang Shangying</td>\n      <td>张商英</td>\n      <td>1043</td>\n      <td>Sima Guang</td>\n      <td>司马光</td>\n      <td>1019.0</td>\n      <td>Opposed or attacked</td>\n      <td>反对/攻讦</td>\n      <td>Xinjin</td>\n      <td>新津</td>\n      <td>103.810936</td>\n      <td>30.423536</td>\n      <td>Xia Xian</td>\n      <td>夏县</td>\n      <td>111.220055</td>\n      <td>35.137451</td>\n      <td>868.170971</td>\n      <td>272</td>\n      <td>1488</td>\n      <td>24.0</td>\n    </tr>\n    <tr>\n      <th>...</th>\n      <td>...</td>\n      <td>...</td>\n      <td>...</td>\n      <td>...</td>\n      <td>...</td>\n      <td>...</td>\n      <td>...</td>\n      <td>...</td>\n      <td>...</td>\n      <td>...</td>\n      <td>...</td>\n      <td>...</td>\n      <td>...</td>\n      <td>...</td>\n      <td>...</td>\n      <td>...</td>\n      <td>...</td>\n      <td>...</td>\n      <td>...</td>\n      <td>...</td>\n    </tr>\n    <tr>\n      <th>501</th>\n      <td>Yu Jing</td>\n      <td>余靖</td>\n      <td>1000</td>\n      <td>Ouyang Xiu</td>\n      <td>欧阳修</td>\n      <td>1007.0</td>\n      <td>Agreed with views of</td>\n      <td>政见趋同</td>\n      <td>Qujiang</td>\n      <td>曲江</td>\n      <td>113.603417</td>\n      <td>24.810209</td>\n      <td>Xinzheng</td>\n      <td>新郑</td>\n      <td>113.719086</td>\n      <td>34.397324</td>\n      <td>1066.098438</td>\n      <td>12319</td>\n      <td>1384</td>\n      <td>7.0</td>\n    </tr>\n    <tr>\n      <th>502</th>\n      <td>Yu Jing</td>\n      <td>余靖</td>\n      <td>1000</td>\n      <td>Yin Zhu</td>\n      <td>尹洙</td>\n      <td>1001.0</td>\n      <td>Agreed with views of</td>\n      <td>政见趋同</td>\n      <td>Qujiang</td>\n      <td>曲江</td>\n      <td>113.603417</td>\n      <td>24.810209</td>\n      <td>Luoyang</td>\n      <td>洛阳</td>\n      <td>112.382630</td>\n      <td>34.665276</td>\n      <td>1102.124909</td>\n      <td>12319</td>\n      <td>7104</td>\n      <td>1.0</td>\n    </tr>\n    <tr>\n      <th>503</th>\n      <td>Kong Daofu</td>\n      <td>孔道辅</td>\n      <td>986</td>\n      <td>Yang Xie</td>\n      <td>杨偕</td>\n      <td>980.0</td>\n      <td>Agreed with views of</td>\n      <td>政见趋同</td>\n      <td>Xianyuan</td>\n      <td>仙源</td>\n      <td>116.986059</td>\n      <td>35.597553</td>\n      <td>Luoyang</td>\n      <td>洛阳</td>\n      <td>112.382630</td>\n      <td>34.665276</td>\n      <td>431.228735</td>\n      <td>15939</td>\n      <td>2003</td>\n      <td>6.0</td>\n    </tr>\n    <tr>\n      <th>504</th>\n      <td>Liu Anshang</td>\n      <td>刘安上</td>\n      <td>1069</td>\n      <td>Shi Gongbi</td>\n      <td>石公弼</td>\n      <td>1061.0</td>\n      <td>Agreed with views of</td>\n      <td>政见趋同</td>\n      <td>Yongjia</td>\n      <td>永嘉</td>\n      <td>120.653221</td>\n      <td>28.018291</td>\n      <td>Xinchang</td>\n      <td>新昌</td>\n      <td>120.902107</td>\n      <td>29.494654</td>\n      <td>165.947261</td>\n      <td>17479</td>\n      <td>13417</td>\n      <td>8.0</td>\n    </tr>\n    <tr>\n      <th>505</th>\n      <td>Han Xizai</td>\n      <td>韩熙载</td>\n      <td>902</td>\n      <td>Xu Xuan</td>\n      <td>徐铉</td>\n      <td>920.0</td>\n      <td>Agreed with views of</td>\n      <td>政见趋同</td>\n      <td>Beihai</td>\n      <td>北海</td>\n      <td>119.106499</td>\n      <td>36.702705</td>\n      <td>Nanchang</td>\n      <td>南昌</td>\n      <td>115.897720</td>\n      <td>28.674896</td>\n      <td>941.629297</td>\n      <td>94724</td>\n      <td>12236</td>\n      <td>18.0</td>\n    </tr>\n  </tbody>\n</table>\n<p>506 rows × 20 columns</p>\n</div>"
     },
     "execution_count": 41,
     "metadata": {},
     "output_type": "execute_result"
    }
   ],
   "source": [
    "df_2 = df2.copy()\n",
    "df_2.drop(['Sex','Assoc. Sex','Kinship Relation','亲属关系','Kin Name','亲戚姓名','Assoc. Kinship Rel.','关系人的亲属关系','Assoc. Kin Name','关系人的亲戚姓名'],axis = 1,inplace = False)"
   ]
  },
  {
   "cell_type": "code",
   "execution_count": 42,
   "metadata": {
    "ExecuteTime": {
     "start_time": "2023-04-16T10:07:16.223988Z",
     "end_time": "2023-04-16T10:07:16.637028Z"
    }
   },
   "outputs": [
    {
     "data": {
      "text/plain": "                Name   姓名  Index year Sex       Associate 社会关系人姓名  \\\n0             An Dun   安惇        1042   M         Zou Hao      邹浩   \n1             An Dun   安惇        1042   M  Zhang Shiliang     张士良   \n2       Chen Jian(2)   陈戬        1081   M       Tong Guan      童贯   \n3           Cheng Yu   程瑀        1087   M          Wu Min      吴敏   \n4    Zhang Shangying  张商英        1043   M      Sima Guang     司马光   \n..               ...  ...         ...  ..             ...     ...   \n501          Yu Jing   余靖        1000   M      Ouyang Xiu     欧阳修   \n502          Yu Jing   余靖        1000   M         Yin Zhu      尹洙   \n503       Kong Daofu  孔道辅         986   M        Yang Xie      杨偕   \n504      Liu Anshang  刘安上        1069   M      Shi Gongbi     石公弼   \n505        Han Xizai  韩熙载         902   M         Xu Xuan      徐铉   \n\n     Assoc. Index Year Assoc. Sex           Association     联系  ...  \\\n0               1060.0          M   Opposed or attacked  反对/攻讦  ...   \n1                  NaN          M   Opposed or attacked  反对/攻讦  ...   \n2               1054.0          M   Opposed or attacked  反对/攻讦  ...   \n3               1087.0          M   Opposed or attacked  反对/攻讦  ...   \n4               1019.0          M   Opposed or attacked  反对/攻讦  ...   \n..                 ...        ...                   ...    ...  ...   \n501             1007.0          M  Agreed with views of   政见趋同  ...   \n502             1001.0          M  Agreed with views of   政见趋同  ...   \n503              980.0          M  Agreed with views of   政见趋同  ...   \n504             1061.0          M  Agreed with views of   政见趋同  ...   \n505              920.0          M  Agreed with views of   政见趋同  ...   \n\n      Kin Name 亲戚姓名  Assoc. Kinship Rel.  关系人的亲属关系 Assoc. Kin Name 关系人的亲戚姓名  \\\n0    Wei Xiang   未详                    U        未详       Wei Xiang       未详   \n1    Wei Xiang   未详                    U        未详       Wei Xiang       未详   \n2    Wei Xiang   未详                    U        未详       Wei Xiang       未详   \n3    Wei Xiang   未详                    U        未详       Wei Xiang       未详   \n4    Wei Xiang   未详                    U        未详       Wei Xiang       未详   \n..         ...  ...                  ...       ...             ...      ...   \n501  Wei Xiang   未详                    U        未详       Wei Xiang       未详   \n502  Wei Xiang   未详                    U        未详       Wei Xiang       未详   \n503  Wei Xiang   未详                    U        未详       Wei Xiang       未详   \n504  Wei Xiang   未详                    U        未详       Wei Xiang       未详   \n505  Wei Xiang   未详                    U        未详       Wei Xiang       未详   \n\n     Distance 距离  Person ID Assoc ID 指数年之差  \n0    1275.341259          1     3888  18.0  \n1            NaN          1    25065   NaN  \n2     910.189663         31     8124  27.0  \n3     370.461638        128     8163   0.0  \n4     868.170971        272     1488  24.0  \n..           ...        ...      ...   ...  \n501  1066.098438      12319     1384   7.0  \n502  1102.124909      12319     7104   1.0  \n503   431.228735      15939     2003   6.0  \n504   165.947261      17479    13417   8.0  \n505   941.629297      94724    12236  18.0  \n\n[506 rows x 30 columns]",
      "text/html": "<div>\n<style scoped>\n    .dataframe tbody tr th:only-of-type {\n        vertical-align: middle;\n    }\n\n    .dataframe tbody tr th {\n        vertical-align: top;\n    }\n\n    .dataframe thead th {\n        text-align: right;\n    }\n</style>\n<table border=\"1\" class=\"dataframe\">\n  <thead>\n    <tr style=\"text-align: right;\">\n      <th></th>\n      <th>Name</th>\n      <th>姓名</th>\n      <th>Index year</th>\n      <th>Sex</th>\n      <th>Associate</th>\n      <th>社会关系人姓名</th>\n      <th>Assoc. Index Year</th>\n      <th>Assoc. Sex</th>\n      <th>Association</th>\n      <th>联系</th>\n      <th>...</th>\n      <th>Kin Name</th>\n      <th>亲戚姓名</th>\n      <th>Assoc. Kinship Rel.</th>\n      <th>关系人的亲属关系</th>\n      <th>Assoc. Kin Name</th>\n      <th>关系人的亲戚姓名</th>\n      <th>Distance 距离</th>\n      <th>Person ID</th>\n      <th>Assoc ID</th>\n      <th>指数年之差</th>\n    </tr>\n  </thead>\n  <tbody>\n    <tr>\n      <th>0</th>\n      <td>An Dun</td>\n      <td>安惇</td>\n      <td>1042</td>\n      <td>M</td>\n      <td>Zou Hao</td>\n      <td>邹浩</td>\n      <td>1060.0</td>\n      <td>M</td>\n      <td>Opposed or attacked</td>\n      <td>反对/攻讦</td>\n      <td>...</td>\n      <td>Wei Xiang</td>\n      <td>未详</td>\n      <td>U</td>\n      <td>未详</td>\n      <td>Wei Xiang</td>\n      <td>未详</td>\n      <td>1275.341259</td>\n      <td>1</td>\n      <td>3888</td>\n      <td>18.0</td>\n    </tr>\n    <tr>\n      <th>1</th>\n      <td>An Dun</td>\n      <td>安惇</td>\n      <td>1042</td>\n      <td>M</td>\n      <td>Zhang Shiliang</td>\n      <td>张士良</td>\n      <td>NaN</td>\n      <td>M</td>\n      <td>Opposed or attacked</td>\n      <td>反对/攻讦</td>\n      <td>...</td>\n      <td>Wei Xiang</td>\n      <td>未详</td>\n      <td>U</td>\n      <td>未详</td>\n      <td>Wei Xiang</td>\n      <td>未详</td>\n      <td>NaN</td>\n      <td>1</td>\n      <td>25065</td>\n      <td>NaN</td>\n    </tr>\n    <tr>\n      <th>2</th>\n      <td>Chen Jian(2)</td>\n      <td>陈戬</td>\n      <td>1081</td>\n      <td>M</td>\n      <td>Tong Guan</td>\n      <td>童贯</td>\n      <td>1054.0</td>\n      <td>M</td>\n      <td>Opposed or attacked</td>\n      <td>反对/攻讦</td>\n      <td>...</td>\n      <td>Wei Xiang</td>\n      <td>未详</td>\n      <td>U</td>\n      <td>未详</td>\n      <td>Wei Xiang</td>\n      <td>未详</td>\n      <td>910.189663</td>\n      <td>31</td>\n      <td>8124</td>\n      <td>27.0</td>\n    </tr>\n    <tr>\n      <th>3</th>\n      <td>Cheng Yu</td>\n      <td>程瑀</td>\n      <td>1087</td>\n      <td>M</td>\n      <td>Wu Min</td>\n      <td>吴敏</td>\n      <td>1087.0</td>\n      <td>M</td>\n      <td>Opposed or attacked</td>\n      <td>反对/攻讦</td>\n      <td>...</td>\n      <td>Wei Xiang</td>\n      <td>未详</td>\n      <td>U</td>\n      <td>未详</td>\n      <td>Wei Xiang</td>\n      <td>未详</td>\n      <td>370.461638</td>\n      <td>128</td>\n      <td>8163</td>\n      <td>0.0</td>\n    </tr>\n    <tr>\n      <th>4</th>\n      <td>Zhang Shangying</td>\n      <td>张商英</td>\n      <td>1043</td>\n      <td>M</td>\n      <td>Sima Guang</td>\n      <td>司马光</td>\n      <td>1019.0</td>\n      <td>M</td>\n      <td>Opposed or attacked</td>\n      <td>反对/攻讦</td>\n      <td>...</td>\n      <td>Wei Xiang</td>\n      <td>未详</td>\n      <td>U</td>\n      <td>未详</td>\n      <td>Wei Xiang</td>\n      <td>未详</td>\n      <td>868.170971</td>\n      <td>272</td>\n      <td>1488</td>\n      <td>24.0</td>\n    </tr>\n    <tr>\n      <th>...</th>\n      <td>...</td>\n      <td>...</td>\n      <td>...</td>\n      <td>...</td>\n      <td>...</td>\n      <td>...</td>\n      <td>...</td>\n      <td>...</td>\n      <td>...</td>\n      <td>...</td>\n      <td>...</td>\n      <td>...</td>\n      <td>...</td>\n      <td>...</td>\n      <td>...</td>\n      <td>...</td>\n      <td>...</td>\n      <td>...</td>\n      <td>...</td>\n      <td>...</td>\n      <td>...</td>\n    </tr>\n    <tr>\n      <th>501</th>\n      <td>Yu Jing</td>\n      <td>余靖</td>\n      <td>1000</td>\n      <td>M</td>\n      <td>Ouyang Xiu</td>\n      <td>欧阳修</td>\n      <td>1007.0</td>\n      <td>M</td>\n      <td>Agreed with views of</td>\n      <td>政见趋同</td>\n      <td>...</td>\n      <td>Wei Xiang</td>\n      <td>未详</td>\n      <td>U</td>\n      <td>未详</td>\n      <td>Wei Xiang</td>\n      <td>未详</td>\n      <td>1066.098438</td>\n      <td>12319</td>\n      <td>1384</td>\n      <td>7.0</td>\n    </tr>\n    <tr>\n      <th>502</th>\n      <td>Yu Jing</td>\n      <td>余靖</td>\n      <td>1000</td>\n      <td>M</td>\n      <td>Yin Zhu</td>\n      <td>尹洙</td>\n      <td>1001.0</td>\n      <td>M</td>\n      <td>Agreed with views of</td>\n      <td>政见趋同</td>\n      <td>...</td>\n      <td>Wei Xiang</td>\n      <td>未详</td>\n      <td>U</td>\n      <td>未详</td>\n      <td>Wei Xiang</td>\n      <td>未详</td>\n      <td>1102.124909</td>\n      <td>12319</td>\n      <td>7104</td>\n      <td>1.0</td>\n    </tr>\n    <tr>\n      <th>503</th>\n      <td>Kong Daofu</td>\n      <td>孔道辅</td>\n      <td>986</td>\n      <td>M</td>\n      <td>Yang Xie</td>\n      <td>杨偕</td>\n      <td>980.0</td>\n      <td>M</td>\n      <td>Agreed with views of</td>\n      <td>政见趋同</td>\n      <td>...</td>\n      <td>Wei Xiang</td>\n      <td>未详</td>\n      <td>U</td>\n      <td>未详</td>\n      <td>Wei Xiang</td>\n      <td>未详</td>\n      <td>431.228735</td>\n      <td>15939</td>\n      <td>2003</td>\n      <td>6.0</td>\n    </tr>\n    <tr>\n      <th>504</th>\n      <td>Liu Anshang</td>\n      <td>刘安上</td>\n      <td>1069</td>\n      <td>M</td>\n      <td>Shi Gongbi</td>\n      <td>石公弼</td>\n      <td>1061.0</td>\n      <td>M</td>\n      <td>Agreed with views of</td>\n      <td>政见趋同</td>\n      <td>...</td>\n      <td>Wei Xiang</td>\n      <td>未详</td>\n      <td>U</td>\n      <td>未详</td>\n      <td>Wei Xiang</td>\n      <td>未详</td>\n      <td>165.947261</td>\n      <td>17479</td>\n      <td>13417</td>\n      <td>8.0</td>\n    </tr>\n    <tr>\n      <th>505</th>\n      <td>Han Xizai</td>\n      <td>韩熙载</td>\n      <td>902</td>\n      <td>M</td>\n      <td>Xu Xuan</td>\n      <td>徐铉</td>\n      <td>920.0</td>\n      <td>M</td>\n      <td>Agreed with views of</td>\n      <td>政见趋同</td>\n      <td>...</td>\n      <td>Wei Xiang</td>\n      <td>未详</td>\n      <td>U</td>\n      <td>未详</td>\n      <td>Wei Xiang</td>\n      <td>未详</td>\n      <td>941.629297</td>\n      <td>94724</td>\n      <td>12236</td>\n      <td>18.0</td>\n    </tr>\n  </tbody>\n</table>\n<p>506 rows × 30 columns</p>\n</div>"
     },
     "execution_count": 42,
     "metadata": {},
     "output_type": "execute_result"
    }
   ],
   "source": [
    "df_2.dropna(axis='index',how='all',inplace = True)\n",
    "df_2"
   ]
  },
  {
   "cell_type": "code",
   "execution_count": 43,
   "metadata": {
    "ExecuteTime": {
     "start_time": "2023-04-16T10:07:16.270859Z",
     "end_time": "2023-04-16T10:07:16.637028Z"
    }
   },
   "outputs": [
    {
     "data": {
      "text/plain": "23"
     },
     "execution_count": 43,
     "metadata": {},
     "output_type": "execute_result"
    }
   ],
   "source": [
    "#检查整行重复\n",
    "df_2.duplicated().sum()"
   ]
  },
  {
   "cell_type": "code",
   "execution_count": 44,
   "metadata": {
    "ExecuteTime": {
     "start_time": "2023-04-16T10:07:16.302100Z",
     "end_time": "2023-04-16T10:07:16.699525Z"
    }
   },
   "outputs": [
    {
     "data": {
      "text/plain": "1324"
     },
     "execution_count": 44,
     "metadata": {},
     "output_type": "execute_result"
    }
   ],
   "source": [
    "#检查部分字段的重复情况\n",
    "#亲戚表\n",
    "df1.duplicated(['姓名','亲戚姓名']).sum()"
   ]
  },
  {
   "cell_type": "markdown",
   "metadata": {},
   "source": [
    "对政治表去重"
   ]
  },
  {
   "cell_type": "code",
   "execution_count": 45,
   "metadata": {
    "ExecuteTime": {
     "start_time": "2023-04-16T10:07:16.317737Z",
     "end_time": "2023-04-16T10:07:16.699525Z"
    }
   },
   "outputs": [
    {
     "data": {
      "text/plain": "0"
     },
     "execution_count": 45,
     "metadata": {},
     "output_type": "execute_result"
    }
   ],
   "source": [
    "df_2.drop_duplicates(inplace=True)\n",
    "df_2.duplicated().sum()"
   ]
  },
  {
   "cell_type": "code",
   "execution_count": 46,
   "metadata": {
    "ExecuteTime": {
     "start_time": "2023-04-16T10:07:16.348960Z",
     "end_time": "2023-04-16T10:07:16.699525Z"
    }
   },
   "outputs": [],
   "source": [
    "#对亲戚表进行去重\n",
    "df_1 = df1.copy()"
   ]
  },
  {
   "cell_type": "code",
   "execution_count": 47,
   "metadata": {
    "ExecuteTime": {
     "start_time": "2023-04-16T10:07:16.364584Z",
     "end_time": "2023-04-16T10:07:16.699525Z"
    }
   },
   "outputs": [
    {
     "data": {
      "text/plain": "                             Name       姓名      Kin Name 亲戚姓名 Kinship\n0                          An Dun       安惇       An Fang   安邡       S\n7                          An Dun       安惇        An Bin   安邠       S\n14                         An Dun       安惇       An Jiao   安郊      S1\n21                         An Dun       安惇       An Bang   安邦      S2\n28                   Chen Jian(2)       陈戬  Chen Ding(2)   陈鼎      S1\n...                           ...      ...           ...  ...     ...\n1940  Li Shi(Mother of Zhao Zhen)  李氏(赵祯母)      Li Rende  李仁德       F\n1941  Li Shi(Mother of Zhao Zhen)  李氏(赵祯母)     Zhao Zhen   赵祯       S\n1942  Li Shi(Mother of Zhao Zhen)  李氏(赵祯母)     Li Yonghe  李用和      B-\n1943                 Shi Tingchen      施庭臣   Shi Yuanran  施渊然       S\n1944                    Han Xizai      韩熙载   Han Guangsi  韩光嗣       F\n\n[625 rows x 5 columns]",
      "text/html": "<div>\n<style scoped>\n    .dataframe tbody tr th:only-of-type {\n        vertical-align: middle;\n    }\n\n    .dataframe tbody tr th {\n        vertical-align: top;\n    }\n\n    .dataframe thead th {\n        text-align: right;\n    }\n</style>\n<table border=\"1\" class=\"dataframe\">\n  <thead>\n    <tr style=\"text-align: right;\">\n      <th></th>\n      <th>Name</th>\n      <th>姓名</th>\n      <th>Kin Name</th>\n      <th>亲戚姓名</th>\n      <th>Kinship</th>\n    </tr>\n  </thead>\n  <tbody>\n    <tr>\n      <th>0</th>\n      <td>An Dun</td>\n      <td>安惇</td>\n      <td>An Fang</td>\n      <td>安邡</td>\n      <td>S</td>\n    </tr>\n    <tr>\n      <th>7</th>\n      <td>An Dun</td>\n      <td>安惇</td>\n      <td>An Bin</td>\n      <td>安邠</td>\n      <td>S</td>\n    </tr>\n    <tr>\n      <th>14</th>\n      <td>An Dun</td>\n      <td>安惇</td>\n      <td>An Jiao</td>\n      <td>安郊</td>\n      <td>S1</td>\n    </tr>\n    <tr>\n      <th>21</th>\n      <td>An Dun</td>\n      <td>安惇</td>\n      <td>An Bang</td>\n      <td>安邦</td>\n      <td>S2</td>\n    </tr>\n    <tr>\n      <th>28</th>\n      <td>Chen Jian(2)</td>\n      <td>陈戬</td>\n      <td>Chen Ding(2)</td>\n      <td>陈鼎</td>\n      <td>S1</td>\n    </tr>\n    <tr>\n      <th>...</th>\n      <td>...</td>\n      <td>...</td>\n      <td>...</td>\n      <td>...</td>\n      <td>...</td>\n    </tr>\n    <tr>\n      <th>1940</th>\n      <td>Li Shi(Mother of Zhao Zhen)</td>\n      <td>李氏(赵祯母)</td>\n      <td>Li Rende</td>\n      <td>李仁德</td>\n      <td>F</td>\n    </tr>\n    <tr>\n      <th>1941</th>\n      <td>Li Shi(Mother of Zhao Zhen)</td>\n      <td>李氏(赵祯母)</td>\n      <td>Zhao Zhen</td>\n      <td>赵祯</td>\n      <td>S</td>\n    </tr>\n    <tr>\n      <th>1942</th>\n      <td>Li Shi(Mother of Zhao Zhen)</td>\n      <td>李氏(赵祯母)</td>\n      <td>Li Yonghe</td>\n      <td>李用和</td>\n      <td>B-</td>\n    </tr>\n    <tr>\n      <th>1943</th>\n      <td>Shi Tingchen</td>\n      <td>施庭臣</td>\n      <td>Shi Yuanran</td>\n      <td>施渊然</td>\n      <td>S</td>\n    </tr>\n    <tr>\n      <th>1944</th>\n      <td>Han Xizai</td>\n      <td>韩熙载</td>\n      <td>Han Guangsi</td>\n      <td>韩光嗣</td>\n      <td>F</td>\n    </tr>\n  </tbody>\n</table>\n<p>625 rows × 5 columns</p>\n</div>"
     },
     "execution_count": 47,
     "metadata": {},
     "output_type": "execute_result"
    }
   ],
   "source": [
    "df_1.drop_duplicates()"
   ]
  },
  {
   "cell_type": "code",
   "execution_count": 48,
   "metadata": {
    "ExecuteTime": {
     "start_time": "2023-04-16T10:07:16.395826Z",
     "end_time": "2023-04-16T10:07:16.699525Z"
    }
   },
   "outputs": [
    {
     "data": {
      "text/plain": "               联系\n姓名  联系           \n丁谓  得到Y的支持      1\n    支持          1\n    遭到Y的反对/攻讦   4\n万俟卨 支持          1\n令狐挻 支持          1\n...            ..\n高若讷 反对/攻讦       1\n    遭到Y的反对/攻讦   1\n鲁宗道 得到Y的支持      1\n黄庭坚 遭到Y的反对/攻讦   1\n黄策  反对/攻讦       1\n\n[272 rows x 1 columns]",
      "text/html": "<div>\n<style scoped>\n    .dataframe tbody tr th:only-of-type {\n        vertical-align: middle;\n    }\n\n    .dataframe tbody tr th {\n        vertical-align: top;\n    }\n\n    .dataframe thead th {\n        text-align: right;\n    }\n</style>\n<table border=\"1\" class=\"dataframe\">\n  <thead>\n    <tr style=\"text-align: right;\">\n      <th></th>\n      <th></th>\n      <th>联系</th>\n    </tr>\n    <tr>\n      <th>姓名</th>\n      <th>联系</th>\n      <th></th>\n    </tr>\n  </thead>\n  <tbody>\n    <tr>\n      <th rowspan=\"3\" valign=\"top\">丁谓</th>\n      <th>得到Y的支持</th>\n      <td>1</td>\n    </tr>\n    <tr>\n      <th>支持</th>\n      <td>1</td>\n    </tr>\n    <tr>\n      <th>遭到Y的反对/攻讦</th>\n      <td>4</td>\n    </tr>\n    <tr>\n      <th>万俟卨</th>\n      <th>支持</th>\n      <td>1</td>\n    </tr>\n    <tr>\n      <th>令狐挻</th>\n      <th>支持</th>\n      <td>1</td>\n    </tr>\n    <tr>\n      <th>...</th>\n      <th>...</th>\n      <td>...</td>\n    </tr>\n    <tr>\n      <th rowspan=\"2\" valign=\"top\">高若讷</th>\n      <th>反对/攻讦</th>\n      <td>1</td>\n    </tr>\n    <tr>\n      <th>遭到Y的反对/攻讦</th>\n      <td>1</td>\n    </tr>\n    <tr>\n      <th>鲁宗道</th>\n      <th>得到Y的支持</th>\n      <td>1</td>\n    </tr>\n    <tr>\n      <th>黄庭坚</th>\n      <th>遭到Y的反对/攻讦</th>\n      <td>1</td>\n    </tr>\n    <tr>\n      <th>黄策</th>\n      <th>反对/攻讦</th>\n      <td>1</td>\n    </tr>\n  </tbody>\n</table>\n<p>272 rows × 1 columns</p>\n</div>"
     },
     "execution_count": 48,
     "metadata": {},
     "output_type": "execute_result"
    }
   ],
   "source": [
    "#统计出每个官员的联系\n",
    "df_2[['姓名','联系']].groupby(['姓名','联系']).agg({'联系':'count'})"
   ]
  },
  {
   "cell_type": "markdown",
   "metadata": {},
   "source": [
    "行转列"
   ]
  },
  {
   "cell_type": "code",
   "execution_count": 49,
   "metadata": {
    "ExecuteTime": {
     "start_time": "2023-04-16T10:07:16.427072Z",
     "end_time": "2023-04-16T10:07:16.699525Z"
    }
   },
   "outputs": [
    {
     "data": {
      "text/plain": "     联系                                 \n联系   不合 反对/攻讦 得到Y的支持   支持 政见趋同 遭到Y的反对/攻讦\n姓名                                      \n丁谓  NaN   NaN    1.0  1.0  NaN       4.0\n万俟卨 NaN   NaN    NaN  1.0  NaN       NaN\n令狐挻 NaN   NaN    NaN  1.0  NaN       NaN\n何执中 NaN   NaN    NaN  NaN  NaN       2.0\n余靖  NaN   NaN    2.0  1.0  2.0       1.0\n..   ..   ...    ...  ...  ...       ...\n高登  NaN   1.0    NaN  1.0  NaN       NaN\n高若讷 NaN   1.0    NaN  NaN  NaN       1.0\n鲁宗道 NaN   NaN    1.0  NaN  NaN       NaN\n黄庭坚 NaN   NaN    NaN  NaN  NaN       1.0\n黄策  NaN   1.0    NaN  NaN  NaN       NaN\n\n[188 rows x 6 columns]",
      "text/html": "<div>\n<style scoped>\n    .dataframe tbody tr th:only-of-type {\n        vertical-align: middle;\n    }\n\n    .dataframe tbody tr th {\n        vertical-align: top;\n    }\n\n    .dataframe thead tr th {\n        text-align: left;\n    }\n\n    .dataframe thead tr:last-of-type th {\n        text-align: right;\n    }\n</style>\n<table border=\"1\" class=\"dataframe\">\n  <thead>\n    <tr>\n      <th></th>\n      <th colspan=\"6\" halign=\"left\">联系</th>\n    </tr>\n    <tr>\n      <th>联系</th>\n      <th>不合</th>\n      <th>反对/攻讦</th>\n      <th>得到Y的支持</th>\n      <th>支持</th>\n      <th>政见趋同</th>\n      <th>遭到Y的反对/攻讦</th>\n    </tr>\n    <tr>\n      <th>姓名</th>\n      <th></th>\n      <th></th>\n      <th></th>\n      <th></th>\n      <th></th>\n      <th></th>\n    </tr>\n  </thead>\n  <tbody>\n    <tr>\n      <th>丁谓</th>\n      <td>NaN</td>\n      <td>NaN</td>\n      <td>1.0</td>\n      <td>1.0</td>\n      <td>NaN</td>\n      <td>4.0</td>\n    </tr>\n    <tr>\n      <th>万俟卨</th>\n      <td>NaN</td>\n      <td>NaN</td>\n      <td>NaN</td>\n      <td>1.0</td>\n      <td>NaN</td>\n      <td>NaN</td>\n    </tr>\n    <tr>\n      <th>令狐挻</th>\n      <td>NaN</td>\n      <td>NaN</td>\n      <td>NaN</td>\n      <td>1.0</td>\n      <td>NaN</td>\n      <td>NaN</td>\n    </tr>\n    <tr>\n      <th>何执中</th>\n      <td>NaN</td>\n      <td>NaN</td>\n      <td>NaN</td>\n      <td>NaN</td>\n      <td>NaN</td>\n      <td>2.0</td>\n    </tr>\n    <tr>\n      <th>余靖</th>\n      <td>NaN</td>\n      <td>NaN</td>\n      <td>2.0</td>\n      <td>1.0</td>\n      <td>2.0</td>\n      <td>1.0</td>\n    </tr>\n    <tr>\n      <th>...</th>\n      <td>...</td>\n      <td>...</td>\n      <td>...</td>\n      <td>...</td>\n      <td>...</td>\n      <td>...</td>\n    </tr>\n    <tr>\n      <th>高登</th>\n      <td>NaN</td>\n      <td>1.0</td>\n      <td>NaN</td>\n      <td>1.0</td>\n      <td>NaN</td>\n      <td>NaN</td>\n    </tr>\n    <tr>\n      <th>高若讷</th>\n      <td>NaN</td>\n      <td>1.0</td>\n      <td>NaN</td>\n      <td>NaN</td>\n      <td>NaN</td>\n      <td>1.0</td>\n    </tr>\n    <tr>\n      <th>鲁宗道</th>\n      <td>NaN</td>\n      <td>NaN</td>\n      <td>1.0</td>\n      <td>NaN</td>\n      <td>NaN</td>\n      <td>NaN</td>\n    </tr>\n    <tr>\n      <th>黄庭坚</th>\n      <td>NaN</td>\n      <td>NaN</td>\n      <td>NaN</td>\n      <td>NaN</td>\n      <td>NaN</td>\n      <td>1.0</td>\n    </tr>\n    <tr>\n      <th>黄策</th>\n      <td>NaN</td>\n      <td>1.0</td>\n      <td>NaN</td>\n      <td>NaN</td>\n      <td>NaN</td>\n      <td>NaN</td>\n    </tr>\n  </tbody>\n</table>\n<p>188 rows × 6 columns</p>\n</div>"
     },
     "execution_count": 49,
     "metadata": {},
     "output_type": "execute_result"
    }
   ],
   "source": [
    "#行转列\n",
    "a = df_2[['姓名','联系']].groupby(['姓名','联系']).agg({'联系':'count'}).unstack()\n",
    "a"
   ]
  },
  {
   "cell_type": "code",
   "execution_count": 50,
   "metadata": {
    "ExecuteTime": {
     "start_time": "2023-04-16T10:07:16.480062Z",
     "end_time": "2023-04-16T10:07:16.886979Z"
    }
   },
   "outputs": [
    {
     "data": {
      "text/plain": "            联系                                                   ...       \\\n姓名          丁谓  万俟卨  令狐挻  何执中   余靖   侯蒙   冯京  刘安上  刘安世 刘氏(赵恒皇后)  ...   韩缜   \n联系                                                               ...        \n不合         NaN  NaN  NaN  NaN  NaN  1.0  NaN  NaN  NaN      NaN  ...  NaN   \n反对/攻讦      NaN  NaN  NaN  NaN  NaN  NaN  NaN  NaN  2.0      1.0  ...  1.0   \n得到Y的支持     1.0  NaN  NaN  NaN  2.0  NaN  NaN  NaN  NaN      NaN  ...  NaN   \n支持         1.0  1.0  1.0  NaN  1.0  NaN  1.0  NaN  NaN      NaN  ...  NaN   \n政见趋同       NaN  NaN  NaN  NaN  2.0  NaN  NaN  1.0  NaN      NaN  ...  NaN   \n遭到Y的反对/攻讦  4.0  NaN  NaN  2.0  1.0  NaN  NaN  NaN  1.0      NaN  ...  NaN   \n\n                                                           \n姓名          马伸  马知节 高氏(赵曙妻)   高琼   高登  高若讷  鲁宗道  黄庭坚   黄策  \n联系                                                         \n不合         NaN  NaN     NaN  NaN  NaN  NaN  NaN  NaN  NaN  \n反对/攻讦      NaN  1.0     1.0  NaN  1.0  1.0  NaN  NaN  1.0  \n得到Y的支持     1.0  NaN     NaN  NaN  NaN  NaN  1.0  NaN  NaN  \n支持         NaN  NaN     1.0  1.0  1.0  NaN  NaN  NaN  NaN  \n政见趋同       NaN  NaN     NaN  NaN  NaN  NaN  NaN  NaN  NaN  \n遭到Y的反对/攻讦  NaN  NaN     NaN  NaN  NaN  1.0  NaN  1.0  NaN  \n\n[6 rows x 188 columns]",
      "text/html": "<div>\n<style scoped>\n    .dataframe tbody tr th:only-of-type {\n        vertical-align: middle;\n    }\n\n    .dataframe tbody tr th {\n        vertical-align: top;\n    }\n\n    .dataframe thead tr th {\n        text-align: left;\n    }\n\n    .dataframe thead tr:last-of-type th {\n        text-align: right;\n    }\n</style>\n<table border=\"1\" class=\"dataframe\">\n  <thead>\n    <tr>\n      <th></th>\n      <th colspan=\"21\" halign=\"left\">联系</th>\n    </tr>\n    <tr>\n      <th>姓名</th>\n      <th>丁谓</th>\n      <th>万俟卨</th>\n      <th>令狐挻</th>\n      <th>何执中</th>\n      <th>余靖</th>\n      <th>侯蒙</th>\n      <th>冯京</th>\n      <th>刘安上</th>\n      <th>刘安世</th>\n      <th>刘氏(赵恒皇后)</th>\n      <th>...</th>\n      <th>韩缜</th>\n      <th>马伸</th>\n      <th>马知节</th>\n      <th>高氏(赵曙妻)</th>\n      <th>高琼</th>\n      <th>高登</th>\n      <th>高若讷</th>\n      <th>鲁宗道</th>\n      <th>黄庭坚</th>\n      <th>黄策</th>\n    </tr>\n    <tr>\n      <th>联系</th>\n      <th></th>\n      <th></th>\n      <th></th>\n      <th></th>\n      <th></th>\n      <th></th>\n      <th></th>\n      <th></th>\n      <th></th>\n      <th></th>\n      <th></th>\n      <th></th>\n      <th></th>\n      <th></th>\n      <th></th>\n      <th></th>\n      <th></th>\n      <th></th>\n      <th></th>\n      <th></th>\n      <th></th>\n    </tr>\n  </thead>\n  <tbody>\n    <tr>\n      <th>不合</th>\n      <td>NaN</td>\n      <td>NaN</td>\n      <td>NaN</td>\n      <td>NaN</td>\n      <td>NaN</td>\n      <td>1.0</td>\n      <td>NaN</td>\n      <td>NaN</td>\n      <td>NaN</td>\n      <td>NaN</td>\n      <td>...</td>\n      <td>NaN</td>\n      <td>NaN</td>\n      <td>NaN</td>\n      <td>NaN</td>\n      <td>NaN</td>\n      <td>NaN</td>\n      <td>NaN</td>\n      <td>NaN</td>\n      <td>NaN</td>\n      <td>NaN</td>\n    </tr>\n    <tr>\n      <th>反对/攻讦</th>\n      <td>NaN</td>\n      <td>NaN</td>\n      <td>NaN</td>\n      <td>NaN</td>\n      <td>NaN</td>\n      <td>NaN</td>\n      <td>NaN</td>\n      <td>NaN</td>\n      <td>2.0</td>\n      <td>1.0</td>\n      <td>...</td>\n      <td>1.0</td>\n      <td>NaN</td>\n      <td>1.0</td>\n      <td>1.0</td>\n      <td>NaN</td>\n      <td>1.0</td>\n      <td>1.0</td>\n      <td>NaN</td>\n      <td>NaN</td>\n      <td>1.0</td>\n    </tr>\n    <tr>\n      <th>得到Y的支持</th>\n      <td>1.0</td>\n      <td>NaN</td>\n      <td>NaN</td>\n      <td>NaN</td>\n      <td>2.0</td>\n      <td>NaN</td>\n      <td>NaN</td>\n      <td>NaN</td>\n      <td>NaN</td>\n      <td>NaN</td>\n      <td>...</td>\n      <td>NaN</td>\n      <td>1.0</td>\n      <td>NaN</td>\n      <td>NaN</td>\n      <td>NaN</td>\n      <td>NaN</td>\n      <td>NaN</td>\n      <td>1.0</td>\n      <td>NaN</td>\n      <td>NaN</td>\n    </tr>\n    <tr>\n      <th>支持</th>\n      <td>1.0</td>\n      <td>1.0</td>\n      <td>1.0</td>\n      <td>NaN</td>\n      <td>1.0</td>\n      <td>NaN</td>\n      <td>1.0</td>\n      <td>NaN</td>\n      <td>NaN</td>\n      <td>NaN</td>\n      <td>...</td>\n      <td>NaN</td>\n      <td>NaN</td>\n      <td>NaN</td>\n      <td>1.0</td>\n      <td>1.0</td>\n      <td>1.0</td>\n      <td>NaN</td>\n      <td>NaN</td>\n      <td>NaN</td>\n      <td>NaN</td>\n    </tr>\n    <tr>\n      <th>政见趋同</th>\n      <td>NaN</td>\n      <td>NaN</td>\n      <td>NaN</td>\n      <td>NaN</td>\n      <td>2.0</td>\n      <td>NaN</td>\n      <td>NaN</td>\n      <td>1.0</td>\n      <td>NaN</td>\n      <td>NaN</td>\n      <td>...</td>\n      <td>NaN</td>\n      <td>NaN</td>\n      <td>NaN</td>\n      <td>NaN</td>\n      <td>NaN</td>\n      <td>NaN</td>\n      <td>NaN</td>\n      <td>NaN</td>\n      <td>NaN</td>\n      <td>NaN</td>\n    </tr>\n    <tr>\n      <th>遭到Y的反对/攻讦</th>\n      <td>4.0</td>\n      <td>NaN</td>\n      <td>NaN</td>\n      <td>2.0</td>\n      <td>1.0</td>\n      <td>NaN</td>\n      <td>NaN</td>\n      <td>NaN</td>\n      <td>1.0</td>\n      <td>NaN</td>\n      <td>...</td>\n      <td>NaN</td>\n      <td>NaN</td>\n      <td>NaN</td>\n      <td>NaN</td>\n      <td>NaN</td>\n      <td>NaN</td>\n      <td>1.0</td>\n      <td>NaN</td>\n      <td>1.0</td>\n      <td>NaN</td>\n    </tr>\n  </tbody>\n</table>\n<p>6 rows × 188 columns</p>\n</div>"
     },
     "execution_count": 50,
     "metadata": {},
     "output_type": "execute_result"
    }
   ],
   "source": [
    "#level参数修改，列名转换\n",
    "df_2[['姓名','联系']].groupby(['姓名','联系']).agg({'联系':'count'}).unstack(level= 0)\n"
   ]
  },
  {
   "cell_type": "markdown",
   "metadata": {},
   "source": [
    "## 取同时是官员的亲戚"
   ]
  },
  {
   "cell_type": "code",
   "execution_count": 51,
   "metadata": {
    "ExecuteTime": {
     "start_time": "2023-04-16T10:07:16.527677Z",
     "end_time": "2023-04-16T10:07:16.886979Z"
    }
   },
   "outputs": [
    {
     "data": {
      "text/plain": "{'丁谓',\n '万俟卨',\n '令狐挻',\n '何执中',\n '余靖',\n '侯蒙',\n '冯京',\n '刘安上',\n '刘安世',\n '刘氏(赵恒皇后)',\n '刘筠',\n '刘錡',\n '卢多逊',\n '句龙如渊',\n '叶祖洽',\n '司马光',\n '向子諲',\n '向宗良',\n '吕大防',\n '吕夷简',\n '吕惠卿',\n '吕诲',\n '吕颐浩',\n '吴充',\n '吴懋',\n '吴玠',\n '周嘉正',\n '周敦颐',\n '唐介',\n '唐重',\n '夏竦',\n '孔道辅',\n '孙固',\n '孙览',\n '孟彦卿',\n '孟氏(赵煦妻)',\n '安惇',\n '安扶',\n '宋乔年',\n '宗泽',\n '寇准',\n '富弼',\n '尹洙',\n '岳飞',\n '师骥',\n '常安民',\n '常秩',\n '张九成',\n '张商英',\n '张士逊',\n '张康国',\n '张扩',\n '张知白',\n '张载',\n '张逊',\n '张邵',\n '彭思永',\n '彭汝砺',\n '施庭臣',\n '施昌言',\n '晏殊',\n '曹修古',\n '曹利用',\n '曾布',\n '曾肇',\n '朱胜非',\n '李光',\n '李处耘',\n '李宾王',\n '李师中',\n '李弥大',\n '李氏(赵祯母)',\n '李渭',\n '李纲',\n '李迪',\n '李邦彦',\n '李邴',\n '杜衍',\n '杨偕',\n '杨徽之',\n '杨愿',\n '杨畏',\n '杨覃',\n '柳瑊',\n '柴禹锡',\n '江褒',\n '汪伯彦',\n '汪藻',\n '沈季长',\n '沈辽',\n '洪皓',\n '温益',\n '潘美',\n '潘良贵',\n '狄青',\n '王公彦',\n '王安石',\n '王安礼',\n '王尧臣',\n '王旦',\n '王显',\n '王珪',\n '王畴',\n '王祖道',\n '王纶',\n '王钦若',\n '王震',\n '王黼',\n '皮公弼',\n '石介',\n '祖无择',\n '种师道',\n '秦桧',\n '秦熺',\n '程琳',\n '程瑀',\n '程颐',\n '章惇',\n '章綡',\n '章縡',\n '胡则',\n '胡宗愈',\n '胡宪',\n '胡宿',\n '胡瑗',\n '胥偃',\n '苏安世',\n '苏舜钦',\n '苏轼',\n '苏辙',\n '苗傅',\n '范仲淹',\n '范同',\n '范如圭',\n '范宗尹',\n '范濬',\n '范琼',\n '范祖禹',\n '范纯仁',\n '范纯礼',\n '范镇',\n '萧服',\n '蔡承禧',\n '薛奎',\n '薛弼',\n '许将',\n '贾昌朝',\n '贾蕃',\n '赵匡胤',\n '赵抃',\n '赵普',\n '赵槩',\n '赵玭',\n '赵祯',\n '赵顼',\n '赵鼎',\n '邓洵武',\n '邓肃',\n '邢焕',\n '邵伯温',\n '邹浩',\n '郑侠',\n '郑刚中',\n '郑居中',\n '郑獬',\n '郑雍',\n '郭知章',\n '郭贽',\n '陈尧佐',\n '陈戬',\n '陈执中',\n '陈次升',\n '陈瓘',\n '陈若拙',\n '韩世忠',\n '韩忠彦',\n '韩熙载',\n '韩琦',\n '韩缜',\n '马伸',\n '马知节',\n '高氏(赵曙妻)',\n '高琼',\n '高登',\n '高若讷',\n '鲁宗道',\n '黄庭坚',\n '黄策'}"
     },
     "execution_count": 51,
     "metadata": {},
     "output_type": "execute_result"
    }
   ],
   "source": [
    "#取所有官员的集合\n",
    "offier= set(df2['姓名'])\n",
    "offier"
   ]
  },
  {
   "cell_type": "code",
   "execution_count": 52,
   "metadata": {
    "ExecuteTime": {
     "start_time": "2023-04-16T10:07:16.543302Z",
     "end_time": "2023-04-16T10:07:16.886979Z"
    }
   },
   "outputs": [
    {
     "data": {
      "text/plain": "{'丁D',\n '丁玘',\n '丁珙',\n '丁珝',\n '丁珷',\n '丁说',\n '丁诵',\n '丁谏',\n '丁颢',\n '万俟湜',\n '万俟虎',\n '何佾',\n '何君平',\n '何志同',\n '余仲询',\n '余伯庄',\n '余叔英',\n '余庆',\n '冯式',\n '冯询',\n '冯谌',\n '刘C',\n '刘仲武',\n '刘伯英',\n '刘光远',\n '刘克臣',\n '刘尧仁',\n '刘尧佐',\n '刘尧勛',\n '刘延庆',\n '刘弢',\n '刘益',\n '刘美',\n '刘航',\n '刘诚',\n '刘诰',\n '刘谠',\n '刘通',\n '刘麟',\n '勾龙似',\n '勾龙佃',\n '勾龙僎',\n '卢亿',\n '卢宽',\n '卢察',\n '卢雍',\n '叶祖谊',\n '司马康',\n '司马旦',\n '司马池',\n '向宗回',\n '向宗明',\n '向洺',\n '向浯',\n '向涪',\n '向澹',\n '向经',\n '吕公孺',\n '吕公弼',\n '吕公着',\n '吕公绰',\n '吕升卿',\n '吕和卿',\n '吕大临',\n '吕大忠',\n '吕大钧',\n '吕寅伯',\n '吕当',\n '吕抗',\n '吕搢',\n '吕摭',\n '吕擢',\n '吕景山',\n '吕渊',\n '吕温卿',\n '吕璹',\n '吕由庚',\n '吕由诚',\n '吕荀',\n '吕蒙亨',\n '吕蕡',\n '吕谅卿',\n '吴京',\n '吴安持',\n '吴安诗',\n '吴待问',\n '吴愈',\n '吴扆',\n '吴拱',\n '吴揔',\n '吴撝',\n '吴方',\n '吴璘',\n '吴育',\n '吴诰',\n '周寿',\n '周彦先',\n '周焘',\n '周茂先',\n '周辅成',\n '周述',\n '唐义问',\n '唐之问',\n '唐嘉问',\n '唐待问',\n '唐拱',\n '唐淑问',\n '夏安期',\n '夏承皓',\n '孔勗',\n '孔宗翰',\n '孔陶',\n '孙亿',\n '孙朴',\n '孙竣',\n '孙觉',\n '孟在',\n '孟忠厚',\n '安焘',\n '安邠',\n '安邡',\n '安邦',\n '安郊',\n '宋充国',\n '宋升',\n '宋昪',\n '宗夔',\n '宗沃',\n '宗舜卿',\n '宗颖',\n '寇湘',\n '寇相',\n '富绍京',\n '富绍庭',\n '富绍隆',\n '富言',\n '尹仲宣',\n '尹朴',\n '尹构',\n '尹湘',\n '尹源',\n '岳云',\n '岳和',\n '岳雷',\n '岳霆',\n '岳震',\n '岳霖',\n '岳飜',\n '常同',\n '常构',\n '常立',\n '张伯厚',\n '张伸',\n '张几',\n '张升卿',\n '张友正',\n '张友直',\n '张唐英',\n '张孝忠',\n '张孝曾',\n '张孝览',\n '张幼厚',\n '张康伯',\n '张廷朗',\n '张戬',\n '张敏中',\n '张文蔚',\n '张祁',\n '张虚中',\n '张迪',\n '张郯',\n '彭A',\n '彭卫',\n '彭应求',\n '彭汝发',\n '彭汝方',\n '彭汝霖',\n '彭衍',\n '施渊然',\n '施述',\n '施逊',\n '施邈',\n '晏固',\n '晏成裕',\n '晏明远',\n '晏知止',\n '晏颖',\n '曹修睦',\n '曹修礼',\n '曹渊',\n '曹谏',\n '曾F',\n '曾巩',\n '曾布',\n '曾怡',\n '曾易占',\n '曾纁',\n '曾纡',\n '曾统',\n '曾续',\n '曾肇',\n '朱商卿',\n '朱夏卿',\n '李K',\n '李严老',\n '李仁德',\n '李价',\n '李伉',\n '李修',\n '李处畴',\n '李夔',\n '李孟传',\n '李孟博',\n '李孟坚',\n '李孟珍',\n '李宗之',\n '李弥正',\n '李弥纶',\n '李弥逊',\n '李彦纯',\n '李徽之',\n '李护',\n '李撰',\n '李昂之',\n '李柬之',\n '李氏(刘航妻)',\n '李浦',\n '李滨老',\n '李瑑',\n '李用和',\n '李称',\n '李紃',\n '李纬',\n '李纯中',\n '李纶',\n '李经',\n '李继和',\n '李继恂',\n '李继隆',\n '李缜',\n '李肇',\n '李补之',\n '李迈',\n '李邦献',\n '李邺',\n '李高',\n '杜訢',\n '杜诜',\n '杜遂良',\n '杨守庆',\n '杨宿',\n '杨征',\n '杨忱',\n '杨慥',\n '杨文友',\n '杨文敏',\n '杨澄',\n '杨郁',\n '柳滋',\n '柳珷',\n '柴宗亮',\n '江汝明',\n '江褎',\n '汪召嗣',\n '汪召锡',\n '汪恪',\n '汪恬',\n '汪憺',\n '汪谷',\n '沈扶',\n '沈播',\n '沈迈',\n '沈遘',\n '沈鏻',\n '沈铢',\n '沈锡',\n '洪彦先',\n '洪迈',\n '洪适',\n '洪遵',\n '温万石',\n '潘惟固',\n '潘惟德',\n '潘惟正',\n '潘惟清',\n '潘惟熙',\n '潘璘',\n '潘祖仁',\n '潘良佐',\n '潘良瑗',\n '潘良翰',\n '潘良能',\n '狄咏',\n '狄普',\n '狄谘',\n '王从',\n '王从益',\n '王仰',\n '王仲?',\n '王仲修',\n '王仲华',\n '王仲山',\n '王仲嶷',\n '王仲端',\n '王克',\n '王冲',\n '王准',\n '王博文',\n '王发',\n '王同老',\n '王坦',\n '王孝先',\n '王安仁',\n '王安国',\n '王安石',\n '王安礼',\n '王希范',\n '王希逸',\n '王庆之',\n '王懿',\n '王旭',\n '王毅',\n '王渎',\n '王滂',\n '王瓘',\n '王益',\n '王祐',\n '王祜',\n '王端',\n '王素',\n '王縠',\n '王纯臣',\n '王绰',\n '王通',\n '王闳孚',\n '王隽孚',\n '王雍',\n '王雱',\n '皮仲容',\n '皮彦仲',\n '石丙',\n '石会',\n '石合',\n '石师愚',\n '祖士安',\n '祖无颇',\n '种师中',\n '秦城',\n '秦埙',\n '秦敏学',\n '秦梓',\n '程D',\n '程元白',\n '程嗣弼',\n '程嗣恭',\n '程嗣隆',\n '程拊',\n '程柟',\n '程珦',\n '程琬',\n '程端中',\n '程端悫',\n '程颢',\n '章俞',\n '章择',\n '章持',\n '章援',\n '章楶',\n '章綖',\n '章綡',\n '章縡',\n '章訢',\n '胡?',\n '胡亶',\n '胡安老',\n '胡宗回',\n '胡宗尧',\n '胡宗炎',\n '胡宗质',\n '胡志宁',\n '胡志康',\n '胡承师',\n '胡楷',\n '胡淮',\n '胡湘',\n '胡端修',\n '胡讷',\n '胥元衡',\n '苏京',\n '苏咸熙',\n '苏嘉',\n '苏梲',\n '苏泌',\n '苏洵',\n '苏液',\n '苏熹',\n '苏绅',\n '苏耆',\n '苏舜元',\n '苏轼',\n '苏辙',\n '苏过',\n '苏迈',\n '苏迟',\n '苏迨',\n '苏适',\n '苏逈',\n '苏駉',\n '苗履',\n '范仲淹',\n '范仲温',\n '范冲',\n '范墉',\n '范宗伋',\n '范度',\n '范念兹',\n '范念德',\n '范念祖',\n '范昱',\n '范榛',\n '范正国',\n '范正己',\n '范正平',\n '范正思',\n '范正民',\n '范正路',\n '范温',\n '范百之',\n '范百嘉',\n '范百岁',\n '范百揆',\n '范百虑',\n '范纯仁',\n '范纯礼',\n '范纯祐',\n '范纯粹',\n '范舜举',\n '范鎡',\n '范锴',\n '萧汝奭',\n '蔡元导',\n '蔡居厚',\n '薛化光',\n '薛叔渊',\n '薛塾',\n '薛强立',\n '薛直孺',\n '薛睦',\n '贾公亶',\n '贾公直',\n '贾公立',\n '贾圭',\n '贾昌期',\n '贾昌衡',\n '贾昌龄',\n '贾注',\n '贾章',\n '贾青',\n '赵?',\n '赵亚才',\n '赵仅',\n '赵似',\n '赵佖',\n '赵佾',\n '赵俊',\n '赵俣',\n '赵偲',\n '赵光济',\n '赵光赞',\n '赵回',\n '赵固',\n '赵安易',\n '赵屼',\n '赵干',\n '赵廷美',\n '赵弘殷',\n '赵德昭',\n '赵德林',\n '赵德秀',\n '赵德芳',\n '赵恒',\n '赵扬',\n '赵承',\n '赵承宗',\n '赵承煦',\n '赵昉',\n '赵昕',\n '赵曙',\n '赵曦',\n '赵汾',\n '赵炅',\n '赵祐',\n '赵祯',\n '赵谧',\n '赵頵',\n '赵顼',\n '赵颢',\n '邓南夫',\n '邓昼',\n '邓洵仁',\n '邓绾',\n '邓雍',\n '邢宗贤',\n '邵傅',\n '邵博',\n '邵溥',\n '邵雍',\n '邹况',\n '邹戬',\n '邹柄',\n '邹栩',\n '邹洞',\n '邹相',\n '郑久中',\n '郑亿年',\n '郑侃',\n '郑侨年',\n '郑卞',\n '郑晕',\n '郑有彰',\n '郑桥年',\n '郑汝石',\n '郑纡',\n '郑脩年',\n '郑雱',\n '郭昭允',\n '郭昭升',\n '郭昭度',\n '郭昭用',\n '郭昭著',\n '郭知微',\n '郭询',\n '陈世儒',\n '陈偁',\n '陈博古',\n '陈尧叟',\n '陈尧咨',\n '陈希正',\n '陈恕',\n '陈执古',\n '陈映',\n '陈正同',\n '陈正汇',\n '陈正由',\n '陈珹',\n '陈省华',\n '陈述古',\n '陈道古',\n '陈钦祚',\n '陈鼎',\n '陈鼐',\n '韩亮',\n '韩亿',\n '韩光嗣',\n '韩嘉彦',\n '韩国华',\n '韩宗恕',\n '韩宗武',\n '韩庆',\n '韩彦古',\n '韩彦朴',\n '韩彦直',\n '韩彦质',\n '韩忠彦',\n '韩治',\n '韩浩',\n '韩澄',\n '韩澡',\n '韩琚',\n '韩琦',\n '韩端彦',\n '韩粹彦',\n '韩纬',\n '韩纯彦',\n '韩纲',\n '韩绛',\n '韩维',\n '韩综',\n '韩缅',\n '马全义',\n '马洵美',\n '高士权',\n '高士林',\n '高士逊',\n '高干',\n '高怀諲',\n '高继勋',\n '高继和',\n '高继忠',\n '高遵甫',\n '鲁宗颜',\n '鲁有功',\n '鲁有立',\n '黄仲熊',\n '黄叔达',\n '黄大临',\n '黄庶',\n '黄彦',\n '黄相',\n '黄纵',\n '黄维',\n '黄缨'}"
     },
     "execution_count": 52,
     "metadata": {},
     "output_type": "execute_result"
    }
   ],
   "source": [
    "#取所有亲戚的集合\n",
    "kin =set(df1['亲戚姓名'])\n",
    "kin"
   ]
  },
  {
   "cell_type": "code",
   "execution_count": 53,
   "metadata": {
    "ExecuteTime": {
     "start_time": "2023-04-16T10:07:16.558925Z",
     "end_time": "2023-04-16T10:07:16.886979Z"
    }
   },
   "outputs": [
    {
     "data": {
      "text/plain": "['章縡',\n '韩琦',\n '王安礼',\n '章綡',\n '范纯礼',\n '赵祯',\n '苏轼',\n '曾布',\n '范仲淹',\n '韩忠彦',\n '曾肇',\n '王安石',\n '范纯仁',\n '赵顼',\n '苏辙']"
     },
     "execution_count": 53,
     "metadata": {},
     "output_type": "execute_result"
    }
   ],
   "source": [
    "kin_offier=offier&kin\n",
    "list1 = list(kin_offier)\n",
    "list1"
   ]
  },
  {
   "cell_type": "code",
   "execution_count": 54,
   "metadata": {
    "ExecuteTime": {
     "start_time": "2023-04-16T10:07:16.574545Z",
     "end_time": "2023-04-16T10:07:16.886979Z"
    }
   },
   "outputs": [],
   "source": [
    "df_1.drop_duplicates(inplace=True)\n"
   ]
  },
  {
   "cell_type": "code",
   "execution_count": 55,
   "metadata": {
    "ExecuteTime": {
     "start_time": "2023-04-16T10:07:16.605787Z",
     "end_time": "2023-04-16T10:07:16.886979Z"
    }
   },
   "outputs": [
    {
     "data": {
      "text/plain": "                             Name       姓名      Kin Name 亲戚姓名 Kinship\n228                   Fan Chunren      范纯仁    Fan Chunli  范纯礼      B-\n264                   Fan Chunren      范纯仁  Fan Zhongyan  范仲淹       F\n309                    Fan Chunli      范纯礼   Fan Chunren  范纯仁      B+\n311                    Fan Chunli      范纯礼  Fan Zhongyan  范仲淹       F\n346                        Han Qi       韩琦  Han Zhongyan  韩忠彦      S1\n385                  Han Zhongyan      韩忠彦        Han Qi   韩琦       F\n706                        Su Zhe       苏辙        Su Shi   苏轼      B+\n818                       Zeng Bu       曾布     Zeng Zhao   曾肇      B-\n850                     Wang Anli      王安礼    Wang Anshi  王安石      B+\n852                    Wang Anshi      王安石     Wang Anli  王安礼      B-\n1039                    Zhang Zai       章縡   Zhang Liang   章綡       B\n1065                       Su Shi       苏轼        Su Zhe   苏辙      B-\n1166                    Zeng Zhao       曾肇       Zeng Bu   曾布      B+\n1226                  Zhang Liang       章綡     Zhang Zai   章縡       B\n1431                 Fan Zhongyan      范仲淹   Fan Chunren  范纯仁      S2\n1438                 Fan Zhongyan      范仲淹    Fan Chunli  范纯礼      S3\n1832    Gao Shi(Wife of Zhao Shu)  高氏(赵曙妻)       Zhao Xu   赵顼       S\n1941  Li Shi(Mother of Zhao Zhen)  李氏(赵祯母)     Zhao Zhen   赵祯       S",
      "text/html": "<div>\n<style scoped>\n    .dataframe tbody tr th:only-of-type {\n        vertical-align: middle;\n    }\n\n    .dataframe tbody tr th {\n        vertical-align: top;\n    }\n\n    .dataframe thead th {\n        text-align: right;\n    }\n</style>\n<table border=\"1\" class=\"dataframe\">\n  <thead>\n    <tr style=\"text-align: right;\">\n      <th></th>\n      <th>Name</th>\n      <th>姓名</th>\n      <th>Kin Name</th>\n      <th>亲戚姓名</th>\n      <th>Kinship</th>\n    </tr>\n  </thead>\n  <tbody>\n    <tr>\n      <th>228</th>\n      <td>Fan Chunren</td>\n      <td>范纯仁</td>\n      <td>Fan Chunli</td>\n      <td>范纯礼</td>\n      <td>B-</td>\n    </tr>\n    <tr>\n      <th>264</th>\n      <td>Fan Chunren</td>\n      <td>范纯仁</td>\n      <td>Fan Zhongyan</td>\n      <td>范仲淹</td>\n      <td>F</td>\n    </tr>\n    <tr>\n      <th>309</th>\n      <td>Fan Chunli</td>\n      <td>范纯礼</td>\n      <td>Fan Chunren</td>\n      <td>范纯仁</td>\n      <td>B+</td>\n    </tr>\n    <tr>\n      <th>311</th>\n      <td>Fan Chunli</td>\n      <td>范纯礼</td>\n      <td>Fan Zhongyan</td>\n      <td>范仲淹</td>\n      <td>F</td>\n    </tr>\n    <tr>\n      <th>346</th>\n      <td>Han Qi</td>\n      <td>韩琦</td>\n      <td>Han Zhongyan</td>\n      <td>韩忠彦</td>\n      <td>S1</td>\n    </tr>\n    <tr>\n      <th>385</th>\n      <td>Han Zhongyan</td>\n      <td>韩忠彦</td>\n      <td>Han Qi</td>\n      <td>韩琦</td>\n      <td>F</td>\n    </tr>\n    <tr>\n      <th>706</th>\n      <td>Su Zhe</td>\n      <td>苏辙</td>\n      <td>Su Shi</td>\n      <td>苏轼</td>\n      <td>B+</td>\n    </tr>\n    <tr>\n      <th>818</th>\n      <td>Zeng Bu</td>\n      <td>曾布</td>\n      <td>Zeng Zhao</td>\n      <td>曾肇</td>\n      <td>B-</td>\n    </tr>\n    <tr>\n      <th>850</th>\n      <td>Wang Anli</td>\n      <td>王安礼</td>\n      <td>Wang Anshi</td>\n      <td>王安石</td>\n      <td>B+</td>\n    </tr>\n    <tr>\n      <th>852</th>\n      <td>Wang Anshi</td>\n      <td>王安石</td>\n      <td>Wang Anli</td>\n      <td>王安礼</td>\n      <td>B-</td>\n    </tr>\n    <tr>\n      <th>1039</th>\n      <td>Zhang Zai</td>\n      <td>章縡</td>\n      <td>Zhang Liang</td>\n      <td>章綡</td>\n      <td>B</td>\n    </tr>\n    <tr>\n      <th>1065</th>\n      <td>Su Shi</td>\n      <td>苏轼</td>\n      <td>Su Zhe</td>\n      <td>苏辙</td>\n      <td>B-</td>\n    </tr>\n    <tr>\n      <th>1166</th>\n      <td>Zeng Zhao</td>\n      <td>曾肇</td>\n      <td>Zeng Bu</td>\n      <td>曾布</td>\n      <td>B+</td>\n    </tr>\n    <tr>\n      <th>1226</th>\n      <td>Zhang Liang</td>\n      <td>章綡</td>\n      <td>Zhang Zai</td>\n      <td>章縡</td>\n      <td>B</td>\n    </tr>\n    <tr>\n      <th>1431</th>\n      <td>Fan Zhongyan</td>\n      <td>范仲淹</td>\n      <td>Fan Chunren</td>\n      <td>范纯仁</td>\n      <td>S2</td>\n    </tr>\n    <tr>\n      <th>1438</th>\n      <td>Fan Zhongyan</td>\n      <td>范仲淹</td>\n      <td>Fan Chunli</td>\n      <td>范纯礼</td>\n      <td>S3</td>\n    </tr>\n    <tr>\n      <th>1832</th>\n      <td>Gao Shi(Wife of Zhao Shu)</td>\n      <td>高氏(赵曙妻)</td>\n      <td>Zhao Xu</td>\n      <td>赵顼</td>\n      <td>S</td>\n    </tr>\n    <tr>\n      <th>1941</th>\n      <td>Li Shi(Mother of Zhao Zhen)</td>\n      <td>李氏(赵祯母)</td>\n      <td>Zhao Zhen</td>\n      <td>赵祯</td>\n      <td>S</td>\n    </tr>\n  </tbody>\n</table>\n</div>"
     },
     "execution_count": 55,
     "metadata": {},
     "output_type": "execute_result"
    }
   ],
   "source": [
    "#统计亲戚中官员数量\n",
    "df_1.query('亲戚姓名==\"曾布\" or 亲戚姓名==\"曾肇\" or  亲戚姓名==\"王安石\" or 亲戚姓名==\"王安礼\" or 亲戚姓名==\"章綡\" or 亲戚姓名==\"章縡\" or 亲戚姓名==\"苏轼\" or 亲戚姓名==\"苏辙\" or 亲戚姓名==\"范仲淹\" or 亲戚姓名==\"范纯仁\" or 亲戚姓名==\"范纯礼\" or 亲戚姓名==\"赵祯\" or 亲戚姓名==\"赵顼\" or 亲戚姓名==\"韩忠彦\" or 亲戚姓名==\"韩琦\"')"
   ]
  },
  {
   "cell_type": "code",
   "execution_count": 56,
   "metadata": {
    "ExecuteTime": {
     "start_time": "2023-04-16T10:07:16.621409Z",
     "end_time": "2023-04-16T10:07:16.886979Z"
    }
   },
   "outputs": [
    {
     "data": {
      "text/plain": "                             Name       姓名      Kin Name 亲戚姓名 Kinship\n228                   Fan Chunren      范纯仁    Fan Chunli  范纯礼      B-\n264                   Fan Chunren      范纯仁  Fan Zhongyan  范仲淹       F\n309                    Fan Chunli      范纯礼   Fan Chunren  范纯仁      B+\n311                    Fan Chunli      范纯礼  Fan Zhongyan  范仲淹       F\n346                        Han Qi       韩琦  Han Zhongyan  韩忠彦      S1\n385                  Han Zhongyan      韩忠彦        Han Qi   韩琦       F\n706                        Su Zhe       苏辙        Su Shi   苏轼      B+\n818                       Zeng Bu       曾布     Zeng Zhao   曾肇      B-\n850                     Wang Anli      王安礼    Wang Anshi  王安石      B+\n852                    Wang Anshi      王安石     Wang Anli  王安礼      B-\n1039                    Zhang Zai       章縡   Zhang Liang   章綡       B\n1065                       Su Shi       苏轼        Su Zhe   苏辙      B-\n1166                    Zeng Zhao       曾肇       Zeng Bu   曾布      B+\n1226                  Zhang Liang       章綡     Zhang Zai   章縡       B\n1431                 Fan Zhongyan      范仲淹   Fan Chunren  范纯仁      S2\n1438                 Fan Zhongyan      范仲淹    Fan Chunli  范纯礼      S3\n1832    Gao Shi(Wife of Zhao Shu)  高氏(赵曙妻)       Zhao Xu   赵顼       S\n1941  Li Shi(Mother of Zhao Zhen)  李氏(赵祯母)     Zhao Zhen   赵祯       S",
      "text/html": "<div>\n<style scoped>\n    .dataframe tbody tr th:only-of-type {\n        vertical-align: middle;\n    }\n\n    .dataframe tbody tr th {\n        vertical-align: top;\n    }\n\n    .dataframe thead th {\n        text-align: right;\n    }\n</style>\n<table border=\"1\" class=\"dataframe\">\n  <thead>\n    <tr style=\"text-align: right;\">\n      <th></th>\n      <th>Name</th>\n      <th>姓名</th>\n      <th>Kin Name</th>\n      <th>亲戚姓名</th>\n      <th>Kinship</th>\n    </tr>\n  </thead>\n  <tbody>\n    <tr>\n      <th>228</th>\n      <td>Fan Chunren</td>\n      <td>范纯仁</td>\n      <td>Fan Chunli</td>\n      <td>范纯礼</td>\n      <td>B-</td>\n    </tr>\n    <tr>\n      <th>264</th>\n      <td>Fan Chunren</td>\n      <td>范纯仁</td>\n      <td>Fan Zhongyan</td>\n      <td>范仲淹</td>\n      <td>F</td>\n    </tr>\n    <tr>\n      <th>309</th>\n      <td>Fan Chunli</td>\n      <td>范纯礼</td>\n      <td>Fan Chunren</td>\n      <td>范纯仁</td>\n      <td>B+</td>\n    </tr>\n    <tr>\n      <th>311</th>\n      <td>Fan Chunli</td>\n      <td>范纯礼</td>\n      <td>Fan Zhongyan</td>\n      <td>范仲淹</td>\n      <td>F</td>\n    </tr>\n    <tr>\n      <th>346</th>\n      <td>Han Qi</td>\n      <td>韩琦</td>\n      <td>Han Zhongyan</td>\n      <td>韩忠彦</td>\n      <td>S1</td>\n    </tr>\n    <tr>\n      <th>385</th>\n      <td>Han Zhongyan</td>\n      <td>韩忠彦</td>\n      <td>Han Qi</td>\n      <td>韩琦</td>\n      <td>F</td>\n    </tr>\n    <tr>\n      <th>706</th>\n      <td>Su Zhe</td>\n      <td>苏辙</td>\n      <td>Su Shi</td>\n      <td>苏轼</td>\n      <td>B+</td>\n    </tr>\n    <tr>\n      <th>818</th>\n      <td>Zeng Bu</td>\n      <td>曾布</td>\n      <td>Zeng Zhao</td>\n      <td>曾肇</td>\n      <td>B-</td>\n    </tr>\n    <tr>\n      <th>850</th>\n      <td>Wang Anli</td>\n      <td>王安礼</td>\n      <td>Wang Anshi</td>\n      <td>王安石</td>\n      <td>B+</td>\n    </tr>\n    <tr>\n      <th>852</th>\n      <td>Wang Anshi</td>\n      <td>王安石</td>\n      <td>Wang Anli</td>\n      <td>王安礼</td>\n      <td>B-</td>\n    </tr>\n    <tr>\n      <th>1039</th>\n      <td>Zhang Zai</td>\n      <td>章縡</td>\n      <td>Zhang Liang</td>\n      <td>章綡</td>\n      <td>B</td>\n    </tr>\n    <tr>\n      <th>1065</th>\n      <td>Su Shi</td>\n      <td>苏轼</td>\n      <td>Su Zhe</td>\n      <td>苏辙</td>\n      <td>B-</td>\n    </tr>\n    <tr>\n      <th>1166</th>\n      <td>Zeng Zhao</td>\n      <td>曾肇</td>\n      <td>Zeng Bu</td>\n      <td>曾布</td>\n      <td>B+</td>\n    </tr>\n    <tr>\n      <th>1226</th>\n      <td>Zhang Liang</td>\n      <td>章綡</td>\n      <td>Zhang Zai</td>\n      <td>章縡</td>\n      <td>B</td>\n    </tr>\n    <tr>\n      <th>1431</th>\n      <td>Fan Zhongyan</td>\n      <td>范仲淹</td>\n      <td>Fan Chunren</td>\n      <td>范纯仁</td>\n      <td>S2</td>\n    </tr>\n    <tr>\n      <th>1438</th>\n      <td>Fan Zhongyan</td>\n      <td>范仲淹</td>\n      <td>Fan Chunli</td>\n      <td>范纯礼</td>\n      <td>S3</td>\n    </tr>\n    <tr>\n      <th>1832</th>\n      <td>Gao Shi(Wife of Zhao Shu)</td>\n      <td>高氏(赵曙妻)</td>\n      <td>Zhao Xu</td>\n      <td>赵顼</td>\n      <td>S</td>\n    </tr>\n    <tr>\n      <th>1941</th>\n      <td>Li Shi(Mother of Zhao Zhen)</td>\n      <td>李氏(赵祯母)</td>\n      <td>Zhao Zhen</td>\n      <td>赵祯</td>\n      <td>S</td>\n    </tr>\n  </tbody>\n</table>\n</div>"
     },
     "execution_count": 56,
     "metadata": {},
     "output_type": "execute_result"
    }
   ],
   "source": [
    "#另一种方法\n",
    "df_1[df_1['亲戚姓名'].isin(list1)]"
   ]
  },
  {
   "cell_type": "code",
   "execution_count": 57,
   "metadata": {
    "ExecuteTime": {
     "start_time": "2023-04-16T10:07:16.668273Z",
     "end_time": "2023-04-16T10:07:17.199395Z"
    }
   },
   "outputs": [
    {
     "data": {
      "text/plain": "                             Name       姓名      Kin Name 亲戚姓名 Kinship\n228                   Fan Chunren      范纯仁    Fan Chunli  范纯礼      B-\n264                   Fan Chunren      范纯仁  Fan Zhongyan  范仲淹       F\n309                    Fan Chunli      范纯礼   Fan Chunren  范纯仁      B+\n311                    Fan Chunli      范纯礼  Fan Zhongyan  范仲淹       F\n346                        Han Qi       韩琦  Han Zhongyan  韩忠彦      S1\n385                  Han Zhongyan      韩忠彦        Han Qi   韩琦       F\n706                        Su Zhe       苏辙        Su Shi   苏轼      B+\n818                       Zeng Bu       曾布     Zeng Zhao   曾肇      B-\n850                     Wang Anli      王安礼    Wang Anshi  王安石      B+\n852                    Wang Anshi      王安石     Wang Anli  王安礼      B-\n1039                    Zhang Zai       章縡   Zhang Liang   章綡       B\n1065                       Su Shi       苏轼        Su Zhe   苏辙      B-\n1166                    Zeng Zhao       曾肇       Zeng Bu   曾布      B+\n1226                  Zhang Liang       章綡     Zhang Zai   章縡       B\n1431                 Fan Zhongyan      范仲淹   Fan Chunren  范纯仁      S2\n1438                 Fan Zhongyan      范仲淹    Fan Chunli  范纯礼      S3\n1832    Gao Shi(Wife of Zhao Shu)  高氏(赵曙妻)       Zhao Xu   赵顼       S\n1941  Li Shi(Mother of Zhao Zhen)  李氏(赵祯母)     Zhao Zhen   赵祯       S",
      "text/html": "<div>\n<style scoped>\n    .dataframe tbody tr th:only-of-type {\n        vertical-align: middle;\n    }\n\n    .dataframe tbody tr th {\n        vertical-align: top;\n    }\n\n    .dataframe thead th {\n        text-align: right;\n    }\n</style>\n<table border=\"1\" class=\"dataframe\">\n  <thead>\n    <tr style=\"text-align: right;\">\n      <th></th>\n      <th>Name</th>\n      <th>姓名</th>\n      <th>Kin Name</th>\n      <th>亲戚姓名</th>\n      <th>Kinship</th>\n    </tr>\n  </thead>\n  <tbody>\n    <tr>\n      <th>228</th>\n      <td>Fan Chunren</td>\n      <td>范纯仁</td>\n      <td>Fan Chunli</td>\n      <td>范纯礼</td>\n      <td>B-</td>\n    </tr>\n    <tr>\n      <th>264</th>\n      <td>Fan Chunren</td>\n      <td>范纯仁</td>\n      <td>Fan Zhongyan</td>\n      <td>范仲淹</td>\n      <td>F</td>\n    </tr>\n    <tr>\n      <th>309</th>\n      <td>Fan Chunli</td>\n      <td>范纯礼</td>\n      <td>Fan Chunren</td>\n      <td>范纯仁</td>\n      <td>B+</td>\n    </tr>\n    <tr>\n      <th>311</th>\n      <td>Fan Chunli</td>\n      <td>范纯礼</td>\n      <td>Fan Zhongyan</td>\n      <td>范仲淹</td>\n      <td>F</td>\n    </tr>\n    <tr>\n      <th>346</th>\n      <td>Han Qi</td>\n      <td>韩琦</td>\n      <td>Han Zhongyan</td>\n      <td>韩忠彦</td>\n      <td>S1</td>\n    </tr>\n    <tr>\n      <th>385</th>\n      <td>Han Zhongyan</td>\n      <td>韩忠彦</td>\n      <td>Han Qi</td>\n      <td>韩琦</td>\n      <td>F</td>\n    </tr>\n    <tr>\n      <th>706</th>\n      <td>Su Zhe</td>\n      <td>苏辙</td>\n      <td>Su Shi</td>\n      <td>苏轼</td>\n      <td>B+</td>\n    </tr>\n    <tr>\n      <th>818</th>\n      <td>Zeng Bu</td>\n      <td>曾布</td>\n      <td>Zeng Zhao</td>\n      <td>曾肇</td>\n      <td>B-</td>\n    </tr>\n    <tr>\n      <th>850</th>\n      <td>Wang Anli</td>\n      <td>王安礼</td>\n      <td>Wang Anshi</td>\n      <td>王安石</td>\n      <td>B+</td>\n    </tr>\n    <tr>\n      <th>852</th>\n      <td>Wang Anshi</td>\n      <td>王安石</td>\n      <td>Wang Anli</td>\n      <td>王安礼</td>\n      <td>B-</td>\n    </tr>\n    <tr>\n      <th>1039</th>\n      <td>Zhang Zai</td>\n      <td>章縡</td>\n      <td>Zhang Liang</td>\n      <td>章綡</td>\n      <td>B</td>\n    </tr>\n    <tr>\n      <th>1065</th>\n      <td>Su Shi</td>\n      <td>苏轼</td>\n      <td>Su Zhe</td>\n      <td>苏辙</td>\n      <td>B-</td>\n    </tr>\n    <tr>\n      <th>1166</th>\n      <td>Zeng Zhao</td>\n      <td>曾肇</td>\n      <td>Zeng Bu</td>\n      <td>曾布</td>\n      <td>B+</td>\n    </tr>\n    <tr>\n      <th>1226</th>\n      <td>Zhang Liang</td>\n      <td>章綡</td>\n      <td>Zhang Zai</td>\n      <td>章縡</td>\n      <td>B</td>\n    </tr>\n    <tr>\n      <th>1431</th>\n      <td>Fan Zhongyan</td>\n      <td>范仲淹</td>\n      <td>Fan Chunren</td>\n      <td>范纯仁</td>\n      <td>S2</td>\n    </tr>\n    <tr>\n      <th>1438</th>\n      <td>Fan Zhongyan</td>\n      <td>范仲淹</td>\n      <td>Fan Chunli</td>\n      <td>范纯礼</td>\n      <td>S3</td>\n    </tr>\n    <tr>\n      <th>1832</th>\n      <td>Gao Shi(Wife of Zhao Shu)</td>\n      <td>高氏(赵曙妻)</td>\n      <td>Zhao Xu</td>\n      <td>赵顼</td>\n      <td>S</td>\n    </tr>\n    <tr>\n      <th>1941</th>\n      <td>Li Shi(Mother of Zhao Zhen)</td>\n      <td>李氏(赵祯母)</td>\n      <td>Zhao Zhen</td>\n      <td>赵祯</td>\n      <td>S</td>\n    </tr>\n  </tbody>\n</table>\n</div>"
     },
     "execution_count": 57,
     "metadata": {},
     "output_type": "execute_result"
    }
   ],
   "source": [
    "#另一种方法\n",
    "abc = df_1.query('亲戚姓名 in @kin_offier')\n",
    "abc"
   ]
  },
  {
   "cell_type": "code",
   "execution_count": 58,
   "metadata": {
    "ExecuteTime": {
     "start_time": "2023-04-16T10:07:16.683895Z",
     "end_time": "2023-04-16T10:07:17.355648Z"
    }
   },
   "outputs": [
    {
     "data": {
      "text/plain": "      联系                                  亲戚为官数\n联系    不合 反对/攻讦 得到Y的支持   支持 政见趋同 遭到Y的反对/攻讦      \n姓名                                             \n丁谓   0.0   0.0    1.0  1.0  0.0       4.0   0.0\n万俟卨  0.0   0.0    0.0  1.0  0.0       0.0   0.0\n令狐挻  0.0   0.0    0.0  1.0  0.0       0.0   0.0\n何执中  0.0   0.0    0.0  0.0  0.0       2.0   0.0\n余靖   0.0   0.0    2.0  1.0  2.0       1.0   0.0\n..   ...   ...    ...  ...  ...       ...   ...\n高登   0.0   1.0    0.0  1.0  0.0       0.0   0.0\n高若讷  0.0   1.0    0.0  0.0  0.0       1.0   0.0\n鲁宗道  0.0   0.0    1.0  0.0  0.0       0.0   0.0\n黄庭坚  0.0   0.0    0.0  0.0  0.0       1.0   0.0\n黄策   0.0   1.0    0.0  0.0  0.0       0.0   0.0\n\n[188 rows x 7 columns]",
      "text/html": "<div>\n<style scoped>\n    .dataframe tbody tr th:only-of-type {\n        vertical-align: middle;\n    }\n\n    .dataframe tbody tr th {\n        vertical-align: top;\n    }\n\n    .dataframe thead tr th {\n        text-align: left;\n    }\n\n    .dataframe thead tr:last-of-type th {\n        text-align: right;\n    }\n</style>\n<table border=\"1\" class=\"dataframe\">\n  <thead>\n    <tr>\n      <th></th>\n      <th colspan=\"6\" halign=\"left\">联系</th>\n      <th>亲戚为官数</th>\n    </tr>\n    <tr>\n      <th>联系</th>\n      <th>不合</th>\n      <th>反对/攻讦</th>\n      <th>得到Y的支持</th>\n      <th>支持</th>\n      <th>政见趋同</th>\n      <th>遭到Y的反对/攻讦</th>\n      <th></th>\n    </tr>\n    <tr>\n      <th>姓名</th>\n      <th></th>\n      <th></th>\n      <th></th>\n      <th></th>\n      <th></th>\n      <th></th>\n      <th></th>\n    </tr>\n  </thead>\n  <tbody>\n    <tr>\n      <th>丁谓</th>\n      <td>0.0</td>\n      <td>0.0</td>\n      <td>1.0</td>\n      <td>1.0</td>\n      <td>0.0</td>\n      <td>4.0</td>\n      <td>0.0</td>\n    </tr>\n    <tr>\n      <th>万俟卨</th>\n      <td>0.0</td>\n      <td>0.0</td>\n      <td>0.0</td>\n      <td>1.0</td>\n      <td>0.0</td>\n      <td>0.0</td>\n      <td>0.0</td>\n    </tr>\n    <tr>\n      <th>令狐挻</th>\n      <td>0.0</td>\n      <td>0.0</td>\n      <td>0.0</td>\n      <td>1.0</td>\n      <td>0.0</td>\n      <td>0.0</td>\n      <td>0.0</td>\n    </tr>\n    <tr>\n      <th>何执中</th>\n      <td>0.0</td>\n      <td>0.0</td>\n      <td>0.0</td>\n      <td>0.0</td>\n      <td>0.0</td>\n      <td>2.0</td>\n      <td>0.0</td>\n    </tr>\n    <tr>\n      <th>余靖</th>\n      <td>0.0</td>\n      <td>0.0</td>\n      <td>2.0</td>\n      <td>1.0</td>\n      <td>2.0</td>\n      <td>1.0</td>\n      <td>0.0</td>\n    </tr>\n    <tr>\n      <th>...</th>\n      <td>...</td>\n      <td>...</td>\n      <td>...</td>\n      <td>...</td>\n      <td>...</td>\n      <td>...</td>\n      <td>...</td>\n    </tr>\n    <tr>\n      <th>高登</th>\n      <td>0.0</td>\n      <td>1.0</td>\n      <td>0.0</td>\n      <td>1.0</td>\n      <td>0.0</td>\n      <td>0.0</td>\n      <td>0.0</td>\n    </tr>\n    <tr>\n      <th>高若讷</th>\n      <td>0.0</td>\n      <td>1.0</td>\n      <td>0.0</td>\n      <td>0.0</td>\n      <td>0.0</td>\n      <td>1.0</td>\n      <td>0.0</td>\n    </tr>\n    <tr>\n      <th>鲁宗道</th>\n      <td>0.0</td>\n      <td>0.0</td>\n      <td>1.0</td>\n      <td>0.0</td>\n      <td>0.0</td>\n      <td>0.0</td>\n      <td>0.0</td>\n    </tr>\n    <tr>\n      <th>黄庭坚</th>\n      <td>0.0</td>\n      <td>0.0</td>\n      <td>0.0</td>\n      <td>0.0</td>\n      <td>0.0</td>\n      <td>1.0</td>\n      <td>0.0</td>\n    </tr>\n    <tr>\n      <th>黄策</th>\n      <td>0.0</td>\n      <td>1.0</td>\n      <td>0.0</td>\n      <td>0.0</td>\n      <td>0.0</td>\n      <td>0.0</td>\n      <td>0.0</td>\n    </tr>\n  </tbody>\n</table>\n<p>188 rows × 7 columns</p>\n</div>"
     },
     "execution_count": 58,
     "metadata": {},
     "output_type": "execute_result"
    }
   ],
   "source": [
    "#修改表格并保存\n",
    "a['亲戚为官数'] =abc[['亲戚姓名','姓名']].groupby('姓名').count()\n",
    "a.fillna(0,inplace = True)\n",
    "a.to_csv('./修改后的csv文件.csv',encoding='utf_8_sig')\n",
    "a"
   ]
  },
  {
   "cell_type": "code",
   "execution_count": 62,
   "metadata": {
    "ExecuteTime": {
     "start_time": "2023-04-16T10:08:52.103874Z",
     "end_time": "2023-04-16T10:08:52.166325Z"
    }
   },
   "outputs": [
    {
     "data": {
      "text/plain": "     不合  反对/攻讦  得到Y的支持  支持  政见趋同  遭到Y的反对/攻讦  Unnamed: 7\n姓名                                                     \n丁谓    0      0       1   1     0          4           0\n万俟卨   0      0       0   1     0          0           0\n令狐挻   0      0       0   1     0          0           0\n何执中   0      0       0   0     0          2           0\n余靖    0      0       2   1     2          1           0\n..   ..    ...     ...  ..   ...        ...         ...\n高登    0      1       0   1     0          0           0\n高若讷   0      1       0   0     0          1           0\n鲁宗道   0      0       1   0     0          0           0\n黄庭坚   0      0       0   0     0          1           0\n黄策    0      1       0   0     0          0           0\n\n[188 rows x 7 columns]",
      "text/html": "<div>\n<style scoped>\n    .dataframe tbody tr th:only-of-type {\n        vertical-align: middle;\n    }\n\n    .dataframe tbody tr th {\n        vertical-align: top;\n    }\n\n    .dataframe thead th {\n        text-align: right;\n    }\n</style>\n<table border=\"1\" class=\"dataframe\">\n  <thead>\n    <tr style=\"text-align: right;\">\n      <th></th>\n      <th>不合</th>\n      <th>反对/攻讦</th>\n      <th>得到Y的支持</th>\n      <th>支持</th>\n      <th>政见趋同</th>\n      <th>遭到Y的反对/攻讦</th>\n      <th>Unnamed: 7</th>\n    </tr>\n    <tr>\n      <th>姓名</th>\n      <th></th>\n      <th></th>\n      <th></th>\n      <th></th>\n      <th></th>\n      <th></th>\n      <th></th>\n    </tr>\n  </thead>\n  <tbody>\n    <tr>\n      <th>丁谓</th>\n      <td>0</td>\n      <td>0</td>\n      <td>1</td>\n      <td>1</td>\n      <td>0</td>\n      <td>4</td>\n      <td>0</td>\n    </tr>\n    <tr>\n      <th>万俟卨</th>\n      <td>0</td>\n      <td>0</td>\n      <td>0</td>\n      <td>1</td>\n      <td>0</td>\n      <td>0</td>\n      <td>0</td>\n    </tr>\n    <tr>\n      <th>令狐挻</th>\n      <td>0</td>\n      <td>0</td>\n      <td>0</td>\n      <td>1</td>\n      <td>0</td>\n      <td>0</td>\n      <td>0</td>\n    </tr>\n    <tr>\n      <th>何执中</th>\n      <td>0</td>\n      <td>0</td>\n      <td>0</td>\n      <td>0</td>\n      <td>0</td>\n      <td>2</td>\n      <td>0</td>\n    </tr>\n    <tr>\n      <th>余靖</th>\n      <td>0</td>\n      <td>0</td>\n      <td>2</td>\n      <td>1</td>\n      <td>2</td>\n      <td>1</td>\n      <td>0</td>\n    </tr>\n    <tr>\n      <th>...</th>\n      <td>...</td>\n      <td>...</td>\n      <td>...</td>\n      <td>...</td>\n      <td>...</td>\n      <td>...</td>\n      <td>...</td>\n    </tr>\n    <tr>\n      <th>高登</th>\n      <td>0</td>\n      <td>1</td>\n      <td>0</td>\n      <td>1</td>\n      <td>0</td>\n      <td>0</td>\n      <td>0</td>\n    </tr>\n    <tr>\n      <th>高若讷</th>\n      <td>0</td>\n      <td>1</td>\n      <td>0</td>\n      <td>0</td>\n      <td>0</td>\n      <td>1</td>\n      <td>0</td>\n    </tr>\n    <tr>\n      <th>鲁宗道</th>\n      <td>0</td>\n      <td>0</td>\n      <td>1</td>\n      <td>0</td>\n      <td>0</td>\n      <td>0</td>\n      <td>0</td>\n    </tr>\n    <tr>\n      <th>黄庭坚</th>\n      <td>0</td>\n      <td>0</td>\n      <td>0</td>\n      <td>0</td>\n      <td>0</td>\n      <td>1</td>\n      <td>0</td>\n    </tr>\n    <tr>\n      <th>黄策</th>\n      <td>0</td>\n      <td>1</td>\n      <td>0</td>\n      <td>0</td>\n      <td>0</td>\n      <td>0</td>\n      <td>0</td>\n    </tr>\n  </tbody>\n</table>\n<p>188 rows × 7 columns</p>\n</div>"
     },
     "execution_count": 62,
     "metadata": {},
     "output_type": "execute_result"
    }
   ],
   "source": [
    "#读取刚刚保存的表格\n",
    "dfdf = pd.read_csv(r'./修改后的csv文件.csv',index_col='姓名')\n",
    "dfdf"
   ]
  },
  {
   "cell_type": "code",
   "execution_count": 63,
   "metadata": {
    "ExecuteTime": {
     "start_time": "2023-04-16T10:08:52.810128Z",
     "end_time": "2023-04-16T10:08:54.583561Z"
    }
   },
   "outputs": [],
   "source": [
    "from  sklearn.cluster import KMeans"
   ]
  },
  {
   "cell_type": "code",
   "execution_count": 64,
   "metadata": {
    "ExecuteTime": {
     "start_time": "2023-04-16T10:08:54.593446Z",
     "end_time": "2023-04-16T10:08:54.643935Z"
    }
   },
   "outputs": [
    {
     "name": "stdout",
     "output_type": "stream",
     "text": [
      "[1 1 1 1 1 1 1 1 1 1 1 1 1 1 1 0 1 1 1 1 1 1 1 1 1 1 1 1 1 1 1 1 1 1 1 1 1\n",
      " 1 1 1 1 1 1 1 1 1 1 1 1 1 1 1 1 1 1 1 1 1 1 1 1 1 1 1 1 1 1 1 1 1 1 1 1 1\n",
      " 1 1 1 1 1 1 1 1 1 1 1 1 1 1 1 1 1 1 1 1 1 1 0 1 1 1 1 1 1 1 1 1 1 1 1 1 1\n",
      " 1 0 1 1 1 1 0 1 1 1 1 1 1 1 1 1 1 1 1 1 1 1 1 1 1 1 1 1 1 1 1 1 1 1 1 1 1\n",
      " 1 1 1 1 1 1 1 1 1 1 1 1 1 1 1 1 1 1 1 1 1 1 1 1 1 1 1 1 1 1 1 1 1 1 1 1 1\n",
      " 1 1 1]\n"
     ]
    }
   ],
   "source": [
    "print(KMeans(n_clusters=2,random_state=0).fit(dfdf).labels_)"
   ]
  },
  {
   "cell_type": "code",
   "execution_count": 65,
   "metadata": {
    "ExecuteTime": {
     "start_time": "2023-04-16T10:08:54.628299Z",
     "end_time": "2023-04-16T10:08:54.737646Z"
    }
   },
   "outputs": [
    {
     "data": {
      "text/plain": "     不合  反对/攻讦  得到Y的支持  支持  政见趋同  遭到Y的反对/攻讦  Unnamed: 7  聚类标签\n姓名                                                           \n丁谓    0      0       1   1     0          4           0     1\n万俟卨   0      0       0   1     0          0           0     1\n令狐挻   0      0       0   1     0          0           0     1\n何执中   0      0       0   0     0          2           0     1\n余靖    0      0       2   1     2          1           0     1\n..   ..    ...     ...  ..   ...        ...         ...   ...\n高登    0      1       0   1     0          0           0     1\n高若讷   0      1       0   0     0          1           0     1\n鲁宗道   0      0       1   0     0          0           0     1\n黄庭坚   0      0       0   0     0          1           0     1\n黄策    0      1       0   0     0          0           0     1\n\n[188 rows x 8 columns]",
      "text/html": "<div>\n<style scoped>\n    .dataframe tbody tr th:only-of-type {\n        vertical-align: middle;\n    }\n\n    .dataframe tbody tr th {\n        vertical-align: top;\n    }\n\n    .dataframe thead th {\n        text-align: right;\n    }\n</style>\n<table border=\"1\" class=\"dataframe\">\n  <thead>\n    <tr style=\"text-align: right;\">\n      <th></th>\n      <th>不合</th>\n      <th>反对/攻讦</th>\n      <th>得到Y的支持</th>\n      <th>支持</th>\n      <th>政见趋同</th>\n      <th>遭到Y的反对/攻讦</th>\n      <th>Unnamed: 7</th>\n      <th>聚类标签</th>\n    </tr>\n    <tr>\n      <th>姓名</th>\n      <th></th>\n      <th></th>\n      <th></th>\n      <th></th>\n      <th></th>\n      <th></th>\n      <th></th>\n      <th></th>\n    </tr>\n  </thead>\n  <tbody>\n    <tr>\n      <th>丁谓</th>\n      <td>0</td>\n      <td>0</td>\n      <td>1</td>\n      <td>1</td>\n      <td>0</td>\n      <td>4</td>\n      <td>0</td>\n      <td>1</td>\n    </tr>\n    <tr>\n      <th>万俟卨</th>\n      <td>0</td>\n      <td>0</td>\n      <td>0</td>\n      <td>1</td>\n      <td>0</td>\n      <td>0</td>\n      <td>0</td>\n      <td>1</td>\n    </tr>\n    <tr>\n      <th>令狐挻</th>\n      <td>0</td>\n      <td>0</td>\n      <td>0</td>\n      <td>1</td>\n      <td>0</td>\n      <td>0</td>\n      <td>0</td>\n      <td>1</td>\n    </tr>\n    <tr>\n      <th>何执中</th>\n      <td>0</td>\n      <td>0</td>\n      <td>0</td>\n      <td>0</td>\n      <td>0</td>\n      <td>2</td>\n      <td>0</td>\n      <td>1</td>\n    </tr>\n    <tr>\n      <th>余靖</th>\n      <td>0</td>\n      <td>0</td>\n      <td>2</td>\n      <td>1</td>\n      <td>2</td>\n      <td>1</td>\n      <td>0</td>\n      <td>1</td>\n    </tr>\n    <tr>\n      <th>...</th>\n      <td>...</td>\n      <td>...</td>\n      <td>...</td>\n      <td>...</td>\n      <td>...</td>\n      <td>...</td>\n      <td>...</td>\n      <td>...</td>\n    </tr>\n    <tr>\n      <th>高登</th>\n      <td>0</td>\n      <td>1</td>\n      <td>0</td>\n      <td>1</td>\n      <td>0</td>\n      <td>0</td>\n      <td>0</td>\n      <td>1</td>\n    </tr>\n    <tr>\n      <th>高若讷</th>\n      <td>0</td>\n      <td>1</td>\n      <td>0</td>\n      <td>0</td>\n      <td>0</td>\n      <td>1</td>\n      <td>0</td>\n      <td>1</td>\n    </tr>\n    <tr>\n      <th>鲁宗道</th>\n      <td>0</td>\n      <td>0</td>\n      <td>1</td>\n      <td>0</td>\n      <td>0</td>\n      <td>0</td>\n      <td>0</td>\n      <td>1</td>\n    </tr>\n    <tr>\n      <th>黄庭坚</th>\n      <td>0</td>\n      <td>0</td>\n      <td>0</td>\n      <td>0</td>\n      <td>0</td>\n      <td>1</td>\n      <td>0</td>\n      <td>1</td>\n    </tr>\n    <tr>\n      <th>黄策</th>\n      <td>0</td>\n      <td>1</td>\n      <td>0</td>\n      <td>0</td>\n      <td>0</td>\n      <td>0</td>\n      <td>0</td>\n      <td>1</td>\n    </tr>\n  </tbody>\n</table>\n<p>188 rows × 8 columns</p>\n</div>"
     },
     "execution_count": 65,
     "metadata": {},
     "output_type": "execute_result"
    }
   ],
   "source": [
    "#给聚类定义标签\n",
    "dfdf['聚类标签'] = KMeans(n_clusters=2,random_state=0).fit(dfdf).labels_\n",
    "dfdf"
   ]
  },
  {
   "cell_type": "code",
   "execution_count": 66,
   "metadata": {
    "ExecuteTime": {
     "start_time": "2023-04-16T10:08:54.675163Z",
     "end_time": "2023-04-16T10:08:54.737646Z"
    }
   },
   "outputs": [
    {
     "data": {
      "text/plain": "     不合  反对/攻讦  得到Y的支持  支持  政见趋同  遭到Y的反对/攻讦  Unnamed: 7  聚类标签\n姓名                                                           \n司马光   2      2      10   0     0          7           0     2\n王安石   5      0       5   1     1          9           0     2\n章惇    1      1       8   2     0         15           0     2",
      "text/html": "<div>\n<style scoped>\n    .dataframe tbody tr th:only-of-type {\n        vertical-align: middle;\n    }\n\n    .dataframe tbody tr th {\n        vertical-align: top;\n    }\n\n    .dataframe thead th {\n        text-align: right;\n    }\n</style>\n<table border=\"1\" class=\"dataframe\">\n  <thead>\n    <tr style=\"text-align: right;\">\n      <th></th>\n      <th>不合</th>\n      <th>反对/攻讦</th>\n      <th>得到Y的支持</th>\n      <th>支持</th>\n      <th>政见趋同</th>\n      <th>遭到Y的反对/攻讦</th>\n      <th>Unnamed: 7</th>\n      <th>聚类标签</th>\n    </tr>\n    <tr>\n      <th>姓名</th>\n      <th></th>\n      <th></th>\n      <th></th>\n      <th></th>\n      <th></th>\n      <th></th>\n      <th></th>\n      <th></th>\n    </tr>\n  </thead>\n  <tbody>\n    <tr>\n      <th>司马光</th>\n      <td>2</td>\n      <td>2</td>\n      <td>10</td>\n      <td>0</td>\n      <td>0</td>\n      <td>7</td>\n      <td>0</td>\n      <td>2</td>\n    </tr>\n    <tr>\n      <th>王安石</th>\n      <td>5</td>\n      <td>0</td>\n      <td>5</td>\n      <td>1</td>\n      <td>1</td>\n      <td>9</td>\n      <td>0</td>\n      <td>2</td>\n    </tr>\n    <tr>\n      <th>章惇</th>\n      <td>1</td>\n      <td>1</td>\n      <td>8</td>\n      <td>2</td>\n      <td>0</td>\n      <td>15</td>\n      <td>0</td>\n      <td>2</td>\n    </tr>\n  </tbody>\n</table>\n</div>"
     },
     "execution_count": 66,
     "metadata": {},
     "output_type": "execute_result"
    }
   ],
   "source": [
    "#尝试分成多组\n",
    "dfdf['聚类标签'] = KMeans(n_clusters=4,random_state=0).fit(dfdf).labels_\n",
    "dfdf.query(\"聚类标签 == 2\")"
   ]
  },
  {
   "cell_type": "code",
   "execution_count": 67,
   "metadata": {
    "ExecuteTime": {
     "start_time": "2023-04-16T10:08:54.753268Z",
     "end_time": "2023-04-16T10:08:54.812552Z"
    }
   },
   "outputs": [
    {
     "data": {
      "text/plain": "     得到Y的支持  支持  政见趋同  反对/攻讦  遭到Y的反对/攻讦  不合  Unnamed: 7  聚类标签\n姓名                                                           \n丁谓        1   1     0      0          4   0           0     0\n万俟卨       0   1     0      0          0   0           0     0\n令狐挻       0   1     0      0          0   0           0     0\n何执中       0   0     0      0          2   0           0     0\n余靖        2   1     2      0          1   0           0     0\n..      ...  ..   ...    ...        ...  ..         ...   ...\n高登        0   1     0      1          0   0           0     0\n高若讷       0   0     0      1          1   0           0     0\n鲁宗道       1   0     0      0          0   0           0     0\n黄庭坚       0   0     0      0          1   0           0     0\n黄策        0   0     0      1          0   0           0     0\n\n[188 rows x 8 columns]",
      "text/html": "<div>\n<style scoped>\n    .dataframe tbody tr th:only-of-type {\n        vertical-align: middle;\n    }\n\n    .dataframe tbody tr th {\n        vertical-align: top;\n    }\n\n    .dataframe thead th {\n        text-align: right;\n    }\n</style>\n<table border=\"1\" class=\"dataframe\">\n  <thead>\n    <tr style=\"text-align: right;\">\n      <th></th>\n      <th>得到Y的支持</th>\n      <th>支持</th>\n      <th>政见趋同</th>\n      <th>反对/攻讦</th>\n      <th>遭到Y的反对/攻讦</th>\n      <th>不合</th>\n      <th>Unnamed: 7</th>\n      <th>聚类标签</th>\n    </tr>\n    <tr>\n      <th>姓名</th>\n      <th></th>\n      <th></th>\n      <th></th>\n      <th></th>\n      <th></th>\n      <th></th>\n      <th></th>\n      <th></th>\n    </tr>\n  </thead>\n  <tbody>\n    <tr>\n      <th>丁谓</th>\n      <td>1</td>\n      <td>1</td>\n      <td>0</td>\n      <td>0</td>\n      <td>4</td>\n      <td>0</td>\n      <td>0</td>\n      <td>0</td>\n    </tr>\n    <tr>\n      <th>万俟卨</th>\n      <td>0</td>\n      <td>1</td>\n      <td>0</td>\n      <td>0</td>\n      <td>0</td>\n      <td>0</td>\n      <td>0</td>\n      <td>0</td>\n    </tr>\n    <tr>\n      <th>令狐挻</th>\n      <td>0</td>\n      <td>1</td>\n      <td>0</td>\n      <td>0</td>\n      <td>0</td>\n      <td>0</td>\n      <td>0</td>\n      <td>0</td>\n    </tr>\n    <tr>\n      <th>何执中</th>\n      <td>0</td>\n      <td>0</td>\n      <td>0</td>\n      <td>0</td>\n      <td>2</td>\n      <td>0</td>\n      <td>0</td>\n      <td>0</td>\n    </tr>\n    <tr>\n      <th>余靖</th>\n      <td>2</td>\n      <td>1</td>\n      <td>2</td>\n      <td>0</td>\n      <td>1</td>\n      <td>0</td>\n      <td>0</td>\n      <td>0</td>\n    </tr>\n    <tr>\n      <th>...</th>\n      <td>...</td>\n      <td>...</td>\n      <td>...</td>\n      <td>...</td>\n      <td>...</td>\n      <td>...</td>\n      <td>...</td>\n      <td>...</td>\n    </tr>\n    <tr>\n      <th>高登</th>\n      <td>0</td>\n      <td>1</td>\n      <td>0</td>\n      <td>1</td>\n      <td>0</td>\n      <td>0</td>\n      <td>0</td>\n      <td>0</td>\n    </tr>\n    <tr>\n      <th>高若讷</th>\n      <td>0</td>\n      <td>0</td>\n      <td>0</td>\n      <td>1</td>\n      <td>1</td>\n      <td>0</td>\n      <td>0</td>\n      <td>0</td>\n    </tr>\n    <tr>\n      <th>鲁宗道</th>\n      <td>1</td>\n      <td>0</td>\n      <td>0</td>\n      <td>0</td>\n      <td>0</td>\n      <td>0</td>\n      <td>0</td>\n      <td>0</td>\n    </tr>\n    <tr>\n      <th>黄庭坚</th>\n      <td>0</td>\n      <td>0</td>\n      <td>0</td>\n      <td>0</td>\n      <td>1</td>\n      <td>0</td>\n      <td>0</td>\n      <td>0</td>\n    </tr>\n    <tr>\n      <th>黄策</th>\n      <td>0</td>\n      <td>0</td>\n      <td>0</td>\n      <td>1</td>\n      <td>0</td>\n      <td>0</td>\n      <td>0</td>\n      <td>0</td>\n    </tr>\n  </tbody>\n</table>\n<p>188 rows × 8 columns</p>\n</div>"
     },
     "execution_count": 67,
     "metadata": {},
     "output_type": "execute_result"
    }
   ],
   "source": [
    "data1 =dfdf[['得到Y的支持','支持','政见趋同','反对/攻讦','遭到Y的反对/攻讦','不合','Unnamed: 7','聚类标签']]\n",
    "data1 =dfdf[['得到Y的支持','支持','政见趋同','反对/攻讦','遭到Y的反对/攻讦','不合','Unnamed: 7','聚类标签']]\n",
    "data1"
   ]
  }
 ],
 "metadata": {
  "kernelspec": {
   "display_name": "Python 3 (ipykernel)",
   "language": "python",
   "name": "python3"
  },
  "language_info": {
   "codemirror_mode": {
    "name": "ipython",
    "version": 3
   },
   "file_extension": ".py",
   "mimetype": "text/x-python",
   "name": "python",
   "nbconvert_exporter": "python",
   "pygments_lexer": "ipython3",
   "version": "3.9.7"
  }
 },
 "nbformat": 4,
 "nbformat_minor": 1
}
