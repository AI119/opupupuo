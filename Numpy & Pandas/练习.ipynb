{
 "cells": [
  {
   "cell_type": "code",
   "execution_count": null,
   "metadata": {
    "collapsed": true,
    "ExecuteTime": {
     "start_time": "2023-04-08T16:30:18.336176Z",
     "end_time": "2023-04-08T16:30:18.367668Z"
    },
    "pycharm": {
     "is_executing": true
    }
   },
   "outputs": [],
   "source": [
    "import pandas as pd\n",
    "\n",
    "data = pd.DataFrame({'A': [1, 2, 3, 4], 'B': [5, 6, 7, 8], 'C': [9, 10, 11, 12]},\n",
    "                    index=[['a', 'a', 'b', 'b'], [1, 2, 1, 2]])\n",
    "print(data)\n",
    "print(data.loc['a'])  # 输出a层级的所有数据\n",
    "print(data.loc[('a', 1)])  # 输出(a,1)这个位置的数据\n",
    "print(data.loc['a':'b', 'B'])  # 输出a到b层级的B列数据\n"
   ]
  },
  {
   "cell_type": "code",
   "execution_count": 3,
   "outputs": [
    {
     "name": "stdout",
     "output_type": "stream",
     "text": [
      "     A  B   C\n",
      "b 1  3  7  11\n"
     ]
    }
   ],
   "source": [
    "import pandas as pd\n",
    "\n",
    "data = pd.DataFrame({'A': [1, 2, 3, 4], 'B': [5, 6, 7, 8], 'C': [9, 10, 11, 12]},\n",
    "                    index=[['a', 'a', 'b', 'b'], [1, 2, 1, 2]])\n",
    "\n",
    "def condition(row):\n",
    "    return row['A'] > 2 and row['B'] < 8\n",
    "\n",
    "print(data.loc[data.apply(condition, axis=1)])  # 输出符合条件的行数据"
   ],
   "metadata": {
    "collapsed": false,
    "ExecuteTime": {
     "start_time": "2023-04-08T15:59:12.579744Z",
     "end_time": "2023-04-08T15:59:12.629446Z"
    }
   }
  },
  {
   "cell_type": "code",
   "execution_count": 11,
   "outputs": [
    {
     "data": {
      "text/plain": "            ymd bWendu yWendu tianqi fengxiang fengli  aqi aqiInfo  aqiLevel\n0    2018-01-01     3℃    -6℃   晴~多云       东北风   1-2级   59       良         2\n1    2018-01-02     2℃    -5℃   阴~多云       东北风   1-2级   49       优         1\n2    2018-01-03     2℃    -5℃     多云        北风   1-2级   28       优         1\n3    2018-01-04     0℃    -8℃      阴       东北风   1-2级   28       优         1\n4    2018-01-05     3℃    -6℃   多云~晴       西北风   1-2级   50       优         1\n..          ...    ...    ...    ...       ...    ...  ...     ...       ...\n360  2018-12-27    -5℃   -12℃   多云~晴       西北风     3级   48       优         1\n361  2018-12-28    -3℃   -11℃      晴       西北风     3级   40       优         1\n362  2018-12-29    -3℃   -12℃      晴       西北风     2级   29       优         1\n363  2018-12-30    -2℃   -11℃   晴~多云       东北风     1级   31       优         1\n364  2018-12-31    -2℃   -10℃     多云       东北风     1级   56       良         2\n\n[365 rows x 9 columns]",
      "text/html": "<div>\n<style scoped>\n    .dataframe tbody tr th:only-of-type {\n        vertical-align: middle;\n    }\n\n    .dataframe tbody tr th {\n        vertical-align: top;\n    }\n\n    .dataframe thead th {\n        text-align: right;\n    }\n</style>\n<table border=\"1\" class=\"dataframe\">\n  <thead>\n    <tr style=\"text-align: right;\">\n      <th></th>\n      <th>ymd</th>\n      <th>bWendu</th>\n      <th>yWendu</th>\n      <th>tianqi</th>\n      <th>fengxiang</th>\n      <th>fengli</th>\n      <th>aqi</th>\n      <th>aqiInfo</th>\n      <th>aqiLevel</th>\n    </tr>\n  </thead>\n  <tbody>\n    <tr>\n      <th>0</th>\n      <td>2018-01-01</td>\n      <td>3℃</td>\n      <td>-6℃</td>\n      <td>晴~多云</td>\n      <td>东北风</td>\n      <td>1-2级</td>\n      <td>59</td>\n      <td>良</td>\n      <td>2</td>\n    </tr>\n    <tr>\n      <th>1</th>\n      <td>2018-01-02</td>\n      <td>2℃</td>\n      <td>-5℃</td>\n      <td>阴~多云</td>\n      <td>东北风</td>\n      <td>1-2级</td>\n      <td>49</td>\n      <td>优</td>\n      <td>1</td>\n    </tr>\n    <tr>\n      <th>2</th>\n      <td>2018-01-03</td>\n      <td>2℃</td>\n      <td>-5℃</td>\n      <td>多云</td>\n      <td>北风</td>\n      <td>1-2级</td>\n      <td>28</td>\n      <td>优</td>\n      <td>1</td>\n    </tr>\n    <tr>\n      <th>3</th>\n      <td>2018-01-04</td>\n      <td>0℃</td>\n      <td>-8℃</td>\n      <td>阴</td>\n      <td>东北风</td>\n      <td>1-2级</td>\n      <td>28</td>\n      <td>优</td>\n      <td>1</td>\n    </tr>\n    <tr>\n      <th>4</th>\n      <td>2018-01-05</td>\n      <td>3℃</td>\n      <td>-6℃</td>\n      <td>多云~晴</td>\n      <td>西北风</td>\n      <td>1-2级</td>\n      <td>50</td>\n      <td>优</td>\n      <td>1</td>\n    </tr>\n    <tr>\n      <th>...</th>\n      <td>...</td>\n      <td>...</td>\n      <td>...</td>\n      <td>...</td>\n      <td>...</td>\n      <td>...</td>\n      <td>...</td>\n      <td>...</td>\n      <td>...</td>\n    </tr>\n    <tr>\n      <th>360</th>\n      <td>2018-12-27</td>\n      <td>-5℃</td>\n      <td>-12℃</td>\n      <td>多云~晴</td>\n      <td>西北风</td>\n      <td>3级</td>\n      <td>48</td>\n      <td>优</td>\n      <td>1</td>\n    </tr>\n    <tr>\n      <th>361</th>\n      <td>2018-12-28</td>\n      <td>-3℃</td>\n      <td>-11℃</td>\n      <td>晴</td>\n      <td>西北风</td>\n      <td>3级</td>\n      <td>40</td>\n      <td>优</td>\n      <td>1</td>\n    </tr>\n    <tr>\n      <th>362</th>\n      <td>2018-12-29</td>\n      <td>-3℃</td>\n      <td>-12℃</td>\n      <td>晴</td>\n      <td>西北风</td>\n      <td>2级</td>\n      <td>29</td>\n      <td>优</td>\n      <td>1</td>\n    </tr>\n    <tr>\n      <th>363</th>\n      <td>2018-12-30</td>\n      <td>-2℃</td>\n      <td>-11℃</td>\n      <td>晴~多云</td>\n      <td>东北风</td>\n      <td>1级</td>\n      <td>31</td>\n      <td>优</td>\n      <td>1</td>\n    </tr>\n    <tr>\n      <th>364</th>\n      <td>2018-12-31</td>\n      <td>-2℃</td>\n      <td>-10℃</td>\n      <td>多云</td>\n      <td>东北风</td>\n      <td>1级</td>\n      <td>56</td>\n      <td>良</td>\n      <td>2</td>\n    </tr>\n  </tbody>\n</table>\n<p>365 rows × 9 columns</p>\n</div>"
     },
     "execution_count": 11,
     "metadata": {},
     "output_type": "execute_result"
    }
   ],
   "source": [
    "file = './data/beijing_tianqi_2018.csv'\n",
    "df = pd.read_csv(file)\n",
    "df_1 = df.copy()\n",
    "df_1"
   ],
   "metadata": {
    "collapsed": false,
    "ExecuteTime": {
     "start_time": "2023-04-08T16:04:43.244924Z",
     "end_time": "2023-04-08T16:04:43.291788Z"
    }
   }
  },
  {
   "cell_type": "code",
   "execution_count": 12,
   "outputs": [],
   "source": [
    "df_1[\"bWendu\"] = df_1[\"bWendu\"].str.replace('℃','').astype(int)\n",
    "df_1[\"yWendu\"] = df_1[\"yWendu\"].str.replace('℃','').astype(int)"
   ],
   "metadata": {
    "collapsed": false,
    "ExecuteTime": {
     "start_time": "2023-04-08T16:04:51.232514Z",
     "end_time": "2023-04-08T16:04:51.279417Z"
    }
   }
  },
  {
   "cell_type": "code",
   "execution_count": 13,
   "outputs": [
    {
     "data": {
      "text/plain": "            ymd  bWendu  yWendu tianqi fengxiang fengli  aqi aqiInfo  aqiLevel\n0    2018-01-01       3      -6   晴~多云       东北风   1-2级   59       良         2\n1    2018-01-02       2      -5   阴~多云       东北风   1-2级   49       优         1\n2    2018-01-03       2      -5     多云        北风   1-2级   28       优         1\n3    2018-01-04       0      -8      阴       东北风   1-2级   28       优         1\n4    2018-01-05       3      -6   多云~晴       西北风   1-2级   50       优         1\n..          ...     ...     ...    ...       ...    ...  ...     ...       ...\n360  2018-12-27      -5     -12   多云~晴       西北风     3级   48       优         1\n361  2018-12-28      -3     -11      晴       西北风     3级   40       优         1\n362  2018-12-29      -3     -12      晴       西北风     2级   29       优         1\n363  2018-12-30      -2     -11   晴~多云       东北风     1级   31       优         1\n364  2018-12-31      -2     -10     多云       东北风     1级   56       良         2\n\n[365 rows x 9 columns]",
      "text/html": "<div>\n<style scoped>\n    .dataframe tbody tr th:only-of-type {\n        vertical-align: middle;\n    }\n\n    .dataframe tbody tr th {\n        vertical-align: top;\n    }\n\n    .dataframe thead th {\n        text-align: right;\n    }\n</style>\n<table border=\"1\" class=\"dataframe\">\n  <thead>\n    <tr style=\"text-align: right;\">\n      <th></th>\n      <th>ymd</th>\n      <th>bWendu</th>\n      <th>yWendu</th>\n      <th>tianqi</th>\n      <th>fengxiang</th>\n      <th>fengli</th>\n      <th>aqi</th>\n      <th>aqiInfo</th>\n      <th>aqiLevel</th>\n    </tr>\n  </thead>\n  <tbody>\n    <tr>\n      <th>0</th>\n      <td>2018-01-01</td>\n      <td>3</td>\n      <td>-6</td>\n      <td>晴~多云</td>\n      <td>东北风</td>\n      <td>1-2级</td>\n      <td>59</td>\n      <td>良</td>\n      <td>2</td>\n    </tr>\n    <tr>\n      <th>1</th>\n      <td>2018-01-02</td>\n      <td>2</td>\n      <td>-5</td>\n      <td>阴~多云</td>\n      <td>东北风</td>\n      <td>1-2级</td>\n      <td>49</td>\n      <td>优</td>\n      <td>1</td>\n    </tr>\n    <tr>\n      <th>2</th>\n      <td>2018-01-03</td>\n      <td>2</td>\n      <td>-5</td>\n      <td>多云</td>\n      <td>北风</td>\n      <td>1-2级</td>\n      <td>28</td>\n      <td>优</td>\n      <td>1</td>\n    </tr>\n    <tr>\n      <th>3</th>\n      <td>2018-01-04</td>\n      <td>0</td>\n      <td>-8</td>\n      <td>阴</td>\n      <td>东北风</td>\n      <td>1-2级</td>\n      <td>28</td>\n      <td>优</td>\n      <td>1</td>\n    </tr>\n    <tr>\n      <th>4</th>\n      <td>2018-01-05</td>\n      <td>3</td>\n      <td>-6</td>\n      <td>多云~晴</td>\n      <td>西北风</td>\n      <td>1-2级</td>\n      <td>50</td>\n      <td>优</td>\n      <td>1</td>\n    </tr>\n    <tr>\n      <th>...</th>\n      <td>...</td>\n      <td>...</td>\n      <td>...</td>\n      <td>...</td>\n      <td>...</td>\n      <td>...</td>\n      <td>...</td>\n      <td>...</td>\n      <td>...</td>\n    </tr>\n    <tr>\n      <th>360</th>\n      <td>2018-12-27</td>\n      <td>-5</td>\n      <td>-12</td>\n      <td>多云~晴</td>\n      <td>西北风</td>\n      <td>3级</td>\n      <td>48</td>\n      <td>优</td>\n      <td>1</td>\n    </tr>\n    <tr>\n      <th>361</th>\n      <td>2018-12-28</td>\n      <td>-3</td>\n      <td>-11</td>\n      <td>晴</td>\n      <td>西北风</td>\n      <td>3级</td>\n      <td>40</td>\n      <td>优</td>\n      <td>1</td>\n    </tr>\n    <tr>\n      <th>362</th>\n      <td>2018-12-29</td>\n      <td>-3</td>\n      <td>-12</td>\n      <td>晴</td>\n      <td>西北风</td>\n      <td>2级</td>\n      <td>29</td>\n      <td>优</td>\n      <td>1</td>\n    </tr>\n    <tr>\n      <th>363</th>\n      <td>2018-12-30</td>\n      <td>-2</td>\n      <td>-11</td>\n      <td>晴~多云</td>\n      <td>东北风</td>\n      <td>1级</td>\n      <td>31</td>\n      <td>优</td>\n      <td>1</td>\n    </tr>\n    <tr>\n      <th>364</th>\n      <td>2018-12-31</td>\n      <td>-2</td>\n      <td>-10</td>\n      <td>多云</td>\n      <td>东北风</td>\n      <td>1级</td>\n      <td>56</td>\n      <td>良</td>\n      <td>2</td>\n    </tr>\n  </tbody>\n</table>\n<p>365 rows × 9 columns</p>\n</div>"
     },
     "execution_count": 13,
     "metadata": {},
     "output_type": "execute_result"
    }
   ],
   "source": [
    "df_1"
   ],
   "metadata": {
    "collapsed": false,
    "ExecuteTime": {
     "start_time": "2023-04-08T16:04:54.335037Z",
     "end_time": "2023-04-08T16:04:54.366286Z"
    }
   }
  },
  {
   "cell_type": "code",
   "execution_count": 17,
   "outputs": [
    {
     "data": {
      "text/plain": "           ymd  bWendu  yWendu tianqi fengxiang fengli  aqi aqiInfo  aqiLevel\n59  2018-03-01       8      -3     多云       西南风   1-2级   46       优         1\n60  2018-03-02       9      -1   晴~多云        北风   1-2级   95       良         2\n61  2018-03-03      13       3   多云~阴        北风   1-2级  214    重度污染         5\n62  2018-03-04       7      -2   阴~多云       东南风   1-2级  144    轻度污染         3\n63  2018-03-05       8      -3      晴        南风   1-2级   94       良         2\n64  2018-03-06       6      -3   多云~阴       东南风   3-4级   67       良         2\n65  2018-03-07       6      -2   阴~多云        北风   1-2级   65       良         2\n66  2018-03-08       8      -4      晴       东北风   1-2级   62       良         2\n67  2018-03-09      10      -2     多云       西南风   1-2级  132    轻度污染         3\n68  2018-03-10      14      -2      晴       东南风   1-2级  171    中度污染         4\n69  2018-03-11      11       0     多云        南风   1-2级   81       良         2\n70  2018-03-12      15       3   多云~晴        南风   1-2级  174    中度污染         4\n71  2018-03-13      17       5   晴~多云        南风   1-2级  287    重度污染         5\n72  2018-03-14      15       6   多云~阴       东北风   1-2级  293    重度污染         5\n73  2018-03-15      12      -1   多云~晴       东北风   3-4级   70       良         2\n74  2018-03-16      10      -1     多云        南风   1-2级   58       良         2\n75  2018-03-17       4       0   小雨~阴        南风   1-2级   81       良         2\n76  2018-03-18      13       1   多云~晴       西南风   1-2级  134    轻度污染         3\n77  2018-03-19      13       2     多云        东风   1-2级  107    轻度污染         3\n78  2018-03-20      10      -2     多云        南风   1-2级   41       优         1\n79  2018-03-21      11       1     多云       西南风   1-2级   76       良         2\n80  2018-03-22      17       4   晴~多云       西南风   1-2级  112    轻度污染         3\n81  2018-03-23      18       5     多云        北风   1-2级  146    轻度污染         3\n82  2018-03-24      22       5      晴       西南风   1-2级  119    轻度污染         3\n83  2018-03-25      24       7      晴        南风   1-2级   78       良         2\n84  2018-03-26      25       7     多云       西南风   1-2级  151    中度污染         4\n85  2018-03-27      27      11      晴        南风   1-2级  243    重度污染         5\n86  2018-03-28      25       9   多云~晴        东风   1-2级  387    严重污染         6\n87  2018-03-29      19       7      晴        南风   1-2级  119    轻度污染         3\n88  2018-03-30      18       8     多云        南风   1-2级   68       良         2\n89  2018-03-31      23       9   多云~晴        南风   1-2级  125    轻度污染         3",
      "text/html": "<div>\n<style scoped>\n    .dataframe tbody tr th:only-of-type {\n        vertical-align: middle;\n    }\n\n    .dataframe tbody tr th {\n        vertical-align: top;\n    }\n\n    .dataframe thead th {\n        text-align: right;\n    }\n</style>\n<table border=\"1\" class=\"dataframe\">\n  <thead>\n    <tr style=\"text-align: right;\">\n      <th></th>\n      <th>ymd</th>\n      <th>bWendu</th>\n      <th>yWendu</th>\n      <th>tianqi</th>\n      <th>fengxiang</th>\n      <th>fengli</th>\n      <th>aqi</th>\n      <th>aqiInfo</th>\n      <th>aqiLevel</th>\n    </tr>\n  </thead>\n  <tbody>\n    <tr>\n      <th>59</th>\n      <td>2018-03-01</td>\n      <td>8</td>\n      <td>-3</td>\n      <td>多云</td>\n      <td>西南风</td>\n      <td>1-2级</td>\n      <td>46</td>\n      <td>优</td>\n      <td>1</td>\n    </tr>\n    <tr>\n      <th>60</th>\n      <td>2018-03-02</td>\n      <td>9</td>\n      <td>-1</td>\n      <td>晴~多云</td>\n      <td>北风</td>\n      <td>1-2级</td>\n      <td>95</td>\n      <td>良</td>\n      <td>2</td>\n    </tr>\n    <tr>\n      <th>61</th>\n      <td>2018-03-03</td>\n      <td>13</td>\n      <td>3</td>\n      <td>多云~阴</td>\n      <td>北风</td>\n      <td>1-2级</td>\n      <td>214</td>\n      <td>重度污染</td>\n      <td>5</td>\n    </tr>\n    <tr>\n      <th>62</th>\n      <td>2018-03-04</td>\n      <td>7</td>\n      <td>-2</td>\n      <td>阴~多云</td>\n      <td>东南风</td>\n      <td>1-2级</td>\n      <td>144</td>\n      <td>轻度污染</td>\n      <td>3</td>\n    </tr>\n    <tr>\n      <th>63</th>\n      <td>2018-03-05</td>\n      <td>8</td>\n      <td>-3</td>\n      <td>晴</td>\n      <td>南风</td>\n      <td>1-2级</td>\n      <td>94</td>\n      <td>良</td>\n      <td>2</td>\n    </tr>\n    <tr>\n      <th>64</th>\n      <td>2018-03-06</td>\n      <td>6</td>\n      <td>-3</td>\n      <td>多云~阴</td>\n      <td>东南风</td>\n      <td>3-4级</td>\n      <td>67</td>\n      <td>良</td>\n      <td>2</td>\n    </tr>\n    <tr>\n      <th>65</th>\n      <td>2018-03-07</td>\n      <td>6</td>\n      <td>-2</td>\n      <td>阴~多云</td>\n      <td>北风</td>\n      <td>1-2级</td>\n      <td>65</td>\n      <td>良</td>\n      <td>2</td>\n    </tr>\n    <tr>\n      <th>66</th>\n      <td>2018-03-08</td>\n      <td>8</td>\n      <td>-4</td>\n      <td>晴</td>\n      <td>东北风</td>\n      <td>1-2级</td>\n      <td>62</td>\n      <td>良</td>\n      <td>2</td>\n    </tr>\n    <tr>\n      <th>67</th>\n      <td>2018-03-09</td>\n      <td>10</td>\n      <td>-2</td>\n      <td>多云</td>\n      <td>西南风</td>\n      <td>1-2级</td>\n      <td>132</td>\n      <td>轻度污染</td>\n      <td>3</td>\n    </tr>\n    <tr>\n      <th>68</th>\n      <td>2018-03-10</td>\n      <td>14</td>\n      <td>-2</td>\n      <td>晴</td>\n      <td>东南风</td>\n      <td>1-2级</td>\n      <td>171</td>\n      <td>中度污染</td>\n      <td>4</td>\n    </tr>\n    <tr>\n      <th>69</th>\n      <td>2018-03-11</td>\n      <td>11</td>\n      <td>0</td>\n      <td>多云</td>\n      <td>南风</td>\n      <td>1-2级</td>\n      <td>81</td>\n      <td>良</td>\n      <td>2</td>\n    </tr>\n    <tr>\n      <th>70</th>\n      <td>2018-03-12</td>\n      <td>15</td>\n      <td>3</td>\n      <td>多云~晴</td>\n      <td>南风</td>\n      <td>1-2级</td>\n      <td>174</td>\n      <td>中度污染</td>\n      <td>4</td>\n    </tr>\n    <tr>\n      <th>71</th>\n      <td>2018-03-13</td>\n      <td>17</td>\n      <td>5</td>\n      <td>晴~多云</td>\n      <td>南风</td>\n      <td>1-2级</td>\n      <td>287</td>\n      <td>重度污染</td>\n      <td>5</td>\n    </tr>\n    <tr>\n      <th>72</th>\n      <td>2018-03-14</td>\n      <td>15</td>\n      <td>6</td>\n      <td>多云~阴</td>\n      <td>东北风</td>\n      <td>1-2级</td>\n      <td>293</td>\n      <td>重度污染</td>\n      <td>5</td>\n    </tr>\n    <tr>\n      <th>73</th>\n      <td>2018-03-15</td>\n      <td>12</td>\n      <td>-1</td>\n      <td>多云~晴</td>\n      <td>东北风</td>\n      <td>3-4级</td>\n      <td>70</td>\n      <td>良</td>\n      <td>2</td>\n    </tr>\n    <tr>\n      <th>74</th>\n      <td>2018-03-16</td>\n      <td>10</td>\n      <td>-1</td>\n      <td>多云</td>\n      <td>南风</td>\n      <td>1-2级</td>\n      <td>58</td>\n      <td>良</td>\n      <td>2</td>\n    </tr>\n    <tr>\n      <th>75</th>\n      <td>2018-03-17</td>\n      <td>4</td>\n      <td>0</td>\n      <td>小雨~阴</td>\n      <td>南风</td>\n      <td>1-2级</td>\n      <td>81</td>\n      <td>良</td>\n      <td>2</td>\n    </tr>\n    <tr>\n      <th>76</th>\n      <td>2018-03-18</td>\n      <td>13</td>\n      <td>1</td>\n      <td>多云~晴</td>\n      <td>西南风</td>\n      <td>1-2级</td>\n      <td>134</td>\n      <td>轻度污染</td>\n      <td>3</td>\n    </tr>\n    <tr>\n      <th>77</th>\n      <td>2018-03-19</td>\n      <td>13</td>\n      <td>2</td>\n      <td>多云</td>\n      <td>东风</td>\n      <td>1-2级</td>\n      <td>107</td>\n      <td>轻度污染</td>\n      <td>3</td>\n    </tr>\n    <tr>\n      <th>78</th>\n      <td>2018-03-20</td>\n      <td>10</td>\n      <td>-2</td>\n      <td>多云</td>\n      <td>南风</td>\n      <td>1-2级</td>\n      <td>41</td>\n      <td>优</td>\n      <td>1</td>\n    </tr>\n    <tr>\n      <th>79</th>\n      <td>2018-03-21</td>\n      <td>11</td>\n      <td>1</td>\n      <td>多云</td>\n      <td>西南风</td>\n      <td>1-2级</td>\n      <td>76</td>\n      <td>良</td>\n      <td>2</td>\n    </tr>\n    <tr>\n      <th>80</th>\n      <td>2018-03-22</td>\n      <td>17</td>\n      <td>4</td>\n      <td>晴~多云</td>\n      <td>西南风</td>\n      <td>1-2级</td>\n      <td>112</td>\n      <td>轻度污染</td>\n      <td>3</td>\n    </tr>\n    <tr>\n      <th>81</th>\n      <td>2018-03-23</td>\n      <td>18</td>\n      <td>5</td>\n      <td>多云</td>\n      <td>北风</td>\n      <td>1-2级</td>\n      <td>146</td>\n      <td>轻度污染</td>\n      <td>3</td>\n    </tr>\n    <tr>\n      <th>82</th>\n      <td>2018-03-24</td>\n      <td>22</td>\n      <td>5</td>\n      <td>晴</td>\n      <td>西南风</td>\n      <td>1-2级</td>\n      <td>119</td>\n      <td>轻度污染</td>\n      <td>3</td>\n    </tr>\n    <tr>\n      <th>83</th>\n      <td>2018-03-25</td>\n      <td>24</td>\n      <td>7</td>\n      <td>晴</td>\n      <td>南风</td>\n      <td>1-2级</td>\n      <td>78</td>\n      <td>良</td>\n      <td>2</td>\n    </tr>\n    <tr>\n      <th>84</th>\n      <td>2018-03-26</td>\n      <td>25</td>\n      <td>7</td>\n      <td>多云</td>\n      <td>西南风</td>\n      <td>1-2级</td>\n      <td>151</td>\n      <td>中度污染</td>\n      <td>4</td>\n    </tr>\n    <tr>\n      <th>85</th>\n      <td>2018-03-27</td>\n      <td>27</td>\n      <td>11</td>\n      <td>晴</td>\n      <td>南风</td>\n      <td>1-2级</td>\n      <td>243</td>\n      <td>重度污染</td>\n      <td>5</td>\n    </tr>\n    <tr>\n      <th>86</th>\n      <td>2018-03-28</td>\n      <td>25</td>\n      <td>9</td>\n      <td>多云~晴</td>\n      <td>东风</td>\n      <td>1-2级</td>\n      <td>387</td>\n      <td>严重污染</td>\n      <td>6</td>\n    </tr>\n    <tr>\n      <th>87</th>\n      <td>2018-03-29</td>\n      <td>19</td>\n      <td>7</td>\n      <td>晴</td>\n      <td>南风</td>\n      <td>1-2级</td>\n      <td>119</td>\n      <td>轻度污染</td>\n      <td>3</td>\n    </tr>\n    <tr>\n      <th>88</th>\n      <td>2018-03-30</td>\n      <td>18</td>\n      <td>8</td>\n      <td>多云</td>\n      <td>南风</td>\n      <td>1-2级</td>\n      <td>68</td>\n      <td>良</td>\n      <td>2</td>\n    </tr>\n    <tr>\n      <th>89</th>\n      <td>2018-03-31</td>\n      <td>23</td>\n      <td>9</td>\n      <td>多云~晴</td>\n      <td>南风</td>\n      <td>1-2级</td>\n      <td>125</td>\n      <td>轻度污染</td>\n      <td>3</td>\n    </tr>\n  </tbody>\n</table>\n</div>"
     },
     "execution_count": 17,
     "metadata": {},
     "output_type": "execute_result"
    }
   ],
   "source": [
    "a = df_1['ymd'].str.startswith('2018-03')\n",
    "df_1[a]"
   ],
   "metadata": {
    "collapsed": false,
    "ExecuteTime": {
     "start_time": "2023-04-08T16:10:44.584352Z",
     "end_time": "2023-04-08T16:10:44.601357Z"
    }
   }
  },
  {
   "cell_type": "code",
   "execution_count": 35,
   "outputs": [],
   "source": [
    "sale = pd.read_excel('./data/sale.xlsx')\n",
    "sale2 = pd.read_excel('./data/sale2.xlsx')\n",
    "sale3 = pd.read_excel('./data/sale3.xlsx')\n",
    "member = pd.read_excel('./data/member.xlsx')"
   ],
   "metadata": {
    "collapsed": false,
    "ExecuteTime": {
     "start_time": "2023-04-08T16:31:13.796495Z",
     "end_time": "2023-04-08T16:31:13.827917Z"
    }
   }
  },
  {
   "cell_type": "code",
   "execution_count": 36,
   "outputs": [
    {
     "data": {
      "text/plain": "  userid  payment\n0      a     2000\n1      c     3500",
      "text/html": "<div>\n<style scoped>\n    .dataframe tbody tr th:only-of-type {\n        vertical-align: middle;\n    }\n\n    .dataframe tbody tr th {\n        vertical-align: top;\n    }\n\n    .dataframe thead th {\n        text-align: right;\n    }\n</style>\n<table border=\"1\" class=\"dataframe\">\n  <thead>\n    <tr style=\"text-align: right;\">\n      <th></th>\n      <th>userid</th>\n      <th>payment</th>\n    </tr>\n  </thead>\n  <tbody>\n    <tr>\n      <th>0</th>\n      <td>a</td>\n      <td>2000</td>\n    </tr>\n    <tr>\n      <th>1</th>\n      <td>c</td>\n      <td>3500</td>\n    </tr>\n  </tbody>\n</table>\n</div>"
     },
     "execution_count": 36,
     "metadata": {},
     "output_type": "execute_result"
    }
   ],
   "source": [
    "sale"
   ],
   "metadata": {
    "collapsed": false,
    "ExecuteTime": {
     "start_time": "2023-04-08T16:31:14.285803Z",
     "end_time": "2023-04-08T16:31:14.327255Z"
    }
   }
  },
  {
   "cell_type": "code",
   "execution_count": 37,
   "outputs": [
    {
     "data": {
      "text/plain": "  userid  payment\n0      a     2000\n1      c     3500\n2      a      500\n3      b     1000",
      "text/html": "<div>\n<style scoped>\n    .dataframe tbody tr th:only-of-type {\n        vertical-align: middle;\n    }\n\n    .dataframe tbody tr th {\n        vertical-align: top;\n    }\n\n    .dataframe thead th {\n        text-align: right;\n    }\n</style>\n<table border=\"1\" class=\"dataframe\">\n  <thead>\n    <tr style=\"text-align: right;\">\n      <th></th>\n      <th>userid</th>\n      <th>payment</th>\n    </tr>\n  </thead>\n  <tbody>\n    <tr>\n      <th>0</th>\n      <td>a</td>\n      <td>2000</td>\n    </tr>\n    <tr>\n      <th>1</th>\n      <td>c</td>\n      <td>3500</td>\n    </tr>\n    <tr>\n      <th>2</th>\n      <td>a</td>\n      <td>500</td>\n    </tr>\n    <tr>\n      <th>3</th>\n      <td>b</td>\n      <td>1000</td>\n    </tr>\n  </tbody>\n</table>\n</div>"
     },
     "execution_count": 37,
     "metadata": {},
     "output_type": "execute_result"
    }
   ],
   "source": [
    "sale2"
   ],
   "metadata": {
    "collapsed": false,
    "ExecuteTime": {
     "start_time": "2023-04-08T16:31:14.777632Z",
     "end_time": "2023-04-08T16:31:14.793286Z"
    }
   }
  },
  {
   "cell_type": "code",
   "execution_count": 38,
   "outputs": [
    {
     "data": {
      "text/plain": "  userid  payment\n0      a     2000\n1      c     3500\n2      e      600",
      "text/html": "<div>\n<style scoped>\n    .dataframe tbody tr th:only-of-type {\n        vertical-align: middle;\n    }\n\n    .dataframe tbody tr th {\n        vertical-align: top;\n    }\n\n    .dataframe thead th {\n        text-align: right;\n    }\n</style>\n<table border=\"1\" class=\"dataframe\">\n  <thead>\n    <tr style=\"text-align: right;\">\n      <th></th>\n      <th>userid</th>\n      <th>payment</th>\n    </tr>\n  </thead>\n  <tbody>\n    <tr>\n      <th>0</th>\n      <td>a</td>\n      <td>2000</td>\n    </tr>\n    <tr>\n      <th>1</th>\n      <td>c</td>\n      <td>3500</td>\n    </tr>\n    <tr>\n      <th>2</th>\n      <td>e</td>\n      <td>600</td>\n    </tr>\n  </tbody>\n</table>\n</div>"
     },
     "execution_count": 38,
     "metadata": {},
     "output_type": "execute_result"
    }
   ],
   "source": [
    "sale3"
   ],
   "metadata": {
    "collapsed": false,
    "ExecuteTime": {
     "start_time": "2023-04-08T16:31:15.281909Z",
     "end_time": "2023-04-08T16:31:15.307943Z"
    }
   }
  },
  {
   "cell_type": "code",
   "execution_count": 39,
   "outputs": [
    {
     "data": {
      "text/plain": "  userid  age\n0      a   23\n1      b   46\n2      c   32\n3      d   19",
      "text/html": "<div>\n<style scoped>\n    .dataframe tbody tr th:only-of-type {\n        vertical-align: middle;\n    }\n\n    .dataframe tbody tr th {\n        vertical-align: top;\n    }\n\n    .dataframe thead th {\n        text-align: right;\n    }\n</style>\n<table border=\"1\" class=\"dataframe\">\n  <thead>\n    <tr style=\"text-align: right;\">\n      <th></th>\n      <th>userid</th>\n      <th>age</th>\n    </tr>\n  </thead>\n  <tbody>\n    <tr>\n      <th>0</th>\n      <td>a</td>\n      <td>23</td>\n    </tr>\n    <tr>\n      <th>1</th>\n      <td>b</td>\n      <td>46</td>\n    </tr>\n    <tr>\n      <th>2</th>\n      <td>c</td>\n      <td>32</td>\n    </tr>\n    <tr>\n      <th>3</th>\n      <td>d</td>\n      <td>19</td>\n    </tr>\n  </tbody>\n</table>\n</div>"
     },
     "execution_count": 39,
     "metadata": {},
     "output_type": "execute_result"
    }
   ],
   "source": [
    "member"
   ],
   "metadata": {
    "collapsed": false,
    "ExecuteTime": {
     "start_time": "2023-04-08T16:31:15.952564Z",
     "end_time": "2023-04-08T16:31:15.984121Z"
    }
   }
  },
  {
   "cell_type": "code",
   "execution_count": 40,
   "outputs": [
    {
     "data": {
      "text/plain": "  userid  age  payment\n0      a   23     2000\n1      c   32     3500",
      "text/html": "<div>\n<style scoped>\n    .dataframe tbody tr th:only-of-type {\n        vertical-align: middle;\n    }\n\n    .dataframe tbody tr th {\n        vertical-align: top;\n    }\n\n    .dataframe thead th {\n        text-align: right;\n    }\n</style>\n<table border=\"1\" class=\"dataframe\">\n  <thead>\n    <tr style=\"text-align: right;\">\n      <th></th>\n      <th>userid</th>\n      <th>age</th>\n      <th>payment</th>\n    </tr>\n  </thead>\n  <tbody>\n    <tr>\n      <th>0</th>\n      <td>a</td>\n      <td>23</td>\n      <td>2000</td>\n    </tr>\n    <tr>\n      <th>1</th>\n      <td>c</td>\n      <td>32</td>\n      <td>3500</td>\n    </tr>\n  </tbody>\n</table>\n</div>"
     },
     "execution_count": 40,
     "metadata": {},
     "output_type": "execute_result"
    }
   ],
   "source": [
    "#inner,内连接，取两表的交集进行连接\n",
    "member.merge(sale,how='inner',on='userid')"
   ],
   "metadata": {
    "collapsed": false,
    "ExecuteTime": {
     "start_time": "2023-04-08T16:33:28.639997Z",
     "end_time": "2023-04-08T16:33:28.649589Z"
    }
   }
  },
  {
   "cell_type": "code",
   "execution_count": 43,
   "outputs": [
    {
     "data": {
      "text/plain": "  userid  age  payment\n0      a   23     2000\n1      a   23      500\n2      b   46     1000\n3      c   32     3500",
      "text/html": "<div>\n<style scoped>\n    .dataframe tbody tr th:only-of-type {\n        vertical-align: middle;\n    }\n\n    .dataframe tbody tr th {\n        vertical-align: top;\n    }\n\n    .dataframe thead th {\n        text-align: right;\n    }\n</style>\n<table border=\"1\" class=\"dataframe\">\n  <thead>\n    <tr style=\"text-align: right;\">\n      <th></th>\n      <th>userid</th>\n      <th>age</th>\n      <th>payment</th>\n    </tr>\n  </thead>\n  <tbody>\n    <tr>\n      <th>0</th>\n      <td>a</td>\n      <td>23</td>\n      <td>2000</td>\n    </tr>\n    <tr>\n      <th>1</th>\n      <td>a</td>\n      <td>23</td>\n      <td>500</td>\n    </tr>\n    <tr>\n      <th>2</th>\n      <td>b</td>\n      <td>46</td>\n      <td>1000</td>\n    </tr>\n    <tr>\n      <th>3</th>\n      <td>c</td>\n      <td>32</td>\n      <td>3500</td>\n    </tr>\n  </tbody>\n</table>\n</div>"
     },
     "execution_count": 43,
     "metadata": {},
     "output_type": "execute_result"
    }
   ],
   "source": [
    "#注意inner只返回俩表的交集\n",
    "member.merge(sale2,how='inner',on = 'userid')"
   ],
   "metadata": {
    "collapsed": false,
    "ExecuteTime": {
     "start_time": "2023-04-08T16:41:19.378449Z",
     "end_time": "2023-04-08T16:41:19.394068Z"
    }
   }
  },
  {
   "cell_type": "code",
   "execution_count": 50,
   "outputs": [
    {
     "data": {
      "text/plain": "  userid  age  payment\n0      a   23   2000.0\n1      a   23    500.0\n2      b   46   1000.0\n3      c   32   3500.0\n4      d   19      NaN",
      "text/html": "<div>\n<style scoped>\n    .dataframe tbody tr th:only-of-type {\n        vertical-align: middle;\n    }\n\n    .dataframe tbody tr th {\n        vertical-align: top;\n    }\n\n    .dataframe thead th {\n        text-align: right;\n    }\n</style>\n<table border=\"1\" class=\"dataframe\">\n  <thead>\n    <tr style=\"text-align: right;\">\n      <th></th>\n      <th>userid</th>\n      <th>age</th>\n      <th>payment</th>\n    </tr>\n  </thead>\n  <tbody>\n    <tr>\n      <th>0</th>\n      <td>a</td>\n      <td>23</td>\n      <td>2000.0</td>\n    </tr>\n    <tr>\n      <th>1</th>\n      <td>a</td>\n      <td>23</td>\n      <td>500.0</td>\n    </tr>\n    <tr>\n      <th>2</th>\n      <td>b</td>\n      <td>46</td>\n      <td>1000.0</td>\n    </tr>\n    <tr>\n      <th>3</th>\n      <td>c</td>\n      <td>32</td>\n      <td>3500.0</td>\n    </tr>\n    <tr>\n      <th>4</th>\n      <td>d</td>\n      <td>19</td>\n      <td>NaN</td>\n    </tr>\n  </tbody>\n</table>\n</div>"
     },
     "execution_count": 50,
     "metadata": {},
     "output_type": "execute_result"
    }
   ],
   "source": [
    "#左连接，保留左侧的键，进行配对，不存在的值使用空值NaN填充\n",
    "member.merge(sale2,how='left',on = 'userid')"
   ],
   "metadata": {
    "collapsed": false,
    "ExecuteTime": {
     "start_time": "2023-04-08T16:57:47.003653Z",
     "end_time": "2023-04-08T16:57:47.034894Z"
    }
   }
  },
  {
   "cell_type": "code",
   "execution_count": 51,
   "outputs": [
    {
     "data": {
      "text/plain": "  userid  age  payment\n0      a   23     2000\n1      c   32     3500\n2      a   23      500\n3      b   46     1000",
      "text/html": "<div>\n<style scoped>\n    .dataframe tbody tr th:only-of-type {\n        vertical-align: middle;\n    }\n\n    .dataframe tbody tr th {\n        vertical-align: top;\n    }\n\n    .dataframe thead th {\n        text-align: right;\n    }\n</style>\n<table border=\"1\" class=\"dataframe\">\n  <thead>\n    <tr style=\"text-align: right;\">\n      <th></th>\n      <th>userid</th>\n      <th>age</th>\n      <th>payment</th>\n    </tr>\n  </thead>\n  <tbody>\n    <tr>\n      <th>0</th>\n      <td>a</td>\n      <td>23</td>\n      <td>2000</td>\n    </tr>\n    <tr>\n      <th>1</th>\n      <td>c</td>\n      <td>32</td>\n      <td>3500</td>\n    </tr>\n    <tr>\n      <th>2</th>\n      <td>a</td>\n      <td>23</td>\n      <td>500</td>\n    </tr>\n    <tr>\n      <th>3</th>\n      <td>b</td>\n      <td>46</td>\n      <td>1000</td>\n    </tr>\n  </tbody>\n</table>\n</div>"
     },
     "execution_count": 51,
     "metadata": {},
     "output_type": "execute_result"
    }
   ],
   "source": [
    "#右连接，保留右侧的键进行配对，不存在的值使用NaN填充\n",
    "member.merge(sale2,how='right',on = 'userid')"
   ],
   "metadata": {
    "collapsed": false,
    "ExecuteTime": {
     "start_time": "2023-04-08T19:12:01.696438Z",
     "end_time": "2023-04-08T19:12:01.727666Z"
    }
   }
  },
  {
   "cell_type": "code",
   "execution_count": 52,
   "outputs": [
    {
     "data": {
      "text/plain": "  userid  age  payment\n0      a   23   2000.0\n1      b   46      NaN\n2      c   32   3500.0\n3      d   19      NaN",
      "text/html": "<div>\n<style scoped>\n    .dataframe tbody tr th:only-of-type {\n        vertical-align: middle;\n    }\n\n    .dataframe tbody tr th {\n        vertical-align: top;\n    }\n\n    .dataframe thead th {\n        text-align: right;\n    }\n</style>\n<table border=\"1\" class=\"dataframe\">\n  <thead>\n    <tr style=\"text-align: right;\">\n      <th></th>\n      <th>userid</th>\n      <th>age</th>\n      <th>payment</th>\n    </tr>\n  </thead>\n  <tbody>\n    <tr>\n      <th>0</th>\n      <td>a</td>\n      <td>23</td>\n      <td>2000.0</td>\n    </tr>\n    <tr>\n      <th>1</th>\n      <td>b</td>\n      <td>46</td>\n      <td>NaN</td>\n    </tr>\n    <tr>\n      <th>2</th>\n      <td>c</td>\n      <td>32</td>\n      <td>3500.0</td>\n    </tr>\n    <tr>\n      <th>3</th>\n      <td>d</td>\n      <td>19</td>\n      <td>NaN</td>\n    </tr>\n  </tbody>\n</table>\n</div>"
     },
     "execution_count": 52,
     "metadata": {},
     "output_type": "execute_result"
    }
   ],
   "source": [
    "#outer保留左右俩数据框中所有键值对，不存在的的以缺失值补充\n",
    "member.merge(sale,how = 'outer', on = 'userid')"
   ],
   "metadata": {
    "collapsed": false,
    "ExecuteTime": {
     "start_time": "2023-04-08T19:13:04.563504Z",
     "end_time": "2023-04-08T19:13:04.579124Z"
    }
   }
  },
  {
   "cell_type": "code",
   "execution_count": 56,
   "outputs": [
    {
     "data": {
      "text/plain": "  userid   age  payment\n0      a  23.0   2000.0\n1      b  46.0      NaN\n2      c  32.0   3500.0\n3      d  19.0      NaN\n4      e   NaN    600.0",
      "text/html": "<div>\n<style scoped>\n    .dataframe tbody tr th:only-of-type {\n        vertical-align: middle;\n    }\n\n    .dataframe tbody tr th {\n        vertical-align: top;\n    }\n\n    .dataframe thead th {\n        text-align: right;\n    }\n</style>\n<table border=\"1\" class=\"dataframe\">\n  <thead>\n    <tr style=\"text-align: right;\">\n      <th></th>\n      <th>userid</th>\n      <th>age</th>\n      <th>payment</th>\n    </tr>\n  </thead>\n  <tbody>\n    <tr>\n      <th>0</th>\n      <td>a</td>\n      <td>23.0</td>\n      <td>2000.0</td>\n    </tr>\n    <tr>\n      <th>1</th>\n      <td>b</td>\n      <td>46.0</td>\n      <td>NaN</td>\n    </tr>\n    <tr>\n      <th>2</th>\n      <td>c</td>\n      <td>32.0</td>\n      <td>3500.0</td>\n    </tr>\n    <tr>\n      <th>3</th>\n      <td>d</td>\n      <td>19.0</td>\n      <td>NaN</td>\n    </tr>\n    <tr>\n      <th>4</th>\n      <td>e</td>\n      <td>NaN</td>\n      <td>600.0</td>\n    </tr>\n  </tbody>\n</table>\n</div>"
     },
     "execution_count": 56,
     "metadata": {},
     "output_type": "execute_result"
    }
   ],
   "source": [
    "pd.merge(member,sale3,on=['userid','userid'],how = 'outer')"
   ],
   "metadata": {
    "collapsed": false,
    "ExecuteTime": {
     "start_time": "2023-04-08T19:26:17.313315Z",
     "end_time": "2023-04-08T19:26:17.422668Z"
    }
   }
  },
  {
   "cell_type": "markdown",
   "source": [
    "万能公式\n",
    "pd.merge(left, right, on = ['key1', 'key2'], how = 'inner')\n",
    "left 和 right：要合并的两个数据框。\n",
    "\n",
    "on：用于指定合并时使用的列，这里指定了两列 key1 和 key2，即在这两列的值相同的行之间进行合并。如果 left 和 right 数据框中不是同名的列，可以使用 left_on 和 right_on 参数来分别指定左右两个数据框中的列名。\n",
    "\n",
    "how：用于指定合并方式，这里使用了 inner，表示只保留左右两个数据框中都存在的键值对。其他可选的合并方式包括：\n",
    "    outer：保留左右两个数据框中的所有键值对，不存在的部分以缺失值填充。\n",
    "    left：保留左侧数据框中的所有键值对，并在右侧数据框中查找匹配的键值对。\n",
    "    right：保留右侧数据框中的所有键值对，并在左侧数据框中查找匹配的键值对。"
   ],
   "metadata": {
    "collapsed": false
   }
  },
  {
   "cell_type": "code",
   "execution_count": 54,
   "outputs": [
    {
     "data": {
      "text/plain": "  key1 key2   A   B   C   D\n0   K0   K0  A0  B0  C0  D0\n1   K1   K0  A2  B2  C1  D1\n2   K1   K0  A2  B2  C2  D2",
      "text/html": "<div>\n<style scoped>\n    .dataframe tbody tr th:only-of-type {\n        vertical-align: middle;\n    }\n\n    .dataframe tbody tr th {\n        vertical-align: top;\n    }\n\n    .dataframe thead th {\n        text-align: right;\n    }\n</style>\n<table border=\"1\" class=\"dataframe\">\n  <thead>\n    <tr style=\"text-align: right;\">\n      <th></th>\n      <th>key1</th>\n      <th>key2</th>\n      <th>A</th>\n      <th>B</th>\n      <th>C</th>\n      <th>D</th>\n    </tr>\n  </thead>\n  <tbody>\n    <tr>\n      <th>0</th>\n      <td>K0</td>\n      <td>K0</td>\n      <td>A0</td>\n      <td>B0</td>\n      <td>C0</td>\n      <td>D0</td>\n    </tr>\n    <tr>\n      <th>1</th>\n      <td>K1</td>\n      <td>K0</td>\n      <td>A2</td>\n      <td>B2</td>\n      <td>C1</td>\n      <td>D1</td>\n    </tr>\n    <tr>\n      <th>2</th>\n      <td>K1</td>\n      <td>K0</td>\n      <td>A2</td>\n      <td>B2</td>\n      <td>C2</td>\n      <td>D2</td>\n    </tr>\n  </tbody>\n</table>\n</div>"
     },
     "execution_count": 54,
     "metadata": {},
     "output_type": "execute_result"
    }
   ],
   "source": [
    "import pandas as pd\n",
    "\n",
    "left = pd.DataFrame({'key1': ['K0', 'K0', 'K1', 'K2'],\n",
    "                     'key2': ['K0', 'K1', 'K0', 'K1'],\n",
    "                     'A': ['A0', 'A1', 'A2', 'A3'],\n",
    "                     'B': ['B0', 'B1', 'B2', 'B3']})\n",
    "\n",
    "right = pd.DataFrame({'key1': ['K0', 'K1', 'K1', 'K2'],\n",
    "                      'key2': ['K0', 'K0', 'K0', 'K0'],\n",
    "                      'C': ['C0', 'C1', 'C2', 'C3'],\n",
    "                      'D': ['D0', 'D1', 'D2', 'D3']})\n",
    "\n",
    "result = pd.merge(left, right, on=['key1', 'key2'], how='inner')\n",
    "result"
   ],
   "metadata": {
    "collapsed": false,
    "ExecuteTime": {
     "start_time": "2023-04-08T19:21:33.788908Z",
     "end_time": "2023-04-08T19:21:33.818247Z"
    }
   }
  },
  {
   "cell_type": "code",
   "execution_count": 57,
   "outputs": [
    {
     "data": {
      "text/plain": "0    2\n1    2\n2    2\nName: key2, dtype: int64"
     },
     "execution_count": 57,
     "metadata": {},
     "output_type": "execute_result"
    }
   ],
   "source": [
    "result['key2'].str.len()"
   ],
   "metadata": {
    "collapsed": false,
    "ExecuteTime": {
     "start_time": "2023-04-08T19:43:51.375706Z",
     "end_time": "2023-04-08T19:43:51.406948Z"
    }
   }
  },
  {
   "cell_type": "code",
   "execution_count": 59,
   "outputs": [],
   "source": [
    "import numpy as np\n",
    "import pandas as pd"
   ],
   "metadata": {
    "collapsed": false,
    "ExecuteTime": {
     "start_time": "2023-04-08T19:47:11.349501Z",
     "end_time": "2023-04-08T19:47:11.412285Z"
    }
   }
  },
  {
   "cell_type": "code",
   "execution_count": 65,
   "outputs": [
    {
     "name": "stdout",
     "output_type": "stream",
     "text": [
      "    a   b   c   d\n",
      "0   1   2   3   4\n",
      "1   5   6   7   8\n",
      "2   9  10  11  12\n",
      "3  13  14  15  16     a   b   c   d\n",
      "0  17  18  19  20\n",
      "1  21  22  23  24\n",
      "2  25  26  27  28\n",
      "3  29  30  31  32\n"
     ]
    }
   ],
   "source": [
    "df1 = np.arange(1,17).reshape(4,4)\n",
    "df2 = np.arange(17,33).reshape(4,4)\n",
    "df1 = pd.DataFrame(df1,columns=list('abcd'))\n",
    "df2 = pd.DataFrame(df2,columns=list('abcd'))\n",
    "print(df1,df2)"
   ],
   "metadata": {
    "collapsed": false,
    "ExecuteTime": {
     "start_time": "2023-04-08T19:51:35.450217Z",
     "end_time": "2023-04-08T19:51:35.497324Z"
    }
   }
  },
  {
   "cell_type": "code",
   "execution_count": 69,
   "outputs": [
    {
     "data": {
      "text/plain": "    a   b   c   d   a   b   c   d\n0   1   2   3   4  17  18  19  20\n1   5   6   7   8  21  22  23  24\n2   9  10  11  12  25  26  27  28\n3  13  14  15  16  29  30  31  32",
      "text/html": "<div>\n<style scoped>\n    .dataframe tbody tr th:only-of-type {\n        vertical-align: middle;\n    }\n\n    .dataframe tbody tr th {\n        vertical-align: top;\n    }\n\n    .dataframe thead th {\n        text-align: right;\n    }\n</style>\n<table border=\"1\" class=\"dataframe\">\n  <thead>\n    <tr style=\"text-align: right;\">\n      <th></th>\n      <th>a</th>\n      <th>b</th>\n      <th>c</th>\n      <th>d</th>\n      <th>a</th>\n      <th>b</th>\n      <th>c</th>\n      <th>d</th>\n    </tr>\n  </thead>\n  <tbody>\n    <tr>\n      <th>0</th>\n      <td>1</td>\n      <td>2</td>\n      <td>3</td>\n      <td>4</td>\n      <td>17</td>\n      <td>18</td>\n      <td>19</td>\n      <td>20</td>\n    </tr>\n    <tr>\n      <th>1</th>\n      <td>5</td>\n      <td>6</td>\n      <td>7</td>\n      <td>8</td>\n      <td>21</td>\n      <td>22</td>\n      <td>23</td>\n      <td>24</td>\n    </tr>\n    <tr>\n      <th>2</th>\n      <td>9</td>\n      <td>10</td>\n      <td>11</td>\n      <td>12</td>\n      <td>25</td>\n      <td>26</td>\n      <td>27</td>\n      <td>28</td>\n    </tr>\n    <tr>\n      <th>3</th>\n      <td>13</td>\n      <td>14</td>\n      <td>15</td>\n      <td>16</td>\n      <td>29</td>\n      <td>30</td>\n      <td>31</td>\n      <td>32</td>\n    </tr>\n  </tbody>\n</table>\n</div>"
     },
     "execution_count": 69,
     "metadata": {},
     "output_type": "execute_result"
    }
   ],
   "source": [
    "da_ta = pd.concat([df1,df2],axis=1)\n",
    "da_ta"
   ],
   "metadata": {
    "collapsed": false,
    "ExecuteTime": {
     "start_time": "2023-04-08T19:53:17.854197Z",
     "end_time": "2023-04-08T19:53:17.870025Z"
    }
   }
  }
 ],
 "metadata": {
  "kernelspec": {
   "display_name": "Python 3",
   "language": "python",
   "name": "python3"
  },
  "language_info": {
   "codemirror_mode": {
    "name": "ipython",
    "version": 2
   },
   "file_extension": ".py",
   "mimetype": "text/x-python",
   "name": "python",
   "nbconvert_exporter": "python",
   "pygments_lexer": "ipython2",
   "version": "2.7.6"
  }
 },
 "nbformat": 4,
 "nbformat_minor": 0
}
