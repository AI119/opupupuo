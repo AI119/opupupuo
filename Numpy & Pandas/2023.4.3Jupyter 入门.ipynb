{
 "cells": [
  {
   "cell_type": "markdown",
   "id": "ca29b6a8",
   "metadata": {},
   "source": [
    "## 1 . 创建二维数组"
   ]
  },
  {
   "cell_type": "code",
   "execution_count": 2,
   "id": "fc0df022",
   "metadata": {
    "ExecuteTime": {
     "start_time": "2023-04-05T09:23:04.143905Z",
     "end_time": "2023-04-05T09:23:04.709051Z"
    }
   },
   "outputs": [
    {
     "data": {
      "text/plain": "[[1, 2], [3, 4], [5, 6]]"
     },
     "execution_count": 2,
     "metadata": {},
     "output_type": "execute_result"
    }
   ],
   "source": [
    "import numpy as np\n",
    "\n",
    "list2 = [[1, 2], [3, 4], [5, 6]]\n",
    "list2"
   ]
  },
  {
   "cell_type": "markdown",
   "id": "4ecccf20",
   "metadata": {},
   "source": [
    "## 2 . 创建一个数组并改变它"
   ]
  },
  {
   "cell_type": "code",
   "execution_count": 3,
   "id": "bc640214",
   "metadata": {
    "ExecuteTime": {
     "start_time": "2023-04-05T09:23:04.360407Z",
     "end_time": "2023-04-05T09:23:04.709051Z"
    }
   },
   "outputs": [
    {
     "name": "stdout",
     "output_type": "stream",
     "text": [
      "<class 'numpy.ndarray'>\n"
     ]
    },
    {
     "data": {
      "text/plain": "array([[[ 0,  1,  2,  3],\n        [ 4,  5,  6,  7],\n        [ 8,  9, 10, 11]],\n\n       [[12, 13, 14, 15],\n        [16, 17, 18, 19],\n        [20, 21, 22, 23]]])"
     },
     "execution_count": 3,
     "metadata": {},
     "output_type": "execute_result"
    }
   ],
   "source": [
    "list_1 = np.arange(24)\n",
    "print(type(list_1))\n",
    "list_1.shape = (2, 3, 4)\n",
    "list_1"
   ]
  },
  {
   "cell_type": "markdown",
   "id": "4daccd37",
   "metadata": {},
   "source": [
    "## 3 . 改变数组形状"
   ]
  },
  {
   "cell_type": "code",
   "execution_count": 4,
   "id": "11255058",
   "metadata": {
    "ExecuteTime": {
     "start_time": "2023-04-05T09:23:04.379178Z",
     "end_time": "2023-04-05T09:23:04.709051Z"
    }
   },
   "outputs": [
    {
     "name": "stdout",
     "output_type": "stream",
     "text": [
      "[[ 1  2  3  4  5  6]\n",
      " [ 7  8  9 10 11 12]]\n",
      "[[ 1  2  3  4]\n",
      " [ 5  6  7  8]\n",
      " [ 9 10 11 12]]\n"
     ]
    },
    {
     "data": {
      "text/plain": "array([[[ 1,  2,  3],\n        [ 4,  5,  6]],\n\n       [[ 7,  8,  9],\n        [10, 11, 12]]])"
     },
     "execution_count": 4,
     "metadata": {},
     "output_type": "execute_result"
    }
   ],
   "source": [
    "a_other = np.array([[1, 2, 3, 4, 5, 6], [7, 8, 9, 10, 11, 12]])\n",
    "print(a_other)\n",
    "#变成一个三行四列的数组\n",
    "a_other_new = a_other.reshape(3, 4)\n",
    "print(a_other_new)\n",
    "#变成两个两行三列的数组\n",
    "a_other1 = a_other.reshape((2, 2, 3))\n",
    "a_other1"
   ]
  },
  {
   "cell_type": "code",
   "execution_count": 5,
   "id": "bf749667",
   "metadata": {
    "ExecuteTime": {
     "start_time": "2023-04-05T09:23:04.399002Z",
     "end_time": "2023-04-05T09:23:04.709051Z"
    }
   },
   "outputs": [
    {
     "data": {
      "text/plain": "array([1, 2, 3, 4, 5, 6])"
     },
     "execution_count": 5,
     "metadata": {},
     "output_type": "execute_result"
    }
   ],
   "source": [
    "four_other = np.array([[1, 2, 3], [4, 5, 6]])\n",
    "five = four_other.reshape((6,))\n",
    "five"
   ]
  },
  {
   "cell_type": "markdown",
   "id": "780a6575",
   "metadata": {},
   "source": [
    "## 4 . 截取数组中的行列"
   ]
  },
  {
   "cell_type": "code",
   "execution_count": 6,
   "id": "8173e278",
   "metadata": {
    "ExecuteTime": {
     "start_time": "2023-04-05T09:23:04.419323Z",
     "end_time": "2023-04-05T09:23:04.709051Z"
    }
   },
   "outputs": [
    {
     "data": {
      "text/plain": "array([[ 0,  1,  2,  3,  4,  5],\n       [ 6,  7,  8,  9, 10, 11],\n       [12, 13, 14, 15, 16, 17],\n       [18, 19, 20, 21, 22, 23]])"
     },
     "execution_count": 6,
     "metadata": {},
     "output_type": "execute_result"
    }
   ],
   "source": [
    "a1 = np.arange(24)\n",
    "a1.shape = (4, 6)\n",
    "a1"
   ]
  },
  {
   "cell_type": "code",
   "execution_count": 7,
   "id": "80ff9a1a",
   "metadata": {
    "ExecuteTime": {
     "start_time": "2023-04-05T09:23:04.439239Z",
     "end_time": "2023-04-05T09:23:04.709051Z"
    }
   },
   "outputs": [
    {
     "name": "stdout",
     "output_type": "stream",
     "text": [
      "[20]\n"
     ]
    }
   ],
   "source": [
    "print(a1[[3], [2]])"
   ]
  },
  {
   "cell_type": "code",
   "execution_count": 8,
   "id": "3abc5482",
   "metadata": {
    "ExecuteTime": {
     "start_time": "2023-04-05T09:23:04.460480Z",
     "end_time": "2023-04-05T09:23:04.709051Z"
    }
   },
   "outputs": [
    {
     "name": "stdout",
     "output_type": "stream",
     "text": [
      "[[ 0  2  3]\n",
      " [ 6  8  9]\n",
      " [12 14 15]\n",
      " [18 20 21]]\n"
     ]
    }
   ],
   "source": [
    "#取不连续的多列\n",
    "#  冒号指所有行，0，2，3分别指第一、三、四列\n",
    "print(a1[:, [0, 2, 3]])"
   ]
  },
  {
   "cell_type": "code",
   "execution_count": 9,
   "id": "3390937d",
   "metadata": {
    "ExecuteTime": {
     "start_time": "2023-04-05T09:23:04.479071Z",
     "end_time": "2023-04-05T09:23:04.749214Z"
    }
   },
   "outputs": [
    {
     "name": "stdout",
     "output_type": "stream",
     "text": [
      "[[ 0  1  2  3  4  5]\n",
      " [12 13 14 15 16 17]\n",
      " [18 19 20 21 22 23]]\n",
      "[[ 0  1  2  3  4  5]\n",
      " [12 13 14 15 16 17]\n",
      " [18 19 20 21 22 23]]\n",
      "[0 7 9]\n"
     ]
    }
   ],
   "source": [
    "#截取第1、3、4行\n",
    "print(a1[[0, 2, 3]])\n",
    "#截取第1，3，4行的所有列\n",
    "print(a1[[0, 2, 3], :])\n",
    "#截取第第1行第1列，第2行第2列，第2行第4列的元素\n",
    "print(a1[[0, 1, 1], [0, 1, 3]])"
   ]
  },
  {
   "cell_type": "markdown",
   "id": "a070a15a",
   "metadata": {},
   "source": [
    "## 4.1数组中的数值修改"
   ]
  },
  {
   "cell_type": "code",
   "execution_count": 10,
   "id": "c31597c1",
   "metadata": {
    "ExecuteTime": {
     "start_time": "2023-04-05T09:23:04.499182Z",
     "end_time": "2023-04-05T09:23:04.749214Z"
    }
   },
   "outputs": [],
   "source": [
    "a2 = a1\n",
    "#修改第二行的值\n",
    "a2[1, :] = 8\n",
    "a2\n",
    "#使用逻辑运算\n",
    "a2[(a2 > 1) & (a2 < 9)] = 0  #与"
   ]
  },
  {
   "cell_type": "code",
   "execution_count": 11,
   "id": "3d09d4b9",
   "metadata": {
    "ExecuteTime": {
     "start_time": "2023-04-05T09:23:04.519218Z",
     "end_time": "2023-04-05T09:23:04.749214Z"
    }
   },
   "outputs": [
    {
     "data": {
      "text/plain": "array([[ 8,  8,  8,  8,  8,  8],\n       [ 8,  8,  8,  8,  8,  8],\n       [12, 13, 14, 15, 16, 17],\n       [18, 19,  8,  8,  8,  8]])"
     },
     "execution_count": 11,
     "metadata": {},
     "output_type": "execute_result"
    }
   ],
   "source": [
    "a2[(a2 < 2) | (a2 > 19)] = 8  #或\n",
    "a2"
   ]
  },
  {
   "cell_type": "code",
   "execution_count": 12,
   "id": "f292a262",
   "metadata": {
    "ExecuteTime": {
     "start_time": "2023-04-05T09:23:04.539334Z",
     "end_time": "2023-04-05T09:23:04.749214Z"
    }
   },
   "outputs": [
    {
     "name": "stdout",
     "output_type": "stream",
     "text": [
      "[[ 8  8  8  8  8  8]\n",
      " [ 8  8  8  8  8  8]\n",
      " [12 13 14 15 16 17]\n",
      " [18 19  8  8  8  8]]\n"
     ]
    }
   ],
   "source": [
    "print(a2)\n",
    "a2[~(a2 > 8)] = 5  #非\n"
   ]
  },
  {
   "cell_type": "markdown",
   "id": "52a2d89d",
   "metadata": {},
   "source": [
    "## 5 . 数组中的轴"
   ]
  },
  {
   "cell_type": "code",
   "execution_count": 13,
   "id": "a8ebb077",
   "metadata": {
    "ExecuteTime": {
     "start_time": "2023-04-05T09:23:04.568987Z",
     "end_time": "2023-04-05T09:23:04.749214Z"
    }
   },
   "outputs": [
    {
     "data": {
      "text/plain": "array([[1, 2, 3],\n       [4, 5, 6]])"
     },
     "execution_count": 13,
     "metadata": {},
     "output_type": "execute_result"
    }
   ],
   "source": [
    "import numpy as np\n",
    "\n",
    "a = np.arange(1, 7).reshape(2, 3)\n",
    "a"
   ]
  },
  {
   "cell_type": "code",
   "execution_count": 14,
   "id": "b990390d",
   "metadata": {
    "ExecuteTime": {
     "start_time": "2023-04-05T09:23:04.589382Z",
     "end_time": "2023-04-05T09:23:04.749214Z"
    }
   },
   "outputs": [
    {
     "name": "stdout",
     "output_type": "stream",
     "text": [
      "[ 6 15]\n",
      "[5 7 9]\n"
     ]
    }
   ],
   "source": [
    "print(np.sum(a, axis=1))  #所有行之和\n",
    "print(np.sum(a, axis=0))"
   ]
  },
  {
   "cell_type": "code",
   "execution_count": 15,
   "id": "75bc842d",
   "metadata": {
    "ExecuteTime": {
     "start_time": "2023-04-05T09:23:04.609154Z",
     "end_time": "2023-04-05T09:23:04.749214Z"
    }
   },
   "outputs": [
    {
     "data": {
      "text/plain": "array([[[ 0,  1,  2],\n        [ 3,  4,  5],\n        [ 6,  7,  8]],\n\n       [[ 9, 10, 11],\n        [12, 13, 14],\n        [15, 16, 17]],\n\n       [[18, 19, 20],\n        [21, 22, 23],\n        [24, 25, 26]]])"
     },
     "execution_count": 15,
     "metadata": {},
     "output_type": "execute_result"
    }
   ],
   "source": [
    "a_1 = np.arange(27).reshape((3, 3, 3))\n",
    "a_1"
   ]
  },
  {
   "cell_type": "code",
   "execution_count": 16,
   "id": "a415bb39",
   "metadata": {
    "ExecuteTime": {
     "start_time": "2023-04-05T09:23:04.629290Z",
     "end_time": "2023-04-05T09:23:04.749214Z"
    }
   },
   "outputs": [
    {
     "name": "stdout",
     "output_type": "stream",
     "text": [
      "[[27 30 33]\n",
      " [36 39 42]\n",
      " [45 48 51]]\n",
      "********************\n",
      "[[ 9 12 15]\n",
      " [36 39 42]\n",
      " [63 66 69]]\n",
      "********************\n",
      "[[ 3 12 21]\n",
      " [30 39 48]\n",
      " [57 66 75]]\n"
     ]
    }
   ],
   "source": [
    "b = np.sum(a_1, axis=0)\n",
    "print(b)\n",
    "print('*' * 20)\n",
    "c = np.sum(a_1, axis=1)\n",
    "print(c)\n",
    "print('*' * 20)\n",
    "c = np.sum(a_1, axis=2)\n",
    "print(c)"
   ]
  },
  {
   "cell_type": "markdown",
   "id": "ee15f91e",
   "metadata": {},
   "source": [
    "## 6、数组与数组的计算"
   ]
  },
  {
   "cell_type": "code",
   "execution_count": 17,
   "id": "3d03af15",
   "metadata": {
    "ExecuteTime": {
     "start_time": "2023-04-05T09:23:04.649334Z",
     "end_time": "2023-04-05T09:23:04.749214Z"
    }
   },
   "outputs": [
    {
     "name": "stdout",
     "output_type": "stream",
     "text": [
      "[[ 0  1  2  3]\n",
      " [ 4  5  6  7]\n",
      " [ 8  9 10 11]\n",
      " [12 13 14 15]\n",
      " [16 17 18 19]\n",
      " [20 21 22 23]]\n",
      "[[ 0.   0.5  1.   1.5]\n",
      " [ 2.   2.5  3.   3.5]\n",
      " [ 4.   4.5  5.   5.5]\n",
      " [ 6.   6.5  7.   7.5]\n",
      " [ 8.   8.5  9.   9.5]\n",
      " [10.  10.5 11.  11.5]]\n"
     ]
    }
   ],
   "source": [
    "t1 = np.arange(24).reshape((6, 4))\n",
    "print(t1)\n",
    "print(t1 / 2)  #数组中所有的元素除以二"
   ]
  },
  {
   "cell_type": "code",
   "execution_count": 18,
   "id": "c6b4af79",
   "metadata": {
    "ExecuteTime": {
     "start_time": "2023-04-05T09:23:04.669248Z",
     "end_time": "2023-04-05T09:23:04.749214Z"
    }
   },
   "outputs": [
    {
     "name": "stdout",
     "output_type": "stream",
     "text": [
      "[[ 0  2  4  6]\n",
      " [ 8 10 12 14]\n",
      " [16 18 20 22]\n",
      " [24 26 28 30]\n",
      " [32 34 36 38]\n",
      " [40 42 44 46]]\n"
     ]
    }
   ],
   "source": [
    "print(t1 * 2)"
   ]
  },
  {
   "cell_type": "code",
   "execution_count": 19,
   "id": "3f504241",
   "metadata": {
    "ExecuteTime": {
     "start_time": "2023-04-05T09:23:04.679287Z",
     "end_time": "2023-04-05T09:23:04.749214Z"
    }
   },
   "outputs": [
    {
     "name": "stdout",
     "output_type": "stream",
     "text": [
      "[[ 2  3  4  5]\n",
      " [ 6  7  8  9]\n",
      " [10 11 12 13]\n",
      " [14 15 16 17]\n",
      " [18 19 20 21]\n",
      " [22 23 24 25]]\n"
     ]
    }
   ],
   "source": [
    "print(t1 + 2)"
   ]
  },
  {
   "cell_type": "code",
   "execution_count": 20,
   "id": "5c818439",
   "metadata": {
    "ExecuteTime": {
     "start_time": "2023-04-05T09:23:04.698874Z",
     "end_time": "2023-04-05T09:23:04.749214Z"
    }
   },
   "outputs": [
    {
     "data": {
      "text/plain": "array([[100, 101, 102, 103],\n       [104, 105, 106, 107],\n       [108, 109, 110, 111],\n       [112, 113, 114, 115],\n       [116, 117, 118, 119],\n       [120, 121, 122, 123]])"
     },
     "execution_count": 20,
     "metadata": {},
     "output_type": "execute_result"
    }
   ],
   "source": [
    "t2 = np.arange(100, 124).reshape(6, 4)\n",
    "t2"
   ]
  },
  {
   "cell_type": "code",
   "execution_count": 21,
   "id": "b123f86c",
   "metadata": {
    "ExecuteTime": {
     "start_time": "2023-04-05T09:23:04.709051Z",
     "end_time": "2023-04-05T09:23:04.759270Z"
    }
   },
   "outputs": [
    {
     "name": "stdout",
     "output_type": "stream",
     "text": [
      "[[100 102 104 106]\n",
      " [108 110 112 114]\n",
      " [116 118 120 122]\n",
      " [124 126 128 130]\n",
      " [132 134 136 138]\n",
      " [140 142 144 146]]\n"
     ]
    }
   ],
   "source": [
    "print(t1 + t2)"
   ]
  },
  {
   "cell_type": "code",
   "execution_count": 22,
   "id": "170d63f6",
   "metadata": {
    "ExecuteTime": {
     "start_time": "2023-04-05T09:23:04.729361Z",
     "end_time": "2023-04-05T09:23:05.219038Z"
    }
   },
   "outputs": [
    {
     "name": "stdout",
     "output_type": "stream",
     "text": [
      "[[ 0  1  2  3  4  5]\n",
      " [ 6  7  8  9 10 11]\n",
      " [12 13 14 15 16 17]\n",
      " [18 19 20 21 22 23]]\n",
      "[0 1 2 3 4 5]\n",
      "[[ 0  0  0  0  0  0]\n",
      " [ 6  6  6  6  6  6]\n",
      " [12 12 12 12 12 12]\n",
      " [18 18 18 18 18 18]]\n"
     ]
    }
   ],
   "source": [
    "t1 = np.arange(24).reshape((4, 6))\n",
    "t2 = np.arange(0, 6)\n",
    "print(t1)\n",
    "print(t2)\n",
    "print(t1 - t2)"
   ]
  },
  {
   "cell_type": "markdown",
   "id": "9adf2979",
   "metadata": {},
   "source": [
    "### 7.向数组中添加元素"
   ]
  },
  {
   "cell_type": "code",
   "execution_count": 23,
   "id": "5d2d4341",
   "metadata": {
    "ExecuteTime": {
     "start_time": "2023-04-05T09:23:04.749214Z",
     "end_time": "2023-04-05T09:23:05.274201Z"
    }
   },
   "outputs": [
    {
     "data": {
      "text/plain": "array([[1, 2, 3],\n       [4, 5, 6]])"
     },
     "execution_count": 23,
     "metadata": {},
     "output_type": "execute_result"
    }
   ],
   "source": [
    "a_2 = np.array([[1, 2, 3], [4, 5, 6]])\n",
    "a_2"
   ]
  },
  {
   "cell_type": "code",
   "execution_count": 24,
   "id": "5173d895",
   "metadata": {
    "ExecuteTime": {
     "start_time": "2023-04-05T09:23:04.768849Z",
     "end_time": "2023-04-05T09:23:05.274201Z"
    }
   },
   "outputs": [
    {
     "name": "stdout",
     "output_type": "stream",
     "text": [
      "[1 2 3 4 5 6 7 8 9]\n",
      "[[1 2 3]\n",
      " [4 5 6]\n",
      " [7 8 9]]\n",
      "[[1 2 3 0 0 0]\n",
      " [4 5 6 7 8 9]]\n"
     ]
    }
   ],
   "source": [
    "print(np.append(a_2, [7, 8, 9]))  #没有指定行列，输出时会把二维变一维添加数组\n",
    "print(np.append(a_2, [[7, 8, 9]], axis=0))  #指定在每一列末尾添加7，8，9\n",
    "print(np.append(a_2, [[0, 0, 0], [7, 8, 9]], axis=1))  #在每一行末尾添加数组"
   ]
  },
  {
   "cell_type": "code",
   "execution_count": 25,
   "id": "bccee67d",
   "metadata": {
    "ExecuteTime": {
     "start_time": "2023-04-05T09:23:04.789293Z",
     "end_time": "2023-04-05T09:23:05.274201Z"
    }
   },
   "outputs": [
    {
     "data": {
      "text/plain": "array([[1, 2],\n       [3, 4],\n       [5, 6]])"
     },
     "execution_count": 25,
     "metadata": {},
     "output_type": "execute_result"
    }
   ],
   "source": [
    "a = np.arange(1, 7).reshape(3, 2)\n",
    "a"
   ]
  },
  {
   "cell_type": "code",
   "execution_count": 26,
   "id": "588496d1",
   "metadata": {
    "ExecuteTime": {
     "start_time": "2023-04-05T09:23:04.809323Z",
     "end_time": "2023-04-05T09:23:05.279232Z"
    }
   },
   "outputs": [
    {
     "name": "stdout",
     "output_type": "stream",
     "text": [
      "[[1 7 2]\n",
      " [3 8 4]\n",
      " [5 9 6]]\n"
     ]
    }
   ],
   "source": [
    "print(np.insert(a, 1, [7, 8, 9], axis=1))  #以列为单位，向索引之为1的列添加元素。"
   ]
  },
  {
   "cell_type": "code",
   "execution_count": 27,
   "id": "fea9c912",
   "metadata": {
    "ExecuteTime": {
     "start_time": "2023-04-05T09:23:04.828973Z",
     "end_time": "2023-04-05T09:23:05.279232Z"
    }
   },
   "outputs": [
    {
     "name": "stdout",
     "output_type": "stream",
     "text": [
      "[[ 1  2]\n",
      " [ 4 12]\n",
      " [ 3  4]\n",
      " [ 5  6]]\n",
      "[3. 4.]\n"
     ]
    }
   ],
   "source": [
    "print(np.insert(a, 1, [4, 12], axis=0))  #以列为检索单位，往第2列插入4，12\n",
    "x = np.mean(a, axis=0)  #求所有列的平均值\n",
    "print(x)"
   ]
  },
  {
   "cell_type": "markdown",
   "id": "45963a61",
   "metadata": {},
   "source": [
    "### 8、在数组中删除元素"
   ]
  },
  {
   "cell_type": "code",
   "execution_count": 28,
   "id": "db43096f",
   "metadata": {
    "ExecuteTime": {
     "start_time": "2023-04-05T09:23:04.850887Z",
     "end_time": "2023-04-05T09:23:05.279232Z"
    }
   },
   "outputs": [
    {
     "name": "stdout",
     "output_type": "stream",
     "text": [
      "[[1 2 3]\n",
      " [4 5 6]\n",
      " [7 8 9]]\n"
     ]
    }
   ],
   "source": [
    "a = np.arange(1, 10).reshape(3, 3)\n",
    "print(a)"
   ]
  },
  {
   "cell_type": "code",
   "execution_count": 29,
   "id": "c35d3f15",
   "metadata": {
    "ExecuteTime": {
     "start_time": "2023-04-05T09:23:04.860953Z",
     "end_time": "2023-04-05T09:23:05.279232Z"
    }
   },
   "outputs": [
    {
     "name": "stdout",
     "output_type": "stream",
     "text": [
      "[[4 5 6]\n",
      " [7 8 9]]\n"
     ]
    },
    {
     "data": {
      "text/plain": "array([[1, 2, 3],\n       [4, 5, 6],\n       [7, 8, 9]])"
     },
     "execution_count": 29,
     "metadata": {},
     "output_type": "execute_result"
    }
   ],
   "source": [
    "print(np.delete(a, 0, axis=0))  #以行为单位，删除索引值为0的那一行\n",
    "a"
   ]
  },
  {
   "cell_type": "code",
   "execution_count": 30,
   "id": "c8fa9d60",
   "metadata": {
    "ExecuteTime": {
     "start_time": "2023-04-05T09:23:04.868998Z",
     "end_time": "2023-04-05T09:23:05.279232Z"
    }
   },
   "outputs": [
    {
     "name": "stdout",
     "output_type": "stream",
     "text": [
      "[1 2 3 4 5 7 8 9]\n"
     ]
    }
   ],
   "source": [
    "print(np.delete(a, 5))  #删除索引为5的元素，没有指定行列默认展开数组"
   ]
  },
  {
   "cell_type": "code",
   "execution_count": 31,
   "id": "5444aae1",
   "metadata": {
    "ExecuteTime": {
     "start_time": "2023-04-05T09:23:04.889228Z",
     "end_time": "2023-04-05T09:23:05.279232Z"
    }
   },
   "outputs": [
    {
     "name": "stdout",
     "output_type": "stream",
     "text": [
      "[[2 3]\n",
      " [5 6]\n",
      " [8 9]]\n"
     ]
    },
    {
     "data": {
      "text/plain": "array([[1, 2, 3],\n       [4, 5, 6],\n       [7, 8, 9]])"
     },
     "execution_count": 31,
     "metadata": {},
     "output_type": "execute_result"
    }
   ],
   "source": [
    "print(np.delete(a, 0, axis=1))  #以列为单位，删除索引值为0的哪一行\n",
    "a"
   ]
  },
  {
   "cell_type": "markdown",
   "id": "e4b01057",
   "metadata": {},
   "source": [
    "### 9、数组去重"
   ]
  },
  {
   "cell_type": "code",
   "execution_count": 32,
   "id": "6c2f76c1",
   "metadata": {
    "ExecuteTime": {
     "start_time": "2023-04-05T09:23:04.908888Z",
     "end_time": "2023-04-05T09:23:05.283749Z"
    }
   },
   "outputs": [
    {
     "name": "stdout",
     "output_type": "stream",
     "text": [
      "第一个数组：\n",
      "[5 2 6 2 7 5 6 8 2 9]\n",
      "\n",
      "\n",
      "第一个数组的去重值：\n",
      "[2 5 6 7 8 9]\n",
      "\n",
      "\n",
      "去重数组的索引数组：\n",
      "[1 0 2 4 7 9]\n",
      "\n",
      "\n",
      "我们可以看到每个和原数组下标对应的数值：\n",
      "[5 2 6 2 7 5 6 8 2 9]\n",
      "\n",
      "\n",
      "去重数组的下标：\n",
      "[2 5 6 7 8 9]\n",
      "\n",
      "\n",
      "下标为：\n",
      "[1 0 2 0 3 1 2 4 0 5]\n",
      "\n",
      "\n",
      "使用下标重构原数组：\n",
      "[5 2 6 2 7 5 6 8 2 9]\n",
      "\n",
      "\n",
      "返回去重元素的重复数量：\n",
      "[2 5 6 7 8 9]\n",
      "[3 2 2 1 1 1]\n"
     ]
    }
   ],
   "source": [
    "import numpy as np\n",
    "\n",
    "a = np.array([5, 2, 6, 2, 7, 5, 6, 8, 2, 9])\n",
    "\n",
    "print('第一个数组：')\n",
    "print(a)\n",
    "print('\\n')\n",
    "\n",
    "print('第一个数组的去重值：')\n",
    "u = np.unique(a)\n",
    "print(u)\n",
    "print('\\n')\n",
    "\n",
    "print('去重数组的索引数组：')\n",
    "u, indices = np.unique(a, return_index=True)\n",
    "print(indices)\n",
    "print('\\n')\n",
    "\n",
    "print('我们可以看到每个和原数组下标对应的数值：')\n",
    "print(a)\n",
    "print('\\n')\n",
    "\n",
    "print('去重数组的下标：')\n",
    "u, indices = np.unique(a, return_inverse=True)\n",
    "print(u)\n",
    "print('\\n')\n",
    "\n",
    "print('下标为：')\n",
    "print(indices)\n",
    "print('\\n')\n",
    "\n",
    "print('使用下标重构原数组：')\n",
    "print(u[indices])\n",
    "print('\\n')\n",
    "\n",
    "print('返回去重元素的重复数量：')\n",
    "u, indices = np.unique(a, return_counts=True)\n",
    "print(u)\n",
    "print(indices)"
   ]
  },
  {
   "cell_type": "markdown",
   "source": [
    "## 数组拼接"
   ],
   "metadata": {
    "collapsed": false
   }
  },
  {
   "cell_type": "code",
   "execution_count": 36,
   "id": "8eb8cea8",
   "metadata": {
    "ExecuteTime": {
     "start_time": "2023-04-05T09:23:50.959171Z",
     "end_time": "2023-04-05T09:23:51.039020Z"
    }
   },
   "outputs": [
    {
     "name": "stdout",
     "output_type": "stream",
     "text": [
      "[[1 2]\n",
      " [3 4]]\n",
      "[[5 6]\n",
      " [7 8]]\n"
     ]
    }
   ],
   "source": [
    "a = [[1, 2], [3, 4]]\n",
    "b = [[5, 6], [7, 8]]\n",
    "a = np.array(a)\n",
    "b = np.array(b)\n",
    "print(a)\n",
    "print(b)"
   ]
  },
  {
   "cell_type": "code",
   "execution_count": 40,
   "outputs": [
    {
     "name": "stdout",
     "output_type": "stream",
     "text": [
      "[[1 2 5 6]\n",
      " [3 4 7 8]]\n",
      "[[1 2]\n",
      " [3 4]\n",
      " [5 6]\n",
      " [7 8]]\n"
     ]
    }
   ],
   "source": [
    "#水平拼接\n",
    "print(np.concatenate((a, b), axis=1))\n",
    "#垂直凭借\n",
    "print(np.concatenate((a, b), axis=0))"
   ],
   "metadata": {
    "collapsed": false,
    "ExecuteTime": {
     "start_time": "2023-04-05T09:26:22.459313Z",
     "end_time": "2023-04-05T09:26:22.499166Z"
    }
   }
  },
  {
   "cell_type": "markdown",
   "source": [
    "### 堆叠"
   ],
   "metadata": {
    "collapsed": false
   }
  },
  {
   "cell_type": "code",
   "execution_count": 43,
   "outputs": [
    {
     "data": {
      "text/plain": "(array([[1, 2],\n        [3, 4]]),\n array([[5, 6],\n        [7, 8]]))"
     },
     "execution_count": 43,
     "metadata": {},
     "output_type": "execute_result"
    }
   ],
   "source": [
    "a,b"
   ],
   "metadata": {
    "collapsed": false,
    "ExecuteTime": {
     "start_time": "2023-04-05T09:51:42.529629Z",
     "end_time": "2023-04-05T09:51:42.569869Z"
    }
   }
  },
  {
   "cell_type": "code",
   "execution_count": 47,
   "outputs": [
    {
     "name": "stdout",
     "output_type": "stream",
     "text": [
      "[[1 2 5 6]\n",
      " [3 4 7 8]]\n",
      "[[1 2]\n",
      " [3 4]\n",
      " [5 6]\n",
      " [7 8]]\n"
     ]
    }
   ],
   "source": [
    "#水平堆叠，要注意的是堆叠的元素，行数必须相同\n",
    "print(np.hstack((a,b)))\n",
    "#纵向堆叠，两个数组必须列数相同\n",
    "print(np.vstack((a,b) ))"
   ],
   "metadata": {
    "collapsed": false,
    "ExecuteTime": {
     "start_time": "2023-04-05T09:56:49.469553Z",
     "end_time": "2023-04-05T09:56:49.479625Z"
    }
   }
  },
  {
   "cell_type": "code",
   "execution_count": 48,
   "outputs": [
    {
     "data": {
      "text/plain": "array([[ 0,  1,  2,  3,  4,  5],\n       [ 6,  7,  8,  9, 10, 11],\n       [12, 13, 14, 15, 16, 17],\n       [18, 19, 20, 21, 22, 23]])"
     },
     "execution_count": 48,
     "metadata": {},
     "output_type": "execute_result"
    }
   ],
   "source": [
    "a_1 = np.arange(24).reshape(4,6)\n",
    "a_1"
   ],
   "metadata": {
    "collapsed": false,
    "ExecuteTime": {
     "start_time": "2023-04-05T09:59:58.639546Z",
     "end_time": "2023-04-05T09:59:58.660769Z"
    }
   }
  },
  {
   "cell_type": "markdown",
   "source": [
    "## 分割"
   ],
   "metadata": {
    "collapsed": false
   }
  },
  {
   "cell_type": "code",
   "execution_count": 51,
   "outputs": [
    {
     "name": "stdout",
     "output_type": "stream",
     "text": [
      "[array([[ 0,  1],\n",
      "       [ 6,  7],\n",
      "       [12, 13],\n",
      "       [18, 19]]), array([[ 2,  3],\n",
      "       [ 8,  9],\n",
      "       [14, 15],\n",
      "       [20, 21]]), array([[ 4,  5],\n",
      "       [10, 11],\n",
      "       [16, 17],\n",
      "       [22, 23]])]\n"
     ]
    }
   ],
   "source": [
    "#以列为单位，把6列平均分成3份\n",
    "print(np.hsplit(a_1,3))"
   ],
   "metadata": {
    "collapsed": false,
    "ExecuteTime": {
     "start_time": "2023-04-05T10:15:29.480094Z",
     "end_time": "2023-04-05T10:15:29.519943Z"
    }
   }
  },
  {
   "cell_type": "code",
   "execution_count": 52,
   "outputs": [
    {
     "name": "stdout",
     "output_type": "stream",
     "text": [
      "[array([[0, 1, 2, 3, 4, 5]]), array([[ 6,  7,  8,  9, 10, 11]]), array([[12, 13, 14, 15, 16, 17]]), array([[18, 19, 20, 21, 22, 23]])]\n"
     ]
    }
   ],
   "source": [
    "print(np.vsplit(a_1,4))"
   ],
   "metadata": {
    "collapsed": false,
    "ExecuteTime": {
     "start_time": "2023-04-05T10:21:10.686436Z",
     "end_time": "2023-04-05T10:21:10.699923Z"
    }
   }
  },
  {
   "cell_type": "markdown",
   "source": [
    "## 转置"
   ],
   "metadata": {
    "collapsed": false
   }
  },
  {
   "cell_type": "code",
   "execution_count": 58,
   "outputs": [
    {
     "name": "stdout",
     "output_type": "stream",
     "text": [
      "[[ 0  1  2  3  4  5]\n",
      " [ 6  7  8  9 10 11]\n",
      " [12 13 14 15 16 17]\n",
      " [18 19 20 21 22 23]]\n",
      "[[ 0  6 12 18]\n",
      " [ 1  7 13 19]\n",
      " [ 2  8 14 20]\n",
      " [ 3  9 15 21]\n",
      " [ 4 10 16 22]\n",
      " [ 5 11 17 23]]\n"
     ]
    },
    {
     "data": {
      "text/plain": "array([[ 0,  6, 12, 18],\n       [ 1,  7, 13, 19],\n       [ 2,  8, 14, 20],\n       [ 3,  9, 15, 21],\n       [ 4, 10, 16, 22],\n       [ 5, 11, 17, 23]])"
     },
     "execution_count": 58,
     "metadata": {},
     "output_type": "execute_result"
    }
   ],
   "source": [
    "print(a_1)\n",
    "print(np.transpose(a_1))\n",
    "a_1.T"
   ],
   "metadata": {
    "collapsed": false,
    "ExecuteTime": {
     "start_time": "2023-04-05T10:34:49.120042Z",
     "end_time": "2023-04-05T10:34:49.190014Z"
    }
   }
  },
  {
   "cell_type": "code",
   "execution_count": 62,
   "outputs": [
    {
     "name": "stdout",
     "output_type": "stream",
     "text": [
      "[[[ 0  1  2  3]\n",
      "  [ 4  5  6  7]\n",
      "  [ 8  9 10 11]]\n",
      "\n",
      " [[12 13 14 15]\n",
      "  [16 17 18 19]\n",
      "  [20 21 22 23]]]\n"
     ]
    },
    {
     "data": {
      "text/plain": "array([[[ 0, 12],\n        [ 4, 16],\n        [ 8, 20]],\n\n       [[ 1, 13],\n        [ 5, 17],\n        [ 9, 21]],\n\n       [[ 2, 14],\n        [ 6, 18],\n        [10, 22]],\n\n       [[ 3, 15],\n        [ 7, 19],\n        [11, 23]]])"
     },
     "execution_count": 62,
     "metadata": {},
     "output_type": "execute_result"
    }
   ],
   "source": [
    "a_2 = np.reshape(a_1,[2,3,4])\n",
    "print(a_2)\n",
    "a_2.T"
   ],
   "metadata": {
    "collapsed": false,
    "ExecuteTime": {
     "start_time": "2023-04-05T10:47:44.530078Z",
     "end_time": "2023-04-05T10:47:44.585579Z"
    }
   }
  }
 ],
 "metadata": {
  "kernelspec": {
   "display_name": "Python 3 (ipykernel)",
   "language": "python",
   "name": "python3"
  },
  "language_info": {
   "codemirror_mode": {
    "name": "ipython",
    "version": 3
   },
   "file_extension": ".py",
   "mimetype": "text/x-python",
   "name": "python",
   "nbconvert_exporter": "python",
   "pygments_lexer": "ipython3",
   "version": "3.9.7"
  }
 },
 "nbformat": 4,
 "nbformat_minor": 5
}
