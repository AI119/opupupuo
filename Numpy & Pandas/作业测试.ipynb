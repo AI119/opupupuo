{
 "cells": [
  {
   "cell_type": "code",
   "execution_count": 3,
   "outputs": [],
   "source": [
    "import numpy as np\n",
    "import pandas as pd\n",
    "import matplotlib.pyplot as plt\n",
    "plt.rcParams['font.family'] = \"SimHei\"\n",
    "plt.rcParams[\"axes.unicode_minus\"] = False"
   ],
   "metadata": {
    "collapsed": false,
    "ExecuteTime": {
     "start_time": "2023-04-17T16:54:07.765202Z",
     "end_time": "2023-04-17T16:54:07.789254Z"
    }
   }
  },
  {
   "cell_type": "code",
   "execution_count": 4,
   "metadata": {
    "collapsed": true,
    "ExecuteTime": {
     "start_time": "2023-04-17T16:54:08.707069Z",
     "end_time": "2023-04-17T16:54:08.840400Z"
    }
   },
   "outputs": [
    {
     "data": {
      "text/plain": "  series manufacture cartype brand carclass carlevel  carprice  stat_month  \\\n0     德系        北京奔驰     SUV    奔驰    奔驰GLA       紧凑        33      202001   \n1     德系        北京奔驰     SUV    奔驰    奔驰GLC       中型        49      202001   \n2     德系        北京奔驰      轿车    奔驰     奔驰C级       中型        41      202001   \n3     德系        北京奔驰      轿车    奔驰     奔驰E级      中大型        53      202001   \n4     德系        华晨宝马     SUV    宝马     宝马X1       紧凑        36      202001   \n\n   quantity  revenue    profit  \n0      8002   264066   60735.2  \n1     10535   516215   92918.7  \n2     13087   536567  144873.0  \n3      9133   484049   91969.3  \n4      6823   245628   58950.7  ",
      "text/html": "<div>\n<style scoped>\n    .dataframe tbody tr th:only-of-type {\n        vertical-align: middle;\n    }\n\n    .dataframe tbody tr th {\n        vertical-align: top;\n    }\n\n    .dataframe thead th {\n        text-align: right;\n    }\n</style>\n<table border=\"1\" class=\"dataframe\">\n  <thead>\n    <tr style=\"text-align: right;\">\n      <th></th>\n      <th>series</th>\n      <th>manufacture</th>\n      <th>cartype</th>\n      <th>brand</th>\n      <th>carclass</th>\n      <th>carlevel</th>\n      <th>carprice</th>\n      <th>stat_month</th>\n      <th>quantity</th>\n      <th>revenue</th>\n      <th>profit</th>\n    </tr>\n  </thead>\n  <tbody>\n    <tr>\n      <th>0</th>\n      <td>德系</td>\n      <td>北京奔驰</td>\n      <td>SUV</td>\n      <td>奔驰</td>\n      <td>奔驰GLA</td>\n      <td>紧凑</td>\n      <td>33</td>\n      <td>202001</td>\n      <td>8002</td>\n      <td>264066</td>\n      <td>60735.2</td>\n    </tr>\n    <tr>\n      <th>1</th>\n      <td>德系</td>\n      <td>北京奔驰</td>\n      <td>SUV</td>\n      <td>奔驰</td>\n      <td>奔驰GLC</td>\n      <td>中型</td>\n      <td>49</td>\n      <td>202001</td>\n      <td>10535</td>\n      <td>516215</td>\n      <td>92918.7</td>\n    </tr>\n    <tr>\n      <th>2</th>\n      <td>德系</td>\n      <td>北京奔驰</td>\n      <td>轿车</td>\n      <td>奔驰</td>\n      <td>奔驰C级</td>\n      <td>中型</td>\n      <td>41</td>\n      <td>202001</td>\n      <td>13087</td>\n      <td>536567</td>\n      <td>144873.0</td>\n    </tr>\n    <tr>\n      <th>3</th>\n      <td>德系</td>\n      <td>北京奔驰</td>\n      <td>轿车</td>\n      <td>奔驰</td>\n      <td>奔驰E级</td>\n      <td>中大型</td>\n      <td>53</td>\n      <td>202001</td>\n      <td>9133</td>\n      <td>484049</td>\n      <td>91969.3</td>\n    </tr>\n    <tr>\n      <th>4</th>\n      <td>德系</td>\n      <td>华晨宝马</td>\n      <td>SUV</td>\n      <td>宝马</td>\n      <td>宝马X1</td>\n      <td>紧凑</td>\n      <td>36</td>\n      <td>202001</td>\n      <td>6823</td>\n      <td>245628</td>\n      <td>58950.7</td>\n    </tr>\n  </tbody>\n</table>\n</div>"
     },
     "execution_count": 4,
     "metadata": {},
     "output_type": "execute_result"
    }
   ],
   "source": [
    "df3 = pd.read_excel('./data/saleinfo_month.xls')\n",
    "df3.head()"
   ]
  },
  {
   "cell_type": "code",
   "execution_count": 6,
   "outputs": [
    {
     "data": {
      "text/plain": "        quantity\nseries          \n德系       4512136\n日系       3676204\n法系        519700\n美系       2702707\n自主       4559809\n韩系       1899212",
      "text/html": "<div>\n<style scoped>\n    .dataframe tbody tr th:only-of-type {\n        vertical-align: middle;\n    }\n\n    .dataframe tbody tr th {\n        vertical-align: top;\n    }\n\n    .dataframe thead th {\n        text-align: right;\n    }\n</style>\n<table border=\"1\" class=\"dataframe\">\n  <thead>\n    <tr style=\"text-align: right;\">\n      <th></th>\n      <th>quantity</th>\n    </tr>\n    <tr>\n      <th>series</th>\n      <th></th>\n    </tr>\n  </thead>\n  <tbody>\n    <tr>\n      <th>德系</th>\n      <td>4512136</td>\n    </tr>\n    <tr>\n      <th>日系</th>\n      <td>3676204</td>\n    </tr>\n    <tr>\n      <th>法系</th>\n      <td>519700</td>\n    </tr>\n    <tr>\n      <th>美系</th>\n      <td>2702707</td>\n    </tr>\n    <tr>\n      <th>自主</th>\n      <td>4559809</td>\n    </tr>\n    <tr>\n      <th>韩系</th>\n      <td>1899212</td>\n    </tr>\n  </tbody>\n</table>\n</div>"
     },
     "execution_count": 6,
     "metadata": {},
     "output_type": "execute_result"
    }
   ],
   "source": [
    "#不同车系销量分析\n",
    "data5=df3.groupby('series').agg({'quantity': 'sum'})\n",
    "data5"
   ],
   "metadata": {
    "collapsed": false,
    "ExecuteTime": {
     "start_time": "2023-04-17T16:54:53.488728Z",
     "end_time": "2023-04-17T16:54:53.511994Z"
    }
   }
  },
  {
   "cell_type": "code",
   "execution_count": 7,
   "outputs": [
    {
     "data": {
      "text/plain": "<Figure size 432x288 with 1 Axes>",
      "image/png": "[encoded data removed]"
     },
     "metadata": {},
     "output_type": "display_data"
    }
   ],
   "source": [
    "regions =data5.index\n",
    "sales = data5['quantity']\n",
    "# 饼图\n",
    "plt.pie(sales, labels=regions, autopct='%1.1f%%')\n",
    "# 图表标题\n",
    "plt.title('车系销量占比')\n",
    "# 显示图表\n",
    "plt.show()"
   ],
   "metadata": {
    "collapsed": false,
    "ExecuteTime": {
     "start_time": "2023-04-17T16:54:54.153121Z",
     "end_time": "2023-04-17T16:54:54.336202Z"
    }
   }
  },
  {
   "cell_type": "code",
   "execution_count": null,
   "outputs": [],
   "source": [],
   "metadata": {
    "collapsed": false
   }
  }
 ],
 "metadata": {
  "kernelspec": {
   "display_name": "Python 3",
   "language": "python",
   "name": "python3"
  },
  "language_info": {
   "codemirror_mode": {
    "name": "ipython",
    "version": 2
   },
   "file_extension": ".py",
   "mimetype": "text/x-python",
   "name": "python",
   "nbconvert_exporter": "python",
   "pygments_lexer": "ipython2",
   "version": "2.7.6"
  }
 },
 "nbformat": 4,
 "nbformat_minor": 0
}
