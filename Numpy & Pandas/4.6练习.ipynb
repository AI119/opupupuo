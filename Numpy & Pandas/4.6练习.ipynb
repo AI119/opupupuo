{
 "cells": [
  {
   "cell_type": "code",
   "execution_count": 1,
   "metadata": {
    "collapsed": true,
    "ExecuteTime": {
     "start_time": "2023-04-07T14:13:41.019633Z",
     "end_time": "2023-04-07T14:13:42.139964Z"
    }
   },
   "outputs": [
    {
     "data": {
      "text/plain": "            ymd bWendu yWendu tianqi fengxiang fengli  aqi aqiInfo  aqiLevel\n0    2018-01-01     3℃    -6℃   晴~多云       东北风   1-2级   59       良         2\n1    2018-01-02     2℃    -5℃   阴~多云       东北风   1-2级   49       优         1\n2    2018-01-03     2℃    -5℃     多云        北风   1-2级   28       优         1\n3    2018-01-04     0℃    -8℃      阴       东北风   1-2级   28       优         1\n4    2018-01-05     3℃    -6℃   多云~晴       西北风   1-2级   50       优         1\n..          ...    ...    ...    ...       ...    ...  ...     ...       ...\n360  2018-12-27    -5℃   -12℃   多云~晴       西北风     3级   48       优         1\n361  2018-12-28    -3℃   -11℃      晴       西北风     3级   40       优         1\n362  2018-12-29    -3℃   -12℃      晴       西北风     2级   29       优         1\n363  2018-12-30    -2℃   -11℃   晴~多云       东北风     1级   31       优         1\n364  2018-12-31    -2℃   -10℃     多云       东北风     1级   56       良         2\n\n[365 rows x 9 columns]",
      "text/html": "<div>\n<style scoped>\n    .dataframe tbody tr th:only-of-type {\n        vertical-align: middle;\n    }\n\n    .dataframe tbody tr th {\n        vertical-align: top;\n    }\n\n    .dataframe thead th {\n        text-align: right;\n    }\n</style>\n<table border=\"1\" class=\"dataframe\">\n  <thead>\n    <tr style=\"text-align: right;\">\n      <th></th>\n      <th>ymd</th>\n      <th>bWendu</th>\n      <th>yWendu</th>\n      <th>tianqi</th>\n      <th>fengxiang</th>\n      <th>fengli</th>\n      <th>aqi</th>\n      <th>aqiInfo</th>\n      <th>aqiLevel</th>\n    </tr>\n  </thead>\n  <tbody>\n    <tr>\n      <th>0</th>\n      <td>2018-01-01</td>\n      <td>3℃</td>\n      <td>-6℃</td>\n      <td>晴~多云</td>\n      <td>东北风</td>\n      <td>1-2级</td>\n      <td>59</td>\n      <td>良</td>\n      <td>2</td>\n    </tr>\n    <tr>\n      <th>1</th>\n      <td>2018-01-02</td>\n      <td>2℃</td>\n      <td>-5℃</td>\n      <td>阴~多云</td>\n      <td>东北风</td>\n      <td>1-2级</td>\n      <td>49</td>\n      <td>优</td>\n      <td>1</td>\n    </tr>\n    <tr>\n      <th>2</th>\n      <td>2018-01-03</td>\n      <td>2℃</td>\n      <td>-5℃</td>\n      <td>多云</td>\n      <td>北风</td>\n      <td>1-2级</td>\n      <td>28</td>\n      <td>优</td>\n      <td>1</td>\n    </tr>\n    <tr>\n      <th>3</th>\n      <td>2018-01-04</td>\n      <td>0℃</td>\n      <td>-8℃</td>\n      <td>阴</td>\n      <td>东北风</td>\n      <td>1-2级</td>\n      <td>28</td>\n      <td>优</td>\n      <td>1</td>\n    </tr>\n    <tr>\n      <th>4</th>\n      <td>2018-01-05</td>\n      <td>3℃</td>\n      <td>-6℃</td>\n      <td>多云~晴</td>\n      <td>西北风</td>\n      <td>1-2级</td>\n      <td>50</td>\n      <td>优</td>\n      <td>1</td>\n    </tr>\n    <tr>\n      <th>...</th>\n      <td>...</td>\n      <td>...</td>\n      <td>...</td>\n      <td>...</td>\n      <td>...</td>\n      <td>...</td>\n      <td>...</td>\n      <td>...</td>\n      <td>...</td>\n    </tr>\n    <tr>\n      <th>360</th>\n      <td>2018-12-27</td>\n      <td>-5℃</td>\n      <td>-12℃</td>\n      <td>多云~晴</td>\n      <td>西北风</td>\n      <td>3级</td>\n      <td>48</td>\n      <td>优</td>\n      <td>1</td>\n    </tr>\n    <tr>\n      <th>361</th>\n      <td>2018-12-28</td>\n      <td>-3℃</td>\n      <td>-11℃</td>\n      <td>晴</td>\n      <td>西北风</td>\n      <td>3级</td>\n      <td>40</td>\n      <td>优</td>\n      <td>1</td>\n    </tr>\n    <tr>\n      <th>362</th>\n      <td>2018-12-29</td>\n      <td>-3℃</td>\n      <td>-12℃</td>\n      <td>晴</td>\n      <td>西北风</td>\n      <td>2级</td>\n      <td>29</td>\n      <td>优</td>\n      <td>1</td>\n    </tr>\n    <tr>\n      <th>363</th>\n      <td>2018-12-30</td>\n      <td>-2℃</td>\n      <td>-11℃</td>\n      <td>晴~多云</td>\n      <td>东北风</td>\n      <td>1级</td>\n      <td>31</td>\n      <td>优</td>\n      <td>1</td>\n    </tr>\n    <tr>\n      <th>364</th>\n      <td>2018-12-31</td>\n      <td>-2℃</td>\n      <td>-10℃</td>\n      <td>多云</td>\n      <td>东北风</td>\n      <td>1级</td>\n      <td>56</td>\n      <td>良</td>\n      <td>2</td>\n    </tr>\n  </tbody>\n</table>\n<p>365 rows × 9 columns</p>\n</div>"
     },
     "execution_count": 1,
     "metadata": {},
     "output_type": "execute_result"
    }
   ],
   "source": [
    "import pandas as pd\n",
    "\n",
    "aaa = \"./data/beijing_tianqi_2018.csv\"\n",
    "df = pd.read_csv(aaa)\n",
    "df"
   ]
  },
  {
   "cell_type": "code",
   "execution_count": 2,
   "outputs": [
    {
     "data": {
      "text/plain": "'2℃'"
     },
     "execution_count": 2,
     "metadata": {},
     "output_type": "execute_result"
    }
   ],
   "source": [
    "df.loc[2, 'bWendu']"
   ],
   "metadata": {
    "collapsed": false,
    "ExecuteTime": {
     "start_time": "2023-04-07T14:13:42.130159Z",
     "end_time": "2023-04-07T14:13:42.149692Z"
    }
   }
  },
  {
   "cell_type": "code",
   "execution_count": 3,
   "outputs": [
    {
     "data": {
      "text/plain": "'-6℃'"
     },
     "execution_count": 3,
     "metadata": {},
     "output_type": "execute_result"
    }
   ],
   "source": [
    "df.iloc[0, 2]"
   ],
   "metadata": {
    "collapsed": false,
    "ExecuteTime": {
     "start_time": "2023-04-07T14:13:42.159773Z",
     "end_time": "2023-04-07T14:13:42.284781Z"
    }
   }
  },
  {
   "cell_type": "code",
   "execution_count": 4,
   "outputs": [],
   "source": [
    "a = df['bWendu'].str.replace('℃', '').astype(int)\n",
    "df['bWendu'] = a\n",
    "a = df['yWendu'].str.replace('℃', '').astype(int)\n",
    "df['yWendu'] = a"
   ],
   "metadata": {
    "collapsed": false,
    "ExecuteTime": {
     "start_time": "2023-04-07T14:13:42.179699Z",
     "end_time": "2023-04-07T14:13:42.284781Z"
    }
   }
  },
  {
   "cell_type": "code",
   "execution_count": 5,
   "outputs": [
    {
     "data": {
      "text/plain": "            ymd  bWendu  yWendu tianqi fengxiang fengli  aqi aqiInfo  \\\n0    2018-01-01       3      -6   晴~多云       东北风   1-2级   59       良   \n1    2018-01-02       2      -5   阴~多云       东北风   1-2级   49       优   \n2    2018-01-03       2      -5     多云        北风   1-2级   28       优   \n3    2018-01-04       0      -8      阴       东北风   1-2级   28       优   \n4    2018-01-05       3      -6   多云~晴       西北风   1-2级   50       优   \n..          ...     ...     ...    ...       ...    ...  ...     ...   \n360  2018-12-27      -5     -12   多云~晴       西北风     3级   48       优   \n361  2018-12-28      -3     -11      晴       西北风     3级   40       优   \n362  2018-12-29      -3     -12      晴       西北风     2级   29       优   \n363  2018-12-30      -2     -11   晴~多云       东北风     1级   31       优   \n364  2018-12-31      -2     -10     多云       东北风     1级   56       良   \n\n     aqiLevel 气温类型  \n0           2   常温  \n1           1   常温  \n2           1   常温  \n3           1   常温  \n4           1   常温  \n..        ...  ...  \n360         1   低温  \n361         1   低温  \n362         1   低温  \n363         1   低温  \n364         2   常温  \n\n[365 rows x 10 columns]",
      "text/html": "<div>\n<style scoped>\n    .dataframe tbody tr th:only-of-type {\n        vertical-align: middle;\n    }\n\n    .dataframe tbody tr th {\n        vertical-align: top;\n    }\n\n    .dataframe thead th {\n        text-align: right;\n    }\n</style>\n<table border=\"1\" class=\"dataframe\">\n  <thead>\n    <tr style=\"text-align: right;\">\n      <th></th>\n      <th>ymd</th>\n      <th>bWendu</th>\n      <th>yWendu</th>\n      <th>tianqi</th>\n      <th>fengxiang</th>\n      <th>fengli</th>\n      <th>aqi</th>\n      <th>aqiInfo</th>\n      <th>aqiLevel</th>\n      <th>气温类型</th>\n    </tr>\n  </thead>\n  <tbody>\n    <tr>\n      <th>0</th>\n      <td>2018-01-01</td>\n      <td>3</td>\n      <td>-6</td>\n      <td>晴~多云</td>\n      <td>东北风</td>\n      <td>1-2级</td>\n      <td>59</td>\n      <td>良</td>\n      <td>2</td>\n      <td>常温</td>\n    </tr>\n    <tr>\n      <th>1</th>\n      <td>2018-01-02</td>\n      <td>2</td>\n      <td>-5</td>\n      <td>阴~多云</td>\n      <td>东北风</td>\n      <td>1-2级</td>\n      <td>49</td>\n      <td>优</td>\n      <td>1</td>\n      <td>常温</td>\n    </tr>\n    <tr>\n      <th>2</th>\n      <td>2018-01-03</td>\n      <td>2</td>\n      <td>-5</td>\n      <td>多云</td>\n      <td>北风</td>\n      <td>1-2级</td>\n      <td>28</td>\n      <td>优</td>\n      <td>1</td>\n      <td>常温</td>\n    </tr>\n    <tr>\n      <th>3</th>\n      <td>2018-01-04</td>\n      <td>0</td>\n      <td>-8</td>\n      <td>阴</td>\n      <td>东北风</td>\n      <td>1-2级</td>\n      <td>28</td>\n      <td>优</td>\n      <td>1</td>\n      <td>常温</td>\n    </tr>\n    <tr>\n      <th>4</th>\n      <td>2018-01-05</td>\n      <td>3</td>\n      <td>-6</td>\n      <td>多云~晴</td>\n      <td>西北风</td>\n      <td>1-2级</td>\n      <td>50</td>\n      <td>优</td>\n      <td>1</td>\n      <td>常温</td>\n    </tr>\n    <tr>\n      <th>...</th>\n      <td>...</td>\n      <td>...</td>\n      <td>...</td>\n      <td>...</td>\n      <td>...</td>\n      <td>...</td>\n      <td>...</td>\n      <td>...</td>\n      <td>...</td>\n      <td>...</td>\n    </tr>\n    <tr>\n      <th>360</th>\n      <td>2018-12-27</td>\n      <td>-5</td>\n      <td>-12</td>\n      <td>多云~晴</td>\n      <td>西北风</td>\n      <td>3级</td>\n      <td>48</td>\n      <td>优</td>\n      <td>1</td>\n      <td>低温</td>\n    </tr>\n    <tr>\n      <th>361</th>\n      <td>2018-12-28</td>\n      <td>-3</td>\n      <td>-11</td>\n      <td>晴</td>\n      <td>西北风</td>\n      <td>3级</td>\n      <td>40</td>\n      <td>优</td>\n      <td>1</td>\n      <td>低温</td>\n    </tr>\n    <tr>\n      <th>362</th>\n      <td>2018-12-29</td>\n      <td>-3</td>\n      <td>-12</td>\n      <td>晴</td>\n      <td>西北风</td>\n      <td>2级</td>\n      <td>29</td>\n      <td>优</td>\n      <td>1</td>\n      <td>低温</td>\n    </tr>\n    <tr>\n      <th>363</th>\n      <td>2018-12-30</td>\n      <td>-2</td>\n      <td>-11</td>\n      <td>晴~多云</td>\n      <td>东北风</td>\n      <td>1级</td>\n      <td>31</td>\n      <td>优</td>\n      <td>1</td>\n      <td>低温</td>\n    </tr>\n    <tr>\n      <th>364</th>\n      <td>2018-12-31</td>\n      <td>-2</td>\n      <td>-10</td>\n      <td>多云</td>\n      <td>东北风</td>\n      <td>1级</td>\n      <td>56</td>\n      <td>良</td>\n      <td>2</td>\n      <td>常温</td>\n    </tr>\n  </tbody>\n</table>\n<p>365 rows × 10 columns</p>\n</div>"
     },
     "execution_count": 5,
     "metadata": {},
     "output_type": "execute_result"
    }
   ],
   "source": [
    "def get_wendu_type(x):\n",
    "    if x[\"bWendu\"] > 33:\n",
    "        return '高温'\n",
    "    elif x[\"yWendu\"] < -10:\n",
    "        return '低温'\n",
    "    return '常温'\n",
    "df.loc[:, \"气温类型\"] = df.apply(get_wendu_type,axis=1)\n",
    "df"
   ],
   "metadata": {
    "collapsed": false,
    "ExecuteTime": {
     "start_time": "2023-04-07T14:13:42.209760Z",
     "end_time": "2023-04-07T14:13:42.424965Z"
    }
   }
  },
  {
   "cell_type": "code",
   "execution_count": 6,
   "outputs": [
    {
     "name": "stdout",
     "output_type": "stream",
     "text": [
      "严重污染\n",
      "           ymd  bWendu  yWendu tianqi fengxiang fengli  aqi aqiInfo  aqiLevel  \\\n",
      "86  2018-03-28      25       9   多云~晴        东风   1-2级  387    严重污染         6   \n",
      "\n",
      "   气温类型  \n",
      "86   常温  \n",
      "中度污染\n",
      "            ymd  bWendu  yWendu tianqi fengxiang fengli  aqi aqiInfo  \\\n",
      "13   2018-01-14       6      -5   晴~多云       西北风   1-2级  187    中度污染   \n",
      "49   2018-02-19       6      -3     多云        南风   1-2级  183    中度污染   \n",
      "56   2018-02-26      12      -1   晴~多云       西南风   1-2级  157    中度污染   \n",
      "68   2018-03-10      14      -2      晴       东南风   1-2级  171    中度污染   \n",
      "70   2018-03-12      15       3   多云~晴        南风   1-2级  174    中度污染   \n",
      "84   2018-03-26      25       7     多云       西南风   1-2级  151    中度污染   \n",
      "108  2018-04-19      26      13     多云       东南风   4-5级  170    中度污染   \n",
      "109  2018-04-20      28      14  多云~小雨        南风   4-5级  164    中度污染   \n",
      "118  2018-04-29      30      16     多云        南风   3-4级  193    中度污染   \n",
      "124  2018-05-05      25      13     多云        北风   3-4级  177    中度污染   \n",
      "131  2018-05-12      28      16     小雨       东南风   3-4级  186    中度污染   \n",
      "133  2018-05-14      34      22   晴~多云        南风   3-4级  158    中度污染   \n",
      "142  2018-05-23      29      15      晴       西南风   3-4级  153    中度污染   \n",
      "147  2018-05-28      30      16      晴       西北风   4-5级  178    中度污染   \n",
      "176  2018-06-26      36      25      晴       西南风   3-4级  174    中度污染   \n",
      "286  2018-10-14      21      10     多云        南风   1-2级  177    中度污染   \n",
      "287  2018-10-15      17      11     小雨        北风   1-2级  198    中度污染   \n",
      "294  2018-10-22      19       5   多云~晴       西北风   1-2级  176    中度污染   \n",
      "330  2018-11-27       9      -3   晴~多云       西北风     2级  198    中度污染   \n",
      "334  2018-12-01       7       0     多云       东南风     1级  163    中度污染   \n",
      "336  2018-12-03       8      -3   多云~晴       东北风     3级  198    中度污染   \n",
      "\n",
      "     aqiLevel 气温类型  \n",
      "13          4   常温  \n",
      "49          4   常温  \n",
      "56          4   常温  \n",
      "68          4   常温  \n",
      "70          4   常温  \n",
      "84          4   常温  \n",
      "108         4   常温  \n",
      "109         4   常温  \n",
      "118         4   常温  \n",
      "124         4   常温  \n",
      "131         4   常温  \n",
      "133         4   高温  \n",
      "142         4   常温  \n",
      "147         4   常温  \n",
      "176         4   高温  \n",
      "286         4   常温  \n",
      "287         4   常温  \n",
      "294         4   常温  \n",
      "330         4   常温  \n",
      "334         4   常温  \n",
      "336         4   常温  \n",
      "优\n",
      "            ymd  bWendu  yWendu tianqi fengxiang fengli  aqi aqiInfo  \\\n",
      "1    2018-01-02       2      -5   阴~多云       东北风   1-2级   49       优   \n",
      "2    2018-01-03       2      -5     多云        北风   1-2级   28       优   \n",
      "3    2018-01-04       0      -8      阴       东北风   1-2级   28       优   \n",
      "4    2018-01-05       3      -6   多云~晴       西北风   1-2级   50       优   \n",
      "5    2018-01-06       2      -5   多云~阴       西南风   1-2级   32       优   \n",
      "..          ...     ...     ...    ...       ...    ...  ...     ...   \n",
      "359  2018-12-26      -2     -11   晴~多云       东北风     2级   26       优   \n",
      "360  2018-12-27      -5     -12   多云~晴       西北风     3级   48       优   \n",
      "361  2018-12-28      -3     -11      晴       西北风     3级   40       优   \n",
      "362  2018-12-29      -3     -12      晴       西北风     2级   29       优   \n",
      "363  2018-12-30      -2     -11   晴~多云       东北风     1级   31       优   \n",
      "\n",
      "     aqiLevel 气温类型  \n",
      "1           1   常温  \n",
      "2           1   常温  \n",
      "3           1   常温  \n",
      "4           1   常温  \n",
      "5           1   常温  \n",
      "..        ...  ...  \n",
      "359         1   低温  \n",
      "360         1   低温  \n",
      "361         1   低温  \n",
      "362         1   低温  \n",
      "363         1   低温  \n",
      "\n",
      "[115 rows x 10 columns]\n",
      "良\n",
      "            ymd  bWendu  yWendu tianqi fengxiang fengli  aqi aqiInfo  \\\n",
      "0    2018-01-01       3      -6   晴~多云       东北风   1-2级   59       良   \n",
      "6    2018-01-07       2      -4   阴~多云       西南风   1-2级   59       良   \n",
      "11   2018-01-12       2      -8      晴       西南风   1-2级   75       良   \n",
      "16   2018-01-17       6      -7   多云~晴       西北风   1-2级   82       良   \n",
      "17   2018-01-18       5      -6      晴       西南风   1-2级   80       良   \n",
      "..          ...     ...     ...    ...       ...    ...  ...     ...   \n",
      "352  2018-12-19       9      -5   晴~多云       西北风     1级   59       良   \n",
      "353  2018-12-20       6      -4      霾       东南风     1级   78       良   \n",
      "354  2018-12-21      10      -2   晴~多云       西北风     1级   98       良   \n",
      "358  2018-12-25       2      -9      晴       东北风     2级   94       良   \n",
      "364  2018-12-31      -2     -10     多云       东北风     1级   56       良   \n",
      "\n",
      "     aqiLevel 气温类型  \n",
      "0           2   常温  \n",
      "6           2   常温  \n",
      "11          2   常温  \n",
      "16          2   常温  \n",
      "17          2   常温  \n",
      "..        ...  ...  \n",
      "352         2   常温  \n",
      "353         2   常温  \n",
      "354         2   常温  \n",
      "358         2   常温  \n",
      "364         2   常温  \n",
      "\n",
      "[150 rows x 10 columns]\n",
      "轻度污染\n",
      "            ymd  bWendu  yWendu tianqi fengxiang fengli  aqi aqiInfo  \\\n",
      "12   2018-01-13       3      -7     多云        南风   1-2级  126    轻度污染   \n",
      "15   2018-01-16       4      -5     多云        南风   1-2级  112    轻度污染   \n",
      "18   2018-01-19       7      -4      晴        南风   1-2级  115    轻度污染   \n",
      "26   2018-01-27      -1      -9     多云        南风   1-2级  105    轻度污染   \n",
      "46   2018-02-16       8      -5   晴~多云       西南风   1-2级  118    轻度污染   \n",
      "..          ...     ...     ...    ...       ...    ...  ...     ...   \n",
      "348  2018-12-15       2      -6      霾       东南风     1级  117    轻度污染   \n",
      "349  2018-12-16       7      -4      晴       西北风     2级  108    轻度污染   \n",
      "355  2018-12-22       8      -6     多云       西北风     2级  106    轻度污染   \n",
      "356  2018-12-23       1      -9      晴       西北风     3级  106    轻度污染   \n",
      "357  2018-12-24       2      -8      晴       西南风     1级  106    轻度污染   \n",
      "\n",
      "     aqiLevel 气温类型  \n",
      "12          3   常温  \n",
      "15          3   常温  \n",
      "18          3   常温  \n",
      "26          3   常温  \n",
      "46          3   常温  \n",
      "..        ...  ...  \n",
      "348         3   常温  \n",
      "349         3   常温  \n",
      "355         3   常温  \n",
      "356         3   常温  \n",
      "357         3   常温  \n",
      "\n",
      "[66 rows x 10 columns]\n",
      "重度污染\n",
      "            ymd  bWendu  yWendu tianqi fengxiang fengli  aqi aqiInfo  \\\n",
      "57   2018-02-27       7       0      阴        东风   1-2级  220    重度污染   \n",
      "61   2018-03-03      13       3   多云~阴        北风   1-2级  214    重度污染   \n",
      "71   2018-03-13      17       5   晴~多云        南风   1-2级  287    重度污染   \n",
      "72   2018-03-14      15       6   多云~阴       东北风   1-2级  293    重度污染   \n",
      "85   2018-03-27      27      11      晴        南风   1-2级  243    重度污染   \n",
      "90   2018-04-01      25      11   晴~多云        南风   1-2级  218    重度污染   \n",
      "91   2018-04-02      26      11     多云        北风   1-2级  287    重度污染   \n",
      "306  2018-11-03      16       6     多云        南风   1-2级  206    重度污染   \n",
      "316  2018-11-13      13       5     多云       东南风   1-2级  219    重度污染   \n",
      "317  2018-11-14      13       5     多云        南风   1-2级  266    重度污染   \n",
      "329  2018-11-26      10       0     多云       东南风     1级  245    重度污染   \n",
      "335  2018-12-02       9       2   雾~多云       东北风     1级  234    重度污染   \n",
      "\n",
      "     aqiLevel 气温类型  \n",
      "57          5   常温  \n",
      "61          5   常温  \n",
      "71          5   常温  \n",
      "72          5   常温  \n",
      "85          5   常温  \n",
      "90          5   常温  \n",
      "91          5   常温  \n",
      "306         5   常温  \n",
      "316         5   常温  \n",
      "317         5   常温  \n",
      "329         5   常温  \n",
      "335         5   常温  \n"
     ]
    }
   ],
   "source": [
    "for i,j in df.groupby('aqiInfo'):\n",
    "    print(i)\n",
    "    print(j)"
   ],
   "metadata": {
    "collapsed": false,
    "ExecuteTime": {
     "start_time": "2023-04-07T14:13:42.249760Z",
     "end_time": "2023-04-07T14:13:42.599845Z"
    }
   }
  },
  {
   "cell_type": "code",
   "execution_count": 7,
   "outputs": [
    {
     "data": {
      "text/plain": "              bWendu      yWendu          aqi   aqiLevel\nbWendu    140.613247  135.529633    47.462622   0.879204\nyWendu    135.529633  138.181274    16.186685   0.264165\naqi        47.462622   16.186685  2697.364564  50.749842\naqiLevel    0.879204    0.264165    50.749842   1.060485",
      "text/html": "<div>\n<style scoped>\n    .dataframe tbody tr th:only-of-type {\n        vertical-align: middle;\n    }\n\n    .dataframe tbody tr th {\n        vertical-align: top;\n    }\n\n    .dataframe thead th {\n        text-align: right;\n    }\n</style>\n<table border=\"1\" class=\"dataframe\">\n  <thead>\n    <tr style=\"text-align: right;\">\n      <th></th>\n      <th>bWendu</th>\n      <th>yWendu</th>\n      <th>aqi</th>\n      <th>aqiLevel</th>\n    </tr>\n  </thead>\n  <tbody>\n    <tr>\n      <th>bWendu</th>\n      <td>140.613247</td>\n      <td>135.529633</td>\n      <td>47.462622</td>\n      <td>0.879204</td>\n    </tr>\n    <tr>\n      <th>yWendu</th>\n      <td>135.529633</td>\n      <td>138.181274</td>\n      <td>16.186685</td>\n      <td>0.264165</td>\n    </tr>\n    <tr>\n      <th>aqi</th>\n      <td>47.462622</td>\n      <td>16.186685</td>\n      <td>2697.364564</td>\n      <td>50.749842</td>\n    </tr>\n    <tr>\n      <th>aqiLevel</th>\n      <td>0.879204</td>\n      <td>0.264165</td>\n      <td>50.749842</td>\n      <td>1.060485</td>\n    </tr>\n  </tbody>\n</table>\n</div>"
     },
     "execution_count": 7,
     "metadata": {},
     "output_type": "execute_result"
    }
   ],
   "source": [
    "df.cov()"
   ],
   "metadata": {
    "collapsed": false,
    "ExecuteTime": {
     "start_time": "2023-04-07T14:13:42.309701Z",
     "end_time": "2023-04-07T14:13:42.599845Z"
    }
   }
  },
  {
   "cell_type": "code",
   "execution_count": 8,
   "outputs": [
    {
     "data": {
      "text/plain": "    Unnamed: 0   姓名   科目    分数\n0          NaN   小明   语文  85.0\n1          NaN  NaN   数学  80.0\n2          NaN  NaN   英语  90.0\n3          NaN  NaN  NaN   NaN\n4          NaN   小王   语文  85.0\n5          NaN  NaN   数学   NaN\n6          NaN  NaN   英语  90.0\n7          NaN  NaN  NaN   NaN\n8          NaN   小刚   语文  85.0\n9          NaN  NaN   数学  80.0\n10         NaN  NaN   英语  90.0",
      "text/html": "<div>\n<style scoped>\n    .dataframe tbody tr th:only-of-type {\n        vertical-align: middle;\n    }\n\n    .dataframe tbody tr th {\n        vertical-align: top;\n    }\n\n    .dataframe thead th {\n        text-align: right;\n    }\n</style>\n<table border=\"1\" class=\"dataframe\">\n  <thead>\n    <tr style=\"text-align: right;\">\n      <th></th>\n      <th>Unnamed: 0</th>\n      <th>姓名</th>\n      <th>科目</th>\n      <th>分数</th>\n    </tr>\n  </thead>\n  <tbody>\n    <tr>\n      <th>0</th>\n      <td>NaN</td>\n      <td>小明</td>\n      <td>语文</td>\n      <td>85.0</td>\n    </tr>\n    <tr>\n      <th>1</th>\n      <td>NaN</td>\n      <td>NaN</td>\n      <td>数学</td>\n      <td>80.0</td>\n    </tr>\n    <tr>\n      <th>2</th>\n      <td>NaN</td>\n      <td>NaN</td>\n      <td>英语</td>\n      <td>90.0</td>\n    </tr>\n    <tr>\n      <th>3</th>\n      <td>NaN</td>\n      <td>NaN</td>\n      <td>NaN</td>\n      <td>NaN</td>\n    </tr>\n    <tr>\n      <th>4</th>\n      <td>NaN</td>\n      <td>小王</td>\n      <td>语文</td>\n      <td>85.0</td>\n    </tr>\n    <tr>\n      <th>5</th>\n      <td>NaN</td>\n      <td>NaN</td>\n      <td>数学</td>\n      <td>NaN</td>\n    </tr>\n    <tr>\n      <th>6</th>\n      <td>NaN</td>\n      <td>NaN</td>\n      <td>英语</td>\n      <td>90.0</td>\n    </tr>\n    <tr>\n      <th>7</th>\n      <td>NaN</td>\n      <td>NaN</td>\n      <td>NaN</td>\n      <td>NaN</td>\n    </tr>\n    <tr>\n      <th>8</th>\n      <td>NaN</td>\n      <td>小刚</td>\n      <td>语文</td>\n      <td>85.0</td>\n    </tr>\n    <tr>\n      <th>9</th>\n      <td>NaN</td>\n      <td>NaN</td>\n      <td>数学</td>\n      <td>80.0</td>\n    </tr>\n    <tr>\n      <th>10</th>\n      <td>NaN</td>\n      <td>NaN</td>\n      <td>英语</td>\n      <td>90.0</td>\n    </tr>\n  </tbody>\n</table>\n</div>"
     },
     "execution_count": 8,
     "metadata": {},
     "output_type": "execute_result"
    }
   ],
   "source": [
    "studef = pd.read_excel(\"./data/缼失值处理.xlsx\",skiprows=2)\n",
    "studef"
   ],
   "metadata": {
    "collapsed": false,
    "ExecuteTime": {
     "start_time": "2023-04-07T14:13:42.349675Z",
     "end_time": "2023-04-07T14:13:43.169993Z"
    }
   }
  },
  {
   "cell_type": "code",
   "execution_count": 9,
   "outputs": [
    {
     "data": {
      "text/plain": "    Unnamed: 0     姓名     科目     分数\n0         True  False  False  False\n1         True   True  False  False\n2         True   True  False  False\n3         True   True   True   True\n4         True  False  False  False\n5         True   True  False   True\n6         True   True  False  False\n7         True   True   True   True\n8         True  False  False  False\n9         True   True  False  False\n10        True   True  False  False",
      "text/html": "<div>\n<style scoped>\n    .dataframe tbody tr th:only-of-type {\n        vertical-align: middle;\n    }\n\n    .dataframe tbody tr th {\n        vertical-align: top;\n    }\n\n    .dataframe thead th {\n        text-align: right;\n    }\n</style>\n<table border=\"1\" class=\"dataframe\">\n  <thead>\n    <tr style=\"text-align: right;\">\n      <th></th>\n      <th>Unnamed: 0</th>\n      <th>姓名</th>\n      <th>科目</th>\n      <th>分数</th>\n    </tr>\n  </thead>\n  <tbody>\n    <tr>\n      <th>0</th>\n      <td>True</td>\n      <td>False</td>\n      <td>False</td>\n      <td>False</td>\n    </tr>\n    <tr>\n      <th>1</th>\n      <td>True</td>\n      <td>True</td>\n      <td>False</td>\n      <td>False</td>\n    </tr>\n    <tr>\n      <th>2</th>\n      <td>True</td>\n      <td>True</td>\n      <td>False</td>\n      <td>False</td>\n    </tr>\n    <tr>\n      <th>3</th>\n      <td>True</td>\n      <td>True</td>\n      <td>True</td>\n      <td>True</td>\n    </tr>\n    <tr>\n      <th>4</th>\n      <td>True</td>\n      <td>False</td>\n      <td>False</td>\n      <td>False</td>\n    </tr>\n    <tr>\n      <th>5</th>\n      <td>True</td>\n      <td>True</td>\n      <td>False</td>\n      <td>True</td>\n    </tr>\n    <tr>\n      <th>6</th>\n      <td>True</td>\n      <td>True</td>\n      <td>False</td>\n      <td>False</td>\n    </tr>\n    <tr>\n      <th>7</th>\n      <td>True</td>\n      <td>True</td>\n      <td>True</td>\n      <td>True</td>\n    </tr>\n    <tr>\n      <th>8</th>\n      <td>True</td>\n      <td>False</td>\n      <td>False</td>\n      <td>False</td>\n    </tr>\n    <tr>\n      <th>9</th>\n      <td>True</td>\n      <td>True</td>\n      <td>False</td>\n      <td>False</td>\n    </tr>\n    <tr>\n      <th>10</th>\n      <td>True</td>\n      <td>True</td>\n      <td>False</td>\n      <td>False</td>\n    </tr>\n  </tbody>\n</table>\n</div>"
     },
     "execution_count": 9,
     "metadata": {},
     "output_type": "execute_result"
    }
   ],
   "source": [
    "studef.isnull()"
   ],
   "metadata": {
    "collapsed": false,
    "ExecuteTime": {
     "start_time": "2023-04-07T14:13:43.157155Z",
     "end_time": "2023-04-07T14:13:43.299972Z"
    }
   }
  },
  {
   "cell_type": "code",
   "execution_count": 10,
   "outputs": [
    {
     "data": {
      "text/plain": "            ymd  bWendu  yWendu tianqi fengxiang fengli  aqi aqiInfo  \\\n0    2018-01-01       3      -6   晴~多云       东北风   1-2级   59       良   \n1    2018-01-02       2      -5   阴~多云       东北风   1-2级   49       优   \n2    2018-01-03       2      -5     多云        北风   1-2级   28       优   \n3    2018-01-04       0      -8      阴       东北风   1-2级   28       优   \n4    2018-01-05       3      -6   多云~晴       西北风   1-2级   50       优   \n..          ...     ...     ...    ...       ...    ...  ...     ...   \n360  2018-12-27      -5     -12   多云~晴       西北风     3级   48       优   \n361  2018-12-28      -3     -11      晴       西北风     3级   40       优   \n362  2018-12-29      -3     -12      晴       西北风     2级   29       优   \n363  2018-12-30      -2     -11   晴~多云       东北风     1级   31       优   \n364  2018-12-31      -2     -10     多云       东北风     1级   56       良   \n\n     aqiLevel 气温类型  yWendu_huashi  bWendu_huashi  \n0           2   常温           21.2           37.4  \n1           1   常温           23.0           35.6  \n2           1   常温           23.0           35.6  \n3           1   常温           17.6           32.0  \n4           1   常温           21.2           37.4  \n..        ...  ...            ...            ...  \n360         1   低温           10.4           23.0  \n361         1   低温           12.2           26.6  \n362         1   低温           10.4           26.6  \n363         1   低温           12.2           28.4  \n364         2   常温           14.0           28.4  \n\n[365 rows x 12 columns]",
      "text/html": "<div>\n<style scoped>\n    .dataframe tbody tr th:only-of-type {\n        vertical-align: middle;\n    }\n\n    .dataframe tbody tr th {\n        vertical-align: top;\n    }\n\n    .dataframe thead th {\n        text-align: right;\n    }\n</style>\n<table border=\"1\" class=\"dataframe\">\n  <thead>\n    <tr style=\"text-align: right;\">\n      <th></th>\n      <th>ymd</th>\n      <th>bWendu</th>\n      <th>yWendu</th>\n      <th>tianqi</th>\n      <th>fengxiang</th>\n      <th>fengli</th>\n      <th>aqi</th>\n      <th>aqiInfo</th>\n      <th>aqiLevel</th>\n      <th>气温类型</th>\n      <th>yWendu_huashi</th>\n      <th>bWendu_huashi</th>\n    </tr>\n  </thead>\n  <tbody>\n    <tr>\n      <th>0</th>\n      <td>2018-01-01</td>\n      <td>3</td>\n      <td>-6</td>\n      <td>晴~多云</td>\n      <td>东北风</td>\n      <td>1-2级</td>\n      <td>59</td>\n      <td>良</td>\n      <td>2</td>\n      <td>常温</td>\n      <td>21.2</td>\n      <td>37.4</td>\n    </tr>\n    <tr>\n      <th>1</th>\n      <td>2018-01-02</td>\n      <td>2</td>\n      <td>-5</td>\n      <td>阴~多云</td>\n      <td>东北风</td>\n      <td>1-2级</td>\n      <td>49</td>\n      <td>优</td>\n      <td>1</td>\n      <td>常温</td>\n      <td>23.0</td>\n      <td>35.6</td>\n    </tr>\n    <tr>\n      <th>2</th>\n      <td>2018-01-03</td>\n      <td>2</td>\n      <td>-5</td>\n      <td>多云</td>\n      <td>北风</td>\n      <td>1-2级</td>\n      <td>28</td>\n      <td>优</td>\n      <td>1</td>\n      <td>常温</td>\n      <td>23.0</td>\n      <td>35.6</td>\n    </tr>\n    <tr>\n      <th>3</th>\n      <td>2018-01-04</td>\n      <td>0</td>\n      <td>-8</td>\n      <td>阴</td>\n      <td>东北风</td>\n      <td>1-2级</td>\n      <td>28</td>\n      <td>优</td>\n      <td>1</td>\n      <td>常温</td>\n      <td>17.6</td>\n      <td>32.0</td>\n    </tr>\n    <tr>\n      <th>4</th>\n      <td>2018-01-05</td>\n      <td>3</td>\n      <td>-6</td>\n      <td>多云~晴</td>\n      <td>西北风</td>\n      <td>1-2级</td>\n      <td>50</td>\n      <td>优</td>\n      <td>1</td>\n      <td>常温</td>\n      <td>21.2</td>\n      <td>37.4</td>\n    </tr>\n    <tr>\n      <th>...</th>\n      <td>...</td>\n      <td>...</td>\n      <td>...</td>\n      <td>...</td>\n      <td>...</td>\n      <td>...</td>\n      <td>...</td>\n      <td>...</td>\n      <td>...</td>\n      <td>...</td>\n      <td>...</td>\n      <td>...</td>\n    </tr>\n    <tr>\n      <th>360</th>\n      <td>2018-12-27</td>\n      <td>-5</td>\n      <td>-12</td>\n      <td>多云~晴</td>\n      <td>西北风</td>\n      <td>3级</td>\n      <td>48</td>\n      <td>优</td>\n      <td>1</td>\n      <td>低温</td>\n      <td>10.4</td>\n      <td>23.0</td>\n    </tr>\n    <tr>\n      <th>361</th>\n      <td>2018-12-28</td>\n      <td>-3</td>\n      <td>-11</td>\n      <td>晴</td>\n      <td>西北风</td>\n      <td>3级</td>\n      <td>40</td>\n      <td>优</td>\n      <td>1</td>\n      <td>低温</td>\n      <td>12.2</td>\n      <td>26.6</td>\n    </tr>\n    <tr>\n      <th>362</th>\n      <td>2018-12-29</td>\n      <td>-3</td>\n      <td>-12</td>\n      <td>晴</td>\n      <td>西北风</td>\n      <td>2级</td>\n      <td>29</td>\n      <td>优</td>\n      <td>1</td>\n      <td>低温</td>\n      <td>10.4</td>\n      <td>26.6</td>\n    </tr>\n    <tr>\n      <th>363</th>\n      <td>2018-12-30</td>\n      <td>-2</td>\n      <td>-11</td>\n      <td>晴~多云</td>\n      <td>东北风</td>\n      <td>1级</td>\n      <td>31</td>\n      <td>优</td>\n      <td>1</td>\n      <td>低温</td>\n      <td>12.2</td>\n      <td>28.4</td>\n    </tr>\n    <tr>\n      <th>364</th>\n      <td>2018-12-31</td>\n      <td>-2</td>\n      <td>-10</td>\n      <td>多云</td>\n      <td>东北风</td>\n      <td>1级</td>\n      <td>56</td>\n      <td>良</td>\n      <td>2</td>\n      <td>常温</td>\n      <td>14.0</td>\n      <td>28.4</td>\n    </tr>\n  </tbody>\n</table>\n<p>365 rows × 12 columns</p>\n</div>"
     },
     "execution_count": 10,
     "metadata": {},
     "output_type": "execute_result"
    }
   ],
   "source": [
    "df.assign(\n",
    "yWendu_huashi=lambda x:x[\"yWendu\"]*9 /5 +32,\n",
    "#从摄氏度变华氏度\n",
    "bWendu_huashi=lambda x:x[\"bWendu\"]*9 /5 +32\n",
    ")"
   ],
   "metadata": {
    "collapsed": false,
    "ExecuteTime": {
     "start_time": "2023-04-07T14:13:43.169993Z",
     "end_time": "2023-04-07T14:13:43.309621Z"
    }
   }
  },
  {
   "cell_type": "markdown",
   "source": [],
   "metadata": {
    "collapsed": false
   }
  },
  {
   "cell_type": "code",
   "execution_count": 11,
   "outputs": [
    {
     "data": {
      "text/plain": "           date1                               url  \\\n0      2015-4-28           http://www.apinpai.com/   \n1      2015-8-24           http://www.apinpai.com/   \n2     2015-12-14         http://www.movie.com/dor/   \n3       2015-4-2              http://bj.qu114.com/   \n4     2015-12-19         http://www.movie.com/dor/   \n...          ...                               ...   \n1391   2015-7-31        http://beijing.faxinxi.cn/   \n1392   2015-4-20           http://www.denghuo.com/   \n1393    2015-4-2           http://www.yifawang.cn/   \n1394   2015-4-15  http://www.wuhan58.com/index.php   \n1395   2015-5-16          http://www.favolist.com/   \n\n                                                  title  \n0                                   采蘑菇的小姑娘;小蓓蕾组合;90;儿歌  \n1                                           我;张国荣;80;励志  \n2     《恶棍天使》;2015.12.24;2016.2.13;天津橙子映像传媒有限公司、北京光线影...  \n3                                      my way;张敬轩;90;励志  \n4     《失孤》;2015.3.20;2015.5.3;华谊兄弟传媒集团、源合圣影视、映艺娱乐;彭三...  \n...                                                 ...  \n1391                                     同道中人;张国荣;80;励志  \n1392                                   忘记拥抱;a-lin;80;伤感  \n1393                                 路...一直都在;陈奕迅;90;励志  \n1394                                    像我一样骄傲;赵传;80;励志  \n1395                                     最冷一天;陈奕迅;90;伤感  \n\n[1396 rows x 3 columns]",
      "text/html": "<div>\n<style scoped>\n    .dataframe tbody tr th:only-of-type {\n        vertical-align: middle;\n    }\n\n    .dataframe tbody tr th {\n        vertical-align: top;\n    }\n\n    .dataframe thead th {\n        text-align: right;\n    }\n</style>\n<table border=\"1\" class=\"dataframe\">\n  <thead>\n    <tr style=\"text-align: right;\">\n      <th></th>\n      <th>date1</th>\n      <th>url</th>\n      <th>title</th>\n    </tr>\n  </thead>\n  <tbody>\n    <tr>\n      <th>0</th>\n      <td>2015-4-28</td>\n      <td>http://www.apinpai.com/</td>\n      <td>采蘑菇的小姑娘;小蓓蕾组合;90;儿歌</td>\n    </tr>\n    <tr>\n      <th>1</th>\n      <td>2015-8-24</td>\n      <td>http://www.apinpai.com/</td>\n      <td>我;张国荣;80;励志</td>\n    </tr>\n    <tr>\n      <th>2</th>\n      <td>2015-12-14</td>\n      <td>http://www.movie.com/dor/</td>\n      <td>《恶棍天使》;2015.12.24;2016.2.13;天津橙子映像传媒有限公司、北京光线影...</td>\n    </tr>\n    <tr>\n      <th>3</th>\n      <td>2015-4-2</td>\n      <td>http://bj.qu114.com/</td>\n      <td>my way;张敬轩;90;励志</td>\n    </tr>\n    <tr>\n      <th>4</th>\n      <td>2015-12-19</td>\n      <td>http://www.movie.com/dor/</td>\n      <td>《失孤》;2015.3.20;2015.5.3;华谊兄弟传媒集团、源合圣影视、映艺娱乐;彭三...</td>\n    </tr>\n    <tr>\n      <th>...</th>\n      <td>...</td>\n      <td>...</td>\n      <td>...</td>\n    </tr>\n    <tr>\n      <th>1391</th>\n      <td>2015-7-31</td>\n      <td>http://beijing.faxinxi.cn/</td>\n      <td>同道中人;张国荣;80;励志</td>\n    </tr>\n    <tr>\n      <th>1392</th>\n      <td>2015-4-20</td>\n      <td>http://www.denghuo.com/</td>\n      <td>忘记拥抱;a-lin;80;伤感</td>\n    </tr>\n    <tr>\n      <th>1393</th>\n      <td>2015-4-2</td>\n      <td>http://www.yifawang.cn/</td>\n      <td>路...一直都在;陈奕迅;90;励志</td>\n    </tr>\n    <tr>\n      <th>1394</th>\n      <td>2015-4-15</td>\n      <td>http://www.wuhan58.com/index.php</td>\n      <td>像我一样骄傲;赵传;80;励志</td>\n    </tr>\n    <tr>\n      <th>1395</th>\n      <td>2015-5-16</td>\n      <td>http://www.favolist.com/</td>\n      <td>最冷一天;陈奕迅;90;伤感</td>\n    </tr>\n  </tbody>\n</table>\n<p>1396 rows × 3 columns</p>\n</div>"
     },
     "execution_count": 11,
     "metadata": {},
     "output_type": "execute_result"
    }
   ],
   "source": [
    "fpath = \"./data/spider.csv\"\n",
    "#使用pd.read_csv读取数据\n",
    "df = pd.read_csv(fpath,header=None,names=\n",
    "['date1','url','title','val1','val2'],usecols=['date1','url','title'])\n",
    "df"
   ],
   "metadata": {
    "collapsed": false,
    "ExecuteTime": {
     "start_time": "2023-04-07T14:13:43.219757Z",
     "end_time": "2023-04-07T14:13:43.469901Z"
    }
   }
  },
  {
   "cell_type": "code",
   "execution_count": 14,
   "outputs": [
    {
     "data": {
      "text/plain": "0      2015-04-28\n1      2015-08-24\n2      2015-12-14\n3      2015-04-02\n4      2015-12-19\n          ...    \n1391   2015-07-31\n1392   2015-04-20\n1393   2015-04-02\n1394   2015-04-15\n1395   2015-05-16\nName: date1, Length: 1396, dtype: datetime64[ns]"
     },
     "execution_count": 14,
     "metadata": {},
     "output_type": "execute_result"
    }
   ],
   "source": [
    "df[\"date1\"] = pd.to_datetime(df[\"date1\"], format=\"%Y-%m-%d\")\n",
    "df[\"date1\"]"
   ],
   "metadata": {
    "collapsed": false,
    "ExecuteTime": {
     "start_time": "2023-04-07T14:14:12.489976Z",
     "end_time": "2023-04-07T14:14:12.519781Z"
    }
   }
  },
  {
   "cell_type": "code",
   "execution_count": 13,
   "outputs": [
    {
     "data": {
      "text/plain": "          date1                         url                        title\n1    2015-08-24     http://www.apinpai.com/                  我;张国荣;80;励志\n6    2015-08-01     http://www.apinpai.com/            小兔子乖乖;小蓓蕾组合;90;儿歌\n7    2015-08-06       http://www.99inf.com/            光辉岁月;beyond;80;励志\n9    2015-08-07   http://www.alifenfen.com/                  星;邓丽君;80;励志\n21   2015-08-05       http://www.waaku.com/            永远不要说放弃;童安格;80;励志\n...         ...                         ...                          ...\n1360 2015-08-29  http://beijing.faxinxi.cn/                从头再来;刘欢;90;励志\n1364 2015-08-09    http://www.favolist.com/             my way;张敬轩;90;励志\n1365 2015-08-21    http://www.favolist.com/  the climb;miley cyrus;80;励志\n1385 2015-08-12        http://bj.qu114.com/            永远不要说放弃;童安格;80;励志\n1388 2015-08-12       http://info.tianya.cn               最冷一天;陈奕迅;90;伤感\n\n[161 rows x 3 columns]",
      "text/html": "<div>\n<style scoped>\n    .dataframe tbody tr th:only-of-type {\n        vertical-align: middle;\n    }\n\n    .dataframe tbody tr th {\n        vertical-align: top;\n    }\n\n    .dataframe thead th {\n        text-align: right;\n    }\n</style>\n<table border=\"1\" class=\"dataframe\">\n  <thead>\n    <tr style=\"text-align: right;\">\n      <th></th>\n      <th>date1</th>\n      <th>url</th>\n      <th>title</th>\n    </tr>\n  </thead>\n  <tbody>\n    <tr>\n      <th>1</th>\n      <td>2015-08-24</td>\n      <td>http://www.apinpai.com/</td>\n      <td>我;张国荣;80;励志</td>\n    </tr>\n    <tr>\n      <th>6</th>\n      <td>2015-08-01</td>\n      <td>http://www.apinpai.com/</td>\n      <td>小兔子乖乖;小蓓蕾组合;90;儿歌</td>\n    </tr>\n    <tr>\n      <th>7</th>\n      <td>2015-08-06</td>\n      <td>http://www.99inf.com/</td>\n      <td>光辉岁月;beyond;80;励志</td>\n    </tr>\n    <tr>\n      <th>9</th>\n      <td>2015-08-07</td>\n      <td>http://www.alifenfen.com/</td>\n      <td>星;邓丽君;80;励志</td>\n    </tr>\n    <tr>\n      <th>21</th>\n      <td>2015-08-05</td>\n      <td>http://www.waaku.com/</td>\n      <td>永远不要说放弃;童安格;80;励志</td>\n    </tr>\n    <tr>\n      <th>...</th>\n      <td>...</td>\n      <td>...</td>\n      <td>...</td>\n    </tr>\n    <tr>\n      <th>1360</th>\n      <td>2015-08-29</td>\n      <td>http://beijing.faxinxi.cn/</td>\n      <td>从头再来;刘欢;90;励志</td>\n    </tr>\n    <tr>\n      <th>1364</th>\n      <td>2015-08-09</td>\n      <td>http://www.favolist.com/</td>\n      <td>my way;张敬轩;90;励志</td>\n    </tr>\n    <tr>\n      <th>1365</th>\n      <td>2015-08-21</td>\n      <td>http://www.favolist.com/</td>\n      <td>the climb;miley cyrus;80;励志</td>\n    </tr>\n    <tr>\n      <th>1385</th>\n      <td>2015-08-12</td>\n      <td>http://bj.qu114.com/</td>\n      <td>永远不要说放弃;童安格;80;励志</td>\n    </tr>\n    <tr>\n      <th>1388</th>\n      <td>2015-08-12</td>\n      <td>http://info.tianya.cn</td>\n      <td>最冷一天;陈奕迅;90;伤感</td>\n    </tr>\n  </tbody>\n</table>\n<p>161 rows × 3 columns</p>\n</div>"
     },
     "execution_count": 13,
     "metadata": {},
     "output_type": "execute_result"
    }
   ],
   "source": [
    "df.query(\"date1.dt.month == 8\")"
   ],
   "metadata": {
    "collapsed": false,
    "ExecuteTime": {
     "start_time": "2023-04-07T14:13:43.274694Z",
     "end_time": "2023-04-07T14:13:43.469901Z"
    }
   }
  }
 ],
 "metadata": {
  "kernelspec": {
   "display_name": "Python 3",
   "language": "python",
   "name": "python3"
  },
  "language_info": {
   "codemirror_mode": {
    "name": "ipython",
    "version": 2
   },
   "file_extension": ".py",
   "mimetype": "text/x-python",
   "name": "python",
   "nbconvert_exporter": "python",
   "pygments_lexer": "ipython2",
   "version": "2.7.6"
  }
 },
 "nbformat": 4,
 "nbformat_minor": 0
}
