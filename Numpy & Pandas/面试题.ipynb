{
 "cells": [
  {
   "cell_type": "code",
   "execution_count": 134,
   "outputs": [],
   "source": [
    "import pandas as pd"
   ],
   "metadata": {
    "collapsed": false,
    "ExecuteTime": {
     "start_time": "2023-04-11T14:56:51.267638Z",
     "end_time": "2023-04-11T14:56:51.330123Z"
    }
   }
  },
  {
   "cell_type": "code",
   "execution_count": 144,
   "metadata": {
    "collapsed": true,
    "ExecuteTime": {
     "start_time": "2023-04-11T14:57:03.139598Z",
     "end_time": "2023-04-11T14:57:03.186461Z"
    }
   },
   "outputs": [],
   "source": [
    "file = 'input.xlsx'\n",
    "df1 = pd.read_excel(file,index_col='序号')\n",
    "df_1 = df1.copy()"
   ]
  },
  {
   "cell_type": "code",
   "execution_count": 185,
   "outputs": [
    {
     "name": "stderr",
     "output_type": "stream",
     "text": [
      "C:\\Users\\DELL\\AppData\\Local\\Temp/ipykernel_14932/4228932508.py:2: FutureWarning: The default value of regex will change from True to False in a future version.\n",
      "  df_1['Field_02']=df_1['Field_02'].str.replace(\"[a-zA-Z0-9\\s]\",\"\")\n"
     ]
    },
    {
     "data": {
      "text/plain": "序号\n1     False\n2     False\n3      True\n4      True\n5      True\n6      True\n7      True\n8      True\n9      True\n10     True\nName: Field_05, dtype: bool"
     },
     "execution_count": 185,
     "metadata": {},
     "output_type": "execute_result"
    }
   ],
   "source": [
    "#清洗Field_03，仅保留汉字\n",
    "df_1['Field_02']=df_1['Field_02'].str.replace(\"[a-zA-Z0-9\\s]\",\"\")\n",
    "df_1['Field_05'].duplicated()"
   ],
   "metadata": {
    "collapsed": false,
    "ExecuteTime": {
     "start_time": "2023-04-11T19:41:22.933092Z",
     "end_time": "2023-04-11T19:41:22.961487Z"
    }
   }
  },
  {
   "cell_type": "code",
   "execution_count": 182,
   "outputs": [
    {
     "data": {
      "text/plain": "   Field_02 Field_03     Field_04  Field_05 Field_06 Field_07\n序号                                                           \n1        信任              sdfdfnmg         1        w        w\n2       随机词            sdssfgfdfg         3        w        w\n3        得分             sdfdfssag         3        w        w\n4       很好嘛       46    sdfdxxxfg         1        w        w\n5       真实的      320    sdfdccxfg         1        w        w\n6       才不会             sdfdfcccg         1        w        w\n7       分隔符           sdfggssxdfg         3        w        w\n8       换行符                sdfdfg         1        w        w\n9      不该信任             sdfqqqdfg         1        w        w\n10      在中国             sdfdggdfg         1        w        w",
      "text/html": "<div>\n<style scoped>\n    .dataframe tbody tr th:only-of-type {\n        vertical-align: middle;\n    }\n\n    .dataframe tbody tr th {\n        vertical-align: top;\n    }\n\n    .dataframe thead th {\n        text-align: right;\n    }\n</style>\n<table border=\"1\" class=\"dataframe\">\n  <thead>\n    <tr style=\"text-align: right;\">\n      <th></th>\n      <th>Field_02</th>\n      <th>Field_03</th>\n      <th>Field_04</th>\n      <th>Field_05</th>\n      <th>Field_06</th>\n      <th>Field_07</th>\n    </tr>\n    <tr>\n      <th>序号</th>\n      <th></th>\n      <th></th>\n      <th></th>\n      <th></th>\n      <th></th>\n      <th></th>\n    </tr>\n  </thead>\n  <tbody>\n    <tr>\n      <th>1</th>\n      <td>信任</td>\n      <td></td>\n      <td>sdfdfnmg</td>\n      <td>1</td>\n      <td>w</td>\n      <td>w</td>\n    </tr>\n    <tr>\n      <th>2</th>\n      <td>随机词</td>\n      <td></td>\n      <td>sdssfgfdfg</td>\n      <td>3</td>\n      <td>w</td>\n      <td>w</td>\n    </tr>\n    <tr>\n      <th>3</th>\n      <td>得分</td>\n      <td></td>\n      <td>sdfdfssag</td>\n      <td>3</td>\n      <td>w</td>\n      <td>w</td>\n    </tr>\n    <tr>\n      <th>4</th>\n      <td>很好嘛</td>\n      <td>46</td>\n      <td>sdfdxxxfg</td>\n      <td>1</td>\n      <td>w</td>\n      <td>w</td>\n    </tr>\n    <tr>\n      <th>5</th>\n      <td>真实的</td>\n      <td>320</td>\n      <td>sdfdccxfg</td>\n      <td>1</td>\n      <td>w</td>\n      <td>w</td>\n    </tr>\n    <tr>\n      <th>6</th>\n      <td>才不会</td>\n      <td></td>\n      <td>sdfdfcccg</td>\n      <td>1</td>\n      <td>w</td>\n      <td>w</td>\n    </tr>\n    <tr>\n      <th>7</th>\n      <td>分隔符</td>\n      <td></td>\n      <td>sdfggssxdfg</td>\n      <td>3</td>\n      <td>w</td>\n      <td>w</td>\n    </tr>\n    <tr>\n      <th>8</th>\n      <td>换行符</td>\n      <td></td>\n      <td>sdfdfg</td>\n      <td>1</td>\n      <td>w</td>\n      <td>w</td>\n    </tr>\n    <tr>\n      <th>9</th>\n      <td>不该信任</td>\n      <td></td>\n      <td>sdfqqqdfg</td>\n      <td>1</td>\n      <td>w</td>\n      <td>w</td>\n    </tr>\n    <tr>\n      <th>10</th>\n      <td>在中国</td>\n      <td></td>\n      <td>sdfdggdfg</td>\n      <td>1</td>\n      <td>w</td>\n      <td>w</td>\n    </tr>\n  </tbody>\n</table>\n</div>"
     },
     "execution_count": 182,
     "metadata": {},
     "output_type": "execute_result"
    }
   ],
   "source": [
    "df_1.drop(['Field_01'],axis = 1)\n"
   ],
   "metadata": {
    "collapsed": false,
    "ExecuteTime": {
     "start_time": "2023-04-11T19:29:12.564585Z",
     "end_time": "2023-04-11T19:29:12.590686Z"
    }
   }
  },
  {
   "cell_type": "code",
   "execution_count": 146,
   "outputs": [
    {
     "name": "stderr",
     "output_type": "stream",
     "text": [
      "C:\\Users\\DELL\\AppData\\Local\\Temp/ipykernel_14932/1500573354.py:2: FutureWarning: The default value of regex will change from True to False in a future version.\n",
      "  df_1['Field_03']=df_1['Field_03'].str.replace(\"[^0-9]\",\"\")\n"
     ]
    },
    {
     "data": {
      "text/plain": "   Field_01 Field_02 Field_03     Field_04  Field_05 Field_06 Field_07\n序号                                                                    \n1         A       信任              sdfdfnmg       NaN        w        w\n2         B      随机词            sdssfgfdfg       NaN      NaN        w\n3         D       得分             sdfdfssag       NaN        w        w\n4         A      很好嘛       46    sdfdxxxfg       NaN      NaN        w\n5         C      真实的      320    sdfdccxfg       NaN        w        w\n6         D      才不会             sdfdfcccg       NaN        w        w\n7         D      分隔符           sdfggssxdfg       NaN      NaN        w\n8         B      换行符                sdfdfg       NaN        w        w\n9         A     不该信任             sdfqqqdfg       NaN      NaN        w\n10        D      在中国             sdfdggdfg       NaN        w        w",
      "text/html": "<div>\n<style scoped>\n    .dataframe tbody tr th:only-of-type {\n        vertical-align: middle;\n    }\n\n    .dataframe tbody tr th {\n        vertical-align: top;\n    }\n\n    .dataframe thead th {\n        text-align: right;\n    }\n</style>\n<table border=\"1\" class=\"dataframe\">\n  <thead>\n    <tr style=\"text-align: right;\">\n      <th></th>\n      <th>Field_01</th>\n      <th>Field_02</th>\n      <th>Field_03</th>\n      <th>Field_04</th>\n      <th>Field_05</th>\n      <th>Field_06</th>\n      <th>Field_07</th>\n    </tr>\n    <tr>\n      <th>序号</th>\n      <th></th>\n      <th></th>\n      <th></th>\n      <th></th>\n      <th></th>\n      <th></th>\n      <th></th>\n    </tr>\n  </thead>\n  <tbody>\n    <tr>\n      <th>1</th>\n      <td>A</td>\n      <td>信任</td>\n      <td></td>\n      <td>sdfdfnmg</td>\n      <td>NaN</td>\n      <td>w</td>\n      <td>w</td>\n    </tr>\n    <tr>\n      <th>2</th>\n      <td>B</td>\n      <td>随机词</td>\n      <td></td>\n      <td>sdssfgfdfg</td>\n      <td>NaN</td>\n      <td>NaN</td>\n      <td>w</td>\n    </tr>\n    <tr>\n      <th>3</th>\n      <td>D</td>\n      <td>得分</td>\n      <td></td>\n      <td>sdfdfssag</td>\n      <td>NaN</td>\n      <td>w</td>\n      <td>w</td>\n    </tr>\n    <tr>\n      <th>4</th>\n      <td>A</td>\n      <td>很好嘛</td>\n      <td>46</td>\n      <td>sdfdxxxfg</td>\n      <td>NaN</td>\n      <td>NaN</td>\n      <td>w</td>\n    </tr>\n    <tr>\n      <th>5</th>\n      <td>C</td>\n      <td>真实的</td>\n      <td>320</td>\n      <td>sdfdccxfg</td>\n      <td>NaN</td>\n      <td>w</td>\n      <td>w</td>\n    </tr>\n    <tr>\n      <th>6</th>\n      <td>D</td>\n      <td>才不会</td>\n      <td></td>\n      <td>sdfdfcccg</td>\n      <td>NaN</td>\n      <td>w</td>\n      <td>w</td>\n    </tr>\n    <tr>\n      <th>7</th>\n      <td>D</td>\n      <td>分隔符</td>\n      <td></td>\n      <td>sdfggssxdfg</td>\n      <td>NaN</td>\n      <td>NaN</td>\n      <td>w</td>\n    </tr>\n    <tr>\n      <th>8</th>\n      <td>B</td>\n      <td>换行符</td>\n      <td></td>\n      <td>sdfdfg</td>\n      <td>NaN</td>\n      <td>w</td>\n      <td>w</td>\n    </tr>\n    <tr>\n      <th>9</th>\n      <td>A</td>\n      <td>不该信任</td>\n      <td></td>\n      <td>sdfqqqdfg</td>\n      <td>NaN</td>\n      <td>NaN</td>\n      <td>w</td>\n    </tr>\n    <tr>\n      <th>10</th>\n      <td>D</td>\n      <td>在中国</td>\n      <td></td>\n      <td>sdfdggdfg</td>\n      <td>NaN</td>\n      <td>w</td>\n      <td>w</td>\n    </tr>\n  </tbody>\n</table>\n</div>"
     },
     "execution_count": 146,
     "metadata": {},
     "output_type": "execute_result"
    }
   ],
   "source": [
    "#清洗”Field_03“，仅保留数字。\n",
    "# df_1['Field_03']=df_1['Field_03'].str.replace(\"[^0-9]\",\"\")\n",
    "# df_1"
   ],
   "metadata": {
    "collapsed": false,
    "ExecuteTime": {
     "start_time": "2023-04-11T14:57:09.682622Z",
     "end_time": "2023-04-11T14:57:09.724587Z"
    }
   }
  },
  {
   "cell_type": "code",
   "execution_count": 147,
   "outputs": [
    {
     "data": {
      "text/plain": "D    4\nA    3\nB    2\nC    1\nName: Field_01, dtype: int64"
     },
     "execution_count": 147,
     "metadata": {},
     "output_type": "execute_result"
    }
   ],
   "source": [
    "#统计Field_01中每个元素出现了多少次\n",
    "df_1['Field_01'].value_counts()"
   ],
   "metadata": {
    "collapsed": false,
    "ExecuteTime": {
     "start_time": "2023-04-11T14:57:11.154074Z",
     "end_time": "2023-04-11T14:57:11.185357Z"
    }
   }
  },
  {
   "cell_type": "code",
   "execution_count": 148,
   "outputs": [],
   "source": [
    "# 给”Field_05“赋值，值为”Field_04“中”s“出现的次数。\n",
    "df_1['Field_05']=df_1['Field_04'].str.count('s')"
   ],
   "metadata": {
    "collapsed": false,
    "ExecuteTime": {
     "start_time": "2023-04-11T14:57:11.815478Z",
     "end_time": "2023-04-11T14:57:11.842371Z"
    }
   }
  },
  {
   "cell_type": "code",
   "execution_count": 149,
   "outputs": [
    {
     "data": {
      "text/plain": "   Field_01 Field_02 Field_03     Field_04  Field_05 Field_06 Field_07\n序号                                                                    \n1         A       信任              sdfdfnmg         1        w        w\n2         B      随机词            sdssfgfdfg         3      NaN        w\n3         D       得分             sdfdfssag         3        w        w\n4         A      很好嘛       46    sdfdxxxfg         1      NaN        w\n5         C      真实的      320    sdfdccxfg         1        w        w\n6         D      才不会             sdfdfcccg         1        w        w\n7         D      分隔符           sdfggssxdfg         3      NaN        w\n8         B      换行符                sdfdfg         1        w        w\n9         A     不该信任             sdfqqqdfg         1      NaN        w\n10        D      在中国             sdfdggdfg         1        w        w",
      "text/html": "<div>\n<style scoped>\n    .dataframe tbody tr th:only-of-type {\n        vertical-align: middle;\n    }\n\n    .dataframe tbody tr th {\n        vertical-align: top;\n    }\n\n    .dataframe thead th {\n        text-align: right;\n    }\n</style>\n<table border=\"1\" class=\"dataframe\">\n  <thead>\n    <tr style=\"text-align: right;\">\n      <th></th>\n      <th>Field_01</th>\n      <th>Field_02</th>\n      <th>Field_03</th>\n      <th>Field_04</th>\n      <th>Field_05</th>\n      <th>Field_06</th>\n      <th>Field_07</th>\n    </tr>\n    <tr>\n      <th>序号</th>\n      <th></th>\n      <th></th>\n      <th></th>\n      <th></th>\n      <th></th>\n      <th></th>\n      <th></th>\n    </tr>\n  </thead>\n  <tbody>\n    <tr>\n      <th>1</th>\n      <td>A</td>\n      <td>信任</td>\n      <td></td>\n      <td>sdfdfnmg</td>\n      <td>1</td>\n      <td>w</td>\n      <td>w</td>\n    </tr>\n    <tr>\n      <th>2</th>\n      <td>B</td>\n      <td>随机词</td>\n      <td></td>\n      <td>sdssfgfdfg</td>\n      <td>3</td>\n      <td>NaN</td>\n      <td>w</td>\n    </tr>\n    <tr>\n      <th>3</th>\n      <td>D</td>\n      <td>得分</td>\n      <td></td>\n      <td>sdfdfssag</td>\n      <td>3</td>\n      <td>w</td>\n      <td>w</td>\n    </tr>\n    <tr>\n      <th>4</th>\n      <td>A</td>\n      <td>很好嘛</td>\n      <td>46</td>\n      <td>sdfdxxxfg</td>\n      <td>1</td>\n      <td>NaN</td>\n      <td>w</td>\n    </tr>\n    <tr>\n      <th>5</th>\n      <td>C</td>\n      <td>真实的</td>\n      <td>320</td>\n      <td>sdfdccxfg</td>\n      <td>1</td>\n      <td>w</td>\n      <td>w</td>\n    </tr>\n    <tr>\n      <th>6</th>\n      <td>D</td>\n      <td>才不会</td>\n      <td></td>\n      <td>sdfdfcccg</td>\n      <td>1</td>\n      <td>w</td>\n      <td>w</td>\n    </tr>\n    <tr>\n      <th>7</th>\n      <td>D</td>\n      <td>分隔符</td>\n      <td></td>\n      <td>sdfggssxdfg</td>\n      <td>3</td>\n      <td>NaN</td>\n      <td>w</td>\n    </tr>\n    <tr>\n      <th>8</th>\n      <td>B</td>\n      <td>换行符</td>\n      <td></td>\n      <td>sdfdfg</td>\n      <td>1</td>\n      <td>w</td>\n      <td>w</td>\n    </tr>\n    <tr>\n      <th>9</th>\n      <td>A</td>\n      <td>不该信任</td>\n      <td></td>\n      <td>sdfqqqdfg</td>\n      <td>1</td>\n      <td>NaN</td>\n      <td>w</td>\n    </tr>\n    <tr>\n      <th>10</th>\n      <td>D</td>\n      <td>在中国</td>\n      <td></td>\n      <td>sdfdggdfg</td>\n      <td>1</td>\n      <td>w</td>\n      <td>w</td>\n    </tr>\n  </tbody>\n</table>\n</div>"
     },
     "execution_count": 149,
     "metadata": {},
     "output_type": "execute_result"
    }
   ],
   "source": [
    "df_1"
   ],
   "metadata": {
    "collapsed": false,
    "ExecuteTime": {
     "start_time": "2023-04-11T14:57:12.371677Z",
     "end_time": "2023-04-11T14:57:12.481066Z"
    }
   }
  },
  {
   "cell_type": "code",
   "execution_count": 150,
   "outputs": [
    {
     "data": {
      "text/plain": "   Field_01 Field_02 Field_03     Field_04  Field_05 Field_06 Field_07\n序号                                                                    \n1         A       信任              sdfdfnmg         1        w        w\n2         B      随机词            sdssfgfdfg         3      NaN        w\n3         D       得分             sdfdfssag         3        w        w\n5         C      真实的      320    sdfdccxfg         1        w        w\n6         D      才不会             sdfdfcccg         1        w        w\n7         D      分隔符           sdfggssxdfg         3      NaN        w\n8         B      换行符                sdfdfg         1        w        w\n9         A     不该信任             sdfqqqdfg         1      NaN        w\n10        D      在中国             sdfdggdfg         1        w        w",
      "text/html": "<div>\n<style scoped>\n    .dataframe tbody tr th:only-of-type {\n        vertical-align: middle;\n    }\n\n    .dataframe tbody tr th {\n        vertical-align: top;\n    }\n\n    .dataframe thead th {\n        text-align: right;\n    }\n</style>\n<table border=\"1\" class=\"dataframe\">\n  <thead>\n    <tr style=\"text-align: right;\">\n      <th></th>\n      <th>Field_01</th>\n      <th>Field_02</th>\n      <th>Field_03</th>\n      <th>Field_04</th>\n      <th>Field_05</th>\n      <th>Field_06</th>\n      <th>Field_07</th>\n    </tr>\n    <tr>\n      <th>序号</th>\n      <th></th>\n      <th></th>\n      <th></th>\n      <th></th>\n      <th></th>\n      <th></th>\n      <th></th>\n    </tr>\n  </thead>\n  <tbody>\n    <tr>\n      <th>1</th>\n      <td>A</td>\n      <td>信任</td>\n      <td></td>\n      <td>sdfdfnmg</td>\n      <td>1</td>\n      <td>w</td>\n      <td>w</td>\n    </tr>\n    <tr>\n      <th>2</th>\n      <td>B</td>\n      <td>随机词</td>\n      <td></td>\n      <td>sdssfgfdfg</td>\n      <td>3</td>\n      <td>NaN</td>\n      <td>w</td>\n    </tr>\n    <tr>\n      <th>3</th>\n      <td>D</td>\n      <td>得分</td>\n      <td></td>\n      <td>sdfdfssag</td>\n      <td>3</td>\n      <td>w</td>\n      <td>w</td>\n    </tr>\n    <tr>\n      <th>5</th>\n      <td>C</td>\n      <td>真实的</td>\n      <td>320</td>\n      <td>sdfdccxfg</td>\n      <td>1</td>\n      <td>w</td>\n      <td>w</td>\n    </tr>\n    <tr>\n      <th>6</th>\n      <td>D</td>\n      <td>才不会</td>\n      <td></td>\n      <td>sdfdfcccg</td>\n      <td>1</td>\n      <td>w</td>\n      <td>w</td>\n    </tr>\n    <tr>\n      <th>7</th>\n      <td>D</td>\n      <td>分隔符</td>\n      <td></td>\n      <td>sdfggssxdfg</td>\n      <td>3</td>\n      <td>NaN</td>\n      <td>w</td>\n    </tr>\n    <tr>\n      <th>8</th>\n      <td>B</td>\n      <td>换行符</td>\n      <td></td>\n      <td>sdfdfg</td>\n      <td>1</td>\n      <td>w</td>\n      <td>w</td>\n    </tr>\n    <tr>\n      <th>9</th>\n      <td>A</td>\n      <td>不该信任</td>\n      <td></td>\n      <td>sdfqqqdfg</td>\n      <td>1</td>\n      <td>NaN</td>\n      <td>w</td>\n    </tr>\n    <tr>\n      <th>10</th>\n      <td>D</td>\n      <td>在中国</td>\n      <td></td>\n      <td>sdfdggdfg</td>\n      <td>1</td>\n      <td>w</td>\n      <td>w</td>\n    </tr>\n  </tbody>\n</table>\n</div>"
     },
     "execution_count": 150,
     "metadata": {},
     "output_type": "execute_result"
    }
   ],
   "source": [
    "#删除序号为 4 的⼀⾏。\n",
    "df_1.drop(4)"
   ],
   "metadata": {
    "collapsed": false,
    "ExecuteTime": {
     "start_time": "2023-04-11T14:57:13.102473Z",
     "end_time": "2023-04-11T14:57:13.154093Z"
    }
   }
  },
  {
   "cell_type": "code",
   "execution_count": 151,
   "outputs": [
    {
     "data": {
      "text/plain": "   Field_01 Field_02 Field_03     Field_04  Field_05 Field_06 Field_07\n序号                                                                    \n1         A       信任              sdfdfnmg         1        w        w\n2         B      随机词            sdssfgfdfg         3        w        w\n3         D       得分             sdfdfssag         3        w        w\n4         A      很好嘛       46    sdfdxxxfg         1        w        w\n5         C      真实的      320    sdfdccxfg         1        w        w\n6         D      才不会             sdfdfcccg         1        w        w\n7         D      分隔符           sdfggssxdfg         3        w        w\n8         B      换行符                sdfdfg         1        w        w\n9         A     不该信任             sdfqqqdfg         1        w        w\n10        D      在中国             sdfdggdfg         1        w        w",
      "text/html": "<div>\n<style scoped>\n    .dataframe tbody tr th:only-of-type {\n        vertical-align: middle;\n    }\n\n    .dataframe tbody tr th {\n        vertical-align: top;\n    }\n\n    .dataframe thead th {\n        text-align: right;\n    }\n</style>\n<table border=\"1\" class=\"dataframe\">\n  <thead>\n    <tr style=\"text-align: right;\">\n      <th></th>\n      <th>Field_01</th>\n      <th>Field_02</th>\n      <th>Field_03</th>\n      <th>Field_04</th>\n      <th>Field_05</th>\n      <th>Field_06</th>\n      <th>Field_07</th>\n    </tr>\n    <tr>\n      <th>序号</th>\n      <th></th>\n      <th></th>\n      <th></th>\n      <th></th>\n      <th></th>\n      <th></th>\n      <th></th>\n    </tr>\n  </thead>\n  <tbody>\n    <tr>\n      <th>1</th>\n      <td>A</td>\n      <td>信任</td>\n      <td></td>\n      <td>sdfdfnmg</td>\n      <td>1</td>\n      <td>w</td>\n      <td>w</td>\n    </tr>\n    <tr>\n      <th>2</th>\n      <td>B</td>\n      <td>随机词</td>\n      <td></td>\n      <td>sdssfgfdfg</td>\n      <td>3</td>\n      <td>w</td>\n      <td>w</td>\n    </tr>\n    <tr>\n      <th>3</th>\n      <td>D</td>\n      <td>得分</td>\n      <td></td>\n      <td>sdfdfssag</td>\n      <td>3</td>\n      <td>w</td>\n      <td>w</td>\n    </tr>\n    <tr>\n      <th>4</th>\n      <td>A</td>\n      <td>很好嘛</td>\n      <td>46</td>\n      <td>sdfdxxxfg</td>\n      <td>1</td>\n      <td>w</td>\n      <td>w</td>\n    </tr>\n    <tr>\n      <th>5</th>\n      <td>C</td>\n      <td>真实的</td>\n      <td>320</td>\n      <td>sdfdccxfg</td>\n      <td>1</td>\n      <td>w</td>\n      <td>w</td>\n    </tr>\n    <tr>\n      <th>6</th>\n      <td>D</td>\n      <td>才不会</td>\n      <td></td>\n      <td>sdfdfcccg</td>\n      <td>1</td>\n      <td>w</td>\n      <td>w</td>\n    </tr>\n    <tr>\n      <th>7</th>\n      <td>D</td>\n      <td>分隔符</td>\n      <td></td>\n      <td>sdfggssxdfg</td>\n      <td>3</td>\n      <td>w</td>\n      <td>w</td>\n    </tr>\n    <tr>\n      <th>8</th>\n      <td>B</td>\n      <td>换行符</td>\n      <td></td>\n      <td>sdfdfg</td>\n      <td>1</td>\n      <td>w</td>\n      <td>w</td>\n    </tr>\n    <tr>\n      <th>9</th>\n      <td>A</td>\n      <td>不该信任</td>\n      <td></td>\n      <td>sdfqqqdfg</td>\n      <td>1</td>\n      <td>w</td>\n      <td>w</td>\n    </tr>\n    <tr>\n      <th>10</th>\n      <td>D</td>\n      <td>在中国</td>\n      <td></td>\n      <td>sdfdggdfg</td>\n      <td>1</td>\n      <td>w</td>\n      <td>w</td>\n    </tr>\n  </tbody>\n</table>\n</div>"
     },
     "execution_count": 151,
     "metadata": {},
     "output_type": "execute_result"
    }
   ],
   "source": [
    "#填充”Field_06“列中的空值为”W“。\n",
    "df_1.loc[:,\"Field_06\"].fillna(\"w\",inplace=True)\n",
    "df_1"
   ],
   "metadata": {
    "collapsed": false,
    "ExecuteTime": {
     "start_time": "2023-04-11T14:57:13.763366Z",
     "end_time": "2023-04-11T14:57:13.810189Z"
    }
   }
  },
  {
   "cell_type": "code",
   "execution_count": 156,
   "outputs": [
    {
     "ename": "AttributeError",
     "evalue": "'DataFrame' object has no attribute 'dtype'",
     "output_type": "error",
     "traceback": [
      "\u001B[1;31m---------------------------------------------------------------------------\u001B[0m",
      "\u001B[1;31mAttributeError\u001B[0m                            Traceback (most recent call last)",
      "\u001B[1;32m~\\AppData\\Local\\Temp/ipykernel_14932/2784915224.py\u001B[0m in \u001B[0;36m<module>\u001B[1;34m\u001B[0m\n\u001B[1;32m----> 1\u001B[1;33m \u001B[0mdf_1\u001B[0m\u001B[1;33m.\u001B[0m\u001B[0mdtype\u001B[0m\u001B[1;33m(\u001B[0m\u001B[1;33m)\u001B[0m\u001B[1;33m\u001B[0m\u001B[1;33m\u001B[0m\u001B[0m\n\u001B[0m",
      "\u001B[1;32mC:\\ProgramData\\Anaconda3\\lib\\site-packages\\pandas\\core\\generic.py\u001B[0m in \u001B[0;36m__getattr__\u001B[1;34m(self, name)\u001B[0m\n\u001B[0;32m   5485\u001B[0m         ):\n\u001B[0;32m   5486\u001B[0m             \u001B[1;32mreturn\u001B[0m \u001B[0mself\u001B[0m\u001B[1;33m[\u001B[0m\u001B[0mname\u001B[0m\u001B[1;33m]\u001B[0m\u001B[1;33m\u001B[0m\u001B[1;33m\u001B[0m\u001B[0m\n\u001B[1;32m-> 5487\u001B[1;33m         \u001B[1;32mreturn\u001B[0m \u001B[0mobject\u001B[0m\u001B[1;33m.\u001B[0m\u001B[0m__getattribute__\u001B[0m\u001B[1;33m(\u001B[0m\u001B[0mself\u001B[0m\u001B[1;33m,\u001B[0m \u001B[0mname\u001B[0m\u001B[1;33m)\u001B[0m\u001B[1;33m\u001B[0m\u001B[1;33m\u001B[0m\u001B[0m\n\u001B[0m\u001B[0;32m   5488\u001B[0m \u001B[1;33m\u001B[0m\u001B[0m\n\u001B[0;32m   5489\u001B[0m     \u001B[1;32mdef\u001B[0m \u001B[0m__setattr__\u001B[0m\u001B[1;33m(\u001B[0m\u001B[0mself\u001B[0m\u001B[1;33m,\u001B[0m \u001B[0mname\u001B[0m\u001B[1;33m:\u001B[0m \u001B[0mstr\u001B[0m\u001B[1;33m,\u001B[0m \u001B[0mvalue\u001B[0m\u001B[1;33m)\u001B[0m \u001B[1;33m->\u001B[0m \u001B[1;32mNone\u001B[0m\u001B[1;33m:\u001B[0m\u001B[1;33m\u001B[0m\u001B[1;33m\u001B[0m\u001B[0m\n",
      "\u001B[1;31mAttributeError\u001B[0m: 'DataFrame' object has no attribute 'dtype'"
     ]
    }
   ],
   "source": [
    "df_1"
   ],
   "metadata": {
    "collapsed": false,
    "ExecuteTime": {
     "start_time": "2023-04-11T17:29:35.368066Z",
     "end_time": "2023-04-11T17:29:35.414927Z"
    }
   }
  },
  {
   "cell_type": "code",
   "execution_count": 153,
   "outputs": [
    {
     "data": {
      "text/plain": "'var observe24h_data = {\\n    \"od\":{\\n        \"od\":\"202109291100\",\"od1\":\"青岛\",\\n        \"od2\":\\n            [{\"od21\":\"11\",\"od22\":\"23\",\"od23\":\"323\",\"od24\":\"西北风\",\"od25\":\"3\",\"od26\":\"0\", \"od27\":\"71\", \"od28\":\"\"},\\n             {\"od21\":\"10\",\"od22\":\"22\",\"od23\":\"332\",\"od24\":\"西北风\",\"od25\":\"3\",\"od26\":\"0.1\", \"od27\":\"75\", \"od28\":\"33\"}]}\\n}'"
     },
     "execution_count": 153,
     "metadata": {},
     "output_type": "execute_result"
    }
   ],
   "source": [
    "str = '''var observe24h_data = {\n",
    "    \"od\":{\n",
    "        \"od\":\"202109291100\",\"od1\":\"青岛\",\n",
    "        \"od2\":\n",
    "            [{\"od21\":\"11\",\"od22\":\"23\",\"od23\":\"323\",\"od24\":\"西北风\",\"od25\":\"3\",\"od26\":\"0\", \"od27\":\"71\", \"od28\":\"\"},\n",
    "             {\"od21\":\"10\",\"od22\":\"22\",\"od23\":\"332\",\"od24\":\"西北风\",\"od25\":\"3\",\"od26\":\"0.1\", \"od27\":\"75\", \"od28\":\"33\"}]}\n",
    "};'''\n",
    "str.replace(';','')"
   ],
   "metadata": {
    "collapsed": false,
    "ExecuteTime": {
     "start_time": "2023-04-11T14:57:38.540289Z",
     "end_time": "2023-04-11T14:57:38.602771Z"
    }
   }
  },
  {
   "cell_type": "code",
   "execution_count": 143,
   "outputs": [],
   "source": [],
   "metadata": {
    "collapsed": false,
    "ExecuteTime": {
     "start_time": "2023-04-11T14:56:51.501991Z",
     "end_time": "2023-04-11T14:56:51.735248Z"
    }
   }
  }
 ],
 "metadata": {
  "kernelspec": {
   "display_name": "Python 3",
   "language": "python",
   "name": "python3"
  },
  "language_info": {
   "codemirror_mode": {
    "name": "ipython",
    "version": 2
   },
   "file_extension": ".py",
   "mimetype": "text/x-python",
   "name": "python",
   "nbconvert_exporter": "python",
   "pygments_lexer": "ipython2",
   "version": "2.7.6"
  }
 },
 "nbformat": 4,
 "nbformat_minor": 0
}
