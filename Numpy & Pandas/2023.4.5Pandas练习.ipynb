{
 "cells": [
  {
   "cell_type": "markdown",
   "metadata": {},
   "source": [
    "## pandas练习"
   ]
  },
  {
   "cell_type": "code",
   "execution_count": 1,
   "metadata": {
    "ExecuteTime": {
     "start_time": "2023-04-08T11:40:07.740842Z",
     "end_time": "2023-04-08T11:40:08.362637Z"
    }
   },
   "outputs": [],
   "source": [
    "import pandas as pd"
   ]
  },
  {
   "cell_type": "markdown",
   "metadata": {},
   "source": [
    "##### 打开csv文件"
   ]
  },
  {
   "cell_type": "code",
   "execution_count": 5,
   "metadata": {
    "ExecuteTime": {
     "start_time": "2023-04-08T11:40:25.180019Z",
     "end_time": "2023-04-08T11:40:25.383106Z"
    }
   },
   "outputs": [
    {
     "data": {
      "text/plain": "RangeIndex(start=0, stop=1395, step=1)"
     },
     "execution_count": 5,
     "metadata": {},
     "output_type": "execute_result"
    }
   ],
   "source": [
    "fpath='./data/spider.csv'\n",
    "#以可读方式打开csv文件\n",
    "df1 = pd.read_csv(fpath)\n",
    "df1.index"
   ]
  },
  {
   "cell_type": "code",
   "execution_count": 26,
   "metadata": {
    "ExecuteTime": {
     "start_time": "2023-04-06T15:45:36.880568Z",
     "end_time": "2023-04-06T15:45:37.405689Z"
    }
   },
   "outputs": [],
   "source": []
  },
  {
   "cell_type": "code",
   "execution_count": 57,
   "metadata": {
    "ExecuteTime": {
     "start_time": "2023-04-06T19:48:36.567464Z",
     "end_time": "2023-04-06T19:48:36.613240Z"
    }
   },
   "outputs": [
    {
     "data": {
      "text/plain": "                                         url  \\\ndata                                           \n2015-4-28            http://www.apinpai.com/   \n2015-8-24            http://www.apinpai.com/   \n2015-12-14         http://www.movie.com/dor/   \n2015-4-2                http://bj.qu114.com/   \n2015-12-19         http://www.movie.com/dor/   \n...                                      ...   \n2015-7-31         http://beijing.faxinxi.cn/   \n2015-4-20            http://www.denghuo.com/   \n2015-4-2             http://www.yifawang.cn/   \n2015-4-15   http://www.wuhan58.com/index.php   \n2015-5-16           http://www.favolist.com/   \n\n                                                        title  \ndata                                                           \n2015-4-28                                 采蘑菇的小姑娘;小蓓蕾组合;90;儿歌  \n2015-8-24                                         我;张国荣;80;励志  \n2015-12-14  《恶棍天使》;2015.12.24;2016.2.13;天津橙子映像传媒有限公司、北京光线影...  \n2015-4-2                                     my way;张敬轩;90;励志  \n2015-12-19  《失孤》;2015.3.20;2015.5.3;华谊兄弟传媒集团、源合圣影视、映艺娱乐;彭三...  \n...                                                       ...  \n2015-7-31                                      同道中人;张国荣;80;励志  \n2015-4-20                                    忘记拥抱;a-lin;80;伤感  \n2015-4-2                                   路...一直都在;陈奕迅;90;励志  \n2015-4-15                                     像我一样骄傲;赵传;80;励志  \n2015-5-16                                      最冷一天;陈奕迅;90;伤感  \n\n[1396 rows x 2 columns]",
      "text/html": "<div>\n<style scoped>\n    .dataframe tbody tr th:only-of-type {\n        vertical-align: middle;\n    }\n\n    .dataframe tbody tr th {\n        vertical-align: top;\n    }\n\n    .dataframe thead th {\n        text-align: right;\n    }\n</style>\n<table border=\"1\" class=\"dataframe\">\n  <thead>\n    <tr style=\"text-align: right;\">\n      <th></th>\n      <th>url</th>\n      <th>title</th>\n    </tr>\n    <tr>\n      <th>data</th>\n      <th></th>\n      <th></th>\n    </tr>\n  </thead>\n  <tbody>\n    <tr>\n      <th>2015-4-28</th>\n      <td>http://www.apinpai.com/</td>\n      <td>采蘑菇的小姑娘;小蓓蕾组合;90;儿歌</td>\n    </tr>\n    <tr>\n      <th>2015-8-24</th>\n      <td>http://www.apinpai.com/</td>\n      <td>我;张国荣;80;励志</td>\n    </tr>\n    <tr>\n      <th>2015-12-14</th>\n      <td>http://www.movie.com/dor/</td>\n      <td>《恶棍天使》;2015.12.24;2016.2.13;天津橙子映像传媒有限公司、北京光线影...</td>\n    </tr>\n    <tr>\n      <th>2015-4-2</th>\n      <td>http://bj.qu114.com/</td>\n      <td>my way;张敬轩;90;励志</td>\n    </tr>\n    <tr>\n      <th>2015-12-19</th>\n      <td>http://www.movie.com/dor/</td>\n      <td>《失孤》;2015.3.20;2015.5.3;华谊兄弟传媒集团、源合圣影视、映艺娱乐;彭三...</td>\n    </tr>\n    <tr>\n      <th>...</th>\n      <td>...</td>\n      <td>...</td>\n    </tr>\n    <tr>\n      <th>2015-7-31</th>\n      <td>http://beijing.faxinxi.cn/</td>\n      <td>同道中人;张国荣;80;励志</td>\n    </tr>\n    <tr>\n      <th>2015-4-20</th>\n      <td>http://www.denghuo.com/</td>\n      <td>忘记拥抱;a-lin;80;伤感</td>\n    </tr>\n    <tr>\n      <th>2015-4-2</th>\n      <td>http://www.yifawang.cn/</td>\n      <td>路...一直都在;陈奕迅;90;励志</td>\n    </tr>\n    <tr>\n      <th>2015-4-15</th>\n      <td>http://www.wuhan58.com/index.php</td>\n      <td>像我一样骄傲;赵传;80;励志</td>\n    </tr>\n    <tr>\n      <th>2015-5-16</th>\n      <td>http://www.favolist.com/</td>\n      <td>最冷一天;陈奕迅;90;伤感</td>\n    </tr>\n  </tbody>\n</table>\n<p>1396 rows × 2 columns</p>\n</div>"
     },
     "execution_count": 57,
     "metadata": {},
     "output_type": "execute_result"
    }
   ],
   "source": [
    "#header=None意思是取消表头，names是每一列的标题，usecols意思是调用这个文件中的哪及列\n",
    "df2 = pd.read_csv(fpath,header=None,names=['data','url','title','val1','val2'],index_col='data',usecols=['data','url','title'])\n",
    "df2"
   ]
  },
  {
   "cell_type": "markdown",
   "metadata": {},
   "source": [
    "### 打开excel文件"
   ]
  },
  {
   "cell_type": "code",
   "execution_count": 15,
   "metadata": {
    "ExecuteTime": {
     "start_time": "2023-04-08T12:28:29.732597Z",
     "end_time": "2023-04-08T12:28:29.839352Z"
    }
   },
   "outputs": [
    {
     "data": {
      "text/plain": "     series manufacture cartype brand carclass carlevel  carprice  stat_month  \\\n0        德系        北京奔驰     SUV    奔驰    奔驰GLA       紧凑        33      202001   \n1        德系        北京奔驰     SUV    奔驰    奔驰GLC       中型        49      202001   \n2        德系        北京奔驰      轿车    奔驰     奔驰C级       中型        41      202001   \n3        德系        北京奔驰      轿车    奔驰     奔驰E级      中大型        53      202001   \n4        德系        华晨宝马     SUV    宝马     宝马X1       紧凑        36      202001   \n...     ...         ...     ...   ...      ...      ...       ...         ...   \n1862     自主        长城汽车     SUV    哈弗     哈弗H2       小型        10      201901   \n1863     自主        长城汽车     SUV    哈弗     哈弗H5       紧凑        13      201901   \n1864     自主        长城汽车     SUV    哈弗     哈弗H6       紧凑        13      201901   \n1865     自主        长城汽车     SUV    哈弗     哈弗H8      中大型        19      201901   \n1866     自主        长城汽车     SUV    哈弗     哈弗H9      中大型        24      201901   \n\n      quantity  revenue     profit  \n0         8002   264066   60735.20  \n1        10535   516215   92918.70  \n2        13087   536567  144873.00  \n3         9133   484049   91969.30  \n4         6823   245628   58950.70  \n...        ...      ...        ...  \n1862     17268   172680   17268.00  \n1863      2298    29874    5676.06  \n1864     42188   548444   98719.90  \n1865      1020    19380    4845.00  \n1866       928    22272    2895.36  \n\n[1867 rows x 11 columns]",
      "text/html": "<div>\n<style scoped>\n    .dataframe tbody tr th:only-of-type {\n        vertical-align: middle;\n    }\n\n    .dataframe tbody tr th {\n        vertical-align: top;\n    }\n\n    .dataframe thead th {\n        text-align: right;\n    }\n</style>\n<table border=\"1\" class=\"dataframe\">\n  <thead>\n    <tr style=\"text-align: right;\">\n      <th></th>\n      <th>series</th>\n      <th>manufacture</th>\n      <th>cartype</th>\n      <th>brand</th>\n      <th>carclass</th>\n      <th>carlevel</th>\n      <th>carprice</th>\n      <th>stat_month</th>\n      <th>quantity</th>\n      <th>revenue</th>\n      <th>profit</th>\n    </tr>\n  </thead>\n  <tbody>\n    <tr>\n      <th>0</th>\n      <td>德系</td>\n      <td>北京奔驰</td>\n      <td>SUV</td>\n      <td>奔驰</td>\n      <td>奔驰GLA</td>\n      <td>紧凑</td>\n      <td>33</td>\n      <td>202001</td>\n      <td>8002</td>\n      <td>264066</td>\n      <td>60735.20</td>\n    </tr>\n    <tr>\n      <th>1</th>\n      <td>德系</td>\n      <td>北京奔驰</td>\n      <td>SUV</td>\n      <td>奔驰</td>\n      <td>奔驰GLC</td>\n      <td>中型</td>\n      <td>49</td>\n      <td>202001</td>\n      <td>10535</td>\n      <td>516215</td>\n      <td>92918.70</td>\n    </tr>\n    <tr>\n      <th>2</th>\n      <td>德系</td>\n      <td>北京奔驰</td>\n      <td>轿车</td>\n      <td>奔驰</td>\n      <td>奔驰C级</td>\n      <td>中型</td>\n      <td>41</td>\n      <td>202001</td>\n      <td>13087</td>\n      <td>536567</td>\n      <td>144873.00</td>\n    </tr>\n    <tr>\n      <th>3</th>\n      <td>德系</td>\n      <td>北京奔驰</td>\n      <td>轿车</td>\n      <td>奔驰</td>\n      <td>奔驰E级</td>\n      <td>中大型</td>\n      <td>53</td>\n      <td>202001</td>\n      <td>9133</td>\n      <td>484049</td>\n      <td>91969.30</td>\n    </tr>\n    <tr>\n      <th>4</th>\n      <td>德系</td>\n      <td>华晨宝马</td>\n      <td>SUV</td>\n      <td>宝马</td>\n      <td>宝马X1</td>\n      <td>紧凑</td>\n      <td>36</td>\n      <td>202001</td>\n      <td>6823</td>\n      <td>245628</td>\n      <td>58950.70</td>\n    </tr>\n    <tr>\n      <th>...</th>\n      <td>...</td>\n      <td>...</td>\n      <td>...</td>\n      <td>...</td>\n      <td>...</td>\n      <td>...</td>\n      <td>...</td>\n      <td>...</td>\n      <td>...</td>\n      <td>...</td>\n      <td>...</td>\n    </tr>\n    <tr>\n      <th>1862</th>\n      <td>自主</td>\n      <td>长城汽车</td>\n      <td>SUV</td>\n      <td>哈弗</td>\n      <td>哈弗H2</td>\n      <td>小型</td>\n      <td>10</td>\n      <td>201901</td>\n      <td>17268</td>\n      <td>172680</td>\n      <td>17268.00</td>\n    </tr>\n    <tr>\n      <th>1863</th>\n      <td>自主</td>\n      <td>长城汽车</td>\n      <td>SUV</td>\n      <td>哈弗</td>\n      <td>哈弗H5</td>\n      <td>紧凑</td>\n      <td>13</td>\n      <td>201901</td>\n      <td>2298</td>\n      <td>29874</td>\n      <td>5676.06</td>\n    </tr>\n    <tr>\n      <th>1864</th>\n      <td>自主</td>\n      <td>长城汽车</td>\n      <td>SUV</td>\n      <td>哈弗</td>\n      <td>哈弗H6</td>\n      <td>紧凑</td>\n      <td>13</td>\n      <td>201901</td>\n      <td>42188</td>\n      <td>548444</td>\n      <td>98719.90</td>\n    </tr>\n    <tr>\n      <th>1865</th>\n      <td>自主</td>\n      <td>长城汽车</td>\n      <td>SUV</td>\n      <td>哈弗</td>\n      <td>哈弗H8</td>\n      <td>中大型</td>\n      <td>19</td>\n      <td>201901</td>\n      <td>1020</td>\n      <td>19380</td>\n      <td>4845.00</td>\n    </tr>\n    <tr>\n      <th>1866</th>\n      <td>自主</td>\n      <td>长城汽车</td>\n      <td>SUV</td>\n      <td>哈弗</td>\n      <td>哈弗H9</td>\n      <td>中大型</td>\n      <td>24</td>\n      <td>201901</td>\n      <td>928</td>\n      <td>22272</td>\n      <td>2895.36</td>\n    </tr>\n  </tbody>\n</table>\n<p>1867 rows × 11 columns</p>\n</div>"
     },
     "execution_count": 15,
     "metadata": {},
     "output_type": "execute_result"
    }
   ],
   "source": [
    "fcar = './data/saleinfo_month.xls'\n",
    "df3 = pd.read_excel(fcar)\n",
    "df3"
   ]
  },
  {
   "cell_type": "code",
   "execution_count": 29,
   "metadata": {
    "ExecuteTime": {
     "start_time": "2023-04-06T15:45:37.073097Z",
     "end_time": "2023-04-06T15:45:37.435611Z"
    }
   },
   "outputs": [
    {
     "name": "stdout",
     "output_type": "stream",
     "text": [
      "<class 'pandas.core.series.Series'>\n"
     ]
    }
   ],
   "source": [
    "df3['series']\n",
    "#输出这一列的数据格式，数据格式为Series\n",
    "print(type(df3['series']))"
   ]
  },
  {
   "cell_type": "code",
   "execution_count": 30,
   "metadata": {
    "ExecuteTime": {
     "start_time": "2023-04-06T15:45:37.091086Z",
     "end_time": "2023-04-06T15:45:37.437639Z"
    }
   },
   "outputs": [
    {
     "name": "stdout",
     "output_type": "stream",
     "text": [
      "<class 'pandas.core.frame.DataFrame'>\n"
     ]
    }
   ],
   "source": [
    "df3[['series','cartype']]\n",
    "#输出这一列数据格式，格式为DataFrame\n",
    "print(type(df3[['series','cartype']]))"
   ]
  },
  {
   "cell_type": "markdown",
   "metadata": {},
   "source": [
    "### 创建一个具有标签索引的Series"
   ]
  },
  {
   "cell_type": "code",
   "execution_count": 31,
   "metadata": {
    "ExecuteTime": {
     "start_time": "2023-04-06T15:45:37.105508Z",
     "end_time": "2023-04-06T15:45:37.438606Z"
    }
   },
   "outputs": [
    {
     "data": {
      "text/plain": "a    1\nb    2\nc    3\ndtype: int64"
     },
     "execution_count": 31,
     "metadata": {},
     "output_type": "execute_result"
    }
   ],
   "source": [
    "#生成索引为abc，元素为1，2，3的数据\n",
    "s = pd.Series([1,2,3],index=[\"a\",\"b\",\"c\"])\n",
    "s"
   ]
  },
  {
   "cell_type": "markdown",
   "metadata": {},
   "source": [
    "#### 使用python字典创建Series"
   ]
  },
  {
   "cell_type": "code",
   "execution_count": 32,
   "metadata": {
    "ExecuteTime": {
     "start_time": "2023-04-06T15:45:37.121872Z",
     "end_time": "2023-04-06T15:45:37.439600Z"
    }
   },
   "outputs": [
    {
     "data": {
      "text/plain": "a    10\nb    20\nc    30\ndtype: int64"
     },
     "execution_count": 32,
     "metadata": {},
     "output_type": "execute_result"
    }
   ],
   "source": [
    "#以字典方式创建一列数据\n",
    "s = pd.Series({\"a\":10,\"b\":20,\"c\":30})\n",
    "s"
   ]
  },
  {
   "cell_type": "code",
   "execution_count": 33,
   "metadata": {
    "ExecuteTime": {
     "start_time": "2023-04-06T15:45:37.135412Z",
     "end_time": "2023-04-06T15:45:37.439600Z"
    }
   },
   "outputs": [
    {
     "data": {
      "text/plain": "Index(['a', 'b', 'c'], dtype='object')"
     },
     "execution_count": 33,
     "metadata": {},
     "output_type": "execute_result"
    }
   ],
   "source": [
    "#元素的索引\n",
    "s.index"
   ]
  },
  {
   "cell_type": "markdown",
   "metadata": {},
   "source": [
    "### 创建DaraFrame"
   ]
  },
  {
   "cell_type": "code",
   "execution_count": 34,
   "metadata": {
    "ExecuteTime": {
     "start_time": "2023-04-06T15:45:37.151370Z",
     "end_time": "2023-04-06T15:45:37.442595Z"
    }
   },
   "outputs": [
    {
     "data": {
      "text/plain": "    姓名 性别  年龄\n0   张三  男  12\n1  李四四  女  15\n2   王五  男  18",
      "text/html": "<div>\n<style scoped>\n    .dataframe tbody tr th:only-of-type {\n        vertical-align: middle;\n    }\n\n    .dataframe tbody tr th {\n        vertical-align: top;\n    }\n\n    .dataframe thead th {\n        text-align: right;\n    }\n</style>\n<table border=\"1\" class=\"dataframe\">\n  <thead>\n    <tr style=\"text-align: right;\">\n      <th></th>\n      <th>姓名</th>\n      <th>性别</th>\n      <th>年龄</th>\n    </tr>\n  </thead>\n  <tbody>\n    <tr>\n      <th>0</th>\n      <td>张三</td>\n      <td>男</td>\n      <td>12</td>\n    </tr>\n    <tr>\n      <th>1</th>\n      <td>李四四</td>\n      <td>女</td>\n      <td>15</td>\n    </tr>\n    <tr>\n      <th>2</th>\n      <td>王五</td>\n      <td>男</td>\n      <td>18</td>\n    </tr>\n  </tbody>\n</table>\n</div>"
     },
     "execution_count": 34,
     "metadata": {},
     "output_type": "execute_result"
    }
   ],
   "source": [
    "aaa = {\n",
    "    \"姓名\":['张三','李四四','王五'],\n",
    "    \"性别\":['男','女','男'],\n",
    "    \"年龄\":['12','15','18']\n",
    "}\n",
    "aaa_1 = pd.DataFrame(aaa)\n",
    "(aaa_1)"
   ]
  },
  {
   "cell_type": "code",
   "execution_count": 35,
   "metadata": {
    "ExecuteTime": {
     "start_time": "2023-04-06T15:45:37.167327Z",
     "end_time": "2023-04-06T15:45:37.443592Z"
    }
   },
   "outputs": [
    {
     "data": {
      "text/plain": "姓名    object\n性别    object\n年龄    object\ndtype: object"
     },
     "execution_count": 35,
     "metadata": {},
     "output_type": "execute_result"
    }
   ],
   "source": [
    "#数据类型\n",
    "aaa_1.dtypes"
   ]
  },
  {
   "cell_type": "code",
   "execution_count": 36,
   "metadata": {
    "ExecuteTime": {
     "start_time": "2023-04-06T15:45:37.183285Z",
     "end_time": "2023-04-06T15:45:37.443592Z"
    }
   },
   "outputs": [
    {
     "data": {
      "text/plain": "Index(['姓名', '性别', '年龄'], dtype='object')"
     },
     "execution_count": 36,
     "metadata": {},
     "output_type": "execute_result"
    }
   ],
   "source": [
    "#每列的标题\n",
    "aaa_1.columns"
   ]
  },
  {
   "cell_type": "code",
   "execution_count": 37,
   "metadata": {
    "ExecuteTime": {
     "start_time": "2023-04-06T15:45:37.201239Z",
     "end_time": "2023-04-06T15:45:37.444588Z"
    }
   },
   "outputs": [
    {
     "data": {
      "text/plain": "RangeIndex(start=0, stop=3, step=1)"
     },
     "execution_count": 37,
     "metadata": {},
     "output_type": "execute_result"
    }
   ],
   "source": [
    "#每行的索引值\n",
    "aaa_1.index"
   ]
  },
  {
   "cell_type": "markdown",
   "metadata": {},
   "source": [
    "### 取一列或多列"
   ]
  },
  {
   "cell_type": "code",
   "execution_count": 38,
   "metadata": {
    "ExecuteTime": {
     "start_time": "2023-04-06T15:45:37.217194Z",
     "end_time": "2023-04-06T15:45:37.444588Z"
    }
   },
   "outputs": [
    {
     "name": "stdout",
     "output_type": "stream",
     "text": [
      "0       德系\n",
      "1       德系\n",
      "2       德系\n",
      "3       德系\n",
      "4       德系\n",
      "        ..\n",
      "1862    自主\n",
      "1863    自主\n",
      "1864    自主\n",
      "1865    自主\n",
      "1866    自主\n",
      "Name: series, Length: 1867, dtype: object\n",
      "     series cartype\n",
      "0        德系     SUV\n",
      "1        德系     SUV\n",
      "2        德系      轿车\n",
      "3        德系      轿车\n",
      "4        德系     SUV\n",
      "...     ...     ...\n",
      "1862     自主     SUV\n",
      "1863     自主     SUV\n",
      "1864     自主     SUV\n",
      "1865     自主     SUV\n",
      "1866     自主     SUV\n",
      "\n",
      "[1867 rows x 2 columns]\n"
     ]
    }
   ],
   "source": [
    "#取一列\n",
    "print(df3['series'])\n",
    "#取多列\n",
    "print(df3[['series', 'cartype']])"
   ]
  },
  {
   "cell_type": "code",
   "execution_count": 39,
   "metadata": {
    "ExecuteTime": {
     "start_time": "2023-04-06T15:45:37.235152Z",
     "end_time": "2023-04-06T15:45:37.444588Z"
    }
   },
   "outputs": [
    {
     "data": {
      "text/plain": "series              德系\nmanufacture       北京奔驰\ncartype            SUV\nbrand               奔驰\ncarclass         奔驰GLC\ncarlevel            中型\ncarprice            49\nstat_month      202001\nquantity         10535\nrevenue         516215\nprofit         92918.7\nName: 1, dtype: object"
     },
     "execution_count": 39,
     "metadata": {},
     "output_type": "execute_result"
    }
   ],
   "source": [
    "#取索引为1的行\n",
    "df3.loc[1]"
   ]
  },
  {
   "cell_type": "code",
   "execution_count": 40,
   "metadata": {
    "ExecuteTime": {
     "start_time": "2023-04-06T15:45:37.265066Z",
     "end_time": "2023-04-06T15:45:37.445585Z"
    }
   },
   "outputs": [
    {
     "data": {
      "text/plain": "  series manufacture cartype brand carclass carlevel  carprice  stat_month  \\\n2     德系        北京奔驰      轿车    奔驰     奔驰C级       中型        41      202001   \n3     德系        北京奔驰      轿车    奔驰     奔驰E级      中大型        53      202001   \n4     德系        华晨宝马     SUV    宝马     宝马X1       紧凑        36      202001   \n\n   quantity  revenue    profit  \n2     13087   536567  144873.0  \n3      9133   484049   91969.3  \n4      6823   245628   58950.7  ",
      "text/html": "<div>\n<style scoped>\n    .dataframe tbody tr th:only-of-type {\n        vertical-align: middle;\n    }\n\n    .dataframe tbody tr th {\n        vertical-align: top;\n    }\n\n    .dataframe thead th {\n        text-align: right;\n    }\n</style>\n<table border=\"1\" class=\"dataframe\">\n  <thead>\n    <tr style=\"text-align: right;\">\n      <th></th>\n      <th>series</th>\n      <th>manufacture</th>\n      <th>cartype</th>\n      <th>brand</th>\n      <th>carclass</th>\n      <th>carlevel</th>\n      <th>carprice</th>\n      <th>stat_month</th>\n      <th>quantity</th>\n      <th>revenue</th>\n      <th>profit</th>\n    </tr>\n  </thead>\n  <tbody>\n    <tr>\n      <th>2</th>\n      <td>德系</td>\n      <td>北京奔驰</td>\n      <td>轿车</td>\n      <td>奔驰</td>\n      <td>奔驰C级</td>\n      <td>中型</td>\n      <td>41</td>\n      <td>202001</td>\n      <td>13087</td>\n      <td>536567</td>\n      <td>144873.0</td>\n    </tr>\n    <tr>\n      <th>3</th>\n      <td>德系</td>\n      <td>北京奔驰</td>\n      <td>轿车</td>\n      <td>奔驰</td>\n      <td>奔驰E级</td>\n      <td>中大型</td>\n      <td>53</td>\n      <td>202001</td>\n      <td>9133</td>\n      <td>484049</td>\n      <td>91969.3</td>\n    </tr>\n    <tr>\n      <th>4</th>\n      <td>德系</td>\n      <td>华晨宝马</td>\n      <td>SUV</td>\n      <td>宝马</td>\n      <td>宝马X1</td>\n      <td>紧凑</td>\n      <td>36</td>\n      <td>202001</td>\n      <td>6823</td>\n      <td>245628</td>\n      <td>58950.7</td>\n    </tr>\n  </tbody>\n</table>\n</div>"
     },
     "execution_count": 40,
     "metadata": {},
     "output_type": "execute_result"
    }
   ],
   "source": [
    "#取索引为2~4的行\n",
    "df3.loc[2:4]"
   ]
  },
  {
   "cell_type": "code",
   "execution_count": 41,
   "metadata": {
    "ExecuteTime": {
     "start_time": "2023-04-06T15:45:37.294989Z",
     "end_time": "2023-04-06T15:45:37.693224Z"
    }
   },
   "outputs": [
    {
     "data": {
      "text/plain": "     carclass  revenue\n1861     哈弗H1    73241\n1863     哈弗H5    29874",
      "text/html": "<div>\n<style scoped>\n    .dataframe tbody tr th:only-of-type {\n        vertical-align: middle;\n    }\n\n    .dataframe tbody tr th {\n        vertical-align: top;\n    }\n\n    .dataframe thead th {\n        text-align: right;\n    }\n</style>\n<table border=\"1\" class=\"dataframe\">\n  <thead>\n    <tr style=\"text-align: right;\">\n      <th></th>\n      <th>carclass</th>\n      <th>revenue</th>\n    </tr>\n  </thead>\n  <tbody>\n    <tr>\n      <th>1861</th>\n      <td>哈弗H1</td>\n      <td>73241</td>\n    </tr>\n    <tr>\n      <th>1863</th>\n      <td>哈弗H5</td>\n      <td>29874</td>\n    </tr>\n  </tbody>\n</table>\n</div>"
     },
     "execution_count": 41,
     "metadata": {},
     "output_type": "execute_result"
    }
   ],
   "source": [
    "#取索引为48,86,56的'carclass','revenue'列\n",
    "pdfp= df3.loc[[1861,1863],['carclass','revenue']]\n",
    "pdfp"
   ]
  },
  {
   "cell_type": "code",
   "execution_count": 42,
   "metadata": {
    "ExecuteTime": {
     "start_time": "2023-04-06T15:45:37.314938Z",
     "end_time": "2023-04-06T15:45:37.694222Z"
    }
   },
   "outputs": [
    {
     "data": {
      "text/plain": "'日系'"
     },
     "execution_count": 42,
     "metadata": {},
     "output_type": "execute_result"
    }
   ],
   "source": [
    "df3.loc[1848,'series'] = '日系'\n",
    "df3.loc[1848,'series']"
   ]
  },
  {
   "cell_type": "code",
   "execution_count": 43,
   "metadata": {
    "ExecuteTime": {
     "start_time": "2023-04-06T15:45:37.334880Z",
     "end_time": "2023-04-06T15:45:37.695222Z"
    }
   },
   "outputs": [
    {
     "data": {
      "text/plain": "     series manufacture cartype\n1        德系        北京奔驰     SUV\n2        德系        北京奔驰      轿车\n3        德系        北京奔驰      轿车\n7        德系        华晨宝马      轿车\n11       德系        上汽大众      轿车\n...     ...         ...     ...\n1742     德系        北京奔驰      轿车\n1745     德系        华晨宝马      轿车\n1754     德系        一汽奥迪     SUV\n1757     德系        一汽奥迪      轿车\n1831     日系        一汽丰田     SUV\n\n[96 rows x 3 columns]",
      "text/html": "<div>\n<style scoped>\n    .dataframe tbody tr th:only-of-type {\n        vertical-align: middle;\n    }\n\n    .dataframe tbody tr th {\n        vertical-align: top;\n    }\n\n    .dataframe thead th {\n        text-align: right;\n    }\n</style>\n<table border=\"1\" class=\"dataframe\">\n  <thead>\n    <tr style=\"text-align: right;\">\n      <th></th>\n      <th>series</th>\n      <th>manufacture</th>\n      <th>cartype</th>\n    </tr>\n  </thead>\n  <tbody>\n    <tr>\n      <th>1</th>\n      <td>德系</td>\n      <td>北京奔驰</td>\n      <td>SUV</td>\n    </tr>\n    <tr>\n      <th>2</th>\n      <td>德系</td>\n      <td>北京奔驰</td>\n      <td>轿车</td>\n    </tr>\n    <tr>\n      <th>3</th>\n      <td>德系</td>\n      <td>北京奔驰</td>\n      <td>轿车</td>\n    </tr>\n    <tr>\n      <th>7</th>\n      <td>德系</td>\n      <td>华晨宝马</td>\n      <td>轿车</td>\n    </tr>\n    <tr>\n      <th>11</th>\n      <td>德系</td>\n      <td>上汽大众</td>\n      <td>轿车</td>\n    </tr>\n    <tr>\n      <th>...</th>\n      <td>...</td>\n      <td>...</td>\n      <td>...</td>\n    </tr>\n    <tr>\n      <th>1742</th>\n      <td>德系</td>\n      <td>北京奔驰</td>\n      <td>轿车</td>\n    </tr>\n    <tr>\n      <th>1745</th>\n      <td>德系</td>\n      <td>华晨宝马</td>\n      <td>轿车</td>\n    </tr>\n    <tr>\n      <th>1754</th>\n      <td>德系</td>\n      <td>一汽奥迪</td>\n      <td>SUV</td>\n    </tr>\n    <tr>\n      <th>1757</th>\n      <td>德系</td>\n      <td>一汽奥迪</td>\n      <td>轿车</td>\n    </tr>\n    <tr>\n      <th>1831</th>\n      <td>日系</td>\n      <td>一汽丰田</td>\n      <td>SUV</td>\n    </tr>\n  </tbody>\n</table>\n<p>96 rows × 3 columns</p>\n</div>"
     },
     "execution_count": 43,
     "metadata": {},
     "output_type": "execute_result"
    }
   ],
   "source": [
    "#取价格大于40的所有行中的'series'至'cartype'列\n",
    "df3.loc[df3['carprice']>40,'series':'cartype']"
   ]
  },
  {
   "cell_type": "code",
   "execution_count": 44,
   "metadata": {
    "ExecuteTime": {
     "start_time": "2023-04-06T15:45:37.361811Z",
     "end_time": "2023-04-06T15:45:37.696219Z"
    }
   },
   "outputs": [
    {
     "data": {
      "text/plain": "     series manufacture cartype brand carclass carlevel  carprice  stat_month  \\\n111      自主       比亚迪汽车     SUV   比亚迪       S7       中型        11      202001   \n112      自主       比亚迪汽车     SUV   比亚迪        宋       紧凑        12      202001   \n113      自主       比亚迪汽车     SUV   比亚迪        元       小型         9      202001   \n114      自主       比亚迪汽车      轿车   比亚迪       F0       微型         4      202001   \n115      自主       比亚迪汽车      轿车   比亚迪       F3       紧凑         6      202001   \n...     ...         ...     ...   ...      ...      ...       ...         ...   \n1862     自主        长城汽车     SUV    哈弗     哈弗H2       小型        10      201901   \n1863     自主        长城汽车     SUV    哈弗     哈弗H5       紧凑        13      201901   \n1864     自主        长城汽车     SUV    哈弗     哈弗H6       紧凑        13      201901   \n1865     自主        长城汽车     SUV    哈弗     哈弗H8      中大型        19      201901   \n1866     自主        长城汽车     SUV    哈弗     哈弗H9      中大型        24      201901   \n\n      quantity  revenue    profit  \n111       2407    26477   3177.24  \n112       8704   104448  12533.80  \n113       2733    24597   4181.49  \n114        829     3316    895.32  \n115      11206    67236  11430.10  \n...        ...      ...       ...  \n1862     17268   172680  17268.00  \n1863      2298    29874   5676.06  \n1864     42188   548444  98719.90  \n1865      1020    19380   4845.00  \n1866       928    22272   2895.36  \n\n[471 rows x 11 columns]",
      "text/html": "<div>\n<style scoped>\n    .dataframe tbody tr th:only-of-type {\n        vertical-align: middle;\n    }\n\n    .dataframe tbody tr th {\n        vertical-align: top;\n    }\n\n    .dataframe thead th {\n        text-align: right;\n    }\n</style>\n<table border=\"1\" class=\"dataframe\">\n  <thead>\n    <tr style=\"text-align: right;\">\n      <th></th>\n      <th>series</th>\n      <th>manufacture</th>\n      <th>cartype</th>\n      <th>brand</th>\n      <th>carclass</th>\n      <th>carlevel</th>\n      <th>carprice</th>\n      <th>stat_month</th>\n      <th>quantity</th>\n      <th>revenue</th>\n      <th>profit</th>\n    </tr>\n  </thead>\n  <tbody>\n    <tr>\n      <th>111</th>\n      <td>自主</td>\n      <td>比亚迪汽车</td>\n      <td>SUV</td>\n      <td>比亚迪</td>\n      <td>S7</td>\n      <td>中型</td>\n      <td>11</td>\n      <td>202001</td>\n      <td>2407</td>\n      <td>26477</td>\n      <td>3177.24</td>\n    </tr>\n    <tr>\n      <th>112</th>\n      <td>自主</td>\n      <td>比亚迪汽车</td>\n      <td>SUV</td>\n      <td>比亚迪</td>\n      <td>宋</td>\n      <td>紧凑</td>\n      <td>12</td>\n      <td>202001</td>\n      <td>8704</td>\n      <td>104448</td>\n      <td>12533.80</td>\n    </tr>\n    <tr>\n      <th>113</th>\n      <td>自主</td>\n      <td>比亚迪汽车</td>\n      <td>SUV</td>\n      <td>比亚迪</td>\n      <td>元</td>\n      <td>小型</td>\n      <td>9</td>\n      <td>202001</td>\n      <td>2733</td>\n      <td>24597</td>\n      <td>4181.49</td>\n    </tr>\n    <tr>\n      <th>114</th>\n      <td>自主</td>\n      <td>比亚迪汽车</td>\n      <td>轿车</td>\n      <td>比亚迪</td>\n      <td>F0</td>\n      <td>微型</td>\n      <td>4</td>\n      <td>202001</td>\n      <td>829</td>\n      <td>3316</td>\n      <td>895.32</td>\n    </tr>\n    <tr>\n      <th>115</th>\n      <td>自主</td>\n      <td>比亚迪汽车</td>\n      <td>轿车</td>\n      <td>比亚迪</td>\n      <td>F3</td>\n      <td>紧凑</td>\n      <td>6</td>\n      <td>202001</td>\n      <td>11206</td>\n      <td>67236</td>\n      <td>11430.10</td>\n    </tr>\n    <tr>\n      <th>...</th>\n      <td>...</td>\n      <td>...</td>\n      <td>...</td>\n      <td>...</td>\n      <td>...</td>\n      <td>...</td>\n      <td>...</td>\n      <td>...</td>\n      <td>...</td>\n      <td>...</td>\n      <td>...</td>\n    </tr>\n    <tr>\n      <th>1862</th>\n      <td>自主</td>\n      <td>长城汽车</td>\n      <td>SUV</td>\n      <td>哈弗</td>\n      <td>哈弗H2</td>\n      <td>小型</td>\n      <td>10</td>\n      <td>201901</td>\n      <td>17268</td>\n      <td>172680</td>\n      <td>17268.00</td>\n    </tr>\n    <tr>\n      <th>1863</th>\n      <td>自主</td>\n      <td>长城汽车</td>\n      <td>SUV</td>\n      <td>哈弗</td>\n      <td>哈弗H5</td>\n      <td>紧凑</td>\n      <td>13</td>\n      <td>201901</td>\n      <td>2298</td>\n      <td>29874</td>\n      <td>5676.06</td>\n    </tr>\n    <tr>\n      <th>1864</th>\n      <td>自主</td>\n      <td>长城汽车</td>\n      <td>SUV</td>\n      <td>哈弗</td>\n      <td>哈弗H6</td>\n      <td>紧凑</td>\n      <td>13</td>\n      <td>201901</td>\n      <td>42188</td>\n      <td>548444</td>\n      <td>98719.90</td>\n    </tr>\n    <tr>\n      <th>1865</th>\n      <td>自主</td>\n      <td>长城汽车</td>\n      <td>SUV</td>\n      <td>哈弗</td>\n      <td>哈弗H8</td>\n      <td>中大型</td>\n      <td>19</td>\n      <td>201901</td>\n      <td>1020</td>\n      <td>19380</td>\n      <td>4845.00</td>\n    </tr>\n    <tr>\n      <th>1866</th>\n      <td>自主</td>\n      <td>长城汽车</td>\n      <td>SUV</td>\n      <td>哈弗</td>\n      <td>哈弗H9</td>\n      <td>中大型</td>\n      <td>24</td>\n      <td>201901</td>\n      <td>928</td>\n      <td>22272</td>\n      <td>2895.36</td>\n    </tr>\n  </tbody>\n</table>\n<p>471 rows × 11 columns</p>\n</div>"
     },
     "execution_count": 44,
     "metadata": {},
     "output_type": "execute_result"
    }
   ],
   "source": [
    "#取价格小于40，且series为自主的所有行\n",
    "df3.loc[(df3['carprice']<40)&(df3['series']=='自主')]"
   ]
  },
  {
   "cell_type": "code",
   "execution_count": 50,
   "outputs": [
    {
     "data": {
      "text/plain": "     series manufacture cartype brand carclass carlevel  carprice  stat_month  \\\n7        德系        华晨宝马      轿车    宝马     宝马5系      中大型        61      202001   \n160      德系        华晨宝马      轿车    宝马     宝马5系      中大型        61      201912   \n316      德系        华晨宝马      轿车    宝马     宝马5系      中大型        61      201911   \n472      德系        华晨宝马      轿车    宝马     宝马5系      中大型        61      201910   \n627      德系        华晨宝马      轿车    宝马     宝马5系      中大型        61      201909   \n777      德系        华晨宝马      轿车    宝马     宝马5系      中大型        61      201908   \n919      德系        华晨宝马      轿车    宝马     宝马5系      中大型        61      201907   \n1063     德系        华晨宝马      轿车    宝马     宝马5系      中大型        61      201906   \n1205     德系        华晨宝马      轿车    宝马     宝马5系      中大型        61      201905   \n1345     德系        华晨宝马      轿车    宝马     宝马5系      中大型        61      201904   \n1484     德系        华晨宝马      轿车    宝马     宝马5系      中大型        61      201903   \n1617     德系        华晨宝马      轿车    宝马     宝马5系      中大型        61      201902   \n1745     德系        华晨宝马      轿车    宝马     宝马5系      中大型        61      201901   \n\n      quantity  revenue    profit  \n7        12229   745969  186492.0  \n160       9914   604754  145141.0  \n316      12912   787632  102392.0  \n472      11344   691984  131477.0  \n627      14907   909327  109119.0  \n777      12903   787083  125933.0  \n919      12190   743590  133846.0  \n1063     14344   874984  122498.0  \n1205     13429   819169  245751.0  \n1345     12060   735660  147132.0  \n1484     12445   759145  136646.0  \n1617      6315   385215   57782.2  \n1745     11016   671976  114236.0  ",
      "text/html": "<div>\n<style scoped>\n    .dataframe tbody tr th:only-of-type {\n        vertical-align: middle;\n    }\n\n    .dataframe tbody tr th {\n        vertical-align: top;\n    }\n\n    .dataframe thead th {\n        text-align: right;\n    }\n</style>\n<table border=\"1\" class=\"dataframe\">\n  <thead>\n    <tr style=\"text-align: right;\">\n      <th></th>\n      <th>series</th>\n      <th>manufacture</th>\n      <th>cartype</th>\n      <th>brand</th>\n      <th>carclass</th>\n      <th>carlevel</th>\n      <th>carprice</th>\n      <th>stat_month</th>\n      <th>quantity</th>\n      <th>revenue</th>\n      <th>profit</th>\n    </tr>\n  </thead>\n  <tbody>\n    <tr>\n      <th>7</th>\n      <td>德系</td>\n      <td>华晨宝马</td>\n      <td>轿车</td>\n      <td>宝马</td>\n      <td>宝马5系</td>\n      <td>中大型</td>\n      <td>61</td>\n      <td>202001</td>\n      <td>12229</td>\n      <td>745969</td>\n      <td>186492.0</td>\n    </tr>\n    <tr>\n      <th>160</th>\n      <td>德系</td>\n      <td>华晨宝马</td>\n      <td>轿车</td>\n      <td>宝马</td>\n      <td>宝马5系</td>\n      <td>中大型</td>\n      <td>61</td>\n      <td>201912</td>\n      <td>9914</td>\n      <td>604754</td>\n      <td>145141.0</td>\n    </tr>\n    <tr>\n      <th>316</th>\n      <td>德系</td>\n      <td>华晨宝马</td>\n      <td>轿车</td>\n      <td>宝马</td>\n      <td>宝马5系</td>\n      <td>中大型</td>\n      <td>61</td>\n      <td>201911</td>\n      <td>12912</td>\n      <td>787632</td>\n      <td>102392.0</td>\n    </tr>\n    <tr>\n      <th>472</th>\n      <td>德系</td>\n      <td>华晨宝马</td>\n      <td>轿车</td>\n      <td>宝马</td>\n      <td>宝马5系</td>\n      <td>中大型</td>\n      <td>61</td>\n      <td>201910</td>\n      <td>11344</td>\n      <td>691984</td>\n      <td>131477.0</td>\n    </tr>\n    <tr>\n      <th>627</th>\n      <td>德系</td>\n      <td>华晨宝马</td>\n      <td>轿车</td>\n      <td>宝马</td>\n      <td>宝马5系</td>\n      <td>中大型</td>\n      <td>61</td>\n      <td>201909</td>\n      <td>14907</td>\n      <td>909327</td>\n      <td>109119.0</td>\n    </tr>\n    <tr>\n      <th>777</th>\n      <td>德系</td>\n      <td>华晨宝马</td>\n      <td>轿车</td>\n      <td>宝马</td>\n      <td>宝马5系</td>\n      <td>中大型</td>\n      <td>61</td>\n      <td>201908</td>\n      <td>12903</td>\n      <td>787083</td>\n      <td>125933.0</td>\n    </tr>\n    <tr>\n      <th>919</th>\n      <td>德系</td>\n      <td>华晨宝马</td>\n      <td>轿车</td>\n      <td>宝马</td>\n      <td>宝马5系</td>\n      <td>中大型</td>\n      <td>61</td>\n      <td>201907</td>\n      <td>12190</td>\n      <td>743590</td>\n      <td>133846.0</td>\n    </tr>\n    <tr>\n      <th>1063</th>\n      <td>德系</td>\n      <td>华晨宝马</td>\n      <td>轿车</td>\n      <td>宝马</td>\n      <td>宝马5系</td>\n      <td>中大型</td>\n      <td>61</td>\n      <td>201906</td>\n      <td>14344</td>\n      <td>874984</td>\n      <td>122498.0</td>\n    </tr>\n    <tr>\n      <th>1205</th>\n      <td>德系</td>\n      <td>华晨宝马</td>\n      <td>轿车</td>\n      <td>宝马</td>\n      <td>宝马5系</td>\n      <td>中大型</td>\n      <td>61</td>\n      <td>201905</td>\n      <td>13429</td>\n      <td>819169</td>\n      <td>245751.0</td>\n    </tr>\n    <tr>\n      <th>1345</th>\n      <td>德系</td>\n      <td>华晨宝马</td>\n      <td>轿车</td>\n      <td>宝马</td>\n      <td>宝马5系</td>\n      <td>中大型</td>\n      <td>61</td>\n      <td>201904</td>\n      <td>12060</td>\n      <td>735660</td>\n      <td>147132.0</td>\n    </tr>\n    <tr>\n      <th>1484</th>\n      <td>德系</td>\n      <td>华晨宝马</td>\n      <td>轿车</td>\n      <td>宝马</td>\n      <td>宝马5系</td>\n      <td>中大型</td>\n      <td>61</td>\n      <td>201903</td>\n      <td>12445</td>\n      <td>759145</td>\n      <td>136646.0</td>\n    </tr>\n    <tr>\n      <th>1617</th>\n      <td>德系</td>\n      <td>华晨宝马</td>\n      <td>轿车</td>\n      <td>宝马</td>\n      <td>宝马5系</td>\n      <td>中大型</td>\n      <td>61</td>\n      <td>201902</td>\n      <td>6315</td>\n      <td>385215</td>\n      <td>57782.2</td>\n    </tr>\n    <tr>\n      <th>1745</th>\n      <td>德系</td>\n      <td>华晨宝马</td>\n      <td>轿车</td>\n      <td>宝马</td>\n      <td>宝马5系</td>\n      <td>中大型</td>\n      <td>61</td>\n      <td>201901</td>\n      <td>11016</td>\n      <td>671976</td>\n      <td>114236.0</td>\n    </tr>\n  </tbody>\n</table>\n</div>"
     },
     "execution_count": 50,
     "metadata": {},
     "output_type": "execute_result"
    }
   ],
   "source": [
    "df3.query(\"brand=='宝马' & carprice>40\")"
   ],
   "metadata": {
    "collapsed": false,
    "ExecuteTime": {
     "start_time": "2023-04-06T15:52:08.523242Z",
     "end_time": "2023-04-06T15:52:08.646288Z"
    }
   }
  },
  {
   "cell_type": "code",
   "execution_count": 29,
   "metadata": {
    "ExecuteTime": {
     "start_time": "2023-04-08T14:02:34.213957Z",
     "end_time": "2023-04-08T14:02:34.260962Z"
    }
   },
   "outputs": [
    {
     "data": {
      "text/plain": "            ymd bWendu yWendu tianqi fengxiang fengli  aqi aqiInfo  aqiLevel\n0    2018-01-01     3℃    -6℃   晴~多云       东北风   1-2级   59       良         2\n1    2018-01-02     2℃    -5℃   阴~多云       东北风   1-2级   49       优         1\n2    2018-01-03     2℃    -5℃     多云        北风   1-2级   28       优         1\n3    2018-01-04     0℃    -8℃      阴       东北风   1-2级   28       优         1\n4    2018-01-05     3℃    -6℃   多云~晴       西北风   1-2级   50       优         1\n..          ...    ...    ...    ...       ...    ...  ...     ...       ...\n360  2018-12-27    -5℃   -12℃   多云~晴       西北风     3级   48       优         1\n361  2018-12-28    -3℃   -11℃      晴       西北风     3级   40       优         1\n362  2018-12-29    -3℃   -12℃      晴       西北风     2级   29       优         1\n363  2018-12-30    -2℃   -11℃   晴~多云       东北风     1级   31       优         1\n364  2018-12-31    -2℃   -10℃     多云       东北风     1级   56       良         2\n\n[365 rows x 9 columns]",
      "text/html": "<div>\n<style scoped>\n    .dataframe tbody tr th:only-of-type {\n        vertical-align: middle;\n    }\n\n    .dataframe tbody tr th {\n        vertical-align: top;\n    }\n\n    .dataframe thead th {\n        text-align: right;\n    }\n</style>\n<table border=\"1\" class=\"dataframe\">\n  <thead>\n    <tr style=\"text-align: right;\">\n      <th></th>\n      <th>ymd</th>\n      <th>bWendu</th>\n      <th>yWendu</th>\n      <th>tianqi</th>\n      <th>fengxiang</th>\n      <th>fengli</th>\n      <th>aqi</th>\n      <th>aqiInfo</th>\n      <th>aqiLevel</th>\n    </tr>\n  </thead>\n  <tbody>\n    <tr>\n      <th>0</th>\n      <td>2018-01-01</td>\n      <td>3℃</td>\n      <td>-6℃</td>\n      <td>晴~多云</td>\n      <td>东北风</td>\n      <td>1-2级</td>\n      <td>59</td>\n      <td>良</td>\n      <td>2</td>\n    </tr>\n    <tr>\n      <th>1</th>\n      <td>2018-01-02</td>\n      <td>2℃</td>\n      <td>-5℃</td>\n      <td>阴~多云</td>\n      <td>东北风</td>\n      <td>1-2级</td>\n      <td>49</td>\n      <td>优</td>\n      <td>1</td>\n    </tr>\n    <tr>\n      <th>2</th>\n      <td>2018-01-03</td>\n      <td>2℃</td>\n      <td>-5℃</td>\n      <td>多云</td>\n      <td>北风</td>\n      <td>1-2级</td>\n      <td>28</td>\n      <td>优</td>\n      <td>1</td>\n    </tr>\n    <tr>\n      <th>3</th>\n      <td>2018-01-04</td>\n      <td>0℃</td>\n      <td>-8℃</td>\n      <td>阴</td>\n      <td>东北风</td>\n      <td>1-2级</td>\n      <td>28</td>\n      <td>优</td>\n      <td>1</td>\n    </tr>\n    <tr>\n      <th>4</th>\n      <td>2018-01-05</td>\n      <td>3℃</td>\n      <td>-6℃</td>\n      <td>多云~晴</td>\n      <td>西北风</td>\n      <td>1-2级</td>\n      <td>50</td>\n      <td>优</td>\n      <td>1</td>\n    </tr>\n    <tr>\n      <th>...</th>\n      <td>...</td>\n      <td>...</td>\n      <td>...</td>\n      <td>...</td>\n      <td>...</td>\n      <td>...</td>\n      <td>...</td>\n      <td>...</td>\n      <td>...</td>\n    </tr>\n    <tr>\n      <th>360</th>\n      <td>2018-12-27</td>\n      <td>-5℃</td>\n      <td>-12℃</td>\n      <td>多云~晴</td>\n      <td>西北风</td>\n      <td>3级</td>\n      <td>48</td>\n      <td>优</td>\n      <td>1</td>\n    </tr>\n    <tr>\n      <th>361</th>\n      <td>2018-12-28</td>\n      <td>-3℃</td>\n      <td>-11℃</td>\n      <td>晴</td>\n      <td>西北风</td>\n      <td>3级</td>\n      <td>40</td>\n      <td>优</td>\n      <td>1</td>\n    </tr>\n    <tr>\n      <th>362</th>\n      <td>2018-12-29</td>\n      <td>-3℃</td>\n      <td>-12℃</td>\n      <td>晴</td>\n      <td>西北风</td>\n      <td>2级</td>\n      <td>29</td>\n      <td>优</td>\n      <td>1</td>\n    </tr>\n    <tr>\n      <th>363</th>\n      <td>2018-12-30</td>\n      <td>-2℃</td>\n      <td>-11℃</td>\n      <td>晴~多云</td>\n      <td>东北风</td>\n      <td>1级</td>\n      <td>31</td>\n      <td>优</td>\n      <td>1</td>\n    </tr>\n    <tr>\n      <th>364</th>\n      <td>2018-12-31</td>\n      <td>-2℃</td>\n      <td>-10℃</td>\n      <td>多云</td>\n      <td>东北风</td>\n      <td>1级</td>\n      <td>56</td>\n      <td>良</td>\n      <td>2</td>\n    </tr>\n  </tbody>\n</table>\n<p>365 rows × 9 columns</p>\n</div>"
     },
     "execution_count": 29,
     "metadata": {},
     "output_type": "execute_result"
    }
   ],
   "source": [
    "yubao = './data/beijing_tianqi_2018.csv'\n",
    "tianqi = pd.read_csv(yubao)\n",
    "tianqi"
   ]
  },
  {
   "cell_type": "code",
   "execution_count": 30,
   "metadata": {
    "ExecuteTime": {
     "start_time": "2023-04-08T14:02:36.679470Z",
     "end_time": "2023-04-08T14:02:36.695091Z"
    }
   },
   "outputs": [],
   "source": [
    "a = tianqi['bWendu'].str.replace('℃','').astype(int)\n",
    "tianqi['bWendu'] = a"
   ]
  },
  {
   "cell_type": "code",
   "execution_count": 31,
   "metadata": {
    "ExecuteTime": {
     "start_time": "2023-04-08T14:02:38.405044Z",
     "end_time": "2023-04-08T14:02:38.436386Z"
    }
   },
   "outputs": [],
   "source": [
    "a = tianqi['yWendu'].str.replace('℃','').astype(int)\n",
    "tianqi['yWendu'] = a\n"
   ]
  },
  {
   "cell_type": "code",
   "execution_count": 32,
   "outputs": [
    {
     "data": {
      "text/plain": "            ymd  bWendu  yWendu tianqi fengxiang fengli  aqi aqiInfo  aqiLevel\n0    2018-01-01       3      -6   晴~多云       东北风   1-2级   59       良         2\n1    2018-01-02       2      -5   阴~多云       东北风   1-2级   49       优         1\n2    2018-01-03       2      -5     多云        北风   1-2级   28       优         1\n3    2018-01-04       0      -8      阴       东北风   1-2级   28       优         1\n4    2018-01-05       3      -6   多云~晴       西北风   1-2级   50       优         1\n..          ...     ...     ...    ...       ...    ...  ...     ...       ...\n360  2018-12-27      -5     -12   多云~晴       西北风     3级   48       优         1\n361  2018-12-28      -3     -11      晴       西北风     3级   40       优         1\n362  2018-12-29      -3     -12      晴       西北风     2级   29       优         1\n363  2018-12-30      -2     -11   晴~多云       东北风     1级   31       优         1\n364  2018-12-31      -2     -10     多云       东北风     1级   56       良         2\n\n[365 rows x 9 columns]",
      "text/html": "<div>\n<style scoped>\n    .dataframe tbody tr th:only-of-type {\n        vertical-align: middle;\n    }\n\n    .dataframe tbody tr th {\n        vertical-align: top;\n    }\n\n    .dataframe thead th {\n        text-align: right;\n    }\n</style>\n<table border=\"1\" class=\"dataframe\">\n  <thead>\n    <tr style=\"text-align: right;\">\n      <th></th>\n      <th>ymd</th>\n      <th>bWendu</th>\n      <th>yWendu</th>\n      <th>tianqi</th>\n      <th>fengxiang</th>\n      <th>fengli</th>\n      <th>aqi</th>\n      <th>aqiInfo</th>\n      <th>aqiLevel</th>\n    </tr>\n  </thead>\n  <tbody>\n    <tr>\n      <th>0</th>\n      <td>2018-01-01</td>\n      <td>3</td>\n      <td>-6</td>\n      <td>晴~多云</td>\n      <td>东北风</td>\n      <td>1-2级</td>\n      <td>59</td>\n      <td>良</td>\n      <td>2</td>\n    </tr>\n    <tr>\n      <th>1</th>\n      <td>2018-01-02</td>\n      <td>2</td>\n      <td>-5</td>\n      <td>阴~多云</td>\n      <td>东北风</td>\n      <td>1-2级</td>\n      <td>49</td>\n      <td>优</td>\n      <td>1</td>\n    </tr>\n    <tr>\n      <th>2</th>\n      <td>2018-01-03</td>\n      <td>2</td>\n      <td>-5</td>\n      <td>多云</td>\n      <td>北风</td>\n      <td>1-2级</td>\n      <td>28</td>\n      <td>优</td>\n      <td>1</td>\n    </tr>\n    <tr>\n      <th>3</th>\n      <td>2018-01-04</td>\n      <td>0</td>\n      <td>-8</td>\n      <td>阴</td>\n      <td>东北风</td>\n      <td>1-2级</td>\n      <td>28</td>\n      <td>优</td>\n      <td>1</td>\n    </tr>\n    <tr>\n      <th>4</th>\n      <td>2018-01-05</td>\n      <td>3</td>\n      <td>-6</td>\n      <td>多云~晴</td>\n      <td>西北风</td>\n      <td>1-2级</td>\n      <td>50</td>\n      <td>优</td>\n      <td>1</td>\n    </tr>\n    <tr>\n      <th>...</th>\n      <td>...</td>\n      <td>...</td>\n      <td>...</td>\n      <td>...</td>\n      <td>...</td>\n      <td>...</td>\n      <td>...</td>\n      <td>...</td>\n      <td>...</td>\n    </tr>\n    <tr>\n      <th>360</th>\n      <td>2018-12-27</td>\n      <td>-5</td>\n      <td>-12</td>\n      <td>多云~晴</td>\n      <td>西北风</td>\n      <td>3级</td>\n      <td>48</td>\n      <td>优</td>\n      <td>1</td>\n    </tr>\n    <tr>\n      <th>361</th>\n      <td>2018-12-28</td>\n      <td>-3</td>\n      <td>-11</td>\n      <td>晴</td>\n      <td>西北风</td>\n      <td>3级</td>\n      <td>40</td>\n      <td>优</td>\n      <td>1</td>\n    </tr>\n    <tr>\n      <th>362</th>\n      <td>2018-12-29</td>\n      <td>-3</td>\n      <td>-12</td>\n      <td>晴</td>\n      <td>西北风</td>\n      <td>2级</td>\n      <td>29</td>\n      <td>优</td>\n      <td>1</td>\n    </tr>\n    <tr>\n      <th>363</th>\n      <td>2018-12-30</td>\n      <td>-2</td>\n      <td>-11</td>\n      <td>晴~多云</td>\n      <td>东北风</td>\n      <td>1级</td>\n      <td>31</td>\n      <td>优</td>\n      <td>1</td>\n    </tr>\n    <tr>\n      <th>364</th>\n      <td>2018-12-31</td>\n      <td>-2</td>\n      <td>-10</td>\n      <td>多云</td>\n      <td>东北风</td>\n      <td>1级</td>\n      <td>56</td>\n      <td>良</td>\n      <td>2</td>\n    </tr>\n  </tbody>\n</table>\n<p>365 rows × 9 columns</p>\n</div>"
     },
     "execution_count": 32,
     "metadata": {},
     "output_type": "execute_result"
    }
   ],
   "source": [
    "tianqi"
   ],
   "metadata": {
    "collapsed": false,
    "ExecuteTime": {
     "start_time": "2023-04-08T14:02:40.400299Z",
     "end_time": "2023-04-08T14:02:40.462822Z"
    }
   }
  },
  {
   "cell_type": "markdown",
   "metadata": {},
   "source": []
  },
  {
   "cell_type": "code",
   "execution_count": 33,
   "metadata": {
    "ExecuteTime": {
     "start_time": "2023-04-08T14:02:42.487972Z",
     "end_time": "2023-04-08T14:02:42.534838Z"
    }
   },
   "outputs": [
    {
     "data": {
      "text/plain": "            ymd  bWendu  yWendu tianqi fengxiang fengli  aqi aqiInfo  aqiLevel\n249  2018-09-07      27      16      晴       西北风   3-4级   22       优         1",
      "text/html": "<div>\n<style scoped>\n    .dataframe tbody tr th:only-of-type {\n        vertical-align: middle;\n    }\n\n    .dataframe tbody tr th {\n        vertical-align: top;\n    }\n\n    .dataframe thead th {\n        text-align: right;\n    }\n</style>\n<table border=\"1\" class=\"dataframe\">\n  <thead>\n    <tr style=\"text-align: right;\">\n      <th></th>\n      <th>ymd</th>\n      <th>bWendu</th>\n      <th>yWendu</th>\n      <th>tianqi</th>\n      <th>fengxiang</th>\n      <th>fengli</th>\n      <th>aqi</th>\n      <th>aqiInfo</th>\n      <th>aqiLevel</th>\n    </tr>\n  </thead>\n  <tbody>\n    <tr>\n      <th>249</th>\n      <td>2018-09-07</td>\n      <td>27</td>\n      <td>16</td>\n      <td>晴</td>\n      <td>西北风</td>\n      <td>3-4级</td>\n      <td>22</td>\n      <td>优</td>\n      <td>1</td>\n    </tr>\n  </tbody>\n</table>\n</div>"
     },
     "execution_count": 33,
     "metadata": {},
     "output_type": "execute_result"
    }
   ],
   "source": [
    "tianqi[(tianqi['bWendu']<30)&(tianqi['yWendu']>15)&(tianqi['tianqi']=='晴')&(tianqi['aqiInfo']=='优')]"
   ]
  },
  {
   "cell_type": "code",
   "execution_count": 34,
   "metadata": {
    "ExecuteTime": {
     "start_time": "2023-04-08T14:02:44.403752Z",
     "end_time": "2023-04-08T14:02:44.435233Z"
    }
   },
   "outputs": [
    {
     "data": {
      "text/plain": "            ymd  bWendu  yWendu tianqi fengxiang fengli  aqi aqiInfo  \\\n0    2018-01-01       3      -6   晴~多云       东北风   1-2级   59       良   \n1    2018-01-02       2      -5   阴~多云       东北风   1-2级   49       优   \n2    2018-01-03       2      -5     多云        北风   1-2级   28       优   \n3    2018-01-04       0      -8      阴       东北风   1-2级   28       优   \n4    2018-01-05       3      -6   多云~晴       西北风   1-2级   50       优   \n..          ...     ...     ...    ...       ...    ...  ...     ...   \n360  2018-12-27      -5     -12   多云~晴       西北风     3级   48       优   \n361  2018-12-28      -3     -11      晴       西北风     3级   40       优   \n362  2018-12-29      -3     -12      晴       西北风     2级   29       优   \n363  2018-12-30      -2     -11   晴~多云       东北风     1级   31       优   \n364  2018-12-31      -2     -10     多云       东北风     1级   56       良   \n\n     aqiLevel  温差  \n0           2   9  \n1           1   7  \n2           1   7  \n3           1   8  \n4           1   9  \n..        ...  ..  \n360         1   7  \n361         1   8  \n362         1   9  \n363         1   9  \n364         2   8  \n\n[365 rows x 10 columns]",
      "text/html": "<div>\n<style scoped>\n    .dataframe tbody tr th:only-of-type {\n        vertical-align: middle;\n    }\n\n    .dataframe tbody tr th {\n        vertical-align: top;\n    }\n\n    .dataframe thead th {\n        text-align: right;\n    }\n</style>\n<table border=\"1\" class=\"dataframe\">\n  <thead>\n    <tr style=\"text-align: right;\">\n      <th></th>\n      <th>ymd</th>\n      <th>bWendu</th>\n      <th>yWendu</th>\n      <th>tianqi</th>\n      <th>fengxiang</th>\n      <th>fengli</th>\n      <th>aqi</th>\n      <th>aqiInfo</th>\n      <th>aqiLevel</th>\n      <th>温差</th>\n    </tr>\n  </thead>\n  <tbody>\n    <tr>\n      <th>0</th>\n      <td>2018-01-01</td>\n      <td>3</td>\n      <td>-6</td>\n      <td>晴~多云</td>\n      <td>东北风</td>\n      <td>1-2级</td>\n      <td>59</td>\n      <td>良</td>\n      <td>2</td>\n      <td>9</td>\n    </tr>\n    <tr>\n      <th>1</th>\n      <td>2018-01-02</td>\n      <td>2</td>\n      <td>-5</td>\n      <td>阴~多云</td>\n      <td>东北风</td>\n      <td>1-2级</td>\n      <td>49</td>\n      <td>优</td>\n      <td>1</td>\n      <td>7</td>\n    </tr>\n    <tr>\n      <th>2</th>\n      <td>2018-01-03</td>\n      <td>2</td>\n      <td>-5</td>\n      <td>多云</td>\n      <td>北风</td>\n      <td>1-2级</td>\n      <td>28</td>\n      <td>优</td>\n      <td>1</td>\n      <td>7</td>\n    </tr>\n    <tr>\n      <th>3</th>\n      <td>2018-01-04</td>\n      <td>0</td>\n      <td>-8</td>\n      <td>阴</td>\n      <td>东北风</td>\n      <td>1-2级</td>\n      <td>28</td>\n      <td>优</td>\n      <td>1</td>\n      <td>8</td>\n    </tr>\n    <tr>\n      <th>4</th>\n      <td>2018-01-05</td>\n      <td>3</td>\n      <td>-6</td>\n      <td>多云~晴</td>\n      <td>西北风</td>\n      <td>1-2级</td>\n      <td>50</td>\n      <td>优</td>\n      <td>1</td>\n      <td>9</td>\n    </tr>\n    <tr>\n      <th>...</th>\n      <td>...</td>\n      <td>...</td>\n      <td>...</td>\n      <td>...</td>\n      <td>...</td>\n      <td>...</td>\n      <td>...</td>\n      <td>...</td>\n      <td>...</td>\n      <td>...</td>\n    </tr>\n    <tr>\n      <th>360</th>\n      <td>2018-12-27</td>\n      <td>-5</td>\n      <td>-12</td>\n      <td>多云~晴</td>\n      <td>西北风</td>\n      <td>3级</td>\n      <td>48</td>\n      <td>优</td>\n      <td>1</td>\n      <td>7</td>\n    </tr>\n    <tr>\n      <th>361</th>\n      <td>2018-12-28</td>\n      <td>-3</td>\n      <td>-11</td>\n      <td>晴</td>\n      <td>西北风</td>\n      <td>3级</td>\n      <td>40</td>\n      <td>优</td>\n      <td>1</td>\n      <td>8</td>\n    </tr>\n    <tr>\n      <th>362</th>\n      <td>2018-12-29</td>\n      <td>-3</td>\n      <td>-12</td>\n      <td>晴</td>\n      <td>西北风</td>\n      <td>2级</td>\n      <td>29</td>\n      <td>优</td>\n      <td>1</td>\n      <td>9</td>\n    </tr>\n    <tr>\n      <th>363</th>\n      <td>2018-12-30</td>\n      <td>-2</td>\n      <td>-11</td>\n      <td>晴~多云</td>\n      <td>东北风</td>\n      <td>1级</td>\n      <td>31</td>\n      <td>优</td>\n      <td>1</td>\n      <td>9</td>\n    </tr>\n    <tr>\n      <th>364</th>\n      <td>2018-12-31</td>\n      <td>-2</td>\n      <td>-10</td>\n      <td>多云</td>\n      <td>东北风</td>\n      <td>1级</td>\n      <td>56</td>\n      <td>良</td>\n      <td>2</td>\n      <td>8</td>\n    </tr>\n  </tbody>\n</table>\n<p>365 rows × 10 columns</p>\n</div>"
     },
     "execution_count": 34,
     "metadata": {},
     "output_type": "execute_result"
    }
   ],
   "source": [
    "tianqi.loc[:,'温差'] = tianqi['bWendu']-tianqi['yWendu']\n",
    "tianqi"
   ]
  },
  {
   "cell_type": "code",
   "execution_count": 38,
   "outputs": [
    {
     "data": {
      "text/plain": "            ymd  bWendu  yWendu tianqi fengxiang fengli  aqi aqiInfo  \\\n0    2018-01-01       3      -6   晴~多云       东北风   1-2级   59       良   \n1    2018-01-02       2      -5   阴~多云       东北风   1-2级   49       优   \n2    2018-01-03       2      -5     多云        北风   1-2级   28       优   \n3    2018-01-04       0      -8      阴       东北风   1-2级   28       优   \n4    2018-01-05       3      -6   多云~晴       西北风   1-2级   50       优   \n..          ...     ...     ...    ...       ...    ...  ...     ...   \n360  2018-12-27      -5     -12   多云~晴       西北风     3级   48       优   \n361  2018-12-28      -3     -11      晴       西北风     3级   40       优   \n362  2018-12-29      -3     -12      晴       西北风     2级   29       优   \n363  2018-12-30      -2     -11   晴~多云       东北风     1级   31       优   \n364  2018-12-31      -2     -10     多云       东北风     1级   56       良   \n\n     aqiLevel  温差 温度类型  \n0           2   9   低温  \n1           1   7   低温  \n2           1   7   低温  \n3           1   8   低温  \n4           1   9   低温  \n..        ...  ..  ...  \n360         1   7   低温  \n361         1   8   低温  \n362         1   9   低温  \n363         1   9   低温  \n364         2   8   低温  \n\n[365 rows x 11 columns]",
      "text/html": "<div>\n<style scoped>\n    .dataframe tbody tr th:only-of-type {\n        vertical-align: middle;\n    }\n\n    .dataframe tbody tr th {\n        vertical-align: top;\n    }\n\n    .dataframe thead th {\n        text-align: right;\n    }\n</style>\n<table border=\"1\" class=\"dataframe\">\n  <thead>\n    <tr style=\"text-align: right;\">\n      <th></th>\n      <th>ymd</th>\n      <th>bWendu</th>\n      <th>yWendu</th>\n      <th>tianqi</th>\n      <th>fengxiang</th>\n      <th>fengli</th>\n      <th>aqi</th>\n      <th>aqiInfo</th>\n      <th>aqiLevel</th>\n      <th>温差</th>\n      <th>温度类型</th>\n    </tr>\n  </thead>\n  <tbody>\n    <tr>\n      <th>0</th>\n      <td>2018-01-01</td>\n      <td>3</td>\n      <td>-6</td>\n      <td>晴~多云</td>\n      <td>东北风</td>\n      <td>1-2级</td>\n      <td>59</td>\n      <td>良</td>\n      <td>2</td>\n      <td>9</td>\n      <td>低温</td>\n    </tr>\n    <tr>\n      <th>1</th>\n      <td>2018-01-02</td>\n      <td>2</td>\n      <td>-5</td>\n      <td>阴~多云</td>\n      <td>东北风</td>\n      <td>1-2级</td>\n      <td>49</td>\n      <td>优</td>\n      <td>1</td>\n      <td>7</td>\n      <td>低温</td>\n    </tr>\n    <tr>\n      <th>2</th>\n      <td>2018-01-03</td>\n      <td>2</td>\n      <td>-5</td>\n      <td>多云</td>\n      <td>北风</td>\n      <td>1-2级</td>\n      <td>28</td>\n      <td>优</td>\n      <td>1</td>\n      <td>7</td>\n      <td>低温</td>\n    </tr>\n    <tr>\n      <th>3</th>\n      <td>2018-01-04</td>\n      <td>0</td>\n      <td>-8</td>\n      <td>阴</td>\n      <td>东北风</td>\n      <td>1-2级</td>\n      <td>28</td>\n      <td>优</td>\n      <td>1</td>\n      <td>8</td>\n      <td>低温</td>\n    </tr>\n    <tr>\n      <th>4</th>\n      <td>2018-01-05</td>\n      <td>3</td>\n      <td>-6</td>\n      <td>多云~晴</td>\n      <td>西北风</td>\n      <td>1-2级</td>\n      <td>50</td>\n      <td>优</td>\n      <td>1</td>\n      <td>9</td>\n      <td>低温</td>\n    </tr>\n    <tr>\n      <th>...</th>\n      <td>...</td>\n      <td>...</td>\n      <td>...</td>\n      <td>...</td>\n      <td>...</td>\n      <td>...</td>\n      <td>...</td>\n      <td>...</td>\n      <td>...</td>\n      <td>...</td>\n      <td>...</td>\n    </tr>\n    <tr>\n      <th>360</th>\n      <td>2018-12-27</td>\n      <td>-5</td>\n      <td>-12</td>\n      <td>多云~晴</td>\n      <td>西北风</td>\n      <td>3级</td>\n      <td>48</td>\n      <td>优</td>\n      <td>1</td>\n      <td>7</td>\n      <td>低温</td>\n    </tr>\n    <tr>\n      <th>361</th>\n      <td>2018-12-28</td>\n      <td>-3</td>\n      <td>-11</td>\n      <td>晴</td>\n      <td>西北风</td>\n      <td>3级</td>\n      <td>40</td>\n      <td>优</td>\n      <td>1</td>\n      <td>8</td>\n      <td>低温</td>\n    </tr>\n    <tr>\n      <th>362</th>\n      <td>2018-12-29</td>\n      <td>-3</td>\n      <td>-12</td>\n      <td>晴</td>\n      <td>西北风</td>\n      <td>2级</td>\n      <td>29</td>\n      <td>优</td>\n      <td>1</td>\n      <td>9</td>\n      <td>低温</td>\n    </tr>\n    <tr>\n      <th>363</th>\n      <td>2018-12-30</td>\n      <td>-2</td>\n      <td>-11</td>\n      <td>晴~多云</td>\n      <td>东北风</td>\n      <td>1级</td>\n      <td>31</td>\n      <td>优</td>\n      <td>1</td>\n      <td>9</td>\n      <td>低温</td>\n    </tr>\n    <tr>\n      <th>364</th>\n      <td>2018-12-31</td>\n      <td>-2</td>\n      <td>-10</td>\n      <td>多云</td>\n      <td>东北风</td>\n      <td>1级</td>\n      <td>56</td>\n      <td>良</td>\n      <td>2</td>\n      <td>8</td>\n      <td>低温</td>\n    </tr>\n  </tbody>\n</table>\n<p>365 rows × 11 columns</p>\n</div>"
     },
     "execution_count": 38,
     "metadata": {},
     "output_type": "execute_result"
    }
   ],
   "source": [
    "def wencha_1(x):\n",
    "    if x['bWendu'] > 25:\n",
    "        return '高温'\n",
    "    if x['yWendu'] < 0:\n",
    "        return '低温'\n",
    "    else:\n",
    "        return '一般'\n",
    "\n",
    "tianqi.loc[:,'温度类型'] = tianqi.apply(wencha_1,axis = 1)\n",
    "tianqi"
   ],
   "metadata": {
    "collapsed": false,
    "ExecuteTime": {
     "start_time": "2023-04-08T14:04:00.699262Z",
     "end_time": "2023-04-08T14:04:00.746120Z"
    }
   }
  },
  {
   "cell_type": "code",
   "execution_count": 45,
   "outputs": [
    {
     "data": {
      "text/plain": "            ymd  bWendu  yWendu tianqi fengxiang fengli  aqi aqiInfo  \\\n0    2018-01-01       3      -6   晴~多云       东北风   1-2级   59       良   \n1    2018-01-02       2      -5   阴~多云       东北风   1-2级   49       优   \n2    2018-01-03       2      -5     多云        北风   1-2级   28       优   \n3    2018-01-04       0      -8      阴       东北风   1-2级   28       优   \n4    2018-01-05       3      -6   多云~晴       西北风   1-2级   50       优   \n..          ...     ...     ...    ...       ...    ...  ...     ...   \n360  2018-12-27      -5     -12   多云~晴       西北风     3级   48       优   \n361  2018-12-28      -3     -11      晴       西北风     3级   40       优   \n362  2018-12-29      -3     -12      晴       西北风     2级   29       优   \n363  2018-12-30      -2     -11   晴~多云       东北风     1级   31       优   \n364  2018-12-31      -2     -10     多云       东北风     1级   56       良   \n\n     aqiLevel  温差 温度类型  最高华氏度  最低华氏度  inplace  \n0           2   9   低温   37.4   21.2     True  \n1           1   7   低温   35.6   23.0     True  \n2           1   7   低温   35.6   23.0     True  \n3           1   8   低温   32.0   17.6     True  \n4           1   9   低温   37.4   21.2     True  \n..        ...  ..  ...    ...    ...      ...  \n360         1   7   低温   23.0   10.4     True  \n361         1   8   低温   26.6   12.2     True  \n362         1   9   低温   26.6   10.4     True  \n363         1   9   低温   28.4   12.2     True  \n364         2   8   低温   28.4   14.0     True  \n\n[365 rows x 14 columns]",
      "text/html": "<div>\n<style scoped>\n    .dataframe tbody tr th:only-of-type {\n        vertical-align: middle;\n    }\n\n    .dataframe tbody tr th {\n        vertical-align: top;\n    }\n\n    .dataframe thead th {\n        text-align: right;\n    }\n</style>\n<table border=\"1\" class=\"dataframe\">\n  <thead>\n    <tr style=\"text-align: right;\">\n      <th></th>\n      <th>ymd</th>\n      <th>bWendu</th>\n      <th>yWendu</th>\n      <th>tianqi</th>\n      <th>fengxiang</th>\n      <th>fengli</th>\n      <th>aqi</th>\n      <th>aqiInfo</th>\n      <th>aqiLevel</th>\n      <th>温差</th>\n      <th>温度类型</th>\n      <th>最高华氏度</th>\n      <th>最低华氏度</th>\n      <th>inplace</th>\n    </tr>\n  </thead>\n  <tbody>\n    <tr>\n      <th>0</th>\n      <td>2018-01-01</td>\n      <td>3</td>\n      <td>-6</td>\n      <td>晴~多云</td>\n      <td>东北风</td>\n      <td>1-2级</td>\n      <td>59</td>\n      <td>良</td>\n      <td>2</td>\n      <td>9</td>\n      <td>低温</td>\n      <td>37.4</td>\n      <td>21.2</td>\n      <td>True</td>\n    </tr>\n    <tr>\n      <th>1</th>\n      <td>2018-01-02</td>\n      <td>2</td>\n      <td>-5</td>\n      <td>阴~多云</td>\n      <td>东北风</td>\n      <td>1-2级</td>\n      <td>49</td>\n      <td>优</td>\n      <td>1</td>\n      <td>7</td>\n      <td>低温</td>\n      <td>35.6</td>\n      <td>23.0</td>\n      <td>True</td>\n    </tr>\n    <tr>\n      <th>2</th>\n      <td>2018-01-03</td>\n      <td>2</td>\n      <td>-5</td>\n      <td>多云</td>\n      <td>北风</td>\n      <td>1-2级</td>\n      <td>28</td>\n      <td>优</td>\n      <td>1</td>\n      <td>7</td>\n      <td>低温</td>\n      <td>35.6</td>\n      <td>23.0</td>\n      <td>True</td>\n    </tr>\n    <tr>\n      <th>3</th>\n      <td>2018-01-04</td>\n      <td>0</td>\n      <td>-8</td>\n      <td>阴</td>\n      <td>东北风</td>\n      <td>1-2级</td>\n      <td>28</td>\n      <td>优</td>\n      <td>1</td>\n      <td>8</td>\n      <td>低温</td>\n      <td>32.0</td>\n      <td>17.6</td>\n      <td>True</td>\n    </tr>\n    <tr>\n      <th>4</th>\n      <td>2018-01-05</td>\n      <td>3</td>\n      <td>-6</td>\n      <td>多云~晴</td>\n      <td>西北风</td>\n      <td>1-2级</td>\n      <td>50</td>\n      <td>优</td>\n      <td>1</td>\n      <td>9</td>\n      <td>低温</td>\n      <td>37.4</td>\n      <td>21.2</td>\n      <td>True</td>\n    </tr>\n    <tr>\n      <th>...</th>\n      <td>...</td>\n      <td>...</td>\n      <td>...</td>\n      <td>...</td>\n      <td>...</td>\n      <td>...</td>\n      <td>...</td>\n      <td>...</td>\n      <td>...</td>\n      <td>...</td>\n      <td>...</td>\n      <td>...</td>\n      <td>...</td>\n      <td>...</td>\n    </tr>\n    <tr>\n      <th>360</th>\n      <td>2018-12-27</td>\n      <td>-5</td>\n      <td>-12</td>\n      <td>多云~晴</td>\n      <td>西北风</td>\n      <td>3级</td>\n      <td>48</td>\n      <td>优</td>\n      <td>1</td>\n      <td>7</td>\n      <td>低温</td>\n      <td>23.0</td>\n      <td>10.4</td>\n      <td>True</td>\n    </tr>\n    <tr>\n      <th>361</th>\n      <td>2018-12-28</td>\n      <td>-3</td>\n      <td>-11</td>\n      <td>晴</td>\n      <td>西北风</td>\n      <td>3级</td>\n      <td>40</td>\n      <td>优</td>\n      <td>1</td>\n      <td>8</td>\n      <td>低温</td>\n      <td>26.6</td>\n      <td>12.2</td>\n      <td>True</td>\n    </tr>\n    <tr>\n      <th>362</th>\n      <td>2018-12-29</td>\n      <td>-3</td>\n      <td>-12</td>\n      <td>晴</td>\n      <td>西北风</td>\n      <td>2级</td>\n      <td>29</td>\n      <td>优</td>\n      <td>1</td>\n      <td>9</td>\n      <td>低温</td>\n      <td>26.6</td>\n      <td>10.4</td>\n      <td>True</td>\n    </tr>\n    <tr>\n      <th>363</th>\n      <td>2018-12-30</td>\n      <td>-2</td>\n      <td>-11</td>\n      <td>晴~多云</td>\n      <td>东北风</td>\n      <td>1级</td>\n      <td>31</td>\n      <td>优</td>\n      <td>1</td>\n      <td>9</td>\n      <td>低温</td>\n      <td>28.4</td>\n      <td>12.2</td>\n      <td>True</td>\n    </tr>\n    <tr>\n      <th>364</th>\n      <td>2018-12-31</td>\n      <td>-2</td>\n      <td>-10</td>\n      <td>多云</td>\n      <td>东北风</td>\n      <td>1级</td>\n      <td>56</td>\n      <td>良</td>\n      <td>2</td>\n      <td>8</td>\n      <td>低温</td>\n      <td>28.4</td>\n      <td>14.0</td>\n      <td>True</td>\n    </tr>\n  </tbody>\n</table>\n<p>365 rows × 14 columns</p>\n</div>"
     },
     "execution_count": 45,
     "metadata": {},
     "output_type": "execute_result"
    }
   ],
   "source": [
    "tianqi=tianqi.assign(\n",
    "    最高华氏度 = lambda x : x['bWendu']*9/5+32,\n",
    "    最低华氏度 = lambda x : x['yWendu']*9/5+32,\n",
    ")\n",
    "tianqi"
   ],
   "metadata": {
    "collapsed": false,
    "ExecuteTime": {
     "start_time": "2023-04-08T14:12:03.904975Z",
     "end_time": "2023-04-08T14:12:03.936332Z"
    }
   }
  },
  {
   "cell_type": "code",
   "execution_count": 46,
   "outputs": [
    {
     "data": {
      "text/plain": "    Unnamed: 0   姓名   科目    分数\n0          NaN   小明   语文  85.0\n1          NaN  NaN   数学  80.0\n2          NaN  NaN   英语  90.0\n3          NaN  NaN  NaN   NaN\n4          NaN   小王   语文  85.0\n5          NaN  NaN   数学   NaN\n6          NaN  NaN   英语  90.0\n7          NaN  NaN  NaN   NaN\n8          NaN   小刚   语文  85.0\n9          NaN  NaN   数学  80.0\n10         NaN  NaN   英语  90.0",
      "text/html": "<div>\n<style scoped>\n    .dataframe tbody tr th:only-of-type {\n        vertical-align: middle;\n    }\n\n    .dataframe tbody tr th {\n        vertical-align: top;\n    }\n\n    .dataframe thead th {\n        text-align: right;\n    }\n</style>\n<table border=\"1\" class=\"dataframe\">\n  <thead>\n    <tr style=\"text-align: right;\">\n      <th></th>\n      <th>Unnamed: 0</th>\n      <th>姓名</th>\n      <th>科目</th>\n      <th>分数</th>\n    </tr>\n  </thead>\n  <tbody>\n    <tr>\n      <th>0</th>\n      <td>NaN</td>\n      <td>小明</td>\n      <td>语文</td>\n      <td>85.0</td>\n    </tr>\n    <tr>\n      <th>1</th>\n      <td>NaN</td>\n      <td>NaN</td>\n      <td>数学</td>\n      <td>80.0</td>\n    </tr>\n    <tr>\n      <th>2</th>\n      <td>NaN</td>\n      <td>NaN</td>\n      <td>英语</td>\n      <td>90.0</td>\n    </tr>\n    <tr>\n      <th>3</th>\n      <td>NaN</td>\n      <td>NaN</td>\n      <td>NaN</td>\n      <td>NaN</td>\n    </tr>\n    <tr>\n      <th>4</th>\n      <td>NaN</td>\n      <td>小王</td>\n      <td>语文</td>\n      <td>85.0</td>\n    </tr>\n    <tr>\n      <th>5</th>\n      <td>NaN</td>\n      <td>NaN</td>\n      <td>数学</td>\n      <td>NaN</td>\n    </tr>\n    <tr>\n      <th>6</th>\n      <td>NaN</td>\n      <td>NaN</td>\n      <td>英语</td>\n      <td>90.0</td>\n    </tr>\n    <tr>\n      <th>7</th>\n      <td>NaN</td>\n      <td>NaN</td>\n      <td>NaN</td>\n      <td>NaN</td>\n    </tr>\n    <tr>\n      <th>8</th>\n      <td>NaN</td>\n      <td>小刚</td>\n      <td>语文</td>\n      <td>85.0</td>\n    </tr>\n    <tr>\n      <th>9</th>\n      <td>NaN</td>\n      <td>NaN</td>\n      <td>数学</td>\n      <td>80.0</td>\n    </tr>\n    <tr>\n      <th>10</th>\n      <td>NaN</td>\n      <td>NaN</td>\n      <td>英语</td>\n      <td>90.0</td>\n    </tr>\n  </tbody>\n</table>\n</div>"
     },
     "execution_count": 46,
     "metadata": {},
     "output_type": "execute_result"
    }
   ],
   "source": [
    "fpath = './data/缼失值处理.xlsx'\n",
    "df4 = pd.read_excel(fpath,skiprows=2)\n",
    "df4"
   ],
   "metadata": {
    "collapsed": false,
    "ExecuteTime": {
     "start_time": "2023-04-08T14:25:56.359519Z",
     "end_time": "2023-04-08T14:25:57.093081Z"
    }
   }
  },
  {
   "cell_type": "code",
   "execution_count": 48,
   "outputs": [
    {
     "data": {
      "text/plain": "     姓名   科目    分数\n0    小明   语文  85.0\n1   NaN   数学  80.0\n2   NaN   英语  90.0\n3   NaN  NaN   NaN\n4    小王   语文  85.0\n5   NaN   数学   NaN\n6   NaN   英语  90.0\n7   NaN  NaN   NaN\n8    小刚   语文  85.0\n9   NaN   数学  80.0\n10  NaN   英语  90.0",
      "text/html": "<div>\n<style scoped>\n    .dataframe tbody tr th:only-of-type {\n        vertical-align: middle;\n    }\n\n    .dataframe tbody tr th {\n        vertical-align: top;\n    }\n\n    .dataframe thead th {\n        text-align: right;\n    }\n</style>\n<table border=\"1\" class=\"dataframe\">\n  <thead>\n    <tr style=\"text-align: right;\">\n      <th></th>\n      <th>姓名</th>\n      <th>科目</th>\n      <th>分数</th>\n    </tr>\n  </thead>\n  <tbody>\n    <tr>\n      <th>0</th>\n      <td>小明</td>\n      <td>语文</td>\n      <td>85.0</td>\n    </tr>\n    <tr>\n      <th>1</th>\n      <td>NaN</td>\n      <td>数学</td>\n      <td>80.0</td>\n    </tr>\n    <tr>\n      <th>2</th>\n      <td>NaN</td>\n      <td>英语</td>\n      <td>90.0</td>\n    </tr>\n    <tr>\n      <th>3</th>\n      <td>NaN</td>\n      <td>NaN</td>\n      <td>NaN</td>\n    </tr>\n    <tr>\n      <th>4</th>\n      <td>小王</td>\n      <td>语文</td>\n      <td>85.0</td>\n    </tr>\n    <tr>\n      <th>5</th>\n      <td>NaN</td>\n      <td>数学</td>\n      <td>NaN</td>\n    </tr>\n    <tr>\n      <th>6</th>\n      <td>NaN</td>\n      <td>英语</td>\n      <td>90.0</td>\n    </tr>\n    <tr>\n      <th>7</th>\n      <td>NaN</td>\n      <td>NaN</td>\n      <td>NaN</td>\n    </tr>\n    <tr>\n      <th>8</th>\n      <td>小刚</td>\n      <td>语文</td>\n      <td>85.0</td>\n    </tr>\n    <tr>\n      <th>9</th>\n      <td>NaN</td>\n      <td>数学</td>\n      <td>80.0</td>\n    </tr>\n    <tr>\n      <th>10</th>\n      <td>NaN</td>\n      <td>英语</td>\n      <td>90.0</td>\n    </tr>\n  </tbody>\n</table>\n</div>"
     },
     "execution_count": 48,
     "metadata": {},
     "output_type": "execute_result"
    }
   ],
   "source": [
    "df4.dropna(how='all',axis=1,inplace = True)\n",
    "df4"
   ],
   "metadata": {
    "collapsed": false,
    "ExecuteTime": {
     "start_time": "2023-04-08T14:27:46.201786Z",
     "end_time": "2023-04-08T14:27:46.233150Z"
    }
   }
  },
  {
   "cell_type": "code",
   "execution_count": 55,
   "outputs": [
    {
     "data": {
      "text/plain": "    姓名  科目    分数\n0   小明  语文  85.0\n1   小明  数学  80.0\n2   小明  英语  90.0\n4   小王  语文  85.0\n5   小王  数学   NaN\n6   小王  英语  90.0\n8   小刚  语文  85.0\n9   小刚  数学  80.0\n10  小刚  英语  90.0",
      "text/html": "<div>\n<style scoped>\n    .dataframe tbody tr th:only-of-type {\n        vertical-align: middle;\n    }\n\n    .dataframe tbody tr th {\n        vertical-align: top;\n    }\n\n    .dataframe thead th {\n        text-align: right;\n    }\n</style>\n<table border=\"1\" class=\"dataframe\">\n  <thead>\n    <tr style=\"text-align: right;\">\n      <th></th>\n      <th>姓名</th>\n      <th>科目</th>\n      <th>分数</th>\n    </tr>\n  </thead>\n  <tbody>\n    <tr>\n      <th>0</th>\n      <td>小明</td>\n      <td>语文</td>\n      <td>85.0</td>\n    </tr>\n    <tr>\n      <th>1</th>\n      <td>小明</td>\n      <td>数学</td>\n      <td>80.0</td>\n    </tr>\n    <tr>\n      <th>2</th>\n      <td>小明</td>\n      <td>英语</td>\n      <td>90.0</td>\n    </tr>\n    <tr>\n      <th>4</th>\n      <td>小王</td>\n      <td>语文</td>\n      <td>85.0</td>\n    </tr>\n    <tr>\n      <th>5</th>\n      <td>小王</td>\n      <td>数学</td>\n      <td>NaN</td>\n    </tr>\n    <tr>\n      <th>6</th>\n      <td>小王</td>\n      <td>英语</td>\n      <td>90.0</td>\n    </tr>\n    <tr>\n      <th>8</th>\n      <td>小刚</td>\n      <td>语文</td>\n      <td>85.0</td>\n    </tr>\n    <tr>\n      <th>9</th>\n      <td>小刚</td>\n      <td>数学</td>\n      <td>80.0</td>\n    </tr>\n    <tr>\n      <th>10</th>\n      <td>小刚</td>\n      <td>英语</td>\n      <td>90.0</td>\n    </tr>\n  </tbody>\n</table>\n</div>"
     },
     "execution_count": 55,
     "metadata": {},
     "output_type": "execute_result"
    }
   ],
   "source": [
    "df4.dropna(how='all',axis = 0, inplace = True)\n",
    "df4\n",
    "df4['姓名'].fillna(method='ffill',axis=0,inplace = True)\n",
    "df4"
   ],
   "metadata": {
    "collapsed": false,
    "ExecuteTime": {
     "start_time": "2023-04-08T14:31:15.799663Z",
     "end_time": "2023-04-08T14:31:15.830906Z"
    }
   }
  },
  {
   "cell_type": "code",
   "execution_count": 70,
   "outputs": [],
   "source": [
    "df4['分数'].fillna(0,inplace = True)\n",
    "a = df4.copy()"
   ],
   "metadata": {
    "collapsed": false,
    "ExecuteTime": {
     "start_time": "2023-04-08T14:41:07.630340Z",
     "end_time": "2023-04-08T14:41:07.661701Z"
    }
   }
  },
  {
   "cell_type": "code",
   "execution_count": 81,
   "outputs": [
    {
     "data": {
      "text/plain": "    姓名  科目    分数\n0   小明  语文  None\n1   小明  数学  None\n2   小明  英语  None\n4   小王  语文  None\n5   小王  数学  None\n6   小王  英语  None\n8   小刚  语文  None\n9   小刚  数学  None\n10  小刚  英语  None",
      "text/html": "<div>\n<style scoped>\n    .dataframe tbody tr th:only-of-type {\n        vertical-align: middle;\n    }\n\n    .dataframe tbody tr th {\n        vertical-align: top;\n    }\n\n    .dataframe thead th {\n        text-align: right;\n    }\n</style>\n<table border=\"1\" class=\"dataframe\">\n  <thead>\n    <tr style=\"text-align: right;\">\n      <th></th>\n      <th>姓名</th>\n      <th>科目</th>\n      <th>分数</th>\n    </tr>\n  </thead>\n  <tbody>\n    <tr>\n      <th>0</th>\n      <td>小明</td>\n      <td>语文</td>\n      <td>None</td>\n    </tr>\n    <tr>\n      <th>1</th>\n      <td>小明</td>\n      <td>数学</td>\n      <td>None</td>\n    </tr>\n    <tr>\n      <th>2</th>\n      <td>小明</td>\n      <td>英语</td>\n      <td>None</td>\n    </tr>\n    <tr>\n      <th>4</th>\n      <td>小王</td>\n      <td>语文</td>\n      <td>None</td>\n    </tr>\n    <tr>\n      <th>5</th>\n      <td>小王</td>\n      <td>数学</td>\n      <td>None</td>\n    </tr>\n    <tr>\n      <th>6</th>\n      <td>小王</td>\n      <td>英语</td>\n      <td>None</td>\n    </tr>\n    <tr>\n      <th>8</th>\n      <td>小刚</td>\n      <td>语文</td>\n      <td>None</td>\n    </tr>\n    <tr>\n      <th>9</th>\n      <td>小刚</td>\n      <td>数学</td>\n      <td>None</td>\n    </tr>\n    <tr>\n      <th>10</th>\n      <td>小刚</td>\n      <td>英语</td>\n      <td>None</td>\n    </tr>\n  </tbody>\n</table>\n</div>"
     },
     "execution_count": 81,
     "metadata": {},
     "output_type": "execute_result"
    }
   ],
   "source": [
    "a.loc[:,'分数'] = None\n",
    "a\n",
    "a.dropna(how='all',axis = 0,inplace = True)\n",
    "a"
   ],
   "metadata": {
    "collapsed": false,
    "ExecuteTime": {
     "start_time": "2023-04-08T14:52:07.967856Z",
     "end_time": "2023-04-08T14:52:07.983511Z"
    }
   }
  },
  {
   "cell_type": "code",
   "execution_count": 85,
   "outputs": [
    {
     "data": {
      "text/plain": "0     None\n1     None\n2     None\n4     None\n5     None\n6     None\n8     None\n9     None\n10    None\nName: 分数, dtype: object"
     },
     "execution_count": 85,
     "metadata": {},
     "output_type": "execute_result"
    }
   ],
   "source": [
    "a['科目'].str.len()"
   ],
   "metadata": {
    "collapsed": false,
    "ExecuteTime": {
     "start_time": "2023-04-08T15:53:05.015972Z",
     "end_time": "2023-04-08T15:53:05.031627Z"
    }
   }
  },
  {
   "cell_type": "code",
   "execution_count": 86,
   "outputs": [
    {
     "data": {
      "text/plain": "0     False\n1     False\n2     False\n4     False\n5     False\n6     False\n8     False\n9     False\n10    False\nName: 科目, dtype: bool"
     },
     "execution_count": 86,
     "metadata": {},
     "output_type": "execute_result"
    }
   ],
   "source": [
    "a['科目'].str.isnumeric()"
   ],
   "metadata": {
    "collapsed": false,
    "ExecuteTime": {
     "start_time": "2023-04-08T15:53:49.988490Z",
     "end_time": "2023-04-08T15:53:50.019990Z"
    }
   }
  },
  {
   "cell_type": "code",
   "execution_count": null,
   "outputs": [],
   "source": [],
   "metadata": {
    "collapsed": false
   }
  }
 ],
 "metadata": {
  "kernelspec": {
   "display_name": "Python 3 (ipykernel)",
   "language": "python",
   "name": "python3"
  },
  "language_info": {
   "codemirror_mode": {
    "name": "ipython",
    "version": 3
   },
   "file_extension": ".py",
   "mimetype": "text/x-python",
   "name": "python",
   "nbconvert_exporter": "python",
   "pygments_lexer": "ipython3",
   "version": "3.9.7"
  }
 },
 "nbformat": 4,
 "nbformat_minor": 1
}
