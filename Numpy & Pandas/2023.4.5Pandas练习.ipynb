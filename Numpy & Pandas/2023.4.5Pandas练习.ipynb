{
 "cells": [
  {
   "cell_type": "code",
   "execution_count": 8,
   "metadata": {},
   "outputs": [
    {
     "name": "stdout",
     "output_type": "stream",
     "text": [
      "-654321\n"
     ]
    }
   ],
   "source": [
    "x = -123456\n",
    "x = str(x)\n",
    "if x[0] == \"-\" :\n",
    "    x = x[1:]\n",
    "    x = x[::-1]\n",
    "    x = \"-\" + x\n",
    "    print(x)\n",
    "else:\n",
    "    x = x[::-1]\n",
    "    print(x)\n"
   ]
  },
  {
   "cell_type": "code",
   "execution_count": 11,
   "metadata": {},
   "outputs": [
    {
     "data": {
      "text/plain": [
       "'-654321'"
      ]
     },
     "execution_count": 11,
     "metadata": {},
     "output_type": "execute_result"
    }
   ],
   "source": [
    "num = input('输入:')\n",
    "if int(num)>0:\n",
    "    c=num[::-1]\n",
    "elif int(num)<0:\n",
    "    c=num[0]+num[-1:0:-1]\n",
    "print(c)"
   ]
  }
 ],
 "metadata": {
  "kernelspec": {
   "display_name": "Python 3 (ipykernel)",
   "language": "python",
   "name": "python3"
  },
  "language_info": {
   "codemirror_mode": {
    "name": "ipython",
    "version": 3
   },
   "file_extension": ".py",
   "mimetype": "text/x-python",
   "name": "python",
   "nbconvert_exporter": "python",
   "pygments_lexer": "ipython3",
   "version": "3.9.7"
  }
 },
 "nbformat": 4,
 "nbformat_minor": 1
}
