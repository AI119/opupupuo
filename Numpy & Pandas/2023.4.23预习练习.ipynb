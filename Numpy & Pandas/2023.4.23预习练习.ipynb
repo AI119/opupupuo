{
 "cells": [
  {
   "cell_type": "markdown",
   "source": [
    "爬取一个简单的网页"
   ],
   "metadata": {
    "collapsed": false
   }
  },
  {
   "cell_type": "code",
   "execution_count": 26,
   "outputs": [
    {
     "name": "stdout",
     "output_type": "stream",
     "text": [
      "Date:Sun, 23 Apr 2023 08:09:04 GMT\n",
      "Content-Type:text/html; charset=utf-8\n",
      "Transfer-Encoding:chunked\n",
      "Connection:keep-alive\n",
      "Access-Control-Allow-Origin:*\n",
      "Access-Control-Allow-Credentials:true\n",
      "Vary:Accept-Encoding\n",
      "Server:TQServer\n",
      "Pragrma:no-cache\n",
      "Cache-Control:no-store\n",
      "Set-Cookie:JSESSIONID=48304F9E8D55A9F2F8ACC14B7EC5A02D; Path=/\n",
      "X-Cache:false\n",
      "Accept-Ranges:bytes\n"
     ]
    }
   ],
   "source": [
    "import urllib3\n",
    "urllib3.disable_warnings()\n",
    "#创建爬虫连结池对象\n",
    "manager = urllib3.PoolManager()\n",
    "# print(manager)\n",
    "\"\"\"\n",
    "通过网页链接获取网页的信息\n",
    "request:请求\n",
    "response:响应\n",
    "\"\"\"\n",
    "response = manager.request(\"GET\",\"https://beijing.8684.cn/x_35b1e697\")\n",
    "# print(f'状态码{response}')\n",
    "headers = dict(response.headers)\n",
    "# headers.items()\n",
    "for k,v in headers.items():\n",
    "    print(f'{k}:{v}')\n",
    "with open('./data/公交车.html','wb') as f:\n",
    "    f.write(response.data)"
   ],
   "metadata": {
    "collapsed": false,
    "ExecuteTime": {
     "start_time": "2023-04-23T16:09:05.077459Z",
     "end_time": "2023-04-23T16:09:05.446786Z"
    }
   }
  },
  {
   "cell_type": "markdown",
   "source": [
    "## requests网页下载流程\n",
    "调用get方法访问页面\n",
    "* 请求参数\n",
    "目标页面url\n",
    "* 返回值\n",
    "页面html文档：result.text"
   ],
   "metadata": {
    "collapsed": false
   }
  },
  {
   "cell_type": "code",
   "execution_count": 29,
   "outputs": [],
   "source": [
    "#以下代码是将爬取页面源码输出到控制台上\n",
    "import requests\n",
    "response = requests.get(url='https://beijing.8684.cn/x_35b1e697')\n",
    "with open('./data/328路公交车1.html',mode='w',encoding='utf-8') as f:\n",
    "    f.write(response.text)"
   ],
   "metadata": {
    "collapsed": false,
    "ExecuteTime": {
     "start_time": "2023-04-23T16:49:13.987127Z",
     "end_time": "2023-04-23T16:49:14.049733Z"
    }
   }
  },
  {
   "cell_type": "markdown",
   "source": [],
   "metadata": {
    "collapsed": false
   }
  }
 ],
 "metadata": {
  "kernelspec": {
   "display_name": "Python 3",
   "language": "python",
   "name": "python3"
  },
  "language_info": {
   "codemirror_mode": {
    "name": "ipython",
    "version": 2
   },
   "file_extension": ".py",
   "mimetype": "text/x-python",
   "name": "python",
   "nbconvert_exporter": "python",
   "pygments_lexer": "ipython2",
   "version": "2.7.6"
  }
 },
 "nbformat": 4,
 "nbformat_minor": 0
}
