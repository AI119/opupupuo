{
 "cells": [
  {
   "cell_type": "code",
   "execution_count": 1,
   "metadata": {
    "collapsed": true,
    "ExecuteTime": {
     "start_time": "2023-04-05T08:24:17.769991Z",
     "end_time": "2023-04-05T08:24:18.765620Z"
    }
   },
   "outputs": [
    {
     "data": {
      "text/plain": "                        url            title  val1  val2\ndate                                                    \ndeta                    url             name  val1  val2\n2022-01-01  www.example.com    Example Title    10    20\n2022-01-02  www.example.com    Another Title    30    40\n2022-01-03  www.example.com  Another Title_1    50    60\n2022-01-04  www.example.com  Another Title_2    70    90",
      "text/html": "<div>\n<style scoped>\n    .dataframe tbody tr th:only-of-type {\n        vertical-align: middle;\n    }\n\n    .dataframe tbody tr th {\n        vertical-align: top;\n    }\n\n    .dataframe thead th {\n        text-align: right;\n    }\n</style>\n<table border=\"1\" class=\"dataframe\">\n  <thead>\n    <tr style=\"text-align: right;\">\n      <th></th>\n      <th>url</th>\n      <th>title</th>\n      <th>val1</th>\n      <th>val2</th>\n    </tr>\n    <tr>\n      <th>date</th>\n      <th></th>\n      <th></th>\n      <th></th>\n      <th></th>\n    </tr>\n  </thead>\n  <tbody>\n    <tr>\n      <th>deta</th>\n      <td>url</td>\n      <td>name</td>\n      <td>val1</td>\n      <td>val2</td>\n    </tr>\n    <tr>\n      <th>2022-01-01</th>\n      <td>www.example.com</td>\n      <td>Example Title</td>\n      <td>10</td>\n      <td>20</td>\n    </tr>\n    <tr>\n      <th>2022-01-02</th>\n      <td>www.example.com</td>\n      <td>Another Title</td>\n      <td>30</td>\n      <td>40</td>\n    </tr>\n    <tr>\n      <th>2022-01-03</th>\n      <td>www.example.com</td>\n      <td>Another Title_1</td>\n      <td>50</td>\n      <td>60</td>\n    </tr>\n    <tr>\n      <th>2022-01-04</th>\n      <td>www.example.com</td>\n      <td>Another Title_2</td>\n      <td>70</td>\n      <td>90</td>\n    </tr>\n  </tbody>\n</table>\n</div>"
     },
     "execution_count": 1,
     "metadata": {},
     "output_type": "execute_result"
    }
   ],
   "source": [
    "import pandas as pd\n",
    "fpath = r\"D:\\Jupyter notebook\\Numpy & Pandas\\test.csv\"\n",
    "#设置csv表格格式,header=None表示不设置表头，names是一个列表，包含了每列的名称\n",
    "#index_col：用作DataFrame的索引名\n",
    "#usecols：用于读取的列名列表\n",
    "df = pd.read_csv(fpath,header=None,names=\n",
    "['date','url','title','val1','val2'],index_col='date',\n",
    "usecols=['date','url','title','val1','val2']\n",
    ")\n",
    "df"
   ]
  },
  {
   "cell_type": "code",
   "execution_count": 2,
   "outputs": [
    {
     "data": {
      "text/plain": "  sites  number\n0    谷歌       1\n1  菜鸟教程       2\n2    维基       3",
      "text/html": "<div>\n<style scoped>\n    .dataframe tbody tr th:only-of-type {\n        vertical-align: middle;\n    }\n\n    .dataframe tbody tr th {\n        vertical-align: top;\n    }\n\n    .dataframe thead th {\n        text-align: right;\n    }\n</style>\n<table border=\"1\" class=\"dataframe\">\n  <thead>\n    <tr style=\"text-align: right;\">\n      <th></th>\n      <th>sites</th>\n      <th>number</th>\n    </tr>\n  </thead>\n  <tbody>\n    <tr>\n      <th>0</th>\n      <td>谷歌</td>\n      <td>1</td>\n    </tr>\n    <tr>\n      <th>1</th>\n      <td>菜鸟教程</td>\n      <td>2</td>\n    </tr>\n    <tr>\n      <th>2</th>\n      <td>维基</td>\n      <td>3</td>\n    </tr>\n  </tbody>\n</table>\n</div>"
     },
     "execution_count": 2,
     "metadata": {},
     "output_type": "execute_result"
    }
   ],
   "source": [
    "mydataset = {\n",
    "    'sites':[\"谷歌\",\"菜鸟教程\",\"维基\"],\n",
    "    'number':[1,2,3]\n",
    "}\n",
    "#将上述字典变成DataFrame格式\n",
    "myvar = pd.DataFrame(mydataset)\n",
    "myvar"
   ],
   "metadata": {
    "collapsed": false,
    "ExecuteTime": {
     "start_time": "2023-04-04T20:13:43.581228Z",
     "end_time": "2023-04-04T20:13:43.800977Z"
    }
   }
  },
  {
   "cell_type": "code",
   "execution_count": 3,
   "outputs": [
    {
     "name": "stdout",
     "output_type": "stream",
     "text": [
      "         deta              url             name  val1  val2\n",
      "0  2022-01-01  www.example.com    Example Title    10    20\n",
      "1  2022-01-02  www.example.com    Another Title    30    40\n",
      "2  2022-01-03  www.example.com  Another Title_1    50    60\n",
      "3  2022-01-04  www.example.com  Another Title_2    70    90\n"
     ]
    }
   ],
   "source": [
    "fpath = r\"D:\\Jupyter notebook\\Numpy & Pandas\\test.csv\"\n",
    "df = pd.read_csv(fpath,header=0)\n",
    "print(df)"
   ],
   "metadata": {
    "collapsed": false,
    "ExecuteTime": {
     "start_time": "2023-04-04T20:13:43.612470Z",
     "end_time": "2023-04-04T20:13:43.800977Z"
    }
   }
  },
  {
   "cell_type": "code",
   "execution_count": 4,
   "outputs": [
    {
     "name": "stdout",
     "output_type": "stream",
     "text": [
      "a    1\n",
      "b    2\n",
      "c    3\n",
      "dtype: int64 <class 'pandas.core.series.Series'>\n"
     ]
    }
   ],
   "source": [
    "#生成一个Series的数据\n",
    "s = pd.Series([1,2,3],index=['a','b','c'])\n",
    "print(s,type(s))"
   ],
   "metadata": {
    "collapsed": false,
    "ExecuteTime": {
     "start_time": "2023-04-04T20:13:43.635420Z",
     "end_time": "2023-04-04T20:13:43.800977Z"
    }
   }
  },
  {
   "cell_type": "code",
   "execution_count": 5,
   "outputs": [
    {
     "name": "stdout",
     "output_type": "stream",
     "text": [
      "Index(['a', 'b', 'c'], dtype='object')\n"
     ]
    },
    {
     "data": {
      "text/plain": "array([1, 2, 3], dtype=int64)"
     },
     "execution_count": 5,
     "metadata": {},
     "output_type": "execute_result"
    }
   ],
   "source": [
    "print(s.index)\n",
    "s.values"
   ],
   "metadata": {
    "collapsed": false,
    "ExecuteTime": {
     "start_time": "2023-04-04T20:13:43.658761Z",
     "end_time": "2023-04-04T20:13:43.800977Z"
    }
   }
  },
  {
   "cell_type": "code",
   "execution_count": 6,
   "outputs": [
    {
     "name": "stdout",
     "output_type": "stream",
     "text": [
      "a    10\n",
      "c    30\n",
      "Name: test_test, dtype: int64\n"
     ]
    }
   ],
   "source": [
    "s_1 = pd.Series({\"a\":10,\"b\":20,\"c\":30})\n",
    "myvar = pd.Series(s_1,index=[\"a\",\"c\"],name=\"test_test\")\n",
    "print(myvar)"
   ],
   "metadata": {
    "collapsed": false,
    "ExecuteTime": {
     "start_time": "2023-04-04T20:13:43.681067Z",
     "end_time": "2023-04-04T20:13:43.800977Z"
    }
   }
  },
  {
   "cell_type": "code",
   "execution_count": 7,
   "outputs": [
    {
     "name": "stdout",
     "output_type": "stream",
     "text": [
      "1    Google\n",
      "3      Wiki\n",
      "Name: RUNOOB-Series-TEST, dtype: object\n"
     ]
    }
   ],
   "source": [
    "sites = {1: \"Google\", 2: \"Runoob\", 3: \"Wiki\"}\n",
    "\n",
    "myvar = pd.Series(sites, index = [1,3], name=\"RUNOOB-Series-TEST\" )\n",
    "\n",
    "print(myvar)"
   ],
   "metadata": {
    "collapsed": false,
    "ExecuteTime": {
     "start_time": "2023-04-04T20:13:43.695224Z",
     "end_time": "2023-04-04T20:13:43.800977Z"
    }
   }
  },
  {
   "cell_type": "code",
   "execution_count": 8,
   "outputs": [
    {
     "name": "stdout",
     "output_type": "stream",
     "text": [
      "   姓名  年龄     工资\n",
      "0  张三  30  30000\n",
      "1  李四  40  40000\n",
      "2  王五  50  50000\n",
      "3  赵六  60  60000\n",
      "姓名    object\n",
      "年龄     int64\n",
      "工资     int64\n",
      "dtype: object\n",
      "Index(['姓名', '年龄', '工资'], dtype='object')\n",
      "RangeIndex(start=0, stop=4, step=1)\n"
     ]
    }
   ],
   "source": [
    "data = {\n",
    "    \"姓名\":['张三','李四','王五','赵六'],\n",
    "    \"年龄\":[30,40,50,60],\n",
    "    \"工资\":[30000,40000,50000,60000]\n",
    "}\n",
    "df = pd.DataFrame(data)\n",
    "print(df)\n",
    "print(df.dtypes)\n",
    "print(df.columns)\n",
    "print(df.index)"
   ],
   "metadata": {
    "collapsed": false,
    "ExecuteTime": {
     "start_time": "2023-04-04T20:13:43.709341Z",
     "end_time": "2023-04-04T20:13:43.800977Z"
    }
   }
  },
  {
   "cell_type": "code",
   "execution_count": 9,
   "outputs": [
    {
     "data": {
      "text/plain": "         deta              url             name  val1  val2\n0  2022-01-01  www.example.com    Example Title    10    20\n1  2022-01-02  www.example.com    Another Title    30    40\n2  2022-01-03  www.example.com  Another Title_1    50    60\n3  2022-01-04  www.example.com  Another Title_2    70    90",
      "text/html": "<div>\n<style scoped>\n    .dataframe tbody tr th:only-of-type {\n        vertical-align: middle;\n    }\n\n    .dataframe tbody tr th {\n        vertical-align: top;\n    }\n\n    .dataframe thead th {\n        text-align: right;\n    }\n</style>\n<table border=\"1\" class=\"dataframe\">\n  <thead>\n    <tr style=\"text-align: right;\">\n      <th></th>\n      <th>deta</th>\n      <th>url</th>\n      <th>name</th>\n      <th>val1</th>\n      <th>val2</th>\n    </tr>\n  </thead>\n  <tbody>\n    <tr>\n      <th>0</th>\n      <td>2022-01-01</td>\n      <td>www.example.com</td>\n      <td>Example Title</td>\n      <td>10</td>\n      <td>20</td>\n    </tr>\n    <tr>\n      <th>1</th>\n      <td>2022-01-02</td>\n      <td>www.example.com</td>\n      <td>Another Title</td>\n      <td>30</td>\n      <td>40</td>\n    </tr>\n    <tr>\n      <th>2</th>\n      <td>2022-01-03</td>\n      <td>www.example.com</td>\n      <td>Another Title_1</td>\n      <td>50</td>\n      <td>60</td>\n    </tr>\n    <tr>\n      <th>3</th>\n      <td>2022-01-04</td>\n      <td>www.example.com</td>\n      <td>Another Title_2</td>\n      <td>70</td>\n      <td>90</td>\n    </tr>\n  </tbody>\n</table>\n</div>"
     },
     "execution_count": 9,
     "metadata": {},
     "output_type": "execute_result"
    }
   ],
   "source": [
    "fpath = r\"D:\\Jupyter notebook\\Numpy & Pandas\\test.csv\"\n",
    "df3 = pd.read_csv(fpath)\n",
    "df3"
   ],
   "metadata": {
    "collapsed": false,
    "ExecuteTime": {
     "start_time": "2023-04-04T20:13:43.734604Z",
     "end_time": "2023-04-04T20:13:43.800977Z"
    }
   }
  },
  {
   "cell_type": "code",
   "execution_count": 10,
   "outputs": [
    {
     "data": {
      "text/plain": "0    www.example.com\n1    www.example.com\n2    www.example.com\n3    www.example.com\nName: url, dtype: object"
     },
     "execution_count": 10,
     "metadata": {},
     "output_type": "execute_result"
    }
   ],
   "source": [
    "#返回标题为'url'的一列，其数据格式为Series\n",
    "df3['url']"
   ],
   "metadata": {
    "collapsed": false,
    "ExecuteTime": {
     "start_time": "2023-04-04T20:13:43.762514Z",
     "end_time": "2023-04-04T20:13:43.800977Z"
    }
   }
  },
  {
   "cell_type": "code",
   "execution_count": 11,
   "outputs": [
    {
     "data": {
      "text/plain": "         deta             name\n0  2022-01-01    Example Title\n1  2022-01-02    Another Title\n2  2022-01-03  Another Title_1\n3  2022-01-04  Another Title_2",
      "text/html": "<div>\n<style scoped>\n    .dataframe tbody tr th:only-of-type {\n        vertical-align: middle;\n    }\n\n    .dataframe tbody tr th {\n        vertical-align: top;\n    }\n\n    .dataframe thead th {\n        text-align: right;\n    }\n</style>\n<table border=\"1\" class=\"dataframe\">\n  <thead>\n    <tr style=\"text-align: right;\">\n      <th></th>\n      <th>deta</th>\n      <th>name</th>\n    </tr>\n  </thead>\n  <tbody>\n    <tr>\n      <th>0</th>\n      <td>2022-01-01</td>\n      <td>Example Title</td>\n    </tr>\n    <tr>\n      <th>1</th>\n      <td>2022-01-02</td>\n      <td>Another Title</td>\n    </tr>\n    <tr>\n      <th>2</th>\n      <td>2022-01-03</td>\n      <td>Another Title_1</td>\n    </tr>\n    <tr>\n      <th>3</th>\n      <td>2022-01-04</td>\n      <td>Another Title_2</td>\n    </tr>\n  </tbody>\n</table>\n</div>"
     },
     "execution_count": 11,
     "metadata": {},
     "output_type": "execute_result"
    }
   ],
   "source": [
    "#返回多列，数据格式为Data.Frame\n",
    "df3[['deta','name']]\n"
   ],
   "metadata": {
    "collapsed": false,
    "ExecuteTime": {
     "start_time": "2023-04-04T20:13:43.781900Z",
     "end_time": "2023-04-04T20:13:43.880471Z"
    }
   }
  },
  {
   "cell_type": "code",
   "execution_count": 12,
   "outputs": [
    {
     "data": {
      "text/plain": "deta         2022-01-01\nurl     www.example.com\nname      Example Title\nval1                 10\nval2                 20\nName: 0, dtype: object"
     },
     "execution_count": 12,
     "metadata": {},
     "output_type": "execute_result"
    }
   ],
   "source": [
    "#返回索引为0的一行，数据格式为Series\n",
    "df3.loc[0]"
   ],
   "metadata": {
    "collapsed": false,
    "ExecuteTime": {
     "start_time": "2023-04-04T20:13:43.832532Z",
     "end_time": "2023-04-04T20:13:44.591296Z"
    }
   }
  },
  {
   "cell_type": "code",
   "execution_count": 13,
   "outputs": [
    {
     "data": {
      "text/plain": "         deta              url           name  val1  val2\n0  2022-01-01  www.example.com  Example Title    10    20\n1  2022-01-02  www.example.com  Another Title    30    40",
      "text/html": "<div>\n<style scoped>\n    .dataframe tbody tr th:only-of-type {\n        vertical-align: middle;\n    }\n\n    .dataframe tbody tr th {\n        vertical-align: top;\n    }\n\n    .dataframe thead th {\n        text-align: right;\n    }\n</style>\n<table border=\"1\" class=\"dataframe\">\n  <thead>\n    <tr style=\"text-align: right;\">\n      <th></th>\n      <th>deta</th>\n      <th>url</th>\n      <th>name</th>\n      <th>val1</th>\n      <th>val2</th>\n    </tr>\n  </thead>\n  <tbody>\n    <tr>\n      <th>0</th>\n      <td>2022-01-01</td>\n      <td>www.example.com</td>\n      <td>Example Title</td>\n      <td>10</td>\n      <td>20</td>\n    </tr>\n    <tr>\n      <th>1</th>\n      <td>2022-01-02</td>\n      <td>www.example.com</td>\n      <td>Another Title</td>\n      <td>30</td>\n      <td>40</td>\n    </tr>\n  </tbody>\n</table>\n</div>"
     },
     "execution_count": 13,
     "metadata": {},
     "output_type": "execute_result"
    }
   ],
   "source": [
    "#返回0~1行，数据格式为DaraFrame\n",
    "df3.loc[0:1]"
   ],
   "metadata": {
    "collapsed": false,
    "ExecuteTime": {
     "start_time": "2023-04-04T20:13:43.848149Z",
     "end_time": "2023-04-04T20:13:44.635369Z"
    }
   }
  },
  {
   "cell_type": "code",
   "execution_count": 14,
   "outputs": [
    {
     "data": {
      "text/plain": "         deta  val1  val2\n0  2022-01-01    10    20\n1  2022-01-02    30    40\n2  2022-01-03    50    60",
      "text/html": "<div>\n<style scoped>\n    .dataframe tbody tr th:only-of-type {\n        vertical-align: middle;\n    }\n\n    .dataframe tbody tr th {\n        vertical-align: top;\n    }\n\n    .dataframe thead th {\n        text-align: right;\n    }\n</style>\n<table border=\"1\" class=\"dataframe\">\n  <thead>\n    <tr style=\"text-align: right;\">\n      <th></th>\n      <th>deta</th>\n      <th>val1</th>\n      <th>val2</th>\n    </tr>\n  </thead>\n  <tbody>\n    <tr>\n      <th>0</th>\n      <td>2022-01-01</td>\n      <td>10</td>\n      <td>20</td>\n    </tr>\n    <tr>\n      <th>1</th>\n      <td>2022-01-02</td>\n      <td>30</td>\n      <td>40</td>\n    </tr>\n    <tr>\n      <th>2</th>\n      <td>2022-01-03</td>\n      <td>50</td>\n      <td>60</td>\n    </tr>\n  </tbody>\n</table>\n</div>"
     },
     "execution_count": 14,
     "metadata": {},
     "output_type": "execute_result"
    }
   ],
   "source": [
    "#返回0~2行，列标题为'deta','val1','val2'的列\n",
    "df3.loc[0:2,['deta','val1','val2']]"
   ],
   "metadata": {
    "collapsed": false,
    "ExecuteTime": {
     "start_time": "2023-04-04T20:13:43.863774Z",
     "end_time": "2023-04-04T20:13:44.657819Z"
    }
   }
  },
  {
   "cell_type": "code",
   "execution_count": 15,
   "outputs": [
    {
     "data": {
      "text/plain": "         deta              url             name\n0  2022-01-01  www.example.com    Example Title\n1  2022-01-02  www.example.com    Another Title\n2  2022-01-03  www.example.com  Another Title_1",
      "text/html": "<div>\n<style scoped>\n    .dataframe tbody tr th:only-of-type {\n        vertical-align: middle;\n    }\n\n    .dataframe tbody tr th {\n        vertical-align: top;\n    }\n\n    .dataframe thead th {\n        text-align: right;\n    }\n</style>\n<table border=\"1\" class=\"dataframe\">\n  <thead>\n    <tr style=\"text-align: right;\">\n      <th></th>\n      <th>deta</th>\n      <th>url</th>\n      <th>name</th>\n    </tr>\n  </thead>\n  <tbody>\n    <tr>\n      <th>0</th>\n      <td>2022-01-01</td>\n      <td>www.example.com</td>\n      <td>Example Title</td>\n    </tr>\n    <tr>\n      <th>1</th>\n      <td>2022-01-02</td>\n      <td>www.example.com</td>\n      <td>Another Title</td>\n    </tr>\n    <tr>\n      <th>2</th>\n      <td>2022-01-03</td>\n      <td>www.example.com</td>\n      <td>Another Title_1</td>\n    </tr>\n  </tbody>\n</table>\n</div>"
     },
     "execution_count": 15,
     "metadata": {},
     "output_type": "execute_result"
    }
   ],
   "source": [
    "#返回0~2行的'deta'至'name'列\n",
    "df3.loc[0:2,'deta':'name']"
   ],
   "metadata": {
    "collapsed": false,
    "ExecuteTime": {
     "start_time": "2023-04-04T20:13:43.912725Z",
     "end_time": "2023-04-04T20:13:44.831824Z"
    }
   }
  },
  {
   "cell_type": "code",
   "execution_count": 16,
   "outputs": [
    {
     "data": {
      "text/plain": "     series manufacture cartype brand carclass carlevel  carprice  stat_month  \\\n0        德系        北京奔驰     SUV    奔驰    奔驰GLA       紧凑        33      202001   \n1        德系        北京奔驰     SUV    奔驰    奔驰GLC       中型        49      202001   \n2        德系        北京奔驰      轿车    奔驰     奔驰C级       中型        41      202001   \n3        德系        北京奔驰      轿车    奔驰     奔驰E级      中大型        53      202001   \n4        德系        华晨宝马     SUV    宝马     宝马X1       紧凑        36      202001   \n...     ...         ...     ...   ...      ...      ...       ...         ...   \n1862     自主        长城汽车     SUV    哈弗     哈弗H2       小型        10      201901   \n1863     自主        长城汽车     SUV    哈弗     哈弗H5       紧凑        13      201901   \n1864     自主        长城汽车     SUV    哈弗     哈弗H6       紧凑        13      201901   \n1865     自主        长城汽车     SUV    哈弗     哈弗H8      中大型        19      201901   \n1866     自主        长城汽车     SUV    哈弗     哈弗H9      中大型        24      201901   \n\n      quantity  revenue     profit  \n0         8002   264066   60735.20  \n1        10535   516215   92918.70  \n2        13087   536567  144873.00  \n3         9133   484049   91969.30  \n4         6823   245628   58950.70  \n...        ...      ...        ...  \n1862     17268   172680   17268.00  \n1863      2298    29874    5676.06  \n1864     42188   548444   98719.90  \n1865      1020    19380    4845.00  \n1866       928    22272    2895.36  \n\n[1867 rows x 11 columns]",
      "text/html": "<div>\n<style scoped>\n    .dataframe tbody tr th:only-of-type {\n        vertical-align: middle;\n    }\n\n    .dataframe tbody tr th {\n        vertical-align: top;\n    }\n\n    .dataframe thead th {\n        text-align: right;\n    }\n</style>\n<table border=\"1\" class=\"dataframe\">\n  <thead>\n    <tr style=\"text-align: right;\">\n      <th></th>\n      <th>series</th>\n      <th>manufacture</th>\n      <th>cartype</th>\n      <th>brand</th>\n      <th>carclass</th>\n      <th>carlevel</th>\n      <th>carprice</th>\n      <th>stat_month</th>\n      <th>quantity</th>\n      <th>revenue</th>\n      <th>profit</th>\n    </tr>\n  </thead>\n  <tbody>\n    <tr>\n      <th>0</th>\n      <td>德系</td>\n      <td>北京奔驰</td>\n      <td>SUV</td>\n      <td>奔驰</td>\n      <td>奔驰GLA</td>\n      <td>紧凑</td>\n      <td>33</td>\n      <td>202001</td>\n      <td>8002</td>\n      <td>264066</td>\n      <td>60735.20</td>\n    </tr>\n    <tr>\n      <th>1</th>\n      <td>德系</td>\n      <td>北京奔驰</td>\n      <td>SUV</td>\n      <td>奔驰</td>\n      <td>奔驰GLC</td>\n      <td>中型</td>\n      <td>49</td>\n      <td>202001</td>\n      <td>10535</td>\n      <td>516215</td>\n      <td>92918.70</td>\n    </tr>\n    <tr>\n      <th>2</th>\n      <td>德系</td>\n      <td>北京奔驰</td>\n      <td>轿车</td>\n      <td>奔驰</td>\n      <td>奔驰C级</td>\n      <td>中型</td>\n      <td>41</td>\n      <td>202001</td>\n      <td>13087</td>\n      <td>536567</td>\n      <td>144873.00</td>\n    </tr>\n    <tr>\n      <th>3</th>\n      <td>德系</td>\n      <td>北京奔驰</td>\n      <td>轿车</td>\n      <td>奔驰</td>\n      <td>奔驰E级</td>\n      <td>中大型</td>\n      <td>53</td>\n      <td>202001</td>\n      <td>9133</td>\n      <td>484049</td>\n      <td>91969.30</td>\n    </tr>\n    <tr>\n      <th>4</th>\n      <td>德系</td>\n      <td>华晨宝马</td>\n      <td>SUV</td>\n      <td>宝马</td>\n      <td>宝马X1</td>\n      <td>紧凑</td>\n      <td>36</td>\n      <td>202001</td>\n      <td>6823</td>\n      <td>245628</td>\n      <td>58950.70</td>\n    </tr>\n    <tr>\n      <th>...</th>\n      <td>...</td>\n      <td>...</td>\n      <td>...</td>\n      <td>...</td>\n      <td>...</td>\n      <td>...</td>\n      <td>...</td>\n      <td>...</td>\n      <td>...</td>\n      <td>...</td>\n      <td>...</td>\n    </tr>\n    <tr>\n      <th>1862</th>\n      <td>自主</td>\n      <td>长城汽车</td>\n      <td>SUV</td>\n      <td>哈弗</td>\n      <td>哈弗H2</td>\n      <td>小型</td>\n      <td>10</td>\n      <td>201901</td>\n      <td>17268</td>\n      <td>172680</td>\n      <td>17268.00</td>\n    </tr>\n    <tr>\n      <th>1863</th>\n      <td>自主</td>\n      <td>长城汽车</td>\n      <td>SUV</td>\n      <td>哈弗</td>\n      <td>哈弗H5</td>\n      <td>紧凑</td>\n      <td>13</td>\n      <td>201901</td>\n      <td>2298</td>\n      <td>29874</td>\n      <td>5676.06</td>\n    </tr>\n    <tr>\n      <th>1864</th>\n      <td>自主</td>\n      <td>长城汽车</td>\n      <td>SUV</td>\n      <td>哈弗</td>\n      <td>哈弗H6</td>\n      <td>紧凑</td>\n      <td>13</td>\n      <td>201901</td>\n      <td>42188</td>\n      <td>548444</td>\n      <td>98719.90</td>\n    </tr>\n    <tr>\n      <th>1865</th>\n      <td>自主</td>\n      <td>长城汽车</td>\n      <td>SUV</td>\n      <td>哈弗</td>\n      <td>哈弗H8</td>\n      <td>中大型</td>\n      <td>19</td>\n      <td>201901</td>\n      <td>1020</td>\n      <td>19380</td>\n      <td>4845.00</td>\n    </tr>\n    <tr>\n      <th>1866</th>\n      <td>自主</td>\n      <td>长城汽车</td>\n      <td>SUV</td>\n      <td>哈弗</td>\n      <td>哈弗H9</td>\n      <td>中大型</td>\n      <td>24</td>\n      <td>201901</td>\n      <td>928</td>\n      <td>22272</td>\n      <td>2895.36</td>\n    </tr>\n  </tbody>\n</table>\n<p>1867 rows × 11 columns</p>\n</div>"
     },
     "execution_count": 16,
     "metadata": {},
     "output_type": "execute_result"
    }
   ],
   "source": [
    "xls = r'D:\\Jupyter notebook\\Numpy & Pandas\\data\\saleinfo_month.xls'\n",
    "car = pd.read_excel(xls)\n",
    "car"
   ],
   "metadata": {
    "collapsed": false,
    "ExecuteTime": {
     "start_time": "2023-04-04T20:13:43.959588Z",
     "end_time": "2023-04-04T20:13:45.064713Z"
    }
   }
  },
  {
   "cell_type": "code",
   "execution_count": 17,
   "outputs": [
    {
     "data": {
      "text/plain": "brand          奔驰\ncarprice       49\nquantity    10535\nName: 1, dtype: object"
     },
     "execution_count": 17,
     "metadata": {},
     "output_type": "execute_result"
    }
   ],
   "source": [
    "#查询索引为1的行中，列标题为'brand','carprice','quantity'的元素\n",
    "car.loc[1,['brand','carprice','quantity']]"
   ],
   "metadata": {
    "collapsed": false,
    "ExecuteTime": {
     "start_time": "2023-04-04T20:13:44.292599Z",
     "end_time": "2023-04-04T20:13:45.084602Z"
    }
   }
  },
  {
   "cell_type": "code",
   "execution_count": 18,
   "outputs": [
    {
     "data": {
      "text/plain": "  series manufacture cartype\n4     德系        华晨宝马     SUV\n5     德系        华晨宝马      轿车\n6     德系        华晨宝马      轿车\n7     德系        华晨宝马      轿车\n8     德系        上汽大众     SUV\n9     德系        上汽大众     SUV",
      "text/html": "<div>\n<style scoped>\n    .dataframe tbody tr th:only-of-type {\n        vertical-align: middle;\n    }\n\n    .dataframe tbody tr th {\n        vertical-align: top;\n    }\n\n    .dataframe thead th {\n        text-align: right;\n    }\n</style>\n<table border=\"1\" class=\"dataframe\">\n  <thead>\n    <tr style=\"text-align: right;\">\n      <th></th>\n      <th>series</th>\n      <th>manufacture</th>\n      <th>cartype</th>\n    </tr>\n  </thead>\n  <tbody>\n    <tr>\n      <th>4</th>\n      <td>德系</td>\n      <td>华晨宝马</td>\n      <td>SUV</td>\n    </tr>\n    <tr>\n      <th>5</th>\n      <td>德系</td>\n      <td>华晨宝马</td>\n      <td>轿车</td>\n    </tr>\n    <tr>\n      <th>6</th>\n      <td>德系</td>\n      <td>华晨宝马</td>\n      <td>轿车</td>\n    </tr>\n    <tr>\n      <th>7</th>\n      <td>德系</td>\n      <td>华晨宝马</td>\n      <td>轿车</td>\n    </tr>\n    <tr>\n      <th>8</th>\n      <td>德系</td>\n      <td>上汽大众</td>\n      <td>SUV</td>\n    </tr>\n    <tr>\n      <th>9</th>\n      <td>德系</td>\n      <td>上汽大众</td>\n      <td>SUV</td>\n    </tr>\n  </tbody>\n</table>\n</div>"
     },
     "execution_count": 18,
     "metadata": {},
     "output_type": "execute_result"
    }
   ],
   "source": [
    "#查询索引4~9的行中列标题为'series','manufacture','cartype'的元素\n",
    "car.loc[4:9,['series','manufacture','cartype']]"
   ],
   "metadata": {
    "collapsed": false,
    "ExecuteTime": {
     "start_time": "2023-04-04T20:13:44.303956Z",
     "end_time": "2023-04-04T20:13:45.089191Z"
    }
   }
  },
  {
   "cell_type": "code",
   "execution_count": 19,
   "outputs": [
    {
     "data": {
      "text/plain": "     series manufacture cartype brand carclass carlevel  carprice  stat_month  \\\n1        德系        北京奔驰     SUV    奔驰    奔驰GLC       中型        49      202001   \n2        德系        北京奔驰      轿车    奔驰     奔驰C级       中型        41      202001   \n3        德系        北京奔驰      轿车    奔驰     奔驰E级      中大型        53      202001   \n7        德系        华晨宝马      轿车    宝马     宝马5系      中大型        61      202001   \n11       德系        上汽大众      轿车    大众       辉昂      中大型        50      202001   \n...     ...         ...     ...   ...      ...      ...       ...         ...   \n1742     德系        北京奔驰      轿车    奔驰     奔驰E级      中大型        53      201901   \n1745     德系        华晨宝马      轿车    宝马     宝马5系      中大型        61      201901   \n1754     德系        一汽奥迪     SUV    奥迪     奥迪Q5       中型        46      201901   \n1757     德系        一汽奥迪      轿车    奥迪    奥迪A6L      中大型        58      201901   \n1831     日系        一汽丰田     SUV    丰田      普拉多       紧凑        50      201901   \n\n      quantity  revenue    profit  \n1        10535   516215   92918.7  \n2        13087   536567  144873.0  \n3         9133   484049   91969.3  \n7        12229   745969  186492.0  \n11         278    13900    4170.0  \n...        ...      ...       ...  \n1742      5202   275706   30327.7  \n1745     11016   671976  114236.0  \n1754     12275   564650  152456.0  \n1757     13209   766122  183869.0  \n1831      2495   124750   28692.5  \n\n[96 rows x 11 columns]",
      "text/html": "<div>\n<style scoped>\n    .dataframe tbody tr th:only-of-type {\n        vertical-align: middle;\n    }\n\n    .dataframe tbody tr th {\n        vertical-align: top;\n    }\n\n    .dataframe thead th {\n        text-align: right;\n    }\n</style>\n<table border=\"1\" class=\"dataframe\">\n  <thead>\n    <tr style=\"text-align: right;\">\n      <th></th>\n      <th>series</th>\n      <th>manufacture</th>\n      <th>cartype</th>\n      <th>brand</th>\n      <th>carclass</th>\n      <th>carlevel</th>\n      <th>carprice</th>\n      <th>stat_month</th>\n      <th>quantity</th>\n      <th>revenue</th>\n      <th>profit</th>\n    </tr>\n  </thead>\n  <tbody>\n    <tr>\n      <th>1</th>\n      <td>德系</td>\n      <td>北京奔驰</td>\n      <td>SUV</td>\n      <td>奔驰</td>\n      <td>奔驰GLC</td>\n      <td>中型</td>\n      <td>49</td>\n      <td>202001</td>\n      <td>10535</td>\n      <td>516215</td>\n      <td>92918.7</td>\n    </tr>\n    <tr>\n      <th>2</th>\n      <td>德系</td>\n      <td>北京奔驰</td>\n      <td>轿车</td>\n      <td>奔驰</td>\n      <td>奔驰C级</td>\n      <td>中型</td>\n      <td>41</td>\n      <td>202001</td>\n      <td>13087</td>\n      <td>536567</td>\n      <td>144873.0</td>\n    </tr>\n    <tr>\n      <th>3</th>\n      <td>德系</td>\n      <td>北京奔驰</td>\n      <td>轿车</td>\n      <td>奔驰</td>\n      <td>奔驰E级</td>\n      <td>中大型</td>\n      <td>53</td>\n      <td>202001</td>\n      <td>9133</td>\n      <td>484049</td>\n      <td>91969.3</td>\n    </tr>\n    <tr>\n      <th>7</th>\n      <td>德系</td>\n      <td>华晨宝马</td>\n      <td>轿车</td>\n      <td>宝马</td>\n      <td>宝马5系</td>\n      <td>中大型</td>\n      <td>61</td>\n      <td>202001</td>\n      <td>12229</td>\n      <td>745969</td>\n      <td>186492.0</td>\n    </tr>\n    <tr>\n      <th>11</th>\n      <td>德系</td>\n      <td>上汽大众</td>\n      <td>轿车</td>\n      <td>大众</td>\n      <td>辉昂</td>\n      <td>中大型</td>\n      <td>50</td>\n      <td>202001</td>\n      <td>278</td>\n      <td>13900</td>\n      <td>4170.0</td>\n    </tr>\n    <tr>\n      <th>...</th>\n      <td>...</td>\n      <td>...</td>\n      <td>...</td>\n      <td>...</td>\n      <td>...</td>\n      <td>...</td>\n      <td>...</td>\n      <td>...</td>\n      <td>...</td>\n      <td>...</td>\n      <td>...</td>\n    </tr>\n    <tr>\n      <th>1742</th>\n      <td>德系</td>\n      <td>北京奔驰</td>\n      <td>轿车</td>\n      <td>奔驰</td>\n      <td>奔驰E级</td>\n      <td>中大型</td>\n      <td>53</td>\n      <td>201901</td>\n      <td>5202</td>\n      <td>275706</td>\n      <td>30327.7</td>\n    </tr>\n    <tr>\n      <th>1745</th>\n      <td>德系</td>\n      <td>华晨宝马</td>\n      <td>轿车</td>\n      <td>宝马</td>\n      <td>宝马5系</td>\n      <td>中大型</td>\n      <td>61</td>\n      <td>201901</td>\n      <td>11016</td>\n      <td>671976</td>\n      <td>114236.0</td>\n    </tr>\n    <tr>\n      <th>1754</th>\n      <td>德系</td>\n      <td>一汽奥迪</td>\n      <td>SUV</td>\n      <td>奥迪</td>\n      <td>奥迪Q5</td>\n      <td>中型</td>\n      <td>46</td>\n      <td>201901</td>\n      <td>12275</td>\n      <td>564650</td>\n      <td>152456.0</td>\n    </tr>\n    <tr>\n      <th>1757</th>\n      <td>德系</td>\n      <td>一汽奥迪</td>\n      <td>轿车</td>\n      <td>奥迪</td>\n      <td>奥迪A6L</td>\n      <td>中大型</td>\n      <td>58</td>\n      <td>201901</td>\n      <td>13209</td>\n      <td>766122</td>\n      <td>183869.0</td>\n    </tr>\n    <tr>\n      <th>1831</th>\n      <td>日系</td>\n      <td>一汽丰田</td>\n      <td>SUV</td>\n      <td>丰田</td>\n      <td>普拉多</td>\n      <td>紧凑</td>\n      <td>50</td>\n      <td>201901</td>\n      <td>2495</td>\n      <td>124750</td>\n      <td>28692.5</td>\n    </tr>\n  </tbody>\n</table>\n<p>96 rows × 11 columns</p>\n</div>"
     },
     "execution_count": 19,
     "metadata": {},
     "output_type": "execute_result"
    }
   ],
   "source": [
    "#查询所有carprice大于40的行\n",
    "car.loc[car['carprice']>40,:]"
   ],
   "metadata": {
    "collapsed": false,
    "ExecuteTime": {
     "start_time": "2023-04-04T20:13:44.335213Z",
     "end_time": "2023-04-04T20:13:45.168904Z"
    }
   }
  },
  {
   "cell_type": "code",
   "execution_count": 20,
   "outputs": [
    {
     "data": {
      "text/plain": "     series manufacture cartype brand carclass carlevel  carprice  stat_month  \\\n45       韩系        北京现代      轿车    现代       领动       紧凑        13      202001   \n46       韩系        北京现代      轿车    现代       名图       中型        15      202001   \n48       韩系        北京现代      轿车    现代      索纳塔       中型        21      202001   \n49       韩系        北京现代      轿车    现代       悦动       紧凑        10      202001   \n55       韩系      东风悦达起亚      轿车    起亚       K3       紧凑        12      202001   \n...     ...         ...     ...   ...      ...      ...       ...         ...   \n1784     韩系      东风悦达起亚      轿车    起亚       K3       紧凑        12      201901   \n1785     韩系      东风悦达起亚      轿车    起亚       K4       中型        16      201901   \n1786     韩系      东风悦达起亚      轿车    起亚       K5       中型        20      201901   \n1787     韩系      东风悦达起亚      轿车    起亚      福瑞迪       紧凑        11      201901   \n1788     韩系      东风悦达起亚      轿车    起亚      赛拉图       紧凑        10      201901   \n\n      quantity  revenue    profit  \n45        6549    85137  22987.00  \n46       11790   176850  51286.50  \n48        1406    29526   7381.50  \n49         497     4970    695.80  \n55       14902   178824  17882.40  \n...        ...      ...       ...  \n1784     12424   149088  34290.20  \n1785      2658    42528   8505.60  \n1786      2691    53820   9687.60  \n1787       838     9218   1106.16  \n1788       419     4190   1215.10  \n\n[115 rows x 11 columns]",
      "text/html": "<div>\n<style scoped>\n    .dataframe tbody tr th:only-of-type {\n        vertical-align: middle;\n    }\n\n    .dataframe tbody tr th {\n        vertical-align: top;\n    }\n\n    .dataframe thead th {\n        text-align: right;\n    }\n</style>\n<table border=\"1\" class=\"dataframe\">\n  <thead>\n    <tr style=\"text-align: right;\">\n      <th></th>\n      <th>series</th>\n      <th>manufacture</th>\n      <th>cartype</th>\n      <th>brand</th>\n      <th>carclass</th>\n      <th>carlevel</th>\n      <th>carprice</th>\n      <th>stat_month</th>\n      <th>quantity</th>\n      <th>revenue</th>\n      <th>profit</th>\n    </tr>\n  </thead>\n  <tbody>\n    <tr>\n      <th>45</th>\n      <td>韩系</td>\n      <td>北京现代</td>\n      <td>轿车</td>\n      <td>现代</td>\n      <td>领动</td>\n      <td>紧凑</td>\n      <td>13</td>\n      <td>202001</td>\n      <td>6549</td>\n      <td>85137</td>\n      <td>22987.00</td>\n    </tr>\n    <tr>\n      <th>46</th>\n      <td>韩系</td>\n      <td>北京现代</td>\n      <td>轿车</td>\n      <td>现代</td>\n      <td>名图</td>\n      <td>中型</td>\n      <td>15</td>\n      <td>202001</td>\n      <td>11790</td>\n      <td>176850</td>\n      <td>51286.50</td>\n    </tr>\n    <tr>\n      <th>48</th>\n      <td>韩系</td>\n      <td>北京现代</td>\n      <td>轿车</td>\n      <td>现代</td>\n      <td>索纳塔</td>\n      <td>中型</td>\n      <td>21</td>\n      <td>202001</td>\n      <td>1406</td>\n      <td>29526</td>\n      <td>7381.50</td>\n    </tr>\n    <tr>\n      <th>49</th>\n      <td>韩系</td>\n      <td>北京现代</td>\n      <td>轿车</td>\n      <td>现代</td>\n      <td>悦动</td>\n      <td>紧凑</td>\n      <td>10</td>\n      <td>202001</td>\n      <td>497</td>\n      <td>4970</td>\n      <td>695.80</td>\n    </tr>\n    <tr>\n      <th>55</th>\n      <td>韩系</td>\n      <td>东风悦达起亚</td>\n      <td>轿车</td>\n      <td>起亚</td>\n      <td>K3</td>\n      <td>紧凑</td>\n      <td>12</td>\n      <td>202001</td>\n      <td>14902</td>\n      <td>178824</td>\n      <td>17882.40</td>\n    </tr>\n    <tr>\n      <th>...</th>\n      <td>...</td>\n      <td>...</td>\n      <td>...</td>\n      <td>...</td>\n      <td>...</td>\n      <td>...</td>\n      <td>...</td>\n      <td>...</td>\n      <td>...</td>\n      <td>...</td>\n      <td>...</td>\n    </tr>\n    <tr>\n      <th>1784</th>\n      <td>韩系</td>\n      <td>东风悦达起亚</td>\n      <td>轿车</td>\n      <td>起亚</td>\n      <td>K3</td>\n      <td>紧凑</td>\n      <td>12</td>\n      <td>201901</td>\n      <td>12424</td>\n      <td>149088</td>\n      <td>34290.20</td>\n    </tr>\n    <tr>\n      <th>1785</th>\n      <td>韩系</td>\n      <td>东风悦达起亚</td>\n      <td>轿车</td>\n      <td>起亚</td>\n      <td>K4</td>\n      <td>中型</td>\n      <td>16</td>\n      <td>201901</td>\n      <td>2658</td>\n      <td>42528</td>\n      <td>8505.60</td>\n    </tr>\n    <tr>\n      <th>1786</th>\n      <td>韩系</td>\n      <td>东风悦达起亚</td>\n      <td>轿车</td>\n      <td>起亚</td>\n      <td>K5</td>\n      <td>中型</td>\n      <td>20</td>\n      <td>201901</td>\n      <td>2691</td>\n      <td>53820</td>\n      <td>9687.60</td>\n    </tr>\n    <tr>\n      <th>1787</th>\n      <td>韩系</td>\n      <td>东风悦达起亚</td>\n      <td>轿车</td>\n      <td>起亚</td>\n      <td>福瑞迪</td>\n      <td>紧凑</td>\n      <td>11</td>\n      <td>201901</td>\n      <td>838</td>\n      <td>9218</td>\n      <td>1106.16</td>\n    </tr>\n    <tr>\n      <th>1788</th>\n      <td>韩系</td>\n      <td>东风悦达起亚</td>\n      <td>轿车</td>\n      <td>起亚</td>\n      <td>赛拉图</td>\n      <td>紧凑</td>\n      <td>10</td>\n      <td>201901</td>\n      <td>419</td>\n      <td>4190</td>\n      <td>1215.10</td>\n    </tr>\n  </tbody>\n</table>\n<p>115 rows × 11 columns</p>\n</div>"
     },
     "execution_count": 20,
     "metadata": {},
     "output_type": "execute_result"
    }
   ],
   "source": [
    "#查询所有韩系的轿车，且价格在10万以上的\n",
    "car.loc[\n",
    "    (car['series']=='韩系')&(car['cartype']=='轿车')&\n",
    "    (car['carprice']>=10),:\n",
    "]"
   ],
   "metadata": {
    "collapsed": false,
    "ExecuteTime": {
     "start_time": "2023-04-04T20:13:44.379775Z",
     "end_time": "2023-04-04T20:13:45.171756Z"
    }
   }
  },
  {
   "cell_type": "markdown",
   "source": [
    "## query方法"
   ],
   "metadata": {
    "collapsed": false
   }
  },
  {
   "cell_type": "code",
   "execution_count": 21,
   "outputs": [
    {
     "data": {
      "text/plain": "     series manufacture cartype brand carclass carlevel  carprice  stat_month  \\\n7        德系        华晨宝马      轿车    宝马     宝马5系      中大型        61      202001   \n160      德系        华晨宝马      轿车    宝马     宝马5系      中大型        61      201912   \n316      德系        华晨宝马      轿车    宝马     宝马5系      中大型        61      201911   \n472      德系        华晨宝马      轿车    宝马     宝马5系      中大型        61      201910   \n627      德系        华晨宝马      轿车    宝马     宝马5系      中大型        61      201909   \n777      德系        华晨宝马      轿车    宝马     宝马5系      中大型        61      201908   \n919      德系        华晨宝马      轿车    宝马     宝马5系      中大型        61      201907   \n1063     德系        华晨宝马      轿车    宝马     宝马5系      中大型        61      201906   \n1205     德系        华晨宝马      轿车    宝马     宝马5系      中大型        61      201905   \n1345     德系        华晨宝马      轿车    宝马     宝马5系      中大型        61      201904   \n1484     德系        华晨宝马      轿车    宝马     宝马5系      中大型        61      201903   \n1617     德系        华晨宝马      轿车    宝马     宝马5系      中大型        61      201902   \n1745     德系        华晨宝马      轿车    宝马     宝马5系      中大型        61      201901   \n\n      quantity  revenue    profit  \n7        12229   745969  186492.0  \n160       9914   604754  145141.0  \n316      12912   787632  102392.0  \n472      11344   691984  131477.0  \n627      14907   909327  109119.0  \n777      12903   787083  125933.0  \n919      12190   743590  133846.0  \n1063     14344   874984  122498.0  \n1205     13429   819169  245751.0  \n1345     12060   735660  147132.0  \n1484     12445   759145  136646.0  \n1617      6315   385215   57782.2  \n1745     11016   671976  114236.0  ",
      "text/html": "<div>\n<style scoped>\n    .dataframe tbody tr th:only-of-type {\n        vertical-align: middle;\n    }\n\n    .dataframe tbody tr th {\n        vertical-align: top;\n    }\n\n    .dataframe thead th {\n        text-align: right;\n    }\n</style>\n<table border=\"1\" class=\"dataframe\">\n  <thead>\n    <tr style=\"text-align: right;\">\n      <th></th>\n      <th>series</th>\n      <th>manufacture</th>\n      <th>cartype</th>\n      <th>brand</th>\n      <th>carclass</th>\n      <th>carlevel</th>\n      <th>carprice</th>\n      <th>stat_month</th>\n      <th>quantity</th>\n      <th>revenue</th>\n      <th>profit</th>\n    </tr>\n  </thead>\n  <tbody>\n    <tr>\n      <th>7</th>\n      <td>德系</td>\n      <td>华晨宝马</td>\n      <td>轿车</td>\n      <td>宝马</td>\n      <td>宝马5系</td>\n      <td>中大型</td>\n      <td>61</td>\n      <td>202001</td>\n      <td>12229</td>\n      <td>745969</td>\n      <td>186492.0</td>\n    </tr>\n    <tr>\n      <th>160</th>\n      <td>德系</td>\n      <td>华晨宝马</td>\n      <td>轿车</td>\n      <td>宝马</td>\n      <td>宝马5系</td>\n      <td>中大型</td>\n      <td>61</td>\n      <td>201912</td>\n      <td>9914</td>\n      <td>604754</td>\n      <td>145141.0</td>\n    </tr>\n    <tr>\n      <th>316</th>\n      <td>德系</td>\n      <td>华晨宝马</td>\n      <td>轿车</td>\n      <td>宝马</td>\n      <td>宝马5系</td>\n      <td>中大型</td>\n      <td>61</td>\n      <td>201911</td>\n      <td>12912</td>\n      <td>787632</td>\n      <td>102392.0</td>\n    </tr>\n    <tr>\n      <th>472</th>\n      <td>德系</td>\n      <td>华晨宝马</td>\n      <td>轿车</td>\n      <td>宝马</td>\n      <td>宝马5系</td>\n      <td>中大型</td>\n      <td>61</td>\n      <td>201910</td>\n      <td>11344</td>\n      <td>691984</td>\n      <td>131477.0</td>\n    </tr>\n    <tr>\n      <th>627</th>\n      <td>德系</td>\n      <td>华晨宝马</td>\n      <td>轿车</td>\n      <td>宝马</td>\n      <td>宝马5系</td>\n      <td>中大型</td>\n      <td>61</td>\n      <td>201909</td>\n      <td>14907</td>\n      <td>909327</td>\n      <td>109119.0</td>\n    </tr>\n    <tr>\n      <th>777</th>\n      <td>德系</td>\n      <td>华晨宝马</td>\n      <td>轿车</td>\n      <td>宝马</td>\n      <td>宝马5系</td>\n      <td>中大型</td>\n      <td>61</td>\n      <td>201908</td>\n      <td>12903</td>\n      <td>787083</td>\n      <td>125933.0</td>\n    </tr>\n    <tr>\n      <th>919</th>\n      <td>德系</td>\n      <td>华晨宝马</td>\n      <td>轿车</td>\n      <td>宝马</td>\n      <td>宝马5系</td>\n      <td>中大型</td>\n      <td>61</td>\n      <td>201907</td>\n      <td>12190</td>\n      <td>743590</td>\n      <td>133846.0</td>\n    </tr>\n    <tr>\n      <th>1063</th>\n      <td>德系</td>\n      <td>华晨宝马</td>\n      <td>轿车</td>\n      <td>宝马</td>\n      <td>宝马5系</td>\n      <td>中大型</td>\n      <td>61</td>\n      <td>201906</td>\n      <td>14344</td>\n      <td>874984</td>\n      <td>122498.0</td>\n    </tr>\n    <tr>\n      <th>1205</th>\n      <td>德系</td>\n      <td>华晨宝马</td>\n      <td>轿车</td>\n      <td>宝马</td>\n      <td>宝马5系</td>\n      <td>中大型</td>\n      <td>61</td>\n      <td>201905</td>\n      <td>13429</td>\n      <td>819169</td>\n      <td>245751.0</td>\n    </tr>\n    <tr>\n      <th>1345</th>\n      <td>德系</td>\n      <td>华晨宝马</td>\n      <td>轿车</td>\n      <td>宝马</td>\n      <td>宝马5系</td>\n      <td>中大型</td>\n      <td>61</td>\n      <td>201904</td>\n      <td>12060</td>\n      <td>735660</td>\n      <td>147132.0</td>\n    </tr>\n    <tr>\n      <th>1484</th>\n      <td>德系</td>\n      <td>华晨宝马</td>\n      <td>轿车</td>\n      <td>宝马</td>\n      <td>宝马5系</td>\n      <td>中大型</td>\n      <td>61</td>\n      <td>201903</td>\n      <td>12445</td>\n      <td>759145</td>\n      <td>136646.0</td>\n    </tr>\n    <tr>\n      <th>1617</th>\n      <td>德系</td>\n      <td>华晨宝马</td>\n      <td>轿车</td>\n      <td>宝马</td>\n      <td>宝马5系</td>\n      <td>中大型</td>\n      <td>61</td>\n      <td>201902</td>\n      <td>6315</td>\n      <td>385215</td>\n      <td>57782.2</td>\n    </tr>\n    <tr>\n      <th>1745</th>\n      <td>德系</td>\n      <td>华晨宝马</td>\n      <td>轿车</td>\n      <td>宝马</td>\n      <td>宝马5系</td>\n      <td>中大型</td>\n      <td>61</td>\n      <td>201901</td>\n      <td>11016</td>\n      <td>671976</td>\n      <td>114236.0</td>\n    </tr>\n  </tbody>\n</table>\n</div>"
     },
     "execution_count": 21,
     "metadata": {},
     "output_type": "execute_result"
    }
   ],
   "source": [
    "#查询价格大于60w的车\n",
    "car.query(\"carprice>60\")"
   ],
   "metadata": {
    "collapsed": false,
    "ExecuteTime": {
     "start_time": "2023-04-04T20:13:44.425155Z",
     "end_time": "2023-04-04T20:13:45.171756Z"
    }
   }
  },
  {
   "cell_type": "code",
   "execution_count": 22,
   "outputs": [
    {
     "data": {
      "text/plain": "     brand  carprice  stat_month\n7       宝马        61      202001\n160     宝马        61      201912\n316     宝马        61      201911\n472     宝马        61      201910\n627     宝马        61      201909\n777     宝马        61      201908\n919     宝马        61      201907\n1063    宝马        61      201906\n1205    宝马        61      201905\n1345    宝马        61      201904\n1484    宝马        61      201903\n1617    宝马        61      201902\n1745    宝马        61      201901",
      "text/html": "<div>\n<style scoped>\n    .dataframe tbody tr th:only-of-type {\n        vertical-align: middle;\n    }\n\n    .dataframe tbody tr th {\n        vertical-align: top;\n    }\n\n    .dataframe thead th {\n        text-align: right;\n    }\n</style>\n<table border=\"1\" class=\"dataframe\">\n  <thead>\n    <tr style=\"text-align: right;\">\n      <th></th>\n      <th>brand</th>\n      <th>carprice</th>\n      <th>stat_month</th>\n    </tr>\n  </thead>\n  <tbody>\n    <tr>\n      <th>7</th>\n      <td>宝马</td>\n      <td>61</td>\n      <td>202001</td>\n    </tr>\n    <tr>\n      <th>160</th>\n      <td>宝马</td>\n      <td>61</td>\n      <td>201912</td>\n    </tr>\n    <tr>\n      <th>316</th>\n      <td>宝马</td>\n      <td>61</td>\n      <td>201911</td>\n    </tr>\n    <tr>\n      <th>472</th>\n      <td>宝马</td>\n      <td>61</td>\n      <td>201910</td>\n    </tr>\n    <tr>\n      <th>627</th>\n      <td>宝马</td>\n      <td>61</td>\n      <td>201909</td>\n    </tr>\n    <tr>\n      <th>777</th>\n      <td>宝马</td>\n      <td>61</td>\n      <td>201908</td>\n    </tr>\n    <tr>\n      <th>919</th>\n      <td>宝马</td>\n      <td>61</td>\n      <td>201907</td>\n    </tr>\n    <tr>\n      <th>1063</th>\n      <td>宝马</td>\n      <td>61</td>\n      <td>201906</td>\n    </tr>\n    <tr>\n      <th>1205</th>\n      <td>宝马</td>\n      <td>61</td>\n      <td>201905</td>\n    </tr>\n    <tr>\n      <th>1345</th>\n      <td>宝马</td>\n      <td>61</td>\n      <td>201904</td>\n    </tr>\n    <tr>\n      <th>1484</th>\n      <td>宝马</td>\n      <td>61</td>\n      <td>201903</td>\n    </tr>\n    <tr>\n      <th>1617</th>\n      <td>宝马</td>\n      <td>61</td>\n      <td>201902</td>\n    </tr>\n    <tr>\n      <th>1745</th>\n      <td>宝马</td>\n      <td>61</td>\n      <td>201901</td>\n    </tr>\n  </tbody>\n</table>\n</div>"
     },
     "execution_count": 22,
     "metadata": {},
     "output_type": "execute_result"
    }
   ],
   "source": [
    "#输出所有大于60w的，列标题为'brand','carprice','stat_month'的每一行\n",
    "car.loc[lambda car:car['carprice']>60,['brand','carprice','stat_month']]"
   ],
   "metadata": {
    "collapsed": false,
    "ExecuteTime": {
     "start_time": "2023-04-04T20:16:05.815493Z",
     "end_time": "2023-04-04T20:16:05.940349Z"
    }
   }
  },
  {
   "cell_type": "code",
   "execution_count": 24,
   "outputs": [
    {
     "data": {
      "text/plain": "     series manufacture cartype brand carclass carlevel  carprice  stat_month  \\\n7        德系        华晨宝马      轿车    宝马     宝马5系      中大型        61      202001   \n160      德系        华晨宝马      轿车    宝马     宝马5系      中大型        61      201912   \n316      德系        华晨宝马      轿车    宝马     宝马5系      中大型        61      201911   \n472      德系        华晨宝马      轿车    宝马     宝马5系      中大型        61      201910   \n627      德系        华晨宝马      轿车    宝马     宝马5系      中大型        61      201909   \n777      德系        华晨宝马      轿车    宝马     宝马5系      中大型        61      201908   \n919      德系        华晨宝马      轿车    宝马     宝马5系      中大型        61      201907   \n1063     德系        华晨宝马      轿车    宝马     宝马5系      中大型        61      201906   \n1205     德系        华晨宝马      轿车    宝马     宝马5系      中大型        61      201905   \n1345     德系        华晨宝马      轿车    宝马     宝马5系      中大型        61      201904   \n1484     德系        华晨宝马      轿车    宝马     宝马5系      中大型        61      201903   \n1617     德系        华晨宝马      轿车    宝马     宝马5系      中大型        61      201902   \n1745     德系        华晨宝马      轿车    宝马     宝马5系      中大型        61      201901   \n\n      quantity  revenue    profit  \n7        12229   745969  186492.0  \n160       9914   604754  145141.0  \n316      12912   787632  102392.0  \n472      11344   691984  131477.0  \n627      14907   909327  109119.0  \n777      12903   787083  125933.0  \n919      12190   743590  133846.0  \n1063     14344   874984  122498.0  \n1205     13429   819169  245751.0  \n1345     12060   735660  147132.0  \n1484     12445   759145  136646.0  \n1617      6315   385215   57782.2  \n1745     11016   671976  114236.0  ",
      "text/html": "<div>\n<style scoped>\n    .dataframe tbody tr th:only-of-type {\n        vertical-align: middle;\n    }\n\n    .dataframe tbody tr th {\n        vertical-align: top;\n    }\n\n    .dataframe thead th {\n        text-align: right;\n    }\n</style>\n<table border=\"1\" class=\"dataframe\">\n  <thead>\n    <tr style=\"text-align: right;\">\n      <th></th>\n      <th>series</th>\n      <th>manufacture</th>\n      <th>cartype</th>\n      <th>brand</th>\n      <th>carclass</th>\n      <th>carlevel</th>\n      <th>carprice</th>\n      <th>stat_month</th>\n      <th>quantity</th>\n      <th>revenue</th>\n      <th>profit</th>\n    </tr>\n  </thead>\n  <tbody>\n    <tr>\n      <th>7</th>\n      <td>德系</td>\n      <td>华晨宝马</td>\n      <td>轿车</td>\n      <td>宝马</td>\n      <td>宝马5系</td>\n      <td>中大型</td>\n      <td>61</td>\n      <td>202001</td>\n      <td>12229</td>\n      <td>745969</td>\n      <td>186492.0</td>\n    </tr>\n    <tr>\n      <th>160</th>\n      <td>德系</td>\n      <td>华晨宝马</td>\n      <td>轿车</td>\n      <td>宝马</td>\n      <td>宝马5系</td>\n      <td>中大型</td>\n      <td>61</td>\n      <td>201912</td>\n      <td>9914</td>\n      <td>604754</td>\n      <td>145141.0</td>\n    </tr>\n    <tr>\n      <th>316</th>\n      <td>德系</td>\n      <td>华晨宝马</td>\n      <td>轿车</td>\n      <td>宝马</td>\n      <td>宝马5系</td>\n      <td>中大型</td>\n      <td>61</td>\n      <td>201911</td>\n      <td>12912</td>\n      <td>787632</td>\n      <td>102392.0</td>\n    </tr>\n    <tr>\n      <th>472</th>\n      <td>德系</td>\n      <td>华晨宝马</td>\n      <td>轿车</td>\n      <td>宝马</td>\n      <td>宝马5系</td>\n      <td>中大型</td>\n      <td>61</td>\n      <td>201910</td>\n      <td>11344</td>\n      <td>691984</td>\n      <td>131477.0</td>\n    </tr>\n    <tr>\n      <th>627</th>\n      <td>德系</td>\n      <td>华晨宝马</td>\n      <td>轿车</td>\n      <td>宝马</td>\n      <td>宝马5系</td>\n      <td>中大型</td>\n      <td>61</td>\n      <td>201909</td>\n      <td>14907</td>\n      <td>909327</td>\n      <td>109119.0</td>\n    </tr>\n    <tr>\n      <th>777</th>\n      <td>德系</td>\n      <td>华晨宝马</td>\n      <td>轿车</td>\n      <td>宝马</td>\n      <td>宝马5系</td>\n      <td>中大型</td>\n      <td>61</td>\n      <td>201908</td>\n      <td>12903</td>\n      <td>787083</td>\n      <td>125933.0</td>\n    </tr>\n    <tr>\n      <th>919</th>\n      <td>德系</td>\n      <td>华晨宝马</td>\n      <td>轿车</td>\n      <td>宝马</td>\n      <td>宝马5系</td>\n      <td>中大型</td>\n      <td>61</td>\n      <td>201907</td>\n      <td>12190</td>\n      <td>743590</td>\n      <td>133846.0</td>\n    </tr>\n    <tr>\n      <th>1063</th>\n      <td>德系</td>\n      <td>华晨宝马</td>\n      <td>轿车</td>\n      <td>宝马</td>\n      <td>宝马5系</td>\n      <td>中大型</td>\n      <td>61</td>\n      <td>201906</td>\n      <td>14344</td>\n      <td>874984</td>\n      <td>122498.0</td>\n    </tr>\n    <tr>\n      <th>1205</th>\n      <td>德系</td>\n      <td>华晨宝马</td>\n      <td>轿车</td>\n      <td>宝马</td>\n      <td>宝马5系</td>\n      <td>中大型</td>\n      <td>61</td>\n      <td>201905</td>\n      <td>13429</td>\n      <td>819169</td>\n      <td>245751.0</td>\n    </tr>\n    <tr>\n      <th>1345</th>\n      <td>德系</td>\n      <td>华晨宝马</td>\n      <td>轿车</td>\n      <td>宝马</td>\n      <td>宝马5系</td>\n      <td>中大型</td>\n      <td>61</td>\n      <td>201904</td>\n      <td>12060</td>\n      <td>735660</td>\n      <td>147132.0</td>\n    </tr>\n    <tr>\n      <th>1484</th>\n      <td>德系</td>\n      <td>华晨宝马</td>\n      <td>轿车</td>\n      <td>宝马</td>\n      <td>宝马5系</td>\n      <td>中大型</td>\n      <td>61</td>\n      <td>201903</td>\n      <td>12445</td>\n      <td>759145</td>\n      <td>136646.0</td>\n    </tr>\n    <tr>\n      <th>1617</th>\n      <td>德系</td>\n      <td>华晨宝马</td>\n      <td>轿车</td>\n      <td>宝马</td>\n      <td>宝马5系</td>\n      <td>中大型</td>\n      <td>61</td>\n      <td>201902</td>\n      <td>6315</td>\n      <td>385215</td>\n      <td>57782.2</td>\n    </tr>\n    <tr>\n      <th>1745</th>\n      <td>德系</td>\n      <td>华晨宝马</td>\n      <td>轿车</td>\n      <td>宝马</td>\n      <td>宝马5系</td>\n      <td>中大型</td>\n      <td>61</td>\n      <td>201901</td>\n      <td>11016</td>\n      <td>671976</td>\n      <td>114236.0</td>\n    </tr>\n  </tbody>\n</table>\n</div>"
     },
     "execution_count": 24,
     "metadata": {},
     "output_type": "execute_result"
    }
   ],
   "source": [
    "#编写自己的函数，查询品牌为宝马，且售价大于40万的\n",
    "def query_my_data(car):\n",
    "    return (car['carprice']>40)&(car['brand']=='宝马')\n",
    "car.loc[query_my_data,:]"
   ],
   "metadata": {
    "collapsed": false,
    "ExecuteTime": {
     "start_time": "2023-04-04T20:21:49.739778Z",
     "end_time": "2023-04-04T20:21:49.771021Z"
    }
   }
  },
  {
   "cell_type": "code",
   "execution_count": 25,
   "outputs": [
    {
     "data": {
      "text/plain": "     series manufacture cartype brand carclass carlevel  carprice  stat_month  \\\n7        德系        华晨宝马      轿车    宝马     宝马5系      中大型        61      202001   \n160      德系        华晨宝马      轿车    宝马     宝马5系      中大型        61      201912   \n316      德系        华晨宝马      轿车    宝马     宝马5系      中大型        61      201911   \n472      德系        华晨宝马      轿车    宝马     宝马5系      中大型        61      201910   \n627      德系        华晨宝马      轿车    宝马     宝马5系      中大型        61      201909   \n777      德系        华晨宝马      轿车    宝马     宝马5系      中大型        61      201908   \n919      德系        华晨宝马      轿车    宝马     宝马5系      中大型        61      201907   \n1063     德系        华晨宝马      轿车    宝马     宝马5系      中大型        61      201906   \n1205     德系        华晨宝马      轿车    宝马     宝马5系      中大型        61      201905   \n1345     德系        华晨宝马      轿车    宝马     宝马5系      中大型        61      201904   \n1484     德系        华晨宝马      轿车    宝马     宝马5系      中大型        61      201903   \n1617     德系        华晨宝马      轿车    宝马     宝马5系      中大型        61      201902   \n1745     德系        华晨宝马      轿车    宝马     宝马5系      中大型        61      201901   \n\n      quantity  revenue    profit  \n7        12229   745969  186492.0  \n160       9914   604754  145141.0  \n316      12912   787632  102392.0  \n472      11344   691984  131477.0  \n627      14907   909327  109119.0  \n777      12903   787083  125933.0  \n919      12190   743590  133846.0  \n1063     14344   874984  122498.0  \n1205     13429   819169  245751.0  \n1345     12060   735660  147132.0  \n1484     12445   759145  136646.0  \n1617      6315   385215   57782.2  \n1745     11016   671976  114236.0  ",
      "text/html": "<div>\n<style scoped>\n    .dataframe tbody tr th:only-of-type {\n        vertical-align: middle;\n    }\n\n    .dataframe tbody tr th {\n        vertical-align: top;\n    }\n\n    .dataframe thead th {\n        text-align: right;\n    }\n</style>\n<table border=\"1\" class=\"dataframe\">\n  <thead>\n    <tr style=\"text-align: right;\">\n      <th></th>\n      <th>series</th>\n      <th>manufacture</th>\n      <th>cartype</th>\n      <th>brand</th>\n      <th>carclass</th>\n      <th>carlevel</th>\n      <th>carprice</th>\n      <th>stat_month</th>\n      <th>quantity</th>\n      <th>revenue</th>\n      <th>profit</th>\n    </tr>\n  </thead>\n  <tbody>\n    <tr>\n      <th>7</th>\n      <td>德系</td>\n      <td>华晨宝马</td>\n      <td>轿车</td>\n      <td>宝马</td>\n      <td>宝马5系</td>\n      <td>中大型</td>\n      <td>61</td>\n      <td>202001</td>\n      <td>12229</td>\n      <td>745969</td>\n      <td>186492.0</td>\n    </tr>\n    <tr>\n      <th>160</th>\n      <td>德系</td>\n      <td>华晨宝马</td>\n      <td>轿车</td>\n      <td>宝马</td>\n      <td>宝马5系</td>\n      <td>中大型</td>\n      <td>61</td>\n      <td>201912</td>\n      <td>9914</td>\n      <td>604754</td>\n      <td>145141.0</td>\n    </tr>\n    <tr>\n      <th>316</th>\n      <td>德系</td>\n      <td>华晨宝马</td>\n      <td>轿车</td>\n      <td>宝马</td>\n      <td>宝马5系</td>\n      <td>中大型</td>\n      <td>61</td>\n      <td>201911</td>\n      <td>12912</td>\n      <td>787632</td>\n      <td>102392.0</td>\n    </tr>\n    <tr>\n      <th>472</th>\n      <td>德系</td>\n      <td>华晨宝马</td>\n      <td>轿车</td>\n      <td>宝马</td>\n      <td>宝马5系</td>\n      <td>中大型</td>\n      <td>61</td>\n      <td>201910</td>\n      <td>11344</td>\n      <td>691984</td>\n      <td>131477.0</td>\n    </tr>\n    <tr>\n      <th>627</th>\n      <td>德系</td>\n      <td>华晨宝马</td>\n      <td>轿车</td>\n      <td>宝马</td>\n      <td>宝马5系</td>\n      <td>中大型</td>\n      <td>61</td>\n      <td>201909</td>\n      <td>14907</td>\n      <td>909327</td>\n      <td>109119.0</td>\n    </tr>\n    <tr>\n      <th>777</th>\n      <td>德系</td>\n      <td>华晨宝马</td>\n      <td>轿车</td>\n      <td>宝马</td>\n      <td>宝马5系</td>\n      <td>中大型</td>\n      <td>61</td>\n      <td>201908</td>\n      <td>12903</td>\n      <td>787083</td>\n      <td>125933.0</td>\n    </tr>\n    <tr>\n      <th>919</th>\n      <td>德系</td>\n      <td>华晨宝马</td>\n      <td>轿车</td>\n      <td>宝马</td>\n      <td>宝马5系</td>\n      <td>中大型</td>\n      <td>61</td>\n      <td>201907</td>\n      <td>12190</td>\n      <td>743590</td>\n      <td>133846.0</td>\n    </tr>\n    <tr>\n      <th>1063</th>\n      <td>德系</td>\n      <td>华晨宝马</td>\n      <td>轿车</td>\n      <td>宝马</td>\n      <td>宝马5系</td>\n      <td>中大型</td>\n      <td>61</td>\n      <td>201906</td>\n      <td>14344</td>\n      <td>874984</td>\n      <td>122498.0</td>\n    </tr>\n    <tr>\n      <th>1205</th>\n      <td>德系</td>\n      <td>华晨宝马</td>\n      <td>轿车</td>\n      <td>宝马</td>\n      <td>宝马5系</td>\n      <td>中大型</td>\n      <td>61</td>\n      <td>201905</td>\n      <td>13429</td>\n      <td>819169</td>\n      <td>245751.0</td>\n    </tr>\n    <tr>\n      <th>1345</th>\n      <td>德系</td>\n      <td>华晨宝马</td>\n      <td>轿车</td>\n      <td>宝马</td>\n      <td>宝马5系</td>\n      <td>中大型</td>\n      <td>61</td>\n      <td>201904</td>\n      <td>12060</td>\n      <td>735660</td>\n      <td>147132.0</td>\n    </tr>\n    <tr>\n      <th>1484</th>\n      <td>德系</td>\n      <td>华晨宝马</td>\n      <td>轿车</td>\n      <td>宝马</td>\n      <td>宝马5系</td>\n      <td>中大型</td>\n      <td>61</td>\n      <td>201903</td>\n      <td>12445</td>\n      <td>759145</td>\n      <td>136646.0</td>\n    </tr>\n    <tr>\n      <th>1617</th>\n      <td>德系</td>\n      <td>华晨宝马</td>\n      <td>轿车</td>\n      <td>宝马</td>\n      <td>宝马5系</td>\n      <td>中大型</td>\n      <td>61</td>\n      <td>201902</td>\n      <td>6315</td>\n      <td>385215</td>\n      <td>57782.2</td>\n    </tr>\n    <tr>\n      <th>1745</th>\n      <td>德系</td>\n      <td>华晨宝马</td>\n      <td>轿车</td>\n      <td>宝马</td>\n      <td>宝马5系</td>\n      <td>中大型</td>\n      <td>61</td>\n      <td>201901</td>\n      <td>11016</td>\n      <td>671976</td>\n      <td>114236.0</td>\n    </tr>\n  </tbody>\n</table>\n</div>"
     },
     "execution_count": 25,
     "metadata": {},
     "output_type": "execute_result"
    }
   ],
   "source": [
    "#查询品牌为宝马且售价大于40万的车\n",
    "car.query(\"brand=='宝马' and carprice>40\")\n",
    "#一个或多个条件下过滤，query()的语法都保持不变"
   ],
   "metadata": {
    "collapsed": false,
    "ExecuteTime": {
     "start_time": "2023-04-04T20:24:22.430858Z",
     "end_time": "2023-04-04T20:24:22.446477Z"
    }
   }
  },
  {
   "cell_type": "code",
   "execution_count": 4,
   "outputs": [
    {
     "data": {
      "text/plain": "array([[ 0,  1,  2,  3,  4,  5],\n       [ 6,  7,  8,  9, 10, 11],\n       [12, 13, 14, 15, 16, 17],\n       [18, 19, 20, 21, 22, 23]])"
     },
     "execution_count": 4,
     "metadata": {},
     "output_type": "execute_result"
    }
   ],
   "source": [
    "import numpy as np\n",
    "a = np.arange(24).reshape(4,6)\n",
    "a"
   ],
   "metadata": {
    "collapsed": false,
    "ExecuteTime": {
     "start_time": "2023-04-05T08:26:13.037046Z",
     "end_time": "2023-04-05T08:26:13.083953Z"
    }
   }
  },
  {
   "cell_type": "code",
   "execution_count": 5,
   "outputs": [
    {
     "data": {
      "text/plain": "[array([[ 0,  1,  2],\n        [ 6,  7,  8],\n        [12, 13, 14],\n        [18, 19, 20]]),\n array([[ 3,  4,  5],\n        [ 9, 10, 11],\n        [15, 16, 17],\n        [21, 22, 23]])]"
     },
     "execution_count": 5,
     "metadata": {},
     "output_type": "execute_result"
    }
   ],
   "source": [
    "np.hsplit(a,2)"
   ],
   "metadata": {
    "collapsed": false,
    "ExecuteTime": {
     "start_time": "2023-04-05T08:26:14.650141Z",
     "end_time": "2023-04-05T08:26:14.712652Z"
    }
   }
  }
 ],
 "metadata": {
  "kernelspec": {
   "display_name": "Python 3",
   "language": "python",
   "name": "python3"
  },
  "language_info": {
   "codemirror_mode": {
    "name": "ipython",
    "version": 2
   },
   "file_extension": ".py",
   "mimetype": "text/x-python",
   "name": "python",
   "nbconvert_exporter": "python",
   "pygments_lexer": "ipython2",
   "version": "2.7.6"
  }
 },
 "nbformat": 4,
 "nbformat_minor": 0
}
