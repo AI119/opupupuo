{
 "cells": [
  {
   "cell_type": "markdown",
   "metadata": {},
   "source": [
    "## pandas练习"
   ]
  },
  {
   "cell_type": "code",
   "execution_count": 2,
   "metadata": {
    "ExecuteTime": {
     "end_time": "2023-04-05T16:10:25.279298Z",
     "start_time": "2023-04-05T16:10:24.379760Z"
    }
   },
   "outputs": [],
   "source": [
    "import pandas as pd"
   ]
  },
  {
   "cell_type": "markdown",
   "metadata": {},
   "source": [
    "##### 打开csv文件"
   ]
  },
  {
   "cell_type": "code",
   "execution_count": 3,
   "metadata": {
    "ExecuteTime": {
     "end_time": "2023-04-05T16:10:25.369484Z",
     "start_time": "2023-04-05T16:10:25.279298Z"
    }
   },
   "outputs": [
    {
     "data": {
      "text/html": [
       "<div>\n",
       "<style scoped>\n",
       "    .dataframe tbody tr th:only-of-type {\n",
       "        vertical-align: middle;\n",
       "    }\n",
       "\n",
       "    .dataframe tbody tr th {\n",
       "        vertical-align: top;\n",
       "    }\n",
       "\n",
       "    .dataframe thead th {\n",
       "        text-align: right;\n",
       "    }\n",
       "</style>\n",
       "<table border=\"1\" class=\"dataframe\">\n",
       "  <thead>\n",
       "    <tr style=\"text-align: right;\">\n",
       "      <th></th>\n",
       "      <th>2015-4-28</th>\n",
       "      <th>http://www.apinpai.com/</th>\n",
       "      <th>采蘑菇的小姑娘;小蓓蕾组合;90;儿歌</th>\n",
       "      <th>216</th>\n",
       "      <th>1392.6800</th>\n",
       "    </tr>\n",
       "  </thead>\n",
       "  <tbody>\n",
       "    <tr>\n",
       "      <th>0</th>\n",
       "      <td>2015-8-24</td>\n",
       "      <td>http://www.apinpai.com/</td>\n",
       "      <td>我;张国荣;80;励志</td>\n",
       "      <td>273.0</td>\n",
       "      <td>1447.17</td>\n",
       "    </tr>\n",
       "    <tr>\n",
       "      <th>1</th>\n",
       "      <td>2015-12-14</td>\n",
       "      <td>http://www.movie.com/dor/</td>\n",
       "      <td>《恶棍天使》;2015.12.24;2016.2.13;天津橙子映像传媒有限公司、北京光线影...</td>\n",
       "      <td>NaN</td>\n",
       "      <td>NaN</td>\n",
       "    </tr>\n",
       "    <tr>\n",
       "      <th>2</th>\n",
       "      <td>2015-4-2</td>\n",
       "      <td>http://bj.qu114.com/</td>\n",
       "      <td>my way;张敬轩;90;励志</td>\n",
       "      <td>52.0</td>\n",
       "      <td>337.27</td>\n",
       "    </tr>\n",
       "    <tr>\n",
       "      <th>3</th>\n",
       "      <td>2015-12-19</td>\n",
       "      <td>http://www.movie.com/dor/</td>\n",
       "      <td>《失孤》;2015.3.20;2015.5.3;华谊兄弟传媒集团、源合圣影视、映艺娱乐;彭三...</td>\n",
       "      <td>NaN</td>\n",
       "      <td>NaN</td>\n",
       "    </tr>\n",
       "    <tr>\n",
       "      <th>4</th>\n",
       "      <td>2015-5-28</td>\n",
       "      <td>http://www.favolist.com/</td>\n",
       "      <td>屋顶;温岚;80;励志</td>\n",
       "      <td>217.0</td>\n",
       "      <td>903.29</td>\n",
       "    </tr>\n",
       "    <tr>\n",
       "      <th>...</th>\n",
       "      <td>...</td>\n",
       "      <td>...</td>\n",
       "      <td>...</td>\n",
       "      <td>...</td>\n",
       "      <td>...</td>\n",
       "    </tr>\n",
       "    <tr>\n",
       "      <th>1390</th>\n",
       "      <td>2015-7-31</td>\n",
       "      <td>http://beijing.faxinxi.cn/</td>\n",
       "      <td>同道中人;张国荣;80;励志</td>\n",
       "      <td>87.0</td>\n",
       "      <td>927.30</td>\n",
       "    </tr>\n",
       "    <tr>\n",
       "      <th>1391</th>\n",
       "      <td>2015-4-20</td>\n",
       "      <td>http://www.denghuo.com/</td>\n",
       "      <td>忘记拥抱;a-lin;80;伤感</td>\n",
       "      <td>31.0</td>\n",
       "      <td>684.56</td>\n",
       "    </tr>\n",
       "    <tr>\n",
       "      <th>1392</th>\n",
       "      <td>2015-4-2</td>\n",
       "      <td>http://www.yifawang.cn/</td>\n",
       "      <td>路...一直都在;陈奕迅;90;励志</td>\n",
       "      <td>47.0</td>\n",
       "      <td>1419.74</td>\n",
       "    </tr>\n",
       "    <tr>\n",
       "      <th>1393</th>\n",
       "      <td>2015-4-15</td>\n",
       "      <td>http://www.wuhan58.com/index.php</td>\n",
       "      <td>像我一样骄傲;赵传;80;励志</td>\n",
       "      <td>124.0</td>\n",
       "      <td>1434.67</td>\n",
       "    </tr>\n",
       "    <tr>\n",
       "      <th>1394</th>\n",
       "      <td>2015-5-16</td>\n",
       "      <td>http://www.favolist.com/</td>\n",
       "      <td>最冷一天;陈奕迅;90;伤感</td>\n",
       "      <td>103.0</td>\n",
       "      <td>1020.50</td>\n",
       "    </tr>\n",
       "  </tbody>\n",
       "</table>\n",
       "<p>1395 rows × 5 columns</p>\n",
       "</div>"
      ],
      "text/plain": [
       "       2015-4-28           http://www.apinpai.com/  \\\n",
       "0      2015-8-24           http://www.apinpai.com/   \n",
       "1     2015-12-14         http://www.movie.com/dor/   \n",
       "2       2015-4-2              http://bj.qu114.com/   \n",
       "3     2015-12-19         http://www.movie.com/dor/   \n",
       "4      2015-5-28          http://www.favolist.com/   \n",
       "...          ...                               ...   \n",
       "1390   2015-7-31        http://beijing.faxinxi.cn/   \n",
       "1391   2015-4-20           http://www.denghuo.com/   \n",
       "1392    2015-4-2           http://www.yifawang.cn/   \n",
       "1393   2015-4-15  http://www.wuhan58.com/index.php   \n",
       "1394   2015-5-16          http://www.favolist.com/   \n",
       "\n",
       "                                    采蘑菇的小姑娘;小蓓蕾组合;90;儿歌    216  1392.6800  \n",
       "0                                           我;张国荣;80;励志  273.0    1447.17  \n",
       "1     《恶棍天使》;2015.12.24;2016.2.13;天津橙子映像传媒有限公司、北京光线影...    NaN        NaN  \n",
       "2                                      my way;张敬轩;90;励志   52.0     337.27  \n",
       "3     《失孤》;2015.3.20;2015.5.3;华谊兄弟传媒集团、源合圣影视、映艺娱乐;彭三...    NaN        NaN  \n",
       "4                                           屋顶;温岚;80;励志  217.0     903.29  \n",
       "...                                                 ...    ...        ...  \n",
       "1390                                     同道中人;张国荣;80;励志   87.0     927.30  \n",
       "1391                                   忘记拥抱;a-lin;80;伤感   31.0     684.56  \n",
       "1392                                 路...一直都在;陈奕迅;90;励志   47.0    1419.74  \n",
       "1393                                    像我一样骄傲;赵传;80;励志  124.0    1434.67  \n",
       "1394                                     最冷一天;陈奕迅;90;伤感  103.0    1020.50  \n",
       "\n",
       "[1395 rows x 5 columns]"
      ]
     },
     "execution_count": 3,
     "metadata": {},
     "output_type": "execute_result"
    }
   ],
   "source": [
    "fpath='./data/spider.csv'\n",
    "#以可读方式打开csv文件\n",
    "df1 = pd.read_csv(fpath)\n",
    "df1"
   ]
  },
  {
   "cell_type": "code",
   "execution_count": 3,
   "metadata": {
    "ExecuteTime": {
     "end_time": "2023-04-05T16:10:25.419661Z",
     "start_time": "2023-04-05T16:10:25.324294Z"
    }
   },
   "outputs": [],
   "source": []
  },
  {
   "cell_type": "code",
   "execution_count": 4,
   "metadata": {
    "ExecuteTime": {
     "end_time": "2023-04-05T16:10:25.509563Z",
     "start_time": "2023-04-05T16:10:25.349458Z"
    }
   },
   "outputs": [
    {
     "data": {
      "text/html": [
       "<div>\n",
       "<style scoped>\n",
       "    .dataframe tbody tr th:only-of-type {\n",
       "        vertical-align: middle;\n",
       "    }\n",
       "\n",
       "    .dataframe tbody tr th {\n",
       "        vertical-align: top;\n",
       "    }\n",
       "\n",
       "    .dataframe thead th {\n",
       "        text-align: right;\n",
       "    }\n",
       "</style>\n",
       "<table border=\"1\" class=\"dataframe\">\n",
       "  <thead>\n",
       "    <tr style=\"text-align: right;\">\n",
       "      <th></th>\n",
       "      <th>url</th>\n",
       "      <th>title</th>\n",
       "    </tr>\n",
       "    <tr>\n",
       "      <th>data</th>\n",
       "      <th></th>\n",
       "      <th></th>\n",
       "    </tr>\n",
       "  </thead>\n",
       "  <tbody>\n",
       "    <tr>\n",
       "      <th>2015-4-28</th>\n",
       "      <td>http://www.apinpai.com/</td>\n",
       "      <td>采蘑菇的小姑娘;小蓓蕾组合;90;儿歌</td>\n",
       "    </tr>\n",
       "    <tr>\n",
       "      <th>2015-8-24</th>\n",
       "      <td>http://www.apinpai.com/</td>\n",
       "      <td>我;张国荣;80;励志</td>\n",
       "    </tr>\n",
       "    <tr>\n",
       "      <th>2015-12-14</th>\n",
       "      <td>http://www.movie.com/dor/</td>\n",
       "      <td>《恶棍天使》;2015.12.24;2016.2.13;天津橙子映像传媒有限公司、北京光线影...</td>\n",
       "    </tr>\n",
       "    <tr>\n",
       "      <th>2015-4-2</th>\n",
       "      <td>http://bj.qu114.com/</td>\n",
       "      <td>my way;张敬轩;90;励志</td>\n",
       "    </tr>\n",
       "    <tr>\n",
       "      <th>2015-12-19</th>\n",
       "      <td>http://www.movie.com/dor/</td>\n",
       "      <td>《失孤》;2015.3.20;2015.5.3;华谊兄弟传媒集团、源合圣影视、映艺娱乐;彭三...</td>\n",
       "    </tr>\n",
       "    <tr>\n",
       "      <th>...</th>\n",
       "      <td>...</td>\n",
       "      <td>...</td>\n",
       "    </tr>\n",
       "    <tr>\n",
       "      <th>2015-7-31</th>\n",
       "      <td>http://beijing.faxinxi.cn/</td>\n",
       "      <td>同道中人;张国荣;80;励志</td>\n",
       "    </tr>\n",
       "    <tr>\n",
       "      <th>2015-4-20</th>\n",
       "      <td>http://www.denghuo.com/</td>\n",
       "      <td>忘记拥抱;a-lin;80;伤感</td>\n",
       "    </tr>\n",
       "    <tr>\n",
       "      <th>2015-4-2</th>\n",
       "      <td>http://www.yifawang.cn/</td>\n",
       "      <td>路...一直都在;陈奕迅;90;励志</td>\n",
       "    </tr>\n",
       "    <tr>\n",
       "      <th>2015-4-15</th>\n",
       "      <td>http://www.wuhan58.com/index.php</td>\n",
       "      <td>像我一样骄傲;赵传;80;励志</td>\n",
       "    </tr>\n",
       "    <tr>\n",
       "      <th>2015-5-16</th>\n",
       "      <td>http://www.favolist.com/</td>\n",
       "      <td>最冷一天;陈奕迅;90;伤感</td>\n",
       "    </tr>\n",
       "  </tbody>\n",
       "</table>\n",
       "<p>1396 rows × 2 columns</p>\n",
       "</div>"
      ],
      "text/plain": [
       "                                         url  \\\n",
       "data                                           \n",
       "2015-4-28            http://www.apinpai.com/   \n",
       "2015-8-24            http://www.apinpai.com/   \n",
       "2015-12-14         http://www.movie.com/dor/   \n",
       "2015-4-2                http://bj.qu114.com/   \n",
       "2015-12-19         http://www.movie.com/dor/   \n",
       "...                                      ...   \n",
       "2015-7-31         http://beijing.faxinxi.cn/   \n",
       "2015-4-20            http://www.denghuo.com/   \n",
       "2015-4-2             http://www.yifawang.cn/   \n",
       "2015-4-15   http://www.wuhan58.com/index.php   \n",
       "2015-5-16           http://www.favolist.com/   \n",
       "\n",
       "                                                        title  \n",
       "data                                                           \n",
       "2015-4-28                                 采蘑菇的小姑娘;小蓓蕾组合;90;儿歌  \n",
       "2015-8-24                                         我;张国荣;80;励志  \n",
       "2015-12-14  《恶棍天使》;2015.12.24;2016.2.13;天津橙子映像传媒有限公司、北京光线影...  \n",
       "2015-4-2                                     my way;张敬轩;90;励志  \n",
       "2015-12-19  《失孤》;2015.3.20;2015.5.3;华谊兄弟传媒集团、源合圣影视、映艺娱乐;彭三...  \n",
       "...                                                       ...  \n",
       "2015-7-31                                      同道中人;张国荣;80;励志  \n",
       "2015-4-20                                    忘记拥抱;a-lin;80;伤感  \n",
       "2015-4-2                                   路...一直都在;陈奕迅;90;励志  \n",
       "2015-4-15                                     像我一样骄傲;赵传;80;励志  \n",
       "2015-5-16                                      最冷一天;陈奕迅;90;伤感  \n",
       "\n",
       "[1396 rows x 2 columns]"
      ]
     },
     "execution_count": 4,
     "metadata": {},
     "output_type": "execute_result"
    }
   ],
   "source": [
    "#header=None意思是取消表头，names是每一列的标题，usecols意思是调用这个文件中的哪及列\n",
    "df2 = pd.read_csv(fpath,header=None,names=['data','url','title','val1','val2'],index_col='data',usecols=['data','url','title'])\n",
    "df2"
   ]
  },
  {
   "cell_type": "markdown",
   "metadata": {},
   "source": [
    "### 打开excel文件"
   ]
  },
  {
   "cell_type": "code",
   "execution_count": 5,
   "metadata": {
    "ExecuteTime": {
     "end_time": "2023-04-05T16:10:25.609443Z",
     "start_time": "2023-04-05T16:10:25.379517Z"
    }
   },
   "outputs": [
    {
     "data": {
      "text/html": [
       "<div>\n",
       "<style scoped>\n",
       "    .dataframe tbody tr th:only-of-type {\n",
       "        vertical-align: middle;\n",
       "    }\n",
       "\n",
       "    .dataframe tbody tr th {\n",
       "        vertical-align: top;\n",
       "    }\n",
       "\n",
       "    .dataframe thead th {\n",
       "        text-align: right;\n",
       "    }\n",
       "</style>\n",
       "<table border=\"1\" class=\"dataframe\">\n",
       "  <thead>\n",
       "    <tr style=\"text-align: right;\">\n",
       "      <th></th>\n",
       "      <th>series</th>\n",
       "      <th>manufacture</th>\n",
       "      <th>cartype</th>\n",
       "      <th>brand</th>\n",
       "      <th>carclass</th>\n",
       "      <th>carlevel</th>\n",
       "      <th>carprice</th>\n",
       "      <th>stat_month</th>\n",
       "      <th>quantity</th>\n",
       "      <th>revenue</th>\n",
       "      <th>profit</th>\n",
       "    </tr>\n",
       "  </thead>\n",
       "  <tbody>\n",
       "    <tr>\n",
       "      <th>0</th>\n",
       "      <td>德系</td>\n",
       "      <td>北京奔驰</td>\n",
       "      <td>SUV</td>\n",
       "      <td>奔驰</td>\n",
       "      <td>奔驰GLA</td>\n",
       "      <td>紧凑</td>\n",
       "      <td>33</td>\n",
       "      <td>202001</td>\n",
       "      <td>8002</td>\n",
       "      <td>264066</td>\n",
       "      <td>60735.20</td>\n",
       "    </tr>\n",
       "    <tr>\n",
       "      <th>1</th>\n",
       "      <td>德系</td>\n",
       "      <td>北京奔驰</td>\n",
       "      <td>SUV</td>\n",
       "      <td>奔驰</td>\n",
       "      <td>奔驰GLC</td>\n",
       "      <td>中型</td>\n",
       "      <td>49</td>\n",
       "      <td>202001</td>\n",
       "      <td>10535</td>\n",
       "      <td>516215</td>\n",
       "      <td>92918.70</td>\n",
       "    </tr>\n",
       "    <tr>\n",
       "      <th>2</th>\n",
       "      <td>德系</td>\n",
       "      <td>北京奔驰</td>\n",
       "      <td>轿车</td>\n",
       "      <td>奔驰</td>\n",
       "      <td>奔驰C级</td>\n",
       "      <td>中型</td>\n",
       "      <td>41</td>\n",
       "      <td>202001</td>\n",
       "      <td>13087</td>\n",
       "      <td>536567</td>\n",
       "      <td>144873.00</td>\n",
       "    </tr>\n",
       "    <tr>\n",
       "      <th>3</th>\n",
       "      <td>德系</td>\n",
       "      <td>北京奔驰</td>\n",
       "      <td>轿车</td>\n",
       "      <td>奔驰</td>\n",
       "      <td>奔驰E级</td>\n",
       "      <td>中大型</td>\n",
       "      <td>53</td>\n",
       "      <td>202001</td>\n",
       "      <td>9133</td>\n",
       "      <td>484049</td>\n",
       "      <td>91969.30</td>\n",
       "    </tr>\n",
       "    <tr>\n",
       "      <th>4</th>\n",
       "      <td>德系</td>\n",
       "      <td>华晨宝马</td>\n",
       "      <td>SUV</td>\n",
       "      <td>宝马</td>\n",
       "      <td>宝马X1</td>\n",
       "      <td>紧凑</td>\n",
       "      <td>36</td>\n",
       "      <td>202001</td>\n",
       "      <td>6823</td>\n",
       "      <td>245628</td>\n",
       "      <td>58950.70</td>\n",
       "    </tr>\n",
       "    <tr>\n",
       "      <th>...</th>\n",
       "      <td>...</td>\n",
       "      <td>...</td>\n",
       "      <td>...</td>\n",
       "      <td>...</td>\n",
       "      <td>...</td>\n",
       "      <td>...</td>\n",
       "      <td>...</td>\n",
       "      <td>...</td>\n",
       "      <td>...</td>\n",
       "      <td>...</td>\n",
       "      <td>...</td>\n",
       "    </tr>\n",
       "    <tr>\n",
       "      <th>1862</th>\n",
       "      <td>自主</td>\n",
       "      <td>长城汽车</td>\n",
       "      <td>SUV</td>\n",
       "      <td>哈弗</td>\n",
       "      <td>哈弗H2</td>\n",
       "      <td>小型</td>\n",
       "      <td>10</td>\n",
       "      <td>201901</td>\n",
       "      <td>17268</td>\n",
       "      <td>172680</td>\n",
       "      <td>17268.00</td>\n",
       "    </tr>\n",
       "    <tr>\n",
       "      <th>1863</th>\n",
       "      <td>自主</td>\n",
       "      <td>长城汽车</td>\n",
       "      <td>SUV</td>\n",
       "      <td>哈弗</td>\n",
       "      <td>哈弗H5</td>\n",
       "      <td>紧凑</td>\n",
       "      <td>13</td>\n",
       "      <td>201901</td>\n",
       "      <td>2298</td>\n",
       "      <td>29874</td>\n",
       "      <td>5676.06</td>\n",
       "    </tr>\n",
       "    <tr>\n",
       "      <th>1864</th>\n",
       "      <td>自主</td>\n",
       "      <td>长城汽车</td>\n",
       "      <td>SUV</td>\n",
       "      <td>哈弗</td>\n",
       "      <td>哈弗H6</td>\n",
       "      <td>紧凑</td>\n",
       "      <td>13</td>\n",
       "      <td>201901</td>\n",
       "      <td>42188</td>\n",
       "      <td>548444</td>\n",
       "      <td>98719.90</td>\n",
       "    </tr>\n",
       "    <tr>\n",
       "      <th>1865</th>\n",
       "      <td>自主</td>\n",
       "      <td>长城汽车</td>\n",
       "      <td>SUV</td>\n",
       "      <td>哈弗</td>\n",
       "      <td>哈弗H8</td>\n",
       "      <td>中大型</td>\n",
       "      <td>19</td>\n",
       "      <td>201901</td>\n",
       "      <td>1020</td>\n",
       "      <td>19380</td>\n",
       "      <td>4845.00</td>\n",
       "    </tr>\n",
       "    <tr>\n",
       "      <th>1866</th>\n",
       "      <td>自主</td>\n",
       "      <td>长城汽车</td>\n",
       "      <td>SUV</td>\n",
       "      <td>哈弗</td>\n",
       "      <td>哈弗H9</td>\n",
       "      <td>中大型</td>\n",
       "      <td>24</td>\n",
       "      <td>201901</td>\n",
       "      <td>928</td>\n",
       "      <td>22272</td>\n",
       "      <td>2895.36</td>\n",
       "    </tr>\n",
       "  </tbody>\n",
       "</table>\n",
       "<p>1867 rows × 11 columns</p>\n",
       "</div>"
      ],
      "text/plain": [
       "     series manufacture cartype brand carclass carlevel  carprice  stat_month  \\\n",
       "0        德系        北京奔驰     SUV    奔驰    奔驰GLA       紧凑        33      202001   \n",
       "1        德系        北京奔驰     SUV    奔驰    奔驰GLC       中型        49      202001   \n",
       "2        德系        北京奔驰      轿车    奔驰     奔驰C级       中型        41      202001   \n",
       "3        德系        北京奔驰      轿车    奔驰     奔驰E级      中大型        53      202001   \n",
       "4        德系        华晨宝马     SUV    宝马     宝马X1       紧凑        36      202001   \n",
       "...     ...         ...     ...   ...      ...      ...       ...         ...   \n",
       "1862     自主        长城汽车     SUV    哈弗     哈弗H2       小型        10      201901   \n",
       "1863     自主        长城汽车     SUV    哈弗     哈弗H5       紧凑        13      201901   \n",
       "1864     自主        长城汽车     SUV    哈弗     哈弗H6       紧凑        13      201901   \n",
       "1865     自主        长城汽车     SUV    哈弗     哈弗H8      中大型        19      201901   \n",
       "1866     自主        长城汽车     SUV    哈弗     哈弗H9      中大型        24      201901   \n",
       "\n",
       "      quantity  revenue     profit  \n",
       "0         8002   264066   60735.20  \n",
       "1        10535   516215   92918.70  \n",
       "2        13087   536567  144873.00  \n",
       "3         9133   484049   91969.30  \n",
       "4         6823   245628   58950.70  \n",
       "...        ...      ...        ...  \n",
       "1862     17268   172680   17268.00  \n",
       "1863      2298    29874    5676.06  \n",
       "1864     42188   548444   98719.90  \n",
       "1865      1020    19380    4845.00  \n",
       "1866       928    22272    2895.36  \n",
       "\n",
       "[1867 rows x 11 columns]"
      ]
     },
     "execution_count": 5,
     "metadata": {},
     "output_type": "execute_result"
    }
   ],
   "source": [
    "fcar = './data/saleinfo_month.xls'\n",
    "df3 = pd.read_excel(fcar)\n",
    "df3"
   ]
  },
  {
   "cell_type": "code",
   "execution_count": 6,
   "metadata": {
    "ExecuteTime": {
     "end_time": "2023-04-05T16:10:25.609443Z",
     "start_time": "2023-04-05T16:10:25.529445Z"
    }
   },
   "outputs": [
    {
     "name": "stdout",
     "output_type": "stream",
     "text": [
      "<class 'pandas.core.series.Series'>\n"
     ]
    }
   ],
   "source": [
    "df3['series']\n",
    "#输出这一列的数据格式，数据格式为Series\n",
    "print(type(df3['series']))"
   ]
  },
  {
   "cell_type": "code",
   "execution_count": 7,
   "metadata": {
    "ExecuteTime": {
     "end_time": "2023-04-05T16:10:25.609443Z",
     "start_time": "2023-04-05T16:10:25.549367Z"
    }
   },
   "outputs": [
    {
     "name": "stdout",
     "output_type": "stream",
     "text": [
      "<class 'pandas.core.frame.DataFrame'>\n"
     ]
    }
   ],
   "source": [
    "df3[['series','cartype']]\n",
    "#输出这一列数据格式，格式为DataFrame\n",
    "print(type(df3[['series','cartype']]))"
   ]
  },
  {
   "cell_type": "markdown",
   "metadata": {},
   "source": [
    "### 创建一个具有标签索引的Series"
   ]
  },
  {
   "cell_type": "code",
   "execution_count": 8,
   "metadata": {
    "ExecuteTime": {
     "end_time": "2023-04-05T16:10:25.657872Z",
     "start_time": "2023-04-05T16:10:25.564609Z"
    }
   },
   "outputs": [
    {
     "data": {
      "text/plain": [
       "a    1\n",
       "b    2\n",
       "c    3\n",
       "dtype: int64"
      ]
     },
     "execution_count": 8,
     "metadata": {},
     "output_type": "execute_result"
    }
   ],
   "source": [
    "#生成索引为abc，元素为1，2，3的数据\n",
    "s = pd.Series([1,2,3],index=[\"a\",\"b\",\"c\"])\n",
    "s"
   ]
  },
  {
   "cell_type": "markdown",
   "metadata": {},
   "source": [
    "#### 使用python字典创建Series"
   ]
  },
  {
   "cell_type": "code",
   "execution_count": 9,
   "metadata": {
    "ExecuteTime": {
     "end_time": "2023-04-05T16:10:25.729635Z",
     "start_time": "2023-04-05T16:10:25.579649Z"
    }
   },
   "outputs": [
    {
     "data": {
      "text/plain": [
       "a    10\n",
       "b    20\n",
       "c    30\n",
       "dtype: int64"
      ]
     },
     "execution_count": 9,
     "metadata": {},
     "output_type": "execute_result"
    }
   ],
   "source": [
    "#以字典方式创建一列数据\n",
    "s = pd.Series({\"a\":10,\"b\":20,\"c\":30})\n",
    "s"
   ]
  },
  {
   "cell_type": "code",
   "execution_count": 10,
   "metadata": {
    "ExecuteTime": {
     "end_time": "2023-04-05T16:10:25.749559Z",
     "start_time": "2023-04-05T16:10:25.609443Z"
    }
   },
   "outputs": [
    {
     "data": {
      "text/plain": [
       "Index(['a', 'b', 'c'], dtype='object')"
      ]
     },
     "execution_count": 10,
     "metadata": {},
     "output_type": "execute_result"
    }
   ],
   "source": [
    "#元素的索引\n",
    "s.index"
   ]
  },
  {
   "cell_type": "markdown",
   "metadata": {},
   "source": [
    "### 创建DaraFrame"
   ]
  },
  {
   "cell_type": "code",
   "execution_count": 11,
   "metadata": {
    "ExecuteTime": {
     "end_time": "2023-04-05T16:10:25.989255Z",
     "start_time": "2023-04-05T16:10:25.629323Z"
    }
   },
   "outputs": [
    {
     "data": {
      "text/html": [
       "<div>\n",
       "<style scoped>\n",
       "    .dataframe tbody tr th:only-of-type {\n",
       "        vertical-align: middle;\n",
       "    }\n",
       "\n",
       "    .dataframe tbody tr th {\n",
       "        vertical-align: top;\n",
       "    }\n",
       "\n",
       "    .dataframe thead th {\n",
       "        text-align: right;\n",
       "    }\n",
       "</style>\n",
       "<table border=\"1\" class=\"dataframe\">\n",
       "  <thead>\n",
       "    <tr style=\"text-align: right;\">\n",
       "      <th></th>\n",
       "      <th>姓名</th>\n",
       "      <th>性别</th>\n",
       "      <th>年龄</th>\n",
       "    </tr>\n",
       "  </thead>\n",
       "  <tbody>\n",
       "    <tr>\n",
       "      <th>0</th>\n",
       "      <td>张三</td>\n",
       "      <td>男</td>\n",
       "      <td>12</td>\n",
       "    </tr>\n",
       "    <tr>\n",
       "      <th>1</th>\n",
       "      <td>李四四</td>\n",
       "      <td>女</td>\n",
       "      <td>15</td>\n",
       "    </tr>\n",
       "    <tr>\n",
       "      <th>2</th>\n",
       "      <td>王五</td>\n",
       "      <td>男</td>\n",
       "      <td>18</td>\n",
       "    </tr>\n",
       "  </tbody>\n",
       "</table>\n",
       "</div>"
      ],
      "text/plain": [
       "    姓名 性别  年龄\n",
       "0   张三  男  12\n",
       "1  李四四  女  15\n",
       "2   王五  男  18"
      ]
     },
     "execution_count": 11,
     "metadata": {},
     "output_type": "execute_result"
    }
   ],
   "source": [
    "aaa = {\n",
    "    \"姓名\":['张三','李四四','王五'],\n",
    "    \"性别\":['男','女','男'],\n",
    "    \"年龄\":['12','15','18']\n",
    "}\n",
    "aaa_1 = pd.DataFrame(aaa)\n",
    "(aaa_1)"
   ]
  },
  {
   "cell_type": "code",
   "execution_count": 12,
   "metadata": {
    "ExecuteTime": {
     "end_time": "2023-04-05T16:10:26.039434Z",
     "start_time": "2023-04-05T16:10:25.639292Z"
    }
   },
   "outputs": [
    {
     "data": {
      "text/plain": [
       "姓名    object\n",
       "性别    object\n",
       "年龄    object\n",
       "dtype: object"
      ]
     },
     "execution_count": 12,
     "metadata": {},
     "output_type": "execute_result"
    }
   ],
   "source": [
    "#数据类型\n",
    "aaa_1.dtypes"
   ]
  },
  {
   "cell_type": "code",
   "execution_count": 13,
   "metadata": {
    "ExecuteTime": {
     "end_time": "2023-04-05T16:10:26.039434Z",
     "start_time": "2023-04-05T16:10:25.659395Z"
    }
   },
   "outputs": [
    {
     "data": {
      "text/plain": [
       "Index(['姓名', '性别', '年龄'], dtype='object')"
      ]
     },
     "execution_count": 13,
     "metadata": {},
     "output_type": "execute_result"
    }
   ],
   "source": [
    "#每列的标题\n",
    "aaa_1.columns"
   ]
  },
  {
   "cell_type": "code",
   "execution_count": 14,
   "metadata": {
    "ExecuteTime": {
     "end_time": "2023-04-05T16:10:26.039434Z",
     "start_time": "2023-04-05T16:10:25.679617Z"
    }
   },
   "outputs": [
    {
     "data": {
      "text/plain": [
       "RangeIndex(start=0, stop=3, step=1)"
      ]
     },
     "execution_count": 14,
     "metadata": {},
     "output_type": "execute_result"
    }
   ],
   "source": [
    "#每行的索引值\n",
    "aaa_1.index"
   ]
  },
  {
   "cell_type": "markdown",
   "metadata": {},
   "source": [
    "### 取一列或多列"
   ]
  },
  {
   "cell_type": "code",
   "execution_count": 15,
   "metadata": {
    "ExecuteTime": {
     "end_time": "2023-04-05T16:10:26.039434Z",
     "start_time": "2023-04-05T16:10:25.709347Z"
    }
   },
   "outputs": [
    {
     "name": "stdout",
     "output_type": "stream",
     "text": [
      "0       德系\n",
      "1       德系\n",
      "2       德系\n",
      "3       德系\n",
      "4       德系\n",
      "        ..\n",
      "1862    自主\n",
      "1863    自主\n",
      "1864    自主\n",
      "1865    自主\n",
      "1866    自主\n",
      "Name: series, Length: 1867, dtype: object\n",
      "     series cartype\n",
      "0        德系     SUV\n",
      "1        德系     SUV\n",
      "2        德系      轿车\n",
      "3        德系      轿车\n",
      "4        德系     SUV\n",
      "...     ...     ...\n",
      "1862     自主     SUV\n",
      "1863     自主     SUV\n",
      "1864     自主     SUV\n",
      "1865     自主     SUV\n",
      "1866     自主     SUV\n",
      "\n",
      "[1867 rows x 2 columns]\n"
     ]
    }
   ],
   "source": [
    "#取一列\n",
    "print(df3['series'])\n",
    "#取多列\n",
    "print(df3[['series', 'cartype']])"
   ]
  },
  {
   "cell_type": "code",
   "execution_count": 16,
   "metadata": {
    "ExecuteTime": {
     "end_time": "2023-04-05T16:10:26.039434Z",
     "start_time": "2023-04-05T16:10:25.729635Z"
    }
   },
   "outputs": [
    {
     "data": {
      "text/plain": [
       "series              德系\n",
       "manufacture       北京奔驰\n",
       "cartype            SUV\n",
       "brand               奔驰\n",
       "carclass         奔驰GLC\n",
       "carlevel            中型\n",
       "carprice            49\n",
       "stat_month      202001\n",
       "quantity         10535\n",
       "revenue         516215\n",
       "profit         92918.7\n",
       "Name: 1, dtype: object"
      ]
     },
     "execution_count": 16,
     "metadata": {},
     "output_type": "execute_result"
    }
   ],
   "source": [
    "#取索引为1的行\n",
    "df3.loc[1]"
   ]
  },
  {
   "cell_type": "code",
   "execution_count": 17,
   "metadata": {
    "ExecuteTime": {
     "end_time": "2023-04-05T16:10:26.039434Z",
     "start_time": "2023-04-05T16:10:25.759413Z"
    }
   },
   "outputs": [
    {
     "data": {
      "text/html": [
       "<div>\n",
       "<style scoped>\n",
       "    .dataframe tbody tr th:only-of-type {\n",
       "        vertical-align: middle;\n",
       "    }\n",
       "\n",
       "    .dataframe tbody tr th {\n",
       "        vertical-align: top;\n",
       "    }\n",
       "\n",
       "    .dataframe thead th {\n",
       "        text-align: right;\n",
       "    }\n",
       "</style>\n",
       "<table border=\"1\" class=\"dataframe\">\n",
       "  <thead>\n",
       "    <tr style=\"text-align: right;\">\n",
       "      <th></th>\n",
       "      <th>series</th>\n",
       "      <th>manufacture</th>\n",
       "      <th>cartype</th>\n",
       "      <th>brand</th>\n",
       "      <th>carclass</th>\n",
       "      <th>carlevel</th>\n",
       "      <th>carprice</th>\n",
       "      <th>stat_month</th>\n",
       "      <th>quantity</th>\n",
       "      <th>revenue</th>\n",
       "      <th>profit</th>\n",
       "    </tr>\n",
       "  </thead>\n",
       "  <tbody>\n",
       "    <tr>\n",
       "      <th>2</th>\n",
       "      <td>德系</td>\n",
       "      <td>北京奔驰</td>\n",
       "      <td>轿车</td>\n",
       "      <td>奔驰</td>\n",
       "      <td>奔驰C级</td>\n",
       "      <td>中型</td>\n",
       "      <td>41</td>\n",
       "      <td>202001</td>\n",
       "      <td>13087</td>\n",
       "      <td>536567</td>\n",
       "      <td>144873.0</td>\n",
       "    </tr>\n",
       "    <tr>\n",
       "      <th>3</th>\n",
       "      <td>德系</td>\n",
       "      <td>北京奔驰</td>\n",
       "      <td>轿车</td>\n",
       "      <td>奔驰</td>\n",
       "      <td>奔驰E级</td>\n",
       "      <td>中大型</td>\n",
       "      <td>53</td>\n",
       "      <td>202001</td>\n",
       "      <td>9133</td>\n",
       "      <td>484049</td>\n",
       "      <td>91969.3</td>\n",
       "    </tr>\n",
       "    <tr>\n",
       "      <th>4</th>\n",
       "      <td>德系</td>\n",
       "      <td>华晨宝马</td>\n",
       "      <td>SUV</td>\n",
       "      <td>宝马</td>\n",
       "      <td>宝马X1</td>\n",
       "      <td>紧凑</td>\n",
       "      <td>36</td>\n",
       "      <td>202001</td>\n",
       "      <td>6823</td>\n",
       "      <td>245628</td>\n",
       "      <td>58950.7</td>\n",
       "    </tr>\n",
       "  </tbody>\n",
       "</table>\n",
       "</div>"
      ],
      "text/plain": [
       "  series manufacture cartype brand carclass carlevel  carprice  stat_month  \\\n",
       "2     德系        北京奔驰      轿车    奔驰     奔驰C级       中型        41      202001   \n",
       "3     德系        北京奔驰      轿车    奔驰     奔驰E级      中大型        53      202001   \n",
       "4     德系        华晨宝马     SUV    宝马     宝马X1       紧凑        36      202001   \n",
       "\n",
       "   quantity  revenue    profit  \n",
       "2     13087   536567  144873.0  \n",
       "3      9133   484049   91969.3  \n",
       "4      6823   245628   58950.7  "
      ]
     },
     "execution_count": 17,
     "metadata": {},
     "output_type": "execute_result"
    }
   ],
   "source": [
    "#取索引为2~4的行\n",
    "df3.loc[2:4]"
   ]
  },
  {
   "cell_type": "code",
   "execution_count": 18,
   "metadata": {
    "ExecuteTime": {
     "end_time": "2023-04-05T16:10:26.039434Z",
     "start_time": "2023-04-05T16:10:25.779679Z"
    }
   },
   "outputs": [
    {
     "data": {
      "text/html": [
       "<div>\n",
       "<style scoped>\n",
       "    .dataframe tbody tr th:only-of-type {\n",
       "        vertical-align: middle;\n",
       "    }\n",
       "\n",
       "    .dataframe tbody tr th {\n",
       "        vertical-align: top;\n",
       "    }\n",
       "\n",
       "    .dataframe thead th {\n",
       "        text-align: right;\n",
       "    }\n",
       "</style>\n",
       "<table border=\"1\" class=\"dataframe\">\n",
       "  <thead>\n",
       "    <tr style=\"text-align: right;\">\n",
       "      <th></th>\n",
       "      <th>carclass</th>\n",
       "      <th>revenue</th>\n",
       "    </tr>\n",
       "  </thead>\n",
       "  <tbody>\n",
       "    <tr>\n",
       "      <th>1861</th>\n",
       "      <td>哈弗H1</td>\n",
       "      <td>73241</td>\n",
       "    </tr>\n",
       "    <tr>\n",
       "      <th>1863</th>\n",
       "      <td>哈弗H5</td>\n",
       "      <td>29874</td>\n",
       "    </tr>\n",
       "  </tbody>\n",
       "</table>\n",
       "</div>"
      ],
      "text/plain": [
       "     carclass  revenue\n",
       "1861     哈弗H1    73241\n",
       "1863     哈弗H5    29874"
      ]
     },
     "execution_count": 18,
     "metadata": {},
     "output_type": "execute_result"
    }
   ],
   "source": [
    "#取索引为48,86,56的'carclass','revenue'列\n",
    "pdfp= df3.loc[[1861,1863],['carclass','revenue']]\n",
    "pdfp"
   ]
  },
  {
   "cell_type": "code",
   "execution_count": 22,
   "metadata": {
    "ExecuteTime": {
     "end_time": "2023-04-05T16:11:15.889745Z",
     "start_time": "2023-04-05T16:11:15.859677Z"
    }
   },
   "outputs": [
    {
     "data": {
      "text/plain": [
       "'日系'"
      ]
     },
     "execution_count": 22,
     "metadata": {},
     "output_type": "execute_result"
    }
   ],
   "source": [
    "df3.loc[1848,'series'] = '日系'\n",
    "df3.loc[1848,'series']"
   ]
  },
  {
   "cell_type": "code",
   "execution_count": 20,
   "metadata": {
    "ExecuteTime": {
     "end_time": "2023-04-05T16:10:26.039434Z",
     "start_time": "2023-04-05T16:10:25.829212Z"
    }
   },
   "outputs": [
    {
     "data": {
      "text/html": [
       "<div>\n",
       "<style scoped>\n",
       "    .dataframe tbody tr th:only-of-type {\n",
       "        vertical-align: middle;\n",
       "    }\n",
       "\n",
       "    .dataframe tbody tr th {\n",
       "        vertical-align: top;\n",
       "    }\n",
       "\n",
       "    .dataframe thead th {\n",
       "        text-align: right;\n",
       "    }\n",
       "</style>\n",
       "<table border=\"1\" class=\"dataframe\">\n",
       "  <thead>\n",
       "    <tr style=\"text-align: right;\">\n",
       "      <th></th>\n",
       "      <th>series</th>\n",
       "      <th>manufacture</th>\n",
       "      <th>cartype</th>\n",
       "    </tr>\n",
       "  </thead>\n",
       "  <tbody>\n",
       "    <tr>\n",
       "      <th>1</th>\n",
       "      <td>德系</td>\n",
       "      <td>北京奔驰</td>\n",
       "      <td>SUV</td>\n",
       "    </tr>\n",
       "    <tr>\n",
       "      <th>2</th>\n",
       "      <td>德系</td>\n",
       "      <td>北京奔驰</td>\n",
       "      <td>轿车</td>\n",
       "    </tr>\n",
       "    <tr>\n",
       "      <th>3</th>\n",
       "      <td>德系</td>\n",
       "      <td>北京奔驰</td>\n",
       "      <td>轿车</td>\n",
       "    </tr>\n",
       "    <tr>\n",
       "      <th>7</th>\n",
       "      <td>德系</td>\n",
       "      <td>华晨宝马</td>\n",
       "      <td>轿车</td>\n",
       "    </tr>\n",
       "    <tr>\n",
       "      <th>11</th>\n",
       "      <td>德系</td>\n",
       "      <td>上汽大众</td>\n",
       "      <td>轿车</td>\n",
       "    </tr>\n",
       "    <tr>\n",
       "      <th>...</th>\n",
       "      <td>...</td>\n",
       "      <td>...</td>\n",
       "      <td>...</td>\n",
       "    </tr>\n",
       "    <tr>\n",
       "      <th>1742</th>\n",
       "      <td>德系</td>\n",
       "      <td>北京奔驰</td>\n",
       "      <td>轿车</td>\n",
       "    </tr>\n",
       "    <tr>\n",
       "      <th>1745</th>\n",
       "      <td>德系</td>\n",
       "      <td>华晨宝马</td>\n",
       "      <td>轿车</td>\n",
       "    </tr>\n",
       "    <tr>\n",
       "      <th>1754</th>\n",
       "      <td>德系</td>\n",
       "      <td>一汽奥迪</td>\n",
       "      <td>SUV</td>\n",
       "    </tr>\n",
       "    <tr>\n",
       "      <th>1757</th>\n",
       "      <td>德系</td>\n",
       "      <td>一汽奥迪</td>\n",
       "      <td>轿车</td>\n",
       "    </tr>\n",
       "    <tr>\n",
       "      <th>1831</th>\n",
       "      <td>日系</td>\n",
       "      <td>一汽丰田</td>\n",
       "      <td>SUV</td>\n",
       "    </tr>\n",
       "  </tbody>\n",
       "</table>\n",
       "<p>96 rows × 3 columns</p>\n",
       "</div>"
      ],
      "text/plain": [
       "     series manufacture cartype\n",
       "1        德系        北京奔驰     SUV\n",
       "2        德系        北京奔驰      轿车\n",
       "3        德系        北京奔驰      轿车\n",
       "7        德系        华晨宝马      轿车\n",
       "11       德系        上汽大众      轿车\n",
       "...     ...         ...     ...\n",
       "1742     德系        北京奔驰      轿车\n",
       "1745     德系        华晨宝马      轿车\n",
       "1754     德系        一汽奥迪     SUV\n",
       "1757     德系        一汽奥迪      轿车\n",
       "1831     日系        一汽丰田     SUV\n",
       "\n",
       "[96 rows x 3 columns]"
      ]
     },
     "execution_count": 20,
     "metadata": {},
     "output_type": "execute_result"
    }
   ],
   "source": [
    "#取价格大于40的所有行中的'series'至'cartype'列\n",
    "df3.loc[df3['carprice']>40,'series':'cartype']"
   ]
  },
  {
   "cell_type": "code",
   "execution_count": 24,
   "metadata": {
    "ExecuteTime": {
     "end_time": "2023-04-05T16:27:14.410042Z",
     "start_time": "2023-04-05T16:27:14.370025Z"
    }
   },
   "outputs": [
    {
     "data": {
      "text/html": [
       "<div>\n",
       "<style scoped>\n",
       "    .dataframe tbody tr th:only-of-type {\n",
       "        vertical-align: middle;\n",
       "    }\n",
       "\n",
       "    .dataframe tbody tr th {\n",
       "        vertical-align: top;\n",
       "    }\n",
       "\n",
       "    .dataframe thead th {\n",
       "        text-align: right;\n",
       "    }\n",
       "</style>\n",
       "<table border=\"1\" class=\"dataframe\">\n",
       "  <thead>\n",
       "    <tr style=\"text-align: right;\">\n",
       "      <th></th>\n",
       "      <th>series</th>\n",
       "      <th>manufacture</th>\n",
       "      <th>cartype</th>\n",
       "      <th>brand</th>\n",
       "      <th>carclass</th>\n",
       "      <th>carlevel</th>\n",
       "      <th>carprice</th>\n",
       "      <th>stat_month</th>\n",
       "      <th>quantity</th>\n",
       "      <th>revenue</th>\n",
       "      <th>profit</th>\n",
       "    </tr>\n",
       "  </thead>\n",
       "  <tbody>\n",
       "    <tr>\n",
       "      <th>111</th>\n",
       "      <td>自主</td>\n",
       "      <td>比亚迪汽车</td>\n",
       "      <td>SUV</td>\n",
       "      <td>比亚迪</td>\n",
       "      <td>S7</td>\n",
       "      <td>中型</td>\n",
       "      <td>11</td>\n",
       "      <td>202001</td>\n",
       "      <td>2407</td>\n",
       "      <td>26477</td>\n",
       "      <td>3177.24</td>\n",
       "    </tr>\n",
       "    <tr>\n",
       "      <th>112</th>\n",
       "      <td>自主</td>\n",
       "      <td>比亚迪汽车</td>\n",
       "      <td>SUV</td>\n",
       "      <td>比亚迪</td>\n",
       "      <td>宋</td>\n",
       "      <td>紧凑</td>\n",
       "      <td>12</td>\n",
       "      <td>202001</td>\n",
       "      <td>8704</td>\n",
       "      <td>104448</td>\n",
       "      <td>12533.80</td>\n",
       "    </tr>\n",
       "    <tr>\n",
       "      <th>113</th>\n",
       "      <td>自主</td>\n",
       "      <td>比亚迪汽车</td>\n",
       "      <td>SUV</td>\n",
       "      <td>比亚迪</td>\n",
       "      <td>元</td>\n",
       "      <td>小型</td>\n",
       "      <td>9</td>\n",
       "      <td>202001</td>\n",
       "      <td>2733</td>\n",
       "      <td>24597</td>\n",
       "      <td>4181.49</td>\n",
       "    </tr>\n",
       "    <tr>\n",
       "      <th>114</th>\n",
       "      <td>自主</td>\n",
       "      <td>比亚迪汽车</td>\n",
       "      <td>轿车</td>\n",
       "      <td>比亚迪</td>\n",
       "      <td>F0</td>\n",
       "      <td>微型</td>\n",
       "      <td>4</td>\n",
       "      <td>202001</td>\n",
       "      <td>829</td>\n",
       "      <td>3316</td>\n",
       "      <td>895.32</td>\n",
       "    </tr>\n",
       "    <tr>\n",
       "      <th>115</th>\n",
       "      <td>自主</td>\n",
       "      <td>比亚迪汽车</td>\n",
       "      <td>轿车</td>\n",
       "      <td>比亚迪</td>\n",
       "      <td>F3</td>\n",
       "      <td>紧凑</td>\n",
       "      <td>6</td>\n",
       "      <td>202001</td>\n",
       "      <td>11206</td>\n",
       "      <td>67236</td>\n",
       "      <td>11430.10</td>\n",
       "    </tr>\n",
       "    <tr>\n",
       "      <th>...</th>\n",
       "      <td>...</td>\n",
       "      <td>...</td>\n",
       "      <td>...</td>\n",
       "      <td>...</td>\n",
       "      <td>...</td>\n",
       "      <td>...</td>\n",
       "      <td>...</td>\n",
       "      <td>...</td>\n",
       "      <td>...</td>\n",
       "      <td>...</td>\n",
       "      <td>...</td>\n",
       "    </tr>\n",
       "    <tr>\n",
       "      <th>1862</th>\n",
       "      <td>自主</td>\n",
       "      <td>长城汽车</td>\n",
       "      <td>SUV</td>\n",
       "      <td>哈弗</td>\n",
       "      <td>哈弗H2</td>\n",
       "      <td>小型</td>\n",
       "      <td>10</td>\n",
       "      <td>201901</td>\n",
       "      <td>17268</td>\n",
       "      <td>172680</td>\n",
       "      <td>17268.00</td>\n",
       "    </tr>\n",
       "    <tr>\n",
       "      <th>1863</th>\n",
       "      <td>自主</td>\n",
       "      <td>长城汽车</td>\n",
       "      <td>SUV</td>\n",
       "      <td>哈弗</td>\n",
       "      <td>哈弗H5</td>\n",
       "      <td>紧凑</td>\n",
       "      <td>13</td>\n",
       "      <td>201901</td>\n",
       "      <td>2298</td>\n",
       "      <td>29874</td>\n",
       "      <td>5676.06</td>\n",
       "    </tr>\n",
       "    <tr>\n",
       "      <th>1864</th>\n",
       "      <td>自主</td>\n",
       "      <td>长城汽车</td>\n",
       "      <td>SUV</td>\n",
       "      <td>哈弗</td>\n",
       "      <td>哈弗H6</td>\n",
       "      <td>紧凑</td>\n",
       "      <td>13</td>\n",
       "      <td>201901</td>\n",
       "      <td>42188</td>\n",
       "      <td>548444</td>\n",
       "      <td>98719.90</td>\n",
       "    </tr>\n",
       "    <tr>\n",
       "      <th>1865</th>\n",
       "      <td>自主</td>\n",
       "      <td>长城汽车</td>\n",
       "      <td>SUV</td>\n",
       "      <td>哈弗</td>\n",
       "      <td>哈弗H8</td>\n",
       "      <td>中大型</td>\n",
       "      <td>19</td>\n",
       "      <td>201901</td>\n",
       "      <td>1020</td>\n",
       "      <td>19380</td>\n",
       "      <td>4845.00</td>\n",
       "    </tr>\n",
       "    <tr>\n",
       "      <th>1866</th>\n",
       "      <td>自主</td>\n",
       "      <td>长城汽车</td>\n",
       "      <td>SUV</td>\n",
       "      <td>哈弗</td>\n",
       "      <td>哈弗H9</td>\n",
       "      <td>中大型</td>\n",
       "      <td>24</td>\n",
       "      <td>201901</td>\n",
       "      <td>928</td>\n",
       "      <td>22272</td>\n",
       "      <td>2895.36</td>\n",
       "    </tr>\n",
       "  </tbody>\n",
       "</table>\n",
       "<p>471 rows × 11 columns</p>\n",
       "</div>"
      ],
      "text/plain": [
       "     series manufacture cartype brand carclass carlevel  carprice  stat_month  \\\n",
       "111      自主       比亚迪汽车     SUV   比亚迪       S7       中型        11      202001   \n",
       "112      自主       比亚迪汽车     SUV   比亚迪        宋       紧凑        12      202001   \n",
       "113      自主       比亚迪汽车     SUV   比亚迪        元       小型         9      202001   \n",
       "114      自主       比亚迪汽车      轿车   比亚迪       F0       微型         4      202001   \n",
       "115      自主       比亚迪汽车      轿车   比亚迪       F3       紧凑         6      202001   \n",
       "...     ...         ...     ...   ...      ...      ...       ...         ...   \n",
       "1862     自主        长城汽车     SUV    哈弗     哈弗H2       小型        10      201901   \n",
       "1863     自主        长城汽车     SUV    哈弗     哈弗H5       紧凑        13      201901   \n",
       "1864     自主        长城汽车     SUV    哈弗     哈弗H6       紧凑        13      201901   \n",
       "1865     自主        长城汽车     SUV    哈弗     哈弗H8      中大型        19      201901   \n",
       "1866     自主        长城汽车     SUV    哈弗     哈弗H9      中大型        24      201901   \n",
       "\n",
       "      quantity  revenue    profit  \n",
       "111       2407    26477   3177.24  \n",
       "112       8704   104448  12533.80  \n",
       "113       2733    24597   4181.49  \n",
       "114        829     3316    895.32  \n",
       "115      11206    67236  11430.10  \n",
       "...        ...      ...       ...  \n",
       "1862     17268   172680  17268.00  \n",
       "1863      2298    29874   5676.06  \n",
       "1864     42188   548444  98719.90  \n",
       "1865      1020    19380   4845.00  \n",
       "1866       928    22272   2895.36  \n",
       "\n",
       "[471 rows x 11 columns]"
      ]
     },
     "execution_count": 24,
     "metadata": {},
     "output_type": "execute_result"
    }
   ],
   "source": [
    "#取价格小于40，且series为自主的所有行\n",
    "df3.loc[(df3['carprice']<40)&(df3['series']=='自主')]"
   ]
  }
 ],
 "metadata": {
  "kernelspec": {
   "display_name": "Python 3 (ipykernel)",
   "language": "python",
   "name": "python3"
  },
  "language_info": {
   "codemirror_mode": {
    "name": "ipython",
    "version": 3
   },
   "file_extension": ".py",
   "mimetype": "text/x-python",
   "name": "python",
   "nbconvert_exporter": "python",
   "pygments_lexer": "ipython3",
   "version": "3.9.7"
  }
 },
 "nbformat": 4,
 "nbformat_minor": 1
}
