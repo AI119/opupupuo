{
 "cells": [
  {
   "cell_type": "code",
   "execution_count": 1,
   "id": "dc2ae25c",
   "metadata": {
    "scrolled": true
   },
   "outputs": [
    {
     "name": "stdout",
     "output_type": "stream",
     "text": [
      "输入一位整数1-7:4\n",
      "THU\n",
      "输入一位整数1-7:5\n",
      "FRI\n",
      "输入一位整数1-7:6\n",
      "SAT\n",
      "输入一位整数1-7:7\n",
      "SUN\n",
      "输入一位整数1-7:1\n",
      "MON\n",
      "输入一位整数1-7:2\n",
      "TUE\n",
      "输入一位整数1-7:3\n",
      "WED\n",
      "输入一位整数1-7:6\n",
      "SAT\n",
      "输入一位整数1-7:0\n",
      "SUN\n"
     ]
    },
    {
     "ename": "SyntaxError",
     "evalue": "'break' outside loop (Temp/ipykernel_12180/2390980538.py, line 9)",
     "output_type": "error",
     "traceback": [
      "\u001b[1;36m  File \u001b[1;32m\"C:\\Users\\DELL\\AppData\\Local\\Temp/ipykernel_12180/2390980538.py\"\u001b[1;36m, line \u001b[1;32m9\u001b[0m\n\u001b[1;33m    break\u001b[0m\n\u001b[1;37m    ^\u001b[0m\n\u001b[1;31mSyntaxError\u001b[0m\u001b[1;31m:\u001b[0m 'break' outside loop\n"
     ]
    }
   ],
   "source": [
    "week = ['MON','TUE','WED','THU','FRI','SAT','SUN']\n",
    "x = 1\n",
    "while 1<=x<=7:    \n",
    "    x = int(input('输入一位整数1-7:'))\n",
    "    print(week[x-1])\n",
    "\n",
    "if x == 0:\n",
    "    print('程序结束')\n",
    "    break\n",
    "   "
   ]
  }
 ],
 "metadata": {
  "kernelspec": {
   "display_name": "Python 3 (ipykernel)",
   "language": "python",
   "name": "python3"
  },
  "language_info": {
   "codemirror_mode": {
    "name": "ipython",
    "version": 3
   },
   "file_extension": ".py",
   "mimetype": "text/x-python",
   "name": "python",
   "nbconvert_exporter": "python",
   "pygments_lexer": "ipython3",
   "version": "3.9.7"
  }
 },
 "nbformat": 4,
 "nbformat_minor": 5
}
