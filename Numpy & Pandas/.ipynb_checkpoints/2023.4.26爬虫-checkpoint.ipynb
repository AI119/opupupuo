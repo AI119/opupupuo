{
 "cells": [
  {
   "cell_type": "markdown",
   "metadata": {},
   "source": [
    "## 爬虫入门"
   ]
  },
  {
   "cell_type": "code",
   "execution_count": 3,
   "metadata": {
    "ExecuteTime": {
     "end_time": "2023-04-26T09:31:48.354625Z",
     "start_time": "2023-04-26T09:31:04.215201Z"
    }
   },
   "outputs": [
    {
     "name": "stdout",
     "output_type": "stream",
     "text": [
      "1\n",
      "1\n",
      "1\n",
      "1\n",
      "1\n",
      "1\n",
      "1\n",
      "1\n",
      "1\n",
      "1\n",
      "1\n",
      "1\n",
      "1\n",
      "1\n",
      "1\n",
      "1\n",
      "1\n",
      "1\n",
      "1\n",
      "1\n"
     ]
    }
   ],
   "source": [
    "#随机睡眠\n",
    "import time\n",
    "import random\n",
    "for i in range(20):\n",
    "    n = random.randint(1, 3) * random.uniform(1, 1.5)\n",
    "    time.sleep(n)\n",
    "    print(1)"
   ]
  },
  {
   "cell_type": "markdown",
   "metadata": {},
   "source": [
    "1.取出每个评论对应的网址"
   ]
  },
  {
   "cell_type": "code",
   "execution_count": 8,
   "metadata": {
    "ExecuteTime": {
     "end_time": "2023-04-26T09:31:48.726946Z",
     "start_time": "2023-04-26T09:31:48.354625Z"
    }
   },
   "outputs": [
    {
     "name": "stdout",
     "output_type": "stream",
     "text": [
      "[]\n"
     ]
    }
   ],
   "source": [
    "import requests\n",
    "from lxml import etree\n",
    "import csv\n",
    "import time\n",
    "import random\n",
    "from fake_useragent import UserAgent\n",
    "base_url = \"https://movie.douban.com/subject/1291583/reviews\"\n",
    "ua = UserAgent()\n",
    "headers = {'User-Agent': ua.chrome}\n",
    "# 获取网页的响应对象\n",
    "response = requests.get(base_url,headers=headers)\n",
    "# 获取网页信息的etree\n",
    "root = etree.HTML(response.text)\n",
    "# print(response.text)\n",
    "# 通过xpath获取到每一条评论\n",
    "hrefs = root.xpath('//div[@class=\"main-bd\"]/h2/a/@href')\n",
    "print(hrefs)"
   ]
  },
  {
   "cell_type": "markdown",
   "metadata": {},
   "source": [
    "2.取出每个地址对应的内容"
   ]
  },
  {
   "cell_type": "code",
   "execution_count": 7,
   "metadata": {
    "ExecuteTime": {
     "end_time": "2023-04-26T09:54:54.904258Z",
     "start_time": "2023-04-26T09:54:50.894205Z"
    }
   },
   "outputs": [
    {
     "name": "stdout",
     "output_type": "stream",
     "text": [
      "[]\n",
      "[]\n",
      "[]\n",
      "[]\n",
      "[]\n",
      "[]\n",
      "[]\n",
      "[]\n",
      "[]\n",
      "[]\n",
      "[]\n",
      "[]\n",
      "[]\n",
      "[]\n",
      "[]\n",
      "[]\n",
      "[]\n",
      "[]\n"
     ]
    }
   ],
   "source": [
    "for url in hrefs:\n",
    "    resp = requests.get(url,headers=headers)\n",
    "    root2 = etree.HTML(resp.text) # review-content clearfix\n",
    "    context = root2.xpath('//div[@class=\"review-content clearfix\"]/text()')\n",
    "    print(context)\n"
   ]
  }
 ],
 "metadata": {
  "kernelspec": {
   "display_name": "Python 3 (ipykernel)",
   "language": "python",
   "name": "python3"
  },
  "language_info": {
   "codemirror_mode": {
    "name": "ipython",
    "version": 3
   },
   "file_extension": ".py",
   "mimetype": "text/x-python",
   "name": "python",
   "nbconvert_exporter": "python",
   "pygments_lexer": "ipython3",
   "version": "3.9.7"
  },
  "toc": {
   "base_numbering": 1,
   "nav_menu": {},
   "number_sections": true,
   "sideBar": true,
   "skip_h1_title": false,
   "title_cell": "Table of Contents",
   "title_sidebar": "Contents",
   "toc_cell": false,
   "toc_position": {},
   "toc_section_display": true,
   "toc_window_display": false
  }
 },
 "nbformat": 4,
 "nbformat_minor": 1
}
