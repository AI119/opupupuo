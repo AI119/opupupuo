{
 "cells": [
  {
   "cell_type": "code",
   "execution_count": 20,
   "metadata": {
    "collapsed": true,
    "ExecuteTime": {
     "start_time": "2023-04-11T12:01:31.934639Z",
     "end_time": "2023-04-11T12:01:31.950261Z"
    }
   },
   "outputs": [],
   "source": [
    "import pandas as pd\n",
    "import json as js"
   ]
  },
  {
   "cell_type": "code",
   "execution_count": 19,
   "outputs": [
    {
     "data": {
      "text/plain": "'中文字符中文字符中文字符'"
     },
     "execution_count": 19,
     "metadata": {},
     "output_type": "execute_result"
    }
   ],
   "source": [
    "str = '中123文asfasd字\\t符\\n中asdas文\\t\\t字符123456中文字符'\n",
    "str = str.split()\n",
    "str = ''.join(str)\n",
    "str\n",
    "aaa = []\n",
    "for i in str:\n",
    "    if str.isdigit() or '0' < i <'9' or \"a\"<=i<=\"z\" or 'A'<=i<=\"Z\" :\n",
    "        continue\n",
    "    aaa.append(i)\n",
    "aaa = ''.join(aaa)\n",
    "aaa"
   ],
   "metadata": {
    "collapsed": false,
    "ExecuteTime": {
     "start_time": "2023-04-11T11:54:37.442309Z",
     "end_time": "2023-04-11T11:54:37.472286Z"
    }
   }
  },
  {
   "cell_type": "code",
   "execution_count": 107,
   "outputs": [],
   "source": [
    "str = '''var observe24h_data = {\n",
    "    \"od\":{\n",
    "        \"od\":\"202109291100\",\"od1\":\"青岛\",\n",
    "        \"od2\":\n",
    "            [{\"od21\":\"11\",\"od22\":\"23\",\"od23\":\"323\",\"od24\":\"西北风\",\"od25\":\"3\",\"od26\":\"0\", \"od27\":\"71\", \"od28\":\"\"},\n",
    "             {\"od21\":\"10\",\"od22\":\"22\",\"od23\":\"332\",\"od24\":\"西北风\",\"od25\":\"3\",\"od26\":\"0.1\", \"od27\":\"75\", \"od28\":\"33\"}]}\n",
    "};'''\n"
   ],
   "metadata": {
    "collapsed": false,
    "ExecuteTime": {
     "start_time": "2023-04-11T13:24:39.801377Z",
     "end_time": "2023-04-11T13:24:39.863950Z"
    }
   }
  },
  {
   "cell_type": "code",
   "execution_count": 112,
   "outputs": [
    {
     "data": {
      "text/plain": "'var observe24h_data = {\\n    \"od\":{\\n        \"od\":\"202109291100\",\"od1\":\"青岛\",\\n        \"od2\":\\n            [{\"od21\":\"11\",\"od22\":\"23\",\"od23\":\"323\",\"od24\":\"西北风\",\"od25\":\"3\",\"od26\":\"0\", \"od27\":\"71\", \"od28\":\"\"},\\n             {\"od21\":\"10\",\"od22\":\"22\",\"od23\":\"332\",\"od24\":\"西北风\",\"od25\":\"3\",\"od26\":\"0.1\", \"od27\":\"75\", \"od28\":\"33\"}]}\\n};'"
     },
     "execution_count": 112,
     "metadata": {},
     "output_type": "execute_result"
    }
   ],
   "source": [
    "str.replace(\"\\n\",\"\").replace(\"\\n\", \"\").replace(\"\\t\", \"\")\n",
    "str"
   ],
   "metadata": {
    "collapsed": false,
    "ExecuteTime": {
     "start_time": "2023-04-11T13:24:53.068008Z",
     "end_time": "2023-04-11T13:24:53.114892Z"
    }
   }
  },
  {
   "cell_type": "code",
   "execution_count": 113,
   "outputs": [],
   "source": [
    "dirt_1 = \"\"\"{\n",
    "    \"od\":{                                                                                                                                                    \"od\":\"202109291100\",\"od1\":\"青岛\",\n",
    "        \"od2\":\n",
    "            [{\"od21\":\"11\",\"od22\":\"23\",\"od23\":\"323\",\"od24\":\"西北风\",\"od25\":\"3\",\"od26\":\"0\", \"od27\":\"71\", \"od28\":\"\"},\n",
    "             {\"od21\":\"10\",\"od22\":\"22\",\"od23\":\"332\",\"od24\":\"西北风\",\"od25\":\"3\",\"od26\":\"0.1\", \"od27\":\"75\", \"od28\":\"33\"}]}\n",
    "}\"\"\""
   ],
   "metadata": {
    "collapsed": false,
    "ExecuteTime": {
     "start_time": "2023-04-11T14:53:51.117040Z",
     "end_time": "2023-04-11T14:53:51.132692Z"
    }
   }
  },
  {
   "cell_type": "code",
   "execution_count": 119,
   "outputs": [
    {
     "data": {
      "text/plain": "'{\"od\":{\"od\":\"202109291100\",\"od1\":\"青岛\",\"od2\":[{\"od21\":\"11\",\"od22\":\"23\",\"od23\":\"323\",\"od24\":\"西北风\",\"od25\":\"3\",\"od26\":\"0\",\"od27\":\"71\",\"od28\":\"\"},{\"od21\":\"10\",\"od22\":\"22\",\"od23\":\"332\",\"od24\":\"西北风\",\"od25\":\"3\",\"od26\":\"0.1\",\"od27\":\"75\",\"od28\":\"33\"}]}}'"
     },
     "execution_count": 119,
     "metadata": {},
     "output_type": "execute_result"
    }
   ],
   "source": [
    "dirt_1 = dirt_1.replace(\" \", \"\").replace(\"\\n\", \"\").replace(\"\\t\", \"\")\n",
    "dirt_1 = ''.join(dirt_1)\n",
    "dirt_1"
   ],
   "metadata": {
    "collapsed": false,
    "ExecuteTime": {
     "start_time": "2023-04-11T14:54:34.253939Z",
     "end_time": "2023-04-11T14:54:34.285221Z"
    }
   }
  },
  {
   "cell_type": "code",
   "execution_count": 77,
   "outputs": [
    {
     "data": {
      "text/plain": "'0'"
     },
     "execution_count": 77,
     "metadata": {},
     "output_type": "execute_result"
    }
   ],
   "source": [
    "data = js.loads(dirt_1)\n",
    "data[\"od\"][\"od2\"][0]['od26']"
   ],
   "metadata": {
    "collapsed": false,
    "ExecuteTime": {
     "start_time": "2023-04-11T13:18:00.050258Z",
     "end_time": "2023-04-11T13:18:00.081635Z"
    }
   }
  }
 ],
 "metadata": {
  "kernelspec": {
   "display_name": "Python 3",
   "language": "python",
   "name": "python3"
  },
  "language_info": {
   "codemirror_mode": {
    "name": "ipython",
    "version": 2
   },
   "file_extension": ".py",
   "mimetype": "text/x-python",
   "name": "python",
   "nbconvert_exporter": "python",
   "pygments_lexer": "ipython2",
   "version": "2.7.6"
  }
 },
 "nbformat": 4,
 "nbformat_minor": 0
}
