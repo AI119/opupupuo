{
 "cells": [
  {
   "cell_type": "code",
   "execution_count": 2,
   "metadata": {
    "collapsed": true,
    "ExecuteTime": {
     "start_time": "2023-04-25T15:51:31.249404Z",
     "end_time": "2023-04-25T15:51:32.622887Z"
    }
   },
   "outputs": [],
   "source": [
    "import pandas as pd\n",
    "import json as js"
   ]
  },
  {
   "cell_type": "code",
   "execution_count": 19,
   "outputs": [
    {
     "data": {
      "text/plain": "'中文字符中文字符中文字符'"
     },
     "execution_count": 19,
     "metadata": {},
     "output_type": "execute_result"
    }
   ],
   "source": [
    "str = '中123文asfasd字\\t符\\n中asdas文\\t\\t字符123456中文字符'\n",
    "str = str.split()\n",
    "str = ''.join(str)\n",
    "str\n",
    "aaa = []\n",
    "for i in str:\n",
    "    if str.isdigit() or '0' < i < '9' or \"a\" <= i <= \"z\" or 'A' <= i <= \"Z\":\n",
    "        continue\n",
    "    aaa.append(i)\n",
    "aaa = ''.join(aaa)\n",
    "aaa"
   ],
   "metadata": {
    "collapsed": false,
    "ExecuteTime": {
     "start_time": "2023-04-11T11:54:37.442309Z",
     "end_time": "2023-04-11T11:54:37.472286Z"
    }
   }
  },
  {
   "cell_type": "code",
   "execution_count": 107,
   "outputs": [],
   "source": [
    "str = '''var observe24h_data = {\n",
    "    \"od\":{\n",
    "        \"od\":\"202109291100\",\"od1\":\"青岛\",\n",
    "        \"od2\":\n",
    "            [{\"od21\":\"11\",\"od22\":\"23\",\"od23\":\"323\",\"od24\":\"西北风\",\"od25\":\"3\",\"od26\":\"0\", \"od27\":\"71\", \"od28\":\"\"},\n",
    "             {\"od21\":\"10\",\"od22\":\"22\",\"od23\":\"332\",\"od24\":\"西北风\",\"od25\":\"3\",\"od26\":\"0.1\", \"od27\":\"75\", \"od28\":\"33\"}]}\n",
    "};'''\n"
   ],
   "metadata": {
    "collapsed": false,
    "ExecuteTime": {
     "start_time": "2023-04-11T13:24:39.801377Z",
     "end_time": "2023-04-11T13:24:39.863950Z"
    }
   }
  },
  {
   "cell_type": "code",
   "execution_count": 112,
   "outputs": [
    {
     "data": {
      "text/plain": "'var observe24h_data = {\\n    \"od\":{\\n        \"od\":\"202109291100\",\"od1\":\"青岛\",\\n        \"od2\":\\n            [{\"od21\":\"11\",\"od22\":\"23\",\"od23\":\"323\",\"od24\":\"西北风\",\"od25\":\"3\",\"od26\":\"0\", \"od27\":\"71\", \"od28\":\"\"},\\n             {\"od21\":\"10\",\"od22\":\"22\",\"od23\":\"332\",\"od24\":\"西北风\",\"od25\":\"3\",\"od26\":\"0.1\", \"od27\":\"75\", \"od28\":\"33\"}]}\\n};'"
     },
     "execution_count": 112,
     "metadata": {},
     "output_type": "execute_result"
    }
   ],
   "source": [
    "str.replace(\"\\n\", \"\").replace(\"\\n\", \"\").replace(\"\\t\", \"\")\n",
    "str"
   ],
   "metadata": {
    "collapsed": false,
    "ExecuteTime": {
     "start_time": "2023-04-11T13:24:53.068008Z",
     "end_time": "2023-04-11T13:24:53.114892Z"
    }
   }
  },
  {
   "cell_type": "code",
   "execution_count": 113,
   "outputs": [],
   "source": [
    "dirt_1 = \"\"\"{\n",
    "    \"od\":{                                                                                                                                                    \"od\":\"202109291100\",\"od1\":\"青岛\",\n",
    "        \"od2\":\n",
    "            [{\"od21\":\"11\",\"od22\":\"23\",\"od23\":\"323\",\"od24\":\"西北风\",\"od25\":\"3\",\"od26\":\"0\", \"od27\":\"71\", \"od28\":\"\"},\n",
    "             {\"od21\":\"10\",\"od22\":\"22\",\"od23\":\"332\",\"od24\":\"西北风\",\"od25\":\"3\",\"od26\":\"0.1\", \"od27\":\"75\", \"od28\":\"33\"}]}\n",
    "}\"\"\""
   ],
   "metadata": {
    "collapsed": false,
    "ExecuteTime": {
     "start_time": "2023-04-11T14:53:51.117040Z",
     "end_time": "2023-04-11T14:53:51.132692Z"
    }
   }
  },
  {
   "cell_type": "code",
   "execution_count": 119,
   "outputs": [
    {
     "data": {
      "text/plain": "'{\"od\":{\"od\":\"202109291100\",\"od1\":\"青岛\",\"od2\":[{\"od21\":\"11\",\"od22\":\"23\",\"od23\":\"323\",\"od24\":\"西北风\",\"od25\":\"3\",\"od26\":\"0\",\"od27\":\"71\",\"od28\":\"\"},{\"od21\":\"10\",\"od22\":\"22\",\"od23\":\"332\",\"od24\":\"西北风\",\"od25\":\"3\",\"od26\":\"0.1\",\"od27\":\"75\",\"od28\":\"33\"}]}}'"
     },
     "execution_count": 119,
     "metadata": {},
     "output_type": "execute_result"
    }
   ],
   "source": [
    "dirt_1 = dirt_1.replace(\" \", \"\").replace(\"\\n\", \"\").replace(\"\\t\", \"\")\n",
    "dirt_1 = ''.join(dirt_1)\n",
    "dirt_1"
   ],
   "metadata": {
    "collapsed": false,
    "ExecuteTime": {
     "start_time": "2023-04-11T14:54:34.253939Z",
     "end_time": "2023-04-11T14:54:34.285221Z"
    }
   }
  },
  {
   "cell_type": "code",
   "execution_count": 77,
   "outputs": [
    {
     "data": {
      "text/plain": "'0'"
     },
     "execution_count": 77,
     "metadata": {},
     "output_type": "execute_result"
    }
   ],
   "source": [
    "data = js.loads(dirt_1)\n",
    "data[\"od\"][\"od2\"][0]['od26']"
   ],
   "metadata": {
    "collapsed": false,
    "ExecuteTime": {
     "start_time": "2023-04-11T13:18:00.050258Z",
     "end_time": "2023-04-11T13:18:00.081635Z"
    }
   }
  },
  {
   "cell_type": "code",
   "execution_count": 38,
   "outputs": [
    {
     "data": {
      "text/plain": "<Figure size 432x288 with 1 Axes>",
      "image/png": "[encoded data removed]"
     },
     "metadata": {
      "needs_background": "light"
     },
     "output_type": "display_data"
    }
   ],
   "source": [
    "import matplotlib.pyplot as plt\n",
    "import numpy as np\n",
    "\n",
    "t = np.linspace(0, 7 * np.pi, 1000)\n",
    "\n",
    "x = 16 * np.sin(t) ** 3\n",
    "y = -1 * (13 * np.cos(t) - 5 * np.cos(2 * t) - 2 * np.cos(3 * t) - np.cos(4 * t))\n",
    "\n",
    "plt.plot(x, y, color='red')\n",
    "plt.axis('equal')\n",
    "plt.axis('off')\n",
    "plt.show()"
   ],
   "metadata": {
    "collapsed": false,
    "ExecuteTime": {
     "start_time": "2023-04-22T09:35:26.077524Z",
     "end_time": "2023-04-22T09:35:26.155641Z"
    }
   }
  },
  {
   "cell_type": "code",
   "execution_count": 64,
   "outputs": [],
   "source": [
    "# %matplotlib inline\n",
    "# import numpy as np\n",
    "# import matplotlib.pyplot as plt\n",
    "# import matplotlib as mlt\n",
    "#\n",
    "#\n",
    "# x = np.arange(1, 0, -0.001)\n",
    "# y = (-3 * x * np.log(x) + np.exp(-(50 * (x - 1 / np.e)) ** 4) / 25) / 2\n",
    "# plt.figure(figsize=(5,7))\n",
    "# plt.plot(y, x, 'r-', linewidth=2)\n",
    "# plt.grid(True)\n",
    "# plt.show()"
   ],
   "metadata": {
    "collapsed": false,
    "ExecuteTime": {
     "start_time": "2023-04-22T10:26:21.533649Z",
     "end_time": "2023-04-22T10:26:21.580531Z"
    }
   }
  },
  {
   "cell_type": "code",
   "execution_count": 65,
   "outputs": [
    {
     "data": {
      "text/plain": "<Figure size 432x288 with 1 Axes>",
      "image/png": "[encoded data removed]"
     },
     "metadata": {
      "needs_background": "light"
     },
     "output_type": "display_data"
    }
   ],
   "source": [
    "import matplotlib.pyplot as plt\n",
    "import numpy as np\n",
    "\n",
    "t = np.linspace(0, 7 * np.pi, 1000)\n",
    "\n",
    "x = 16 * np.sin(t) ** 3\n",
    "y = 13 * np.cos(t) - 5 * np.cos(2 * t) - 2 * np.cos(3 * t) - np.cos(4 * t)\n",
    "\n",
    "plt.plot(x, y, color='red')\n",
    "plt.axis('equal')\n",
    "plt.axis('off')\n",
    "plt.show()\n"
   ],
   "metadata": {
    "collapsed": false,
    "ExecuteTime": {
     "start_time": "2023-04-22T10:26:37.301967Z",
     "end_time": "2023-04-22T10:26:37.386745Z"
    }
   }
  },
  {
   "cell_type": "code",
   "execution_count": 74,
   "outputs": [
    {
     "data": {
      "text/plain": "'1224'"
     },
     "execution_count": 74,
     "metadata": {},
     "output_type": "execute_result"
    }
   ],
   "source": [
    "l = [1, 2, 2, 4]\n",
    "l1 = ''.join(str(i) for i in l)\n",
    "l1"
   ],
   "metadata": {
    "collapsed": false,
    "ExecuteTime": {
     "start_time": "2023-04-22T10:56:38.033138Z",
     "end_time": "2023-04-22T10:56:38.095728Z"
    }
   }
  },
  {
   "cell_type": "code",
   "execution_count": 123,
   "outputs": [
    {
     "name": "stdout",
     "output_type": "stream",
     "text": [
      "21\n",
      "22\n",
      "23\n",
      "11\n",
      "22\n",
      "23\n",
      "22\n",
      "23\n",
      "12\n",
      "23\n",
      "23\n",
      "13\n"
     ]
    }
   ],
   "source": [
    "L = \"1122331\"\n",
    "for i in range(len(L)):\n",
    "    # print(f'这是第i:{i}个数{L[i]}')\n",
    "\n",
    "    for j in range(i + 1, len(L)):\n",
    "        if L[i] == L[j]:\n",
    "            continue\n",
    "        else:\n",
    "            # print(j-i)\n",
    "            S = str(j - i) + str(L[i])\n",
    "            i = j\n",
    "            print(S)\n",
    "        # if i == len(L)-1:\n",
    "        #     print(L[i])\n",
    "        #     break\n"
   ],
   "metadata": {
    "collapsed": false,
    "ExecuteTime": {
     "start_time": "2023-04-22T14:35:22.231449Z",
     "end_time": "2023-04-22T14:35:22.247077Z"
    }
   }
  },
  {
   "cell_type": "code",
   "execution_count": 176,
   "outputs": [
    {
     "name": "stdout",
     "output_type": "stream",
     "text": [
      "2112232214\n"
     ]
    }
   ],
   "source": [
    "L = \"11233224\"\n",
    "N = len(L)\n",
    "i = 0  #索引\n",
    "result = []\n",
    "shulie = []\n",
    "\n",
    "while i < N:\n",
    "    j = i + 1  #第二个数的索引\n",
    "    while j < N and L[j] == L[i]:  #判定第一个索引是否和第二个索引指向的数一样，如果不一样第二个索引向后移动一位\n",
    "        j += 1\n",
    "    count = j - i  #判断重复的数字出现了多少次\n",
    "    result.append(str(count) + L[i])  #向临时的列表中添加数字出现的次数和重复的数字\n",
    "    i = j\n",
    "shulie.append(''.join(result))  #将列表中的元素连结\n",
    "print(''.join(shulie))\n",
    "# result"
   ],
   "metadata": {
    "collapsed": false,
    "ExecuteTime": {
     "start_time": "2023-04-22T16:59:33.444470Z",
     "end_time": "2023-04-22T16:59:33.472069Z"
    }
   }
  },
  {
   "cell_type": "code",
   "execution_count": 190,
   "outputs": [
    {
     "name": "stdout",
     "output_type": "stream",
     "text": [
      "1\n"
     ]
    }
   ],
   "source": [
    "x = int(input('请输入第?个数列'))\n",
    "y = x\n",
    "L = \"1\"  # 起始字符\n",
    "shulie = [\"1\"]  #起始列表\n",
    "\n",
    "while x > 1:  #判定循环次数\n",
    "    N = len(L)  #字符串L的长度\n",
    "    i = 0  #起始索引\n",
    "    result = \"\"  #临时字符串\n",
    "    while i < N:  #判断：当索引数小于字符串长度时\n",
    "        j = i + 1  #将第二个索引指向起始索引后一位\n",
    "        while j < N and L[j] == L[i]:  #判断：当第二个索引小于字符长度，且两个索引指向的元素相同时\n",
    "            j += 1  #将第二个索引后移一位\n",
    "        count = j - i  #当两个索引指向元素不同时，计算前面元素重复出现的次数\n",
    "        result = result + str(count) + L[i]  #将临时的字符串更改为描述数列\n",
    "        i = j  #将索引位置重新指向\n",
    "    L = result  #上述循环中的描述数列替换L中的数列\n",
    "    shulie.append(result)\n",
    "    x = x - 1\n",
    "print(shulie[y - 1])"
   ],
   "metadata": {
    "collapsed": false,
    "ExecuteTime": {
     "start_time": "2023-04-22T19:51:16.264307Z",
     "end_time": "2023-04-22T19:51:17.599872Z"
    }
   }
  },
  {
   "cell_type": "code",
   "execution_count": 147,
   "outputs": [
    {
     "data": {
      "text/plain": "4"
     },
     "execution_count": 147,
     "metadata": {},
     "output_type": "execute_result"
    }
   ],
   "source": [
    "# x = int(input('请输入第？个数列'))\n",
    "# shulie = [\"1\"]\n",
    "# while x > 0:\n",
    "#\n",
    "#     N = len(result[0])\n"
   ],
   "metadata": {
    "collapsed": false,
    "ExecuteTime": {
     "start_time": "2023-04-22T15:13:45.375189Z",
     "end_time": "2023-04-22T15:13:47.241279Z"
    }
   }
  },
  {
   "cell_type": "code",
   "execution_count": 168,
   "outputs": [
    {
     "data": {
      "text/plain": "str"
     },
     "execution_count": 168,
     "metadata": {},
     "output_type": "execute_result"
    }
   ],
   "source": [
    "def A005150(n):\n",
    "    p = \"1\"\n",
    "    seq = [1]\n",
    "    while (n > 1):\n",
    "        q = ''  #初始化临时字符\n",
    "        idx = 0  # 索引\n",
    "        l = len(p)  # 字符p的长度\n",
    "        while idx < l:  #当索引数小于字符p的长度时\n",
    "            start = idx  #第一个索引指向起始位置\n",
    "            idx = idx + 1  #第二个索引向后移动一位\n",
    "            while idx < l and p[idx] == p[start]:  #当索引数小于字符长度，且字符的两个索引指向的元素相同时\n",
    "                idx = idx + 1  #第二个索引再次向后移动一位\n",
    "            q = q + str(idx - start) + p[start]  #当两个索引指向不同时，将重复元素出现的次数和重复元素连结\n",
    "        n, p = n - 1, q  #循环判定，并且将起始字符替换为描述字符\n",
    "        seq.append(int(p))  #将数列添加到列表中\n",
    "    return seq\n",
    "\n",
    "\n",
    "type(str(A005150(2)[1]))"
   ],
   "metadata": {
    "collapsed": false,
    "ExecuteTime": {
     "start_time": "2023-04-22T16:37:32.743964Z",
     "end_time": "2023-04-22T16:37:32.769991Z"
    }
   }
  },
  {
   "cell_type": "code",
   "execution_count": 34,
   "outputs": [
    {
     "data": {
      "text/plain": "   序号   user_id      user_name     chann_id   city_id   system  age  \\\n0   1  10013788            敖大戴     guide_01  city0138      IOS   46   \n1   2  10048735  浦葛卫之翼环城店一一柯晓闫     union_03  city0548      IOS   60   \n2   3  10062827    亡命天涯不如早点回卜。    search_02  city0061  Android   54   \n3   4  10066683            闵屈戎     union_01  city0454      IOS   32   \n4   5  10294804    姚建平AzQoe545  platform_01  city0133       PC   33   \n\n      phonenum sex       创建时间 platform  国家  地区  省份 city chann_name  订单量  销量  \\\n0  152****6601   女 2017-03-25      APP  中国  华北  河北   南宫     hao123    6  28   \n1  171****1663   女 2017-10-25      APP  中国  中南  湖南   耒阳       百度网盟    4  36   \n2  180****9153   女 2018-01-18      APP  中国  东北  吉林   辉南       百度联盟    4  16   \n3  133****1258   男 2018-02-10      APP  中国  中南  广东   台城      360网盟    4  19   \n4  184****3820   女 2019-08-30       PC  中国  华北  河北   邯郸       今日头条    4  12   \n\n      消费金额     实付金额  \n0  13014.6  12614.6  \n1  28839.2  26979.2  \n2   4294.8   4294.8  \n3   3552.4   3512.4  \n4   1582.5   1392.5  ",
      "text/html": "<div>\n<style scoped>\n    .dataframe tbody tr th:only-of-type {\n        vertical-align: middle;\n    }\n\n    .dataframe tbody tr th {\n        vertical-align: top;\n    }\n\n    .dataframe thead th {\n        text-align: right;\n    }\n</style>\n<table border=\"1\" class=\"dataframe\">\n  <thead>\n    <tr style=\"text-align: right;\">\n      <th></th>\n      <th>序号</th>\n      <th>user_id</th>\n      <th>user_name</th>\n      <th>chann_id</th>\n      <th>city_id</th>\n      <th>system</th>\n      <th>age</th>\n      <th>phonenum</th>\n      <th>sex</th>\n      <th>创建时间</th>\n      <th>platform</th>\n      <th>国家</th>\n      <th>地区</th>\n      <th>省份</th>\n      <th>city</th>\n      <th>chann_name</th>\n      <th>订单量</th>\n      <th>销量</th>\n      <th>消费金额</th>\n      <th>实付金额</th>\n    </tr>\n  </thead>\n  <tbody>\n    <tr>\n      <th>0</th>\n      <td>1</td>\n      <td>10013788</td>\n      <td>敖大戴</td>\n      <td>guide_01</td>\n      <td>city0138</td>\n      <td>IOS</td>\n      <td>46</td>\n      <td>152****6601</td>\n      <td>女</td>\n      <td>2017-03-25</td>\n      <td>APP</td>\n      <td>中国</td>\n      <td>华北</td>\n      <td>河北</td>\n      <td>南宫</td>\n      <td>hao123</td>\n      <td>6</td>\n      <td>28</td>\n      <td>13014.6</td>\n      <td>12614.6</td>\n    </tr>\n    <tr>\n      <th>1</th>\n      <td>2</td>\n      <td>10048735</td>\n      <td>浦葛卫之翼环城店一一柯晓闫</td>\n      <td>union_03</td>\n      <td>city0548</td>\n      <td>IOS</td>\n      <td>60</td>\n      <td>171****1663</td>\n      <td>女</td>\n      <td>2017-10-25</td>\n      <td>APP</td>\n      <td>中国</td>\n      <td>中南</td>\n      <td>湖南</td>\n      <td>耒阳</td>\n      <td>百度网盟</td>\n      <td>4</td>\n      <td>36</td>\n      <td>28839.2</td>\n      <td>26979.2</td>\n    </tr>\n    <tr>\n      <th>2</th>\n      <td>3</td>\n      <td>10062827</td>\n      <td>亡命天涯不如早点回卜。</td>\n      <td>search_02</td>\n      <td>city0061</td>\n      <td>Android</td>\n      <td>54</td>\n      <td>180****9153</td>\n      <td>女</td>\n      <td>2018-01-18</td>\n      <td>APP</td>\n      <td>中国</td>\n      <td>东北</td>\n      <td>吉林</td>\n      <td>辉南</td>\n      <td>百度联盟</td>\n      <td>4</td>\n      <td>16</td>\n      <td>4294.8</td>\n      <td>4294.8</td>\n    </tr>\n    <tr>\n      <th>3</th>\n      <td>4</td>\n      <td>10066683</td>\n      <td>闵屈戎</td>\n      <td>union_01</td>\n      <td>city0454</td>\n      <td>IOS</td>\n      <td>32</td>\n      <td>133****1258</td>\n      <td>男</td>\n      <td>2018-02-10</td>\n      <td>APP</td>\n      <td>中国</td>\n      <td>中南</td>\n      <td>广东</td>\n      <td>台城</td>\n      <td>360网盟</td>\n      <td>4</td>\n      <td>19</td>\n      <td>3552.4</td>\n      <td>3512.4</td>\n    </tr>\n    <tr>\n      <th>4</th>\n      <td>5</td>\n      <td>10294804</td>\n      <td>姚建平AzQoe545</td>\n      <td>platform_01</td>\n      <td>city0133</td>\n      <td>PC</td>\n      <td>33</td>\n      <td>184****3820</td>\n      <td>女</td>\n      <td>2019-08-30</td>\n      <td>PC</td>\n      <td>中国</td>\n      <td>华北</td>\n      <td>河北</td>\n      <td>邯郸</td>\n      <td>今日头条</td>\n      <td>4</td>\n      <td>12</td>\n      <td>1582.5</td>\n      <td>1392.5</td>\n    </tr>\n  </tbody>\n</table>\n</div>"
     },
     "execution_count": 34,
     "metadata": {},
     "output_type": "execute_result"
    }
   ],
   "source": [
    "df = pd.read_excel('./data/销售数据.xlsx')\n",
    "df.head()"
   ],
   "metadata": {
    "collapsed": false,
    "ExecuteTime": {
     "start_time": "2023-04-25T16:43:02.852742Z",
     "end_time": "2023-04-25T16:43:22.158112Z"
    }
   }
  },
  {
   "cell_type": "code",
   "execution_count": 24,
   "outputs": [
    {
     "name": "stdout",
     "output_type": "stream",
     "text": [
      "数字2在列B中所占的比例为：32.26%\n"
     ]
    }
   ],
   "source": [
    "import pandas as pd\n",
    "\n",
    "# 创建一个DataFrame对象\n",
    "df = pd.DataFrame({'A': [1, 2, 2, 3, 3, 3], 'B': [4, 5, 5, 5, 6, 6]})\n",
    "\n",
    "# 计算表格中数字2在列A中所占的比例\n",
    "proportion = df.loc[df['A'] == 2, 'B'].sum() / df['B'].sum()\n",
    "print('数字2在列B中所占的比例为：{:.2%}'.format(proportion))"
   ],
   "metadata": {
    "collapsed": false,
    "ExecuteTime": {
     "start_time": "2023-04-25T16:18:59.589256Z",
     "end_time": "2023-04-25T16:18:59.651047Z"
    }
   }
  },
  {
   "cell_type": "code",
   "execution_count": 45,
   "outputs": [
    {
     "data": {
      "text/plain": "          序号   user_id     user_name     chann_id   city_id system  age  \\\n4          5  10294804   姚建平AzQoe545  platform_01  city0133     PC   33   \n6          7  10112157           嵇模会     guide_03  city0153     PC   27   \n9         10  10017908            姚征     union_02  city0133     PC   33   \n14        15  10078244         厉淡风更轻    search_03  city0428     PC   26   \n15        16  10092197           神习病  platform_01  city0144     PC   24   \n...      ...       ...           ...          ...       ...    ...  ...   \n60541  60542  10413694    杜鹏ToGc8145    search_03  city0142     PC   43   \n60542  60543  10413707     林畅oep1566    search_01  city0098     PC   34   \n60543  60544  10413815    叶婷kIbtl868  platform_02  city0260     PC   20   \n60545  60546  10413958  李洁viWpoZ3548     union_01  city0177     PC   42   \n60546  60547  10414342       吴俊E9667     guide_02  city0089     PC   23   \n\n          phonenum sex       创建时间  ...  国家  地区   省份 city chann_name 订单量  销量  \\\n4      184****3820   女 2019-08-30  ...  中国  华北   河北   邯郸       今日头条   4  12   \n6      135****8470   女 2018-11-15  ...  中国  华北  内蒙古   东胜       搜狗导航   4  15   \n9      181****1096   男 2017-04-19  ...  中国  华北   河北   邯郸       谷歌网盟   3   6   \n14     153****0454   男 2018-04-22  ...  中国  中南   广东   河坡       百度橱窗   3  40   \n15     132****3678   男 2018-07-16  ...  中国  华北   河北   唐山       今日头条   3  10   \n...            ...  ..        ...  ...  ..  ..  ...  ...        ...  ..  ..   \n60541  198****3423   女 2020-01-26  ...  中国  华北   河北  石家庄       百度橱窗   0   0   \n60542  153****9158   女 2020-01-26  ...  中国  东北   辽宁   凤城      百度关键词   0   0   \n60543  150****2116   女 2020-01-26  ...  中国  华东   山东   安丘       网易有道   0   0   \n60545  196****3701   女 2020-01-27  ...  中国  华北   山西   长治      360网盟   0   0   \n60546  175****8672   男 2020-01-27  ...  中国  东北   吉林  郑家屯      360导航   0   0   \n\n           消费金额      实付金额    实付金额占比  \n4       1582.50   1392.50  0.000055  \n6       7904.80   7904.80  0.000313  \n9        687.50    687.50  0.000027  \n14     21709.91  20029.91  0.000794  \n15     61479.90  61449.90  0.002435  \n...         ...       ...       ...  \n60541      0.00      0.00  0.000000  \n60542      0.00      0.00  0.000000  \n60543      0.00      0.00  0.000000  \n60545      0.00      0.00  0.000000  \n60546      0.00      0.00  0.000000  \n\n[19061 rows x 21 columns]",
      "text/html": "<div>\n<style scoped>\n    .dataframe tbody tr th:only-of-type {\n        vertical-align: middle;\n    }\n\n    .dataframe tbody tr th {\n        vertical-align: top;\n    }\n\n    .dataframe thead th {\n        text-align: right;\n    }\n</style>\n<table border=\"1\" class=\"dataframe\">\n  <thead>\n    <tr style=\"text-align: right;\">\n      <th></th>\n      <th>序号</th>\n      <th>user_id</th>\n      <th>user_name</th>\n      <th>chann_id</th>\n      <th>city_id</th>\n      <th>system</th>\n      <th>age</th>\n      <th>phonenum</th>\n      <th>sex</th>\n      <th>创建时间</th>\n      <th>...</th>\n      <th>国家</th>\n      <th>地区</th>\n      <th>省份</th>\n      <th>city</th>\n      <th>chann_name</th>\n      <th>订单量</th>\n      <th>销量</th>\n      <th>消费金额</th>\n      <th>实付金额</th>\n      <th>实付金额占比</th>\n    </tr>\n  </thead>\n  <tbody>\n    <tr>\n      <th>4</th>\n      <td>5</td>\n      <td>10294804</td>\n      <td>姚建平AzQoe545</td>\n      <td>platform_01</td>\n      <td>city0133</td>\n      <td>PC</td>\n      <td>33</td>\n      <td>184****3820</td>\n      <td>女</td>\n      <td>2019-08-30</td>\n      <td>...</td>\n      <td>中国</td>\n      <td>华北</td>\n      <td>河北</td>\n      <td>邯郸</td>\n      <td>今日头条</td>\n      <td>4</td>\n      <td>12</td>\n      <td>1582.50</td>\n      <td>1392.50</td>\n      <td>0.000055</td>\n    </tr>\n    <tr>\n      <th>6</th>\n      <td>7</td>\n      <td>10112157</td>\n      <td>嵇模会</td>\n      <td>guide_03</td>\n      <td>city0153</td>\n      <td>PC</td>\n      <td>27</td>\n      <td>135****8470</td>\n      <td>女</td>\n      <td>2018-11-15</td>\n      <td>...</td>\n      <td>中国</td>\n      <td>华北</td>\n      <td>内蒙古</td>\n      <td>东胜</td>\n      <td>搜狗导航</td>\n      <td>4</td>\n      <td>15</td>\n      <td>7904.80</td>\n      <td>7904.80</td>\n      <td>0.000313</td>\n    </tr>\n    <tr>\n      <th>9</th>\n      <td>10</td>\n      <td>10017908</td>\n      <td>姚征</td>\n      <td>union_02</td>\n      <td>city0133</td>\n      <td>PC</td>\n      <td>33</td>\n      <td>181****1096</td>\n      <td>男</td>\n      <td>2017-04-19</td>\n      <td>...</td>\n      <td>中国</td>\n      <td>华北</td>\n      <td>河北</td>\n      <td>邯郸</td>\n      <td>谷歌网盟</td>\n      <td>3</td>\n      <td>6</td>\n      <td>687.50</td>\n      <td>687.50</td>\n      <td>0.000027</td>\n    </tr>\n    <tr>\n      <th>14</th>\n      <td>15</td>\n      <td>10078244</td>\n      <td>厉淡风更轻</td>\n      <td>search_03</td>\n      <td>city0428</td>\n      <td>PC</td>\n      <td>26</td>\n      <td>153****0454</td>\n      <td>男</td>\n      <td>2018-04-22</td>\n      <td>...</td>\n      <td>中国</td>\n      <td>中南</td>\n      <td>广东</td>\n      <td>河坡</td>\n      <td>百度橱窗</td>\n      <td>3</td>\n      <td>40</td>\n      <td>21709.91</td>\n      <td>20029.91</td>\n      <td>0.000794</td>\n    </tr>\n    <tr>\n      <th>15</th>\n      <td>16</td>\n      <td>10092197</td>\n      <td>神习病</td>\n      <td>platform_01</td>\n      <td>city0144</td>\n      <td>PC</td>\n      <td>24</td>\n      <td>132****3678</td>\n      <td>男</td>\n      <td>2018-07-16</td>\n      <td>...</td>\n      <td>中国</td>\n      <td>华北</td>\n      <td>河北</td>\n      <td>唐山</td>\n      <td>今日头条</td>\n      <td>3</td>\n      <td>10</td>\n      <td>61479.90</td>\n      <td>61449.90</td>\n      <td>0.002435</td>\n    </tr>\n    <tr>\n      <th>...</th>\n      <td>...</td>\n      <td>...</td>\n      <td>...</td>\n      <td>...</td>\n      <td>...</td>\n      <td>...</td>\n      <td>...</td>\n      <td>...</td>\n      <td>...</td>\n      <td>...</td>\n      <td>...</td>\n      <td>...</td>\n      <td>...</td>\n      <td>...</td>\n      <td>...</td>\n      <td>...</td>\n      <td>...</td>\n      <td>...</td>\n      <td>...</td>\n      <td>...</td>\n      <td>...</td>\n    </tr>\n    <tr>\n      <th>60541</th>\n      <td>60542</td>\n      <td>10413694</td>\n      <td>杜鹏ToGc8145</td>\n      <td>search_03</td>\n      <td>city0142</td>\n      <td>PC</td>\n      <td>43</td>\n      <td>198****3423</td>\n      <td>女</td>\n      <td>2020-01-26</td>\n      <td>...</td>\n      <td>中国</td>\n      <td>华北</td>\n      <td>河北</td>\n      <td>石家庄</td>\n      <td>百度橱窗</td>\n      <td>0</td>\n      <td>0</td>\n      <td>0.00</td>\n      <td>0.00</td>\n      <td>0.000000</td>\n    </tr>\n    <tr>\n      <th>60542</th>\n      <td>60543</td>\n      <td>10413707</td>\n      <td>林畅oep1566</td>\n      <td>search_01</td>\n      <td>city0098</td>\n      <td>PC</td>\n      <td>34</td>\n      <td>153****9158</td>\n      <td>女</td>\n      <td>2020-01-26</td>\n      <td>...</td>\n      <td>中国</td>\n      <td>东北</td>\n      <td>辽宁</td>\n      <td>凤城</td>\n      <td>百度关键词</td>\n      <td>0</td>\n      <td>0</td>\n      <td>0.00</td>\n      <td>0.00</td>\n      <td>0.000000</td>\n    </tr>\n    <tr>\n      <th>60543</th>\n      <td>60544</td>\n      <td>10413815</td>\n      <td>叶婷kIbtl868</td>\n      <td>platform_02</td>\n      <td>city0260</td>\n      <td>PC</td>\n      <td>20</td>\n      <td>150****2116</td>\n      <td>女</td>\n      <td>2020-01-26</td>\n      <td>...</td>\n      <td>中国</td>\n      <td>华东</td>\n      <td>山东</td>\n      <td>安丘</td>\n      <td>网易有道</td>\n      <td>0</td>\n      <td>0</td>\n      <td>0.00</td>\n      <td>0.00</td>\n      <td>0.000000</td>\n    </tr>\n    <tr>\n      <th>60545</th>\n      <td>60546</td>\n      <td>10413958</td>\n      <td>李洁viWpoZ3548</td>\n      <td>union_01</td>\n      <td>city0177</td>\n      <td>PC</td>\n      <td>42</td>\n      <td>196****3701</td>\n      <td>女</td>\n      <td>2020-01-27</td>\n      <td>...</td>\n      <td>中国</td>\n      <td>华北</td>\n      <td>山西</td>\n      <td>长治</td>\n      <td>360网盟</td>\n      <td>0</td>\n      <td>0</td>\n      <td>0.00</td>\n      <td>0.00</td>\n      <td>0.000000</td>\n    </tr>\n    <tr>\n      <th>60546</th>\n      <td>60547</td>\n      <td>10414342</td>\n      <td>吴俊E9667</td>\n      <td>guide_02</td>\n      <td>city0089</td>\n      <td>PC</td>\n      <td>23</td>\n      <td>175****8672</td>\n      <td>男</td>\n      <td>2020-01-27</td>\n      <td>...</td>\n      <td>中国</td>\n      <td>东北</td>\n      <td>吉林</td>\n      <td>郑家屯</td>\n      <td>360导航</td>\n      <td>0</td>\n      <td>0</td>\n      <td>0.00</td>\n      <td>0.00</td>\n      <td>0.000000</td>\n    </tr>\n  </tbody>\n</table>\n<p>19061 rows × 21 columns</p>\n</div>"
     },
     "execution_count": 45,
     "metadata": {},
     "output_type": "execute_result"
    }
   ],
   "source": [
    "df_1 = df.query(\"system=='PC'\")\n",
    "df_1['实付金额占比'] = None\n",
    "df_1\n",
    "df_1['实付金额占比'] = df_1[\"实付金额\"] / df_1[\"实付金额\"].sum()\n"
   ],
   "metadata": {
    "collapsed": false,
    "ExecuteTime": {
     "start_time": "2023-04-25T16:53:36.622147Z",
     "end_time": "2023-04-25T16:53:36.676998Z"
    }
   }
  },
  {
   "cell_type": "markdown",
   "source": [
    "### 选择排序"
   ],
   "metadata": {
    "collapsed": false
   }
  },
  {
   "cell_type": "code",
   "execution_count": 1,
   "outputs": [],
   "source": [
    "#找出数组中最小的那个数\n",
    "def findSmallist(arr):\n",
    "    smallest = arr[0]\n",
    "    smallest_index = 0\n",
    "    for i in range(len(arr)):\n",
    "        if arr[i] < smallest:\n",
    "            smallest = arr[i]\n",
    "            smallest_index = i\n",
    "    #返回最小数的索引\n",
    "    return smallest_index"
   ],
   "metadata": {
    "collapsed": false,
    "ExecuteTime": {
     "start_time": "2023-05-05T11:00:00.243782Z",
     "end_time": "2023-05-05T11:00:00.258941Z"
    }
   }
  },
  {
   "cell_type": "code",
   "execution_count": 9,
   "outputs": [],
   "source": [
    "#调用上述函数，找出数组中最小的那个数，将原数组中的那个数移除，添加到排序好的新数组中\n",
    "def selectionSort(arr):\n",
    "    newArr = list()\n",
    "    for i in range(len(arr)):\n",
    "        smallest = findSmallist(arr)\n",
    "        newArr.append(arr.pop(smallest))\n",
    "    return newArr"
   ],
   "metadata": {
    "collapsed": false,
    "ExecuteTime": {
     "start_time": "2023-05-05T11:09:42.183723Z",
     "end_time": "2023-05-05T11:09:42.211642Z"
    }
   }
  },
  {
   "cell_type": "code",
   "execution_count": 10,
   "outputs": [
    {
     "data": {
      "text/plain": "[1, 2, 3, 4, 5, 6, 7, 9]"
     },
     "execution_count": 10,
     "metadata": {},
     "output_type": "execute_result"
    }
   ],
   "source": [
    "a = [3,6,7,9,1,2,4,5]\n",
    "selectionSort(a)"
   ],
   "metadata": {
    "collapsed": false,
    "ExecuteTime": {
     "start_time": "2023-05-05T11:09:52.251355Z",
     "end_time": "2023-05-05T11:09:52.272336Z"
    }
   }
  },
  {
   "cell_type": "code",
   "execution_count": 1,
   "outputs": [],
   "source": [
    "#无限次的递归\n",
    "# def a(x):\n",
    "#     print(x)\n",
    "#     a(x-1)"
   ],
   "metadata": {
    "collapsed": false,
    "ExecuteTime": {
     "start_time": "2023-05-05T11:22:08.630294Z",
     "end_time": "2023-05-05T11:22:08.655785Z"
    }
   }
  },
  {
   "cell_type": "markdown",
   "source": [
    "### 快速排序"
   ],
   "metadata": {
    "collapsed": false
   }
  },
  {
   "cell_type": "code",
   "execution_count": 5,
   "outputs": [],
   "source": [
    "#使用递归制作一个快速排序函数\n",
    "def quicksort(array):\n",
    "    if len(array) < 2:\n",
    "        return array\n",
    "    else:\n",
    "        pivot = array[0]\n",
    "        less = [i for i in array[1:] if i <= pivot]\n",
    "        greater = [i for i in array[1:] if i > pivot]\n",
    "        return  quicksort(less) + [pivot] + quicksort(greater)\n"
   ],
   "metadata": {
    "collapsed": false,
    "ExecuteTime": {
     "start_time": "2023-05-05T15:23:48.470392Z",
     "end_time": "2023-05-05T15:23:48.497322Z"
    }
   }
  },
  {
   "cell_type": "code",
   "execution_count": 6,
   "outputs": [
    {
     "data": {
      "text/plain": "[21, 27, 27, 38, 50, 56, 61, 78]"
     },
     "execution_count": 6,
     "metadata": {},
     "output_type": "execute_result"
    }
   ],
   "source": [
    "a = [78,56,21,27,61,38,27,50]\n",
    "quicksort(a)"
   ],
   "metadata": {
    "collapsed": false,
    "ExecuteTime": {
     "start_time": "2023-05-05T15:24:31.421133Z",
     "end_time": "2023-05-05T15:24:31.446837Z"
    }
   }
  },
  {
   "cell_type": "markdown",
   "source": [
    "## 27.移除元素"
   ],
   "metadata": {
    "collapsed": false
   }
  },
  {
   "cell_type": "code",
   "execution_count": 8,
   "outputs": [
    {
     "data": {
      "text/plain": "5"
     },
     "execution_count": 8,
     "metadata": {},
     "output_type": "execute_result"
    }
   ],
   "source": [
    "nums = [0,1,2,2,3,0,4,2]\n",
    "val = 2\n",
    "slow = 0\n",
    "fast = 0\n",
    "while fast <= len(nums) - 1:\n",
    "    if nums[fast] != val:\n",
    "        nums[slow] = nums[fast]\n",
    "        slow += 1\n",
    "        pass\n",
    "    fast += 1\n",
    "nums\n",
    "slow"
   ],
   "metadata": {
    "collapsed": false,
    "ExecuteTime": {
     "start_time": "2023-05-06T16:26:39.209921Z",
     "end_time": "2023-05-06T16:26:39.222882Z"
    }
   }
  },
  {
   "cell_type": "code",
   "execution_count": 9,
   "outputs": [],
   "source": [
    "slow?"
   ],
   "metadata": {
    "collapsed": false,
    "ExecuteTime": {
     "start_time": "2023-05-06T16:42:17.213826Z",
     "end_time": "2023-05-06T16:42:17.246570Z"
    }
   }
  }
 ],
 "metadata": {
  "kernelspec": {
   "display_name": "Python 3",
   "language": "python",
   "name": "python3"
  },
  "language_info": {
   "codemirror_mode": {
    "name": "ipython",
    "version": 2
   },
   "file_extension": ".py",
   "mimetype": "text/x-python",
   "name": "python",
   "nbconvert_exporter": "python",
   "pygments_lexer": "ipython2",
   "version": "2.7.6"
  }
 },
 "nbformat": 4,
 "nbformat_minor": 0
}
