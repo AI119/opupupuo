{
 "cells": [
  {
   "cell_type": "code",
   "execution_count": 20,
   "metadata": {
    "collapsed": true,
    "ExecuteTime": {
     "start_time": "2023-04-11T12:01:31.934639Z",
     "end_time": "2023-04-11T12:01:31.950261Z"
    }
   },
   "outputs": [],
   "source": [
    "import pandas as pd\n",
    "import json as js"
   ]
  },
  {
   "cell_type": "code",
   "execution_count": 19,
   "outputs": [
    {
     "data": {
      "text/plain": "'中文字符中文字符中文字符'"
     },
     "execution_count": 19,
     "metadata": {},
     "output_type": "execute_result"
    }
   ],
   "source": [
    "str = '中123文asfasd字\\t符\\n中asdas文\\t\\t字符123456中文字符'\n",
    "str = str.split()\n",
    "str = ''.join(str)\n",
    "str\n",
    "aaa = []\n",
    "for i in str:\n",
    "    if str.isdigit() or '0' < i < '9' or \"a\" <= i <= \"z\" or 'A' <= i <= \"Z\":\n",
    "        continue\n",
    "    aaa.append(i)\n",
    "aaa = ''.join(aaa)\n",
    "aaa"
   ],
   "metadata": {
    "collapsed": false,
    "ExecuteTime": {
     "start_time": "2023-04-11T11:54:37.442309Z",
     "end_time": "2023-04-11T11:54:37.472286Z"
    }
   }
  },
  {
   "cell_type": "code",
   "execution_count": 107,
   "outputs": [],
   "source": [
    "str = '''var observe24h_data = {\n",
    "    \"od\":{\n",
    "        \"od\":\"202109291100\",\"od1\":\"青岛\",\n",
    "        \"od2\":\n",
    "            [{\"od21\":\"11\",\"od22\":\"23\",\"od23\":\"323\",\"od24\":\"西北风\",\"od25\":\"3\",\"od26\":\"0\", \"od27\":\"71\", \"od28\":\"\"},\n",
    "             {\"od21\":\"10\",\"od22\":\"22\",\"od23\":\"332\",\"od24\":\"西北风\",\"od25\":\"3\",\"od26\":\"0.1\", \"od27\":\"75\", \"od28\":\"33\"}]}\n",
    "};'''\n"
   ],
   "metadata": {
    "collapsed": false,
    "ExecuteTime": {
     "start_time": "2023-04-11T13:24:39.801377Z",
     "end_time": "2023-04-11T13:24:39.863950Z"
    }
   }
  },
  {
   "cell_type": "code",
   "execution_count": 112,
   "outputs": [
    {
     "data": {
      "text/plain": "'var observe24h_data = {\\n    \"od\":{\\n        \"od\":\"202109291100\",\"od1\":\"青岛\",\\n        \"od2\":\\n            [{\"od21\":\"11\",\"od22\":\"23\",\"od23\":\"323\",\"od24\":\"西北风\",\"od25\":\"3\",\"od26\":\"0\", \"od27\":\"71\", \"od28\":\"\"},\\n             {\"od21\":\"10\",\"od22\":\"22\",\"od23\":\"332\",\"od24\":\"西北风\",\"od25\":\"3\",\"od26\":\"0.1\", \"od27\":\"75\", \"od28\":\"33\"}]}\\n};'"
     },
     "execution_count": 112,
     "metadata": {},
     "output_type": "execute_result"
    }
   ],
   "source": [
    "str.replace(\"\\n\", \"\").replace(\"\\n\", \"\").replace(\"\\t\", \"\")\n",
    "str"
   ],
   "metadata": {
    "collapsed": false,
    "ExecuteTime": {
     "start_time": "2023-04-11T13:24:53.068008Z",
     "end_time": "2023-04-11T13:24:53.114892Z"
    }
   }
  },
  {
   "cell_type": "code",
   "execution_count": 113,
   "outputs": [],
   "source": [
    "dirt_1 = \"\"\"{\n",
    "    \"od\":{                                                                                                                                                    \"od\":\"202109291100\",\"od1\":\"青岛\",\n",
    "        \"od2\":\n",
    "            [{\"od21\":\"11\",\"od22\":\"23\",\"od23\":\"323\",\"od24\":\"西北风\",\"od25\":\"3\",\"od26\":\"0\", \"od27\":\"71\", \"od28\":\"\"},\n",
    "             {\"od21\":\"10\",\"od22\":\"22\",\"od23\":\"332\",\"od24\":\"西北风\",\"od25\":\"3\",\"od26\":\"0.1\", \"od27\":\"75\", \"od28\":\"33\"}]}\n",
    "}\"\"\""
   ],
   "metadata": {
    "collapsed": false,
    "ExecuteTime": {
     "start_time": "2023-04-11T14:53:51.117040Z",
     "end_time": "2023-04-11T14:53:51.132692Z"
    }
   }
  },
  {
   "cell_type": "code",
   "execution_count": 119,
   "outputs": [
    {
     "data": {
      "text/plain": "'{\"od\":{\"od\":\"202109291100\",\"od1\":\"青岛\",\"od2\":[{\"od21\":\"11\",\"od22\":\"23\",\"od23\":\"323\",\"od24\":\"西北风\",\"od25\":\"3\",\"od26\":\"0\",\"od27\":\"71\",\"od28\":\"\"},{\"od21\":\"10\",\"od22\":\"22\",\"od23\":\"332\",\"od24\":\"西北风\",\"od25\":\"3\",\"od26\":\"0.1\",\"od27\":\"75\",\"od28\":\"33\"}]}}'"
     },
     "execution_count": 119,
     "metadata": {},
     "output_type": "execute_result"
    }
   ],
   "source": [
    "dirt_1 = dirt_1.replace(\" \", \"\").replace(\"\\n\", \"\").replace(\"\\t\", \"\")\n",
    "dirt_1 = ''.join(dirt_1)\n",
    "dirt_1"
   ],
   "metadata": {
    "collapsed": false,
    "ExecuteTime": {
     "start_time": "2023-04-11T14:54:34.253939Z",
     "end_time": "2023-04-11T14:54:34.285221Z"
    }
   }
  },
  {
   "cell_type": "code",
   "execution_count": 77,
   "outputs": [
    {
     "data": {
      "text/plain": "'0'"
     },
     "execution_count": 77,
     "metadata": {},
     "output_type": "execute_result"
    }
   ],
   "source": [
    "data = js.loads(dirt_1)\n",
    "data[\"od\"][\"od2\"][0]['od26']"
   ],
   "metadata": {
    "collapsed": false,
    "ExecuteTime": {
     "start_time": "2023-04-11T13:18:00.050258Z",
     "end_time": "2023-04-11T13:18:00.081635Z"
    }
   }
  },
  {
   "cell_type": "code",
   "execution_count": 38,
   "outputs": [
    {
     "data": {
      "text/plain": "<Figure size 432x288 with 1 Axes>",
      "image/png": "[encoded data removed]"
     },
     "metadata": {
      "needs_background": "light"
     },
     "output_type": "display_data"
    }
   ],
   "source": [
    "import matplotlib.pyplot as plt\n",
    "import numpy as np\n",
    "\n",
    "t = np.linspace(0, 7 * np.pi, 1000)\n",
    "\n",
    "x = 16 * np.sin(t) ** 3\n",
    "y = -1 * (13 * np.cos(t) - 5 * np.cos(2 * t) - 2 * np.cos(3 * t) - np.cos(4 * t))\n",
    "\n",
    "plt.plot(x, y, color='red')\n",
    "plt.axis('equal')\n",
    "plt.axis('off')\n",
    "plt.show()"
   ],
   "metadata": {
    "collapsed": false,
    "ExecuteTime": {
     "start_time": "2023-04-22T09:35:26.077524Z",
     "end_time": "2023-04-22T09:35:26.155641Z"
    }
   }
  },
  {
   "cell_type": "code",
   "execution_count": 64,
   "outputs": [],
   "source": [
    "# %matplotlib inline\n",
    "# import numpy as np\n",
    "# import matplotlib.pyplot as plt\n",
    "# import matplotlib as mlt\n",
    "#\n",
    "#\n",
    "# x = np.arange(1, 0, -0.001)\n",
    "# y = (-3 * x * np.log(x) + np.exp(-(50 * (x - 1 / np.e)) ** 4) / 25) / 2\n",
    "# plt.figure(figsize=(5,7))\n",
    "# plt.plot(y, x, 'r-', linewidth=2)\n",
    "# plt.grid(True)\n",
    "# plt.show()"
   ],
   "metadata": {
    "collapsed": false,
    "ExecuteTime": {
     "start_time": "2023-04-22T10:26:21.533649Z",
     "end_time": "2023-04-22T10:26:21.580531Z"
    }
   }
  },
  {
   "cell_type": "code",
   "execution_count": 65,
   "outputs": [
    {
     "data": {
      "text/plain": "<Figure size 432x288 with 1 Axes>",
      "image/png": "[encoded data removed]"
     },
     "metadata": {
      "needs_background": "light"
     },
     "output_type": "display_data"
    }
   ],
   "source": [
    "import matplotlib.pyplot as plt\n",
    "import numpy as np\n",
    "\n",
    "t = np.linspace(0, 7 * np.pi, 1000)\n",
    "\n",
    "x = 16 * np.sin(t) ** 3\n",
    "y = 13 * np.cos(t) - 5 * np.cos(2 * t) - 2 * np.cos(3 * t) - np.cos(4 * t)\n",
    "\n",
    "plt.plot(x, y, color='red')\n",
    "plt.axis('equal')\n",
    "plt.axis('off')\n",
    "plt.show()\n"
   ],
   "metadata": {
    "collapsed": false,
    "ExecuteTime": {
     "start_time": "2023-04-22T10:26:37.301967Z",
     "end_time": "2023-04-22T10:26:37.386745Z"
    }
   }
  },
  {
   "cell_type": "code",
   "execution_count": 74,
   "outputs": [
    {
     "data": {
      "text/plain": "'1224'"
     },
     "execution_count": 74,
     "metadata": {},
     "output_type": "execute_result"
    }
   ],
   "source": [
    "l = [1, 2, 2, 4]\n",
    "l1 = ''.join(str(i) for i in l)\n",
    "l1"
   ],
   "metadata": {
    "collapsed": false,
    "ExecuteTime": {
     "start_time": "2023-04-22T10:56:38.033138Z",
     "end_time": "2023-04-22T10:56:38.095728Z"
    }
   }
  },
  {
   "cell_type": "code",
   "execution_count": 123,
   "outputs": [
    {
     "name": "stdout",
     "output_type": "stream",
     "text": [
      "21\n",
      "22\n",
      "23\n",
      "11\n",
      "22\n",
      "23\n",
      "22\n",
      "23\n",
      "12\n",
      "23\n",
      "23\n",
      "13\n"
     ]
    }
   ],
   "source": [
    "L = \"1122331\"\n",
    "for i in range(len(L)):\n",
    "    # print(f'这是第i:{i}个数{L[i]}')\n",
    "\n",
    "    for j in range(i + 1, len(L)):\n",
    "        if L[i] == L[j]:\n",
    "            continue\n",
    "        else:\n",
    "            # print(j-i)\n",
    "            S = str(j - i) + str(L[i])\n",
    "            i = j\n",
    "            print(S)\n",
    "        # if i == len(L)-1:\n",
    "        #     print(L[i])\n",
    "        #     break\n"
   ],
   "metadata": {
    "collapsed": false,
    "ExecuteTime": {
     "start_time": "2023-04-22T14:35:22.231449Z",
     "end_time": "2023-04-22T14:35:22.247077Z"
    }
   }
  },
  {
   "cell_type": "code",
   "execution_count": 176,
   "outputs": [
    {
     "name": "stdout",
     "output_type": "stream",
     "text": [
      "2112232214\n"
     ]
    }
   ],
   "source": [
    "L = \"11233224\"\n",
    "N = len(L)\n",
    "i = 0  #索引\n",
    "result = []\n",
    "shulie = []\n",
    "\n",
    "while i < N:\n",
    "    j = i + 1  #第二个数的索引\n",
    "    while j < N and L[j] == L[i]:     #判定第一个索引是否和第二个索引指向的数一样，如果不一样第二个索引向后移动一位\n",
    "        j += 1\n",
    "    count = j - i    #判断重复的数字出现了多少次\n",
    "    result.append(str(count) + L[i])  #向临时的列表中添加数字出现的次数和重复的数字\n",
    "    i = j\n",
    "shulie.append(''.join(result))      #将列表中的元素连结\n",
    "print(''.join(shulie))\n",
    "# result"
   ],
   "metadata": {
    "collapsed": false,
    "ExecuteTime": {
     "start_time": "2023-04-22T16:59:33.444470Z",
     "end_time": "2023-04-22T16:59:33.472069Z"
    }
   }
  },
  {
   "cell_type": "code",
   "execution_count": 190,
   "outputs": [
    {
     "name": "stdout",
     "output_type": "stream",
     "text": [
      "1\n"
     ]
    }
   ],
   "source": [
    "x = int(input('请输入第?个数列'))\n",
    "y = x\n",
    "L = \"1\"                            # 起始字符\n",
    "shulie = [\"1\"]                     #起始列表\n",
    "\n",
    "while x > 1:                       #判定循环次数\n",
    "    N = len(L)                     #字符串L的长度\n",
    "    i = 0                          #起始索引\n",
    "    result = \"\"                    #临时字符串\n",
    "    while i < N:                   #判断：当索引数小于字符串长度时\n",
    "        j = i + 1                  #将第二个索引指向起始索引后一位\n",
    "        while j < N and L[j] == L[i]:             #判断：当第二个索引小于字符长度，且两个索引指向的元素相同时\n",
    "            j += 1                                #将第二个索引后移一位\n",
    "        count = j - i                             #当两个索引指向元素不同时，计算前面元素重复出现的次数\n",
    "        result = result+str(count) + L[i]         #将临时的字符串更改为描述数列\n",
    "        i = j                                     #将索引位置重新指向\n",
    "    L = result                                    #上述循环中的描述数列替换L中的数列\n",
    "    shulie.append(result)\n",
    "    x = x - 1\n",
    "print(shulie[y-1])"
   ],
   "metadata": {
    "collapsed": false,
    "ExecuteTime": {
     "start_time": "2023-04-22T19:51:16.264307Z",
     "end_time": "2023-04-22T19:51:17.599872Z"
    }
   }
  },
  {
   "cell_type": "code",
   "execution_count": 147,
   "outputs": [
    {
     "data": {
      "text/plain": "4"
     },
     "execution_count": 147,
     "metadata": {},
     "output_type": "execute_result"
    }
   ],
   "source": [
    "# x = int(input('请输入第？个数列'))\n",
    "# shulie = [\"1\"]\n",
    "# while x > 0:\n",
    "#\n",
    "#     N = len(result[0])\n"
   ],
   "metadata": {
    "collapsed": false,
    "ExecuteTime": {
     "start_time": "2023-04-22T15:13:45.375189Z",
     "end_time": "2023-04-22T15:13:47.241279Z"
    }
   }
  },
  {
   "cell_type": "code",
   "execution_count": 168,
   "outputs": [
    {
     "data": {
      "text/plain": "str"
     },
     "execution_count": 168,
     "metadata": {},
     "output_type": "execute_result"
    }
   ],
   "source": [
    "def A005150(n):\n",
    "    p = \"1\"\n",
    "    seq = [1]\n",
    "    while (n > 1):\n",
    "        q = ''       #初始化临时字符\n",
    "        idx = 0  # 索引\n",
    "        l = len(p)  # 字符p的长度\n",
    "        while idx < l:    #当索引数小于字符p的长度时\n",
    "            start = idx     #第一个索引指向起始位置\n",
    "            idx = idx + 1   #第二个索引向后移动一位\n",
    "            while idx < l and p[idx] == p[start]:      #当索引数小于字符长度，且字符的两个索引指向的元素相同时\n",
    "                idx = idx + 1                          #第二个索引再次向后移动一位\n",
    "            q = q + str(idx-start) + p[start]          #当两个索引指向不同时，将重复元素出现的次数和重复元素连结\n",
    "        n, p = n - 1, q                                #循环判定，并且将起始字符替换为描述字符\n",
    "        seq.append(int(p))                             #将数列添加到列表中\n",
    "    return seq\n",
    "type(str(A005150(2)[1]))"
   ],
   "metadata": {
    "collapsed": false,
    "ExecuteTime": {
     "start_time": "2023-04-22T16:37:32.743964Z",
     "end_time": "2023-04-22T16:37:32.769991Z"
    }
   }
  }
 ],
 "metadata": {
  "kernelspec": {
   "display_name": "Python 3",
   "language": "python",
   "name": "python3"
  },
  "language_info": {
   "codemirror_mode": {
    "name": "ipython",
    "version": 2
   },
   "file_extension": ".py",
   "mimetype": "text/x-python",
   "name": "python",
   "nbconvert_exporter": "python",
   "pygments_lexer": "ipython2",
   "version": "2.7.6"
  }
 },
 "nbformat": 4,
 "nbformat_minor": 0
}
