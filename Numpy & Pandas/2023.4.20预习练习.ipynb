{
 "cells": [
  {
   "cell_type": "code",
   "execution_count": 16,
   "metadata": {
    "collapsed": true,
    "ExecuteTime": {
     "start_time": "2023-04-20T10:53:19.327420Z",
     "end_time": "2023-04-20T10:53:19.561308Z"
    }
   },
   "outputs": [],
   "source": [
    "import numpy as np\n",
    "import pandas as pd\n",
    "import matplotlib.pyplot as plt\n",
    "import pyecharts.options as opts\n",
    "from pyecharts.charts import Map\n",
    "%matplotlib inline"
   ]
  },
  {
   "cell_type": "code",
   "execution_count": 157,
   "outputs": [
    {
     "data": {
      "text/plain": "array(['浙江', '四川', '江苏', '广东', '江西', '陕西', '黑龙江', '山东', '上海', '河北', '福建',\n       '安徽', '甘肃', '吉林', '辽宁', '湖北', '河南', '湖南', '北京', '重庆', '青海', '广西',\n       '天津', '云南', '海南', '贵州', '山西', '内蒙古', '宁夏', '新疆', '西藏'],\n      dtype=object)"
     },
     "execution_count": 157,
     "metadata": {},
     "output_type": "execute_result"
    }
   ],
   "source": [
    "market = pd.read_excel('./data/超市.xlsx',index_col='行 ID')\n",
    "market.head()\n",
    "market['省/自治区'].unique()"
   ],
   "metadata": {
    "collapsed": false,
    "ExecuteTime": {
     "start_time": "2023-04-20T16:12:05.423057Z",
     "end_time": "2023-04-20T16:12:08.639907Z"
    }
   }
  },
  {
   "cell_type": "code",
   "execution_count": 36,
   "outputs": [
    {
     "data": {
      "text/plain": "      地区\n地区      \n东北  1666\n中南  2581\n华东  2944\n华北  1369\n西北   478\n西南   921",
      "text/html": "<div>\n<style scoped>\n    .dataframe tbody tr th:only-of-type {\n        vertical-align: middle;\n    }\n\n    .dataframe tbody tr th {\n        vertical-align: top;\n    }\n\n    .dataframe thead th {\n        text-align: right;\n    }\n</style>\n<table border=\"1\" class=\"dataframe\">\n  <thead>\n    <tr style=\"text-align: right;\">\n      <th></th>\n      <th>地区</th>\n    </tr>\n    <tr>\n      <th>地区</th>\n      <th></th>\n    </tr>\n  </thead>\n  <tbody>\n    <tr>\n      <th>东北</th>\n      <td>1666</td>\n    </tr>\n    <tr>\n      <th>中南</th>\n      <td>2581</td>\n    </tr>\n    <tr>\n      <th>华东</th>\n      <td>2944</td>\n    </tr>\n    <tr>\n      <th>华北</th>\n      <td>1369</td>\n    </tr>\n    <tr>\n      <th>西北</th>\n      <td>478</td>\n    </tr>\n    <tr>\n      <th>西南</th>\n      <td>921</td>\n    </tr>\n  </tbody>\n</table>\n</div>"
     },
     "execution_count": 36,
     "metadata": {},
     "output_type": "execute_result"
    }
   ],
   "source": [
    "market.groupby('地区').agg({'地区':'count'})"
   ],
   "metadata": {
    "collapsed": false,
    "ExecuteTime": {
     "start_time": "2023-04-20T13:06:58.166780Z",
     "end_time": "2023-04-20T13:06:58.213648Z"
    }
   }
  },
  {
   "cell_type": "code",
   "execution_count": 141,
   "outputs": [
    {
     "data": {
      "text/plain": "  省/自治区          销售额\n0    山东  1586782.988\n1    广东  1452929.513\n2   黑龙江  1178801.162\n3    辽宁   862569.736\n4    河南   853574.799",
      "text/html": "<div>\n<style scoped>\n    .dataframe tbody tr th:only-of-type {\n        vertical-align: middle;\n    }\n\n    .dataframe tbody tr th {\n        vertical-align: top;\n    }\n\n    .dataframe thead th {\n        text-align: right;\n    }\n</style>\n<table border=\"1\" class=\"dataframe\">\n  <thead>\n    <tr style=\"text-align: right;\">\n      <th></th>\n      <th>省/自治区</th>\n      <th>销售额</th>\n    </tr>\n  </thead>\n  <tbody>\n    <tr>\n      <th>0</th>\n      <td>山东</td>\n      <td>1586782.988</td>\n    </tr>\n    <tr>\n      <th>1</th>\n      <td>广东</td>\n      <td>1452929.513</td>\n    </tr>\n    <tr>\n      <th>2</th>\n      <td>黑龙江</td>\n      <td>1178801.162</td>\n    </tr>\n    <tr>\n      <th>3</th>\n      <td>辽宁</td>\n      <td>862569.736</td>\n    </tr>\n    <tr>\n      <th>4</th>\n      <td>河南</td>\n      <td>853574.799</td>\n    </tr>\n  </tbody>\n</table>\n</div>"
     },
     "execution_count": 141,
     "metadata": {},
     "output_type": "execute_result"
    }
   ],
   "source": [
    "#提取表格中所有省份的销售额综合并排序\n",
    "#.reset_index()函数用来重设新表格的行索引\n",
    "province = market[['省/自治区','销售额']].groupby('省/自治区').agg({'销售额':sum}).sort_values(by='销售额',ascending=False).reset_index()\n",
    "a=province.copy()\n",
    "a.head()"
   ],
   "metadata": {
    "collapsed": false,
    "ExecuteTime": {
     "start_time": "2023-04-20T15:07:37.646910Z",
     "end_time": "2023-04-20T15:07:37.664323Z"
    }
   }
  },
  {
   "cell_type": "code",
   "execution_count": 151,
   "outputs": [
    {
     "data": {
      "text/plain": "RangeIndex(start=0, stop=31, step=1)"
     },
     "execution_count": 151,
     "metadata": {},
     "output_type": "execute_result"
    }
   ],
   "source": [],
   "metadata": {
    "collapsed": false,
    "ExecuteTime": {
     "start_time": "2023-04-20T15:10:06.236254Z",
     "end_time": "2023-04-20T15:10:06.267497Z"
    }
   }
  },
  {
   "cell_type": "code",
   "execution_count": 23,
   "outputs": [
    {
     "name": "stdout",
     "output_type": "stream",
     "text": [
      "['山东', '广东', '黑龙江', '辽宁', '河南', '河北', '湖南', '江苏', '吉林', '安徽', '湖北', '上海', '天津', '福建', '陕西', '浙江', '山西', '北京', '四川', '广西', '重庆', '云南', '内蒙古', '江西', '甘肃', '海南', '贵州', '新疆', '宁夏', '青海', '西藏']\n",
      "[1586782.988, 1452929.513, 1178801.162, 862569.736, 853574.799, 790915.405, 723442.209, 649967.22, 640196.571, 628965.19, 621960.332, 582450.568, 549906.63, 546903.532, 457688.168, 452108.244, 423878.77, 409147.2, 400877.596, 377653.829, 361761.93200000003, 360925.768, 273453.012, 237328.7, 179270.028, 169256.843, 108141.6, 70097.02, 58121.0, 49863.38, 10015.18]\n"
     ]
    }
   ],
   "source": [
    "x_data = province['省/自治区'].tolist()\n",
    "y_data = province['销售额'].tolist()\n",
    "print(x_data)\n",
    "print(y_data)"
   ],
   "metadata": {
    "collapsed": false,
    "ExecuteTime": {
     "start_time": "2023-04-20T11:19:41.900660Z",
     "end_time": "2023-04-20T11:19:41.931904Z"
    }
   }
  },
  {
   "cell_type": "code",
   "execution_count": 26,
   "outputs": [],
   "source": [
    "userprovince_chart = (\n",
    "    Map()\n",
    "    .add('geo',[list(z) for z in zip(y_data, x_data)],\"china\")\n",
    "    .set_global_opts(\n",
    "        visualmap_opts=opts.VisualMapOpts(min_=province.iloc[:,-1].min(),max_=province.iloc[:,-1].max()\n",
    "        ,range_color=['lightyellow','orangered'],precision=2),title_opts=opts.TitleOpts('各省市销售额热力地图',pos_left='center'),legend_opts=opts.LegendOpts(is_show=False))\n",
    "    .set_series_opts(tooltip_opts=opts.TooltipOpts(formatter=\"{b}:{c}元\"))\n",
    "    .render(\"userprovince_chart.html\")\n",
    "    )\n",
    "\n",
    "# userprovince_chart.render_notebook()"
   ],
   "metadata": {
    "collapsed": false,
    "ExecuteTime": {
     "start_time": "2023-04-20T11:24:11.311934Z",
     "end_time": "2023-04-20T11:24:11.343371Z"
    }
   }
  },
  {
   "cell_type": "code",
   "execution_count": 20,
   "outputs": [],
   "source": [
    "from pyecharts import options as opts\n",
    "from pyecharts.charts import Geo\n",
    "from pyecharts.faker import Faker\n",
    "\n",
    "c = (\n",
    "    Geo()\n",
    "    .add_schema(maptype=\"china\")\n",
    "    .add(\"geo\", [list(z) for z in zip(Faker.provinces, Faker.values())])\n",
    "    .set_series_opts(label_opts=opts.LabelOpts(is_show=False))\n",
    "    .set_global_opts(\n",
    "        visualmap_opts=opts.VisualMapOpts(), title_opts=opts.TitleOpts(title=\"Geo-基本示例\")\n",
    "    )\n",
    "    .render(\"geo_base.html\")\n",
    ")\n"
   ],
   "metadata": {
    "collapsed": false,
    "ExecuteTime": {
     "start_time": "2023-04-20T11:18:02.688892Z",
     "end_time": "2023-04-20T11:18:03.343306Z"
    }
   }
  },
  {
   "cell_type": "code",
   "execution_count": 21,
   "outputs": [
    {
     "data": {
      "text/plain": "['广东省', '北京市', '上海市', '江西省', '湖南省', '浙江省', '江苏省']"
     },
     "execution_count": 21,
     "metadata": {},
     "output_type": "execute_result"
    }
   ],
   "source": [
    "Faker.provinces"
   ],
   "metadata": {
    "collapsed": false,
    "ExecuteTime": {
     "start_time": "2023-04-20T11:18:34.573111Z",
     "end_time": "2023-04-20T11:18:34.588738Z"
    }
   }
  },
  {
   "cell_type": "code",
   "execution_count": 22,
   "outputs": [
    {
     "data": {
      "text/plain": "[52, 86, 34, 145, 109, 108, 43]"
     },
     "execution_count": 22,
     "metadata": {},
     "output_type": "execute_result"
    }
   ],
   "source": [
    "Faker.values()"
   ],
   "metadata": {
    "collapsed": false,
    "ExecuteTime": {
     "start_time": "2023-04-20T11:18:43.025231Z",
     "end_time": "2023-04-20T11:18:43.056589Z"
    }
   }
  },
  {
   "cell_type": "code",
   "execution_count": 179,
   "outputs": [
    {
     "name": "stdout",
     "output_type": "stream",
     "text": [
      "True\n"
     ]
    }
   ],
   "source": [
    "x = 12321\n",
    "s = str(x)\n",
    "if s[::-1] == str(x):\n",
    "    print(True)\n",
    "else:\n",
    "    print(False)"
   ],
   "metadata": {
    "collapsed": false,
    "ExecuteTime": {
     "start_time": "2023-04-20T20:14:16.229429Z",
     "end_time": "2023-04-20T20:14:16.252479Z"
    }
   }
  }
 ],
 "metadata": {
  "kernelspec": {
   "display_name": "Python 3",
   "language": "python",
   "name": "python3"
  },
  "language_info": {
   "codemirror_mode": {
    "name": "ipython",
    "version": 2
   },
   "file_extension": ".py",
   "mimetype": "text/x-python",
   "name": "python",
   "nbconvert_exporter": "python",
   "pygments_lexer": "ipython2",
   "version": "2.7.6"
  }
 },
 "nbformat": 4,
 "nbformat_minor": 0
}
